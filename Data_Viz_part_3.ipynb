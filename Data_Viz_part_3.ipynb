{
 "cells": [
  {
   "cell_type": "code",
   "execution_count": 186,
   "metadata": {},
   "outputs": [
    {
     "name": "stdout",
     "output_type": "stream",
     "text": [
      "Requirement already satisfied: wbgapi in ./opt/anaconda3/lib/python3.9/site-packages (1.0.12)\n",
      "Requirement already satisfied: PyYAML in ./opt/anaconda3/lib/python3.9/site-packages (from wbgapi) (6.0)\n",
      "Requirement already satisfied: tabulate in ./opt/anaconda3/lib/python3.9/site-packages (from wbgapi) (0.8.9)\n",
      "Requirement already satisfied: requests in ./opt/anaconda3/lib/python3.9/site-packages (from wbgapi) (2.28.1)\n",
      "Requirement already satisfied: idna<4,>=2.5 in ./opt/anaconda3/lib/python3.9/site-packages (from requests->wbgapi) (3.3)\n",
      "Requirement already satisfied: urllib3<1.27,>=1.21.1 in ./opt/anaconda3/lib/python3.9/site-packages (from requests->wbgapi) (1.26.9)\n",
      "Requirement already satisfied: charset-normalizer<3,>=2 in ./opt/anaconda3/lib/python3.9/site-packages (from requests->wbgapi) (2.0.4)\n",
      "Requirement already satisfied: certifi>=2017.4.17 in ./opt/anaconda3/lib/python3.9/site-packages (from requests->wbgapi) (2021.10.8)\n",
      "Note: you may need to restart the kernel to use updated packages.\n"
     ]
    }
   ],
   "source": [
    "#pip install wbgapi"
   ]
  },
  {
   "cell_type": "code",
   "execution_count": 187,
   "metadata": {},
   "outputs": [
    {
     "name": "stdout",
     "output_type": "stream",
     "text": [
      "Requirement already satisfied: plotly in ./opt/anaconda3/lib/python3.9/site-packages (5.6.0)\n",
      "Requirement already satisfied: tenacity>=6.2.0 in ./opt/anaconda3/lib/python3.9/site-packages (from plotly) (8.0.1)\n",
      "Requirement already satisfied: six in ./opt/anaconda3/lib/python3.9/site-packages (from plotly) (1.16.0)\n",
      "Note: you may need to restart the kernel to use updated packages.\n"
     ]
    }
   ],
   "source": [
    "#pip install plotly "
   ]
  },
  {
   "cell_type": "code",
   "execution_count": 188,
   "metadata": {},
   "outputs": [
    {
     "name": "stdout",
     "output_type": "stream",
     "text": [
      "Requirement already satisfied: chart_studio in ./opt/anaconda3/lib/python3.9/site-packages (1.1.0)\n",
      "Requirement already satisfied: six in ./opt/anaconda3/lib/python3.9/site-packages (from chart_studio) (1.16.0)\n",
      "Requirement already satisfied: requests in ./opt/anaconda3/lib/python3.9/site-packages (from chart_studio) (2.28.1)\n",
      "Requirement already satisfied: retrying>=1.3.3 in ./opt/anaconda3/lib/python3.9/site-packages (from chart_studio) (1.3.4)\n",
      "Requirement already satisfied: plotly in ./opt/anaconda3/lib/python3.9/site-packages (from chart_studio) (5.6.0)\n",
      "Requirement already satisfied: tenacity>=6.2.0 in ./opt/anaconda3/lib/python3.9/site-packages (from plotly->chart_studio) (8.0.1)\n",
      "Requirement already satisfied: certifi>=2017.4.17 in ./opt/anaconda3/lib/python3.9/site-packages (from requests->chart_studio) (2021.10.8)\n",
      "Requirement already satisfied: urllib3<1.27,>=1.21.1 in ./opt/anaconda3/lib/python3.9/site-packages (from requests->chart_studio) (1.26.9)\n",
      "Requirement already satisfied: charset-normalizer<3,>=2 in ./opt/anaconda3/lib/python3.9/site-packages (from requests->chart_studio) (2.0.4)\n",
      "Requirement already satisfied: idna<4,>=2.5 in ./opt/anaconda3/lib/python3.9/site-packages (from requests->chart_studio) (3.3)\n",
      "Note: you may need to restart the kernel to use updated packages.\n"
     ]
    }
   ],
   "source": [
    "#pip install chart_studio"
   ]
  },
  {
   "cell_type": "markdown",
   "metadata": {},
   "source": [
    "### Importing Libraries"
   ]
  },
  {
   "cell_type": "code",
   "execution_count": 189,
   "metadata": {},
   "outputs": [],
   "source": [
    "import wbgapi as wb\n",
    "import pandas as pd\n",
    "import numpy as np\n",
    "import matplotlib.pyplot as plt\n",
    "%matplotlib inline\n",
    "import ipywidgets as widgets"
   ]
  },
  {
   "cell_type": "markdown",
   "metadata": {},
   "source": [
    "### Getting Data From World Bank Data through API"
   ]
  },
  {
   "cell_type": "code",
   "execution_count": 190,
   "metadata": {},
   "outputs": [],
   "source": [
    "data =  wb.source.info()\n"
   ]
  },
  {
   "cell_type": "code",
   "execution_count": 191,
   "metadata": {
    "scrolled": true
   },
   "outputs": [],
   "source": [
    "s = wb.series.info()\n"
   ]
  },
  {
   "cell_type": "code",
   "execution_count": 192,
   "metadata": {},
   "outputs": [],
   "source": [
    "# Exploring Data import with trial indicators\n",
    "electricity_access = \"EG.ELC.ACCS.ZS\"\n",
    "electricity_production_ex_hydro = \"EG.ELC.RNWX.KH\"\n",
    "\n",
    "countries = [\"CAN\", \"CHI\", \"CRI\", \"DEU\", \"GBR\", \"IND\", \"JPN\", \"NZL\", \"USA\", \"BRA\"]"
   ]
  },
  {
   "cell_type": "code",
   "execution_count": 193,
   "metadata": {},
   "outputs": [
    {
     "data": {
      "text/html": [
       "<div>\n",
       "<style scoped>\n",
       "    .dataframe tbody tr th:only-of-type {\n",
       "        vertical-align: middle;\n",
       "    }\n",
       "\n",
       "    .dataframe tbody tr th {\n",
       "        vertical-align: top;\n",
       "    }\n",
       "\n",
       "    .dataframe thead th {\n",
       "        text-align: right;\n",
       "    }\n",
       "</style>\n",
       "<table border=\"1\" class=\"dataframe\">\n",
       "  <thead>\n",
       "    <tr style=\"text-align: right;\">\n",
       "      <th></th>\n",
       "      <th>EG.ELC.ACCS.ZS</th>\n",
       "      <th>EG.ELC.RNWX.KH</th>\n",
       "    </tr>\n",
       "    <tr>\n",
       "      <th>economy</th>\n",
       "      <th></th>\n",
       "      <th></th>\n",
       "    </tr>\n",
       "  </thead>\n",
       "  <tbody>\n",
       "    <tr>\n",
       "      <th>BRA</th>\n",
       "      <td>99.710899</td>\n",
       "      <td>7.048700e+10</td>\n",
       "    </tr>\n",
       "    <tr>\n",
       "      <th>CAN</th>\n",
       "      <td>100.000000</td>\n",
       "      <td>4.203700e+10</td>\n",
       "    </tr>\n",
       "    <tr>\n",
       "      <th>CHI</th>\n",
       "      <td>100.000000</td>\n",
       "      <td>NaN</td>\n",
       "    </tr>\n",
       "    <tr>\n",
       "      <th>CRI</th>\n",
       "      <td>99.409805</td>\n",
       "      <td>2.637000e+09</td>\n",
       "    </tr>\n",
       "    <tr>\n",
       "      <th>DEU</th>\n",
       "      <td>100.000000</td>\n",
       "      <td>1.683890e+11</td>\n",
       "    </tr>\n",
       "    <tr>\n",
       "      <th>GBR</th>\n",
       "      <td>100.000000</td>\n",
       "      <td>7.726200e+10</td>\n",
       "    </tr>\n",
       "    <tr>\n",
       "      <th>IND</th>\n",
       "      <td>88.000000</td>\n",
       "      <td>7.414300e+10</td>\n",
       "    </tr>\n",
       "    <tr>\n",
       "      <th>JPN</th>\n",
       "      <td>100.000000</td>\n",
       "      <td>8.029200e+10</td>\n",
       "    </tr>\n",
       "    <tr>\n",
       "      <th>NZL</th>\n",
       "      <td>100.000000</td>\n",
       "      <td>1.086500e+10</td>\n",
       "    </tr>\n",
       "    <tr>\n",
       "      <th>USA</th>\n",
       "      <td>100.000000</td>\n",
       "      <td>3.174210e+11</td>\n",
       "    </tr>\n",
       "  </tbody>\n",
       "</table>\n",
       "</div>"
      ],
      "text/plain": [
       "         EG.ELC.ACCS.ZS  EG.ELC.RNWX.KH\n",
       "economy                                \n",
       "BRA           99.710899    7.048700e+10\n",
       "CAN          100.000000    4.203700e+10\n",
       "CHI          100.000000             NaN\n",
       "CRI           99.409805    2.637000e+09\n",
       "DEU          100.000000    1.683890e+11\n",
       "GBR          100.000000    7.726200e+10\n",
       "IND           88.000000    7.414300e+10\n",
       "JPN          100.000000    8.029200e+10\n",
       "NZL          100.000000    1.086500e+10\n",
       "USA          100.000000    3.174210e+11"
      ]
     },
     "execution_count": 193,
     "metadata": {},
     "output_type": "execute_result"
    }
   ],
   "source": [
    "df1 = wb.data.DataFrame([\"EG.ELC.ACCS.ZS\", \"EG.ELC.RNWX.KH\"], [\"CAN\", \"CHI\", \"CRI\", \"DEU\", \"GBR\", \"IND\", \"JPN\", \"NZL\", \"USA\", \"BRA\"], time = 2015, columns = 'series')\n",
    "df1"
   ]
  },
  {
   "cell_type": "code",
   "execution_count": 194,
   "metadata": {},
   "outputs": [],
   "source": [
    "df1.columns = [\"Ececltricity Access %\", \"Renewable electricity excluding Hydro\"]"
   ]
  },
  {
   "cell_type": "code",
   "execution_count": null,
   "metadata": {},
   "outputs": [],
   "source": []
  },
  {
   "cell_type": "code",
   "execution_count": 195,
   "metadata": {
    "scrolled": false
   },
   "outputs": [
    {
     "data": {
      "text/html": [
       "<div class=\"wbgapi\"><table>\n",
       "<thead>\n",
       "<tr><th>id                  </th><th>value                                                                    </th></tr>\n",
       "</thead>\n",
       "<tbody>\n",
       "<tr><td>EG.GDP.PUSE.KO.PP   </td><td>GDP per unit of energy use (PPP $ per kg of oil equivalent)              </td></tr>\n",
       "<tr><td>EG.GDP.PUSE.KO.PP.KD</td><td>GDP per unit of energy use (constant 2017 PPP $ per kg of oil equivalent)</td></tr>\n",
       "<tr><td>EG.USE.COMM.GD.PP.KD</td><td>Energy use (kg of oil equivalent) per $1,000 GDP (constant 2017 PPP)     </td></tr>\n",
       "<tr><td>NY.GDP.DEFL.KD.ZG   </td><td>Inflation, GDP deflator (annual %)                                       </td></tr>\n",
       "<tr><td>NY.GDP.DEFL.KD.ZG.AD</td><td>Inflation, GDP deflator: linked series (annual %)                        </td></tr>\n",
       "<tr><td>NY.GDP.DEFL.ZS      </td><td>GDP deflator (base year varies by country)                               </td></tr>\n",
       "<tr><td>NY.GDP.DEFL.ZS.AD   </td><td>GDP deflator: linked series (base year varies by country)                </td></tr>\n",
       "<tr><td>NY.GDP.DISC.CN      </td><td>Discrepancy in expenditure estimate of GDP (current LCU)                 </td></tr>\n",
       "<tr><td>NY.GDP.DISC.KN      </td><td>Discrepancy in expenditure estimate of GDP (constant LCU)                </td></tr>\n",
       "<tr><td>NY.GDP.MKTP.CD      </td><td>GDP (current US$)                                                        </td></tr>\n",
       "<tr><td>NY.GDP.MKTP.CN      </td><td>GDP (current LCU)                                                        </td></tr>\n",
       "<tr><td>NY.GDP.MKTP.CN.AD   </td><td>GDP: linked series (current LCU)                                         </td></tr>\n",
       "<tr><td>NY.GDP.MKTP.KD      </td><td>GDP (constant 2015 US$)                                                  </td></tr>\n",
       "<tr><td>NY.GDP.MKTP.KD.ZG   </td><td>GDP growth (annual %)                                                    </td></tr>\n",
       "<tr><td>NY.GDP.MKTP.KN      </td><td>GDP (constant LCU)                                                       </td></tr>\n",
       "<tr><td>NY.GDP.MKTP.PP.CD   </td><td>GDP, PPP (current international $)                                       </td></tr>\n",
       "<tr><td>NY.GDP.MKTP.PP.KD   </td><td>GDP, PPP (constant 2017 international $)                                 </td></tr>\n",
       "<tr><td>NY.GDP.PCAP.CD      </td><td>GDP per capita (current US$)                                             </td></tr>\n",
       "<tr><td>NY.GDP.PCAP.CN      </td><td>GDP per capita (current LCU)                                             </td></tr>\n",
       "<tr><td>NY.GDP.PCAP.KD      </td><td>GDP per capita (constant 2015 US$)                                       </td></tr>\n",
       "<tr><td>NY.GDP.PCAP.KD.ZG   </td><td>GDP per capita growth (annual %)                                         </td></tr>\n",
       "<tr><td>NY.GDP.PCAP.KN      </td><td>GDP per capita (constant LCU)                                            </td></tr>\n",
       "<tr><td>NY.GDP.PCAP.PP.CD   </td><td>GDP per capita, PPP (current international $)                            </td></tr>\n",
       "<tr><td>NY.GDP.PCAP.PP.KD   </td><td>GDP per capita, PPP (constant 2017 international $)                      </td></tr>\n",
       "<tr><td>PA.NUS.PPP          </td><td>PPP conversion factor, GDP (LCU per international $)                     </td></tr>\n",
       "<tr><td>PA.NUS.PPPC.RF      </td><td>Price level ratio of PPP conversion factor (GDP) to market exchange rate </td></tr>\n",
       "<tr><td>SL.GDP.PCAP.EM.KD   </td><td>GDP per person employed (constant 2017 PPP $)                            </td></tr>\n",
       "<tr><td>                    </td><td>27 elements                                                              </td></tr>\n",
       "</tbody>\n",
       "</table></div>"
      ],
      "text/plain": [
       "id                    value\n",
       "--------------------  -------------------------------------------------------------------------\n",
       "EG.GDP.PUSE.KO.PP     GDP per unit of energy use (PPP $ per kg of oil equivalent)\n",
       "EG.GDP.PUSE.KO.PP.KD  GDP per unit of energy use (constant 2017 PPP $ per kg of oil equivalent)\n",
       "EG.USE.COMM.GD.PP.KD  Energy use (kg of oil equivalent) per $1,000 GDP (constant 2017 PPP)\n",
       "NY.GDP.DEFL.KD.ZG     Inflation, GDP deflator (annual %)\n",
       "NY.GDP.DEFL.KD.ZG.AD  Inflation, GDP deflator: linked series (annual %)\n",
       "NY.GDP.DEFL.ZS        GDP deflator (base year varies by country)\n",
       "NY.GDP.DEFL.ZS.AD     GDP deflator: linked series (base year varies by country)\n",
       "NY.GDP.DISC.CN        Discrepancy in expenditure estimate of GDP (current LCU)\n",
       "NY.GDP.DISC.KN        Discrepancy in expenditure estimate of GDP (constant LCU)\n",
       "NY.GDP.MKTP.CD        GDP (current US$)\n",
       "NY.GDP.MKTP.CN        GDP (current LCU)\n",
       "NY.GDP.MKTP.CN.AD     GDP: linked series (current LCU)\n",
       "NY.GDP.MKTP.KD        GDP (constant 2015 US$)\n",
       "NY.GDP.MKTP.KD.ZG     GDP growth (annual %)\n",
       "NY.GDP.MKTP.KN        GDP (constant LCU)\n",
       "NY.GDP.MKTP.PP.CD     GDP, PPP (current international $)\n",
       "NY.GDP.MKTP.PP.KD     GDP, PPP (constant 2017 international $)\n",
       "NY.GDP.PCAP.CD        GDP per capita (current US$)\n",
       "NY.GDP.PCAP.CN        GDP per capita (current LCU)\n",
       "NY.GDP.PCAP.KD        GDP per capita (constant 2015 US$)\n",
       "NY.GDP.PCAP.KD.ZG     GDP per capita growth (annual %)\n",
       "NY.GDP.PCAP.KN        GDP per capita (constant LCU)\n",
       "NY.GDP.PCAP.PP.CD     GDP per capita, PPP (current international $)\n",
       "NY.GDP.PCAP.PP.KD     GDP per capita, PPP (constant 2017 international $)\n",
       "PA.NUS.PPP            PPP conversion factor, GDP (LCU per international $)\n",
       "PA.NUS.PPPC.RF        Price level ratio of PPP conversion factor (GDP) to market exchange rate\n",
       "SL.GDP.PCAP.EM.KD     GDP per person employed (constant 2017 PPP $)\n",
       "                      27 elements"
      ]
     },
     "execution_count": 195,
     "metadata": {},
     "output_type": "execute_result"
    }
   ],
   "source": [
    "#trying the query function for easy ID retrieval\n",
    "wb.series.info(q='gdp')"
   ]
  },
  {
   "cell_type": "code",
   "execution_count": 196,
   "metadata": {},
   "outputs": [
    {
     "data": {
      "text/html": [
       "<div>\n",
       "<style scoped>\n",
       "    .dataframe tbody tr th:only-of-type {\n",
       "        vertical-align: middle;\n",
       "    }\n",
       "\n",
       "    .dataframe tbody tr th {\n",
       "        vertical-align: top;\n",
       "    }\n",
       "\n",
       "    .dataframe thead th {\n",
       "        text-align: right;\n",
       "    }\n",
       "</style>\n",
       "<table border=\"1\" class=\"dataframe\">\n",
       "  <thead>\n",
       "    <tr style=\"text-align: right;\">\n",
       "      <th></th>\n",
       "      <th>economy</th>\n",
       "      <th>time</th>\n",
       "      <th>NY.GDP.PCAP.CD</th>\n",
       "      <th>SE.XPD.TOTL.GB.ZS</th>\n",
       "      <th>SH.XPD.CHEX.PC.CD</th>\n",
       "      <th>SH.XPD.GHED.PC.CD</th>\n",
       "      <th>SH.XPD.PVTD.PC.CD</th>\n",
       "      <th>SP.DYN.LE00.IN</th>\n",
       "      <th>SP.POP.TOTL</th>\n",
       "    </tr>\n",
       "  </thead>\n",
       "  <tbody>\n",
       "    <tr>\n",
       "      <th>0</th>\n",
       "      <td>BRA</td>\n",
       "      <td>YR2000</td>\n",
       "      <td>3749.910848</td>\n",
       "      <td>11.45216</td>\n",
       "      <td>312.539276</td>\n",
       "      <td>130.127461</td>\n",
       "      <td>181.417326</td>\n",
       "      <td>70.116000</td>\n",
       "      <td>174790339.0</td>\n",
       "    </tr>\n",
       "    <tr>\n",
       "      <th>1</th>\n",
       "      <td>BRA</td>\n",
       "      <td>YR2003</td>\n",
       "      <td>3070.436419</td>\n",
       "      <td>NaN</td>\n",
       "      <td>251.437942</td>\n",
       "      <td>107.758362</td>\n",
       "      <td>143.184478</td>\n",
       "      <td>71.170000</td>\n",
       "      <td>181809244.0</td>\n",
       "    </tr>\n",
       "    <tr>\n",
       "      <th>2</th>\n",
       "      <td>BRA</td>\n",
       "      <td>YR2006</td>\n",
       "      <td>5886.391522</td>\n",
       "      <td>12.42637</td>\n",
       "      <td>485.599335</td>\n",
       "      <td>208.455149</td>\n",
       "      <td>276.628872</td>\n",
       "      <td>72.260000</td>\n",
       "      <td>188167353.0</td>\n",
       "    </tr>\n",
       "    <tr>\n",
       "      <th>3</th>\n",
       "      <td>BRA</td>\n",
       "      <td>YR2009</td>\n",
       "      <td>8597.794335</td>\n",
       "      <td>14.72636</td>\n",
       "      <td>721.768005</td>\n",
       "      <td>318.756316</td>\n",
       "      <td>401.935627</td>\n",
       "      <td>73.300000</td>\n",
       "      <td>193886505.0</td>\n",
       "    </tr>\n",
       "    <tr>\n",
       "      <th>4</th>\n",
       "      <td>BRA</td>\n",
       "      <td>YR2012</td>\n",
       "      <td>12370.223255</td>\n",
       "      <td>15.72778</td>\n",
       "      <td>957.007080</td>\n",
       "      <td>414.975580</td>\n",
       "      <td>540.839382</td>\n",
       "      <td>74.209000</td>\n",
       "      <td>199287292.0</td>\n",
       "    </tr>\n",
       "    <tr>\n",
       "      <th>...</th>\n",
       "      <td>...</td>\n",
       "      <td>...</td>\n",
       "      <td>...</td>\n",
       "      <td>...</td>\n",
       "      <td>...</td>\n",
       "      <td>...</td>\n",
       "      <td>...</td>\n",
       "      <td>...</td>\n",
       "      <td>...</td>\n",
       "    </tr>\n",
       "    <tr>\n",
       "      <th>65</th>\n",
       "      <td>USA</td>\n",
       "      <td>YR2006</td>\n",
       "      <td>46302.000880</td>\n",
       "      <td>NaN</td>\n",
       "      <td>6828.615723</td>\n",
       "      <td>3159.012788</td>\n",
       "      <td>3669.603185</td>\n",
       "      <td>77.687805</td>\n",
       "      <td>298379912.0</td>\n",
       "    </tr>\n",
       "    <tr>\n",
       "      <th>66</th>\n",
       "      <td>USA</td>\n",
       "      <td>YR2009</td>\n",
       "      <td>47194.943355</td>\n",
       "      <td>NaN</td>\n",
       "      <td>7657.559082</td>\n",
       "      <td>3714.851415</td>\n",
       "      <td>3942.707305</td>\n",
       "      <td>78.390244</td>\n",
       "      <td>306771529.0</td>\n",
       "    </tr>\n",
       "    <tr>\n",
       "      <th>67</th>\n",
       "      <td>USA</td>\n",
       "      <td>YR2012</td>\n",
       "      <td>51784.418574</td>\n",
       "      <td>NaN</td>\n",
       "      <td>8342.580078</td>\n",
       "      <td>4074.731279</td>\n",
       "      <td>4267.848607</td>\n",
       "      <td>78.741463</td>\n",
       "      <td>313877662.0</td>\n",
       "    </tr>\n",
       "    <tr>\n",
       "      <th>68</th>\n",
       "      <td>USA</td>\n",
       "      <td>YR2015</td>\n",
       "      <td>56762.729452</td>\n",
       "      <td>13.54564</td>\n",
       "      <td>9392.066406</td>\n",
       "      <td>4804.292251</td>\n",
       "      <td>4587.773689</td>\n",
       "      <td>78.690244</td>\n",
       "      <td>320738994.0</td>\n",
       "    </tr>\n",
       "    <tr>\n",
       "      <th>69</th>\n",
       "      <td>USA</td>\n",
       "      <td>YR2018</td>\n",
       "      <td>62805.253758</td>\n",
       "      <td>13.14618</td>\n",
       "      <td>10515.323242</td>\n",
       "      <td>5338.817901</td>\n",
       "      <td>5176.505356</td>\n",
       "      <td>78.639024</td>\n",
       "      <td>326838199.0</td>\n",
       "    </tr>\n",
       "  </tbody>\n",
       "</table>\n",
       "<p>70 rows × 9 columns</p>\n",
       "</div>"
      ],
      "text/plain": [
       "   economy    time  NY.GDP.PCAP.CD  SE.XPD.TOTL.GB.ZS  SH.XPD.CHEX.PC.CD  \\\n",
       "0      BRA  YR2000     3749.910848           11.45216         312.539276   \n",
       "1      BRA  YR2003     3070.436419                NaN         251.437942   \n",
       "2      BRA  YR2006     5886.391522           12.42637         485.599335   \n",
       "3      BRA  YR2009     8597.794335           14.72636         721.768005   \n",
       "4      BRA  YR2012    12370.223255           15.72778         957.007080   \n",
       "..     ...     ...             ...                ...                ...   \n",
       "65     USA  YR2006    46302.000880                NaN        6828.615723   \n",
       "66     USA  YR2009    47194.943355                NaN        7657.559082   \n",
       "67     USA  YR2012    51784.418574                NaN        8342.580078   \n",
       "68     USA  YR2015    56762.729452           13.54564        9392.066406   \n",
       "69     USA  YR2018    62805.253758           13.14618       10515.323242   \n",
       "\n",
       "    SH.XPD.GHED.PC.CD  SH.XPD.PVTD.PC.CD  SP.DYN.LE00.IN  SP.POP.TOTL  \n",
       "0          130.127461         181.417326       70.116000  174790339.0  \n",
       "1          107.758362         143.184478       71.170000  181809244.0  \n",
       "2          208.455149         276.628872       72.260000  188167353.0  \n",
       "3          318.756316         401.935627       73.300000  193886505.0  \n",
       "4          414.975580         540.839382       74.209000  199287292.0  \n",
       "..                ...                ...             ...          ...  \n",
       "65        3159.012788        3669.603185       77.687805  298379912.0  \n",
       "66        3714.851415        3942.707305       78.390244  306771529.0  \n",
       "67        4074.731279        4267.848607       78.741463  313877662.0  \n",
       "68        4804.292251        4587.773689       78.690244  320738994.0  \n",
       "69        5338.817901        5176.505356       78.639024  326838199.0  \n",
       "\n",
       "[70 rows x 9 columns]"
      ]
     },
     "execution_count": 196,
     "metadata": {},
     "output_type": "execute_result"
    }
   ],
   "source": [
    "#Trial target Dataframe\n",
    "df2 = wb.data.DataFrame([\"NY.GDP.PCAP.CD\", \"SH.XPD.CHEX.PC.CD\", \"SH.XPD.GHED.PC.CD\", \"SH.XPD.PVTD.PC.CD\", \"SP.POP.TOTL\", \"SP.DYN.LE00.IN\", \"SE.XPD.TOTL.GB.ZS\"], [\"CAN\", \"CHI\", \"CRI\", \"DEU\", \"GBR\", \"IND\", \"JPN\", \"NZL\", \"USA\", \"BRA\"], range(2000, 2021, 3), columns = 'series').reset_index()\n",
    "df2"
   ]
  },
  {
   "cell_type": "code",
   "execution_count": 197,
   "metadata": {},
   "outputs": [],
   "source": [
    "#Removing null/missing values\n",
    "df2.dropna(inplace=True)"
   ]
  },
  {
   "cell_type": "code",
   "execution_count": 198,
   "metadata": {},
   "outputs": [
    {
     "data": {
      "text/plain": [
       "economy              0\n",
       "time                 0\n",
       "NY.GDP.PCAP.CD       0\n",
       "SE.XPD.TOTL.GB.ZS    0\n",
       "SH.XPD.CHEX.PC.CD    0\n",
       "SH.XPD.GHED.PC.CD    0\n",
       "SH.XPD.PVTD.PC.CD    0\n",
       "SP.DYN.LE00.IN       0\n",
       "SP.POP.TOTL          0\n",
       "dtype: int64"
      ]
     },
     "execution_count": 198,
     "metadata": {},
     "output_type": "execute_result"
    }
   ],
   "source": [
    "df2.isnull().sum()"
   ]
  },
  {
   "cell_type": "code",
   "execution_count": 199,
   "metadata": {},
   "outputs": [],
   "source": [
    "#Renaiming the columns\n",
    "df2.columns= [\"Country\", \"Year\", \"GDP per capita\", \"Current health expenditure per capita\", \"Domestic general government health expenditure per capita\", \"Domestic private health expenditure per capita\", \"Population\", \"Life expectancy at birth, total (years)\", \"Government expenditure on education\"]"
   ]
  },
  {
   "cell_type": "code",
   "execution_count": 200,
   "metadata": {},
   "outputs": [],
   "source": [
    "#renaming Country from Country code to Country Name\n",
    "df2['Country'] = df2['Country'].replace(['BRA', 'CAN', 'CRI', 'DEU', 'GBR', 'IND', 'NZL', 'USA'],['Brazil', 'Canada', 'Costa Rica', 'Germany', 'United Kingdom', 'India', 'New Zealand', 'United States'])"
   ]
  },
  {
   "cell_type": "markdown",
   "metadata": {},
   "source": [
    "### Importing Plotly for User Controllable Visualizations"
   ]
  },
  {
   "cell_type": "code",
   "execution_count": 201,
   "metadata": {},
   "outputs": [],
   "source": [
    "import plotly\n",
    "import chart_studio.plotly as py\n",
    "from chart_studio.grid_objs import Grid, Column\n",
    "import plotly.figure_factory as ff\n",
    "import plotly.graph_objects as go\n",
    "import plotly.express as px"
   ]
  },
  {
   "cell_type": "markdown",
   "metadata": {},
   "source": [
    "### Countries DataFrame"
   ]
  },
  {
   "cell_type": "code",
   "execution_count": 202,
   "metadata": {},
   "outputs": [
    {
     "data": {
      "text/html": [
       "<div>\n",
       "<style scoped>\n",
       "    .dataframe tbody tr th:only-of-type {\n",
       "        vertical-align: middle;\n",
       "    }\n",
       "\n",
       "    .dataframe tbody tr th {\n",
       "        vertical-align: top;\n",
       "    }\n",
       "\n",
       "    .dataframe thead th {\n",
       "        text-align: right;\n",
       "    }\n",
       "</style>\n",
       "<table border=\"1\" class=\"dataframe\">\n",
       "  <thead>\n",
       "    <tr style=\"text-align: right;\">\n",
       "      <th></th>\n",
       "      <th>economy</th>\n",
       "      <th>Country Name</th>\n",
       "      <th>Region</th>\n",
       "    </tr>\n",
       "  </thead>\n",
       "  <tbody>\n",
       "    <tr>\n",
       "      <th>0</th>\n",
       "      <td>ABW</td>\n",
       "      <td>Aruba</td>\n",
       "      <td>LCN</td>\n",
       "    </tr>\n",
       "    <tr>\n",
       "      <th>1</th>\n",
       "      <td>AFE</td>\n",
       "      <td>Africa Eastern and Southern</td>\n",
       "      <td></td>\n",
       "    </tr>\n",
       "    <tr>\n",
       "      <th>2</th>\n",
       "      <td>AFG</td>\n",
       "      <td>Afghanistan</td>\n",
       "      <td>SAS</td>\n",
       "    </tr>\n",
       "    <tr>\n",
       "      <th>3</th>\n",
       "      <td>AFW</td>\n",
       "      <td>Africa Western and Central</td>\n",
       "      <td></td>\n",
       "    </tr>\n",
       "    <tr>\n",
       "      <th>4</th>\n",
       "      <td>AGO</td>\n",
       "      <td>Angola</td>\n",
       "      <td>SSF</td>\n",
       "    </tr>\n",
       "    <tr>\n",
       "      <th>...</th>\n",
       "      <td>...</td>\n",
       "      <td>...</td>\n",
       "      <td>...</td>\n",
       "    </tr>\n",
       "    <tr>\n",
       "      <th>261</th>\n",
       "      <td>XKX</td>\n",
       "      <td>Kosovo</td>\n",
       "      <td>ECS</td>\n",
       "    </tr>\n",
       "    <tr>\n",
       "      <th>262</th>\n",
       "      <td>YEM</td>\n",
       "      <td>Yemen, Rep.</td>\n",
       "      <td>MEA</td>\n",
       "    </tr>\n",
       "    <tr>\n",
       "      <th>263</th>\n",
       "      <td>ZAF</td>\n",
       "      <td>South Africa</td>\n",
       "      <td>SSF</td>\n",
       "    </tr>\n",
       "    <tr>\n",
       "      <th>264</th>\n",
       "      <td>ZMB</td>\n",
       "      <td>Zambia</td>\n",
       "      <td>SSF</td>\n",
       "    </tr>\n",
       "    <tr>\n",
       "      <th>265</th>\n",
       "      <td>ZWE</td>\n",
       "      <td>Zimbabwe</td>\n",
       "      <td>SSF</td>\n",
       "    </tr>\n",
       "  </tbody>\n",
       "</table>\n",
       "<p>266 rows × 3 columns</p>\n",
       "</div>"
      ],
      "text/plain": [
       "    economy                 Country Name Region\n",
       "0       ABW                        Aruba    LCN\n",
       "1       AFE  Africa Eastern and Southern       \n",
       "2       AFG                  Afghanistan    SAS\n",
       "3       AFW   Africa Western and Central       \n",
       "4       AGO                       Angola    SSF\n",
       "..      ...                          ...    ...\n",
       "261     XKX                       Kosovo    ECS\n",
       "262     YEM                  Yemen, Rep.    MEA\n",
       "263     ZAF                 South Africa    SSF\n",
       "264     ZMB                       Zambia    SSF\n",
       "265     ZWE                     Zimbabwe    SSF\n",
       "\n",
       "[266 rows x 3 columns]"
      ]
     },
     "execution_count": 202,
     "metadata": {},
     "output_type": "execute_result"
    }
   ],
   "source": [
    "df = wb.economy.DataFrame(skipAggs = False).reset_index()\n",
    "#df.drop([\"aggregate\", \"longitude\", \"latitude\", \"adminregion\", \"lendingType\", \"incomeLevel\", \"capitalCity\"])\n",
    "x = pd.DataFrame(df)\n",
    "x = x.drop(['aggregate', \"longitude\", \"latitude\", \"adminregion\", \"lendingType\", \"incomeLevel\", \"capitalCity\"], axis=1)\n",
    "x.columns = [\"economy\", \"Country Name\", \"Region\"]\n",
    "x"
   ]
  },
  {
   "cell_type": "markdown",
   "metadata": {},
   "source": [
    "### Target Dataset"
   ]
  },
  {
   "cell_type": "code",
   "execution_count": 203,
   "metadata": {},
   "outputs": [],
   "source": [
    "dataset = wb.data.DataFrame([\"NY.GDP.PCAP.CD\", \"SH.XPD.CHEX.PC.CD\", \"SH.XPD.GHED.PC.CD\", \"SH.XPD.PVTD.PC.CD\", \"SP.POP.TOTL\", \"SP.DYN.LE00.IN\", \"SE.XPD.TOTL.GB.ZS\"], time = range(2000, 2021, 5), columns = 'series').reset_index()\n",
    "dataset.columns = [\"economy\", \"Year\", \"GDP per capita\", \"Current health expenditure per capita\", \"Domestic general government health expenditure per capita\", \"Domestic private health expenditure per capita\", \"Population\", \"Life expectancy at birth, total (years)\", \"Government expenditure on education\"]"
   ]
  },
  {
   "cell_type": "code",
   "execution_count": 204,
   "metadata": {},
   "outputs": [
    {
     "data": {
      "text/html": [
       "<div>\n",
       "<style scoped>\n",
       "    .dataframe tbody tr th:only-of-type {\n",
       "        vertical-align: middle;\n",
       "    }\n",
       "\n",
       "    .dataframe tbody tr th {\n",
       "        vertical-align: top;\n",
       "    }\n",
       "\n",
       "    .dataframe thead th {\n",
       "        text-align: right;\n",
       "    }\n",
       "</style>\n",
       "<table border=\"1\" class=\"dataframe\">\n",
       "  <thead>\n",
       "    <tr style=\"text-align: right;\">\n",
       "      <th></th>\n",
       "      <th>economy</th>\n",
       "      <th>Year</th>\n",
       "      <th>GDP per capita</th>\n",
       "      <th>Current health expenditure per capita</th>\n",
       "      <th>Domestic general government health expenditure per capita</th>\n",
       "      <th>Domestic private health expenditure per capita</th>\n",
       "      <th>Population</th>\n",
       "      <th>Life expectancy at birth, total (years)</th>\n",
       "      <th>Government expenditure on education</th>\n",
       "    </tr>\n",
       "  </thead>\n",
       "  <tbody>\n",
       "    <tr>\n",
       "      <th>0</th>\n",
       "      <td>ABW</td>\n",
       "      <td>YR2000</td>\n",
       "      <td>20614.799348</td>\n",
       "      <td>21.807711</td>\n",
       "      <td>NaN</td>\n",
       "      <td>NaN</td>\n",
       "      <td>NaN</td>\n",
       "      <td>73.787</td>\n",
       "      <td>90866.0</td>\n",
       "    </tr>\n",
       "    <tr>\n",
       "      <th>1</th>\n",
       "      <td>ABW</td>\n",
       "      <td>YR2005</td>\n",
       "      <td>23591.159838</td>\n",
       "      <td>18.888281</td>\n",
       "      <td>NaN</td>\n",
       "      <td>NaN</td>\n",
       "      <td>NaN</td>\n",
       "      <td>74.287</td>\n",
       "      <td>100028.0</td>\n",
       "    </tr>\n",
       "    <tr>\n",
       "      <th>2</th>\n",
       "      <td>ABW</td>\n",
       "      <td>YR2010</td>\n",
       "      <td>24134.473859</td>\n",
       "      <td>22.176781</td>\n",
       "      <td>NaN</td>\n",
       "      <td>NaN</td>\n",
       "      <td>NaN</td>\n",
       "      <td>75.017</td>\n",
       "      <td>101665.0</td>\n",
       "    </tr>\n",
       "    <tr>\n",
       "      <th>3</th>\n",
       "      <td>ABW</td>\n",
       "      <td>YR2015</td>\n",
       "      <td>28399.050131</td>\n",
       "      <td>23.201380</td>\n",
       "      <td>NaN</td>\n",
       "      <td>NaN</td>\n",
       "      <td>NaN</td>\n",
       "      <td>75.725</td>\n",
       "      <td>104339.0</td>\n",
       "    </tr>\n",
       "    <tr>\n",
       "      <th>4</th>\n",
       "      <td>ABW</td>\n",
       "      <td>YR2020</td>\n",
       "      <td>23384.298791</td>\n",
       "      <td>NaN</td>\n",
       "      <td>NaN</td>\n",
       "      <td>NaN</td>\n",
       "      <td>NaN</td>\n",
       "      <td>76.434</td>\n",
       "      <td>106766.0</td>\n",
       "    </tr>\n",
       "    <tr>\n",
       "      <th>...</th>\n",
       "      <td>...</td>\n",
       "      <td>...</td>\n",
       "      <td>...</td>\n",
       "      <td>...</td>\n",
       "      <td>...</td>\n",
       "      <td>...</td>\n",
       "      <td>...</td>\n",
       "      <td>...</td>\n",
       "      <td>...</td>\n",
       "    </tr>\n",
       "    <tr>\n",
       "      <th>1325</th>\n",
       "      <td>ZWE</td>\n",
       "      <td>YR2000</td>\n",
       "      <td>563.057504</td>\n",
       "      <td>NaN</td>\n",
       "      <td>NaN</td>\n",
       "      <td>NaN</td>\n",
       "      <td>NaN</td>\n",
       "      <td>44.649</td>\n",
       "      <td>11881482.0</td>\n",
       "    </tr>\n",
       "    <tr>\n",
       "      <th>1326</th>\n",
       "      <td>ZWE</td>\n",
       "      <td>YR2005</td>\n",
       "      <td>476.555403</td>\n",
       "      <td>NaN</td>\n",
       "      <td>NaN</td>\n",
       "      <td>NaN</td>\n",
       "      <td>NaN</td>\n",
       "      <td>43.241</td>\n",
       "      <td>12076697.0</td>\n",
       "    </tr>\n",
       "    <tr>\n",
       "      <th>1327</th>\n",
       "      <td>ZWE</td>\n",
       "      <td>YR2010</td>\n",
       "      <td>948.331481</td>\n",
       "      <td>8.536720</td>\n",
       "      <td>99.348557</td>\n",
       "      <td>26.111711</td>\n",
       "      <td>45.939417</td>\n",
       "      <td>50.640</td>\n",
       "      <td>12697728.0</td>\n",
       "    </tr>\n",
       "    <tr>\n",
       "      <th>1328</th>\n",
       "      <td>ZWE</td>\n",
       "      <td>YR2015</td>\n",
       "      <td>1445.069702</td>\n",
       "      <td>29.470831</td>\n",
       "      <td>107.686999</td>\n",
       "      <td>22.418236</td>\n",
       "      <td>59.147940</td>\n",
       "      <td>59.534</td>\n",
       "      <td>13814642.0</td>\n",
       "    </tr>\n",
       "    <tr>\n",
       "      <th>1329</th>\n",
       "      <td>ZWE</td>\n",
       "      <td>YR2020</td>\n",
       "      <td>1214.509820</td>\n",
       "      <td>NaN</td>\n",
       "      <td>NaN</td>\n",
       "      <td>NaN</td>\n",
       "      <td>NaN</td>\n",
       "      <td>61.738</td>\n",
       "      <td>14862927.0</td>\n",
       "    </tr>\n",
       "  </tbody>\n",
       "</table>\n",
       "<p>1330 rows × 9 columns</p>\n",
       "</div>"
      ],
      "text/plain": [
       "     economy    Year  GDP per capita  Current health expenditure per capita  \\\n",
       "0        ABW  YR2000    20614.799348                              21.807711   \n",
       "1        ABW  YR2005    23591.159838                              18.888281   \n",
       "2        ABW  YR2010    24134.473859                              22.176781   \n",
       "3        ABW  YR2015    28399.050131                              23.201380   \n",
       "4        ABW  YR2020    23384.298791                                    NaN   \n",
       "...      ...     ...             ...                                    ...   \n",
       "1325     ZWE  YR2000      563.057504                                    NaN   \n",
       "1326     ZWE  YR2005      476.555403                                    NaN   \n",
       "1327     ZWE  YR2010      948.331481                               8.536720   \n",
       "1328     ZWE  YR2015     1445.069702                              29.470831   \n",
       "1329     ZWE  YR2020     1214.509820                                    NaN   \n",
       "\n",
       "      Domestic general government health expenditure per capita  \\\n",
       "0                                                   NaN           \n",
       "1                                                   NaN           \n",
       "2                                                   NaN           \n",
       "3                                                   NaN           \n",
       "4                                                   NaN           \n",
       "...                                                 ...           \n",
       "1325                                                NaN           \n",
       "1326                                                NaN           \n",
       "1327                                          99.348557           \n",
       "1328                                         107.686999           \n",
       "1329                                                NaN           \n",
       "\n",
       "      Domestic private health expenditure per capita  Population  \\\n",
       "0                                                NaN         NaN   \n",
       "1                                                NaN         NaN   \n",
       "2                                                NaN         NaN   \n",
       "3                                                NaN         NaN   \n",
       "4                                                NaN         NaN   \n",
       "...                                              ...         ...   \n",
       "1325                                             NaN         NaN   \n",
       "1326                                             NaN         NaN   \n",
       "1327                                       26.111711   45.939417   \n",
       "1328                                       22.418236   59.147940   \n",
       "1329                                             NaN         NaN   \n",
       "\n",
       "      Life expectancy at birth, total (years)  \\\n",
       "0                                      73.787   \n",
       "1                                      74.287   \n",
       "2                                      75.017   \n",
       "3                                      75.725   \n",
       "4                                      76.434   \n",
       "...                                       ...   \n",
       "1325                                   44.649   \n",
       "1326                                   43.241   \n",
       "1327                                   50.640   \n",
       "1328                                   59.534   \n",
       "1329                                   61.738   \n",
       "\n",
       "      Government expenditure on education  \n",
       "0                                 90866.0  \n",
       "1                                100028.0  \n",
       "2                                101665.0  \n",
       "3                                104339.0  \n",
       "4                                106766.0  \n",
       "...                                   ...  \n",
       "1325                           11881482.0  \n",
       "1326                           12076697.0  \n",
       "1327                           12697728.0  \n",
       "1328                           13814642.0  \n",
       "1329                           14862927.0  \n",
       "\n",
       "[1330 rows x 9 columns]"
      ]
     },
     "execution_count": 204,
     "metadata": {},
     "output_type": "execute_result"
    }
   ],
   "source": [
    "dataset"
   ]
  },
  {
   "cell_type": "code",
   "execution_count": 205,
   "metadata": {},
   "outputs": [
    {
     "data": {
      "text/html": [
       "<div>\n",
       "<style scoped>\n",
       "    .dataframe tbody tr th:only-of-type {\n",
       "        vertical-align: middle;\n",
       "    }\n",
       "\n",
       "    .dataframe tbody tr th {\n",
       "        vertical-align: top;\n",
       "    }\n",
       "\n",
       "    .dataframe thead th {\n",
       "        text-align: right;\n",
       "    }\n",
       "</style>\n",
       "<table border=\"1\" class=\"dataframe\">\n",
       "  <thead>\n",
       "    <tr style=\"text-align: right;\">\n",
       "      <th></th>\n",
       "      <th>economy</th>\n",
       "      <th>Country Name</th>\n",
       "      <th>Region</th>\n",
       "      <th>Year</th>\n",
       "      <th>GDP per capita</th>\n",
       "      <th>Current health expenditure per capita</th>\n",
       "      <th>Domestic general government health expenditure per capita</th>\n",
       "      <th>Domestic private health expenditure per capita</th>\n",
       "      <th>Population</th>\n",
       "      <th>Life expectancy at birth, total (years)</th>\n",
       "      <th>Government expenditure on education</th>\n",
       "    </tr>\n",
       "  </thead>\n",
       "  <tbody>\n",
       "    <tr>\n",
       "      <th>0</th>\n",
       "      <td>ABW</td>\n",
       "      <td>Aruba</td>\n",
       "      <td>LCN</td>\n",
       "      <td>YR2000</td>\n",
       "      <td>20614.799348</td>\n",
       "      <td>21.807711</td>\n",
       "      <td>NaN</td>\n",
       "      <td>NaN</td>\n",
       "      <td>NaN</td>\n",
       "      <td>73.787</td>\n",
       "      <td>90866.0</td>\n",
       "    </tr>\n",
       "    <tr>\n",
       "      <th>1</th>\n",
       "      <td>ABW</td>\n",
       "      <td>Aruba</td>\n",
       "      <td>LCN</td>\n",
       "      <td>YR2005</td>\n",
       "      <td>23591.159838</td>\n",
       "      <td>18.888281</td>\n",
       "      <td>NaN</td>\n",
       "      <td>NaN</td>\n",
       "      <td>NaN</td>\n",
       "      <td>74.287</td>\n",
       "      <td>100028.0</td>\n",
       "    </tr>\n",
       "    <tr>\n",
       "      <th>2</th>\n",
       "      <td>ABW</td>\n",
       "      <td>Aruba</td>\n",
       "      <td>LCN</td>\n",
       "      <td>YR2010</td>\n",
       "      <td>24134.473859</td>\n",
       "      <td>22.176781</td>\n",
       "      <td>NaN</td>\n",
       "      <td>NaN</td>\n",
       "      <td>NaN</td>\n",
       "      <td>75.017</td>\n",
       "      <td>101665.0</td>\n",
       "    </tr>\n",
       "    <tr>\n",
       "      <th>3</th>\n",
       "      <td>ABW</td>\n",
       "      <td>Aruba</td>\n",
       "      <td>LCN</td>\n",
       "      <td>YR2015</td>\n",
       "      <td>28399.050131</td>\n",
       "      <td>23.201380</td>\n",
       "      <td>NaN</td>\n",
       "      <td>NaN</td>\n",
       "      <td>NaN</td>\n",
       "      <td>75.725</td>\n",
       "      <td>104339.0</td>\n",
       "    </tr>\n",
       "    <tr>\n",
       "      <th>4</th>\n",
       "      <td>ABW</td>\n",
       "      <td>Aruba</td>\n",
       "      <td>LCN</td>\n",
       "      <td>YR2020</td>\n",
       "      <td>23384.298791</td>\n",
       "      <td>NaN</td>\n",
       "      <td>NaN</td>\n",
       "      <td>NaN</td>\n",
       "      <td>NaN</td>\n",
       "      <td>76.434</td>\n",
       "      <td>106766.0</td>\n",
       "    </tr>\n",
       "    <tr>\n",
       "      <th>...</th>\n",
       "      <td>...</td>\n",
       "      <td>...</td>\n",
       "      <td>...</td>\n",
       "      <td>...</td>\n",
       "      <td>...</td>\n",
       "      <td>...</td>\n",
       "      <td>...</td>\n",
       "      <td>...</td>\n",
       "      <td>...</td>\n",
       "      <td>...</td>\n",
       "      <td>...</td>\n",
       "    </tr>\n",
       "    <tr>\n",
       "      <th>1325</th>\n",
       "      <td>ZWE</td>\n",
       "      <td>Zimbabwe</td>\n",
       "      <td>SSF</td>\n",
       "      <td>YR2000</td>\n",
       "      <td>563.057504</td>\n",
       "      <td>NaN</td>\n",
       "      <td>NaN</td>\n",
       "      <td>NaN</td>\n",
       "      <td>NaN</td>\n",
       "      <td>44.649</td>\n",
       "      <td>11881482.0</td>\n",
       "    </tr>\n",
       "    <tr>\n",
       "      <th>1326</th>\n",
       "      <td>ZWE</td>\n",
       "      <td>Zimbabwe</td>\n",
       "      <td>SSF</td>\n",
       "      <td>YR2005</td>\n",
       "      <td>476.555403</td>\n",
       "      <td>NaN</td>\n",
       "      <td>NaN</td>\n",
       "      <td>NaN</td>\n",
       "      <td>NaN</td>\n",
       "      <td>43.241</td>\n",
       "      <td>12076697.0</td>\n",
       "    </tr>\n",
       "    <tr>\n",
       "      <th>1327</th>\n",
       "      <td>ZWE</td>\n",
       "      <td>Zimbabwe</td>\n",
       "      <td>SSF</td>\n",
       "      <td>YR2010</td>\n",
       "      <td>948.331481</td>\n",
       "      <td>8.536720</td>\n",
       "      <td>99.348557</td>\n",
       "      <td>26.111711</td>\n",
       "      <td>45.939417</td>\n",
       "      <td>50.640</td>\n",
       "      <td>12697728.0</td>\n",
       "    </tr>\n",
       "    <tr>\n",
       "      <th>1328</th>\n",
       "      <td>ZWE</td>\n",
       "      <td>Zimbabwe</td>\n",
       "      <td>SSF</td>\n",
       "      <td>YR2015</td>\n",
       "      <td>1445.069702</td>\n",
       "      <td>29.470831</td>\n",
       "      <td>107.686999</td>\n",
       "      <td>22.418236</td>\n",
       "      <td>59.147940</td>\n",
       "      <td>59.534</td>\n",
       "      <td>13814642.0</td>\n",
       "    </tr>\n",
       "    <tr>\n",
       "      <th>1329</th>\n",
       "      <td>ZWE</td>\n",
       "      <td>Zimbabwe</td>\n",
       "      <td>SSF</td>\n",
       "      <td>YR2020</td>\n",
       "      <td>1214.509820</td>\n",
       "      <td>NaN</td>\n",
       "      <td>NaN</td>\n",
       "      <td>NaN</td>\n",
       "      <td>NaN</td>\n",
       "      <td>61.738</td>\n",
       "      <td>14862927.0</td>\n",
       "    </tr>\n",
       "  </tbody>\n",
       "</table>\n",
       "<p>1330 rows × 11 columns</p>\n",
       "</div>"
      ],
      "text/plain": [
       "     economy Country Name Region    Year  GDP per capita  \\\n",
       "0        ABW        Aruba    LCN  YR2000    20614.799348   \n",
       "1        ABW        Aruba    LCN  YR2005    23591.159838   \n",
       "2        ABW        Aruba    LCN  YR2010    24134.473859   \n",
       "3        ABW        Aruba    LCN  YR2015    28399.050131   \n",
       "4        ABW        Aruba    LCN  YR2020    23384.298791   \n",
       "...      ...          ...    ...     ...             ...   \n",
       "1325     ZWE     Zimbabwe    SSF  YR2000      563.057504   \n",
       "1326     ZWE     Zimbabwe    SSF  YR2005      476.555403   \n",
       "1327     ZWE     Zimbabwe    SSF  YR2010      948.331481   \n",
       "1328     ZWE     Zimbabwe    SSF  YR2015     1445.069702   \n",
       "1329     ZWE     Zimbabwe    SSF  YR2020     1214.509820   \n",
       "\n",
       "      Current health expenditure per capita  \\\n",
       "0                                 21.807711   \n",
       "1                                 18.888281   \n",
       "2                                 22.176781   \n",
       "3                                 23.201380   \n",
       "4                                       NaN   \n",
       "...                                     ...   \n",
       "1325                                    NaN   \n",
       "1326                                    NaN   \n",
       "1327                               8.536720   \n",
       "1328                              29.470831   \n",
       "1329                                    NaN   \n",
       "\n",
       "      Domestic general government health expenditure per capita  \\\n",
       "0                                                   NaN           \n",
       "1                                                   NaN           \n",
       "2                                                   NaN           \n",
       "3                                                   NaN           \n",
       "4                                                   NaN           \n",
       "...                                                 ...           \n",
       "1325                                                NaN           \n",
       "1326                                                NaN           \n",
       "1327                                          99.348557           \n",
       "1328                                         107.686999           \n",
       "1329                                                NaN           \n",
       "\n",
       "      Domestic private health expenditure per capita  Population  \\\n",
       "0                                                NaN         NaN   \n",
       "1                                                NaN         NaN   \n",
       "2                                                NaN         NaN   \n",
       "3                                                NaN         NaN   \n",
       "4                                                NaN         NaN   \n",
       "...                                              ...         ...   \n",
       "1325                                             NaN         NaN   \n",
       "1326                                             NaN         NaN   \n",
       "1327                                       26.111711   45.939417   \n",
       "1328                                       22.418236   59.147940   \n",
       "1329                                             NaN         NaN   \n",
       "\n",
       "      Life expectancy at birth, total (years)  \\\n",
       "0                                      73.787   \n",
       "1                                      74.287   \n",
       "2                                      75.017   \n",
       "3                                      75.725   \n",
       "4                                      76.434   \n",
       "...                                       ...   \n",
       "1325                                   44.649   \n",
       "1326                                   43.241   \n",
       "1327                                   50.640   \n",
       "1328                                   59.534   \n",
       "1329                                   61.738   \n",
       "\n",
       "      Government expenditure on education  \n",
       "0                                 90866.0  \n",
       "1                                100028.0  \n",
       "2                                101665.0  \n",
       "3                                104339.0  \n",
       "4                                106766.0  \n",
       "...                                   ...  \n",
       "1325                           11881482.0  \n",
       "1326                           12076697.0  \n",
       "1327                           12697728.0  \n",
       "1328                           13814642.0  \n",
       "1329                           14862927.0  \n",
       "\n",
       "[1330 rows x 11 columns]"
      ]
     },
     "execution_count": 205,
     "metadata": {},
     "output_type": "execute_result"
    }
   ],
   "source": [
    "dataset = pd.merge(x, dataset, how='outer', on= \"economy\" )\n",
    "dataset"
   ]
  },
  {
   "cell_type": "markdown",
   "metadata": {},
   "source": [
    "### Cleaning Target Dataset"
   ]
  },
  {
   "cell_type": "code",
   "execution_count": 206,
   "metadata": {},
   "outputs": [
    {
     "data": {
      "text/html": [
       "<div>\n",
       "<style scoped>\n",
       "    .dataframe tbody tr th:only-of-type {\n",
       "        vertical-align: middle;\n",
       "    }\n",
       "\n",
       "    .dataframe tbody tr th {\n",
       "        vertical-align: top;\n",
       "    }\n",
       "\n",
       "    .dataframe thead th {\n",
       "        text-align: right;\n",
       "    }\n",
       "</style>\n",
       "<table border=\"1\" class=\"dataframe\">\n",
       "  <thead>\n",
       "    <tr style=\"text-align: right;\">\n",
       "      <th></th>\n",
       "      <th>economy</th>\n",
       "      <th>Country Name</th>\n",
       "      <th>Region</th>\n",
       "      <th>Year</th>\n",
       "      <th>GDP per capita</th>\n",
       "      <th>Current health expenditure per capita</th>\n",
       "      <th>Domestic general government health expenditure per capita</th>\n",
       "      <th>Domestic private health expenditure per capita</th>\n",
       "      <th>Population</th>\n",
       "      <th>Life expectancy at birth, total (years)</th>\n",
       "      <th>Government expenditure on education</th>\n",
       "    </tr>\n",
       "  </thead>\n",
       "  <tbody>\n",
       "    <tr>\n",
       "      <th>5</th>\n",
       "      <td>AFE</td>\n",
       "      <td>Africa Eastern and Southern</td>\n",
       "      <td></td>\n",
       "      <td>YR2000</td>\n",
       "      <td>713.177900</td>\n",
       "      <td>15.890510</td>\n",
       "      <td>44.195249</td>\n",
       "      <td>15.599017</td>\n",
       "      <td>26.082182</td>\n",
       "      <td>51.276129</td>\n",
       "      <td>398113044.0</td>\n",
       "    </tr>\n",
       "    <tr>\n",
       "      <th>6</th>\n",
       "      <td>AFE</td>\n",
       "      <td>Africa Eastern and Southern</td>\n",
       "      <td></td>\n",
       "      <td>YR2005</td>\n",
       "      <td>1129.701204</td>\n",
       "      <td>18.143141</td>\n",
       "      <td>70.451047</td>\n",
       "      <td>26.970743</td>\n",
       "      <td>33.059165</td>\n",
       "      <td>53.966550</td>\n",
       "      <td>453404076.0</td>\n",
       "    </tr>\n",
       "    <tr>\n",
       "      <th>7</th>\n",
       "      <td>AFE</td>\n",
       "      <td>Africa Eastern and Southern</td>\n",
       "      <td></td>\n",
       "      <td>YR2010</td>\n",
       "      <td>1659.654922</td>\n",
       "      <td>17.224030</td>\n",
       "      <td>107.706700</td>\n",
       "      <td>47.263324</td>\n",
       "      <td>44.576128</td>\n",
       "      <td>58.470697</td>\n",
       "      <td>518468229.0</td>\n",
       "    </tr>\n",
       "    <tr>\n",
       "      <th>8</th>\n",
       "      <td>AFE</td>\n",
       "      <td>Africa Eastern and Southern</td>\n",
       "      <td></td>\n",
       "      <td>YR2015</td>\n",
       "      <td>1556.316469</td>\n",
       "      <td>16.962910</td>\n",
       "      <td>99.008506</td>\n",
       "      <td>45.038192</td>\n",
       "      <td>43.497951</td>\n",
       "      <td>62.259288</td>\n",
       "      <td>593871847.0</td>\n",
       "    </tr>\n",
       "    <tr>\n",
       "      <th>11</th>\n",
       "      <td>AFG</td>\n",
       "      <td>Afghanistan</td>\n",
       "      <td>SAS</td>\n",
       "      <td>YR2005</td>\n",
       "      <td>242.031313</td>\n",
       "      <td>15.080000</td>\n",
       "      <td>23.890501</td>\n",
       "      <td>1.270819</td>\n",
       "      <td>18.866350</td>\n",
       "      <td>58.290000</td>\n",
       "      <td>25654274.0</td>\n",
       "    </tr>\n",
       "    <tr>\n",
       "      <th>...</th>\n",
       "      <td>...</td>\n",
       "      <td>...</td>\n",
       "      <td>...</td>\n",
       "      <td>...</td>\n",
       "      <td>...</td>\n",
       "      <td>...</td>\n",
       "      <td>...</td>\n",
       "      <td>...</td>\n",
       "      <td>...</td>\n",
       "      <td>...</td>\n",
       "      <td>...</td>\n",
       "    </tr>\n",
       "    <tr>\n",
       "      <th>1321</th>\n",
       "      <td>ZMB</td>\n",
       "      <td>Zambia</td>\n",
       "      <td>SSF</td>\n",
       "      <td>YR2005</td>\n",
       "      <td>702.741118</td>\n",
       "      <td>7.729730</td>\n",
       "      <td>48.214775</td>\n",
       "      <td>12.864070</td>\n",
       "      <td>18.337992</td>\n",
       "      <td>48.496000</td>\n",
       "      <td>11856244.0</td>\n",
       "    </tr>\n",
       "    <tr>\n",
       "      <th>1322</th>\n",
       "      <td>ZMB</td>\n",
       "      <td>Zambia</td>\n",
       "      <td>SSF</td>\n",
       "      <td>YR2010</td>\n",
       "      <td>1489.459087</td>\n",
       "      <td>16.900000</td>\n",
       "      <td>55.392830</td>\n",
       "      <td>12.530782</td>\n",
       "      <td>17.591750</td>\n",
       "      <td>55.655000</td>\n",
       "      <td>13605986.0</td>\n",
       "    </tr>\n",
       "    <tr>\n",
       "      <th>1323</th>\n",
       "      <td>ZMB</td>\n",
       "      <td>Zambia</td>\n",
       "      <td>SSF</td>\n",
       "      <td>YR2015</td>\n",
       "      <td>1338.290927</td>\n",
       "      <td>16.335600</td>\n",
       "      <td>59.337643</td>\n",
       "      <td>27.969548</td>\n",
       "      <td>9.792813</td>\n",
       "      <td>61.737000</td>\n",
       "      <td>15879370.0</td>\n",
       "    </tr>\n",
       "    <tr>\n",
       "      <th>1327</th>\n",
       "      <td>ZWE</td>\n",
       "      <td>Zimbabwe</td>\n",
       "      <td>SSF</td>\n",
       "      <td>YR2010</td>\n",
       "      <td>948.331481</td>\n",
       "      <td>8.536720</td>\n",
       "      <td>99.348557</td>\n",
       "      <td>26.111711</td>\n",
       "      <td>45.939417</td>\n",
       "      <td>50.640000</td>\n",
       "      <td>12697728.0</td>\n",
       "    </tr>\n",
       "    <tr>\n",
       "      <th>1328</th>\n",
       "      <td>ZWE</td>\n",
       "      <td>Zimbabwe</td>\n",
       "      <td>SSF</td>\n",
       "      <td>YR2015</td>\n",
       "      <td>1445.069702</td>\n",
       "      <td>29.470831</td>\n",
       "      <td>107.686999</td>\n",
       "      <td>22.418236</td>\n",
       "      <td>59.147940</td>\n",
       "      <td>59.534000</td>\n",
       "      <td>13814642.0</td>\n",
       "    </tr>\n",
       "  </tbody>\n",
       "</table>\n",
       "<p>651 rows × 11 columns</p>\n",
       "</div>"
      ],
      "text/plain": [
       "     economy                 Country Name Region    Year  GDP per capita  \\\n",
       "5        AFE  Africa Eastern and Southern         YR2000      713.177900   \n",
       "6        AFE  Africa Eastern and Southern         YR2005     1129.701204   \n",
       "7        AFE  Africa Eastern and Southern         YR2010     1659.654922   \n",
       "8        AFE  Africa Eastern and Southern         YR2015     1556.316469   \n",
       "11       AFG                  Afghanistan    SAS  YR2005      242.031313   \n",
       "...      ...                          ...    ...     ...             ...   \n",
       "1321     ZMB                       Zambia    SSF  YR2005      702.741118   \n",
       "1322     ZMB                       Zambia    SSF  YR2010     1489.459087   \n",
       "1323     ZMB                       Zambia    SSF  YR2015     1338.290927   \n",
       "1327     ZWE                     Zimbabwe    SSF  YR2010      948.331481   \n",
       "1328     ZWE                     Zimbabwe    SSF  YR2015     1445.069702   \n",
       "\n",
       "      Current health expenditure per capita  \\\n",
       "5                                 15.890510   \n",
       "6                                 18.143141   \n",
       "7                                 17.224030   \n",
       "8                                 16.962910   \n",
       "11                                15.080000   \n",
       "...                                     ...   \n",
       "1321                               7.729730   \n",
       "1322                              16.900000   \n",
       "1323                              16.335600   \n",
       "1327                               8.536720   \n",
       "1328                              29.470831   \n",
       "\n",
       "      Domestic general government health expenditure per capita  \\\n",
       "5                                             44.195249           \n",
       "6                                             70.451047           \n",
       "7                                            107.706700           \n",
       "8                                             99.008506           \n",
       "11                                            23.890501           \n",
       "...                                                 ...           \n",
       "1321                                          48.214775           \n",
       "1322                                          55.392830           \n",
       "1323                                          59.337643           \n",
       "1327                                          99.348557           \n",
       "1328                                         107.686999           \n",
       "\n",
       "      Domestic private health expenditure per capita  Population  \\\n",
       "5                                          15.599017   26.082182   \n",
       "6                                          26.970743   33.059165   \n",
       "7                                          47.263324   44.576128   \n",
       "8                                          45.038192   43.497951   \n",
       "11                                          1.270819   18.866350   \n",
       "...                                              ...         ...   \n",
       "1321                                       12.864070   18.337992   \n",
       "1322                                       12.530782   17.591750   \n",
       "1323                                       27.969548    9.792813   \n",
       "1327                                       26.111711   45.939417   \n",
       "1328                                       22.418236   59.147940   \n",
       "\n",
       "      Life expectancy at birth, total (years)  \\\n",
       "5                                   51.276129   \n",
       "6                                   53.966550   \n",
       "7                                   58.470697   \n",
       "8                                   62.259288   \n",
       "11                                  58.290000   \n",
       "...                                       ...   \n",
       "1321                                48.496000   \n",
       "1322                                55.655000   \n",
       "1323                                61.737000   \n",
       "1327                                50.640000   \n",
       "1328                                59.534000   \n",
       "\n",
       "      Government expenditure on education  \n",
       "5                             398113044.0  \n",
       "6                             453404076.0  \n",
       "7                             518468229.0  \n",
       "8                             593871847.0  \n",
       "11                             25654274.0  \n",
       "...                                   ...  \n",
       "1321                           11856244.0  \n",
       "1322                           13605986.0  \n",
       "1323                           15879370.0  \n",
       "1327                           12697728.0  \n",
       "1328                           13814642.0  \n",
       "\n",
       "[651 rows x 11 columns]"
      ]
     },
     "execution_count": 206,
     "metadata": {},
     "output_type": "execute_result"
    }
   ],
   "source": [
    "dataset.dropna(inplace=True)\n",
    "dataset.isnull().sum()\n",
    "dataset"
   ]
  },
  {
   "cell_type": "code",
   "execution_count": 207,
   "metadata": {},
   "outputs": [
    {
     "data": {
      "text/plain": [
       "array(['SAS', 'SSF', 'ECS', 'LCN', 'EAS', 'MEA', 'NAC'], dtype=object)"
      ]
     },
     "execution_count": 207,
     "metadata": {},
     "output_type": "execute_result"
    }
   ],
   "source": [
    "#Removing Null region values and converting region code to Region Name\n",
    "dataset['Region'].replace('', np.nan, inplace=True)\n",
    "dataset.dropna(inplace=True)\n",
    "dataset.isnull().sum()\n",
    "dataset\n",
    "dataset['Region'].unique()"
   ]
  },
  {
   "cell_type": "code",
   "execution_count": 208,
   "metadata": {},
   "outputs": [],
   "source": [
    "dataset['Region'] = dataset['Region'].replace(['SAS', 'SSF', 'ECS', 'LCN', 'EAS', 'MEA', 'NAC'], ['South Asia', 'Sub-Saharan Africa', 'Europe and Central Asia', 'Latin America & the Caribbean', 'East Asia and Pacific', 'Middle East and North Africa', 'North America'])"
   ]
  },
  {
   "cell_type": "code",
   "execution_count": 209,
   "metadata": {},
   "outputs": [
    {
     "data": {
      "text/plain": [
       "array(['South Asia', 'Sub-Saharan Africa', 'Europe and Central Asia',\n",
       "       'Latin America & the Caribbean', 'East Asia and Pacific',\n",
       "       'Middle East and North Africa', 'North America'], dtype=object)"
      ]
     },
     "execution_count": 209,
     "metadata": {},
     "output_type": "execute_result"
    }
   ],
   "source": [
    "dataset['Region'].unique()"
   ]
  },
  {
   "cell_type": "code",
   "execution_count": 210,
   "metadata": {
    "scrolled": false
   },
   "outputs": [
    {
     "data": {
      "text/plain": [
       "Tajikistan     4\n",
       "Spain          4\n",
       "Italy          4\n",
       "Israel         4\n",
       "Iceland        4\n",
       "              ..\n",
       "Luxembourg     1\n",
       "Suriname       1\n",
       "Nigeria        1\n",
       "Palau          1\n",
       "Korea, Rep.    1\n",
       "Name: Country Name, Length: 161, dtype: int64"
      ]
     },
     "execution_count": 210,
     "metadata": {},
     "output_type": "execute_result"
    }
   ],
   "source": [
    "dataset['Country Name'].value_counts()"
   ]
  },
  {
   "cell_type": "markdown",
   "metadata": {},
   "source": [
    "### Creating Scatter Plot to Compare GDP with the Current health expenditure"
   ]
  },
  {
   "cell_type": "code",
   "execution_count": 211,
   "metadata": {},
   "outputs": [
    {
     "data": {
      "application/vnd.plotly.v1+json": {
       "config": {
        "plotlyServerURL": "https://plot.ly"
       },
       "data": [
        {
         "hovertemplate": "<b>%{hovertext}</b><br><br>Region=South Asia<br>Year=YR2005<br>GDP per capita=%{x}<br>Current health expenditure per capita=%{y}<br>Population=%{marker.size}<extra></extra>",
         "hovertext": [
          "Afghanistan",
          "Bhutan",
          "India",
          "Sri Lanka",
          "Maldives",
          "Nepal",
          "Pakistan"
         ],
         "ids": [
          "Afghanistan",
          "Bhutan",
          "India",
          "Sri Lanka",
          "Maldives",
          "Nepal",
          "Pakistan"
         ],
         "legendgroup": "South Asia",
         "marker": {
          "color": "#636efa",
          "size": [
           18.86634996,
           8.1517821,
           21.67475163,
           26.65572335,
           206.97915723,
           8.27001538,
           14.6657995
          ],
          "sizemode": "area",
          "sizeref": 0.639748435229,
          "symbol": "circle"
         },
         "mode": "markers",
         "name": "South Asia",
         "orientation": "v",
         "showlegend": true,
         "type": "scatter",
         "x": [
          242.031313175022,
          1228.43235572338,
          714.8610153644,
          1248.69818517034,
          3640.0121322011,
          315.805629997361,
          748.922589270883
         ],
         "xaxis": "x",
         "y": [
          15.0799999237061,
          22.9959201812744,
          11.208459854126,
          10.8999996185303,
          12.9361000061035,
          22.2942199707031,
          13.7775096893311
         ],
         "yaxis": "y"
        },
        {
         "hovertemplate": "<b>%{hovertext}</b><br><br>Region=Sub-Saharan Africa<br>Year=YR2005<br>GDP per capita=%{x}<br>Current health expenditure per capita=%{y}<br>Population=%{marker.size}<extra></extra>",
         "hovertext": [
          "Angola",
          "Burundi",
          "Benin",
          "Burkina Faso",
          "Botswana",
          "Central African Republic",
          "Cote d'Ivoire",
          "Cameroon",
          "Congo, Rep.",
          "Ghana",
          "Guinea",
          "Gambia, The",
          "Kenya",
          "Lesotho",
          "Madagascar",
          "Mali",
          "Mozambique",
          "Mauritius",
          "Sudan",
          "Senegal",
          "Sierra Leone",
          "Sao Tome and Principe",
          "Eswatini",
          "Chad",
          "Togo",
          "Tanzania",
          "South Africa",
          "Zambia"
         ],
         "ids": [
          "Angola",
          "Burundi",
          "Benin",
          "Burkina Faso",
          "Botswana",
          "Central African Republic",
          "Cote d'Ivoire",
          "Cameroon",
          "Congo, Rep.",
          "Ghana",
          "Guinea",
          "Gambia, The",
          "Kenya",
          "Lesotho",
          "Madagascar",
          "Mali",
          "Mozambique",
          "Mauritius",
          "Sudan",
          "Senegal",
          "Sierra Leone",
          "Sao Tome and Principe",
          "Eswatini",
          "Chad",
          "Togo",
          "Tanzania",
          "South Africa",
          "Zambia"
         ],
         "legendgroup": "Sub-Saharan Africa",
         "marker": {
          "color": "#EF553B",
          "size": [
           28.28505574,
           6.01945299,
           13.63776869,
           6.09032125,
           87.29575605,
           8.31152591,
           53.33010352,
           32.30732729,
           16.87773167,
           18.24164396,
           14.11091031,
           5.93626869,
           16.6966074,
           14.01943123,
           6.57095372,
           14.96492092,
           2.35534424,
           102.34526085,
           23.76941603,
           18.23411176,
           21.7050767,
           28.65997935,
           72.3732513,
           19.3270201,
           13.90895267,
           9.85045563,
           199.59613784,
           18.33799201
          ],
          "sizemode": "area",
          "sizeref": 0.639748435229,
          "symbol": "circle"
         },
         "mode": "markers",
         "name": "Sub-Saharan Africa",
         "orientation": "v",
         "showlegend": true,
         "type": "scatter",
         "x": [
          1902.42214975937,
          151.681566343002,
          822.785143124704,
          457.933430763383,
          5513.33106259322,
          331.294821098185,
          1309.59165283165,
          1100.17492617744,
          1835.60990812416,
          492.54405617264,
          322.415540033465,
          665.720215700547,
          511.616394301253,
          842.812630961302,
          319.537475081164,
          489.022855550956,
          416.809824183966,
          5282.90602155635,
          914.16650390625,
          992.688058138543,
          292.349066330563,
          866.504995638803,
          3083.83814075588,
          658.566973042801,
          406.562366042383,
          492.63134765625,
          6033.10149088554,
          702.741118447779
         ],
         "xaxis": "x",
         "y": [
          7.99235010147095,
          10.9592695236206,
          18.7903900146484,
          19.4941902160645,
          25.8235301971436,
          9.68047046661377,
          21.8456897735596,
          21.3776092529297,
          7.59781980514526,
          23.4299602508545,
          10.9474697113037,
          5.34417009353638,
          27.4693393707275,
          32.4049186706543,
          18.0330390930176,
          16.2803001403809,
          22.7181797027588,
          17.0881309509277,
          5.96680021286011,
          21.7709693908691,
          15.506609916687,
          12.1254796981812,
          20.8918590545654,
          14.6728200912476,
          17.6780796051025,
          18.1431407928467,
          19.9249897003174,
          7.72973012924194
         ],
         "yaxis": "y"
        },
        {
         "hovertemplate": "<b>%{hovertext}</b><br><br>Region=Europe and Central Asia<br>Year=YR2005<br>GDP per capita=%{x}<br>Current health expenditure per capita=%{y}<br>Population=%{marker.size}<extra></extra>",
         "hovertext": [
          "Albania",
          "Armenia",
          "Austria",
          "Azerbaijan",
          "Belgium",
          "Bulgaria",
          "Belarus",
          "Switzerland",
          "Cyprus",
          "Czechia",
          "Denmark",
          "Spain",
          "Estonia",
          "Finland",
          "United Kingdom",
          "Georgia",
          "Greece",
          "Hungary",
          "Ireland",
          "Iceland",
          "Italy",
          "Kazakhstan",
          "Kyrgyz Republic",
          "Lithuania",
          "Moldova",
          "Netherlands",
          "Norway",
          "Poland",
          "Portugal",
          "Romania",
          "Russian Federation",
          "Slovak Republic",
          "Slovenia",
          "Sweden",
          "Tajikistan",
          "Ukraine"
         ],
         "ids": [
          "Albania",
          "Armenia",
          "Austria",
          "Azerbaijan",
          "Belgium",
          "Bulgaria",
          "Belarus",
          "Switzerland",
          "Cyprus",
          "Czechia",
          "Denmark",
          "Spain",
          "Estonia",
          "Finland",
          "United Kingdom",
          "Georgia",
          "Greece",
          "Hungary",
          "Ireland",
          "Iceland",
          "Italy",
          "Kazakhstan",
          "Kyrgyz Republic",
          "Lithuania",
          "Moldova",
          "Netherlands",
          "Norway",
          "Poland",
          "Portugal",
          "Romania",
          "Russian Federation",
          "Slovak Republic",
          "Slovenia",
          "Sweden",
          "Tajikistan",
          "Ukraine"
         ],
         "legendgroup": "Europe and Central Asia",
         "marker": {
          "color": "#00cc96",
          "size": [
           86.81703828,
           60.80376976,
           1014.73097696,
           20.52321089,
           872.62887485,
           108.24201054,
           50.42561896,
           3912.29502499,
           792.22160397,
           125.96869298,
           722.21158443,
           586.04994848,
           133.96086663,
           716.52446314,
           664.54517395,
           102.20431738,
           757.96055824,
           267.14810862,
           832.2244064,
           971.11791493,
           602.75504894,
           50.59951145,
           15.37359399,
           172.10622289,
           34.03249534,
           1207.38432948,
           946.54039499,
           146.57018538,
           527.19318736,
           50.41336326,
           105.3724807,
           149.49778231,
           402.56093793,
           628.18773816,
           12.00400887,
           47.74009826
          ],
          "sizemode": "area",
          "sizeref": 0.639748435229,
          "symbol": "circle"
         },
         "mode": "markers",
         "name": "Europe and Central Asia",
         "orientation": "v",
         "showlegend": true,
         "type": "scatter",
         "x": [
          2673.78658429559,
          1643.75688889146,
          38417.4577857677,
          1578.40239029603,
          36809.7013403619,
          3899.90763774017,
          3125.81053502853,
          56546.7856553987,
          24959.259765625,
          13430.6698955613,
          48799.8256011275,
          26429.1509449319,
          10412.6443137966,
          39054.8504423825,
          42132.0907219815,
          1642.76093756395,
          22560.1472939077,
          11225.9325815328,
          50933.0216095589,
          56794.8501588953,
          32055.0920757503,
          3771.27895733845,
          476.552129968975,
          7854.76527867855,
          1034.70705816743,
          41994.7135305232,
          66810.478520868,
          8021.50574346795,
          18780.12751241,
          4617.92901643258,
          5323.462890625,
          11690.1134689407,
          18098.9085440003,
          43437.0631164776,
          340.583183232527,
          1894.47082519531
         ],
         "xaxis": "x",
         "y": [
          11.3579702377319,
          13.6480903625488,
          10.2618503570557,
          13.2231502532959,
          11.1755199432373,
          12.0725202560425,
          12.6201095581055,
          15.703989982605,
          15.8393602371216,
          9.12421035766602,
          15.7793397903442,
          10.7697601318359,
          14.2651500701904,
          12.2496995925903,
          13.0033798217773,
          11.1812496185303,
          8.70020961761475,
          10.8005695343018,
          13.6849298477173,
          16.3081493377686,
          8.97150993347168,
          10.2859497070313,
          16.7684001922607,
          14.5795602798462,
          19.2966499328613,
          12.3359098434448,
          16.3725299835205,
          12.2654895782471,
          10.8545999526978,
          10.8366804122925,
          11.9505701065063,
          9.46469974517822,
          12.0792798995972,
          12.6876201629639,
          15.2933797836304,
          13.7386503219604
         ],
         "yaxis": "y"
        },
        {
         "hovertemplate": "<b>%{hovertext}</b><br><br>Region=Latin America & the Caribbean<br>Year=YR2005<br>GDP per capita=%{x}<br>Current health expenditure per capita=%{y}<br>Population=%{marker.size}<extra></extra>",
         "hovertext": [
          "Argentina",
          "Bahamas, The",
          "Brazil",
          "Barbados",
          "Chile",
          "Colombia",
          "Guyana",
          "Jamaica",
          "St. Lucia",
          "Mexico",
          "Peru",
          "El Salvador",
          "Uruguay",
          "St. Vincent and the Grenadines"
         ],
         "ids": [
          "Argentina",
          "Bahamas, The",
          "Brazil",
          "Barbados",
          "Chile",
          "Colombia",
          "Guyana",
          "Jamaica",
          "St. Lucia",
          "Mexico",
          "Peru",
          "El Salvador",
          "Uruguay",
          "St. Vincent and the Grenadines"
         ],
         "legendgroup": "Latin America & the Caribbean",
         "marker": {
          "color": "#ab63fa",
          "size": [
           186.0785116,
           733.92531538,
           224.41961186,
           389.40846904,
           303.67887855,
           56.40914357,
           33.22696399,
           92.33444705,
           218.83407275,
           279.05254142,
           53.32977965,
           95.39926262,
           241.4720469,
           75.78358431
          ],
          "sizemode": "area",
          "sizeref": 0.639748435229,
          "symbol": "circle"
         },
         "mode": "markers",
         "name": "Latin America & the Caribbean",
         "orientation": "v",
         "showlegend": true,
         "type": "scatter",
         "x": [
          5109.85224490403,
          30279.3922080481,
          4790.45656586131,
          13822.7417486972,
          7558.37175410092,
          3414.46515834714,
          1105.50682477118,
          4103.6016371324,
          6949.20417333029,
          8277.67156384567,
          2729.49917213529,
          2428.56887928932,
          5226.94409982496,
          5339.3935508934
         ],
         "xaxis": "x",
         "y": [
          15.8031702041626,
          18.5599994659424,
          11.2647199630737,
          18.2429790496826,
          16.199089050293,
          15.5314502716064,
          13.8234395980835,
          14.2693700790405,
          16.3069705963135,
          21.9037895202637,
          14.2785196304321,
          14.1668500900269,
          9.47097015380859,
          22.5919895172119
         ],
         "yaxis": "y"
        },
        {
         "hovertemplate": "<b>%{hovertext}</b><br><br>Region=East Asia and Pacific<br>Year=YR2005<br>GDP per capita=%{x}<br>Current health expenditure per capita=%{y}<br>Population=%{marker.size}<extra></extra>",
         "hovertext": [
          "Australia",
          "China",
          "Fiji",
          "Indonesia",
          "Lao PDR",
          "New Zealand",
          "Philippines",
          "Singapore",
          "Thailand"
         ],
         "ids": [
          "Australia",
          "China",
          "Fiji",
          "Indonesia",
          "Lao PDR",
          "New Zealand",
          "Philippines",
          "Singapore",
          "Thailand"
         ],
         "legendgroup": "East Asia and Pacific",
         "marker": {
          "color": "#FFA15A",
          "size": [
           848.56129325,
           48.17227011,
           22.04019964,
           24.16303676,
           9.30493105,
           529.08646122,
           29.1938668,
           609.11919734,
           33.13270412
          ],
          "sizemode": "area",
          "sizeref": 0.639748435229,
          "symbol": "circle"
         },
         "mode": "markers",
         "name": "East Asia and Pacific",
         "orientation": "v",
         "showlegend": true,
         "type": "scatter",
         "x": [
          34080.9998953245,
          1753.41782926104,
          3627.63285585254,
          1263.28733171098,
          475.610796203932,
          27751.0654708859,
          1244.34874065936,
          29961.2632774569,
          2894.06265596401
         ],
         "xaxis": "x",
         "y": [
          13.585129737854,
          9.5,
          20.2661304473877,
          15.1487998962402,
          14.1277904510498,
          16.2579593658447,
          12.4223604202271,
          22.2787895202637,
          20.5468196868896
         ],
         "yaxis": "y"
        },
        {
         "hovertemplate": "<b>%{hovertext}</b><br><br>Region=Middle East and North Africa<br>Year=YR2005<br>GDP per capita=%{x}<br>Current health expenditure per capita=%{y}<br>Population=%{marker.size}<extra></extra>",
         "hovertext": [
          "Djibouti",
          "Egypt, Arab Rep.",
          "Iran, Islamic Rep.",
          "Israel",
          "Jordan",
          "Kuwait",
          "Lebanon",
          "Oman",
          "Qatar",
          "Saudi Arabia",
          "Tunisia"
         ],
         "ids": [
          "Djibouti",
          "Egypt, Arab Rep.",
          "Iran, Islamic Rep.",
          "Israel",
          "Jordan",
          "Kuwait",
          "Lebanon",
          "Oman",
          "Qatar",
          "Saudi Arabia",
          "Tunisia"
         ],
         "legendgroup": "Middle East and North Africa",
         "marker": {
          "color": "#19d3f3",
          "size": [
           17.30886212,
           42.457336,
           110.37800962,
           591.31449162,
           87.82154519,
           170.46367822,
           211.05306517,
           56.53700303,
           331.64465988,
           129.58135791,
           84.64833954
          ],
          "sizemode": "area",
          "sizeref": 0.639748435229,
          "symbol": "circle"
         },
         "mode": "markers",
         "name": "Middle East and North Africa",
         "orientation": "v",
         "showlegend": true,
         "type": "scatter",
         "x": [
          904.736679476444,
          1186.39331322717,
          3246.05112244352,
          20585.1386127162,
          2183.39464250953,
          35591.0371337921,
          4575.10745896031,
          12377.0800076389,
          51455.9509428993,
          13791.454761932,
          3193.20435786446
         ],
         "xaxis": "x",
         "y": [
          22.7150497436523,
          15.0436096191406,
          21.8996906280518,
          13.1818399429321,
          12.8599996566772,
          13.8541097640991,
          8.42131042480469,
          10.0536403656006,
          13.7447595596313,
          19.2922897338867,
          26.6956901550293
         ],
         "yaxis": "y"
        },
        {
         "hovertemplate": "<b>%{hovertext}</b><br><br>Region=North America<br>Year=YR2005<br>GDP per capita=%{x}<br>Current health expenditure per capita=%{y}<br>Population=%{marker.size}<extra></extra>",
         "hovertext": [
          "Canada"
         ],
         "ids": [
          "Canada"
         ],
         "legendgroup": "North America",
         "marker": {
          "color": "#FF6692",
          "size": [
           888.88368016
          ],
          "sizemode": "area",
          "sizeref": 0.639748435229,
          "symbol": "circle"
         },
         "mode": "markers",
         "name": "North America",
         "orientation": "v",
         "showlegend": true,
         "type": "scatter",
         "x": [
          36382.5079164537
         ],
         "xaxis": "x",
         "y": [
          12.1780700683594
         ],
         "yaxis": "y"
        }
       ],
       "frames": [
        {
         "data": [
          {
           "hovertemplate": "<b>%{hovertext}</b><br><br>Region=South Asia<br>Year=YR2005<br>GDP per capita=%{x}<br>Current health expenditure per capita=%{y}<br>Population=%{marker.size}<extra></extra>",
           "hovertext": [
            "Afghanistan",
            "Bhutan",
            "India",
            "Sri Lanka",
            "Maldives",
            "Nepal",
            "Pakistan"
           ],
           "ids": [
            "Afghanistan",
            "Bhutan",
            "India",
            "Sri Lanka",
            "Maldives",
            "Nepal",
            "Pakistan"
           ],
           "legendgroup": "South Asia",
           "marker": {
            "color": "#636efa",
            "size": [
             18.86634996,
             8.1517821,
             21.67475163,
             26.65572335,
             206.97915723,
             8.27001538,
             14.6657995
            ],
            "sizemode": "area",
            "sizeref": 0.639748435229,
            "symbol": "circle"
           },
           "mode": "markers",
           "name": "South Asia",
           "orientation": "v",
           "showlegend": true,
           "type": "scatter",
           "x": [
            242.031313175022,
            1228.43235572338,
            714.8610153644,
            1248.69818517034,
            3640.0121322011,
            315.805629997361,
            748.922589270883
           ],
           "xaxis": "x",
           "y": [
            15.0799999237061,
            22.9959201812744,
            11.208459854126,
            10.8999996185303,
            12.9361000061035,
            22.2942199707031,
            13.7775096893311
           ],
           "yaxis": "y"
          },
          {
           "hovertemplate": "<b>%{hovertext}</b><br><br>Region=Sub-Saharan Africa<br>Year=YR2005<br>GDP per capita=%{x}<br>Current health expenditure per capita=%{y}<br>Population=%{marker.size}<extra></extra>",
           "hovertext": [
            "Angola",
            "Burundi",
            "Benin",
            "Burkina Faso",
            "Botswana",
            "Central African Republic",
            "Cote d'Ivoire",
            "Cameroon",
            "Congo, Rep.",
            "Ghana",
            "Guinea",
            "Gambia, The",
            "Kenya",
            "Lesotho",
            "Madagascar",
            "Mali",
            "Mozambique",
            "Mauritius",
            "Sudan",
            "Senegal",
            "Sierra Leone",
            "Sao Tome and Principe",
            "Eswatini",
            "Chad",
            "Togo",
            "Tanzania",
            "South Africa",
            "Zambia"
           ],
           "ids": [
            "Angola",
            "Burundi",
            "Benin",
            "Burkina Faso",
            "Botswana",
            "Central African Republic",
            "Cote d'Ivoire",
            "Cameroon",
            "Congo, Rep.",
            "Ghana",
            "Guinea",
            "Gambia, The",
            "Kenya",
            "Lesotho",
            "Madagascar",
            "Mali",
            "Mozambique",
            "Mauritius",
            "Sudan",
            "Senegal",
            "Sierra Leone",
            "Sao Tome and Principe",
            "Eswatini",
            "Chad",
            "Togo",
            "Tanzania",
            "South Africa",
            "Zambia"
           ],
           "legendgroup": "Sub-Saharan Africa",
           "marker": {
            "color": "#EF553B",
            "size": [
             28.28505574,
             6.01945299,
             13.63776869,
             6.09032125,
             87.29575605,
             8.31152591,
             53.33010352,
             32.30732729,
             16.87773167,
             18.24164396,
             14.11091031,
             5.93626869,
             16.6966074,
             14.01943123,
             6.57095372,
             14.96492092,
             2.35534424,
             102.34526085,
             23.76941603,
             18.23411176,
             21.7050767,
             28.65997935,
             72.3732513,
             19.3270201,
             13.90895267,
             9.85045563,
             199.59613784,
             18.33799201
            ],
            "sizemode": "area",
            "sizeref": 0.639748435229,
            "symbol": "circle"
           },
           "mode": "markers",
           "name": "Sub-Saharan Africa",
           "orientation": "v",
           "showlegend": true,
           "type": "scatter",
           "x": [
            1902.42214975937,
            151.681566343002,
            822.785143124704,
            457.933430763383,
            5513.33106259322,
            331.294821098185,
            1309.59165283165,
            1100.17492617744,
            1835.60990812416,
            492.54405617264,
            322.415540033465,
            665.720215700547,
            511.616394301253,
            842.812630961302,
            319.537475081164,
            489.022855550956,
            416.809824183966,
            5282.90602155635,
            914.16650390625,
            992.688058138543,
            292.349066330563,
            866.504995638803,
            3083.83814075588,
            658.566973042801,
            406.562366042383,
            492.63134765625,
            6033.10149088554,
            702.741118447779
           ],
           "xaxis": "x",
           "y": [
            7.99235010147095,
            10.9592695236206,
            18.7903900146484,
            19.4941902160645,
            25.8235301971436,
            9.68047046661377,
            21.8456897735596,
            21.3776092529297,
            7.59781980514526,
            23.4299602508545,
            10.9474697113037,
            5.34417009353638,
            27.4693393707275,
            32.4049186706543,
            18.0330390930176,
            16.2803001403809,
            22.7181797027588,
            17.0881309509277,
            5.96680021286011,
            21.7709693908691,
            15.506609916687,
            12.1254796981812,
            20.8918590545654,
            14.6728200912476,
            17.6780796051025,
            18.1431407928467,
            19.9249897003174,
            7.72973012924194
           ],
           "yaxis": "y"
          },
          {
           "hovertemplate": "<b>%{hovertext}</b><br><br>Region=Europe and Central Asia<br>Year=YR2005<br>GDP per capita=%{x}<br>Current health expenditure per capita=%{y}<br>Population=%{marker.size}<extra></extra>",
           "hovertext": [
            "Albania",
            "Armenia",
            "Austria",
            "Azerbaijan",
            "Belgium",
            "Bulgaria",
            "Belarus",
            "Switzerland",
            "Cyprus",
            "Czechia",
            "Denmark",
            "Spain",
            "Estonia",
            "Finland",
            "United Kingdom",
            "Georgia",
            "Greece",
            "Hungary",
            "Ireland",
            "Iceland",
            "Italy",
            "Kazakhstan",
            "Kyrgyz Republic",
            "Lithuania",
            "Moldova",
            "Netherlands",
            "Norway",
            "Poland",
            "Portugal",
            "Romania",
            "Russian Federation",
            "Slovak Republic",
            "Slovenia",
            "Sweden",
            "Tajikistan",
            "Ukraine"
           ],
           "ids": [
            "Albania",
            "Armenia",
            "Austria",
            "Azerbaijan",
            "Belgium",
            "Bulgaria",
            "Belarus",
            "Switzerland",
            "Cyprus",
            "Czechia",
            "Denmark",
            "Spain",
            "Estonia",
            "Finland",
            "United Kingdom",
            "Georgia",
            "Greece",
            "Hungary",
            "Ireland",
            "Iceland",
            "Italy",
            "Kazakhstan",
            "Kyrgyz Republic",
            "Lithuania",
            "Moldova",
            "Netherlands",
            "Norway",
            "Poland",
            "Portugal",
            "Romania",
            "Russian Federation",
            "Slovak Republic",
            "Slovenia",
            "Sweden",
            "Tajikistan",
            "Ukraine"
           ],
           "legendgroup": "Europe and Central Asia",
           "marker": {
            "color": "#00cc96",
            "size": [
             86.81703828,
             60.80376976,
             1014.73097696,
             20.52321089,
             872.62887485,
             108.24201054,
             50.42561896,
             3912.29502499,
             792.22160397,
             125.96869298,
             722.21158443,
             586.04994848,
             133.96086663,
             716.52446314,
             664.54517395,
             102.20431738,
             757.96055824,
             267.14810862,
             832.2244064,
             971.11791493,
             602.75504894,
             50.59951145,
             15.37359399,
             172.10622289,
             34.03249534,
             1207.38432948,
             946.54039499,
             146.57018538,
             527.19318736,
             50.41336326,
             105.3724807,
             149.49778231,
             402.56093793,
             628.18773816,
             12.00400887,
             47.74009826
            ],
            "sizemode": "area",
            "sizeref": 0.639748435229,
            "symbol": "circle"
           },
           "mode": "markers",
           "name": "Europe and Central Asia",
           "orientation": "v",
           "showlegend": true,
           "type": "scatter",
           "x": [
            2673.78658429559,
            1643.75688889146,
            38417.4577857677,
            1578.40239029603,
            36809.7013403619,
            3899.90763774017,
            3125.81053502853,
            56546.7856553987,
            24959.259765625,
            13430.6698955613,
            48799.8256011275,
            26429.1509449319,
            10412.6443137966,
            39054.8504423825,
            42132.0907219815,
            1642.76093756395,
            22560.1472939077,
            11225.9325815328,
            50933.0216095589,
            56794.8501588953,
            32055.0920757503,
            3771.27895733845,
            476.552129968975,
            7854.76527867855,
            1034.70705816743,
            41994.7135305232,
            66810.478520868,
            8021.50574346795,
            18780.12751241,
            4617.92901643258,
            5323.462890625,
            11690.1134689407,
            18098.9085440003,
            43437.0631164776,
            340.583183232527,
            1894.47082519531
           ],
           "xaxis": "x",
           "y": [
            11.3579702377319,
            13.6480903625488,
            10.2618503570557,
            13.2231502532959,
            11.1755199432373,
            12.0725202560425,
            12.6201095581055,
            15.703989982605,
            15.8393602371216,
            9.12421035766602,
            15.7793397903442,
            10.7697601318359,
            14.2651500701904,
            12.2496995925903,
            13.0033798217773,
            11.1812496185303,
            8.70020961761475,
            10.8005695343018,
            13.6849298477173,
            16.3081493377686,
            8.97150993347168,
            10.2859497070313,
            16.7684001922607,
            14.5795602798462,
            19.2966499328613,
            12.3359098434448,
            16.3725299835205,
            12.2654895782471,
            10.8545999526978,
            10.8366804122925,
            11.9505701065063,
            9.46469974517822,
            12.0792798995972,
            12.6876201629639,
            15.2933797836304,
            13.7386503219604
           ],
           "yaxis": "y"
          },
          {
           "hovertemplate": "<b>%{hovertext}</b><br><br>Region=Latin America & the Caribbean<br>Year=YR2005<br>GDP per capita=%{x}<br>Current health expenditure per capita=%{y}<br>Population=%{marker.size}<extra></extra>",
           "hovertext": [
            "Argentina",
            "Bahamas, The",
            "Brazil",
            "Barbados",
            "Chile",
            "Colombia",
            "Guyana",
            "Jamaica",
            "St. Lucia",
            "Mexico",
            "Peru",
            "El Salvador",
            "Uruguay",
            "St. Vincent and the Grenadines"
           ],
           "ids": [
            "Argentina",
            "Bahamas, The",
            "Brazil",
            "Barbados",
            "Chile",
            "Colombia",
            "Guyana",
            "Jamaica",
            "St. Lucia",
            "Mexico",
            "Peru",
            "El Salvador",
            "Uruguay",
            "St. Vincent and the Grenadines"
           ],
           "legendgroup": "Latin America & the Caribbean",
           "marker": {
            "color": "#ab63fa",
            "size": [
             186.0785116,
             733.92531538,
             224.41961186,
             389.40846904,
             303.67887855,
             56.40914357,
             33.22696399,
             92.33444705,
             218.83407275,
             279.05254142,
             53.32977965,
             95.39926262,
             241.4720469,
             75.78358431
            ],
            "sizemode": "area",
            "sizeref": 0.639748435229,
            "symbol": "circle"
           },
           "mode": "markers",
           "name": "Latin America & the Caribbean",
           "orientation": "v",
           "showlegend": true,
           "type": "scatter",
           "x": [
            5109.85224490403,
            30279.3922080481,
            4790.45656586131,
            13822.7417486972,
            7558.37175410092,
            3414.46515834714,
            1105.50682477118,
            4103.6016371324,
            6949.20417333029,
            8277.67156384567,
            2729.49917213529,
            2428.56887928932,
            5226.94409982496,
            5339.3935508934
           ],
           "xaxis": "x",
           "y": [
            15.8031702041626,
            18.5599994659424,
            11.2647199630737,
            18.2429790496826,
            16.199089050293,
            15.5314502716064,
            13.8234395980835,
            14.2693700790405,
            16.3069705963135,
            21.9037895202637,
            14.2785196304321,
            14.1668500900269,
            9.47097015380859,
            22.5919895172119
           ],
           "yaxis": "y"
          },
          {
           "hovertemplate": "<b>%{hovertext}</b><br><br>Region=East Asia and Pacific<br>Year=YR2005<br>GDP per capita=%{x}<br>Current health expenditure per capita=%{y}<br>Population=%{marker.size}<extra></extra>",
           "hovertext": [
            "Australia",
            "China",
            "Fiji",
            "Indonesia",
            "Lao PDR",
            "New Zealand",
            "Philippines",
            "Singapore",
            "Thailand"
           ],
           "ids": [
            "Australia",
            "China",
            "Fiji",
            "Indonesia",
            "Lao PDR",
            "New Zealand",
            "Philippines",
            "Singapore",
            "Thailand"
           ],
           "legendgroup": "East Asia and Pacific",
           "marker": {
            "color": "#FFA15A",
            "size": [
             848.56129325,
             48.17227011,
             22.04019964,
             24.16303676,
             9.30493105,
             529.08646122,
             29.1938668,
             609.11919734,
             33.13270412
            ],
            "sizemode": "area",
            "sizeref": 0.639748435229,
            "symbol": "circle"
           },
           "mode": "markers",
           "name": "East Asia and Pacific",
           "orientation": "v",
           "showlegend": true,
           "type": "scatter",
           "x": [
            34080.9998953245,
            1753.41782926104,
            3627.63285585254,
            1263.28733171098,
            475.610796203932,
            27751.0654708859,
            1244.34874065936,
            29961.2632774569,
            2894.06265596401
           ],
           "xaxis": "x",
           "y": [
            13.585129737854,
            9.5,
            20.2661304473877,
            15.1487998962402,
            14.1277904510498,
            16.2579593658447,
            12.4223604202271,
            22.2787895202637,
            20.5468196868896
           ],
           "yaxis": "y"
          },
          {
           "hovertemplate": "<b>%{hovertext}</b><br><br>Region=Middle East and North Africa<br>Year=YR2005<br>GDP per capita=%{x}<br>Current health expenditure per capita=%{y}<br>Population=%{marker.size}<extra></extra>",
           "hovertext": [
            "Djibouti",
            "Egypt, Arab Rep.",
            "Iran, Islamic Rep.",
            "Israel",
            "Jordan",
            "Kuwait",
            "Lebanon",
            "Oman",
            "Qatar",
            "Saudi Arabia",
            "Tunisia"
           ],
           "ids": [
            "Djibouti",
            "Egypt, Arab Rep.",
            "Iran, Islamic Rep.",
            "Israel",
            "Jordan",
            "Kuwait",
            "Lebanon",
            "Oman",
            "Qatar",
            "Saudi Arabia",
            "Tunisia"
           ],
           "legendgroup": "Middle East and North Africa",
           "marker": {
            "color": "#19d3f3",
            "size": [
             17.30886212,
             42.457336,
             110.37800962,
             591.31449162,
             87.82154519,
             170.46367822,
             211.05306517,
             56.53700303,
             331.64465988,
             129.58135791,
             84.64833954
            ],
            "sizemode": "area",
            "sizeref": 0.639748435229,
            "symbol": "circle"
           },
           "mode": "markers",
           "name": "Middle East and North Africa",
           "orientation": "v",
           "showlegend": true,
           "type": "scatter",
           "x": [
            904.736679476444,
            1186.39331322717,
            3246.05112244352,
            20585.1386127162,
            2183.39464250953,
            35591.0371337921,
            4575.10745896031,
            12377.0800076389,
            51455.9509428993,
            13791.454761932,
            3193.20435786446
           ],
           "xaxis": "x",
           "y": [
            22.7150497436523,
            15.0436096191406,
            21.8996906280518,
            13.1818399429321,
            12.8599996566772,
            13.8541097640991,
            8.42131042480469,
            10.0536403656006,
            13.7447595596313,
            19.2922897338867,
            26.6956901550293
           ],
           "yaxis": "y"
          },
          {
           "hovertemplate": "<b>%{hovertext}</b><br><br>Region=North America<br>Year=YR2005<br>GDP per capita=%{x}<br>Current health expenditure per capita=%{y}<br>Population=%{marker.size}<extra></extra>",
           "hovertext": [
            "Canada"
           ],
           "ids": [
            "Canada"
           ],
           "legendgroup": "North America",
           "marker": {
            "color": "#FF6692",
            "size": [
             888.88368016
            ],
            "sizemode": "area",
            "sizeref": 0.639748435229,
            "symbol": "circle"
           },
           "mode": "markers",
           "name": "North America",
           "orientation": "v",
           "showlegend": true,
           "type": "scatter",
           "x": [
            36382.5079164537
           ],
           "xaxis": "x",
           "y": [
            12.1780700683594
           ],
           "yaxis": "y"
          }
         ],
         "name": "YR2005"
        },
        {
         "data": [
          {
           "hovertemplate": "<b>%{hovertext}</b><br><br>Region=South Asia<br>Year=YR2010<br>GDP per capita=%{x}<br>Current health expenditure per capita=%{y}<br>Population=%{marker.size}<extra></extra>",
           "hovertext": [
            "Afghanistan",
            "Bangladesh",
            "Bhutan",
            "India",
            "Sri Lanka",
            "Maldives",
            "Nepal",
            "Pakistan"
           ],
           "ids": [
            "Afghanistan",
            "Bangladesh",
            "Bhutan",
            "India",
            "Sri Lanka",
            "Maldives",
            "Nepal",
            "Pakistan"
           ],
           "legendgroup": "South Asia",
           "marker": {
            "color": "#636efa",
            "size": [
             35.54101566,
             14.51739532,
             12.54553091,
             32.86493337,
             63.23617015,
             262.4739046,
             20.39336768,
             18.44697089
            ],
            "sizemode": "area",
            "sizeref": 0.639748435229,
            "symbol": "circle"
           },
           "mode": "markers",
           "name": "South Asia",
           "orientation": "v",
           "showlegend": true,
           "type": "scatter",
           "x": [
            543.306526178281,
            781.153577677298,
            2258.18643535953,
            1357.5637268318,
            2799.64873802555,
            7076.73982087196,
            592.401207101201,
            987.409712037523
           ],
           "xaxis": "x",
           "y": [
            17.0675601959229,
            21,
            11.7936897277832,
            11.8336801528931,
            8.6056604385376,
            10.946310043335,
            16.0323505401611,
            11.8646602630615
           ],
           "yaxis": "y"
          },
          {
           "hovertemplate": "<b>%{hovertext}</b><br><br>Region=Sub-Saharan Africa<br>Year=YR2010<br>GDP per capita=%{x}<br>Current health expenditure per capita=%{y}<br>Population=%{marker.size}<extra></extra>",
           "hovertext": [
            "Angola",
            "Burundi",
            "Benin",
            "Burkina Faso",
            "Central African Republic",
            "Cote d'Ivoire",
            "Cameroon",
            "Congo, Dem. Rep.",
            "Congo, Rep.",
            "Cabo Verde",
            "Ethiopia",
            "Gabon",
            "Ghana",
            "Guinea",
            "Gambia, The",
            "Guinea-Bissau",
            "Kenya",
            "Mali",
            "Mozambique",
            "Mauritius",
            "Malawi",
            "Namibia",
            "Niger",
            "Rwanda",
            "Senegal",
            "Sierra Leone",
            "Sao Tome and Principe",
            "Eswatini",
            "Seychelles",
            "Chad",
            "Togo",
            "Tanzania",
            "Uganda",
            "South Africa",
            "Zambia",
            "Zimbabwe"
           ],
           "ids": [
            "Angola",
            "Burundi",
            "Benin",
            "Burkina Faso",
            "Central African Republic",
            "Cote d'Ivoire",
            "Cameroon",
            "Congo, Dem. Rep.",
            "Congo, Rep.",
            "Cabo Verde",
            "Ethiopia",
            "Gabon",
            "Ghana",
            "Guinea",
            "Gambia, The",
            "Guinea-Bissau",
            "Kenya",
            "Mali",
            "Mozambique",
            "Mauritius",
            "Malawi",
            "Namibia",
            "Niger",
            "Rwanda",
            "Senegal",
            "Sierra Leone",
            "Sao Tome and Principe",
            "Eswatini",
            "Seychelles",
            "Chad",
            "Togo",
            "Tanzania",
            "Uganda",
            "South Africa",
            "Zambia",
            "Zimbabwe"
           ],
           "legendgroup": "Sub-Saharan Africa",
           "marker": {
            "color": "#EF553B",
            "size": [
             33.49321036,
             10.43094475,
             15.55759509,
             11.42022631,
             11.88384894,
             56.36825796,
             38.99174858,
             5.79263399,
             24.79833792,
             46.41014877,
             8.06709831,
             77.35082227,
             25.39234833,
             16.12875048,
             8.36248405,
             16.15212024,
             24.58445426,
             19.3904633,
             2.18157505,
             198.14694438,
             5.27743899,
             231.51353914,
             14.72074287,
             11.26635484,
             30.13409573,
             28.24533653,
             17.46079896,
             90.38565049,
             172.33775673,
             26.54245483,
             21.91453596,
             12.31982897,
             20.0776561,
             260.57376768,
             17.59175004,
             45.93941672
            ],
            "sizemode": "area",
            "sizeref": 0.639748435229,
            "symbol": "circle"
           },
           "mode": "markers",
           "name": "Sub-Saharan Africa",
           "orientation": "v",
           "showlegend": true,
           "type": "scatter",
           "x": [
            3497.9744877961,
            234.235538877634,
            1036.53451502404,
            647.836095537879,
            488.421735800876,
            1701.47570153451,
            1352.30227450638,
            334.02157774666,
            3076.55644910171,
            3378.3234334576,
            341.554122699663,
            8849.32260799167,
            1299.34521164062,
            672.424930359396,
            860.636433851486,
            558.174668134758,
            1080.29618449063,
            710.274303600905,
            471.904360009894,
            8000.37643182154,
            478.668688469613,
            5394.99671166874,
            476.869532167304,
            609.754297393961,
            1271.58328084525,
            401.834876099443,
            1090.26076257543,
            4168.48940292685,
            10804.7232956282,
            892.568869694168,
            534.04478262418,
            743.403686523438,
            822.539372481326,
            8148.9612020223,
            1489.45908689417,
            948.331481033457
           ],
           "xaxis": "x",
           "y": [
            8.68476963043213,
            16.5881004333496,
            26.1439609527588,
            16.1728191375732,
            6.47537994384766,
            22.7727508544922,
            18.7538890838623,
            9.57849979400635,
            24.7277793884277,
            14.2168998718262,
            26.3040409088135,
            13.3304195404053,
            20.6961402893066,
            12.4383201599121,
            17.6112308502197,
            9.06923961639404,
            20.5559902191162,
            16.5039100646973,
            19.9230003356934,
            14.5731496810913,
            12.4599800109863,
            26.1235103607178,
            19.0896492004395,
            17.548059463501,
            24.046350479126,
            12.8019104003906,
            19.3274097442627,
            18.2830295562744,
            10.8643798828125,
            8.1192798614502,
            19.6157608032227,
            19.8020191192627,
            10.1048898696899,
            18.0443706512451,
            16.8999996185303,
            8.53672027587891
           ],
           "yaxis": "y"
          },
          {
           "hovertemplate": "<b>%{hovertext}</b><br><br>Region=Europe and Central Asia<br>Year=YR2010<br>GDP per capita=%{x}<br>Current health expenditure per capita=%{y}<br>Population=%{marker.size}<extra></extra>",
           "hovertext": [
            "Armenia",
            "Austria",
            "Azerbaijan",
            "Belgium",
            "Bulgaria",
            "Belarus",
            "Switzerland",
            "Cyprus",
            "Czechia",
            "Germany",
            "Denmark",
            "Spain",
            "Estonia",
            "Finland",
            "United Kingdom",
            "Croatia",
            "Hungary",
            "Ireland",
            "Iceland",
            "Italy",
            "Kyrgyz Republic",
            "Lithuania",
            "Latvia",
            "Moldova",
            "Netherlands",
            "Norway",
            "Poland",
            "Portugal",
            "Romania",
            "Serbia",
            "Slovak Republic",
            "Slovenia",
            "Sweden",
            "Tajikistan"
           ],
           "ids": [
            "Armenia",
            "Austria",
            "Azerbaijan",
            "Belgium",
            "Bulgaria",
            "Belarus",
            "Switzerland",
            "Cyprus",
            "Czechia",
            "Germany",
            "Denmark",
            "Spain",
            "Estonia",
            "Finland",
            "United Kingdom",
            "Croatia",
            "Hungary",
            "Ireland",
            "Iceland",
            "Italy",
            "Kyrgyz Republic",
            "Lithuania",
            "Latvia",
            "Moldova",
            "Netherlands",
            "Norway",
            "Poland",
            "Portugal",
            "Romania",
            "Serbia",
            "Slovak Republic",
            "Slovenia",
            "Sweden",
            "Tajikistan"
           ],
           "legendgroup": "Europe and Central Asia",
           "marker": {
            "color": "#00cc96",
            "size": [
             231.87482023,
             1325.22504677,
             84.47678003,
             1089.41598102,
             216.9423661,
             108.26445526,
             5211.58743974,
             1091.15992386,
             231.81296909,
             1120.70205753,
             969.07615746,
             712.89531032,
             222.34503656,
             911.5267556,
             696.81350055,
             186.87639988,
             328.10764109,
             1222.9041589,
             722.91484883,
             693.29505019,
             26.48136111,
             231.44303198,
             274.31158195,
             83.62017094,
             1699.68984673,
             1200.01637085,
             231.83530099,
             755.40985519,
             94.57593435,
             207.76701706,
             376.05457995,
             557.43979046,
             773.34422565,
             30.30720555
            ],
            "sizemode": "area",
            "sizeref": 0.639748435229,
            "symbol": "circle"
           },
           "mode": "markers",
           "name": "Europe and Central Asia",
           "orientation": "v",
           "showlegend": true,
           "type": "scatter",
           "x": [
            3218.37829927419,
            46903.7615854343,
            5843.5337683582,
            44184.946353964,
            6853.00285388669,
            6033.6862392722,
            77117.126014204,
            31023.638671875,
            19960.0684872157,
            41572.4559481507,
            58041.3984363385,
            30532.4805081656,
            14663.0446126465,
            46505.3031791811,
            39688.6149684498,
            14067.5231191915,
            13223.0830027699,
            48655.3661626634,
            43237.0729488958,
            36035.6449950691,
            880.037775119109,
            11987.508411647,
            11420.9940032836,
            2437.53768326452,
            50999.7451168879,
            87693.7900658099,
            12613.0109954681,
            22520.6423124045,
            8214.07689289811,
            5735.42285659849,
            16841.7677398734,
            23532.4808545468,
            52869.0442891587,
            749.552412285997
           ],
           "xaxis": "x",
           "y": [
            12.4005098342896,
            10.7891302108765,
            8.70083999633789,
            11.9576501846313,
            11.1634197235107,
            11.7781295776367,
            15.2876396179199,
            15.6494903564453,
            9.24479961395264,
            10.2690401077271,
            15.1033401489258,
            10.548810005188,
            13.7002401351929,
            12.066089630127,
            12.7819900512695,
            8.73834991455078,
            9.6772403717041,
            9.32332038879395,
            14.2312202453613,
            8.68076992034912,
            15.6813097000122,
            12.8588199615479,
            11.8090295791626,
            22.2670097351074,
            11.6690502166748,
            15.0884895324707,
            11.0435695648193,
            10.4289102554321,
            9.12913036346436,
            10.0982303619385,
            9.59832000732422,
            11.0519895553589,
            13.2209997177124,
            15.3314504623413
           ],
           "yaxis": "y"
          },
          {
           "hovertemplate": "<b>%{hovertext}</b><br><br>Region=Latin America & the Caribbean<br>Year=YR2010<br>GDP per capita=%{x}<br>Current health expenditure per capita=%{y}<br>Population=%{marker.size}<extra></extra>",
           "hovertext": [
            "Argentina",
            "Bahamas, The",
            "Belize",
            "Bolivia",
            "Brazil",
            "Barbados",
            "Chile",
            "Colombia",
            "Costa Rica",
            "Dominican Republic",
            "Ecuador",
            "Guatemala",
            "Guyana",
            "Jamaica",
            "St. Lucia",
            "Mexico",
            "Nicaragua",
            "Peru",
            "Paraguay",
            "El Salvador",
            "Uruguay",
            "St. Vincent and the Grenadines"
           ],
           "ids": [
            "Argentina",
            "Bahamas, The",
            "Belize",
            "Bolivia",
            "Brazil",
            "Barbados",
            "Chile",
            "Colombia",
            "Costa Rica",
            "Dominican Republic",
            "Ecuador",
            "Guatemala",
            "Guyana",
            "Jamaica",
            "St. Lucia",
            "Mexico",
            "Nicaragua",
            "Peru",
            "Paraguay",
            "El Salvador",
            "Uruguay",
            "St. Vincent and the Grenadines"
           ],
           "legendgroup": "Latin America & the Caribbean",
           "marker": {
            "color": "#ab63fa",
            "size": [
             401.21882204,
             812.67088944,
             74.27532996,
             38.29264168,
             490.78749798,
             481.34375363,
             458.90183328,
             124.17465504,
             181.49171917,
             168.32271469,
             147.30376161,
             110.64300482,
             61.43848764,
             100.33113057,
             266.19738978,
             264.78124621,
             46.0312838,
             113.56249159,
             142.73394267,
             90.82721452,
             411.79502738,
             101.8936938
            ],
            "sizemode": "area",
            "sizeref": 0.639748435229,
            "symbol": "circle"
           },
           "mode": "markers",
           "name": "Latin America & the Caribbean",
           "orientation": "v",
           "showlegend": true,
           "type": "scatter",
           "x": [
            10385.9644319555,
            28443.8884756689,
            4304.11110815138,
            1955.460180975,
            11286.071540212,
            16056.1168470231,
            12724.10406267,
            6336.70947398466,
            8227.12749376825,
            5555.39201393816,
            4633.59128443099,
            2852.54732650116,
            4580.69876204788,
            4704.04775962425,
            8540.07097992462,
            9271.39839576997,
            1503.87223074992,
            5082.35370614454,
            4342.06584459985,
            2983.2288061357,
            11992.0237658273,
            6654.79290746741
           ],
           "xaxis": "x",
           "y": [
            15.0479698181152,
            16.6100006103516,
            22.7557792663574,
            18.2000007629395,
            14.1598596572876,
            18.0963306427002,
            17.8533096313477,
            15.926830291748,
            22.8808898925781,
            14.8493003845215,
            12.9965600967407,
            19.2969207763672,
            11.8387203216553,
            16.1029396057129,
            14.2020797729492,
            18.6425895690918,
            26.4080009460449,
            13.5555801391602,
            18.7624092102051,
            15.8184099197388,
            17.4524002075195,
            15.4856300354004
           ],
           "yaxis": "y"
          },
          {
           "hovertemplate": "<b>%{hovertext}</b><br><br>Region=East Asia and Pacific<br>Year=YR2010<br>GDP per capita=%{x}<br>Current health expenditure per capita=%{y}<br>Population=%{marker.size}<extra></extra>",
           "hovertext": [
            "Australia",
            "Brunei Darussalam",
            "China",
            "Fiji",
            "Indonesia",
            "Cambodia",
            "Korea, Rep.",
            "Lao PDR",
            "Myanmar",
            "Mongolia",
            "Malaysia",
            "New Zealand",
            "Singapore",
            "Solomon Islands",
            "Thailand",
            "Timor-Leste",
            "Vietnam",
            "Samoa"
           ],
           "ids": [
            "Australia",
            "Brunei Darussalam",
            "China",
            "Fiji",
            "Indonesia",
            "Cambodia",
            "Korea, Rep.",
            "Lao PDR",
            "Myanmar",
            "Mongolia",
            "Malaysia",
            "New Zealand",
            "Singapore",
            "Solomon Islands",
            "Thailand",
            "Timor-Leste",
            "Vietnam",
            "Samoa"
           ],
           "legendgroup": "East Asia and Pacific",
           "marker": {
            "color": "#FFA15A",
            "size": [
             1366.94320432,
             66.3821619,
             89.46375706,
             40.27114318,
             65.7542065,
             35.99677371,
             555.27116364,
             21.88963838,
             15.82786422,
             29.92333783,
             136.21764529,
             698.86586513,
             959.73563153,
             2.82989815,
             44.91136123,
             6.19099918,
             45.71716244,
             25.89630315
            ],
            "sizemode": "area",
            "sizeref": 0.639748435229,
            "symbol": "circle"
           },
           "mode": "markers",
           "name": "East Asia and Pacific",
           "orientation": "v",
           "showlegend": true,
           "type": "scatter",
           "x": [
            52087.9722888891,
            35270.6421390658,
            4550.45310775599,
            3652.53593320954,
            3122.36267319362,
            785.50266705782,
            23087.2256438476,
            1141.23570253091,
            746.945359978558,
            2643.28708316435,
            9040.56849464524,
            33676.7741239925,
            47236.9602345421,
            1604.14888755803,
            5076.33987220163,
            806.41434929681,
            1673.3292888042,
            3566.45833371884
           ],
           "xaxis": "x",
           "y": [
            14.3240003585815,
            5.30208015441895,
            14.9620943069458,
            20.8386993408203,
            16.6541805267334,
            7.33747005462646,
            14.8199996948242,
            7.24696016311646,
            7.5,
            14.7111396789551,
            18.4062309265137,
            15.6810998916626,
            18.5717296600342,
            16.6766796112061,
            16.222620010376,
            9.15421009063721,
            17.0566692352295,
            19.3899993896484
           ],
           "yaxis": "y"
          },
          {
           "hovertemplate": "<b>%{hovertext}</b><br><br>Region=Middle East and North Africa<br>Year=YR2010<br>GDP per capita=%{x}<br>Current health expenditure per capita=%{y}<br>Population=%{marker.size}<extra></extra>",
           "hovertext": [
            "Bahrain",
            "Djibouti",
            "Egypt, Arab Rep.",
            "Iran, Islamic Rep.",
            "Israel",
            "Jordan",
            "Kuwait",
            "Lebanon",
            "Malta",
            "Qatar",
            "Tunisia",
            "Yemen, Rep."
           ],
           "ids": [
            "Bahrain",
            "Djibouti",
            "Egypt, Arab Rep.",
            "Iran, Islamic Rep.",
            "Israel",
            "Jordan",
            "Kuwait",
            "Lebanon",
            "Malta",
            "Qatar",
            "Tunisia",
            "Yemen, Rep."
           ],
           "legendgroup": "Middle East and North Africa",
           "marker": {
            "color": "#19d3f3",
            "size": [
             294.88814479,
             16.60064131,
             75.22799026,
             301.46119681,
             802.49225318,
             87.86404466,
             163.26651687,
             340.17879501,
             614.14100406,
             349.85782764,
             104.91336946,
             51.68709842
            ],
            "sizemode": "area",
            "sizeref": 0.639748435229,
            "symbol": "circle"
           },
           "mode": "markers",
           "name": "Middle East and North Africa",
           "orientation": "v",
           "showlegend": true,
           "type": "scatter",
           "x": [
            20722.0704900745,
            1343.27512498519,
            2645.96875877924,
            6599.66093791004,
            30780.0238155167,
            3736.64546207921,
            38577.4982788212,
            7761.64148945415,
            21799.1742559798,
            67403.0876779676,
            4344.61941760278,
            1334.78490225941
           ],
           "xaxis": "x",
           "y": [
            11.6999998092651,
            12.3283996582031,
            11.297534942627,
            19.2569103240967,
            13.7162704467773,
            8.10000038146973,
            7.86999988555908,
            5.53428983688354,
            15.7192096710205,
            13.8172702789307,
            24.846830368042,
            14.5421018600464
           ],
           "yaxis": "y"
          },
          {
           "hovertemplate": "<b>%{hovertext}</b><br><br>Region=North America<br>Year=YR2010<br>GDP per capita=%{x}<br>Current health expenditure per capita=%{y}<br>Population=%{marker.size}<extra></extra>",
           "hovertext": [
            "Canada"
           ],
           "ids": [
            "Canada"
           ],
           "legendgroup": "North America",
           "marker": {
            "color": "#FF6692",
            "size": [
             1524.58514472
            ],
            "sizemode": "area",
            "sizeref": 0.639748435229,
            "symbol": "circle"
           },
           "mode": "markers",
           "name": "North America",
           "orientation": "v",
           "showlegend": true,
           "type": "scatter",
           "x": [
            47562.0834253057
           ],
           "xaxis": "x",
           "y": [
            12.3359603881836
           ],
           "yaxis": "y"
          }
         ],
         "name": "YR2010"
        },
        {
         "data": [
          {
           "hovertemplate": "<b>%{hovertext}</b><br><br>Region=South Asia<br>Year=YR2015<br>GDP per capita=%{x}<br>Current health expenditure per capita=%{y}<br>Population=%{marker.size}<extra></extra>",
           "hovertext": [
            "Afghanistan",
            "Bangladesh",
            "Bhutan",
            "India",
            "Sri Lanka",
            "Maldives",
            "Nepal",
            "Pakistan"
           ],
           "ids": [
            "Afghanistan",
            "Bangladesh",
            "Bhutan",
            "India",
            "Sri Lanka",
            "Maldives",
            "Nepal",
            "Pakistan"
           ],
           "legendgroup": "South Asia",
           "marker": {
            "color": "#636efa",
            "size": [
             46.17228869,
             24.4209882,
             20.37686074,
             43.39118121,
             81.98848914,
             218.75437393,
             33.03861994,
             24.7185381
            ],
            "sizemode": "area",
            "sizeref": 0.639748435229,
            "symbol": "circle"
           },
           "mode": "markers",
           "name": "South Asia",
           "orientation": "v",
           "showlegend": true,
           "type": "scatter",
           "x": [
            556.007220861443,
            1248.45330989613,
            2752.63017233678,
            1605.60544457087,
            3843.78067184442,
            9033.41027034576,
            901.74960773293,
            1356.66783065763
           ],
           "xaxis": "x",
           "y": [
            12.5089998245239,
            13.70046043396,
            25.5244808197021,
            15.6922197341919,
            10.9502601623535,
            11.4492502212524,
            16.9896602630615,
            13.1872797012329
           ],
           "yaxis": "y"
          },
          {
           "hovertemplate": "<b>%{hovertext}</b><br><br>Region=Sub-Saharan Africa<br>Year=YR2015<br>GDP per capita=%{x}<br>Current health expenditure per capita=%{y}<br>Population=%{marker.size}<extra></extra>",
           "hovertext": [
            "Angola",
            "Burundi",
            "Benin",
            "Burkina Faso",
            "Botswana",
            "Central African Republic",
            "Cote d'Ivoire",
            "Cameroon",
            "Congo, Dem. Rep.",
            "Congo, Rep.",
            "Comoros",
            "Cabo Verde",
            "Ethiopia",
            "Gabon",
            "Ghana",
            "Guinea",
            "Gambia, The",
            "Guinea-Bissau",
            "Kenya",
            "Lesotho",
            "Madagascar",
            "Mali",
            "Mozambique",
            "Mauritius",
            "Malawi",
            "Namibia",
            "Niger",
            "Nigeria",
            "Rwanda",
            "Senegal",
            "Sao Tome and Principe",
            "Seychelles",
            "Chad",
            "Togo",
            "Uganda",
            "South Africa",
            "Zambia",
            "Zimbabwe"
           ],
           "ids": [
            "Angola",
            "Burundi",
            "Benin",
            "Burkina Faso",
            "Botswana",
            "Central African Republic",
            "Cote d'Ivoire",
            "Cameroon",
            "Congo, Dem. Rep.",
            "Congo, Rep.",
            "Comoros",
            "Cabo Verde",
            "Ethiopia",
            "Gabon",
            "Ghana",
            "Guinea",
            "Gambia, The",
            "Guinea-Bissau",
            "Kenya",
            "Lesotho",
            "Madagascar",
            "Mali",
            "Mozambique",
            "Mauritius",
            "Malawi",
            "Namibia",
            "Niger",
            "Nigeria",
            "Rwanda",
            "Senegal",
            "Sao Tome and Principe",
            "Seychelles",
            "Chad",
            "Togo",
            "Uganda",
            "South Africa",
            "Zambia",
            "Zimbabwe"
           ],
           "legendgroup": "Sub-Saharan Africa",
           "marker": {
            "color": "#EF553B",
            "size": [
             54.25286316,
             10.33014331,
             14.28518296,
             15.74289494,
             98.1711161,
             9.41336493,
             39.33674366,
             39.8094229,
             8.69540561,
             21.38018386,
             45.21186574,
             44.06326509,
             13.50965767,
             79.02572098,
             32.22670946,
             30.90018468,
             7.05475749,
             37.72093324,
             29.0961118,
             17.35675136,
             7.33698183,
             11.22333425,
             7.24464045,
             294.87740594,
             6.36926879,
             254.54414556,
             14.1496588,
             72.02040296,
             13.07634239,
             30.67831456,
             14.7833323,
             192.70412508,
             21.66391811,
             24.98377714,
             16.50463554,
             207.79181863,
             9.79281313,
             59.14794047
            ],
            "sizemode": "area",
            "sizeref": 0.639748435229,
            "symbol": "circle"
           },
           "mode": "markers",
           "name": "Sub-Saharan Africa",
           "orientation": "v",
           "showlegend": true,
           "type": "scatter",
           "x": [
            3127.89059784461,
            305.511144099475,
            1076.79669785585,
            653.32726813947,
            6402.91018338391,
            377.422917680195,
            1972.54568305836,
            1382.5097900241,
            497.317039077365,
            2448.52377758887,
            1242.58560784999,
            3043.03138156811,
            640.541923075422,
            7384.70070393071,
            1774.07477092508,
            769.255475432822,
            660.723571244322,
            603.399381547733,
            1464.55400904329,
            1146.06468787308,
            467.235431614314,
            751.472889186889,
            589.85943137707,
            9260.44730250635,
            380.596987683774,
            4896.61526001377,
            484.153137350801,
            2687.48005643212,
            751.110505478611,
            1219.24941513302,
            1584.77565743788,
            15157.5018256876,
            776.019752284262,
            570.909967175308,
            847.267628934983,
            6259.83968110571,
            1338.29092708188,
            1445.06970213198
           ],
           "xaxis": "x",
           "y": [
            8.918776512146,
            27.4972400665283,
            17.4795207977295,
            18.0270805358887,
            17.5282592773438,
            8.38674163818359,
            21.1732196807861,
            13.243989944458,
            11.7383699417114,
            7.95039987564087,
            13.3536500930786,
            16.7482299804688,
            27.0987091064453,
            10.9131603240967,
            23.8087997436523,
            11.5987796783447,
            11.0329303741455,
            13,
            16.6646595001221,
            14,
            16.9629096984863,
            18.1554908752441,
            19.8523406982422,
            19.4570903778076,
            21.7978992462158,
            22.5713291168213,
            18.5121898651123,
            9.2555103302002,
            12.5390501022339,
            23.7782707214355,
            11.2973403930664,
            12.5869798660278,
            8.89999961853027,
            16.6649894714355,
            13.2200803756714,
            18.6993503570557,
            16.335599899292,
            29.4708309173584
           ],
           "yaxis": "y"
          },
          {
           "hovertemplate": "<b>%{hovertext}</b><br><br>Region=Europe and Central Asia<br>Year=YR2015<br>GDP per capita=%{x}<br>Current health expenditure per capita=%{y}<br>Population=%{marker.size}<extra></extra>",
           "hovertext": [
            "Albania",
            "Armenia",
            "Austria",
            "Azerbaijan",
            "Belgium",
            "Belarus",
            "Switzerland",
            "Cyprus",
            "Czechia",
            "Germany",
            "Spain",
            "Estonia",
            "Finland",
            "United Kingdom",
            "Greece",
            "Hungary",
            "Ireland",
            "Iceland",
            "Italy",
            "Kazakhstan",
            "Kyrgyz Republic",
            "Lithuania",
            "Luxembourg",
            "Latvia",
            "Moldova",
            "Netherlands",
            "Norway",
            "Poland",
            "Portugal",
            "Romania",
            "Russian Federation",
            "Serbia",
            "Slovak Republic",
            "Slovenia",
            "Sweden",
            "Tajikistan",
            "Ukraine",
            "Uzbekistan"
           ],
           "ids": [
            "Albania",
            "Armenia",
            "Austria",
            "Azerbaijan",
            "Belgium",
            "Belarus",
            "Switzerland",
            "Cyprus",
            "Czechia",
            "Germany",
            "Spain",
            "Estonia",
            "Finland",
            "United Kingdom",
            "Greece",
            "Hungary",
            "Ireland",
            "Iceland",
            "Italy",
            "Kazakhstan",
            "Kyrgyz Republic",
            "Lithuania",
            "Luxembourg",
            "Latvia",
            "Moldova",
            "Netherlands",
            "Norway",
            "Poland",
            "Portugal",
            "Romania",
            "Russian Federation",
            "Serbia",
            "Slovak Republic",
            "Slovenia",
            "Sweden",
            "Tajikistan",
            "Ukraine",
            "Uzbekistan"
           ],
           "legendgroup": "Europe and Central Asia",
           "marker": {
            "color": "#00cc96",
            "size": [
             83.49495732,
             302.93554396,
             1270.55566366,
             152.77849988,
             1033.92438365,
             140.83690529,
             6397.48435229,
             894.74642566,
             228.13707059,
             1065.21984195,
             673.82252373,
             272.38504896,
             884.67042658,
             894.62872586,
             602.52261989,
             280.43536432,
             1276.77984759,
             821.43145104,
             684.02423826,
             117.32389985,
             43.7196369,
             309.36539925,
             765.01574184,
             320.77130262,
             87.96360274,
             1586.33907695,
             1095.90027851,
             246.24087417,
             685.23654537,
             97.54519708,
             205.6048489,
             205.87700933,
             235.74444979,
             508.70505304,
             897.97304881,
             40.36810153,
             80.26514655,
             64.39177202
            ],
            "sizemode": "area",
            "sizeref": 0.639748435229,
            "symbol": "circle"
           },
           "mode": "markers",
           "name": "Europe and Central Asia",
           "orientation": "v",
           "showlegend": true,
           "type": "scatter",
           "x": [
            3952.80253807527,
            3607.28929855361,
            44195.8175947748,
            5500.31038244408,
            41008.296719472,
            5967.05220384914,
            84776.1421659748,
            23408.3359375,
            17829.6983223668,
            41103.2564363768,
            25742.3688346767,
            17402.0376128079,
            42801.9081167285,
            45404.5677734722,
            18083.8779056547,
            12720.7120220668,
            62012.4849258149,
            52951.6815110898,
            30242.3861352184,
            10510.7718884149,
            1121.08283510739,
            14263.9645773495,
            105462.012584423,
            13786.4567953114,
            2732.46072997894,
            45193.4032187971,
            74355.5158575643,
            12578.4954734362,
            19250.1065376852,
            8969.14892146193,
            9313.013671875,
            5588.98072768556,
            16342.2162621093,
            20890.1664304173,
            51545.4836095322,
            978.404981180605,
            2124.66235351563,
            2753.97107219949
           ],
           "xaxis": "x",
           "y": [
            11.1775503158569,
            10.6563596725464,
            10.6934795379639,
            7.63110017776489,
            12.0096797943115,
            11.4617300033569,
            15.3883600234985,
            16.024959564209,
            13.7163095474243,
            10.9991598129272,
            9.76646041870117,
            13.0143003463745,
            12.4436101913452,
            13.4902095794678,
            7.15652990341187,
            8.92302989959717,
            12.936840057373,
            17.1551399230957,
            8.09591007232666,
            12.193039894104,
            15.7167596817017,
            12.2882604598999,
            9.33442974090576,
            14.1274099349976,
            18.1821708679199,
            12.2096500396729,
            15.6075801849365,
            11.541410446167,
            10.1358299255371,
            9.09451007843018,
            10.8694696426392,
            8.8763599395752,
            10.0485095977783,
            10.0791702270508,
            15.3828802108765,
            16.3933601379395,
            13.3413009643555,
            22.3652591705322
           ],
           "yaxis": "y"
          },
          {
           "hovertemplate": "<b>%{hovertext}</b><br><br>Region=Latin America & the Caribbean<br>Year=YR2015<br>GDP per capita=%{x}<br>Current health expenditure per capita=%{y}<br>Population=%{marker.size}<extra></extra>",
           "hovertext": [
            "Argentina",
            "Bahamas, The",
            "Belize",
            "Bolivia",
            "Brazil",
            "Barbados",
            "Chile",
            "Colombia",
            "Costa Rica",
            "Dominican Republic",
            "Ecuador",
            "Guatemala",
            "Guyana",
            "Honduras",
            "Haiti",
            "Jamaica",
            "St. Lucia",
            "Mexico",
            "Nicaragua",
            "Panama",
            "Peru",
            "Paraguay",
            "El Salvador",
            "Suriname",
            "Trinidad and Tobago",
            "Uruguay"
           ],
           "ids": [
            "Argentina",
            "Bahamas, The",
            "Belize",
            "Bolivia",
            "Brazil",
            "Barbados",
            "Chile",
            "Colombia",
            "Costa Rica",
            "Dominican Republic",
            "Ecuador",
            "Guatemala",
            "Guyana",
            "Honduras",
            "Haiti",
            "Jamaica",
            "St. Lucia",
            "Mexico",
            "Nicaragua",
            "Panama",
            "Peru",
            "Paraguay",
            "El Salvador",
            "Suriname",
            "Trinidad and Tobago",
            "Uruguay"
           ],
           "legendgroup": "Latin America & the Caribbean",
           "marker": {
            "color": "#ab63fa",
            "size": [
             505.42655876,
             900.67246677,
             82.47186504,
             62.02007804,
             444.95777814,
             571.46324012,
             585.84673361,
             135.52916104,
             241.1979502,
             206.79623186,
             193.63724295,
             138.78116453,
             82.21481167,
             95.76490436,
             25.6593769,
             97.52197156,
             257.18919941,
             263.05719704,
             61.49630405,
             340.81080976,
             121.60139812,
             190.2143013,
             95.17898146,
             240.75819925,
             536.06389824,
             444.12544895
            ],
            "sizemode": "area",
            "sizeref": 0.639748435229,
            "symbol": "circle"
           },
           "mode": "markers",
           "name": "Latin America & the Caribbean",
           "orientation": "v",
           "showlegend": true,
           "type": "scatter",
           "x": [
            13789.060424772,
            31699.3586317477,
            4805.19685237279,
            3035.97165495107,
            8813.98980647828,
            16558.8647849868,
            13495.0106099649,
            6175.87602970258,
            11642.7780517123,
            6921.52059432776,
            6124.49088707134,
            3994.63691288475,
            5576.82585151355,
            2302.20441093316,
            1386.85419078846,
            4907.927415189,
            10093.6180163617,
            9616.64555810607,
            2049.8516660809,
            13630.3011472878,
            6229.10067398112,
            5413.77602061858,
            3705.57970353453,
            9168.23715664009,
            18383.5386974985,
            15613.7459681824
           ],
           "xaxis": "x",
           "y": [
            13.9633102416992,
            11.8315191268921,
            21.5519199371338,
            16.3400001525879,
            16.2181091308594,
            18.5185527801514,
            19.5937099456787,
            14.2927303314209,
            23.3734302520752,
            22.5958499908447,
            12.5976495742798,
            24.0855007171631,
            17.8026790618896,
            24.6445598602295,
            14.5677795410156,
            20.0514793395996,
            16.4529800415039,
            19.0187492370605,
            22.2829093933105,
            7.86405992507935,
            17.5748596191406,
            12.2894201278687,
            14.4225101470947,
            11.3766002655029,
            8.70096969604492,
            14.7243003845215
           ],
           "yaxis": "y"
          },
          {
           "hovertemplate": "<b>%{hovertext}</b><br><br>Region=East Asia and Pacific<br>Year=YR2015<br>GDP per capita=%{x}<br>Current health expenditure per capita=%{y}<br>Population=%{marker.size}<extra></extra>",
           "hovertext": [
            "Australia",
            "China",
            "Fiji",
            "Micronesia, Fed. Sts.",
            "Indonesia",
            "Kiribati",
            "Myanmar",
            "Mongolia",
            "Malaysia",
            "New Zealand",
            "Philippines",
            "Singapore",
            "Solomon Islands",
            "Thailand",
            "Timor-Leste",
            "Vietnam",
            "Vanuatu",
            "Samoa"
           ],
           "ids": [
            "Australia",
            "China",
            "Fiji",
            "Micronesia, Fed. Sts.",
            "Indonesia",
            "Kiribati",
            "Myanmar",
            "Mongolia",
            "Malaysia",
            "New Zealand",
            "Philippines",
            "Singapore",
            "Solomon Islands",
            "Thailand",
            "Timor-Leste",
            "Vietnam",
            "Vanuatu",
            "Samoa"
           ],
           "legendgroup": "East Asia and Pacific",
           "marker": {
            "color": "#FFA15A",
            "size": [
             1534.69104637,
             155.30195835,
             61.53289736,
             9.31704853,
             58.36979907,
             5.01877953,
             43.46842618,
             65.15480884,
             177.65927611,
             906.50143943,
             71.22968562,
             1218.59701283,
             2.9821675,
             53.05374044,
             11.53554872,
             66.03815805,
             12.17368391,
             27.64481537
            ],
            "sizemode": "area",
            "sizeref": 0.639748435229,
            "symbol": "circle"
           },
           "mode": "markers",
           "name": "East Asia and Pacific",
           "orientation": "v",
           "showlegend": true,
           "type": "scatter",
           "x": [
            56707.0220772116,
            8016.43143498003,
            5390.71420703085,
            2906.61701228808,
            3331.69511469189,
            1535.16278257963,
            1196.74333308526,
            3875.32167504717,
            9955.24272167626,
            38630.7265886928,
            3001.04318170863,
            55646.6187469505,
            2167.15539406206,
            5840.05306687798,
            1332.79185551378,
            2581.62244157361,
            2695.66618597973,
            4073.72908299755
           ],
           "xaxis": "x",
           "y": [
            14.085789680481,
            12.1019258499146,
            17.3918495178223,
            22.3123893737793,
            20.5032997131348,
            13.7477502822876,
            8.73416042327881,
            13.5471096038818,
            19.8107299804688,
            16.3735103607178,
            16.0162200927734,
            19.6920375823975,
            25.2087001800537,
            17.1416358947754,
            8.63696956634521,
            17.1195201873779,
            13.4881000518799,
            14
           ],
           "yaxis": "y"
          },
          {
           "hovertemplate": "<b>%{hovertext}</b><br><br>Region=Middle East and North Africa<br>Year=YR2015<br>GDP per capita=%{x}<br>Current health expenditure per capita=%{y}<br>Population=%{marker.size}<extra></extra>",
           "hovertext": [
            "Bahrain",
            "Djibouti",
            "Egypt, Arab Rep.",
            "Iran, Islamic Rep.",
            "Iraq",
            "Israel",
            "Jordan",
            "Kuwait",
            "Lebanon",
            "Malta",
            "Tunisia"
           ],
           "ids": [
            "Bahrain",
            "Djibouti",
            "Egypt, Arab Rep.",
            "Iran, Islamic Rep.",
            "Iraq",
            "Israel",
            "Jordan",
            "Kuwait",
            "Lebanon",
            "Malta",
            "Tunisia"
           ],
           "legendgroup": "Middle East and North Africa",
           "marker": {
            "color": "#19d3f3",
            "size": [
             396.36617505,
             17.90697349,
             125.75111181,
             181.76352484,
             119.96439481,
             939.4390798,
             141.85545882,
             190.65027835,
             294.48048509,
             878.43102702,
             117.55604467
            ],
            "sizemode": "area",
            "sizeref": 0.639748435229,
            "symbol": "circle"
           },
           "mode": "markers",
           "name": "Middle East and North Africa",
           "orientation": "v",
           "showlegend": true,
           "type": "scatter",
           "x": [
            22634.0856475674,
            2652.51322808034,
            3562.93265798423,
            5200.68078673413,
            4688.31801743466,
            35808.4364289727,
            4164.10876894014,
            29869.552753237,
            7643.00871833192,
            24921.6036820869,
            4094.84160230737
           ],
           "xaxis": "x",
           "y": [
            7.32818984985352,
            8.57643985748291,
            11.92453956604,
            18.5687503814697,
            13,
            15.4929103851318,
            11.3400001525879,
            9.51430988311768,
            6.30000019073486,
            13.1508903503418,
            22.665340423584
           ],
           "yaxis": "y"
          },
          {
           "hovertemplate": "<b>%{hovertext}</b><br><br>Region=North America<br>Year=YR2015<br>GDP per capita=%{x}<br>Current health expenditure per capita=%{y}<br>Population=%{marker.size}<extra></extra>",
           "hovertext": [
            "United States"
           ],
           "ids": [
            "United States"
           ],
           "legendgroup": "North America",
           "marker": {
            "color": "#FF6692",
            "size": [
             4587.77368905
            ],
            "sizemode": "area",
            "sizeref": 0.639748435229,
            "symbol": "circle"
           },
           "mode": "markers",
           "name": "North America",
           "orientation": "v",
           "showlegend": true,
           "type": "scatter",
           "x": [
            56762.7294515989
           ],
           "xaxis": "x",
           "y": [
            13.5456399917603
           ],
           "yaxis": "y"
          }
         ],
         "name": "YR2015"
        },
        {
         "data": [
          {
           "hovertemplate": "<b>%{hovertext}</b><br><br>Region=South Asia<br>Year=YR2000<br>GDP per capita=%{x}<br>Current health expenditure per capita=%{y}<br>Population=%{marker.size}<extra></extra>",
           "hovertext": [
            "Bangladesh",
            "Bhutan",
            "India",
            "Nepal",
            "Pakistan"
           ],
           "ids": [
            "Bangladesh",
            "Bhutan",
            "India",
            "Nepal",
            "Pakistan"
           ],
           "legendgroup": "South Asia",
           "marker": {
            "color": "#636efa",
            "size": [
             5.42315346,
             3.77327129,
             14.17991876,
             5.38607529,
             9.98768752
            ],
            "sizemode": "area",
            "sizeref": 0.639748435229,
            "symbol": "circle"
           },
           "mode": "markers",
           "name": "South Asia",
           "orientation": "v",
           "showlegend": true,
           "type": "scatter",
           "x": [
            418.068942112038,
            718.196336969414,
            443.314193811316,
            229.490392563225,
            576.195580353518
           ],
           "xaxis": "x",
           "y": [
            20.4904193878174,
            14.1540803909302,
            16.7305107116699,
            19.1560401916504,
            8.4898796081543
           ],
           "yaxis": "y"
          },
          {
           "hovertemplate": "<b>%{hovertext}</b><br><br>Region=Sub-Saharan Africa<br>Year=YR2000<br>GDP per capita=%{x}<br>Current health expenditure per capita=%{y}<br>Population=%{marker.size}<extra></extra>",
           "hovertext": [
            "Angola",
            "Burundi",
            "Benin",
            "Central African Republic",
            "Cote d'Ivoire",
            "Cameroon",
            "Ethiopia",
            "Gabon",
            "Guinea",
            "Gambia, The",
            "Kenya",
            "Lesotho",
            "Madagascar",
            "Mali",
            "Mauritius",
            "Namibia",
            "Niger",
            "Rwanda",
            "Sudan",
            "Senegal",
            "Sierra Leone",
            "Eswatini",
            "Chad",
            "Togo",
            "Uganda",
            "Zambia"
           ],
           "ids": [
            "Angola",
            "Burundi",
            "Benin",
            "Central African Republic",
            "Cote d'Ivoire",
            "Cameroon",
            "Ethiopia",
            "Gabon",
            "Guinea",
            "Gambia, The",
            "Kenya",
            "Lesotho",
            "Madagascar",
            "Mali",
            "Mauritius",
            "Namibia",
            "Niger",
            "Rwanda",
            "Sudan",
            "Senegal",
            "Sierra Leone",
            "Eswatini",
            "Chad",
            "Togo",
            "Uganda",
            "Zambia"
           ],
           "legendgroup": "Sub-Saharan Africa",
           "marker": {
            "color": "#EF553B",
            "size": [
             5.36555508,
             6.36949565,
             9.10614845,
             4.90135866,
             46.04756982,
             22.86322421,
             2.28931226,
             78.38731304,
             15.29643226,
             8.38113912,
             12.10070934,
             9.28596532,
             6.09617956,
             10.43243399,
             54.93170951,
             93.41639349,
             6.16438326,
             3.29606676,
             10.07939773,
             13.16868644,
             17.7519438,
             34.71334706,
             6.00771386,
             9.77735089,
             7.26333607,
             12.98572166
            ],
            "sizemode": "area",
            "sizeref": 0.639748435229,
            "symbol": "circle"
           },
           "mode": "markers",
           "name": "Sub-Saharan Africa",
           "orientation": "v",
           "showlegend": true,
           "type": "scatter",
           "x": [
            556.83618223535,
            136.46397080034,
            512.673901962619,
            251.832764026789,
            1007.46738950787,
            681.102042961201,
            124.460790874921,
            4135.99238007722,
            363.482279266615,
            594.149388499649,
            397.482658777519,
            436.488137266071,
            293.607157402594,
            270.54300662038,
            3929.07549503364,
            2185.60411519312,
            197.832683441643,
            260.607654653932,
            366.172729492188,
            613.732384491775,
            138.698722497148,
            1728.71049762741,
            166.175708881786,
            302.958591951416,
            261.869141644962,
            345.689620749861
           ],
           "xaxis": "x",
           "y": [
            5.2550802230835,
            10.7352600097656,
            13.5131998062134,
            9.93076992034912,
            20.8069496154785,
            11.6836996078491,
            14.9077301025391,
            17.7064895629883,
            15.195969581604,
            11.921799659729,
            23.3970108032227,
            19.2003803253174,
            15.8905096054077,
            15.3238096237183,
            17.5419006347656,
            21.9250602722168,
            19.0575294494629,
            18.8353290557861,
            9.11688995361328,
            17.6184902191162,
            20.7313003540039,
            18.745080947876,
            12.8444900512695,
            24.4237098693848,
            10.3548698425293,
            8.35262012481689
           ],
           "yaxis": "y"
          },
          {
           "hovertemplate": "<b>%{hovertext}</b><br><br>Region=Europe and Central Asia<br>Year=YR2000<br>GDP per capita=%{x}<br>Current health expenditure per capita=%{y}<br>Population=%{marker.size}<extra></extra>",
           "hovertext": [
            "Albania",
            "Austria",
            "Azerbaijan",
            "Switzerland",
            "Cyprus",
            "Czechia",
            "Denmark",
            "Spain",
            "Estonia",
            "Finland",
            "United Kingdom",
            "Georgia",
            "Greece",
            "Hungary",
            "Ireland",
            "Iceland",
            "Italy",
            "Kyrgyz Republic",
            "Latvia",
            "Moldova",
            "Netherlands",
            "Norway",
            "Poland",
            "Portugal",
            "Romania",
            "Russian Federation",
            "Slovak Republic",
            "Sweden",
            "Tajikistan",
            "Turkiye",
            "Ukraine"
           ],
           "ids": [
            "Albania",
            "Austria",
            "Azerbaijan",
            "Switzerland",
            "Cyprus",
            "Czechia",
            "Denmark",
            "Spain",
            "Estonia",
            "Finland",
            "United Kingdom",
            "Georgia",
            "Greece",
            "Hungary",
            "Ireland",
            "Iceland",
            "Italy",
            "Kyrgyz Republic",
            "Latvia",
            "Moldova",
            "Netherlands",
            "Norway",
            "Poland",
            "Portugal",
            "Romania",
            "Russian Federation",
            "Slovak Republic",
            "Sweden",
            "Tajikistan",
            "Turkiye",
            "Ukraine"
           ],
           "legendgroup": "Europe and Central Asia",
           "marker": {
            "color": "#00cc96",
            "size": [
             48.69450448,
             586.26494905,
             13.13273335,
             2542.91744618,
             438.23659668,
             38.73616224,
             421.64810754,
             287.9344254,
             50.73545959,
             418.04681372,
             472.36079713,
             42.2246647,
             339.76360756,
             97.54484172,
             351.86211289,
             558.3044448,
             417.06024285,
             6.34753853,
             89.41771466,
             10.08544122,
             627.9333852,
             540.17066848,
             75.64861262,
             300.81103545,
             14.49606241,
             38.58432394,
             25.47631577,
             337.37917707,
             4.72634934,
             76.45621357,
             18.45778165
            ],
            "sizemode": "area",
            "sizeref": 0.639748435229,
            "symbol": "circle"
           },
           "mode": "markers",
           "name": "Europe and Central Asia",
           "orientation": "v",
           "showlegend": true,
           "type": "scatter",
           "x": [
            1126.68334010717,
            24625.6007227434,
            655.119945170816,
            38952.0342005572,
            14388.34765625,
            6029.03819275358,
            30743.5476816354,
            14749.6874248766,
            4070.60902410208,
            24345.9148217032,
            28223.0675706515,
            749.908534993961,
            12072.9293569196,
            4624.28165670295,
            26334.5672050501,
            32096.3722613695,
            20137.5912217673,
            279.619569260939,
            3361.64086880275,
            440.672030653269,
            26214.498549887,
            38131.4606116242,
            4501.45406742273,
            11526.3720667968,
            1659.90763954548,
            1771.59411621094,
            5426.62428119306,
            29624.9126748618,
            138.429146735759,
            4337.47800296354,
            658.3486328125
           ],
           "xaxis": "x",
           "y": [
            10.1370296478271,
            11.0332202911377,
            21.1190795898438,
            14.4521598815918,
            14.2683095932007,
            8.91213989257813,
            15.3441495895386,
            10.6530303955078,
            14.685040473938,
            12.1709203720093,
            11.8479995727539,
            12.5407199859619,
            6.95776987075806,
            10.3236103057861,
            13.5181999206543,
            14.3476104736328,
            9.22105979919434,
            11.6113004684448,
            14.6014795303345,
            12.9239301681519,
            11.0814895629883,
            15.6301898956299,
            11.5834398269653,
            12.0520000457764,
            8.18758010864258,
            8.95184993743896,
            7.32343006134033,
            12.9130201339722,
            12.0251398086548,
            6.37583017349243,
            11.3589696884155
           ],
           "yaxis": "y"
          },
          {
           "hovertemplate": "<b>%{hovertext}</b><br><br>Region=Latin America & the Caribbean<br>Year=YR2000<br>GDP per capita=%{x}<br>Current health expenditure per capita=%{y}<br>Population=%{marker.size}<extra></extra>",
           "hovertext": [
            "Argentina",
            "Bahamas, The",
            "Belize",
            "Brazil",
            "Barbados",
            "Chile",
            "Colombia",
            "Costa Rica",
            "Dominican Republic",
            "Ecuador",
            "Guyana",
            "Jamaica",
            "Mexico",
            "Nicaragua",
            "Panama",
            "Peru",
            "Paraguay",
            "El Salvador",
            "Trinidad and Tobago",
            "Uruguay",
            "St. Vincent and the Grenadines"
           ],
           "ids": [
            "Argentina",
            "Bahamas, The",
            "Belize",
            "Brazil",
            "Barbados",
            "Chile",
            "Colombia",
            "Costa Rica",
            "Dominican Republic",
            "Ecuador",
            "Guyana",
            "Jamaica",
            "Mexico",
            "Nicaragua",
            "Panama",
            "Peru",
            "Paraguay",
            "El Salvador",
            "Trinidad and Tobago",
            "Uruguay",
            "St. Vincent and the Grenadines"
           ],
           "legendgroup": "Latin America & the Caribbean",
           "marker": {
            "color": "#ab63fa",
            "size": [
             320.63082775,
             616.21510393,
             61.6104022,
             181.41732604,
             289.2686165,
             229.18958351,
             33.81672609,
             84.48972807,
             88.48226182,
             32.89721223,
             27.95281098,
             82.8906621,
             174.46147525,
             25.03537578,
             91.44494513,
             39.2978598,
             58.51387321,
             97.57114343,
             174.64107638,
             401.9714611,
             47.55922497
            ],
            "sizemode": "area",
            "sizeref": 0.639748435229,
            "symbol": "circle"
           },
           "mode": "markers",
           "name": "Latin America & the Caribbean",
           "orientation": "v",
           "showlegend": true,
           "type": "scatter",
           "x": [
            7708.09911454041,
            27098.1563186767,
            3364.49173102584,
            3749.91084752888,
            11268.4200640121,
            5100.25413288222,
            2520.48108876016,
            3789.05388636246,
            2869.17813861021,
            1445.27932442901,
            954.400318095334,
            3392.12387809462,
            7157.81449985734,
            1007.499838655,
            4060.31779345702,
            1955.58800627896,
            1663.60493919986,
            2001.54004887966,
            6435.13421201268,
            6875.02546946372,
            3970.29362248818
           ],
           "xaxis": "x",
           "y": [
            16.2261505126953,
            18.7652893066406,
            15.6122598648071,
            11.4521598815918,
            22.1503505706787,
            16.4279098510742,
            13.2963895797729,
            18.8195095062256,
            12.9884796142578,
            4.95730018615723,
            17.6568393707275,
            16.7966003417969,
            19.6461296081543,
            14.5736999511719,
            19.8319396972656,
            15.2503700256348,
            21.5593891143799,
            13.5439701080322,
            11.7311201095581,
            8.35916996002197,
            30.7891998291016
           ],
           "yaxis": "y"
          },
          {
           "hovertemplate": "<b>%{hovertext}</b><br><br>Region=East Asia and Pacific<br>Year=YR2000<br>GDP per capita=%{x}<br>Current health expenditure per capita=%{y}<br>Population=%{marker.size}<extra></extra>",
           "hovertext": [
            "Australia",
            "Brunei Darussalam",
            "Fiji",
            "Micronesia, Fed. Sts.",
            "Cambodia",
            "Kiribati",
            "Lao PDR",
            "Mongolia",
            "Malaysia",
            "Philippines",
            "Palau",
            "Singapore",
            "Thailand",
            "Tonga",
            "Vanuatu",
            "Samoa"
           ],
           "ids": [
            "Australia",
            "Brunei Darussalam",
            "Fiji",
            "Micronesia, Fed. Sts.",
            "Cambodia",
            "Kiribati",
            "Lao PDR",
            "Mongolia",
            "Malaysia",
            "Philippines",
            "Palau",
            "Singapore",
            "Thailand",
            "Tonga",
            "Vanuatu",
            "Samoa"
           ],
           "legendgroup": "East Asia and Pacific",
           "marker": {
            "color": "#FFA15A",
            "size": [
             461.55053709,
             80.50988416,
             11.78919471,
             8.93372563,
             15.40594758,
             2.28689628,
             8.82432405,
             6.64507654,
             59.07546448,
             17.06588774,
             144.6073855,
             507.6116438,
             27.89703585,
             13.21575677,
             5.14028751,
             7.60523097
            ],
            "sizemode": "area",
            "sizeref": 0.639748435229,
            "symbol": "circle"
           },
           "mode": "markers",
           "name": "East Asia and Pacific",
           "orientation": "v",
           "showlegend": true,
           "type": "scatter",
           "x": [
            21697.7084797731,
            18012.5021948953,
            2069.31745471458,
            2171.88957683534,
            300.613679010462,
            796.803203566513,
            325.186937142965,
            474.217094319837,
            4043.66292312877,
            1072.80175248718,
            7657.95121440536,
            23852.3270285975,
            2007.7352707452,
            2091.11300904714,
            1470.63586995743,
            1483.80741460389
           ],
           "xaxis": "x",
           "y": [
            13.3601598739624,
            8.92074012756348,
            21.7585906982422,
            9.96512031555176,
            11.0790100097656,
            15.265419960022,
            7.295569896698,
            16.0747699737549,
            21.3906803131104,
            15.2067604064941,
            13.964409828186,
            20.3055305480957,
            28.388599395752,
            22.9558601379395,
            27.52419090271,
            10.4612998962402
           ],
           "yaxis": "y"
          },
          {
           "hovertemplate": "<b>%{hovertext}</b><br><br>Region=Middle East and North Africa<br>Year=YR2000<br>GDP per capita=%{x}<br>Current health expenditure per capita=%{y}<br>Population=%{marker.size}<extra></extra>",
           "hovertext": [
            "Djibouti",
            "Iran, Islamic Rep.",
            "Israel",
            "Oman",
            "Qatar",
            "Saudi Arabia",
            "Tunisia",
            "Yemen, Rep."
           ],
           "ids": [
            "Djibouti",
            "Iran, Islamic Rep.",
            "Israel",
            "Oman",
            "Qatar",
            "Saudi Arabia",
            "Tunisia",
            "Yemen, Rep."
           ],
           "legendgroup": "Middle East and North Africa",
           "marker": {
            "color": "#19d3f3",
            "size": [
             16.616103,
             50.36730041,
             523.37484945,
             48.08737485,
             243.76421795,
             107.95023301,
             52.73721603,
             11.87789358
            ],
            "sizemode": "area",
            "sizeref": 0.639748435229,
            "symbol": "circle"
           },
           "mode": "markers",
           "name": "Middle East and North Africa",
           "orientation": "v",
           "showlegend": true,
           "type": "scatter",
           "x": [
            768.183570343678,
            1670.0096735653,
            21061.4822833993,
            8601.27194448996,
            29976.1676344676,
            9171.33147630515,
            2211.8350154787,
            554.448665276054
           ],
           "xaxis": "x",
           "y": [
            29.385950088501,
            20.6338500976563,
            13.6803503036499,
            8.98344039916992,
            9.67605018615723,
            17.8365898132324,
            24.5917797088623,
            30.4892807006836
           ],
           "yaxis": "y"
          },
          {
           "hovertemplate": "<b>%{hovertext}</b><br><br>Region=North America<br>Year=YR2000<br>GDP per capita=%{x}<br>Current health expenditure per capita=%{y}<br>Population=%{marker.size}<extra></extra>",
           "hovertext": [
            "Canada"
           ],
           "ids": [
            "Canada"
           ],
           "legendgroup": "North America",
           "marker": {
            "color": "#FF6692",
            "size": [
             545.1067658
            ],
            "sizemode": "area",
            "sizeref": 0.639748435229,
            "symbol": "circle"
           },
           "mode": "markers",
           "name": "North America",
           "orientation": "v",
           "showlegend": true,
           "type": "scatter",
           "x": [
            24271.0020563821
           ],
           "xaxis": "x",
           "y": [
            12.9826002120972
           ],
           "yaxis": "y"
          }
         ],
         "name": "YR2000"
        }
       ],
       "layout": {
        "legend": {
         "itemsizing": "constant",
         "title": {
          "text": "Region"
         },
         "tracegroupgap": 0
        },
        "margin": {
         "t": 60
        },
        "sliders": [
         {
          "active": 0,
          "currentvalue": {
           "prefix": "Year="
          },
          "len": 0.9,
          "pad": {
           "b": 10,
           "t": 60
          },
          "steps": [
           {
            "args": [
             [
              "YR2005"
             ],
             {
              "frame": {
               "duration": 0,
               "redraw": false
              },
              "fromcurrent": true,
              "mode": "immediate",
              "transition": {
               "duration": 0,
               "easing": "linear"
              }
             }
            ],
            "label": "YR2005",
            "method": "animate"
           },
           {
            "args": [
             [
              "YR2010"
             ],
             {
              "frame": {
               "duration": 0,
               "redraw": false
              },
              "fromcurrent": true,
              "mode": "immediate",
              "transition": {
               "duration": 0,
               "easing": "linear"
              }
             }
            ],
            "label": "YR2010",
            "method": "animate"
           },
           {
            "args": [
             [
              "YR2015"
             ],
             {
              "frame": {
               "duration": 0,
               "redraw": false
              },
              "fromcurrent": true,
              "mode": "immediate",
              "transition": {
               "duration": 0,
               "easing": "linear"
              }
             }
            ],
            "label": "YR2015",
            "method": "animate"
           },
           {
            "args": [
             [
              "YR2000"
             ],
             {
              "frame": {
               "duration": 0,
               "redraw": false
              },
              "fromcurrent": true,
              "mode": "immediate",
              "transition": {
               "duration": 0,
               "easing": "linear"
              }
             }
            ],
            "label": "YR2000",
            "method": "animate"
           }
          ],
          "x": 0.1,
          "xanchor": "left",
          "y": 0,
          "yanchor": "top"
         }
        ],
        "template": {
         "data": {
          "bar": [
           {
            "error_x": {
             "color": "#2a3f5f"
            },
            "error_y": {
             "color": "#2a3f5f"
            },
            "marker": {
             "line": {
              "color": "#E5ECF6",
              "width": 0.5
             },
             "pattern": {
              "fillmode": "overlay",
              "size": 10,
              "solidity": 0.2
             }
            },
            "type": "bar"
           }
          ],
          "barpolar": [
           {
            "marker": {
             "line": {
              "color": "#E5ECF6",
              "width": 0.5
             },
             "pattern": {
              "fillmode": "overlay",
              "size": 10,
              "solidity": 0.2
             }
            },
            "type": "barpolar"
           }
          ],
          "carpet": [
           {
            "aaxis": {
             "endlinecolor": "#2a3f5f",
             "gridcolor": "white",
             "linecolor": "white",
             "minorgridcolor": "white",
             "startlinecolor": "#2a3f5f"
            },
            "baxis": {
             "endlinecolor": "#2a3f5f",
             "gridcolor": "white",
             "linecolor": "white",
             "minorgridcolor": "white",
             "startlinecolor": "#2a3f5f"
            },
            "type": "carpet"
           }
          ],
          "choropleth": [
           {
            "colorbar": {
             "outlinewidth": 0,
             "ticks": ""
            },
            "type": "choropleth"
           }
          ],
          "contour": [
           {
            "colorbar": {
             "outlinewidth": 0,
             "ticks": ""
            },
            "colorscale": [
             [
              0,
              "#0d0887"
             ],
             [
              0.1111111111111111,
              "#46039f"
             ],
             [
              0.2222222222222222,
              "#7201a8"
             ],
             [
              0.3333333333333333,
              "#9c179e"
             ],
             [
              0.4444444444444444,
              "#bd3786"
             ],
             [
              0.5555555555555556,
              "#d8576b"
             ],
             [
              0.6666666666666666,
              "#ed7953"
             ],
             [
              0.7777777777777778,
              "#fb9f3a"
             ],
             [
              0.8888888888888888,
              "#fdca26"
             ],
             [
              1,
              "#f0f921"
             ]
            ],
            "type": "contour"
           }
          ],
          "contourcarpet": [
           {
            "colorbar": {
             "outlinewidth": 0,
             "ticks": ""
            },
            "type": "contourcarpet"
           }
          ],
          "heatmap": [
           {
            "colorbar": {
             "outlinewidth": 0,
             "ticks": ""
            },
            "colorscale": [
             [
              0,
              "#0d0887"
             ],
             [
              0.1111111111111111,
              "#46039f"
             ],
             [
              0.2222222222222222,
              "#7201a8"
             ],
             [
              0.3333333333333333,
              "#9c179e"
             ],
             [
              0.4444444444444444,
              "#bd3786"
             ],
             [
              0.5555555555555556,
              "#d8576b"
             ],
             [
              0.6666666666666666,
              "#ed7953"
             ],
             [
              0.7777777777777778,
              "#fb9f3a"
             ],
             [
              0.8888888888888888,
              "#fdca26"
             ],
             [
              1,
              "#f0f921"
             ]
            ],
            "type": "heatmap"
           }
          ],
          "heatmapgl": [
           {
            "colorbar": {
             "outlinewidth": 0,
             "ticks": ""
            },
            "colorscale": [
             [
              0,
              "#0d0887"
             ],
             [
              0.1111111111111111,
              "#46039f"
             ],
             [
              0.2222222222222222,
              "#7201a8"
             ],
             [
              0.3333333333333333,
              "#9c179e"
             ],
             [
              0.4444444444444444,
              "#bd3786"
             ],
             [
              0.5555555555555556,
              "#d8576b"
             ],
             [
              0.6666666666666666,
              "#ed7953"
             ],
             [
              0.7777777777777778,
              "#fb9f3a"
             ],
             [
              0.8888888888888888,
              "#fdca26"
             ],
             [
              1,
              "#f0f921"
             ]
            ],
            "type": "heatmapgl"
           }
          ],
          "histogram": [
           {
            "marker": {
             "pattern": {
              "fillmode": "overlay",
              "size": 10,
              "solidity": 0.2
             }
            },
            "type": "histogram"
           }
          ],
          "histogram2d": [
           {
            "colorbar": {
             "outlinewidth": 0,
             "ticks": ""
            },
            "colorscale": [
             [
              0,
              "#0d0887"
             ],
             [
              0.1111111111111111,
              "#46039f"
             ],
             [
              0.2222222222222222,
              "#7201a8"
             ],
             [
              0.3333333333333333,
              "#9c179e"
             ],
             [
              0.4444444444444444,
              "#bd3786"
             ],
             [
              0.5555555555555556,
              "#d8576b"
             ],
             [
              0.6666666666666666,
              "#ed7953"
             ],
             [
              0.7777777777777778,
              "#fb9f3a"
             ],
             [
              0.8888888888888888,
              "#fdca26"
             ],
             [
              1,
              "#f0f921"
             ]
            ],
            "type": "histogram2d"
           }
          ],
          "histogram2dcontour": [
           {
            "colorbar": {
             "outlinewidth": 0,
             "ticks": ""
            },
            "colorscale": [
             [
              0,
              "#0d0887"
             ],
             [
              0.1111111111111111,
              "#46039f"
             ],
             [
              0.2222222222222222,
              "#7201a8"
             ],
             [
              0.3333333333333333,
              "#9c179e"
             ],
             [
              0.4444444444444444,
              "#bd3786"
             ],
             [
              0.5555555555555556,
              "#d8576b"
             ],
             [
              0.6666666666666666,
              "#ed7953"
             ],
             [
              0.7777777777777778,
              "#fb9f3a"
             ],
             [
              0.8888888888888888,
              "#fdca26"
             ],
             [
              1,
              "#f0f921"
             ]
            ],
            "type": "histogram2dcontour"
           }
          ],
          "mesh3d": [
           {
            "colorbar": {
             "outlinewidth": 0,
             "ticks": ""
            },
            "type": "mesh3d"
           }
          ],
          "parcoords": [
           {
            "line": {
             "colorbar": {
              "outlinewidth": 0,
              "ticks": ""
             }
            },
            "type": "parcoords"
           }
          ],
          "pie": [
           {
            "automargin": true,
            "type": "pie"
           }
          ],
          "scatter": [
           {
            "marker": {
             "colorbar": {
              "outlinewidth": 0,
              "ticks": ""
             }
            },
            "type": "scatter"
           }
          ],
          "scatter3d": [
           {
            "line": {
             "colorbar": {
              "outlinewidth": 0,
              "ticks": ""
             }
            },
            "marker": {
             "colorbar": {
              "outlinewidth": 0,
              "ticks": ""
             }
            },
            "type": "scatter3d"
           }
          ],
          "scattercarpet": [
           {
            "marker": {
             "colorbar": {
              "outlinewidth": 0,
              "ticks": ""
             }
            },
            "type": "scattercarpet"
           }
          ],
          "scattergeo": [
           {
            "marker": {
             "colorbar": {
              "outlinewidth": 0,
              "ticks": ""
             }
            },
            "type": "scattergeo"
           }
          ],
          "scattergl": [
           {
            "marker": {
             "colorbar": {
              "outlinewidth": 0,
              "ticks": ""
             }
            },
            "type": "scattergl"
           }
          ],
          "scattermapbox": [
           {
            "marker": {
             "colorbar": {
              "outlinewidth": 0,
              "ticks": ""
             }
            },
            "type": "scattermapbox"
           }
          ],
          "scatterpolar": [
           {
            "marker": {
             "colorbar": {
              "outlinewidth": 0,
              "ticks": ""
             }
            },
            "type": "scatterpolar"
           }
          ],
          "scatterpolargl": [
           {
            "marker": {
             "colorbar": {
              "outlinewidth": 0,
              "ticks": ""
             }
            },
            "type": "scatterpolargl"
           }
          ],
          "scatterternary": [
           {
            "marker": {
             "colorbar": {
              "outlinewidth": 0,
              "ticks": ""
             }
            },
            "type": "scatterternary"
           }
          ],
          "surface": [
           {
            "colorbar": {
             "outlinewidth": 0,
             "ticks": ""
            },
            "colorscale": [
             [
              0,
              "#0d0887"
             ],
             [
              0.1111111111111111,
              "#46039f"
             ],
             [
              0.2222222222222222,
              "#7201a8"
             ],
             [
              0.3333333333333333,
              "#9c179e"
             ],
             [
              0.4444444444444444,
              "#bd3786"
             ],
             [
              0.5555555555555556,
              "#d8576b"
             ],
             [
              0.6666666666666666,
              "#ed7953"
             ],
             [
              0.7777777777777778,
              "#fb9f3a"
             ],
             [
              0.8888888888888888,
              "#fdca26"
             ],
             [
              1,
              "#f0f921"
             ]
            ],
            "type": "surface"
           }
          ],
          "table": [
           {
            "cells": {
             "fill": {
              "color": "#EBF0F8"
             },
             "line": {
              "color": "white"
             }
            },
            "header": {
             "fill": {
              "color": "#C8D4E3"
             },
             "line": {
              "color": "white"
             }
            },
            "type": "table"
           }
          ]
         },
         "layout": {
          "annotationdefaults": {
           "arrowcolor": "#2a3f5f",
           "arrowhead": 0,
           "arrowwidth": 1
          },
          "autotypenumbers": "strict",
          "coloraxis": {
           "colorbar": {
            "outlinewidth": 0,
            "ticks": ""
           }
          },
          "colorscale": {
           "diverging": [
            [
             0,
             "#8e0152"
            ],
            [
             0.1,
             "#c51b7d"
            ],
            [
             0.2,
             "#de77ae"
            ],
            [
             0.3,
             "#f1b6da"
            ],
            [
             0.4,
             "#fde0ef"
            ],
            [
             0.5,
             "#f7f7f7"
            ],
            [
             0.6,
             "#e6f5d0"
            ],
            [
             0.7,
             "#b8e186"
            ],
            [
             0.8,
             "#7fbc41"
            ],
            [
             0.9,
             "#4d9221"
            ],
            [
             1,
             "#276419"
            ]
           ],
           "sequential": [
            [
             0,
             "#0d0887"
            ],
            [
             0.1111111111111111,
             "#46039f"
            ],
            [
             0.2222222222222222,
             "#7201a8"
            ],
            [
             0.3333333333333333,
             "#9c179e"
            ],
            [
             0.4444444444444444,
             "#bd3786"
            ],
            [
             0.5555555555555556,
             "#d8576b"
            ],
            [
             0.6666666666666666,
             "#ed7953"
            ],
            [
             0.7777777777777778,
             "#fb9f3a"
            ],
            [
             0.8888888888888888,
             "#fdca26"
            ],
            [
             1,
             "#f0f921"
            ]
           ],
           "sequentialminus": [
            [
             0,
             "#0d0887"
            ],
            [
             0.1111111111111111,
             "#46039f"
            ],
            [
             0.2222222222222222,
             "#7201a8"
            ],
            [
             0.3333333333333333,
             "#9c179e"
            ],
            [
             0.4444444444444444,
             "#bd3786"
            ],
            [
             0.5555555555555556,
             "#d8576b"
            ],
            [
             0.6666666666666666,
             "#ed7953"
            ],
            [
             0.7777777777777778,
             "#fb9f3a"
            ],
            [
             0.8888888888888888,
             "#fdca26"
            ],
            [
             1,
             "#f0f921"
            ]
           ]
          },
          "colorway": [
           "#636efa",
           "#EF553B",
           "#00cc96",
           "#ab63fa",
           "#FFA15A",
           "#19d3f3",
           "#FF6692",
           "#B6E880",
           "#FF97FF",
           "#FECB52"
          ],
          "font": {
           "color": "#2a3f5f"
          },
          "geo": {
           "bgcolor": "white",
           "lakecolor": "white",
           "landcolor": "#E5ECF6",
           "showlakes": true,
           "showland": true,
           "subunitcolor": "white"
          },
          "hoverlabel": {
           "align": "left"
          },
          "hovermode": "closest",
          "mapbox": {
           "style": "light"
          },
          "paper_bgcolor": "white",
          "plot_bgcolor": "#E5ECF6",
          "polar": {
           "angularaxis": {
            "gridcolor": "white",
            "linecolor": "white",
            "ticks": ""
           },
           "bgcolor": "#E5ECF6",
           "radialaxis": {
            "gridcolor": "white",
            "linecolor": "white",
            "ticks": ""
           }
          },
          "scene": {
           "xaxis": {
            "backgroundcolor": "#E5ECF6",
            "gridcolor": "white",
            "gridwidth": 2,
            "linecolor": "white",
            "showbackground": true,
            "ticks": "",
            "zerolinecolor": "white"
           },
           "yaxis": {
            "backgroundcolor": "#E5ECF6",
            "gridcolor": "white",
            "gridwidth": 2,
            "linecolor": "white",
            "showbackground": true,
            "ticks": "",
            "zerolinecolor": "white"
           },
           "zaxis": {
            "backgroundcolor": "#E5ECF6",
            "gridcolor": "white",
            "gridwidth": 2,
            "linecolor": "white",
            "showbackground": true,
            "ticks": "",
            "zerolinecolor": "white"
           }
          },
          "shapedefaults": {
           "line": {
            "color": "#2a3f5f"
           }
          },
          "ternary": {
           "aaxis": {
            "gridcolor": "white",
            "linecolor": "white",
            "ticks": ""
           },
           "baxis": {
            "gridcolor": "white",
            "linecolor": "white",
            "ticks": ""
           },
           "bgcolor": "#E5ECF6",
           "caxis": {
            "gridcolor": "white",
            "linecolor": "white",
            "ticks": ""
           }
          },
          "title": {
           "x": 0.05
          },
          "xaxis": {
           "automargin": true,
           "gridcolor": "white",
           "linecolor": "white",
           "ticks": "",
           "title": {
            "standoff": 15
           },
           "zerolinecolor": "white",
           "zerolinewidth": 2
          },
          "yaxis": {
           "automargin": true,
           "gridcolor": "white",
           "linecolor": "white",
           "ticks": "",
           "title": {
            "standoff": 15
           },
           "zerolinecolor": "white",
           "zerolinewidth": 2
          }
         }
        },
        "updatemenus": [
         {
          "buttons": [
           {
            "args": [
             null,
             {
              "frame": {
               "duration": 500,
               "redraw": false
              },
              "fromcurrent": true,
              "mode": "immediate",
              "transition": {
               "duration": 500,
               "easing": "linear"
              }
             }
            ],
            "label": "&#9654;",
            "method": "animate"
           },
           {
            "args": [
             [
              null
             ],
             {
              "frame": {
               "duration": 0,
               "redraw": false
              },
              "fromcurrent": true,
              "mode": "immediate",
              "transition": {
               "duration": 0,
               "easing": "linear"
              }
             }
            ],
            "label": "&#9724;",
            "method": "animate"
           }
          ],
          "direction": "left",
          "pad": {
           "r": 10,
           "t": 70
          },
          "showactive": false,
          "type": "buttons",
          "x": 0.1,
          "xanchor": "right",
          "y": 0,
          "yanchor": "top"
         }
        ],
        "xaxis": {
         "anchor": "y",
         "domain": [
          0,
          1
         ],
         "range": [
          2,
          5.1760912590556805
         ],
         "title": {
          "text": "GDP per capita"
         },
         "type": "log"
        },
        "yaxis": {
         "anchor": "x",
         "domain": [
          0,
          1
         ],
         "range": [
          0,
          30
         ],
         "title": {
          "text": "Current health expenditure per capita"
         }
        }
       }
      },
      "text/html": [
       "<div>                            <div id=\"e142f42d-5e4d-4f22-84ca-8eca11d7f20d\" class=\"plotly-graph-div\" style=\"height:525px; width:100%;\"></div>            <script type=\"text/javascript\">                require([\"plotly\"], function(Plotly) {                    window.PLOTLYENV=window.PLOTLYENV || {};                                    if (document.getElementById(\"e142f42d-5e4d-4f22-84ca-8eca11d7f20d\")) {                    Plotly.newPlot(                        \"e142f42d-5e4d-4f22-84ca-8eca11d7f20d\",                        [{\"hovertemplate\":\"<b>%{hovertext}</b><br><br>Region=South Asia<br>Year=YR2005<br>GDP per capita=%{x}<br>Current health expenditure per capita=%{y}<br>Population=%{marker.size}<extra></extra>\",\"hovertext\":[\"Afghanistan\",\"Bhutan\",\"India\",\"Sri Lanka\",\"Maldives\",\"Nepal\",\"Pakistan\"],\"ids\":[\"Afghanistan\",\"Bhutan\",\"India\",\"Sri Lanka\",\"Maldives\",\"Nepal\",\"Pakistan\"],\"legendgroup\":\"South Asia\",\"marker\":{\"color\":\"#636efa\",\"size\":[18.86634996,8.1517821,21.67475163,26.65572335,206.97915723,8.27001538,14.6657995],\"sizemode\":\"area\",\"sizeref\":0.639748435229,\"symbol\":\"circle\"},\"mode\":\"markers\",\"name\":\"South Asia\",\"orientation\":\"v\",\"showlegend\":true,\"x\":[242.031313175022,1228.43235572338,714.8610153644,1248.69818517034,3640.0121322011,315.805629997361,748.922589270883],\"xaxis\":\"x\",\"y\":[15.0799999237061,22.9959201812744,11.208459854126,10.8999996185303,12.9361000061035,22.2942199707031,13.7775096893311],\"yaxis\":\"y\",\"type\":\"scatter\"},{\"hovertemplate\":\"<b>%{hovertext}</b><br><br>Region=Sub-Saharan Africa<br>Year=YR2005<br>GDP per capita=%{x}<br>Current health expenditure per capita=%{y}<br>Population=%{marker.size}<extra></extra>\",\"hovertext\":[\"Angola\",\"Burundi\",\"Benin\",\"Burkina Faso\",\"Botswana\",\"Central African Republic\",\"Cote d'Ivoire\",\"Cameroon\",\"Congo, Rep.\",\"Ghana\",\"Guinea\",\"Gambia, The\",\"Kenya\",\"Lesotho\",\"Madagascar\",\"Mali\",\"Mozambique\",\"Mauritius\",\"Sudan\",\"Senegal\",\"Sierra Leone\",\"Sao Tome and Principe\",\"Eswatini\",\"Chad\",\"Togo\",\"Tanzania\",\"South Africa\",\"Zambia\"],\"ids\":[\"Angola\",\"Burundi\",\"Benin\",\"Burkina Faso\",\"Botswana\",\"Central African Republic\",\"Cote d'Ivoire\",\"Cameroon\",\"Congo, Rep.\",\"Ghana\",\"Guinea\",\"Gambia, The\",\"Kenya\",\"Lesotho\",\"Madagascar\",\"Mali\",\"Mozambique\",\"Mauritius\",\"Sudan\",\"Senegal\",\"Sierra Leone\",\"Sao Tome and Principe\",\"Eswatini\",\"Chad\",\"Togo\",\"Tanzania\",\"South Africa\",\"Zambia\"],\"legendgroup\":\"Sub-Saharan Africa\",\"marker\":{\"color\":\"#EF553B\",\"size\":[28.28505574,6.01945299,13.63776869,6.09032125,87.29575605,8.31152591,53.33010352,32.30732729,16.87773167,18.24164396,14.11091031,5.93626869,16.6966074,14.01943123,6.57095372,14.96492092,2.35534424,102.34526085,23.76941603,18.23411176,21.7050767,28.65997935,72.3732513,19.3270201,13.90895267,9.85045563,199.59613784,18.33799201],\"sizemode\":\"area\",\"sizeref\":0.639748435229,\"symbol\":\"circle\"},\"mode\":\"markers\",\"name\":\"Sub-Saharan Africa\",\"orientation\":\"v\",\"showlegend\":true,\"x\":[1902.42214975937,151.681566343002,822.785143124704,457.933430763383,5513.33106259322,331.294821098185,1309.59165283165,1100.17492617744,1835.60990812416,492.54405617264,322.415540033465,665.720215700547,511.616394301253,842.812630961302,319.537475081164,489.022855550956,416.809824183966,5282.90602155635,914.16650390625,992.688058138543,292.349066330563,866.504995638803,3083.83814075588,658.566973042801,406.562366042383,492.63134765625,6033.10149088554,702.741118447779],\"xaxis\":\"x\",\"y\":[7.99235010147095,10.9592695236206,18.7903900146484,19.4941902160645,25.8235301971436,9.68047046661377,21.8456897735596,21.3776092529297,7.59781980514526,23.4299602508545,10.9474697113037,5.34417009353638,27.4693393707275,32.4049186706543,18.0330390930176,16.2803001403809,22.7181797027588,17.0881309509277,5.96680021286011,21.7709693908691,15.506609916687,12.1254796981812,20.8918590545654,14.6728200912476,17.6780796051025,18.1431407928467,19.9249897003174,7.72973012924194],\"yaxis\":\"y\",\"type\":\"scatter\"},{\"hovertemplate\":\"<b>%{hovertext}</b><br><br>Region=Europe and Central Asia<br>Year=YR2005<br>GDP per capita=%{x}<br>Current health expenditure per capita=%{y}<br>Population=%{marker.size}<extra></extra>\",\"hovertext\":[\"Albania\",\"Armenia\",\"Austria\",\"Azerbaijan\",\"Belgium\",\"Bulgaria\",\"Belarus\",\"Switzerland\",\"Cyprus\",\"Czechia\",\"Denmark\",\"Spain\",\"Estonia\",\"Finland\",\"United Kingdom\",\"Georgia\",\"Greece\",\"Hungary\",\"Ireland\",\"Iceland\",\"Italy\",\"Kazakhstan\",\"Kyrgyz Republic\",\"Lithuania\",\"Moldova\",\"Netherlands\",\"Norway\",\"Poland\",\"Portugal\",\"Romania\",\"Russian Federation\",\"Slovak Republic\",\"Slovenia\",\"Sweden\",\"Tajikistan\",\"Ukraine\"],\"ids\":[\"Albania\",\"Armenia\",\"Austria\",\"Azerbaijan\",\"Belgium\",\"Bulgaria\",\"Belarus\",\"Switzerland\",\"Cyprus\",\"Czechia\",\"Denmark\",\"Spain\",\"Estonia\",\"Finland\",\"United Kingdom\",\"Georgia\",\"Greece\",\"Hungary\",\"Ireland\",\"Iceland\",\"Italy\",\"Kazakhstan\",\"Kyrgyz Republic\",\"Lithuania\",\"Moldova\",\"Netherlands\",\"Norway\",\"Poland\",\"Portugal\",\"Romania\",\"Russian Federation\",\"Slovak Republic\",\"Slovenia\",\"Sweden\",\"Tajikistan\",\"Ukraine\"],\"legendgroup\":\"Europe and Central Asia\",\"marker\":{\"color\":\"#00cc96\",\"size\":[86.81703828,60.80376976,1014.73097696,20.52321089,872.62887485,108.24201054,50.42561896,3912.29502499,792.22160397,125.96869298,722.21158443,586.04994848,133.96086663,716.52446314,664.54517395,102.20431738,757.96055824,267.14810862,832.2244064,971.11791493,602.75504894,50.59951145,15.37359399,172.10622289,34.03249534,1207.38432948,946.54039499,146.57018538,527.19318736,50.41336326,105.3724807,149.49778231,402.56093793,628.18773816,12.00400887,47.74009826],\"sizemode\":\"area\",\"sizeref\":0.639748435229,\"symbol\":\"circle\"},\"mode\":\"markers\",\"name\":\"Europe and Central Asia\",\"orientation\":\"v\",\"showlegend\":true,\"x\":[2673.78658429559,1643.75688889146,38417.4577857677,1578.40239029603,36809.7013403619,3899.90763774017,3125.81053502853,56546.7856553987,24959.259765625,13430.6698955613,48799.8256011275,26429.1509449319,10412.6443137966,39054.8504423825,42132.0907219815,1642.76093756395,22560.1472939077,11225.9325815328,50933.0216095589,56794.8501588953,32055.0920757503,3771.27895733845,476.552129968975,7854.76527867855,1034.70705816743,41994.7135305232,66810.478520868,8021.50574346795,18780.12751241,4617.92901643258,5323.462890625,11690.1134689407,18098.9085440003,43437.0631164776,340.583183232527,1894.47082519531],\"xaxis\":\"x\",\"y\":[11.3579702377319,13.6480903625488,10.2618503570557,13.2231502532959,11.1755199432373,12.0725202560425,12.6201095581055,15.703989982605,15.8393602371216,9.12421035766602,15.7793397903442,10.7697601318359,14.2651500701904,12.2496995925903,13.0033798217773,11.1812496185303,8.70020961761475,10.8005695343018,13.6849298477173,16.3081493377686,8.97150993347168,10.2859497070313,16.7684001922607,14.5795602798462,19.2966499328613,12.3359098434448,16.3725299835205,12.2654895782471,10.8545999526978,10.8366804122925,11.9505701065063,9.46469974517822,12.0792798995972,12.6876201629639,15.2933797836304,13.7386503219604],\"yaxis\":\"y\",\"type\":\"scatter\"},{\"hovertemplate\":\"<b>%{hovertext}</b><br><br>Region=Latin America & the Caribbean<br>Year=YR2005<br>GDP per capita=%{x}<br>Current health expenditure per capita=%{y}<br>Population=%{marker.size}<extra></extra>\",\"hovertext\":[\"Argentina\",\"Bahamas, The\",\"Brazil\",\"Barbados\",\"Chile\",\"Colombia\",\"Guyana\",\"Jamaica\",\"St. Lucia\",\"Mexico\",\"Peru\",\"El Salvador\",\"Uruguay\",\"St. Vincent and the Grenadines\"],\"ids\":[\"Argentina\",\"Bahamas, The\",\"Brazil\",\"Barbados\",\"Chile\",\"Colombia\",\"Guyana\",\"Jamaica\",\"St. Lucia\",\"Mexico\",\"Peru\",\"El Salvador\",\"Uruguay\",\"St. Vincent and the Grenadines\"],\"legendgroup\":\"Latin America & the Caribbean\",\"marker\":{\"color\":\"#ab63fa\",\"size\":[186.0785116,733.92531538,224.41961186,389.40846904,303.67887855,56.40914357,33.22696399,92.33444705,218.83407275,279.05254142,53.32977965,95.39926262,241.4720469,75.78358431],\"sizemode\":\"area\",\"sizeref\":0.639748435229,\"symbol\":\"circle\"},\"mode\":\"markers\",\"name\":\"Latin America & the Caribbean\",\"orientation\":\"v\",\"showlegend\":true,\"x\":[5109.85224490403,30279.3922080481,4790.45656586131,13822.7417486972,7558.37175410092,3414.46515834714,1105.50682477118,4103.6016371324,6949.20417333029,8277.67156384567,2729.49917213529,2428.56887928932,5226.94409982496,5339.3935508934],\"xaxis\":\"x\",\"y\":[15.8031702041626,18.5599994659424,11.2647199630737,18.2429790496826,16.199089050293,15.5314502716064,13.8234395980835,14.2693700790405,16.3069705963135,21.9037895202637,14.2785196304321,14.1668500900269,9.47097015380859,22.5919895172119],\"yaxis\":\"y\",\"type\":\"scatter\"},{\"hovertemplate\":\"<b>%{hovertext}</b><br><br>Region=East Asia and Pacific<br>Year=YR2005<br>GDP per capita=%{x}<br>Current health expenditure per capita=%{y}<br>Population=%{marker.size}<extra></extra>\",\"hovertext\":[\"Australia\",\"China\",\"Fiji\",\"Indonesia\",\"Lao PDR\",\"New Zealand\",\"Philippines\",\"Singapore\",\"Thailand\"],\"ids\":[\"Australia\",\"China\",\"Fiji\",\"Indonesia\",\"Lao PDR\",\"New Zealand\",\"Philippines\",\"Singapore\",\"Thailand\"],\"legendgroup\":\"East Asia and Pacific\",\"marker\":{\"color\":\"#FFA15A\",\"size\":[848.56129325,48.17227011,22.04019964,24.16303676,9.30493105,529.08646122,29.1938668,609.11919734,33.13270412],\"sizemode\":\"area\",\"sizeref\":0.639748435229,\"symbol\":\"circle\"},\"mode\":\"markers\",\"name\":\"East Asia and Pacific\",\"orientation\":\"v\",\"showlegend\":true,\"x\":[34080.9998953245,1753.41782926104,3627.63285585254,1263.28733171098,475.610796203932,27751.0654708859,1244.34874065936,29961.2632774569,2894.06265596401],\"xaxis\":\"x\",\"y\":[13.585129737854,9.5,20.2661304473877,15.1487998962402,14.1277904510498,16.2579593658447,12.4223604202271,22.2787895202637,20.5468196868896],\"yaxis\":\"y\",\"type\":\"scatter\"},{\"hovertemplate\":\"<b>%{hovertext}</b><br><br>Region=Middle East and North Africa<br>Year=YR2005<br>GDP per capita=%{x}<br>Current health expenditure per capita=%{y}<br>Population=%{marker.size}<extra></extra>\",\"hovertext\":[\"Djibouti\",\"Egypt, Arab Rep.\",\"Iran, Islamic Rep.\",\"Israel\",\"Jordan\",\"Kuwait\",\"Lebanon\",\"Oman\",\"Qatar\",\"Saudi Arabia\",\"Tunisia\"],\"ids\":[\"Djibouti\",\"Egypt, Arab Rep.\",\"Iran, Islamic Rep.\",\"Israel\",\"Jordan\",\"Kuwait\",\"Lebanon\",\"Oman\",\"Qatar\",\"Saudi Arabia\",\"Tunisia\"],\"legendgroup\":\"Middle East and North Africa\",\"marker\":{\"color\":\"#19d3f3\",\"size\":[17.30886212,42.457336,110.37800962,591.31449162,87.82154519,170.46367822,211.05306517,56.53700303,331.64465988,129.58135791,84.64833954],\"sizemode\":\"area\",\"sizeref\":0.639748435229,\"symbol\":\"circle\"},\"mode\":\"markers\",\"name\":\"Middle East and North Africa\",\"orientation\":\"v\",\"showlegend\":true,\"x\":[904.736679476444,1186.39331322717,3246.05112244352,20585.1386127162,2183.39464250953,35591.0371337921,4575.10745896031,12377.0800076389,51455.9509428993,13791.454761932,3193.20435786446],\"xaxis\":\"x\",\"y\":[22.7150497436523,15.0436096191406,21.8996906280518,13.1818399429321,12.8599996566772,13.8541097640991,8.42131042480469,10.0536403656006,13.7447595596313,19.2922897338867,26.6956901550293],\"yaxis\":\"y\",\"type\":\"scatter\"},{\"hovertemplate\":\"<b>%{hovertext}</b><br><br>Region=North America<br>Year=YR2005<br>GDP per capita=%{x}<br>Current health expenditure per capita=%{y}<br>Population=%{marker.size}<extra></extra>\",\"hovertext\":[\"Canada\"],\"ids\":[\"Canada\"],\"legendgroup\":\"North America\",\"marker\":{\"color\":\"#FF6692\",\"size\":[888.88368016],\"sizemode\":\"area\",\"sizeref\":0.639748435229,\"symbol\":\"circle\"},\"mode\":\"markers\",\"name\":\"North America\",\"orientation\":\"v\",\"showlegend\":true,\"x\":[36382.5079164537],\"xaxis\":\"x\",\"y\":[12.1780700683594],\"yaxis\":\"y\",\"type\":\"scatter\"}],                        {\"template\":{\"data\":{\"bar\":[{\"error_x\":{\"color\":\"#2a3f5f\"},\"error_y\":{\"color\":\"#2a3f5f\"},\"marker\":{\"line\":{\"color\":\"#E5ECF6\",\"width\":0.5},\"pattern\":{\"fillmode\":\"overlay\",\"size\":10,\"solidity\":0.2}},\"type\":\"bar\"}],\"barpolar\":[{\"marker\":{\"line\":{\"color\":\"#E5ECF6\",\"width\":0.5},\"pattern\":{\"fillmode\":\"overlay\",\"size\":10,\"solidity\":0.2}},\"type\":\"barpolar\"}],\"carpet\":[{\"aaxis\":{\"endlinecolor\":\"#2a3f5f\",\"gridcolor\":\"white\",\"linecolor\":\"white\",\"minorgridcolor\":\"white\",\"startlinecolor\":\"#2a3f5f\"},\"baxis\":{\"endlinecolor\":\"#2a3f5f\",\"gridcolor\":\"white\",\"linecolor\":\"white\",\"minorgridcolor\":\"white\",\"startlinecolor\":\"#2a3f5f\"},\"type\":\"carpet\"}],\"choropleth\":[{\"colorbar\":{\"outlinewidth\":0,\"ticks\":\"\"},\"type\":\"choropleth\"}],\"contour\":[{\"colorbar\":{\"outlinewidth\":0,\"ticks\":\"\"},\"colorscale\":[[0.0,\"#0d0887\"],[0.1111111111111111,\"#46039f\"],[0.2222222222222222,\"#7201a8\"],[0.3333333333333333,\"#9c179e\"],[0.4444444444444444,\"#bd3786\"],[0.5555555555555556,\"#d8576b\"],[0.6666666666666666,\"#ed7953\"],[0.7777777777777778,\"#fb9f3a\"],[0.8888888888888888,\"#fdca26\"],[1.0,\"#f0f921\"]],\"type\":\"contour\"}],\"contourcarpet\":[{\"colorbar\":{\"outlinewidth\":0,\"ticks\":\"\"},\"type\":\"contourcarpet\"}],\"heatmap\":[{\"colorbar\":{\"outlinewidth\":0,\"ticks\":\"\"},\"colorscale\":[[0.0,\"#0d0887\"],[0.1111111111111111,\"#46039f\"],[0.2222222222222222,\"#7201a8\"],[0.3333333333333333,\"#9c179e\"],[0.4444444444444444,\"#bd3786\"],[0.5555555555555556,\"#d8576b\"],[0.6666666666666666,\"#ed7953\"],[0.7777777777777778,\"#fb9f3a\"],[0.8888888888888888,\"#fdca26\"],[1.0,\"#f0f921\"]],\"type\":\"heatmap\"}],\"heatmapgl\":[{\"colorbar\":{\"outlinewidth\":0,\"ticks\":\"\"},\"colorscale\":[[0.0,\"#0d0887\"],[0.1111111111111111,\"#46039f\"],[0.2222222222222222,\"#7201a8\"],[0.3333333333333333,\"#9c179e\"],[0.4444444444444444,\"#bd3786\"],[0.5555555555555556,\"#d8576b\"],[0.6666666666666666,\"#ed7953\"],[0.7777777777777778,\"#fb9f3a\"],[0.8888888888888888,\"#fdca26\"],[1.0,\"#f0f921\"]],\"type\":\"heatmapgl\"}],\"histogram\":[{\"marker\":{\"pattern\":{\"fillmode\":\"overlay\",\"size\":10,\"solidity\":0.2}},\"type\":\"histogram\"}],\"histogram2d\":[{\"colorbar\":{\"outlinewidth\":0,\"ticks\":\"\"},\"colorscale\":[[0.0,\"#0d0887\"],[0.1111111111111111,\"#46039f\"],[0.2222222222222222,\"#7201a8\"],[0.3333333333333333,\"#9c179e\"],[0.4444444444444444,\"#bd3786\"],[0.5555555555555556,\"#d8576b\"],[0.6666666666666666,\"#ed7953\"],[0.7777777777777778,\"#fb9f3a\"],[0.8888888888888888,\"#fdca26\"],[1.0,\"#f0f921\"]],\"type\":\"histogram2d\"}],\"histogram2dcontour\":[{\"colorbar\":{\"outlinewidth\":0,\"ticks\":\"\"},\"colorscale\":[[0.0,\"#0d0887\"],[0.1111111111111111,\"#46039f\"],[0.2222222222222222,\"#7201a8\"],[0.3333333333333333,\"#9c179e\"],[0.4444444444444444,\"#bd3786\"],[0.5555555555555556,\"#d8576b\"],[0.6666666666666666,\"#ed7953\"],[0.7777777777777778,\"#fb9f3a\"],[0.8888888888888888,\"#fdca26\"],[1.0,\"#f0f921\"]],\"type\":\"histogram2dcontour\"}],\"mesh3d\":[{\"colorbar\":{\"outlinewidth\":0,\"ticks\":\"\"},\"type\":\"mesh3d\"}],\"parcoords\":[{\"line\":{\"colorbar\":{\"outlinewidth\":0,\"ticks\":\"\"}},\"type\":\"parcoords\"}],\"pie\":[{\"automargin\":true,\"type\":\"pie\"}],\"scatter\":[{\"marker\":{\"colorbar\":{\"outlinewidth\":0,\"ticks\":\"\"}},\"type\":\"scatter\"}],\"scatter3d\":[{\"line\":{\"colorbar\":{\"outlinewidth\":0,\"ticks\":\"\"}},\"marker\":{\"colorbar\":{\"outlinewidth\":0,\"ticks\":\"\"}},\"type\":\"scatter3d\"}],\"scattercarpet\":[{\"marker\":{\"colorbar\":{\"outlinewidth\":0,\"ticks\":\"\"}},\"type\":\"scattercarpet\"}],\"scattergeo\":[{\"marker\":{\"colorbar\":{\"outlinewidth\":0,\"ticks\":\"\"}},\"type\":\"scattergeo\"}],\"scattergl\":[{\"marker\":{\"colorbar\":{\"outlinewidth\":0,\"ticks\":\"\"}},\"type\":\"scattergl\"}],\"scattermapbox\":[{\"marker\":{\"colorbar\":{\"outlinewidth\":0,\"ticks\":\"\"}},\"type\":\"scattermapbox\"}],\"scatterpolar\":[{\"marker\":{\"colorbar\":{\"outlinewidth\":0,\"ticks\":\"\"}},\"type\":\"scatterpolar\"}],\"scatterpolargl\":[{\"marker\":{\"colorbar\":{\"outlinewidth\":0,\"ticks\":\"\"}},\"type\":\"scatterpolargl\"}],\"scatterternary\":[{\"marker\":{\"colorbar\":{\"outlinewidth\":0,\"ticks\":\"\"}},\"type\":\"scatterternary\"}],\"surface\":[{\"colorbar\":{\"outlinewidth\":0,\"ticks\":\"\"},\"colorscale\":[[0.0,\"#0d0887\"],[0.1111111111111111,\"#46039f\"],[0.2222222222222222,\"#7201a8\"],[0.3333333333333333,\"#9c179e\"],[0.4444444444444444,\"#bd3786\"],[0.5555555555555556,\"#d8576b\"],[0.6666666666666666,\"#ed7953\"],[0.7777777777777778,\"#fb9f3a\"],[0.8888888888888888,\"#fdca26\"],[1.0,\"#f0f921\"]],\"type\":\"surface\"}],\"table\":[{\"cells\":{\"fill\":{\"color\":\"#EBF0F8\"},\"line\":{\"color\":\"white\"}},\"header\":{\"fill\":{\"color\":\"#C8D4E3\"},\"line\":{\"color\":\"white\"}},\"type\":\"table\"}]},\"layout\":{\"annotationdefaults\":{\"arrowcolor\":\"#2a3f5f\",\"arrowhead\":0,\"arrowwidth\":1},\"autotypenumbers\":\"strict\",\"coloraxis\":{\"colorbar\":{\"outlinewidth\":0,\"ticks\":\"\"}},\"colorscale\":{\"diverging\":[[0,\"#8e0152\"],[0.1,\"#c51b7d\"],[0.2,\"#de77ae\"],[0.3,\"#f1b6da\"],[0.4,\"#fde0ef\"],[0.5,\"#f7f7f7\"],[0.6,\"#e6f5d0\"],[0.7,\"#b8e186\"],[0.8,\"#7fbc41\"],[0.9,\"#4d9221\"],[1,\"#276419\"]],\"sequential\":[[0.0,\"#0d0887\"],[0.1111111111111111,\"#46039f\"],[0.2222222222222222,\"#7201a8\"],[0.3333333333333333,\"#9c179e\"],[0.4444444444444444,\"#bd3786\"],[0.5555555555555556,\"#d8576b\"],[0.6666666666666666,\"#ed7953\"],[0.7777777777777778,\"#fb9f3a\"],[0.8888888888888888,\"#fdca26\"],[1.0,\"#f0f921\"]],\"sequentialminus\":[[0.0,\"#0d0887\"],[0.1111111111111111,\"#46039f\"],[0.2222222222222222,\"#7201a8\"],[0.3333333333333333,\"#9c179e\"],[0.4444444444444444,\"#bd3786\"],[0.5555555555555556,\"#d8576b\"],[0.6666666666666666,\"#ed7953\"],[0.7777777777777778,\"#fb9f3a\"],[0.8888888888888888,\"#fdca26\"],[1.0,\"#f0f921\"]]},\"colorway\":[\"#636efa\",\"#EF553B\",\"#00cc96\",\"#ab63fa\",\"#FFA15A\",\"#19d3f3\",\"#FF6692\",\"#B6E880\",\"#FF97FF\",\"#FECB52\"],\"font\":{\"color\":\"#2a3f5f\"},\"geo\":{\"bgcolor\":\"white\",\"lakecolor\":\"white\",\"landcolor\":\"#E5ECF6\",\"showlakes\":true,\"showland\":true,\"subunitcolor\":\"white\"},\"hoverlabel\":{\"align\":\"left\"},\"hovermode\":\"closest\",\"mapbox\":{\"style\":\"light\"},\"paper_bgcolor\":\"white\",\"plot_bgcolor\":\"#E5ECF6\",\"polar\":{\"angularaxis\":{\"gridcolor\":\"white\",\"linecolor\":\"white\",\"ticks\":\"\"},\"bgcolor\":\"#E5ECF6\",\"radialaxis\":{\"gridcolor\":\"white\",\"linecolor\":\"white\",\"ticks\":\"\"}},\"scene\":{\"xaxis\":{\"backgroundcolor\":\"#E5ECF6\",\"gridcolor\":\"white\",\"gridwidth\":2,\"linecolor\":\"white\",\"showbackground\":true,\"ticks\":\"\",\"zerolinecolor\":\"white\"},\"yaxis\":{\"backgroundcolor\":\"#E5ECF6\",\"gridcolor\":\"white\",\"gridwidth\":2,\"linecolor\":\"white\",\"showbackground\":true,\"ticks\":\"\",\"zerolinecolor\":\"white\"},\"zaxis\":{\"backgroundcolor\":\"#E5ECF6\",\"gridcolor\":\"white\",\"gridwidth\":2,\"linecolor\":\"white\",\"showbackground\":true,\"ticks\":\"\",\"zerolinecolor\":\"white\"}},\"shapedefaults\":{\"line\":{\"color\":\"#2a3f5f\"}},\"ternary\":{\"aaxis\":{\"gridcolor\":\"white\",\"linecolor\":\"white\",\"ticks\":\"\"},\"baxis\":{\"gridcolor\":\"white\",\"linecolor\":\"white\",\"ticks\":\"\"},\"bgcolor\":\"#E5ECF6\",\"caxis\":{\"gridcolor\":\"white\",\"linecolor\":\"white\",\"ticks\":\"\"}},\"title\":{\"x\":0.05},\"xaxis\":{\"automargin\":true,\"gridcolor\":\"white\",\"linecolor\":\"white\",\"ticks\":\"\",\"title\":{\"standoff\":15},\"zerolinecolor\":\"white\",\"zerolinewidth\":2},\"yaxis\":{\"automargin\":true,\"gridcolor\":\"white\",\"linecolor\":\"white\",\"ticks\":\"\",\"title\":{\"standoff\":15},\"zerolinecolor\":\"white\",\"zerolinewidth\":2}}},\"xaxis\":{\"anchor\":\"y\",\"domain\":[0.0,1.0],\"title\":{\"text\":\"GDP per capita\"},\"type\":\"log\",\"range\":[2.0,5.1760912590556805]},\"yaxis\":{\"anchor\":\"x\",\"domain\":[0.0,1.0],\"title\":{\"text\":\"Current health expenditure per capita\"},\"range\":[0,30]},\"legend\":{\"title\":{\"text\":\"Region\"},\"tracegroupgap\":0,\"itemsizing\":\"constant\"},\"margin\":{\"t\":60},\"updatemenus\":[{\"buttons\":[{\"args\":[null,{\"frame\":{\"duration\":500,\"redraw\":false},\"mode\":\"immediate\",\"fromcurrent\":true,\"transition\":{\"duration\":500,\"easing\":\"linear\"}}],\"label\":\"&#9654;\",\"method\":\"animate\"},{\"args\":[[null],{\"frame\":{\"duration\":0,\"redraw\":false},\"mode\":\"immediate\",\"fromcurrent\":true,\"transition\":{\"duration\":0,\"easing\":\"linear\"}}],\"label\":\"&#9724;\",\"method\":\"animate\"}],\"direction\":\"left\",\"pad\":{\"r\":10,\"t\":70},\"showactive\":false,\"type\":\"buttons\",\"x\":0.1,\"xanchor\":\"right\",\"y\":0,\"yanchor\":\"top\"}],\"sliders\":[{\"active\":0,\"currentvalue\":{\"prefix\":\"Year=\"},\"len\":0.9,\"pad\":{\"b\":10,\"t\":60},\"steps\":[{\"args\":[[\"YR2005\"],{\"frame\":{\"duration\":0,\"redraw\":false},\"mode\":\"immediate\",\"fromcurrent\":true,\"transition\":{\"duration\":0,\"easing\":\"linear\"}}],\"label\":\"YR2005\",\"method\":\"animate\"},{\"args\":[[\"YR2010\"],{\"frame\":{\"duration\":0,\"redraw\":false},\"mode\":\"immediate\",\"fromcurrent\":true,\"transition\":{\"duration\":0,\"easing\":\"linear\"}}],\"label\":\"YR2010\",\"method\":\"animate\"},{\"args\":[[\"YR2015\"],{\"frame\":{\"duration\":0,\"redraw\":false},\"mode\":\"immediate\",\"fromcurrent\":true,\"transition\":{\"duration\":0,\"easing\":\"linear\"}}],\"label\":\"YR2015\",\"method\":\"animate\"},{\"args\":[[\"YR2000\"],{\"frame\":{\"duration\":0,\"redraw\":false},\"mode\":\"immediate\",\"fromcurrent\":true,\"transition\":{\"duration\":0,\"easing\":\"linear\"}}],\"label\":\"YR2000\",\"method\":\"animate\"}],\"x\":0.1,\"xanchor\":\"left\",\"y\":0,\"yanchor\":\"top\"}]},                        {\"responsive\": true}                    ).then(function(){\n",
       "                            Plotly.addFrames('e142f42d-5e4d-4f22-84ca-8eca11d7f20d', [{\"data\":[{\"hovertemplate\":\"<b>%{hovertext}</b><br><br>Region=South Asia<br>Year=YR2005<br>GDP per capita=%{x}<br>Current health expenditure per capita=%{y}<br>Population=%{marker.size}<extra></extra>\",\"hovertext\":[\"Afghanistan\",\"Bhutan\",\"India\",\"Sri Lanka\",\"Maldives\",\"Nepal\",\"Pakistan\"],\"ids\":[\"Afghanistan\",\"Bhutan\",\"India\",\"Sri Lanka\",\"Maldives\",\"Nepal\",\"Pakistan\"],\"legendgroup\":\"South Asia\",\"marker\":{\"color\":\"#636efa\",\"size\":[18.86634996,8.1517821,21.67475163,26.65572335,206.97915723,8.27001538,14.6657995],\"sizemode\":\"area\",\"sizeref\":0.639748435229,\"symbol\":\"circle\"},\"mode\":\"markers\",\"name\":\"South Asia\",\"orientation\":\"v\",\"showlegend\":true,\"x\":[242.031313175022,1228.43235572338,714.8610153644,1248.69818517034,3640.0121322011,315.805629997361,748.922589270883],\"xaxis\":\"x\",\"y\":[15.0799999237061,22.9959201812744,11.208459854126,10.8999996185303,12.9361000061035,22.2942199707031,13.7775096893311],\"yaxis\":\"y\",\"type\":\"scatter\"},{\"hovertemplate\":\"<b>%{hovertext}</b><br><br>Region=Sub-Saharan Africa<br>Year=YR2005<br>GDP per capita=%{x}<br>Current health expenditure per capita=%{y}<br>Population=%{marker.size}<extra></extra>\",\"hovertext\":[\"Angola\",\"Burundi\",\"Benin\",\"Burkina Faso\",\"Botswana\",\"Central African Republic\",\"Cote d'Ivoire\",\"Cameroon\",\"Congo, Rep.\",\"Ghana\",\"Guinea\",\"Gambia, The\",\"Kenya\",\"Lesotho\",\"Madagascar\",\"Mali\",\"Mozambique\",\"Mauritius\",\"Sudan\",\"Senegal\",\"Sierra Leone\",\"Sao Tome and Principe\",\"Eswatini\",\"Chad\",\"Togo\",\"Tanzania\",\"South Africa\",\"Zambia\"],\"ids\":[\"Angola\",\"Burundi\",\"Benin\",\"Burkina Faso\",\"Botswana\",\"Central African Republic\",\"Cote d'Ivoire\",\"Cameroon\",\"Congo, Rep.\",\"Ghana\",\"Guinea\",\"Gambia, The\",\"Kenya\",\"Lesotho\",\"Madagascar\",\"Mali\",\"Mozambique\",\"Mauritius\",\"Sudan\",\"Senegal\",\"Sierra Leone\",\"Sao Tome and Principe\",\"Eswatini\",\"Chad\",\"Togo\",\"Tanzania\",\"South Africa\",\"Zambia\"],\"legendgroup\":\"Sub-Saharan Africa\",\"marker\":{\"color\":\"#EF553B\",\"size\":[28.28505574,6.01945299,13.63776869,6.09032125,87.29575605,8.31152591,53.33010352,32.30732729,16.87773167,18.24164396,14.11091031,5.93626869,16.6966074,14.01943123,6.57095372,14.96492092,2.35534424,102.34526085,23.76941603,18.23411176,21.7050767,28.65997935,72.3732513,19.3270201,13.90895267,9.85045563,199.59613784,18.33799201],\"sizemode\":\"area\",\"sizeref\":0.639748435229,\"symbol\":\"circle\"},\"mode\":\"markers\",\"name\":\"Sub-Saharan Africa\",\"orientation\":\"v\",\"showlegend\":true,\"x\":[1902.42214975937,151.681566343002,822.785143124704,457.933430763383,5513.33106259322,331.294821098185,1309.59165283165,1100.17492617744,1835.60990812416,492.54405617264,322.415540033465,665.720215700547,511.616394301253,842.812630961302,319.537475081164,489.022855550956,416.809824183966,5282.90602155635,914.16650390625,992.688058138543,292.349066330563,866.504995638803,3083.83814075588,658.566973042801,406.562366042383,492.63134765625,6033.10149088554,702.741118447779],\"xaxis\":\"x\",\"y\":[7.99235010147095,10.9592695236206,18.7903900146484,19.4941902160645,25.8235301971436,9.68047046661377,21.8456897735596,21.3776092529297,7.59781980514526,23.4299602508545,10.9474697113037,5.34417009353638,27.4693393707275,32.4049186706543,18.0330390930176,16.2803001403809,22.7181797027588,17.0881309509277,5.96680021286011,21.7709693908691,15.506609916687,12.1254796981812,20.8918590545654,14.6728200912476,17.6780796051025,18.1431407928467,19.9249897003174,7.72973012924194],\"yaxis\":\"y\",\"type\":\"scatter\"},{\"hovertemplate\":\"<b>%{hovertext}</b><br><br>Region=Europe and Central Asia<br>Year=YR2005<br>GDP per capita=%{x}<br>Current health expenditure per capita=%{y}<br>Population=%{marker.size}<extra></extra>\",\"hovertext\":[\"Albania\",\"Armenia\",\"Austria\",\"Azerbaijan\",\"Belgium\",\"Bulgaria\",\"Belarus\",\"Switzerland\",\"Cyprus\",\"Czechia\",\"Denmark\",\"Spain\",\"Estonia\",\"Finland\",\"United Kingdom\",\"Georgia\",\"Greece\",\"Hungary\",\"Ireland\",\"Iceland\",\"Italy\",\"Kazakhstan\",\"Kyrgyz Republic\",\"Lithuania\",\"Moldova\",\"Netherlands\",\"Norway\",\"Poland\",\"Portugal\",\"Romania\",\"Russian Federation\",\"Slovak Republic\",\"Slovenia\",\"Sweden\",\"Tajikistan\",\"Ukraine\"],\"ids\":[\"Albania\",\"Armenia\",\"Austria\",\"Azerbaijan\",\"Belgium\",\"Bulgaria\",\"Belarus\",\"Switzerland\",\"Cyprus\",\"Czechia\",\"Denmark\",\"Spain\",\"Estonia\",\"Finland\",\"United Kingdom\",\"Georgia\",\"Greece\",\"Hungary\",\"Ireland\",\"Iceland\",\"Italy\",\"Kazakhstan\",\"Kyrgyz Republic\",\"Lithuania\",\"Moldova\",\"Netherlands\",\"Norway\",\"Poland\",\"Portugal\",\"Romania\",\"Russian Federation\",\"Slovak Republic\",\"Slovenia\",\"Sweden\",\"Tajikistan\",\"Ukraine\"],\"legendgroup\":\"Europe and Central Asia\",\"marker\":{\"color\":\"#00cc96\",\"size\":[86.81703828,60.80376976,1014.73097696,20.52321089,872.62887485,108.24201054,50.42561896,3912.29502499,792.22160397,125.96869298,722.21158443,586.04994848,133.96086663,716.52446314,664.54517395,102.20431738,757.96055824,267.14810862,832.2244064,971.11791493,602.75504894,50.59951145,15.37359399,172.10622289,34.03249534,1207.38432948,946.54039499,146.57018538,527.19318736,50.41336326,105.3724807,149.49778231,402.56093793,628.18773816,12.00400887,47.74009826],\"sizemode\":\"area\",\"sizeref\":0.639748435229,\"symbol\":\"circle\"},\"mode\":\"markers\",\"name\":\"Europe and Central Asia\",\"orientation\":\"v\",\"showlegend\":true,\"x\":[2673.78658429559,1643.75688889146,38417.4577857677,1578.40239029603,36809.7013403619,3899.90763774017,3125.81053502853,56546.7856553987,24959.259765625,13430.6698955613,48799.8256011275,26429.1509449319,10412.6443137966,39054.8504423825,42132.0907219815,1642.76093756395,22560.1472939077,11225.9325815328,50933.0216095589,56794.8501588953,32055.0920757503,3771.27895733845,476.552129968975,7854.76527867855,1034.70705816743,41994.7135305232,66810.478520868,8021.50574346795,18780.12751241,4617.92901643258,5323.462890625,11690.1134689407,18098.9085440003,43437.0631164776,340.583183232527,1894.47082519531],\"xaxis\":\"x\",\"y\":[11.3579702377319,13.6480903625488,10.2618503570557,13.2231502532959,11.1755199432373,12.0725202560425,12.6201095581055,15.703989982605,15.8393602371216,9.12421035766602,15.7793397903442,10.7697601318359,14.2651500701904,12.2496995925903,13.0033798217773,11.1812496185303,8.70020961761475,10.8005695343018,13.6849298477173,16.3081493377686,8.97150993347168,10.2859497070313,16.7684001922607,14.5795602798462,19.2966499328613,12.3359098434448,16.3725299835205,12.2654895782471,10.8545999526978,10.8366804122925,11.9505701065063,9.46469974517822,12.0792798995972,12.6876201629639,15.2933797836304,13.7386503219604],\"yaxis\":\"y\",\"type\":\"scatter\"},{\"hovertemplate\":\"<b>%{hovertext}</b><br><br>Region=Latin America & the Caribbean<br>Year=YR2005<br>GDP per capita=%{x}<br>Current health expenditure per capita=%{y}<br>Population=%{marker.size}<extra></extra>\",\"hovertext\":[\"Argentina\",\"Bahamas, The\",\"Brazil\",\"Barbados\",\"Chile\",\"Colombia\",\"Guyana\",\"Jamaica\",\"St. Lucia\",\"Mexico\",\"Peru\",\"El Salvador\",\"Uruguay\",\"St. Vincent and the Grenadines\"],\"ids\":[\"Argentina\",\"Bahamas, The\",\"Brazil\",\"Barbados\",\"Chile\",\"Colombia\",\"Guyana\",\"Jamaica\",\"St. Lucia\",\"Mexico\",\"Peru\",\"El Salvador\",\"Uruguay\",\"St. Vincent and the Grenadines\"],\"legendgroup\":\"Latin America & the Caribbean\",\"marker\":{\"color\":\"#ab63fa\",\"size\":[186.0785116,733.92531538,224.41961186,389.40846904,303.67887855,56.40914357,33.22696399,92.33444705,218.83407275,279.05254142,53.32977965,95.39926262,241.4720469,75.78358431],\"sizemode\":\"area\",\"sizeref\":0.639748435229,\"symbol\":\"circle\"},\"mode\":\"markers\",\"name\":\"Latin America & the Caribbean\",\"orientation\":\"v\",\"showlegend\":true,\"x\":[5109.85224490403,30279.3922080481,4790.45656586131,13822.7417486972,7558.37175410092,3414.46515834714,1105.50682477118,4103.6016371324,6949.20417333029,8277.67156384567,2729.49917213529,2428.56887928932,5226.94409982496,5339.3935508934],\"xaxis\":\"x\",\"y\":[15.8031702041626,18.5599994659424,11.2647199630737,18.2429790496826,16.199089050293,15.5314502716064,13.8234395980835,14.2693700790405,16.3069705963135,21.9037895202637,14.2785196304321,14.1668500900269,9.47097015380859,22.5919895172119],\"yaxis\":\"y\",\"type\":\"scatter\"},{\"hovertemplate\":\"<b>%{hovertext}</b><br><br>Region=East Asia and Pacific<br>Year=YR2005<br>GDP per capita=%{x}<br>Current health expenditure per capita=%{y}<br>Population=%{marker.size}<extra></extra>\",\"hovertext\":[\"Australia\",\"China\",\"Fiji\",\"Indonesia\",\"Lao PDR\",\"New Zealand\",\"Philippines\",\"Singapore\",\"Thailand\"],\"ids\":[\"Australia\",\"China\",\"Fiji\",\"Indonesia\",\"Lao PDR\",\"New Zealand\",\"Philippines\",\"Singapore\",\"Thailand\"],\"legendgroup\":\"East Asia and Pacific\",\"marker\":{\"color\":\"#FFA15A\",\"size\":[848.56129325,48.17227011,22.04019964,24.16303676,9.30493105,529.08646122,29.1938668,609.11919734,33.13270412],\"sizemode\":\"area\",\"sizeref\":0.639748435229,\"symbol\":\"circle\"},\"mode\":\"markers\",\"name\":\"East Asia and Pacific\",\"orientation\":\"v\",\"showlegend\":true,\"x\":[34080.9998953245,1753.41782926104,3627.63285585254,1263.28733171098,475.610796203932,27751.0654708859,1244.34874065936,29961.2632774569,2894.06265596401],\"xaxis\":\"x\",\"y\":[13.585129737854,9.5,20.2661304473877,15.1487998962402,14.1277904510498,16.2579593658447,12.4223604202271,22.2787895202637,20.5468196868896],\"yaxis\":\"y\",\"type\":\"scatter\"},{\"hovertemplate\":\"<b>%{hovertext}</b><br><br>Region=Middle East and North Africa<br>Year=YR2005<br>GDP per capita=%{x}<br>Current health expenditure per capita=%{y}<br>Population=%{marker.size}<extra></extra>\",\"hovertext\":[\"Djibouti\",\"Egypt, Arab Rep.\",\"Iran, Islamic Rep.\",\"Israel\",\"Jordan\",\"Kuwait\",\"Lebanon\",\"Oman\",\"Qatar\",\"Saudi Arabia\",\"Tunisia\"],\"ids\":[\"Djibouti\",\"Egypt, Arab Rep.\",\"Iran, Islamic Rep.\",\"Israel\",\"Jordan\",\"Kuwait\",\"Lebanon\",\"Oman\",\"Qatar\",\"Saudi Arabia\",\"Tunisia\"],\"legendgroup\":\"Middle East and North Africa\",\"marker\":{\"color\":\"#19d3f3\",\"size\":[17.30886212,42.457336,110.37800962,591.31449162,87.82154519,170.46367822,211.05306517,56.53700303,331.64465988,129.58135791,84.64833954],\"sizemode\":\"area\",\"sizeref\":0.639748435229,\"symbol\":\"circle\"},\"mode\":\"markers\",\"name\":\"Middle East and North Africa\",\"orientation\":\"v\",\"showlegend\":true,\"x\":[904.736679476444,1186.39331322717,3246.05112244352,20585.1386127162,2183.39464250953,35591.0371337921,4575.10745896031,12377.0800076389,51455.9509428993,13791.454761932,3193.20435786446],\"xaxis\":\"x\",\"y\":[22.7150497436523,15.0436096191406,21.8996906280518,13.1818399429321,12.8599996566772,13.8541097640991,8.42131042480469,10.0536403656006,13.7447595596313,19.2922897338867,26.6956901550293],\"yaxis\":\"y\",\"type\":\"scatter\"},{\"hovertemplate\":\"<b>%{hovertext}</b><br><br>Region=North America<br>Year=YR2005<br>GDP per capita=%{x}<br>Current health expenditure per capita=%{y}<br>Population=%{marker.size}<extra></extra>\",\"hovertext\":[\"Canada\"],\"ids\":[\"Canada\"],\"legendgroup\":\"North America\",\"marker\":{\"color\":\"#FF6692\",\"size\":[888.88368016],\"sizemode\":\"area\",\"sizeref\":0.639748435229,\"symbol\":\"circle\"},\"mode\":\"markers\",\"name\":\"North America\",\"orientation\":\"v\",\"showlegend\":true,\"x\":[36382.5079164537],\"xaxis\":\"x\",\"y\":[12.1780700683594],\"yaxis\":\"y\",\"type\":\"scatter\"}],\"name\":\"YR2005\"},{\"data\":[{\"hovertemplate\":\"<b>%{hovertext}</b><br><br>Region=South Asia<br>Year=YR2010<br>GDP per capita=%{x}<br>Current health expenditure per capita=%{y}<br>Population=%{marker.size}<extra></extra>\",\"hovertext\":[\"Afghanistan\",\"Bangladesh\",\"Bhutan\",\"India\",\"Sri Lanka\",\"Maldives\",\"Nepal\",\"Pakistan\"],\"ids\":[\"Afghanistan\",\"Bangladesh\",\"Bhutan\",\"India\",\"Sri Lanka\",\"Maldives\",\"Nepal\",\"Pakistan\"],\"legendgroup\":\"South Asia\",\"marker\":{\"color\":\"#636efa\",\"size\":[35.54101566,14.51739532,12.54553091,32.86493337,63.23617015,262.4739046,20.39336768,18.44697089],\"sizemode\":\"area\",\"sizeref\":0.639748435229,\"symbol\":\"circle\"},\"mode\":\"markers\",\"name\":\"South Asia\",\"orientation\":\"v\",\"showlegend\":true,\"x\":[543.306526178281,781.153577677298,2258.18643535953,1357.5637268318,2799.64873802555,7076.73982087196,592.401207101201,987.409712037523],\"xaxis\":\"x\",\"y\":[17.0675601959229,21.0,11.7936897277832,11.8336801528931,8.6056604385376,10.946310043335,16.0323505401611,11.8646602630615],\"yaxis\":\"y\",\"type\":\"scatter\"},{\"hovertemplate\":\"<b>%{hovertext}</b><br><br>Region=Sub-Saharan Africa<br>Year=YR2010<br>GDP per capita=%{x}<br>Current health expenditure per capita=%{y}<br>Population=%{marker.size}<extra></extra>\",\"hovertext\":[\"Angola\",\"Burundi\",\"Benin\",\"Burkina Faso\",\"Central African Republic\",\"Cote d'Ivoire\",\"Cameroon\",\"Congo, Dem. Rep.\",\"Congo, Rep.\",\"Cabo Verde\",\"Ethiopia\",\"Gabon\",\"Ghana\",\"Guinea\",\"Gambia, The\",\"Guinea-Bissau\",\"Kenya\",\"Mali\",\"Mozambique\",\"Mauritius\",\"Malawi\",\"Namibia\",\"Niger\",\"Rwanda\",\"Senegal\",\"Sierra Leone\",\"Sao Tome and Principe\",\"Eswatini\",\"Seychelles\",\"Chad\",\"Togo\",\"Tanzania\",\"Uganda\",\"South Africa\",\"Zambia\",\"Zimbabwe\"],\"ids\":[\"Angola\",\"Burundi\",\"Benin\",\"Burkina Faso\",\"Central African Republic\",\"Cote d'Ivoire\",\"Cameroon\",\"Congo, Dem. Rep.\",\"Congo, Rep.\",\"Cabo Verde\",\"Ethiopia\",\"Gabon\",\"Ghana\",\"Guinea\",\"Gambia, The\",\"Guinea-Bissau\",\"Kenya\",\"Mali\",\"Mozambique\",\"Mauritius\",\"Malawi\",\"Namibia\",\"Niger\",\"Rwanda\",\"Senegal\",\"Sierra Leone\",\"Sao Tome and Principe\",\"Eswatini\",\"Seychelles\",\"Chad\",\"Togo\",\"Tanzania\",\"Uganda\",\"South Africa\",\"Zambia\",\"Zimbabwe\"],\"legendgroup\":\"Sub-Saharan Africa\",\"marker\":{\"color\":\"#EF553B\",\"size\":[33.49321036,10.43094475,15.55759509,11.42022631,11.88384894,56.36825796,38.99174858,5.79263399,24.79833792,46.41014877,8.06709831,77.35082227,25.39234833,16.12875048,8.36248405,16.15212024,24.58445426,19.3904633,2.18157505,198.14694438,5.27743899,231.51353914,14.72074287,11.26635484,30.13409573,28.24533653,17.46079896,90.38565049,172.33775673,26.54245483,21.91453596,12.31982897,20.0776561,260.57376768,17.59175004,45.93941672],\"sizemode\":\"area\",\"sizeref\":0.639748435229,\"symbol\":\"circle\"},\"mode\":\"markers\",\"name\":\"Sub-Saharan Africa\",\"orientation\":\"v\",\"showlegend\":true,\"x\":[3497.9744877961,234.235538877634,1036.53451502404,647.836095537879,488.421735800876,1701.47570153451,1352.30227450638,334.02157774666,3076.55644910171,3378.3234334576,341.554122699663,8849.32260799167,1299.34521164062,672.424930359396,860.636433851486,558.174668134758,1080.29618449063,710.274303600905,471.904360009894,8000.37643182154,478.668688469613,5394.99671166874,476.869532167304,609.754297393961,1271.58328084525,401.834876099443,1090.26076257543,4168.48940292685,10804.7232956282,892.568869694168,534.04478262418,743.403686523438,822.539372481326,8148.9612020223,1489.45908689417,948.331481033457],\"xaxis\":\"x\",\"y\":[8.68476963043213,16.5881004333496,26.1439609527588,16.1728191375732,6.47537994384766,22.7727508544922,18.7538890838623,9.57849979400635,24.7277793884277,14.2168998718262,26.3040409088135,13.3304195404053,20.6961402893066,12.4383201599121,17.6112308502197,9.06923961639404,20.5559902191162,16.5039100646973,19.9230003356934,14.5731496810913,12.4599800109863,26.1235103607178,19.0896492004395,17.548059463501,24.046350479126,12.8019104003906,19.3274097442627,18.2830295562744,10.8643798828125,8.1192798614502,19.6157608032227,19.8020191192627,10.1048898696899,18.0443706512451,16.8999996185303,8.53672027587891],\"yaxis\":\"y\",\"type\":\"scatter\"},{\"hovertemplate\":\"<b>%{hovertext}</b><br><br>Region=Europe and Central Asia<br>Year=YR2010<br>GDP per capita=%{x}<br>Current health expenditure per capita=%{y}<br>Population=%{marker.size}<extra></extra>\",\"hovertext\":[\"Armenia\",\"Austria\",\"Azerbaijan\",\"Belgium\",\"Bulgaria\",\"Belarus\",\"Switzerland\",\"Cyprus\",\"Czechia\",\"Germany\",\"Denmark\",\"Spain\",\"Estonia\",\"Finland\",\"United Kingdom\",\"Croatia\",\"Hungary\",\"Ireland\",\"Iceland\",\"Italy\",\"Kyrgyz Republic\",\"Lithuania\",\"Latvia\",\"Moldova\",\"Netherlands\",\"Norway\",\"Poland\",\"Portugal\",\"Romania\",\"Serbia\",\"Slovak Republic\",\"Slovenia\",\"Sweden\",\"Tajikistan\"],\"ids\":[\"Armenia\",\"Austria\",\"Azerbaijan\",\"Belgium\",\"Bulgaria\",\"Belarus\",\"Switzerland\",\"Cyprus\",\"Czechia\",\"Germany\",\"Denmark\",\"Spain\",\"Estonia\",\"Finland\",\"United Kingdom\",\"Croatia\",\"Hungary\",\"Ireland\",\"Iceland\",\"Italy\",\"Kyrgyz Republic\",\"Lithuania\",\"Latvia\",\"Moldova\",\"Netherlands\",\"Norway\",\"Poland\",\"Portugal\",\"Romania\",\"Serbia\",\"Slovak Republic\",\"Slovenia\",\"Sweden\",\"Tajikistan\"],\"legendgroup\":\"Europe and Central Asia\",\"marker\":{\"color\":\"#00cc96\",\"size\":[231.87482023,1325.22504677,84.47678003,1089.41598102,216.9423661,108.26445526,5211.58743974,1091.15992386,231.81296909,1120.70205753,969.07615746,712.89531032,222.34503656,911.5267556,696.81350055,186.87639988,328.10764109,1222.9041589,722.91484883,693.29505019,26.48136111,231.44303198,274.31158195,83.62017094,1699.68984673,1200.01637085,231.83530099,755.40985519,94.57593435,207.76701706,376.05457995,557.43979046,773.34422565,30.30720555],\"sizemode\":\"area\",\"sizeref\":0.639748435229,\"symbol\":\"circle\"},\"mode\":\"markers\",\"name\":\"Europe and Central Asia\",\"orientation\":\"v\",\"showlegend\":true,\"x\":[3218.37829927419,46903.7615854343,5843.5337683582,44184.946353964,6853.00285388669,6033.6862392722,77117.126014204,31023.638671875,19960.0684872157,41572.4559481507,58041.3984363385,30532.4805081656,14663.0446126465,46505.3031791811,39688.6149684498,14067.5231191915,13223.0830027699,48655.3661626634,43237.0729488958,36035.6449950691,880.037775119109,11987.508411647,11420.9940032836,2437.53768326452,50999.7451168879,87693.7900658099,12613.0109954681,22520.6423124045,8214.07689289811,5735.42285659849,16841.7677398734,23532.4808545468,52869.0442891587,749.552412285997],\"xaxis\":\"x\",\"y\":[12.4005098342896,10.7891302108765,8.70083999633789,11.9576501846313,11.1634197235107,11.7781295776367,15.2876396179199,15.6494903564453,9.24479961395264,10.2690401077271,15.1033401489258,10.548810005188,13.7002401351929,12.066089630127,12.7819900512695,8.73834991455078,9.6772403717041,9.32332038879395,14.2312202453613,8.68076992034912,15.6813097000122,12.8588199615479,11.8090295791626,22.2670097351074,11.6690502166748,15.0884895324707,11.0435695648193,10.4289102554321,9.12913036346436,10.0982303619385,9.59832000732422,11.0519895553589,13.2209997177124,15.3314504623413],\"yaxis\":\"y\",\"type\":\"scatter\"},{\"hovertemplate\":\"<b>%{hovertext}</b><br><br>Region=Latin America & the Caribbean<br>Year=YR2010<br>GDP per capita=%{x}<br>Current health expenditure per capita=%{y}<br>Population=%{marker.size}<extra></extra>\",\"hovertext\":[\"Argentina\",\"Bahamas, The\",\"Belize\",\"Bolivia\",\"Brazil\",\"Barbados\",\"Chile\",\"Colombia\",\"Costa Rica\",\"Dominican Republic\",\"Ecuador\",\"Guatemala\",\"Guyana\",\"Jamaica\",\"St. Lucia\",\"Mexico\",\"Nicaragua\",\"Peru\",\"Paraguay\",\"El Salvador\",\"Uruguay\",\"St. Vincent and the Grenadines\"],\"ids\":[\"Argentina\",\"Bahamas, The\",\"Belize\",\"Bolivia\",\"Brazil\",\"Barbados\",\"Chile\",\"Colombia\",\"Costa Rica\",\"Dominican Republic\",\"Ecuador\",\"Guatemala\",\"Guyana\",\"Jamaica\",\"St. Lucia\",\"Mexico\",\"Nicaragua\",\"Peru\",\"Paraguay\",\"El Salvador\",\"Uruguay\",\"St. Vincent and the Grenadines\"],\"legendgroup\":\"Latin America & the Caribbean\",\"marker\":{\"color\":\"#ab63fa\",\"size\":[401.21882204,812.67088944,74.27532996,38.29264168,490.78749798,481.34375363,458.90183328,124.17465504,181.49171917,168.32271469,147.30376161,110.64300482,61.43848764,100.33113057,266.19738978,264.78124621,46.0312838,113.56249159,142.73394267,90.82721452,411.79502738,101.8936938],\"sizemode\":\"area\",\"sizeref\":0.639748435229,\"symbol\":\"circle\"},\"mode\":\"markers\",\"name\":\"Latin America & the Caribbean\",\"orientation\":\"v\",\"showlegend\":true,\"x\":[10385.9644319555,28443.8884756689,4304.11110815138,1955.460180975,11286.071540212,16056.1168470231,12724.10406267,6336.70947398466,8227.12749376825,5555.39201393816,4633.59128443099,2852.54732650116,4580.69876204788,4704.04775962425,8540.07097992462,9271.39839576997,1503.87223074992,5082.35370614454,4342.06584459985,2983.2288061357,11992.0237658273,6654.79290746741],\"xaxis\":\"x\",\"y\":[15.0479698181152,16.6100006103516,22.7557792663574,18.2000007629395,14.1598596572876,18.0963306427002,17.8533096313477,15.926830291748,22.8808898925781,14.8493003845215,12.9965600967407,19.2969207763672,11.8387203216553,16.1029396057129,14.2020797729492,18.6425895690918,26.4080009460449,13.5555801391602,18.7624092102051,15.8184099197388,17.4524002075195,15.4856300354004],\"yaxis\":\"y\",\"type\":\"scatter\"},{\"hovertemplate\":\"<b>%{hovertext}</b><br><br>Region=East Asia and Pacific<br>Year=YR2010<br>GDP per capita=%{x}<br>Current health expenditure per capita=%{y}<br>Population=%{marker.size}<extra></extra>\",\"hovertext\":[\"Australia\",\"Brunei Darussalam\",\"China\",\"Fiji\",\"Indonesia\",\"Cambodia\",\"Korea, Rep.\",\"Lao PDR\",\"Myanmar\",\"Mongolia\",\"Malaysia\",\"New Zealand\",\"Singapore\",\"Solomon Islands\",\"Thailand\",\"Timor-Leste\",\"Vietnam\",\"Samoa\"],\"ids\":[\"Australia\",\"Brunei Darussalam\",\"China\",\"Fiji\",\"Indonesia\",\"Cambodia\",\"Korea, Rep.\",\"Lao PDR\",\"Myanmar\",\"Mongolia\",\"Malaysia\",\"New Zealand\",\"Singapore\",\"Solomon Islands\",\"Thailand\",\"Timor-Leste\",\"Vietnam\",\"Samoa\"],\"legendgroup\":\"East Asia and Pacific\",\"marker\":{\"color\":\"#FFA15A\",\"size\":[1366.94320432,66.3821619,89.46375706,40.27114318,65.7542065,35.99677371,555.27116364,21.88963838,15.82786422,29.92333783,136.21764529,698.86586513,959.73563153,2.82989815,44.91136123,6.19099918,45.71716244,25.89630315],\"sizemode\":\"area\",\"sizeref\":0.639748435229,\"symbol\":\"circle\"},\"mode\":\"markers\",\"name\":\"East Asia and Pacific\",\"orientation\":\"v\",\"showlegend\":true,\"x\":[52087.9722888891,35270.6421390658,4550.45310775599,3652.53593320954,3122.36267319362,785.50266705782,23087.2256438476,1141.23570253091,746.945359978558,2643.28708316435,9040.56849464524,33676.7741239925,47236.9602345421,1604.14888755803,5076.33987220163,806.41434929681,1673.3292888042,3566.45833371884],\"xaxis\":\"x\",\"y\":[14.3240003585815,5.30208015441895,14.9620943069458,20.8386993408203,16.6541805267334,7.33747005462646,14.8199996948242,7.24696016311646,7.5,14.7111396789551,18.4062309265137,15.6810998916626,18.5717296600342,16.6766796112061,16.222620010376,9.15421009063721,17.0566692352295,19.3899993896484],\"yaxis\":\"y\",\"type\":\"scatter\"},{\"hovertemplate\":\"<b>%{hovertext}</b><br><br>Region=Middle East and North Africa<br>Year=YR2010<br>GDP per capita=%{x}<br>Current health expenditure per capita=%{y}<br>Population=%{marker.size}<extra></extra>\",\"hovertext\":[\"Bahrain\",\"Djibouti\",\"Egypt, Arab Rep.\",\"Iran, Islamic Rep.\",\"Israel\",\"Jordan\",\"Kuwait\",\"Lebanon\",\"Malta\",\"Qatar\",\"Tunisia\",\"Yemen, Rep.\"],\"ids\":[\"Bahrain\",\"Djibouti\",\"Egypt, Arab Rep.\",\"Iran, Islamic Rep.\",\"Israel\",\"Jordan\",\"Kuwait\",\"Lebanon\",\"Malta\",\"Qatar\",\"Tunisia\",\"Yemen, Rep.\"],\"legendgroup\":\"Middle East and North Africa\",\"marker\":{\"color\":\"#19d3f3\",\"size\":[294.88814479,16.60064131,75.22799026,301.46119681,802.49225318,87.86404466,163.26651687,340.17879501,614.14100406,349.85782764,104.91336946,51.68709842],\"sizemode\":\"area\",\"sizeref\":0.639748435229,\"symbol\":\"circle\"},\"mode\":\"markers\",\"name\":\"Middle East and North Africa\",\"orientation\":\"v\",\"showlegend\":true,\"x\":[20722.0704900745,1343.27512498519,2645.96875877924,6599.66093791004,30780.0238155167,3736.64546207921,38577.4982788212,7761.64148945415,21799.1742559798,67403.0876779676,4344.61941760278,1334.78490225941],\"xaxis\":\"x\",\"y\":[11.6999998092651,12.3283996582031,11.297534942627,19.2569103240967,13.7162704467773,8.10000038146973,7.86999988555908,5.53428983688354,15.7192096710205,13.8172702789307,24.846830368042,14.5421018600464],\"yaxis\":\"y\",\"type\":\"scatter\"},{\"hovertemplate\":\"<b>%{hovertext}</b><br><br>Region=North America<br>Year=YR2010<br>GDP per capita=%{x}<br>Current health expenditure per capita=%{y}<br>Population=%{marker.size}<extra></extra>\",\"hovertext\":[\"Canada\"],\"ids\":[\"Canada\"],\"legendgroup\":\"North America\",\"marker\":{\"color\":\"#FF6692\",\"size\":[1524.58514472],\"sizemode\":\"area\",\"sizeref\":0.639748435229,\"symbol\":\"circle\"},\"mode\":\"markers\",\"name\":\"North America\",\"orientation\":\"v\",\"showlegend\":true,\"x\":[47562.0834253057],\"xaxis\":\"x\",\"y\":[12.3359603881836],\"yaxis\":\"y\",\"type\":\"scatter\"}],\"name\":\"YR2010\"},{\"data\":[{\"hovertemplate\":\"<b>%{hovertext}</b><br><br>Region=South Asia<br>Year=YR2015<br>GDP per capita=%{x}<br>Current health expenditure per capita=%{y}<br>Population=%{marker.size}<extra></extra>\",\"hovertext\":[\"Afghanistan\",\"Bangladesh\",\"Bhutan\",\"India\",\"Sri Lanka\",\"Maldives\",\"Nepal\",\"Pakistan\"],\"ids\":[\"Afghanistan\",\"Bangladesh\",\"Bhutan\",\"India\",\"Sri Lanka\",\"Maldives\",\"Nepal\",\"Pakistan\"],\"legendgroup\":\"South Asia\",\"marker\":{\"color\":\"#636efa\",\"size\":[46.17228869,24.4209882,20.37686074,43.39118121,81.98848914,218.75437393,33.03861994,24.7185381],\"sizemode\":\"area\",\"sizeref\":0.639748435229,\"symbol\":\"circle\"},\"mode\":\"markers\",\"name\":\"South Asia\",\"orientation\":\"v\",\"showlegend\":true,\"x\":[556.007220861443,1248.45330989613,2752.63017233678,1605.60544457087,3843.78067184442,9033.41027034576,901.74960773293,1356.66783065763],\"xaxis\":\"x\",\"y\":[12.5089998245239,13.70046043396,25.5244808197021,15.6922197341919,10.9502601623535,11.4492502212524,16.9896602630615,13.1872797012329],\"yaxis\":\"y\",\"type\":\"scatter\"},{\"hovertemplate\":\"<b>%{hovertext}</b><br><br>Region=Sub-Saharan Africa<br>Year=YR2015<br>GDP per capita=%{x}<br>Current health expenditure per capita=%{y}<br>Population=%{marker.size}<extra></extra>\",\"hovertext\":[\"Angola\",\"Burundi\",\"Benin\",\"Burkina Faso\",\"Botswana\",\"Central African Republic\",\"Cote d'Ivoire\",\"Cameroon\",\"Congo, Dem. Rep.\",\"Congo, Rep.\",\"Comoros\",\"Cabo Verde\",\"Ethiopia\",\"Gabon\",\"Ghana\",\"Guinea\",\"Gambia, The\",\"Guinea-Bissau\",\"Kenya\",\"Lesotho\",\"Madagascar\",\"Mali\",\"Mozambique\",\"Mauritius\",\"Malawi\",\"Namibia\",\"Niger\",\"Nigeria\",\"Rwanda\",\"Senegal\",\"Sao Tome and Principe\",\"Seychelles\",\"Chad\",\"Togo\",\"Uganda\",\"South Africa\",\"Zambia\",\"Zimbabwe\"],\"ids\":[\"Angola\",\"Burundi\",\"Benin\",\"Burkina Faso\",\"Botswana\",\"Central African Republic\",\"Cote d'Ivoire\",\"Cameroon\",\"Congo, Dem. Rep.\",\"Congo, Rep.\",\"Comoros\",\"Cabo Verde\",\"Ethiopia\",\"Gabon\",\"Ghana\",\"Guinea\",\"Gambia, The\",\"Guinea-Bissau\",\"Kenya\",\"Lesotho\",\"Madagascar\",\"Mali\",\"Mozambique\",\"Mauritius\",\"Malawi\",\"Namibia\",\"Niger\",\"Nigeria\",\"Rwanda\",\"Senegal\",\"Sao Tome and Principe\",\"Seychelles\",\"Chad\",\"Togo\",\"Uganda\",\"South Africa\",\"Zambia\",\"Zimbabwe\"],\"legendgroup\":\"Sub-Saharan Africa\",\"marker\":{\"color\":\"#EF553B\",\"size\":[54.25286316,10.33014331,14.28518296,15.74289494,98.1711161,9.41336493,39.33674366,39.8094229,8.69540561,21.38018386,45.21186574,44.06326509,13.50965767,79.02572098,32.22670946,30.90018468,7.05475749,37.72093324,29.0961118,17.35675136,7.33698183,11.22333425,7.24464045,294.87740594,6.36926879,254.54414556,14.1496588,72.02040296,13.07634239,30.67831456,14.7833323,192.70412508,21.66391811,24.98377714,16.50463554,207.79181863,9.79281313,59.14794047],\"sizemode\":\"area\",\"sizeref\":0.639748435229,\"symbol\":\"circle\"},\"mode\":\"markers\",\"name\":\"Sub-Saharan Africa\",\"orientation\":\"v\",\"showlegend\":true,\"x\":[3127.89059784461,305.511144099475,1076.79669785585,653.32726813947,6402.91018338391,377.422917680195,1972.54568305836,1382.5097900241,497.317039077365,2448.52377758887,1242.58560784999,3043.03138156811,640.541923075422,7384.70070393071,1774.07477092508,769.255475432822,660.723571244322,603.399381547733,1464.55400904329,1146.06468787308,467.235431614314,751.472889186889,589.85943137707,9260.44730250635,380.596987683774,4896.61526001377,484.153137350801,2687.48005643212,751.110505478611,1219.24941513302,1584.77565743788,15157.5018256876,776.019752284262,570.909967175308,847.267628934983,6259.83968110571,1338.29092708188,1445.06970213198],\"xaxis\":\"x\",\"y\":[8.918776512146,27.4972400665283,17.4795207977295,18.0270805358887,17.5282592773438,8.38674163818359,21.1732196807861,13.243989944458,11.7383699417114,7.95039987564087,13.3536500930786,16.7482299804688,27.0987091064453,10.9131603240967,23.8087997436523,11.5987796783447,11.0329303741455,13.0,16.6646595001221,14.0,16.9629096984863,18.1554908752441,19.8523406982422,19.4570903778076,21.7978992462158,22.5713291168213,18.5121898651123,9.2555103302002,12.5390501022339,23.7782707214355,11.2973403930664,12.5869798660278,8.89999961853027,16.6649894714355,13.2200803756714,18.6993503570557,16.335599899292,29.4708309173584],\"yaxis\":\"y\",\"type\":\"scatter\"},{\"hovertemplate\":\"<b>%{hovertext}</b><br><br>Region=Europe and Central Asia<br>Year=YR2015<br>GDP per capita=%{x}<br>Current health expenditure per capita=%{y}<br>Population=%{marker.size}<extra></extra>\",\"hovertext\":[\"Albania\",\"Armenia\",\"Austria\",\"Azerbaijan\",\"Belgium\",\"Belarus\",\"Switzerland\",\"Cyprus\",\"Czechia\",\"Germany\",\"Spain\",\"Estonia\",\"Finland\",\"United Kingdom\",\"Greece\",\"Hungary\",\"Ireland\",\"Iceland\",\"Italy\",\"Kazakhstan\",\"Kyrgyz Republic\",\"Lithuania\",\"Luxembourg\",\"Latvia\",\"Moldova\",\"Netherlands\",\"Norway\",\"Poland\",\"Portugal\",\"Romania\",\"Russian Federation\",\"Serbia\",\"Slovak Republic\",\"Slovenia\",\"Sweden\",\"Tajikistan\",\"Ukraine\",\"Uzbekistan\"],\"ids\":[\"Albania\",\"Armenia\",\"Austria\",\"Azerbaijan\",\"Belgium\",\"Belarus\",\"Switzerland\",\"Cyprus\",\"Czechia\",\"Germany\",\"Spain\",\"Estonia\",\"Finland\",\"United Kingdom\",\"Greece\",\"Hungary\",\"Ireland\",\"Iceland\",\"Italy\",\"Kazakhstan\",\"Kyrgyz Republic\",\"Lithuania\",\"Luxembourg\",\"Latvia\",\"Moldova\",\"Netherlands\",\"Norway\",\"Poland\",\"Portugal\",\"Romania\",\"Russian Federation\",\"Serbia\",\"Slovak Republic\",\"Slovenia\",\"Sweden\",\"Tajikistan\",\"Ukraine\",\"Uzbekistan\"],\"legendgroup\":\"Europe and Central Asia\",\"marker\":{\"color\":\"#00cc96\",\"size\":[83.49495732,302.93554396,1270.55566366,152.77849988,1033.92438365,140.83690529,6397.48435229,894.74642566,228.13707059,1065.21984195,673.82252373,272.38504896,884.67042658,894.62872586,602.52261989,280.43536432,1276.77984759,821.43145104,684.02423826,117.32389985,43.7196369,309.36539925,765.01574184,320.77130262,87.96360274,1586.33907695,1095.90027851,246.24087417,685.23654537,97.54519708,205.6048489,205.87700933,235.74444979,508.70505304,897.97304881,40.36810153,80.26514655,64.39177202],\"sizemode\":\"area\",\"sizeref\":0.639748435229,\"symbol\":\"circle\"},\"mode\":\"markers\",\"name\":\"Europe and Central Asia\",\"orientation\":\"v\",\"showlegend\":true,\"x\":[3952.80253807527,3607.28929855361,44195.8175947748,5500.31038244408,41008.296719472,5967.05220384914,84776.1421659748,23408.3359375,17829.6983223668,41103.2564363768,25742.3688346767,17402.0376128079,42801.9081167285,45404.5677734722,18083.8779056547,12720.7120220668,62012.4849258149,52951.6815110898,30242.3861352184,10510.7718884149,1121.08283510739,14263.9645773495,105462.012584423,13786.4567953114,2732.46072997894,45193.4032187971,74355.5158575643,12578.4954734362,19250.1065376852,8969.14892146193,9313.013671875,5588.98072768556,16342.2162621093,20890.1664304173,51545.4836095322,978.404981180605,2124.66235351563,2753.97107219949],\"xaxis\":\"x\",\"y\":[11.1775503158569,10.6563596725464,10.6934795379639,7.63110017776489,12.0096797943115,11.4617300033569,15.3883600234985,16.024959564209,13.7163095474243,10.9991598129272,9.76646041870117,13.0143003463745,12.4436101913452,13.4902095794678,7.15652990341187,8.92302989959717,12.936840057373,17.1551399230957,8.09591007232666,12.193039894104,15.7167596817017,12.2882604598999,9.33442974090576,14.1274099349976,18.1821708679199,12.2096500396729,15.6075801849365,11.541410446167,10.1358299255371,9.09451007843018,10.8694696426392,8.8763599395752,10.0485095977783,10.0791702270508,15.3828802108765,16.3933601379395,13.3413009643555,22.3652591705322],\"yaxis\":\"y\",\"type\":\"scatter\"},{\"hovertemplate\":\"<b>%{hovertext}</b><br><br>Region=Latin America & the Caribbean<br>Year=YR2015<br>GDP per capita=%{x}<br>Current health expenditure per capita=%{y}<br>Population=%{marker.size}<extra></extra>\",\"hovertext\":[\"Argentina\",\"Bahamas, The\",\"Belize\",\"Bolivia\",\"Brazil\",\"Barbados\",\"Chile\",\"Colombia\",\"Costa Rica\",\"Dominican Republic\",\"Ecuador\",\"Guatemala\",\"Guyana\",\"Honduras\",\"Haiti\",\"Jamaica\",\"St. Lucia\",\"Mexico\",\"Nicaragua\",\"Panama\",\"Peru\",\"Paraguay\",\"El Salvador\",\"Suriname\",\"Trinidad and Tobago\",\"Uruguay\"],\"ids\":[\"Argentina\",\"Bahamas, The\",\"Belize\",\"Bolivia\",\"Brazil\",\"Barbados\",\"Chile\",\"Colombia\",\"Costa Rica\",\"Dominican Republic\",\"Ecuador\",\"Guatemala\",\"Guyana\",\"Honduras\",\"Haiti\",\"Jamaica\",\"St. Lucia\",\"Mexico\",\"Nicaragua\",\"Panama\",\"Peru\",\"Paraguay\",\"El Salvador\",\"Suriname\",\"Trinidad and Tobago\",\"Uruguay\"],\"legendgroup\":\"Latin America & the Caribbean\",\"marker\":{\"color\":\"#ab63fa\",\"size\":[505.42655876,900.67246677,82.47186504,62.02007804,444.95777814,571.46324012,585.84673361,135.52916104,241.1979502,206.79623186,193.63724295,138.78116453,82.21481167,95.76490436,25.6593769,97.52197156,257.18919941,263.05719704,61.49630405,340.81080976,121.60139812,190.2143013,95.17898146,240.75819925,536.06389824,444.12544895],\"sizemode\":\"area\",\"sizeref\":0.639748435229,\"symbol\":\"circle\"},\"mode\":\"markers\",\"name\":\"Latin America & the Caribbean\",\"orientation\":\"v\",\"showlegend\":true,\"x\":[13789.060424772,31699.3586317477,4805.19685237279,3035.97165495107,8813.98980647828,16558.8647849868,13495.0106099649,6175.87602970258,11642.7780517123,6921.52059432776,6124.49088707134,3994.63691288475,5576.82585151355,2302.20441093316,1386.85419078846,4907.927415189,10093.6180163617,9616.64555810607,2049.8516660809,13630.3011472878,6229.10067398112,5413.77602061858,3705.57970353453,9168.23715664009,18383.5386974985,15613.7459681824],\"xaxis\":\"x\",\"y\":[13.9633102416992,11.8315191268921,21.5519199371338,16.3400001525879,16.2181091308594,18.5185527801514,19.5937099456787,14.2927303314209,23.3734302520752,22.5958499908447,12.5976495742798,24.0855007171631,17.8026790618896,24.6445598602295,14.5677795410156,20.0514793395996,16.4529800415039,19.0187492370605,22.2829093933105,7.86405992507935,17.5748596191406,12.2894201278687,14.4225101470947,11.3766002655029,8.70096969604492,14.7243003845215],\"yaxis\":\"y\",\"type\":\"scatter\"},{\"hovertemplate\":\"<b>%{hovertext}</b><br><br>Region=East Asia and Pacific<br>Year=YR2015<br>GDP per capita=%{x}<br>Current health expenditure per capita=%{y}<br>Population=%{marker.size}<extra></extra>\",\"hovertext\":[\"Australia\",\"China\",\"Fiji\",\"Micronesia, Fed. Sts.\",\"Indonesia\",\"Kiribati\",\"Myanmar\",\"Mongolia\",\"Malaysia\",\"New Zealand\",\"Philippines\",\"Singapore\",\"Solomon Islands\",\"Thailand\",\"Timor-Leste\",\"Vietnam\",\"Vanuatu\",\"Samoa\"],\"ids\":[\"Australia\",\"China\",\"Fiji\",\"Micronesia, Fed. Sts.\",\"Indonesia\",\"Kiribati\",\"Myanmar\",\"Mongolia\",\"Malaysia\",\"New Zealand\",\"Philippines\",\"Singapore\",\"Solomon Islands\",\"Thailand\",\"Timor-Leste\",\"Vietnam\",\"Vanuatu\",\"Samoa\"],\"legendgroup\":\"East Asia and Pacific\",\"marker\":{\"color\":\"#FFA15A\",\"size\":[1534.69104637,155.30195835,61.53289736,9.31704853,58.36979907,5.01877953,43.46842618,65.15480884,177.65927611,906.50143943,71.22968562,1218.59701283,2.9821675,53.05374044,11.53554872,66.03815805,12.17368391,27.64481537],\"sizemode\":\"area\",\"sizeref\":0.639748435229,\"symbol\":\"circle\"},\"mode\":\"markers\",\"name\":\"East Asia and Pacific\",\"orientation\":\"v\",\"showlegend\":true,\"x\":[56707.0220772116,8016.43143498003,5390.71420703085,2906.61701228808,3331.69511469189,1535.16278257963,1196.74333308526,3875.32167504717,9955.24272167626,38630.7265886928,3001.04318170863,55646.6187469505,2167.15539406206,5840.05306687798,1332.79185551378,2581.62244157361,2695.66618597973,4073.72908299755],\"xaxis\":\"x\",\"y\":[14.085789680481,12.1019258499146,17.3918495178223,22.3123893737793,20.5032997131348,13.7477502822876,8.73416042327881,13.5471096038818,19.8107299804688,16.3735103607178,16.0162200927734,19.6920375823975,25.2087001800537,17.1416358947754,8.63696956634521,17.1195201873779,13.4881000518799,14.0],\"yaxis\":\"y\",\"type\":\"scatter\"},{\"hovertemplate\":\"<b>%{hovertext}</b><br><br>Region=Middle East and North Africa<br>Year=YR2015<br>GDP per capita=%{x}<br>Current health expenditure per capita=%{y}<br>Population=%{marker.size}<extra></extra>\",\"hovertext\":[\"Bahrain\",\"Djibouti\",\"Egypt, Arab Rep.\",\"Iran, Islamic Rep.\",\"Iraq\",\"Israel\",\"Jordan\",\"Kuwait\",\"Lebanon\",\"Malta\",\"Tunisia\"],\"ids\":[\"Bahrain\",\"Djibouti\",\"Egypt, Arab Rep.\",\"Iran, Islamic Rep.\",\"Iraq\",\"Israel\",\"Jordan\",\"Kuwait\",\"Lebanon\",\"Malta\",\"Tunisia\"],\"legendgroup\":\"Middle East and North Africa\",\"marker\":{\"color\":\"#19d3f3\",\"size\":[396.36617505,17.90697349,125.75111181,181.76352484,119.96439481,939.4390798,141.85545882,190.65027835,294.48048509,878.43102702,117.55604467],\"sizemode\":\"area\",\"sizeref\":0.639748435229,\"symbol\":\"circle\"},\"mode\":\"markers\",\"name\":\"Middle East and North Africa\",\"orientation\":\"v\",\"showlegend\":true,\"x\":[22634.0856475674,2652.51322808034,3562.93265798423,5200.68078673413,4688.31801743466,35808.4364289727,4164.10876894014,29869.552753237,7643.00871833192,24921.6036820869,4094.84160230737],\"xaxis\":\"x\",\"y\":[7.32818984985352,8.57643985748291,11.92453956604,18.5687503814697,13.0,15.4929103851318,11.3400001525879,9.51430988311768,6.30000019073486,13.1508903503418,22.665340423584],\"yaxis\":\"y\",\"type\":\"scatter\"},{\"hovertemplate\":\"<b>%{hovertext}</b><br><br>Region=North America<br>Year=YR2015<br>GDP per capita=%{x}<br>Current health expenditure per capita=%{y}<br>Population=%{marker.size}<extra></extra>\",\"hovertext\":[\"United States\"],\"ids\":[\"United States\"],\"legendgroup\":\"North America\",\"marker\":{\"color\":\"#FF6692\",\"size\":[4587.77368905],\"sizemode\":\"area\",\"sizeref\":0.639748435229,\"symbol\":\"circle\"},\"mode\":\"markers\",\"name\":\"North America\",\"orientation\":\"v\",\"showlegend\":true,\"x\":[56762.7294515989],\"xaxis\":\"x\",\"y\":[13.5456399917603],\"yaxis\":\"y\",\"type\":\"scatter\"}],\"name\":\"YR2015\"},{\"data\":[{\"hovertemplate\":\"<b>%{hovertext}</b><br><br>Region=South Asia<br>Year=YR2000<br>GDP per capita=%{x}<br>Current health expenditure per capita=%{y}<br>Population=%{marker.size}<extra></extra>\",\"hovertext\":[\"Bangladesh\",\"Bhutan\",\"India\",\"Nepal\",\"Pakistan\"],\"ids\":[\"Bangladesh\",\"Bhutan\",\"India\",\"Nepal\",\"Pakistan\"],\"legendgroup\":\"South Asia\",\"marker\":{\"color\":\"#636efa\",\"size\":[5.42315346,3.77327129,14.17991876,5.38607529,9.98768752],\"sizemode\":\"area\",\"sizeref\":0.639748435229,\"symbol\":\"circle\"},\"mode\":\"markers\",\"name\":\"South Asia\",\"orientation\":\"v\",\"showlegend\":true,\"x\":[418.068942112038,718.196336969414,443.314193811316,229.490392563225,576.195580353518],\"xaxis\":\"x\",\"y\":[20.4904193878174,14.1540803909302,16.7305107116699,19.1560401916504,8.4898796081543],\"yaxis\":\"y\",\"type\":\"scatter\"},{\"hovertemplate\":\"<b>%{hovertext}</b><br><br>Region=Sub-Saharan Africa<br>Year=YR2000<br>GDP per capita=%{x}<br>Current health expenditure per capita=%{y}<br>Population=%{marker.size}<extra></extra>\",\"hovertext\":[\"Angola\",\"Burundi\",\"Benin\",\"Central African Republic\",\"Cote d'Ivoire\",\"Cameroon\",\"Ethiopia\",\"Gabon\",\"Guinea\",\"Gambia, The\",\"Kenya\",\"Lesotho\",\"Madagascar\",\"Mali\",\"Mauritius\",\"Namibia\",\"Niger\",\"Rwanda\",\"Sudan\",\"Senegal\",\"Sierra Leone\",\"Eswatini\",\"Chad\",\"Togo\",\"Uganda\",\"Zambia\"],\"ids\":[\"Angola\",\"Burundi\",\"Benin\",\"Central African Republic\",\"Cote d'Ivoire\",\"Cameroon\",\"Ethiopia\",\"Gabon\",\"Guinea\",\"Gambia, The\",\"Kenya\",\"Lesotho\",\"Madagascar\",\"Mali\",\"Mauritius\",\"Namibia\",\"Niger\",\"Rwanda\",\"Sudan\",\"Senegal\",\"Sierra Leone\",\"Eswatini\",\"Chad\",\"Togo\",\"Uganda\",\"Zambia\"],\"legendgroup\":\"Sub-Saharan Africa\",\"marker\":{\"color\":\"#EF553B\",\"size\":[5.36555508,6.36949565,9.10614845,4.90135866,46.04756982,22.86322421,2.28931226,78.38731304,15.29643226,8.38113912,12.10070934,9.28596532,6.09617956,10.43243399,54.93170951,93.41639349,6.16438326,3.29606676,10.07939773,13.16868644,17.7519438,34.71334706,6.00771386,9.77735089,7.26333607,12.98572166],\"sizemode\":\"area\",\"sizeref\":0.639748435229,\"symbol\":\"circle\"},\"mode\":\"markers\",\"name\":\"Sub-Saharan Africa\",\"orientation\":\"v\",\"showlegend\":true,\"x\":[556.83618223535,136.46397080034,512.673901962619,251.832764026789,1007.46738950787,681.102042961201,124.460790874921,4135.99238007722,363.482279266615,594.149388499649,397.482658777519,436.488137266071,293.607157402594,270.54300662038,3929.07549503364,2185.60411519312,197.832683441643,260.607654653932,366.172729492188,613.732384491775,138.698722497148,1728.71049762741,166.175708881786,302.958591951416,261.869141644962,345.689620749861],\"xaxis\":\"x\",\"y\":[5.2550802230835,10.7352600097656,13.5131998062134,9.93076992034912,20.8069496154785,11.6836996078491,14.9077301025391,17.7064895629883,15.195969581604,11.921799659729,23.3970108032227,19.2003803253174,15.8905096054077,15.3238096237183,17.5419006347656,21.9250602722168,19.0575294494629,18.8353290557861,9.11688995361328,17.6184902191162,20.7313003540039,18.745080947876,12.8444900512695,24.4237098693848,10.3548698425293,8.35262012481689],\"yaxis\":\"y\",\"type\":\"scatter\"},{\"hovertemplate\":\"<b>%{hovertext}</b><br><br>Region=Europe and Central Asia<br>Year=YR2000<br>GDP per capita=%{x}<br>Current health expenditure per capita=%{y}<br>Population=%{marker.size}<extra></extra>\",\"hovertext\":[\"Albania\",\"Austria\",\"Azerbaijan\",\"Switzerland\",\"Cyprus\",\"Czechia\",\"Denmark\",\"Spain\",\"Estonia\",\"Finland\",\"United Kingdom\",\"Georgia\",\"Greece\",\"Hungary\",\"Ireland\",\"Iceland\",\"Italy\",\"Kyrgyz Republic\",\"Latvia\",\"Moldova\",\"Netherlands\",\"Norway\",\"Poland\",\"Portugal\",\"Romania\",\"Russian Federation\",\"Slovak Republic\",\"Sweden\",\"Tajikistan\",\"Turkiye\",\"Ukraine\"],\"ids\":[\"Albania\",\"Austria\",\"Azerbaijan\",\"Switzerland\",\"Cyprus\",\"Czechia\",\"Denmark\",\"Spain\",\"Estonia\",\"Finland\",\"United Kingdom\",\"Georgia\",\"Greece\",\"Hungary\",\"Ireland\",\"Iceland\",\"Italy\",\"Kyrgyz Republic\",\"Latvia\",\"Moldova\",\"Netherlands\",\"Norway\",\"Poland\",\"Portugal\",\"Romania\",\"Russian Federation\",\"Slovak Republic\",\"Sweden\",\"Tajikistan\",\"Turkiye\",\"Ukraine\"],\"legendgroup\":\"Europe and Central Asia\",\"marker\":{\"color\":\"#00cc96\",\"size\":[48.69450448,586.26494905,13.13273335,2542.91744618,438.23659668,38.73616224,421.64810754,287.9344254,50.73545959,418.04681372,472.36079713,42.2246647,339.76360756,97.54484172,351.86211289,558.3044448,417.06024285,6.34753853,89.41771466,10.08544122,627.9333852,540.17066848,75.64861262,300.81103545,14.49606241,38.58432394,25.47631577,337.37917707,4.72634934,76.45621357,18.45778165],\"sizemode\":\"area\",\"sizeref\":0.639748435229,\"symbol\":\"circle\"},\"mode\":\"markers\",\"name\":\"Europe and Central Asia\",\"orientation\":\"v\",\"showlegend\":true,\"x\":[1126.68334010717,24625.6007227434,655.119945170816,38952.0342005572,14388.34765625,6029.03819275358,30743.5476816354,14749.6874248766,4070.60902410208,24345.9148217032,28223.0675706515,749.908534993961,12072.9293569196,4624.28165670295,26334.5672050501,32096.3722613695,20137.5912217673,279.619569260939,3361.64086880275,440.672030653269,26214.498549887,38131.4606116242,4501.45406742273,11526.3720667968,1659.90763954548,1771.59411621094,5426.62428119306,29624.9126748618,138.429146735759,4337.47800296354,658.3486328125],\"xaxis\":\"x\",\"y\":[10.1370296478271,11.0332202911377,21.1190795898438,14.4521598815918,14.2683095932007,8.91213989257813,15.3441495895386,10.6530303955078,14.685040473938,12.1709203720093,11.8479995727539,12.5407199859619,6.95776987075806,10.3236103057861,13.5181999206543,14.3476104736328,9.22105979919434,11.6113004684448,14.6014795303345,12.9239301681519,11.0814895629883,15.6301898956299,11.5834398269653,12.0520000457764,8.18758010864258,8.95184993743896,7.32343006134033,12.9130201339722,12.0251398086548,6.37583017349243,11.3589696884155],\"yaxis\":\"y\",\"type\":\"scatter\"},{\"hovertemplate\":\"<b>%{hovertext}</b><br><br>Region=Latin America & the Caribbean<br>Year=YR2000<br>GDP per capita=%{x}<br>Current health expenditure per capita=%{y}<br>Population=%{marker.size}<extra></extra>\",\"hovertext\":[\"Argentina\",\"Bahamas, The\",\"Belize\",\"Brazil\",\"Barbados\",\"Chile\",\"Colombia\",\"Costa Rica\",\"Dominican Republic\",\"Ecuador\",\"Guyana\",\"Jamaica\",\"Mexico\",\"Nicaragua\",\"Panama\",\"Peru\",\"Paraguay\",\"El Salvador\",\"Trinidad and Tobago\",\"Uruguay\",\"St. Vincent and the Grenadines\"],\"ids\":[\"Argentina\",\"Bahamas, The\",\"Belize\",\"Brazil\",\"Barbados\",\"Chile\",\"Colombia\",\"Costa Rica\",\"Dominican Republic\",\"Ecuador\",\"Guyana\",\"Jamaica\",\"Mexico\",\"Nicaragua\",\"Panama\",\"Peru\",\"Paraguay\",\"El Salvador\",\"Trinidad and Tobago\",\"Uruguay\",\"St. Vincent and the Grenadines\"],\"legendgroup\":\"Latin America & the Caribbean\",\"marker\":{\"color\":\"#ab63fa\",\"size\":[320.63082775,616.21510393,61.6104022,181.41732604,289.2686165,229.18958351,33.81672609,84.48972807,88.48226182,32.89721223,27.95281098,82.8906621,174.46147525,25.03537578,91.44494513,39.2978598,58.51387321,97.57114343,174.64107638,401.9714611,47.55922497],\"sizemode\":\"area\",\"sizeref\":0.639748435229,\"symbol\":\"circle\"},\"mode\":\"markers\",\"name\":\"Latin America & the Caribbean\",\"orientation\":\"v\",\"showlegend\":true,\"x\":[7708.09911454041,27098.1563186767,3364.49173102584,3749.91084752888,11268.4200640121,5100.25413288222,2520.48108876016,3789.05388636246,2869.17813861021,1445.27932442901,954.400318095334,3392.12387809462,7157.81449985734,1007.499838655,4060.31779345702,1955.58800627896,1663.60493919986,2001.54004887966,6435.13421201268,6875.02546946372,3970.29362248818],\"xaxis\":\"x\",\"y\":[16.2261505126953,18.7652893066406,15.6122598648071,11.4521598815918,22.1503505706787,16.4279098510742,13.2963895797729,18.8195095062256,12.9884796142578,4.95730018615723,17.6568393707275,16.7966003417969,19.6461296081543,14.5736999511719,19.8319396972656,15.2503700256348,21.5593891143799,13.5439701080322,11.7311201095581,8.35916996002197,30.7891998291016],\"yaxis\":\"y\",\"type\":\"scatter\"},{\"hovertemplate\":\"<b>%{hovertext}</b><br><br>Region=East Asia and Pacific<br>Year=YR2000<br>GDP per capita=%{x}<br>Current health expenditure per capita=%{y}<br>Population=%{marker.size}<extra></extra>\",\"hovertext\":[\"Australia\",\"Brunei Darussalam\",\"Fiji\",\"Micronesia, Fed. Sts.\",\"Cambodia\",\"Kiribati\",\"Lao PDR\",\"Mongolia\",\"Malaysia\",\"Philippines\",\"Palau\",\"Singapore\",\"Thailand\",\"Tonga\",\"Vanuatu\",\"Samoa\"],\"ids\":[\"Australia\",\"Brunei Darussalam\",\"Fiji\",\"Micronesia, Fed. Sts.\",\"Cambodia\",\"Kiribati\",\"Lao PDR\",\"Mongolia\",\"Malaysia\",\"Philippines\",\"Palau\",\"Singapore\",\"Thailand\",\"Tonga\",\"Vanuatu\",\"Samoa\"],\"legendgroup\":\"East Asia and Pacific\",\"marker\":{\"color\":\"#FFA15A\",\"size\":[461.55053709,80.50988416,11.78919471,8.93372563,15.40594758,2.28689628,8.82432405,6.64507654,59.07546448,17.06588774,144.6073855,507.6116438,27.89703585,13.21575677,5.14028751,7.60523097],\"sizemode\":\"area\",\"sizeref\":0.639748435229,\"symbol\":\"circle\"},\"mode\":\"markers\",\"name\":\"East Asia and Pacific\",\"orientation\":\"v\",\"showlegend\":true,\"x\":[21697.7084797731,18012.5021948953,2069.31745471458,2171.88957683534,300.613679010462,796.803203566513,325.186937142965,474.217094319837,4043.66292312877,1072.80175248718,7657.95121440536,23852.3270285975,2007.7352707452,2091.11300904714,1470.63586995743,1483.80741460389],\"xaxis\":\"x\",\"y\":[13.3601598739624,8.92074012756348,21.7585906982422,9.96512031555176,11.0790100097656,15.265419960022,7.295569896698,16.0747699737549,21.3906803131104,15.2067604064941,13.964409828186,20.3055305480957,28.388599395752,22.9558601379395,27.52419090271,10.4612998962402],\"yaxis\":\"y\",\"type\":\"scatter\"},{\"hovertemplate\":\"<b>%{hovertext}</b><br><br>Region=Middle East and North Africa<br>Year=YR2000<br>GDP per capita=%{x}<br>Current health expenditure per capita=%{y}<br>Population=%{marker.size}<extra></extra>\",\"hovertext\":[\"Djibouti\",\"Iran, Islamic Rep.\",\"Israel\",\"Oman\",\"Qatar\",\"Saudi Arabia\",\"Tunisia\",\"Yemen, Rep.\"],\"ids\":[\"Djibouti\",\"Iran, Islamic Rep.\",\"Israel\",\"Oman\",\"Qatar\",\"Saudi Arabia\",\"Tunisia\",\"Yemen, Rep.\"],\"legendgroup\":\"Middle East and North Africa\",\"marker\":{\"color\":\"#19d3f3\",\"size\":[16.616103,50.36730041,523.37484945,48.08737485,243.76421795,107.95023301,52.73721603,11.87789358],\"sizemode\":\"area\",\"sizeref\":0.639748435229,\"symbol\":\"circle\"},\"mode\":\"markers\",\"name\":\"Middle East and North Africa\",\"orientation\":\"v\",\"showlegend\":true,\"x\":[768.183570343678,1670.0096735653,21061.4822833993,8601.27194448996,29976.1676344676,9171.33147630515,2211.8350154787,554.448665276054],\"xaxis\":\"x\",\"y\":[29.385950088501,20.6338500976563,13.6803503036499,8.98344039916992,9.67605018615723,17.8365898132324,24.5917797088623,30.4892807006836],\"yaxis\":\"y\",\"type\":\"scatter\"},{\"hovertemplate\":\"<b>%{hovertext}</b><br><br>Region=North America<br>Year=YR2000<br>GDP per capita=%{x}<br>Current health expenditure per capita=%{y}<br>Population=%{marker.size}<extra></extra>\",\"hovertext\":[\"Canada\"],\"ids\":[\"Canada\"],\"legendgroup\":\"North America\",\"marker\":{\"color\":\"#FF6692\",\"size\":[545.1067658],\"sizemode\":\"area\",\"sizeref\":0.639748435229,\"symbol\":\"circle\"},\"mode\":\"markers\",\"name\":\"North America\",\"orientation\":\"v\",\"showlegend\":true,\"x\":[24271.0020563821],\"xaxis\":\"x\",\"y\":[12.9826002120972],\"yaxis\":\"y\",\"type\":\"scatter\"}],\"name\":\"YR2000\"}]);\n",
       "                        }).then(function(){\n",
       "                            \n",
       "var gd = document.getElementById('e142f42d-5e4d-4f22-84ca-8eca11d7f20d');\n",
       "var x = new MutationObserver(function (mutations, observer) {{\n",
       "        var display = window.getComputedStyle(gd).display;\n",
       "        if (!display || display === 'none') {{\n",
       "            console.log([gd, 'removed!']);\n",
       "            Plotly.purge(gd);\n",
       "            observer.disconnect();\n",
       "        }}\n",
       "}});\n",
       "\n",
       "// Listen for the removal of the full notebook cells\n",
       "var notebookContainer = gd.closest('#notebook-container');\n",
       "if (notebookContainer) {{\n",
       "    x.observe(notebookContainer, {childList: true});\n",
       "}}\n",
       "\n",
       "// Listen for the clearing of the current output cell\n",
       "var outputEl = gd.closest('.output');\n",
       "if (outputEl) {{\n",
       "    x.observe(outputEl, {childList: true});\n",
       "}}\n",
       "\n",
       "                        })                };                });            </script>        </div>"
      ]
     },
     "metadata": {},
     "output_type": "display_data"
    }
   ],
   "source": [
    "px.scatter(dataset, x=\"GDP per capita\", y=\"Current health expenditure per capita\", animation_frame=\"Year\", animation_group=\"Country Name\",\n",
    "           size=\"Population\", color=\"Region\", hover_name=\"Country Name\",\n",
    "           log_x=True, size_max=100, range_x=[100,150000], range_y=[0,30])"
   ]
  },
  {
   "cell_type": "markdown",
   "metadata": {},
   "source": [
    "### Creating Map Heat Graphs For Life Expectancy for each Country"
   ]
  },
  {
   "cell_type": "code",
   "execution_count": 212,
   "metadata": {},
   "outputs": [
    {
     "data": {
      "application/vnd.plotly.v1+json": {
       "config": {
        "plotlyServerURL": "https://plot.ly"
       },
       "data": [
        {
         "coloraxis": "coloraxis",
         "geo": "geo",
         "hovertemplate": "<b>%{hovertext}</b><br><br>Year=YR2005<br>economy=%{location}<br>Life expectancy at birth, total (years)=%{z}<extra></extra>",
         "hovertext": [
          "Afghanistan",
          "Angola",
          "Albania",
          "Argentina",
          "Armenia",
          "Australia",
          "Austria",
          "Azerbaijan",
          "Burundi",
          "Belgium",
          "Benin",
          "Burkina Faso",
          "Bulgaria",
          "Bahamas, The",
          "Belarus",
          "Brazil",
          "Barbados",
          "Bhutan",
          "Botswana",
          "Central African Republic",
          "Canada",
          "Switzerland",
          "Chile",
          "China",
          "Cote d'Ivoire",
          "Cameroon",
          "Congo, Rep.",
          "Colombia",
          "Cyprus",
          "Czechia",
          "Djibouti",
          "Denmark",
          "Egypt, Arab Rep.",
          "Spain",
          "Estonia",
          "Finland",
          "Fiji",
          "United Kingdom",
          "Georgia",
          "Ghana",
          "Guinea",
          "Gambia, The",
          "Greece",
          "Guyana",
          "Hungary",
          "Indonesia",
          "India",
          "Ireland",
          "Iran, Islamic Rep.",
          "Iceland",
          "Israel",
          "Italy",
          "Jamaica",
          "Jordan",
          "Kazakhstan",
          "Kenya",
          "Kyrgyz Republic",
          "Kuwait",
          "Lao PDR",
          "Lebanon",
          "St. Lucia",
          "Sri Lanka",
          "Lesotho",
          "Lithuania",
          "Moldova",
          "Madagascar",
          "Maldives",
          "Mexico",
          "Mali",
          "Mozambique",
          "Mauritius",
          "Netherlands",
          "Norway",
          "Nepal",
          "New Zealand",
          "Oman",
          "Pakistan",
          "Peru",
          "Philippines",
          "Poland",
          "Portugal",
          "Qatar",
          "Romania",
          "Russian Federation",
          "Saudi Arabia",
          "Sudan",
          "Senegal",
          "Singapore",
          "Sierra Leone",
          "El Salvador",
          "Sao Tome and Principe",
          "Slovak Republic",
          "Slovenia",
          "Sweden",
          "Eswatini",
          "Chad",
          "Togo",
          "Thailand",
          "Tajikistan",
          "Tunisia",
          "Tanzania",
          "Ukraine",
          "Uruguay",
          "St. Vincent and the Grenadines",
          "South Africa",
          "Zambia"
         ],
         "locations": [
          "AFG",
          "AGO",
          "ALB",
          "ARG",
          "ARM",
          "AUS",
          "AUT",
          "AZE",
          "BDI",
          "BEL",
          "BEN",
          "BFA",
          "BGR",
          "BHS",
          "BLR",
          "BRA",
          "BRB",
          "BTN",
          "BWA",
          "CAF",
          "CAN",
          "CHE",
          "CHL",
          "CHN",
          "CIV",
          "CMR",
          "COG",
          "COL",
          "CYP",
          "CZE",
          "DJI",
          "DNK",
          "EGY",
          "ESP",
          "EST",
          "FIN",
          "FJI",
          "GBR",
          "GEO",
          "GHA",
          "GIN",
          "GMB",
          "GRC",
          "GUY",
          "HUN",
          "IDN",
          "IND",
          "IRL",
          "IRN",
          "ISL",
          "ISR",
          "ITA",
          "JAM",
          "JOR",
          "KAZ",
          "KEN",
          "KGZ",
          "KWT",
          "LAO",
          "LBN",
          "LCA",
          "LKA",
          "LSO",
          "LTU",
          "MDA",
          "MDG",
          "MDV",
          "MEX",
          "MLI",
          "MOZ",
          "MUS",
          "NLD",
          "NOR",
          "NPL",
          "NZL",
          "OMN",
          "PAK",
          "PER",
          "PHL",
          "POL",
          "PRT",
          "QAT",
          "ROU",
          "RUS",
          "SAU",
          "SDN",
          "SEN",
          "SGP",
          "SLE",
          "SLV",
          "STP",
          "SVK",
          "SVN",
          "SWE",
          "SWZ",
          "TCD",
          "TGO",
          "THA",
          "TJK",
          "TUN",
          "TZA",
          "UKR",
          "URY",
          "VCT",
          "ZAF",
          "ZMB"
         ],
         "name": "",
         "type": "choropleth",
         "z": [
          58.29,
          50.165,
          75.228,
          74.451,
          72.626,
          80.8414634146341,
          79.3317073170732,
          68.747,
          53.369,
          78.9804878048781,
          57.355,
          53.31,
          72.5609756097561,
          71.987,
          68.8512195121951,
          71.896,
          77.915,
          65.289,
          52.13,
          44.744,
          80.1926829268293,
          81.2365853658537,
          77.63,
          72.985,
          50.12,
          52.76,
          55.6,
          74.265,
          78.63,
          75.9243902439025,
          57.991,
          77.8439024390244,
          69.434,
          80.1707317073171,
          72.5682926829268,
          78.8170731707317,
          66.313,
          79.0487804878049,
          70.538,
          58.719,
          53.238,
          57.939,
          79.2390243902439,
          66.694,
          72.6487804878049,
          67.334,
          64.5,
          78.9439024390244,
          71.917,
          81.5024390243902,
          80.1512195121951,
          80.7829268292683,
          74.148,
          72.595,
          65.86,
          54.732,
          67.9560975609756,
          73.538,
          61.625,
          76.865,
          74.122,
          74.695,
          42.658,
          71.2536585365854,
          67.82,
          61.212,
          73.612,
          75.3,
          52.057,
          50.387,
          72.4321951219512,
          79.3463414634146,
          80.0414634146342,
          65.264,
          79.8512195121951,
          74.23,
          63.951,
          72.908,
          69.112,
          74.9951219512195,
          78.0707317073171,
          78.252,
          71.9121951219512,
          65.529756097561,
          73.256,
          60.525,
          60.62,
          79.990243902439,
          44.502,
          70.124,
          64.659,
          73.9048780487805,
          77.6121951219512,
          80.5463414634146,
          42.518,
          48.549,
          54.602,
          72.099,
          66.08,
          74.217,
          54.349,
          67.9568292682927,
          75.826,
          71.331,
          53.447,
          48.496
         ]
        }
       ],
       "frames": [
        {
         "data": [
          {
           "coloraxis": "coloraxis",
           "geo": "geo",
           "hovertemplate": "<b>%{hovertext}</b><br><br>Year=YR2005<br>economy=%{location}<br>Life expectancy at birth, total (years)=%{z}<extra></extra>",
           "hovertext": [
            "Afghanistan",
            "Angola",
            "Albania",
            "Argentina",
            "Armenia",
            "Australia",
            "Austria",
            "Azerbaijan",
            "Burundi",
            "Belgium",
            "Benin",
            "Burkina Faso",
            "Bulgaria",
            "Bahamas, The",
            "Belarus",
            "Brazil",
            "Barbados",
            "Bhutan",
            "Botswana",
            "Central African Republic",
            "Canada",
            "Switzerland",
            "Chile",
            "China",
            "Cote d'Ivoire",
            "Cameroon",
            "Congo, Rep.",
            "Colombia",
            "Cyprus",
            "Czechia",
            "Djibouti",
            "Denmark",
            "Egypt, Arab Rep.",
            "Spain",
            "Estonia",
            "Finland",
            "Fiji",
            "United Kingdom",
            "Georgia",
            "Ghana",
            "Guinea",
            "Gambia, The",
            "Greece",
            "Guyana",
            "Hungary",
            "Indonesia",
            "India",
            "Ireland",
            "Iran, Islamic Rep.",
            "Iceland",
            "Israel",
            "Italy",
            "Jamaica",
            "Jordan",
            "Kazakhstan",
            "Kenya",
            "Kyrgyz Republic",
            "Kuwait",
            "Lao PDR",
            "Lebanon",
            "St. Lucia",
            "Sri Lanka",
            "Lesotho",
            "Lithuania",
            "Moldova",
            "Madagascar",
            "Maldives",
            "Mexico",
            "Mali",
            "Mozambique",
            "Mauritius",
            "Netherlands",
            "Norway",
            "Nepal",
            "New Zealand",
            "Oman",
            "Pakistan",
            "Peru",
            "Philippines",
            "Poland",
            "Portugal",
            "Qatar",
            "Romania",
            "Russian Federation",
            "Saudi Arabia",
            "Sudan",
            "Senegal",
            "Singapore",
            "Sierra Leone",
            "El Salvador",
            "Sao Tome and Principe",
            "Slovak Republic",
            "Slovenia",
            "Sweden",
            "Eswatini",
            "Chad",
            "Togo",
            "Thailand",
            "Tajikistan",
            "Tunisia",
            "Tanzania",
            "Ukraine",
            "Uruguay",
            "St. Vincent and the Grenadines",
            "South Africa",
            "Zambia"
           ],
           "locations": [
            "AFG",
            "AGO",
            "ALB",
            "ARG",
            "ARM",
            "AUS",
            "AUT",
            "AZE",
            "BDI",
            "BEL",
            "BEN",
            "BFA",
            "BGR",
            "BHS",
            "BLR",
            "BRA",
            "BRB",
            "BTN",
            "BWA",
            "CAF",
            "CAN",
            "CHE",
            "CHL",
            "CHN",
            "CIV",
            "CMR",
            "COG",
            "COL",
            "CYP",
            "CZE",
            "DJI",
            "DNK",
            "EGY",
            "ESP",
            "EST",
            "FIN",
            "FJI",
            "GBR",
            "GEO",
            "GHA",
            "GIN",
            "GMB",
            "GRC",
            "GUY",
            "HUN",
            "IDN",
            "IND",
            "IRL",
            "IRN",
            "ISL",
            "ISR",
            "ITA",
            "JAM",
            "JOR",
            "KAZ",
            "KEN",
            "KGZ",
            "KWT",
            "LAO",
            "LBN",
            "LCA",
            "LKA",
            "LSO",
            "LTU",
            "MDA",
            "MDG",
            "MDV",
            "MEX",
            "MLI",
            "MOZ",
            "MUS",
            "NLD",
            "NOR",
            "NPL",
            "NZL",
            "OMN",
            "PAK",
            "PER",
            "PHL",
            "POL",
            "PRT",
            "QAT",
            "ROU",
            "RUS",
            "SAU",
            "SDN",
            "SEN",
            "SGP",
            "SLE",
            "SLV",
            "STP",
            "SVK",
            "SVN",
            "SWE",
            "SWZ",
            "TCD",
            "TGO",
            "THA",
            "TJK",
            "TUN",
            "TZA",
            "UKR",
            "URY",
            "VCT",
            "ZAF",
            "ZMB"
           ],
           "name": "",
           "type": "choropleth",
           "z": [
            58.29,
            50.165,
            75.228,
            74.451,
            72.626,
            80.8414634146341,
            79.3317073170732,
            68.747,
            53.369,
            78.9804878048781,
            57.355,
            53.31,
            72.5609756097561,
            71.987,
            68.8512195121951,
            71.896,
            77.915,
            65.289,
            52.13,
            44.744,
            80.1926829268293,
            81.2365853658537,
            77.63,
            72.985,
            50.12,
            52.76,
            55.6,
            74.265,
            78.63,
            75.9243902439025,
            57.991,
            77.8439024390244,
            69.434,
            80.1707317073171,
            72.5682926829268,
            78.8170731707317,
            66.313,
            79.0487804878049,
            70.538,
            58.719,
            53.238,
            57.939,
            79.2390243902439,
            66.694,
            72.6487804878049,
            67.334,
            64.5,
            78.9439024390244,
            71.917,
            81.5024390243902,
            80.1512195121951,
            80.7829268292683,
            74.148,
            72.595,
            65.86,
            54.732,
            67.9560975609756,
            73.538,
            61.625,
            76.865,
            74.122,
            74.695,
            42.658,
            71.2536585365854,
            67.82,
            61.212,
            73.612,
            75.3,
            52.057,
            50.387,
            72.4321951219512,
            79.3463414634146,
            80.0414634146342,
            65.264,
            79.8512195121951,
            74.23,
            63.951,
            72.908,
            69.112,
            74.9951219512195,
            78.0707317073171,
            78.252,
            71.9121951219512,
            65.529756097561,
            73.256,
            60.525,
            60.62,
            79.990243902439,
            44.502,
            70.124,
            64.659,
            73.9048780487805,
            77.6121951219512,
            80.5463414634146,
            42.518,
            48.549,
            54.602,
            72.099,
            66.08,
            74.217,
            54.349,
            67.9568292682927,
            75.826,
            71.331,
            53.447,
            48.496
           ]
          }
         ],
         "name": "YR2005"
        },
        {
         "data": [
          {
           "coloraxis": "coloraxis",
           "geo": "geo",
           "hovertemplate": "<b>%{hovertext}</b><br><br>Year=YR2010<br>economy=%{location}<br>Life expectancy at birth, total (years)=%{z}<extra></extra>",
           "hovertext": [
            "Afghanistan",
            "Angola",
            "Argentina",
            "Armenia",
            "Australia",
            "Austria",
            "Azerbaijan",
            "Burundi",
            "Belgium",
            "Benin",
            "Burkina Faso",
            "Bangladesh",
            "Bulgaria",
            "Bahrain",
            "Bahamas, The",
            "Belarus",
            "Belize",
            "Bolivia",
            "Brazil",
            "Barbados",
            "Brunei Darussalam",
            "Bhutan",
            "Central African Republic",
            "Canada",
            "Switzerland",
            "Chile",
            "China",
            "Cote d'Ivoire",
            "Cameroon",
            "Congo, Dem. Rep.",
            "Congo, Rep.",
            "Colombia",
            "Cabo Verde",
            "Costa Rica",
            "Cyprus",
            "Czechia",
            "Germany",
            "Djibouti",
            "Denmark",
            "Dominican Republic",
            "Ecuador",
            "Egypt, Arab Rep.",
            "Spain",
            "Estonia",
            "Ethiopia",
            "Finland",
            "Fiji",
            "Gabon",
            "United Kingdom",
            "Ghana",
            "Guinea",
            "Gambia, The",
            "Guinea-Bissau",
            "Guatemala",
            "Guyana",
            "Croatia",
            "Hungary",
            "Indonesia",
            "India",
            "Ireland",
            "Iran, Islamic Rep.",
            "Iceland",
            "Israel",
            "Italy",
            "Jamaica",
            "Jordan",
            "Kenya",
            "Kyrgyz Republic",
            "Cambodia",
            "Korea, Rep.",
            "Kuwait",
            "Lao PDR",
            "Lebanon",
            "St. Lucia",
            "Sri Lanka",
            "Lithuania",
            "Latvia",
            "Moldova",
            "Maldives",
            "Mexico",
            "Mali",
            "Malta",
            "Myanmar",
            "Mongolia",
            "Mozambique",
            "Mauritius",
            "Malawi",
            "Malaysia",
            "Namibia",
            "Niger",
            "Nicaragua",
            "Netherlands",
            "Norway",
            "Nepal",
            "New Zealand",
            "Pakistan",
            "Peru",
            "Poland",
            "Portugal",
            "Paraguay",
            "Qatar",
            "Romania",
            "Rwanda",
            "Senegal",
            "Singapore",
            "Solomon Islands",
            "Sierra Leone",
            "El Salvador",
            "Serbia",
            "Sao Tome and Principe",
            "Slovak Republic",
            "Slovenia",
            "Sweden",
            "Eswatini",
            "Seychelles",
            "Chad",
            "Togo",
            "Thailand",
            "Tajikistan",
            "Timor-Leste",
            "Tunisia",
            "Tanzania",
            "Uganda",
            "Uruguay",
            "St. Vincent and the Grenadines",
            "Vietnam",
            "Samoa",
            "Yemen, Rep.",
            "South Africa",
            "Zambia",
            "Zimbabwe"
           ],
           "locations": [
            "AFG",
            "AGO",
            "ARG",
            "ARM",
            "AUS",
            "AUT",
            "AZE",
            "BDI",
            "BEL",
            "BEN",
            "BFA",
            "BGD",
            "BGR",
            "BHR",
            "BHS",
            "BLR",
            "BLZ",
            "BOL",
            "BRA",
            "BRB",
            "BRN",
            "BTN",
            "CAF",
            "CAN",
            "CHE",
            "CHL",
            "CHN",
            "CIV",
            "CMR",
            "COD",
            "COG",
            "COL",
            "CPV",
            "CRI",
            "CYP",
            "CZE",
            "DEU",
            "DJI",
            "DNK",
            "DOM",
            "ECU",
            "EGY",
            "ESP",
            "EST",
            "ETH",
            "FIN",
            "FJI",
            "GAB",
            "GBR",
            "GHA",
            "GIN",
            "GMB",
            "GNB",
            "GTM",
            "GUY",
            "HRV",
            "HUN",
            "IDN",
            "IND",
            "IRL",
            "IRN",
            "ISL",
            "ISR",
            "ITA",
            "JAM",
            "JOR",
            "KEN",
            "KGZ",
            "KHM",
            "KOR",
            "KWT",
            "LAO",
            "LBN",
            "LCA",
            "LKA",
            "LTU",
            "LVA",
            "MDA",
            "MDV",
            "MEX",
            "MLI",
            "MLT",
            "MMR",
            "MNG",
            "MOZ",
            "MUS",
            "MWI",
            "MYS",
            "NAM",
            "NER",
            "NIC",
            "NLD",
            "NOR",
            "NPL",
            "NZL",
            "PAK",
            "PER",
            "POL",
            "PRT",
            "PRY",
            "QAT",
            "ROU",
            "RWA",
            "SEN",
            "SGP",
            "SLB",
            "SLE",
            "SLV",
            "SRB",
            "STP",
            "SVK",
            "SVN",
            "SWE",
            "SWZ",
            "SYC",
            "TCD",
            "TGO",
            "THA",
            "TJK",
            "TLS",
            "TUN",
            "TZA",
            "UGA",
            "URY",
            "VCT",
            "VNM",
            "WSM",
            "YEM",
            "ZAF",
            "ZMB",
            "ZWE"
           ],
           "name": "",
           "type": "choropleth",
           "z": [
            61.028,
            55.35,
            75.278,
            73.331,
            81.6951219512195,
            80.5804878048781,
            70.938,
            57.228,
            80.1829268292683,
            59.318,
            57.096,
            69.881,
            73.5121951219512,
            76.057,
            72.144,
            70.4048780487805,
            72.057,
            68.007,
            73.619,
            78.364,
            74.74,
            68.384,
            47.312,
            81.2463414634146,
            82.2463414634147,
            78.779,
            74.409,
            52.964,
            55.101,
            56.909,
            60.093,
            75.424,
            71.062,
            78.769,
            79.43,
            77.4243902439025,
            79.9878048780488,
            60.062,
            79.1,
            72.046,
            75.089,
            70.349,
            81.6268292682927,
            75.4292682926829,
            61.627,
            79.8707317073171,
            66.655,
            61.4,
            80.4024390243902,
            61.03,
            56.861,
            59.637,
            54.628,
            71.481,
            68.059,
            76.4756097560976,
            74.2073170731707,
            69.205,
            66.693,
            80.7439024390244,
            73.905,
            81.8975609756097,
            81.6024390243903,
            82.0365853658537,
            74.038,
            73.428,
            60.959,
            69.3,
            66.56,
            80.1170731707317,
            74.358,
            64.306,
            78.36,
            74.852,
            75.439,
            73.2682926829268,
            73.4829268292683,
            69.616,
            75.905,
            75.065,
            55.251,
            81.3975609756098,
            63.525,
            67.38,
            52.31,
            72.9673170731707,
            55.564,
            74.493,
            56.665,
            57.333,
            72.428,
            80.7024390243902,
            80.9975609756098,
            67.611,
            80.7024390243902,
            65.264,
            74.41,
            76.2463414634146,
            79.0268292682927,
            72.653,
            79.108,
            73.4585365853659,
            63.433,
            64.284,
            81.5414634146342,
            70.674,
            49.382,
            71.21,
            74.3365853658537,
            67.43,
            75.1121951219512,
            79.4219512195122,
            81.4512195121951,
            46.601,
            73.1975609756098,
            50.89,
            57.468,
            74.184,
            68.736,
            67.186,
            75.041,
            58.584,
            57.099,
            76.75,
            71.776,
            74.837,
            71.663,
            65.549,
            57.669,
            55.655,
            50.64
           ]
          }
         ],
         "name": "YR2010"
        },
        {
         "data": [
          {
           "coloraxis": "coloraxis",
           "geo": "geo",
           "hovertemplate": "<b>%{hovertext}</b><br><br>Year=YR2015<br>economy=%{location}<br>Life expectancy at birth, total (years)=%{z}<extra></extra>",
           "hovertext": [
            "Afghanistan",
            "Angola",
            "Albania",
            "Argentina",
            "Armenia",
            "Australia",
            "Austria",
            "Azerbaijan",
            "Burundi",
            "Belgium",
            "Benin",
            "Burkina Faso",
            "Bangladesh",
            "Bahrain",
            "Bahamas, The",
            "Belarus",
            "Belize",
            "Bolivia",
            "Brazil",
            "Barbados",
            "Bhutan",
            "Botswana",
            "Central African Republic",
            "Switzerland",
            "Chile",
            "China",
            "Cote d'Ivoire",
            "Cameroon",
            "Congo, Dem. Rep.",
            "Congo, Rep.",
            "Colombia",
            "Comoros",
            "Cabo Verde",
            "Costa Rica",
            "Cyprus",
            "Czechia",
            "Germany",
            "Djibouti",
            "Dominican Republic",
            "Ecuador",
            "Egypt, Arab Rep.",
            "Spain",
            "Estonia",
            "Ethiopia",
            "Finland",
            "Fiji",
            "Micronesia, Fed. Sts.",
            "Gabon",
            "United Kingdom",
            "Ghana",
            "Guinea",
            "Gambia, The",
            "Guinea-Bissau",
            "Greece",
            "Guatemala",
            "Guyana",
            "Honduras",
            "Haiti",
            "Hungary",
            "Indonesia",
            "India",
            "Ireland",
            "Iran, Islamic Rep.",
            "Iraq",
            "Iceland",
            "Israel",
            "Italy",
            "Jamaica",
            "Jordan",
            "Kazakhstan",
            "Kenya",
            "Kyrgyz Republic",
            "Kiribati",
            "Kuwait",
            "Lebanon",
            "St. Lucia",
            "Sri Lanka",
            "Lesotho",
            "Lithuania",
            "Luxembourg",
            "Latvia",
            "Moldova",
            "Madagascar",
            "Maldives",
            "Mexico",
            "Mali",
            "Malta",
            "Myanmar",
            "Mongolia",
            "Mozambique",
            "Mauritius",
            "Malawi",
            "Malaysia",
            "Namibia",
            "Niger",
            "Nigeria",
            "Nicaragua",
            "Netherlands",
            "Norway",
            "Nepal",
            "New Zealand",
            "Pakistan",
            "Panama",
            "Peru",
            "Philippines",
            "Poland",
            "Portugal",
            "Paraguay",
            "Romania",
            "Russian Federation",
            "Rwanda",
            "Senegal",
            "Singapore",
            "Solomon Islands",
            "El Salvador",
            "Serbia",
            "Sao Tome and Principe",
            "Suriname",
            "Slovak Republic",
            "Slovenia",
            "Sweden",
            "Seychelles",
            "Chad",
            "Togo",
            "Thailand",
            "Tajikistan",
            "Timor-Leste",
            "Trinidad and Tobago",
            "Tunisia",
            "Uganda",
            "Ukraine",
            "Uruguay",
            "United States",
            "Uzbekistan",
            "Vietnam",
            "Vanuatu",
            "Samoa",
            "South Africa",
            "Zambia",
            "Zimbabwe"
           ],
           "locations": [
            "AFG",
            "AGO",
            "ALB",
            "ARG",
            "ARM",
            "AUS",
            "AUT",
            "AZE",
            "BDI",
            "BEL",
            "BEN",
            "BFA",
            "BGD",
            "BHR",
            "BHS",
            "BLR",
            "BLZ",
            "BOL",
            "BRA",
            "BRB",
            "BTN",
            "BWA",
            "CAF",
            "CHE",
            "CHL",
            "CHN",
            "CIV",
            "CMR",
            "COD",
            "COG",
            "COL",
            "COM",
            "CPV",
            "CRI",
            "CYP",
            "CZE",
            "DEU",
            "DJI",
            "DOM",
            "ECU",
            "EGY",
            "ESP",
            "EST",
            "ETH",
            "FIN",
            "FJI",
            "FSM",
            "GAB",
            "GBR",
            "GHA",
            "GIN",
            "GMB",
            "GNB",
            "GRC",
            "GTM",
            "GUY",
            "HND",
            "HTI",
            "HUN",
            "IDN",
            "IND",
            "IRL",
            "IRN",
            "IRQ",
            "ISL",
            "ISR",
            "ITA",
            "JAM",
            "JOR",
            "KAZ",
            "KEN",
            "KGZ",
            "KIR",
            "KWT",
            "LBN",
            "LCA",
            "LKA",
            "LSO",
            "LTU",
            "LUX",
            "LVA",
            "MDA",
            "MDG",
            "MDV",
            "MEX",
            "MLI",
            "MLT",
            "MMR",
            "MNG",
            "MOZ",
            "MUS",
            "MWI",
            "MYS",
            "NAM",
            "NER",
            "NGA",
            "NIC",
            "NLD",
            "NOR",
            "NPL",
            "NZL",
            "PAK",
            "PAN",
            "PER",
            "PHL",
            "POL",
            "PRT",
            "PRY",
            "ROU",
            "RUS",
            "RWA",
            "SEN",
            "SGP",
            "SLB",
            "SLV",
            "SRB",
            "STP",
            "SUR",
            "SVK",
            "SVN",
            "SWE",
            "SYC",
            "TCD",
            "TGO",
            "THA",
            "TJK",
            "TLS",
            "TTO",
            "TUN",
            "UGA",
            "UKR",
            "URY",
            "USA",
            "UZB",
            "VNM",
            "VUT",
            "WSM",
            "ZAF",
            "ZMB",
            "ZWE"
           ],
           "name": "",
           "type": "choropleth",
           "z": [
            63.377,
            59.398,
            78.025,
            76.068,
            74.467,
            82.4,
            81.190243902439,
            72.266,
            60.123,
            80.9926829268293,
            60.608,
            59.919,
            71.514,
            76.762,
            73.088,
            73.6243902439025,
            74.034,
            70.277,
            74.994,
            78.801,
            70.419,
            67.338,
            50.881,
            82.8975609756098,
            79.646,
            75.928,
            56.065,
            57.583,
            59.254,
            63.097,
            76.531,
            63.471,
            72.117,
            79.565,
            80.35,
            78.5780487804878,
            80.6414634146341,
            64.136,
            73.241,
            76.143,
            71.302,
            82.8317073170732,
            77.590243902439,
            65.048,
            81.4804878048781,
            67.103,
            67.315,
            64.913,
            80.9560975609756,
            62.772,
            59.598,
            60.91,
            56.959,
            81.0365853658537,
            73.25,
            69.262,
            74.495,
            62.485,
            75.5682926829269,
            70.768,
            68.607,
            81.4536585365854,
            75.796,
            69.929,
            82.4682926829268,
            82.0512195121951,
            82.5439024390244,
            74.098,
            74.078,
            71.97,
            64.798,
            70.6512195121951,
            67.291,
            75.13,
            78.768,
            75.596,
            76.316,
            51.038,
            74.3219512195122,
            82.2926829268293,
            74.4804878048781,
            71.478,
            65.539,
            77.691,
            74.904,
            57.509,
            81.8975609756097,
            65.81,
            69.111,
            57.206,
            74.3531707317073,
            61.953,
            75.461,
            62.119,
            60.631,
            53.112,
            73.649,
            81.509756097561,
            82.3048780487805,
            69.515,
            81.4568292682927,
            66.577,
            77.776,
            75.792,
            70.644,
            77.4512195121951,
            81.1243902439025,
            73.662,
            74.9121951219512,
            71.1834146341463,
            67.45,
            66.747,
            82.7439024390244,
            72.173,
            72.412,
            75.2878048780488,
            69.377,
            71.249,
            76.5634146341463,
            80.7756097560976,
            82.2048780487805,
            74.2951219512195,
            53.137,
            59.927,
            76.091,
            70.137,
            68.459,
            72.941,
            75.922,
            61.373,
            71.189512195122,
            77.369,
            78.690243902439,
            70.928,
            75.11,
            69.869,
            72.73,
            62.649,
            61.737,
            59.534
           ]
          }
         ],
         "name": "YR2015"
        },
        {
         "data": [
          {
           "coloraxis": "coloraxis",
           "geo": "geo",
           "hovertemplate": "<b>%{hovertext}</b><br><br>Year=YR2000<br>economy=%{location}<br>Life expectancy at birth, total (years)=%{z}<extra></extra>",
           "hovertext": [
            "Angola",
            "Albania",
            "Argentina",
            "Australia",
            "Austria",
            "Azerbaijan",
            "Burundi",
            "Benin",
            "Bangladesh",
            "Bahamas, The",
            "Belize",
            "Brazil",
            "Barbados",
            "Brunei Darussalam",
            "Bhutan",
            "Central African Republic",
            "Canada",
            "Switzerland",
            "Chile",
            "Cote d'Ivoire",
            "Cameroon",
            "Colombia",
            "Costa Rica",
            "Cyprus",
            "Czechia",
            "Djibouti",
            "Denmark",
            "Dominican Republic",
            "Ecuador",
            "Spain",
            "Estonia",
            "Ethiopia",
            "Finland",
            "Fiji",
            "Micronesia, Fed. Sts.",
            "Gabon",
            "United Kingdom",
            "Georgia",
            "Guinea",
            "Gambia, The",
            "Greece",
            "Guyana",
            "Hungary",
            "India",
            "Ireland",
            "Iran, Islamic Rep.",
            "Iceland",
            "Israel",
            "Italy",
            "Jamaica",
            "Kenya",
            "Kyrgyz Republic",
            "Cambodia",
            "Kiribati",
            "Lao PDR",
            "Lesotho",
            "Latvia",
            "Moldova",
            "Madagascar",
            "Mexico",
            "Mali",
            "Mongolia",
            "Mauritius",
            "Malaysia",
            "Namibia",
            "Niger",
            "Nicaragua",
            "Netherlands",
            "Norway",
            "Nepal",
            "Oman",
            "Pakistan",
            "Panama",
            "Peru",
            "Philippines",
            "Palau",
            "Poland",
            "Portugal",
            "Paraguay",
            "Qatar",
            "Romania",
            "Russian Federation",
            "Rwanda",
            "Saudi Arabia",
            "Sudan",
            "Senegal",
            "Singapore",
            "Sierra Leone",
            "El Salvador",
            "Slovak Republic",
            "Sweden",
            "Eswatini",
            "Chad",
            "Togo",
            "Thailand",
            "Tajikistan",
            "Tonga",
            "Trinidad and Tobago",
            "Tunisia",
            "Turkiye",
            "Uganda",
            "Ukraine",
            "Uruguay",
            "St. Vincent and the Grenadines",
            "Vanuatu",
            "Samoa",
            "Yemen, Rep.",
            "Zambia"
           ],
           "locations": [
            "AGO",
            "ALB",
            "ARG",
            "AUS",
            "AUT",
            "AZE",
            "BDI",
            "BEN",
            "BGD",
            "BHS",
            "BLZ",
            "BRA",
            "BRB",
            "BRN",
            "BTN",
            "CAF",
            "CAN",
            "CHE",
            "CHL",
            "CIV",
            "CMR",
            "COL",
            "CRI",
            "CYP",
            "CZE",
            "DJI",
            "DNK",
            "DOM",
            "ECU",
            "ESP",
            "EST",
            "ETH",
            "FIN",
            "FJI",
            "FSM",
            "GAB",
            "GBR",
            "GEO",
            "GIN",
            "GMB",
            "GRC",
            "GUY",
            "HUN",
            "IND",
            "IRL",
            "IRN",
            "ISL",
            "ISR",
            "ITA",
            "JAM",
            "KEN",
            "KGZ",
            "KHM",
            "KIR",
            "LAO",
            "LSO",
            "LVA",
            "MDA",
            "MDG",
            "MEX",
            "MLI",
            "MNG",
            "MUS",
            "MYS",
            "NAM",
            "NER",
            "NIC",
            "NLD",
            "NOR",
            "NPL",
            "OMN",
            "PAK",
            "PAN",
            "PER",
            "PHL",
            "PLW",
            "POL",
            "PRT",
            "PRY",
            "QAT",
            "ROU",
            "RUS",
            "RWA",
            "SAU",
            "SDN",
            "SEN",
            "SGP",
            "SLE",
            "SLV",
            "SVK",
            "SWE",
            "SWZ",
            "TCD",
            "TGO",
            "THA",
            "TJK",
            "TON",
            "TTO",
            "TUN",
            "TUR",
            "UGA",
            "UKR",
            "URY",
            "VCT",
            "VUT",
            "WSM",
            "YEM",
            "ZMB"
           ],
           "name": "",
           "type": "choropleth",
           "z": [
            46.522,
            73.955,
            73.576,
            79.2341463414634,
            78.1268292682927,
            66.763,
            49.091,
            55.391,
            65.447,
            71.914,
            68.847,
            70.116,
            77.162,
            72.809,
            60.884,
            44.19,
            79.1365853658537,
            79.6804878048781,
            76.366,
            49.635,
            50.993,
            72.945,
            77.452,
            78.009,
            74.9682926829268,
            57.022,
            76.5926829268293,
            69.429,
            72.761,
            78.9658536585366,
            70.4170731707317,
            51.941,
            77.4658536585366,
            65.687,
            64.55,
            58.264,
            77.7414634146342,
            69.902,
            51.203,
            55.956,
            77.8878048780488,
            65.242,
            71.2463414634146,
            62.505,
            76.5365853658537,
            70.176,
            79.6536585365854,
            78.9536585365854,
            79.7780487804878,
            74.142,
            50.921,
            68.5585365853659,
            58.432,
            63.144,
            58.803,
            47.691,
            70.3146341463415,
            67.006,
            58.485,
            74.34,
            48.069,
            62.869,
            71.6634146341463,
            72.594,
            52.192,
            49.928,
            69.527,
            77.9878048780488,
            78.6341463414634,
            62.288,
            72.126,
            62.82,
            75.06,
            71.111,
            68.793,
            70.4936585365854,
            73.7487804878049,
            76.3146341463415,
            70.546,
            77.467,
            71.1634146341463,
            65.4836585365854,
            48.649,
            72.561,
            58.472,
            57.787,
            77.9512195121951,
            39.441,
            68.875,
            73.0512195121951,
            79.6439024390244,
            47.49,
            47.713,
            53.491,
            70.623,
            61.974,
            69.667,
            69.413,
            73.172,
            70.005,
            46.229,
            67.6756097560976,
            74.731,
            70.809,
            67.363,
            68.748,
            60.683,
            44
           ]
          }
         ],
         "name": "YR2000"
        }
       ],
       "layout": {
        "coloraxis": {
         "colorbar": {
          "title": {
           "text": "Life expectancy at birth, total (years)"
          }
         },
         "colorscale": [
          [
           0,
           "#0d0887"
          ],
          [
           0.1111111111111111,
           "#46039f"
          ],
          [
           0.2222222222222222,
           "#7201a8"
          ],
          [
           0.3333333333333333,
           "#9c179e"
          ],
          [
           0.4444444444444444,
           "#bd3786"
          ],
          [
           0.5555555555555556,
           "#d8576b"
          ],
          [
           0.6666666666666666,
           "#ed7953"
          ],
          [
           0.7777777777777778,
           "#fb9f3a"
          ],
          [
           0.8888888888888888,
           "#fdca26"
          ],
          [
           1,
           "#f0f921"
          ]
         ]
        },
        "geo": {
         "center": {},
         "domain": {
          "x": [
           0,
           1
          ],
          "y": [
           0,
           1
          ]
         }
        },
        "legend": {
         "tracegroupgap": 0
        },
        "margin": {
         "t": 60
        },
        "sliders": [
         {
          "active": 0,
          "currentvalue": {
           "prefix": "Year="
          },
          "len": 0.9,
          "pad": {
           "b": 10,
           "t": 60
          },
          "steps": [
           {
            "args": [
             [
              "YR2005"
             ],
             {
              "frame": {
               "duration": 0,
               "redraw": true
              },
              "fromcurrent": true,
              "mode": "immediate",
              "transition": {
               "duration": 0,
               "easing": "linear"
              }
             }
            ],
            "label": "YR2005",
            "method": "animate"
           },
           {
            "args": [
             [
              "YR2010"
             ],
             {
              "frame": {
               "duration": 0,
               "redraw": true
              },
              "fromcurrent": true,
              "mode": "immediate",
              "transition": {
               "duration": 0,
               "easing": "linear"
              }
             }
            ],
            "label": "YR2010",
            "method": "animate"
           },
           {
            "args": [
             [
              "YR2015"
             ],
             {
              "frame": {
               "duration": 0,
               "redraw": true
              },
              "fromcurrent": true,
              "mode": "immediate",
              "transition": {
               "duration": 0,
               "easing": "linear"
              }
             }
            ],
            "label": "YR2015",
            "method": "animate"
           },
           {
            "args": [
             [
              "YR2000"
             ],
             {
              "frame": {
               "duration": 0,
               "redraw": true
              },
              "fromcurrent": true,
              "mode": "immediate",
              "transition": {
               "duration": 0,
               "easing": "linear"
              }
             }
            ],
            "label": "YR2000",
            "method": "animate"
           }
          ],
          "x": 0.1,
          "xanchor": "left",
          "y": 0,
          "yanchor": "top"
         }
        ],
        "template": {
         "data": {
          "bar": [
           {
            "error_x": {
             "color": "#2a3f5f"
            },
            "error_y": {
             "color": "#2a3f5f"
            },
            "marker": {
             "line": {
              "color": "#E5ECF6",
              "width": 0.5
             },
             "pattern": {
              "fillmode": "overlay",
              "size": 10,
              "solidity": 0.2
             }
            },
            "type": "bar"
           }
          ],
          "barpolar": [
           {
            "marker": {
             "line": {
              "color": "#E5ECF6",
              "width": 0.5
             },
             "pattern": {
              "fillmode": "overlay",
              "size": 10,
              "solidity": 0.2
             }
            },
            "type": "barpolar"
           }
          ],
          "carpet": [
           {
            "aaxis": {
             "endlinecolor": "#2a3f5f",
             "gridcolor": "white",
             "linecolor": "white",
             "minorgridcolor": "white",
             "startlinecolor": "#2a3f5f"
            },
            "baxis": {
             "endlinecolor": "#2a3f5f",
             "gridcolor": "white",
             "linecolor": "white",
             "minorgridcolor": "white",
             "startlinecolor": "#2a3f5f"
            },
            "type": "carpet"
           }
          ],
          "choropleth": [
           {
            "colorbar": {
             "outlinewidth": 0,
             "ticks": ""
            },
            "type": "choropleth"
           }
          ],
          "contour": [
           {
            "colorbar": {
             "outlinewidth": 0,
             "ticks": ""
            },
            "colorscale": [
             [
              0,
              "#0d0887"
             ],
             [
              0.1111111111111111,
              "#46039f"
             ],
             [
              0.2222222222222222,
              "#7201a8"
             ],
             [
              0.3333333333333333,
              "#9c179e"
             ],
             [
              0.4444444444444444,
              "#bd3786"
             ],
             [
              0.5555555555555556,
              "#d8576b"
             ],
             [
              0.6666666666666666,
              "#ed7953"
             ],
             [
              0.7777777777777778,
              "#fb9f3a"
             ],
             [
              0.8888888888888888,
              "#fdca26"
             ],
             [
              1,
              "#f0f921"
             ]
            ],
            "type": "contour"
           }
          ],
          "contourcarpet": [
           {
            "colorbar": {
             "outlinewidth": 0,
             "ticks": ""
            },
            "type": "contourcarpet"
           }
          ],
          "heatmap": [
           {
            "colorbar": {
             "outlinewidth": 0,
             "ticks": ""
            },
            "colorscale": [
             [
              0,
              "#0d0887"
             ],
             [
              0.1111111111111111,
              "#46039f"
             ],
             [
              0.2222222222222222,
              "#7201a8"
             ],
             [
              0.3333333333333333,
              "#9c179e"
             ],
             [
              0.4444444444444444,
              "#bd3786"
             ],
             [
              0.5555555555555556,
              "#d8576b"
             ],
             [
              0.6666666666666666,
              "#ed7953"
             ],
             [
              0.7777777777777778,
              "#fb9f3a"
             ],
             [
              0.8888888888888888,
              "#fdca26"
             ],
             [
              1,
              "#f0f921"
             ]
            ],
            "type": "heatmap"
           }
          ],
          "heatmapgl": [
           {
            "colorbar": {
             "outlinewidth": 0,
             "ticks": ""
            },
            "colorscale": [
             [
              0,
              "#0d0887"
             ],
             [
              0.1111111111111111,
              "#46039f"
             ],
             [
              0.2222222222222222,
              "#7201a8"
             ],
             [
              0.3333333333333333,
              "#9c179e"
             ],
             [
              0.4444444444444444,
              "#bd3786"
             ],
             [
              0.5555555555555556,
              "#d8576b"
             ],
             [
              0.6666666666666666,
              "#ed7953"
             ],
             [
              0.7777777777777778,
              "#fb9f3a"
             ],
             [
              0.8888888888888888,
              "#fdca26"
             ],
             [
              1,
              "#f0f921"
             ]
            ],
            "type": "heatmapgl"
           }
          ],
          "histogram": [
           {
            "marker": {
             "pattern": {
              "fillmode": "overlay",
              "size": 10,
              "solidity": 0.2
             }
            },
            "type": "histogram"
           }
          ],
          "histogram2d": [
           {
            "colorbar": {
             "outlinewidth": 0,
             "ticks": ""
            },
            "colorscale": [
             [
              0,
              "#0d0887"
             ],
             [
              0.1111111111111111,
              "#46039f"
             ],
             [
              0.2222222222222222,
              "#7201a8"
             ],
             [
              0.3333333333333333,
              "#9c179e"
             ],
             [
              0.4444444444444444,
              "#bd3786"
             ],
             [
              0.5555555555555556,
              "#d8576b"
             ],
             [
              0.6666666666666666,
              "#ed7953"
             ],
             [
              0.7777777777777778,
              "#fb9f3a"
             ],
             [
              0.8888888888888888,
              "#fdca26"
             ],
             [
              1,
              "#f0f921"
             ]
            ],
            "type": "histogram2d"
           }
          ],
          "histogram2dcontour": [
           {
            "colorbar": {
             "outlinewidth": 0,
             "ticks": ""
            },
            "colorscale": [
             [
              0,
              "#0d0887"
             ],
             [
              0.1111111111111111,
              "#46039f"
             ],
             [
              0.2222222222222222,
              "#7201a8"
             ],
             [
              0.3333333333333333,
              "#9c179e"
             ],
             [
              0.4444444444444444,
              "#bd3786"
             ],
             [
              0.5555555555555556,
              "#d8576b"
             ],
             [
              0.6666666666666666,
              "#ed7953"
             ],
             [
              0.7777777777777778,
              "#fb9f3a"
             ],
             [
              0.8888888888888888,
              "#fdca26"
             ],
             [
              1,
              "#f0f921"
             ]
            ],
            "type": "histogram2dcontour"
           }
          ],
          "mesh3d": [
           {
            "colorbar": {
             "outlinewidth": 0,
             "ticks": ""
            },
            "type": "mesh3d"
           }
          ],
          "parcoords": [
           {
            "line": {
             "colorbar": {
              "outlinewidth": 0,
              "ticks": ""
             }
            },
            "type": "parcoords"
           }
          ],
          "pie": [
           {
            "automargin": true,
            "type": "pie"
           }
          ],
          "scatter": [
           {
            "marker": {
             "colorbar": {
              "outlinewidth": 0,
              "ticks": ""
             }
            },
            "type": "scatter"
           }
          ],
          "scatter3d": [
           {
            "line": {
             "colorbar": {
              "outlinewidth": 0,
              "ticks": ""
             }
            },
            "marker": {
             "colorbar": {
              "outlinewidth": 0,
              "ticks": ""
             }
            },
            "type": "scatter3d"
           }
          ],
          "scattercarpet": [
           {
            "marker": {
             "colorbar": {
              "outlinewidth": 0,
              "ticks": ""
             }
            },
            "type": "scattercarpet"
           }
          ],
          "scattergeo": [
           {
            "marker": {
             "colorbar": {
              "outlinewidth": 0,
              "ticks": ""
             }
            },
            "type": "scattergeo"
           }
          ],
          "scattergl": [
           {
            "marker": {
             "colorbar": {
              "outlinewidth": 0,
              "ticks": ""
             }
            },
            "type": "scattergl"
           }
          ],
          "scattermapbox": [
           {
            "marker": {
             "colorbar": {
              "outlinewidth": 0,
              "ticks": ""
             }
            },
            "type": "scattermapbox"
           }
          ],
          "scatterpolar": [
           {
            "marker": {
             "colorbar": {
              "outlinewidth": 0,
              "ticks": ""
             }
            },
            "type": "scatterpolar"
           }
          ],
          "scatterpolargl": [
           {
            "marker": {
             "colorbar": {
              "outlinewidth": 0,
              "ticks": ""
             }
            },
            "type": "scatterpolargl"
           }
          ],
          "scatterternary": [
           {
            "marker": {
             "colorbar": {
              "outlinewidth": 0,
              "ticks": ""
             }
            },
            "type": "scatterternary"
           }
          ],
          "surface": [
           {
            "colorbar": {
             "outlinewidth": 0,
             "ticks": ""
            },
            "colorscale": [
             [
              0,
              "#0d0887"
             ],
             [
              0.1111111111111111,
              "#46039f"
             ],
             [
              0.2222222222222222,
              "#7201a8"
             ],
             [
              0.3333333333333333,
              "#9c179e"
             ],
             [
              0.4444444444444444,
              "#bd3786"
             ],
             [
              0.5555555555555556,
              "#d8576b"
             ],
             [
              0.6666666666666666,
              "#ed7953"
             ],
             [
              0.7777777777777778,
              "#fb9f3a"
             ],
             [
              0.8888888888888888,
              "#fdca26"
             ],
             [
              1,
              "#f0f921"
             ]
            ],
            "type": "surface"
           }
          ],
          "table": [
           {
            "cells": {
             "fill": {
              "color": "#EBF0F8"
             },
             "line": {
              "color": "white"
             }
            },
            "header": {
             "fill": {
              "color": "#C8D4E3"
             },
             "line": {
              "color": "white"
             }
            },
            "type": "table"
           }
          ]
         },
         "layout": {
          "annotationdefaults": {
           "arrowcolor": "#2a3f5f",
           "arrowhead": 0,
           "arrowwidth": 1
          },
          "autotypenumbers": "strict",
          "coloraxis": {
           "colorbar": {
            "outlinewidth": 0,
            "ticks": ""
           }
          },
          "colorscale": {
           "diverging": [
            [
             0,
             "#8e0152"
            ],
            [
             0.1,
             "#c51b7d"
            ],
            [
             0.2,
             "#de77ae"
            ],
            [
             0.3,
             "#f1b6da"
            ],
            [
             0.4,
             "#fde0ef"
            ],
            [
             0.5,
             "#f7f7f7"
            ],
            [
             0.6,
             "#e6f5d0"
            ],
            [
             0.7,
             "#b8e186"
            ],
            [
             0.8,
             "#7fbc41"
            ],
            [
             0.9,
             "#4d9221"
            ],
            [
             1,
             "#276419"
            ]
           ],
           "sequential": [
            [
             0,
             "#0d0887"
            ],
            [
             0.1111111111111111,
             "#46039f"
            ],
            [
             0.2222222222222222,
             "#7201a8"
            ],
            [
             0.3333333333333333,
             "#9c179e"
            ],
            [
             0.4444444444444444,
             "#bd3786"
            ],
            [
             0.5555555555555556,
             "#d8576b"
            ],
            [
             0.6666666666666666,
             "#ed7953"
            ],
            [
             0.7777777777777778,
             "#fb9f3a"
            ],
            [
             0.8888888888888888,
             "#fdca26"
            ],
            [
             1,
             "#f0f921"
            ]
           ],
           "sequentialminus": [
            [
             0,
             "#0d0887"
            ],
            [
             0.1111111111111111,
             "#46039f"
            ],
            [
             0.2222222222222222,
             "#7201a8"
            ],
            [
             0.3333333333333333,
             "#9c179e"
            ],
            [
             0.4444444444444444,
             "#bd3786"
            ],
            [
             0.5555555555555556,
             "#d8576b"
            ],
            [
             0.6666666666666666,
             "#ed7953"
            ],
            [
             0.7777777777777778,
             "#fb9f3a"
            ],
            [
             0.8888888888888888,
             "#fdca26"
            ],
            [
             1,
             "#f0f921"
            ]
           ]
          },
          "colorway": [
           "#636efa",
           "#EF553B",
           "#00cc96",
           "#ab63fa",
           "#FFA15A",
           "#19d3f3",
           "#FF6692",
           "#B6E880",
           "#FF97FF",
           "#FECB52"
          ],
          "font": {
           "color": "#2a3f5f"
          },
          "geo": {
           "bgcolor": "white",
           "lakecolor": "white",
           "landcolor": "#E5ECF6",
           "showlakes": true,
           "showland": true,
           "subunitcolor": "white"
          },
          "hoverlabel": {
           "align": "left"
          },
          "hovermode": "closest",
          "mapbox": {
           "style": "light"
          },
          "paper_bgcolor": "white",
          "plot_bgcolor": "#E5ECF6",
          "polar": {
           "angularaxis": {
            "gridcolor": "white",
            "linecolor": "white",
            "ticks": ""
           },
           "bgcolor": "#E5ECF6",
           "radialaxis": {
            "gridcolor": "white",
            "linecolor": "white",
            "ticks": ""
           }
          },
          "scene": {
           "xaxis": {
            "backgroundcolor": "#E5ECF6",
            "gridcolor": "white",
            "gridwidth": 2,
            "linecolor": "white",
            "showbackground": true,
            "ticks": "",
            "zerolinecolor": "white"
           },
           "yaxis": {
            "backgroundcolor": "#E5ECF6",
            "gridcolor": "white",
            "gridwidth": 2,
            "linecolor": "white",
            "showbackground": true,
            "ticks": "",
            "zerolinecolor": "white"
           },
           "zaxis": {
            "backgroundcolor": "#E5ECF6",
            "gridcolor": "white",
            "gridwidth": 2,
            "linecolor": "white",
            "showbackground": true,
            "ticks": "",
            "zerolinecolor": "white"
           }
          },
          "shapedefaults": {
           "line": {
            "color": "#2a3f5f"
           }
          },
          "ternary": {
           "aaxis": {
            "gridcolor": "white",
            "linecolor": "white",
            "ticks": ""
           },
           "baxis": {
            "gridcolor": "white",
            "linecolor": "white",
            "ticks": ""
           },
           "bgcolor": "#E5ECF6",
           "caxis": {
            "gridcolor": "white",
            "linecolor": "white",
            "ticks": ""
           }
          },
          "title": {
           "x": 0.05
          },
          "xaxis": {
           "automargin": true,
           "gridcolor": "white",
           "linecolor": "white",
           "ticks": "",
           "title": {
            "standoff": 15
           },
           "zerolinecolor": "white",
           "zerolinewidth": 2
          },
          "yaxis": {
           "automargin": true,
           "gridcolor": "white",
           "linecolor": "white",
           "ticks": "",
           "title": {
            "standoff": 15
           },
           "zerolinecolor": "white",
           "zerolinewidth": 2
          }
         }
        },
        "transition": {
         "duration": 1000
        },
        "updatemenus": [
         {
          "buttons": [
           {
            "args": [
             null,
             {
              "frame": {
               "duration": 500,
               "redraw": true
              },
              "fromcurrent": true,
              "mode": "immediate",
              "transition": {
               "duration": 500,
               "easing": "linear"
              }
             }
            ],
            "label": "&#9654;",
            "method": "animate"
           },
           {
            "args": [
             [
              null
             ],
             {
              "frame": {
               "duration": 0,
               "redraw": true
              },
              "fromcurrent": true,
              "mode": "immediate",
              "transition": {
               "duration": 0,
               "easing": "linear"
              }
             }
            ],
            "label": "&#9724;",
            "method": "animate"
           }
          ],
          "direction": "left",
          "pad": {
           "r": 10,
           "t": 70
          },
          "showactive": false,
          "type": "buttons",
          "x": 0.1,
          "xanchor": "right",
          "y": 0,
          "yanchor": "top"
         }
        ]
       }
      },
      "text/html": [
       "<div>                            <div id=\"1ac1c765-59d0-48f3-8807-4b90ace89e83\" class=\"plotly-graph-div\" style=\"height:525px; width:100%;\"></div>            <script type=\"text/javascript\">                require([\"plotly\"], function(Plotly) {                    window.PLOTLYENV=window.PLOTLYENV || {};                                    if (document.getElementById(\"1ac1c765-59d0-48f3-8807-4b90ace89e83\")) {                    Plotly.newPlot(                        \"1ac1c765-59d0-48f3-8807-4b90ace89e83\",                        [{\"coloraxis\":\"coloraxis\",\"geo\":\"geo\",\"hovertemplate\":\"<b>%{hovertext}</b><br><br>Year=YR2005<br>economy=%{location}<br>Life expectancy at birth, total (years)=%{z}<extra></extra>\",\"hovertext\":[\"Afghanistan\",\"Angola\",\"Albania\",\"Argentina\",\"Armenia\",\"Australia\",\"Austria\",\"Azerbaijan\",\"Burundi\",\"Belgium\",\"Benin\",\"Burkina Faso\",\"Bulgaria\",\"Bahamas, The\",\"Belarus\",\"Brazil\",\"Barbados\",\"Bhutan\",\"Botswana\",\"Central African Republic\",\"Canada\",\"Switzerland\",\"Chile\",\"China\",\"Cote d'Ivoire\",\"Cameroon\",\"Congo, Rep.\",\"Colombia\",\"Cyprus\",\"Czechia\",\"Djibouti\",\"Denmark\",\"Egypt, Arab Rep.\",\"Spain\",\"Estonia\",\"Finland\",\"Fiji\",\"United Kingdom\",\"Georgia\",\"Ghana\",\"Guinea\",\"Gambia, The\",\"Greece\",\"Guyana\",\"Hungary\",\"Indonesia\",\"India\",\"Ireland\",\"Iran, Islamic Rep.\",\"Iceland\",\"Israel\",\"Italy\",\"Jamaica\",\"Jordan\",\"Kazakhstan\",\"Kenya\",\"Kyrgyz Republic\",\"Kuwait\",\"Lao PDR\",\"Lebanon\",\"St. Lucia\",\"Sri Lanka\",\"Lesotho\",\"Lithuania\",\"Moldova\",\"Madagascar\",\"Maldives\",\"Mexico\",\"Mali\",\"Mozambique\",\"Mauritius\",\"Netherlands\",\"Norway\",\"Nepal\",\"New Zealand\",\"Oman\",\"Pakistan\",\"Peru\",\"Philippines\",\"Poland\",\"Portugal\",\"Qatar\",\"Romania\",\"Russian Federation\",\"Saudi Arabia\",\"Sudan\",\"Senegal\",\"Singapore\",\"Sierra Leone\",\"El Salvador\",\"Sao Tome and Principe\",\"Slovak Republic\",\"Slovenia\",\"Sweden\",\"Eswatini\",\"Chad\",\"Togo\",\"Thailand\",\"Tajikistan\",\"Tunisia\",\"Tanzania\",\"Ukraine\",\"Uruguay\",\"St. Vincent and the Grenadines\",\"South Africa\",\"Zambia\"],\"locations\":[\"AFG\",\"AGO\",\"ALB\",\"ARG\",\"ARM\",\"AUS\",\"AUT\",\"AZE\",\"BDI\",\"BEL\",\"BEN\",\"BFA\",\"BGR\",\"BHS\",\"BLR\",\"BRA\",\"BRB\",\"BTN\",\"BWA\",\"CAF\",\"CAN\",\"CHE\",\"CHL\",\"CHN\",\"CIV\",\"CMR\",\"COG\",\"COL\",\"CYP\",\"CZE\",\"DJI\",\"DNK\",\"EGY\",\"ESP\",\"EST\",\"FIN\",\"FJI\",\"GBR\",\"GEO\",\"GHA\",\"GIN\",\"GMB\",\"GRC\",\"GUY\",\"HUN\",\"IDN\",\"IND\",\"IRL\",\"IRN\",\"ISL\",\"ISR\",\"ITA\",\"JAM\",\"JOR\",\"KAZ\",\"KEN\",\"KGZ\",\"KWT\",\"LAO\",\"LBN\",\"LCA\",\"LKA\",\"LSO\",\"LTU\",\"MDA\",\"MDG\",\"MDV\",\"MEX\",\"MLI\",\"MOZ\",\"MUS\",\"NLD\",\"NOR\",\"NPL\",\"NZL\",\"OMN\",\"PAK\",\"PER\",\"PHL\",\"POL\",\"PRT\",\"QAT\",\"ROU\",\"RUS\",\"SAU\",\"SDN\",\"SEN\",\"SGP\",\"SLE\",\"SLV\",\"STP\",\"SVK\",\"SVN\",\"SWE\",\"SWZ\",\"TCD\",\"TGO\",\"THA\",\"TJK\",\"TUN\",\"TZA\",\"UKR\",\"URY\",\"VCT\",\"ZAF\",\"ZMB\"],\"name\":\"\",\"z\":[58.29,50.165,75.228,74.451,72.626,80.8414634146341,79.3317073170732,68.747,53.369,78.9804878048781,57.355,53.31,72.5609756097561,71.987,68.8512195121951,71.896,77.915,65.289,52.13,44.744,80.1926829268293,81.2365853658537,77.63,72.985,50.12,52.76,55.6,74.265,78.63,75.9243902439025,57.991,77.8439024390244,69.434,80.1707317073171,72.5682926829268,78.8170731707317,66.313,79.0487804878049,70.538,58.719,53.238,57.939,79.2390243902439,66.694,72.6487804878049,67.334,64.5,78.9439024390244,71.917,81.5024390243902,80.1512195121951,80.7829268292683,74.148,72.595,65.86,54.732,67.9560975609756,73.538,61.625,76.865,74.122,74.695,42.658,71.2536585365854,67.82,61.212,73.612,75.3,52.057,50.387,72.4321951219512,79.3463414634146,80.0414634146342,65.264,79.8512195121951,74.23,63.951,72.908,69.112,74.9951219512195,78.0707317073171,78.252,71.9121951219512,65.529756097561,73.256,60.525,60.62,79.990243902439,44.502,70.124,64.659,73.9048780487805,77.6121951219512,80.5463414634146,42.518,48.549,54.602,72.099,66.08,74.217,54.349,67.9568292682927,75.826,71.331,53.447,48.496],\"type\":\"choropleth\"}],                        {\"template\":{\"data\":{\"bar\":[{\"error_x\":{\"color\":\"#2a3f5f\"},\"error_y\":{\"color\":\"#2a3f5f\"},\"marker\":{\"line\":{\"color\":\"#E5ECF6\",\"width\":0.5},\"pattern\":{\"fillmode\":\"overlay\",\"size\":10,\"solidity\":0.2}},\"type\":\"bar\"}],\"barpolar\":[{\"marker\":{\"line\":{\"color\":\"#E5ECF6\",\"width\":0.5},\"pattern\":{\"fillmode\":\"overlay\",\"size\":10,\"solidity\":0.2}},\"type\":\"barpolar\"}],\"carpet\":[{\"aaxis\":{\"endlinecolor\":\"#2a3f5f\",\"gridcolor\":\"white\",\"linecolor\":\"white\",\"minorgridcolor\":\"white\",\"startlinecolor\":\"#2a3f5f\"},\"baxis\":{\"endlinecolor\":\"#2a3f5f\",\"gridcolor\":\"white\",\"linecolor\":\"white\",\"minorgridcolor\":\"white\",\"startlinecolor\":\"#2a3f5f\"},\"type\":\"carpet\"}],\"choropleth\":[{\"colorbar\":{\"outlinewidth\":0,\"ticks\":\"\"},\"type\":\"choropleth\"}],\"contour\":[{\"colorbar\":{\"outlinewidth\":0,\"ticks\":\"\"},\"colorscale\":[[0.0,\"#0d0887\"],[0.1111111111111111,\"#46039f\"],[0.2222222222222222,\"#7201a8\"],[0.3333333333333333,\"#9c179e\"],[0.4444444444444444,\"#bd3786\"],[0.5555555555555556,\"#d8576b\"],[0.6666666666666666,\"#ed7953\"],[0.7777777777777778,\"#fb9f3a\"],[0.8888888888888888,\"#fdca26\"],[1.0,\"#f0f921\"]],\"type\":\"contour\"}],\"contourcarpet\":[{\"colorbar\":{\"outlinewidth\":0,\"ticks\":\"\"},\"type\":\"contourcarpet\"}],\"heatmap\":[{\"colorbar\":{\"outlinewidth\":0,\"ticks\":\"\"},\"colorscale\":[[0.0,\"#0d0887\"],[0.1111111111111111,\"#46039f\"],[0.2222222222222222,\"#7201a8\"],[0.3333333333333333,\"#9c179e\"],[0.4444444444444444,\"#bd3786\"],[0.5555555555555556,\"#d8576b\"],[0.6666666666666666,\"#ed7953\"],[0.7777777777777778,\"#fb9f3a\"],[0.8888888888888888,\"#fdca26\"],[1.0,\"#f0f921\"]],\"type\":\"heatmap\"}],\"heatmapgl\":[{\"colorbar\":{\"outlinewidth\":0,\"ticks\":\"\"},\"colorscale\":[[0.0,\"#0d0887\"],[0.1111111111111111,\"#46039f\"],[0.2222222222222222,\"#7201a8\"],[0.3333333333333333,\"#9c179e\"],[0.4444444444444444,\"#bd3786\"],[0.5555555555555556,\"#d8576b\"],[0.6666666666666666,\"#ed7953\"],[0.7777777777777778,\"#fb9f3a\"],[0.8888888888888888,\"#fdca26\"],[1.0,\"#f0f921\"]],\"type\":\"heatmapgl\"}],\"histogram\":[{\"marker\":{\"pattern\":{\"fillmode\":\"overlay\",\"size\":10,\"solidity\":0.2}},\"type\":\"histogram\"}],\"histogram2d\":[{\"colorbar\":{\"outlinewidth\":0,\"ticks\":\"\"},\"colorscale\":[[0.0,\"#0d0887\"],[0.1111111111111111,\"#46039f\"],[0.2222222222222222,\"#7201a8\"],[0.3333333333333333,\"#9c179e\"],[0.4444444444444444,\"#bd3786\"],[0.5555555555555556,\"#d8576b\"],[0.6666666666666666,\"#ed7953\"],[0.7777777777777778,\"#fb9f3a\"],[0.8888888888888888,\"#fdca26\"],[1.0,\"#f0f921\"]],\"type\":\"histogram2d\"}],\"histogram2dcontour\":[{\"colorbar\":{\"outlinewidth\":0,\"ticks\":\"\"},\"colorscale\":[[0.0,\"#0d0887\"],[0.1111111111111111,\"#46039f\"],[0.2222222222222222,\"#7201a8\"],[0.3333333333333333,\"#9c179e\"],[0.4444444444444444,\"#bd3786\"],[0.5555555555555556,\"#d8576b\"],[0.6666666666666666,\"#ed7953\"],[0.7777777777777778,\"#fb9f3a\"],[0.8888888888888888,\"#fdca26\"],[1.0,\"#f0f921\"]],\"type\":\"histogram2dcontour\"}],\"mesh3d\":[{\"colorbar\":{\"outlinewidth\":0,\"ticks\":\"\"},\"type\":\"mesh3d\"}],\"parcoords\":[{\"line\":{\"colorbar\":{\"outlinewidth\":0,\"ticks\":\"\"}},\"type\":\"parcoords\"}],\"pie\":[{\"automargin\":true,\"type\":\"pie\"}],\"scatter\":[{\"marker\":{\"colorbar\":{\"outlinewidth\":0,\"ticks\":\"\"}},\"type\":\"scatter\"}],\"scatter3d\":[{\"line\":{\"colorbar\":{\"outlinewidth\":0,\"ticks\":\"\"}},\"marker\":{\"colorbar\":{\"outlinewidth\":0,\"ticks\":\"\"}},\"type\":\"scatter3d\"}],\"scattercarpet\":[{\"marker\":{\"colorbar\":{\"outlinewidth\":0,\"ticks\":\"\"}},\"type\":\"scattercarpet\"}],\"scattergeo\":[{\"marker\":{\"colorbar\":{\"outlinewidth\":0,\"ticks\":\"\"}},\"type\":\"scattergeo\"}],\"scattergl\":[{\"marker\":{\"colorbar\":{\"outlinewidth\":0,\"ticks\":\"\"}},\"type\":\"scattergl\"}],\"scattermapbox\":[{\"marker\":{\"colorbar\":{\"outlinewidth\":0,\"ticks\":\"\"}},\"type\":\"scattermapbox\"}],\"scatterpolar\":[{\"marker\":{\"colorbar\":{\"outlinewidth\":0,\"ticks\":\"\"}},\"type\":\"scatterpolar\"}],\"scatterpolargl\":[{\"marker\":{\"colorbar\":{\"outlinewidth\":0,\"ticks\":\"\"}},\"type\":\"scatterpolargl\"}],\"scatterternary\":[{\"marker\":{\"colorbar\":{\"outlinewidth\":0,\"ticks\":\"\"}},\"type\":\"scatterternary\"}],\"surface\":[{\"colorbar\":{\"outlinewidth\":0,\"ticks\":\"\"},\"colorscale\":[[0.0,\"#0d0887\"],[0.1111111111111111,\"#46039f\"],[0.2222222222222222,\"#7201a8\"],[0.3333333333333333,\"#9c179e\"],[0.4444444444444444,\"#bd3786\"],[0.5555555555555556,\"#d8576b\"],[0.6666666666666666,\"#ed7953\"],[0.7777777777777778,\"#fb9f3a\"],[0.8888888888888888,\"#fdca26\"],[1.0,\"#f0f921\"]],\"type\":\"surface\"}],\"table\":[{\"cells\":{\"fill\":{\"color\":\"#EBF0F8\"},\"line\":{\"color\":\"white\"}},\"header\":{\"fill\":{\"color\":\"#C8D4E3\"},\"line\":{\"color\":\"white\"}},\"type\":\"table\"}]},\"layout\":{\"annotationdefaults\":{\"arrowcolor\":\"#2a3f5f\",\"arrowhead\":0,\"arrowwidth\":1},\"autotypenumbers\":\"strict\",\"coloraxis\":{\"colorbar\":{\"outlinewidth\":0,\"ticks\":\"\"}},\"colorscale\":{\"diverging\":[[0,\"#8e0152\"],[0.1,\"#c51b7d\"],[0.2,\"#de77ae\"],[0.3,\"#f1b6da\"],[0.4,\"#fde0ef\"],[0.5,\"#f7f7f7\"],[0.6,\"#e6f5d0\"],[0.7,\"#b8e186\"],[0.8,\"#7fbc41\"],[0.9,\"#4d9221\"],[1,\"#276419\"]],\"sequential\":[[0.0,\"#0d0887\"],[0.1111111111111111,\"#46039f\"],[0.2222222222222222,\"#7201a8\"],[0.3333333333333333,\"#9c179e\"],[0.4444444444444444,\"#bd3786\"],[0.5555555555555556,\"#d8576b\"],[0.6666666666666666,\"#ed7953\"],[0.7777777777777778,\"#fb9f3a\"],[0.8888888888888888,\"#fdca26\"],[1.0,\"#f0f921\"]],\"sequentialminus\":[[0.0,\"#0d0887\"],[0.1111111111111111,\"#46039f\"],[0.2222222222222222,\"#7201a8\"],[0.3333333333333333,\"#9c179e\"],[0.4444444444444444,\"#bd3786\"],[0.5555555555555556,\"#d8576b\"],[0.6666666666666666,\"#ed7953\"],[0.7777777777777778,\"#fb9f3a\"],[0.8888888888888888,\"#fdca26\"],[1.0,\"#f0f921\"]]},\"colorway\":[\"#636efa\",\"#EF553B\",\"#00cc96\",\"#ab63fa\",\"#FFA15A\",\"#19d3f3\",\"#FF6692\",\"#B6E880\",\"#FF97FF\",\"#FECB52\"],\"font\":{\"color\":\"#2a3f5f\"},\"geo\":{\"bgcolor\":\"white\",\"lakecolor\":\"white\",\"landcolor\":\"#E5ECF6\",\"showlakes\":true,\"showland\":true,\"subunitcolor\":\"white\"},\"hoverlabel\":{\"align\":\"left\"},\"hovermode\":\"closest\",\"mapbox\":{\"style\":\"light\"},\"paper_bgcolor\":\"white\",\"plot_bgcolor\":\"#E5ECF6\",\"polar\":{\"angularaxis\":{\"gridcolor\":\"white\",\"linecolor\":\"white\",\"ticks\":\"\"},\"bgcolor\":\"#E5ECF6\",\"radialaxis\":{\"gridcolor\":\"white\",\"linecolor\":\"white\",\"ticks\":\"\"}},\"scene\":{\"xaxis\":{\"backgroundcolor\":\"#E5ECF6\",\"gridcolor\":\"white\",\"gridwidth\":2,\"linecolor\":\"white\",\"showbackground\":true,\"ticks\":\"\",\"zerolinecolor\":\"white\"},\"yaxis\":{\"backgroundcolor\":\"#E5ECF6\",\"gridcolor\":\"white\",\"gridwidth\":2,\"linecolor\":\"white\",\"showbackground\":true,\"ticks\":\"\",\"zerolinecolor\":\"white\"},\"zaxis\":{\"backgroundcolor\":\"#E5ECF6\",\"gridcolor\":\"white\",\"gridwidth\":2,\"linecolor\":\"white\",\"showbackground\":true,\"ticks\":\"\",\"zerolinecolor\":\"white\"}},\"shapedefaults\":{\"line\":{\"color\":\"#2a3f5f\"}},\"ternary\":{\"aaxis\":{\"gridcolor\":\"white\",\"linecolor\":\"white\",\"ticks\":\"\"},\"baxis\":{\"gridcolor\":\"white\",\"linecolor\":\"white\",\"ticks\":\"\"},\"bgcolor\":\"#E5ECF6\",\"caxis\":{\"gridcolor\":\"white\",\"linecolor\":\"white\",\"ticks\":\"\"}},\"title\":{\"x\":0.05},\"xaxis\":{\"automargin\":true,\"gridcolor\":\"white\",\"linecolor\":\"white\",\"ticks\":\"\",\"title\":{\"standoff\":15},\"zerolinecolor\":\"white\",\"zerolinewidth\":2},\"yaxis\":{\"automargin\":true,\"gridcolor\":\"white\",\"linecolor\":\"white\",\"ticks\":\"\",\"title\":{\"standoff\":15},\"zerolinecolor\":\"white\",\"zerolinewidth\":2}}},\"geo\":{\"domain\":{\"x\":[0.0,1.0],\"y\":[0.0,1.0]},\"center\":{}},\"coloraxis\":{\"colorbar\":{\"title\":{\"text\":\"Life expectancy at birth, total (years)\"}},\"colorscale\":[[0.0,\"#0d0887\"],[0.1111111111111111,\"#46039f\"],[0.2222222222222222,\"#7201a8\"],[0.3333333333333333,\"#9c179e\"],[0.4444444444444444,\"#bd3786\"],[0.5555555555555556,\"#d8576b\"],[0.6666666666666666,\"#ed7953\"],[0.7777777777777778,\"#fb9f3a\"],[0.8888888888888888,\"#fdca26\"],[1.0,\"#f0f921\"]]},\"legend\":{\"tracegroupgap\":0},\"margin\":{\"t\":60},\"updatemenus\":[{\"buttons\":[{\"args\":[null,{\"frame\":{\"duration\":500,\"redraw\":true},\"mode\":\"immediate\",\"fromcurrent\":true,\"transition\":{\"duration\":500,\"easing\":\"linear\"}}],\"label\":\"&#9654;\",\"method\":\"animate\"},{\"args\":[[null],{\"frame\":{\"duration\":0,\"redraw\":true},\"mode\":\"immediate\",\"fromcurrent\":true,\"transition\":{\"duration\":0,\"easing\":\"linear\"}}],\"label\":\"&#9724;\",\"method\":\"animate\"}],\"direction\":\"left\",\"pad\":{\"r\":10,\"t\":70},\"showactive\":false,\"type\":\"buttons\",\"x\":0.1,\"xanchor\":\"right\",\"y\":0,\"yanchor\":\"top\"}],\"sliders\":[{\"active\":0,\"currentvalue\":{\"prefix\":\"Year=\"},\"len\":0.9,\"pad\":{\"b\":10,\"t\":60},\"steps\":[{\"args\":[[\"YR2005\"],{\"frame\":{\"duration\":0,\"redraw\":true},\"mode\":\"immediate\",\"fromcurrent\":true,\"transition\":{\"duration\":0,\"easing\":\"linear\"}}],\"label\":\"YR2005\",\"method\":\"animate\"},{\"args\":[[\"YR2010\"],{\"frame\":{\"duration\":0,\"redraw\":true},\"mode\":\"immediate\",\"fromcurrent\":true,\"transition\":{\"duration\":0,\"easing\":\"linear\"}}],\"label\":\"YR2010\",\"method\":\"animate\"},{\"args\":[[\"YR2015\"],{\"frame\":{\"duration\":0,\"redraw\":true},\"mode\":\"immediate\",\"fromcurrent\":true,\"transition\":{\"duration\":0,\"easing\":\"linear\"}}],\"label\":\"YR2015\",\"method\":\"animate\"},{\"args\":[[\"YR2000\"],{\"frame\":{\"duration\":0,\"redraw\":true},\"mode\":\"immediate\",\"fromcurrent\":true,\"transition\":{\"duration\":0,\"easing\":\"linear\"}}],\"label\":\"YR2000\",\"method\":\"animate\"}],\"x\":0.1,\"xanchor\":\"left\",\"y\":0,\"yanchor\":\"top\"}],\"transition\":{\"duration\":1000}},                        {\"responsive\": true}                    ).then(function(){\n",
       "                            Plotly.addFrames('1ac1c765-59d0-48f3-8807-4b90ace89e83', [{\"data\":[{\"coloraxis\":\"coloraxis\",\"geo\":\"geo\",\"hovertemplate\":\"<b>%{hovertext}</b><br><br>Year=YR2005<br>economy=%{location}<br>Life expectancy at birth, total (years)=%{z}<extra></extra>\",\"hovertext\":[\"Afghanistan\",\"Angola\",\"Albania\",\"Argentina\",\"Armenia\",\"Australia\",\"Austria\",\"Azerbaijan\",\"Burundi\",\"Belgium\",\"Benin\",\"Burkina Faso\",\"Bulgaria\",\"Bahamas, The\",\"Belarus\",\"Brazil\",\"Barbados\",\"Bhutan\",\"Botswana\",\"Central African Republic\",\"Canada\",\"Switzerland\",\"Chile\",\"China\",\"Cote d'Ivoire\",\"Cameroon\",\"Congo, Rep.\",\"Colombia\",\"Cyprus\",\"Czechia\",\"Djibouti\",\"Denmark\",\"Egypt, Arab Rep.\",\"Spain\",\"Estonia\",\"Finland\",\"Fiji\",\"United Kingdom\",\"Georgia\",\"Ghana\",\"Guinea\",\"Gambia, The\",\"Greece\",\"Guyana\",\"Hungary\",\"Indonesia\",\"India\",\"Ireland\",\"Iran, Islamic Rep.\",\"Iceland\",\"Israel\",\"Italy\",\"Jamaica\",\"Jordan\",\"Kazakhstan\",\"Kenya\",\"Kyrgyz Republic\",\"Kuwait\",\"Lao PDR\",\"Lebanon\",\"St. Lucia\",\"Sri Lanka\",\"Lesotho\",\"Lithuania\",\"Moldova\",\"Madagascar\",\"Maldives\",\"Mexico\",\"Mali\",\"Mozambique\",\"Mauritius\",\"Netherlands\",\"Norway\",\"Nepal\",\"New Zealand\",\"Oman\",\"Pakistan\",\"Peru\",\"Philippines\",\"Poland\",\"Portugal\",\"Qatar\",\"Romania\",\"Russian Federation\",\"Saudi Arabia\",\"Sudan\",\"Senegal\",\"Singapore\",\"Sierra Leone\",\"El Salvador\",\"Sao Tome and Principe\",\"Slovak Republic\",\"Slovenia\",\"Sweden\",\"Eswatini\",\"Chad\",\"Togo\",\"Thailand\",\"Tajikistan\",\"Tunisia\",\"Tanzania\",\"Ukraine\",\"Uruguay\",\"St. Vincent and the Grenadines\",\"South Africa\",\"Zambia\"],\"locations\":[\"AFG\",\"AGO\",\"ALB\",\"ARG\",\"ARM\",\"AUS\",\"AUT\",\"AZE\",\"BDI\",\"BEL\",\"BEN\",\"BFA\",\"BGR\",\"BHS\",\"BLR\",\"BRA\",\"BRB\",\"BTN\",\"BWA\",\"CAF\",\"CAN\",\"CHE\",\"CHL\",\"CHN\",\"CIV\",\"CMR\",\"COG\",\"COL\",\"CYP\",\"CZE\",\"DJI\",\"DNK\",\"EGY\",\"ESP\",\"EST\",\"FIN\",\"FJI\",\"GBR\",\"GEO\",\"GHA\",\"GIN\",\"GMB\",\"GRC\",\"GUY\",\"HUN\",\"IDN\",\"IND\",\"IRL\",\"IRN\",\"ISL\",\"ISR\",\"ITA\",\"JAM\",\"JOR\",\"KAZ\",\"KEN\",\"KGZ\",\"KWT\",\"LAO\",\"LBN\",\"LCA\",\"LKA\",\"LSO\",\"LTU\",\"MDA\",\"MDG\",\"MDV\",\"MEX\",\"MLI\",\"MOZ\",\"MUS\",\"NLD\",\"NOR\",\"NPL\",\"NZL\",\"OMN\",\"PAK\",\"PER\",\"PHL\",\"POL\",\"PRT\",\"QAT\",\"ROU\",\"RUS\",\"SAU\",\"SDN\",\"SEN\",\"SGP\",\"SLE\",\"SLV\",\"STP\",\"SVK\",\"SVN\",\"SWE\",\"SWZ\",\"TCD\",\"TGO\",\"THA\",\"TJK\",\"TUN\",\"TZA\",\"UKR\",\"URY\",\"VCT\",\"ZAF\",\"ZMB\"],\"name\":\"\",\"z\":[58.29,50.165,75.228,74.451,72.626,80.8414634146341,79.3317073170732,68.747,53.369,78.9804878048781,57.355,53.31,72.5609756097561,71.987,68.8512195121951,71.896,77.915,65.289,52.13,44.744,80.1926829268293,81.2365853658537,77.63,72.985,50.12,52.76,55.6,74.265,78.63,75.9243902439025,57.991,77.8439024390244,69.434,80.1707317073171,72.5682926829268,78.8170731707317,66.313,79.0487804878049,70.538,58.719,53.238,57.939,79.2390243902439,66.694,72.6487804878049,67.334,64.5,78.9439024390244,71.917,81.5024390243902,80.1512195121951,80.7829268292683,74.148,72.595,65.86,54.732,67.9560975609756,73.538,61.625,76.865,74.122,74.695,42.658,71.2536585365854,67.82,61.212,73.612,75.3,52.057,50.387,72.4321951219512,79.3463414634146,80.0414634146342,65.264,79.8512195121951,74.23,63.951,72.908,69.112,74.9951219512195,78.0707317073171,78.252,71.9121951219512,65.529756097561,73.256,60.525,60.62,79.990243902439,44.502,70.124,64.659,73.9048780487805,77.6121951219512,80.5463414634146,42.518,48.549,54.602,72.099,66.08,74.217,54.349,67.9568292682927,75.826,71.331,53.447,48.496],\"type\":\"choropleth\"}],\"name\":\"YR2005\"},{\"data\":[{\"coloraxis\":\"coloraxis\",\"geo\":\"geo\",\"hovertemplate\":\"<b>%{hovertext}</b><br><br>Year=YR2010<br>economy=%{location}<br>Life expectancy at birth, total (years)=%{z}<extra></extra>\",\"hovertext\":[\"Afghanistan\",\"Angola\",\"Argentina\",\"Armenia\",\"Australia\",\"Austria\",\"Azerbaijan\",\"Burundi\",\"Belgium\",\"Benin\",\"Burkina Faso\",\"Bangladesh\",\"Bulgaria\",\"Bahrain\",\"Bahamas, The\",\"Belarus\",\"Belize\",\"Bolivia\",\"Brazil\",\"Barbados\",\"Brunei Darussalam\",\"Bhutan\",\"Central African Republic\",\"Canada\",\"Switzerland\",\"Chile\",\"China\",\"Cote d'Ivoire\",\"Cameroon\",\"Congo, Dem. Rep.\",\"Congo, Rep.\",\"Colombia\",\"Cabo Verde\",\"Costa Rica\",\"Cyprus\",\"Czechia\",\"Germany\",\"Djibouti\",\"Denmark\",\"Dominican Republic\",\"Ecuador\",\"Egypt, Arab Rep.\",\"Spain\",\"Estonia\",\"Ethiopia\",\"Finland\",\"Fiji\",\"Gabon\",\"United Kingdom\",\"Ghana\",\"Guinea\",\"Gambia, The\",\"Guinea-Bissau\",\"Guatemala\",\"Guyana\",\"Croatia\",\"Hungary\",\"Indonesia\",\"India\",\"Ireland\",\"Iran, Islamic Rep.\",\"Iceland\",\"Israel\",\"Italy\",\"Jamaica\",\"Jordan\",\"Kenya\",\"Kyrgyz Republic\",\"Cambodia\",\"Korea, Rep.\",\"Kuwait\",\"Lao PDR\",\"Lebanon\",\"St. Lucia\",\"Sri Lanka\",\"Lithuania\",\"Latvia\",\"Moldova\",\"Maldives\",\"Mexico\",\"Mali\",\"Malta\",\"Myanmar\",\"Mongolia\",\"Mozambique\",\"Mauritius\",\"Malawi\",\"Malaysia\",\"Namibia\",\"Niger\",\"Nicaragua\",\"Netherlands\",\"Norway\",\"Nepal\",\"New Zealand\",\"Pakistan\",\"Peru\",\"Poland\",\"Portugal\",\"Paraguay\",\"Qatar\",\"Romania\",\"Rwanda\",\"Senegal\",\"Singapore\",\"Solomon Islands\",\"Sierra Leone\",\"El Salvador\",\"Serbia\",\"Sao Tome and Principe\",\"Slovak Republic\",\"Slovenia\",\"Sweden\",\"Eswatini\",\"Seychelles\",\"Chad\",\"Togo\",\"Thailand\",\"Tajikistan\",\"Timor-Leste\",\"Tunisia\",\"Tanzania\",\"Uganda\",\"Uruguay\",\"St. Vincent and the Grenadines\",\"Vietnam\",\"Samoa\",\"Yemen, Rep.\",\"South Africa\",\"Zambia\",\"Zimbabwe\"],\"locations\":[\"AFG\",\"AGO\",\"ARG\",\"ARM\",\"AUS\",\"AUT\",\"AZE\",\"BDI\",\"BEL\",\"BEN\",\"BFA\",\"BGD\",\"BGR\",\"BHR\",\"BHS\",\"BLR\",\"BLZ\",\"BOL\",\"BRA\",\"BRB\",\"BRN\",\"BTN\",\"CAF\",\"CAN\",\"CHE\",\"CHL\",\"CHN\",\"CIV\",\"CMR\",\"COD\",\"COG\",\"COL\",\"CPV\",\"CRI\",\"CYP\",\"CZE\",\"DEU\",\"DJI\",\"DNK\",\"DOM\",\"ECU\",\"EGY\",\"ESP\",\"EST\",\"ETH\",\"FIN\",\"FJI\",\"GAB\",\"GBR\",\"GHA\",\"GIN\",\"GMB\",\"GNB\",\"GTM\",\"GUY\",\"HRV\",\"HUN\",\"IDN\",\"IND\",\"IRL\",\"IRN\",\"ISL\",\"ISR\",\"ITA\",\"JAM\",\"JOR\",\"KEN\",\"KGZ\",\"KHM\",\"KOR\",\"KWT\",\"LAO\",\"LBN\",\"LCA\",\"LKA\",\"LTU\",\"LVA\",\"MDA\",\"MDV\",\"MEX\",\"MLI\",\"MLT\",\"MMR\",\"MNG\",\"MOZ\",\"MUS\",\"MWI\",\"MYS\",\"NAM\",\"NER\",\"NIC\",\"NLD\",\"NOR\",\"NPL\",\"NZL\",\"PAK\",\"PER\",\"POL\",\"PRT\",\"PRY\",\"QAT\",\"ROU\",\"RWA\",\"SEN\",\"SGP\",\"SLB\",\"SLE\",\"SLV\",\"SRB\",\"STP\",\"SVK\",\"SVN\",\"SWE\",\"SWZ\",\"SYC\",\"TCD\",\"TGO\",\"THA\",\"TJK\",\"TLS\",\"TUN\",\"TZA\",\"UGA\",\"URY\",\"VCT\",\"VNM\",\"WSM\",\"YEM\",\"ZAF\",\"ZMB\",\"ZWE\"],\"name\":\"\",\"z\":[61.028,55.35,75.278,73.331,81.6951219512195,80.5804878048781,70.938,57.228,80.1829268292683,59.318,57.096,69.881,73.5121951219512,76.057,72.144,70.4048780487805,72.057,68.007,73.619,78.364,74.74,68.384,47.312,81.2463414634146,82.2463414634147,78.779,74.409,52.964,55.101,56.909,60.093,75.424,71.062,78.769,79.43,77.4243902439025,79.9878048780488,60.062,79.1,72.046,75.089,70.349,81.6268292682927,75.4292682926829,61.627,79.8707317073171,66.655,61.4,80.4024390243902,61.03,56.861,59.637,54.628,71.481,68.059,76.4756097560976,74.2073170731707,69.205,66.693,80.7439024390244,73.905,81.8975609756097,81.6024390243903,82.0365853658537,74.038,73.428,60.959,69.3,66.56,80.1170731707317,74.358,64.306,78.36,74.852,75.439,73.2682926829268,73.4829268292683,69.616,75.905,75.065,55.251,81.3975609756098,63.525,67.38,52.31,72.9673170731707,55.564,74.493,56.665,57.333,72.428,80.7024390243902,80.9975609756098,67.611,80.7024390243902,65.264,74.41,76.2463414634146,79.0268292682927,72.653,79.108,73.4585365853659,63.433,64.284,81.5414634146342,70.674,49.382,71.21,74.3365853658537,67.43,75.1121951219512,79.4219512195122,81.4512195121951,46.601,73.1975609756098,50.89,57.468,74.184,68.736,67.186,75.041,58.584,57.099,76.75,71.776,74.837,71.663,65.549,57.669,55.655,50.64],\"type\":\"choropleth\"}],\"name\":\"YR2010\"},{\"data\":[{\"coloraxis\":\"coloraxis\",\"geo\":\"geo\",\"hovertemplate\":\"<b>%{hovertext}</b><br><br>Year=YR2015<br>economy=%{location}<br>Life expectancy at birth, total (years)=%{z}<extra></extra>\",\"hovertext\":[\"Afghanistan\",\"Angola\",\"Albania\",\"Argentina\",\"Armenia\",\"Australia\",\"Austria\",\"Azerbaijan\",\"Burundi\",\"Belgium\",\"Benin\",\"Burkina Faso\",\"Bangladesh\",\"Bahrain\",\"Bahamas, The\",\"Belarus\",\"Belize\",\"Bolivia\",\"Brazil\",\"Barbados\",\"Bhutan\",\"Botswana\",\"Central African Republic\",\"Switzerland\",\"Chile\",\"China\",\"Cote d'Ivoire\",\"Cameroon\",\"Congo, Dem. Rep.\",\"Congo, Rep.\",\"Colombia\",\"Comoros\",\"Cabo Verde\",\"Costa Rica\",\"Cyprus\",\"Czechia\",\"Germany\",\"Djibouti\",\"Dominican Republic\",\"Ecuador\",\"Egypt, Arab Rep.\",\"Spain\",\"Estonia\",\"Ethiopia\",\"Finland\",\"Fiji\",\"Micronesia, Fed. Sts.\",\"Gabon\",\"United Kingdom\",\"Ghana\",\"Guinea\",\"Gambia, The\",\"Guinea-Bissau\",\"Greece\",\"Guatemala\",\"Guyana\",\"Honduras\",\"Haiti\",\"Hungary\",\"Indonesia\",\"India\",\"Ireland\",\"Iran, Islamic Rep.\",\"Iraq\",\"Iceland\",\"Israel\",\"Italy\",\"Jamaica\",\"Jordan\",\"Kazakhstan\",\"Kenya\",\"Kyrgyz Republic\",\"Kiribati\",\"Kuwait\",\"Lebanon\",\"St. Lucia\",\"Sri Lanka\",\"Lesotho\",\"Lithuania\",\"Luxembourg\",\"Latvia\",\"Moldova\",\"Madagascar\",\"Maldives\",\"Mexico\",\"Mali\",\"Malta\",\"Myanmar\",\"Mongolia\",\"Mozambique\",\"Mauritius\",\"Malawi\",\"Malaysia\",\"Namibia\",\"Niger\",\"Nigeria\",\"Nicaragua\",\"Netherlands\",\"Norway\",\"Nepal\",\"New Zealand\",\"Pakistan\",\"Panama\",\"Peru\",\"Philippines\",\"Poland\",\"Portugal\",\"Paraguay\",\"Romania\",\"Russian Federation\",\"Rwanda\",\"Senegal\",\"Singapore\",\"Solomon Islands\",\"El Salvador\",\"Serbia\",\"Sao Tome and Principe\",\"Suriname\",\"Slovak Republic\",\"Slovenia\",\"Sweden\",\"Seychelles\",\"Chad\",\"Togo\",\"Thailand\",\"Tajikistan\",\"Timor-Leste\",\"Trinidad and Tobago\",\"Tunisia\",\"Uganda\",\"Ukraine\",\"Uruguay\",\"United States\",\"Uzbekistan\",\"Vietnam\",\"Vanuatu\",\"Samoa\",\"South Africa\",\"Zambia\",\"Zimbabwe\"],\"locations\":[\"AFG\",\"AGO\",\"ALB\",\"ARG\",\"ARM\",\"AUS\",\"AUT\",\"AZE\",\"BDI\",\"BEL\",\"BEN\",\"BFA\",\"BGD\",\"BHR\",\"BHS\",\"BLR\",\"BLZ\",\"BOL\",\"BRA\",\"BRB\",\"BTN\",\"BWA\",\"CAF\",\"CHE\",\"CHL\",\"CHN\",\"CIV\",\"CMR\",\"COD\",\"COG\",\"COL\",\"COM\",\"CPV\",\"CRI\",\"CYP\",\"CZE\",\"DEU\",\"DJI\",\"DOM\",\"ECU\",\"EGY\",\"ESP\",\"EST\",\"ETH\",\"FIN\",\"FJI\",\"FSM\",\"GAB\",\"GBR\",\"GHA\",\"GIN\",\"GMB\",\"GNB\",\"GRC\",\"GTM\",\"GUY\",\"HND\",\"HTI\",\"HUN\",\"IDN\",\"IND\",\"IRL\",\"IRN\",\"IRQ\",\"ISL\",\"ISR\",\"ITA\",\"JAM\",\"JOR\",\"KAZ\",\"KEN\",\"KGZ\",\"KIR\",\"KWT\",\"LBN\",\"LCA\",\"LKA\",\"LSO\",\"LTU\",\"LUX\",\"LVA\",\"MDA\",\"MDG\",\"MDV\",\"MEX\",\"MLI\",\"MLT\",\"MMR\",\"MNG\",\"MOZ\",\"MUS\",\"MWI\",\"MYS\",\"NAM\",\"NER\",\"NGA\",\"NIC\",\"NLD\",\"NOR\",\"NPL\",\"NZL\",\"PAK\",\"PAN\",\"PER\",\"PHL\",\"POL\",\"PRT\",\"PRY\",\"ROU\",\"RUS\",\"RWA\",\"SEN\",\"SGP\",\"SLB\",\"SLV\",\"SRB\",\"STP\",\"SUR\",\"SVK\",\"SVN\",\"SWE\",\"SYC\",\"TCD\",\"TGO\",\"THA\",\"TJK\",\"TLS\",\"TTO\",\"TUN\",\"UGA\",\"UKR\",\"URY\",\"USA\",\"UZB\",\"VNM\",\"VUT\",\"WSM\",\"ZAF\",\"ZMB\",\"ZWE\"],\"name\":\"\",\"z\":[63.377,59.398,78.025,76.068,74.467,82.4,81.190243902439,72.266,60.123,80.9926829268293,60.608,59.919,71.514,76.762,73.088,73.6243902439025,74.034,70.277,74.994,78.801,70.419,67.338,50.881,82.8975609756098,79.646,75.928,56.065,57.583,59.254,63.097,76.531,63.471,72.117,79.565,80.35,78.5780487804878,80.6414634146341,64.136,73.241,76.143,71.302,82.8317073170732,77.590243902439,65.048,81.4804878048781,67.103,67.315,64.913,80.9560975609756,62.772,59.598,60.91,56.959,81.0365853658537,73.25,69.262,74.495,62.485,75.5682926829269,70.768,68.607,81.4536585365854,75.796,69.929,82.4682926829268,82.0512195121951,82.5439024390244,74.098,74.078,71.97,64.798,70.6512195121951,67.291,75.13,78.768,75.596,76.316,51.038,74.3219512195122,82.2926829268293,74.4804878048781,71.478,65.539,77.691,74.904,57.509,81.8975609756097,65.81,69.111,57.206,74.3531707317073,61.953,75.461,62.119,60.631,53.112,73.649,81.509756097561,82.3048780487805,69.515,81.4568292682927,66.577,77.776,75.792,70.644,77.4512195121951,81.1243902439025,73.662,74.9121951219512,71.1834146341463,67.45,66.747,82.7439024390244,72.173,72.412,75.2878048780488,69.377,71.249,76.5634146341463,80.7756097560976,82.2048780487805,74.2951219512195,53.137,59.927,76.091,70.137,68.459,72.941,75.922,61.373,71.189512195122,77.369,78.690243902439,70.928,75.11,69.869,72.73,62.649,61.737,59.534],\"type\":\"choropleth\"}],\"name\":\"YR2015\"},{\"data\":[{\"coloraxis\":\"coloraxis\",\"geo\":\"geo\",\"hovertemplate\":\"<b>%{hovertext}</b><br><br>Year=YR2000<br>economy=%{location}<br>Life expectancy at birth, total (years)=%{z}<extra></extra>\",\"hovertext\":[\"Angola\",\"Albania\",\"Argentina\",\"Australia\",\"Austria\",\"Azerbaijan\",\"Burundi\",\"Benin\",\"Bangladesh\",\"Bahamas, The\",\"Belize\",\"Brazil\",\"Barbados\",\"Brunei Darussalam\",\"Bhutan\",\"Central African Republic\",\"Canada\",\"Switzerland\",\"Chile\",\"Cote d'Ivoire\",\"Cameroon\",\"Colombia\",\"Costa Rica\",\"Cyprus\",\"Czechia\",\"Djibouti\",\"Denmark\",\"Dominican Republic\",\"Ecuador\",\"Spain\",\"Estonia\",\"Ethiopia\",\"Finland\",\"Fiji\",\"Micronesia, Fed. Sts.\",\"Gabon\",\"United Kingdom\",\"Georgia\",\"Guinea\",\"Gambia, The\",\"Greece\",\"Guyana\",\"Hungary\",\"India\",\"Ireland\",\"Iran, Islamic Rep.\",\"Iceland\",\"Israel\",\"Italy\",\"Jamaica\",\"Kenya\",\"Kyrgyz Republic\",\"Cambodia\",\"Kiribati\",\"Lao PDR\",\"Lesotho\",\"Latvia\",\"Moldova\",\"Madagascar\",\"Mexico\",\"Mali\",\"Mongolia\",\"Mauritius\",\"Malaysia\",\"Namibia\",\"Niger\",\"Nicaragua\",\"Netherlands\",\"Norway\",\"Nepal\",\"Oman\",\"Pakistan\",\"Panama\",\"Peru\",\"Philippines\",\"Palau\",\"Poland\",\"Portugal\",\"Paraguay\",\"Qatar\",\"Romania\",\"Russian Federation\",\"Rwanda\",\"Saudi Arabia\",\"Sudan\",\"Senegal\",\"Singapore\",\"Sierra Leone\",\"El Salvador\",\"Slovak Republic\",\"Sweden\",\"Eswatini\",\"Chad\",\"Togo\",\"Thailand\",\"Tajikistan\",\"Tonga\",\"Trinidad and Tobago\",\"Tunisia\",\"Turkiye\",\"Uganda\",\"Ukraine\",\"Uruguay\",\"St. Vincent and the Grenadines\",\"Vanuatu\",\"Samoa\",\"Yemen, Rep.\",\"Zambia\"],\"locations\":[\"AGO\",\"ALB\",\"ARG\",\"AUS\",\"AUT\",\"AZE\",\"BDI\",\"BEN\",\"BGD\",\"BHS\",\"BLZ\",\"BRA\",\"BRB\",\"BRN\",\"BTN\",\"CAF\",\"CAN\",\"CHE\",\"CHL\",\"CIV\",\"CMR\",\"COL\",\"CRI\",\"CYP\",\"CZE\",\"DJI\",\"DNK\",\"DOM\",\"ECU\",\"ESP\",\"EST\",\"ETH\",\"FIN\",\"FJI\",\"FSM\",\"GAB\",\"GBR\",\"GEO\",\"GIN\",\"GMB\",\"GRC\",\"GUY\",\"HUN\",\"IND\",\"IRL\",\"IRN\",\"ISL\",\"ISR\",\"ITA\",\"JAM\",\"KEN\",\"KGZ\",\"KHM\",\"KIR\",\"LAO\",\"LSO\",\"LVA\",\"MDA\",\"MDG\",\"MEX\",\"MLI\",\"MNG\",\"MUS\",\"MYS\",\"NAM\",\"NER\",\"NIC\",\"NLD\",\"NOR\",\"NPL\",\"OMN\",\"PAK\",\"PAN\",\"PER\",\"PHL\",\"PLW\",\"POL\",\"PRT\",\"PRY\",\"QAT\",\"ROU\",\"RUS\",\"RWA\",\"SAU\",\"SDN\",\"SEN\",\"SGP\",\"SLE\",\"SLV\",\"SVK\",\"SWE\",\"SWZ\",\"TCD\",\"TGO\",\"THA\",\"TJK\",\"TON\",\"TTO\",\"TUN\",\"TUR\",\"UGA\",\"UKR\",\"URY\",\"VCT\",\"VUT\",\"WSM\",\"YEM\",\"ZMB\"],\"name\":\"\",\"z\":[46.522,73.955,73.576,79.2341463414634,78.1268292682927,66.763,49.091,55.391,65.447,71.914,68.847,70.116,77.162,72.809,60.884,44.19,79.1365853658537,79.6804878048781,76.366,49.635,50.993,72.945,77.452,78.009,74.9682926829268,57.022,76.5926829268293,69.429,72.761,78.9658536585366,70.4170731707317,51.941,77.4658536585366,65.687,64.55,58.264,77.7414634146342,69.902,51.203,55.956,77.8878048780488,65.242,71.2463414634146,62.505,76.5365853658537,70.176,79.6536585365854,78.9536585365854,79.7780487804878,74.142,50.921,68.5585365853659,58.432,63.144,58.803,47.691,70.3146341463415,67.006,58.485,74.34,48.069,62.869,71.6634146341463,72.594,52.192,49.928,69.527,77.9878048780488,78.6341463414634,62.288,72.126,62.82,75.06,71.111,68.793,70.4936585365854,73.7487804878049,76.3146341463415,70.546,77.467,71.1634146341463,65.4836585365854,48.649,72.561,58.472,57.787,77.9512195121951,39.441,68.875,73.0512195121951,79.6439024390244,47.49,47.713,53.491,70.623,61.974,69.667,69.413,73.172,70.005,46.229,67.6756097560976,74.731,70.809,67.363,68.748,60.683,44.0],\"type\":\"choropleth\"}],\"name\":\"YR2000\"}]);\n",
       "                        }).then(function(){\n",
       "                            \n",
       "var gd = document.getElementById('1ac1c765-59d0-48f3-8807-4b90ace89e83');\n",
       "var x = new MutationObserver(function (mutations, observer) {{\n",
       "        var display = window.getComputedStyle(gd).display;\n",
       "        if (!display || display === 'none') {{\n",
       "            console.log([gd, 'removed!']);\n",
       "            Plotly.purge(gd);\n",
       "            observer.disconnect();\n",
       "        }}\n",
       "}});\n",
       "\n",
       "// Listen for the removal of the full notebook cells\n",
       "var notebookContainer = gd.closest('#notebook-container');\n",
       "if (notebookContainer) {{\n",
       "    x.observe(notebookContainer, {childList: true});\n",
       "}}\n",
       "\n",
       "// Listen for the clearing of the current output cell\n",
       "var outputEl = gd.closest('.output');\n",
       "if (outputEl) {{\n",
       "    x.observe(outputEl, {childList: true});\n",
       "}}\n",
       "\n",
       "                        })                };                });            </script>        </div>"
      ]
     },
     "metadata": {},
     "output_type": "display_data"
    }
   ],
   "source": [
    "fig = px.choropleth(dataset, locations=\"economy\",\n",
    "                    color=\"Life expectancy at birth, total (years)\", \n",
    "                    hover_name=\"Country Name\", animation_frame=dataset[\"Year\"],\n",
    "                    color_continuous_scale=px.colors.sequential.Plasma)\n",
    "fig.update_layout(transition = {'duration': 1000})\n",
    "fig.show()"
   ]
  },
  {
   "cell_type": "markdown",
   "metadata": {},
   "source": [
    "### Bar Graph to measure Life Expectancy With respect to population and Year"
   ]
  },
  {
   "cell_type": "code",
   "execution_count": 213,
   "metadata": {
    "scrolled": false
   },
   "outputs": [
    {
     "data": {
      "application/vnd.plotly.v1+json": {
       "config": {
        "plotlyServerURL": "https://plot.ly"
       },
       "data": [
        {
         "alignmentgroup": "True",
         "customdata": [
          [
           "Afghanistan",
           58.29,
           242.031313175022
          ],
          [
           "Afghanistan",
           61.028,
           543.306526178281
          ],
          [
           "Afghanistan",
           63.377,
           556.007220861443
          ],
          [
           "Angola",
           46.522,
           556.83618223535
          ],
          [
           "Angola",
           50.165,
           1902.42214975937
          ],
          [
           "Angola",
           55.35,
           3497.9744877961
          ],
          [
           "Angola",
           59.398,
           3127.89059784461
          ],
          [
           "Albania",
           73.955,
           1126.68334010717
          ],
          [
           "Albania",
           75.228,
           2673.78658429559
          ],
          [
           "Albania",
           78.025,
           3952.80253807527
          ],
          [
           "Argentina",
           73.576,
           7708.09911454041
          ],
          [
           "Argentina",
           74.451,
           5109.85224490403
          ],
          [
           "Argentina",
           75.278,
           10385.9644319555
          ],
          [
           "Argentina",
           76.068,
           13789.060424772
          ],
          [
           "Armenia",
           72.626,
           1643.75688889146
          ],
          [
           "Armenia",
           73.331,
           3218.37829927419
          ],
          [
           "Armenia",
           74.467,
           3607.28929855361
          ],
          [
           "Australia",
           79.2341463414634,
           21697.7084797731
          ],
          [
           "Australia",
           80.8414634146341,
           34080.9998953245
          ],
          [
           "Australia",
           81.6951219512195,
           52087.9722888891
          ],
          [
           "Australia",
           82.4,
           56707.0220772116
          ],
          [
           "Austria",
           78.1268292682927,
           24625.6007227434
          ],
          [
           "Austria",
           79.3317073170732,
           38417.4577857677
          ],
          [
           "Austria",
           80.5804878048781,
           46903.7615854343
          ],
          [
           "Austria",
           81.190243902439,
           44195.8175947748
          ],
          [
           "Azerbaijan",
           66.763,
           655.119945170816
          ],
          [
           "Azerbaijan",
           68.747,
           1578.40239029603
          ],
          [
           "Azerbaijan",
           70.938,
           5843.5337683582
          ],
          [
           "Azerbaijan",
           72.266,
           5500.31038244408
          ],
          [
           "Burundi",
           49.091,
           136.46397080034
          ],
          [
           "Burundi",
           53.369,
           151.681566343002
          ],
          [
           "Burundi",
           57.228,
           234.235538877634
          ],
          [
           "Burundi",
           60.123,
           305.511144099475
          ],
          [
           "Belgium",
           78.9804878048781,
           36809.7013403619
          ],
          [
           "Belgium",
           80.1829268292683,
           44184.946353964
          ],
          [
           "Belgium",
           80.9926829268293,
           41008.296719472
          ],
          [
           "Benin",
           55.391,
           512.673901962619
          ],
          [
           "Benin",
           57.355,
           822.785143124704
          ],
          [
           "Benin",
           59.318,
           1036.53451502404
          ],
          [
           "Benin",
           60.608,
           1076.79669785585
          ],
          [
           "Burkina Faso",
           53.31,
           457.933430763383
          ],
          [
           "Burkina Faso",
           57.096,
           647.836095537879
          ],
          [
           "Burkina Faso",
           59.919,
           653.32726813947
          ],
          [
           "Bangladesh",
           65.447,
           418.068942112038
          ],
          [
           "Bangladesh",
           69.881,
           781.153577677298
          ],
          [
           "Bangladesh",
           71.514,
           1248.45330989613
          ],
          [
           "Bulgaria",
           72.5609756097561,
           3899.90763774017
          ],
          [
           "Bulgaria",
           73.5121951219512,
           6853.00285388669
          ],
          [
           "Bahrain",
           76.057,
           20722.0704900745
          ],
          [
           "Bahrain",
           76.762,
           22634.0856475674
          ],
          [
           "Bahamas, The",
           71.914,
           27098.1563186767
          ],
          [
           "Bahamas, The",
           71.987,
           30279.3922080481
          ],
          [
           "Bahamas, The",
           72.144,
           28443.8884756689
          ],
          [
           "Bahamas, The",
           73.088,
           31699.3586317477
          ],
          [
           "Belarus",
           68.8512195121951,
           3125.81053502853
          ],
          [
           "Belarus",
           70.4048780487805,
           6033.6862392722
          ],
          [
           "Belarus",
           73.6243902439025,
           5967.05220384914
          ],
          [
           "Belize",
           68.847,
           3364.49173102584
          ],
          [
           "Belize",
           72.057,
           4304.11110815138
          ],
          [
           "Belize",
           74.034,
           4805.19685237279
          ],
          [
           "Bolivia",
           68.007,
           1955.460180975
          ],
          [
           "Bolivia",
           70.277,
           3035.97165495107
          ],
          [
           "Brazil",
           70.116,
           3749.91084752888
          ],
          [
           "Brazil",
           71.896,
           4790.45656586131
          ],
          [
           "Brazil",
           73.619,
           11286.071540212
          ],
          [
           "Brazil",
           74.994,
           8813.98980647828
          ],
          [
           "Barbados",
           77.162,
           11268.4200640121
          ],
          [
           "Barbados",
           77.915,
           13822.7417486972
          ],
          [
           "Barbados",
           78.364,
           16056.1168470231
          ],
          [
           "Barbados",
           78.801,
           16558.8647849868
          ],
          [
           "Brunei Darussalam",
           72.809,
           18012.5021948953
          ],
          [
           "Brunei Darussalam",
           74.74,
           35270.6421390658
          ],
          [
           "Bhutan",
           60.884,
           718.196336969414
          ],
          [
           "Bhutan",
           65.289,
           1228.43235572338
          ],
          [
           "Bhutan",
           68.384,
           2258.18643535953
          ],
          [
           "Bhutan",
           70.419,
           2752.63017233678
          ],
          [
           "Botswana",
           52.13,
           5513.33106259322
          ],
          [
           "Botswana",
           67.338,
           6402.91018338391
          ],
          [
           "Central African Republic",
           44.19,
           251.832764026789
          ],
          [
           "Central African Republic",
           44.744,
           331.294821098185
          ],
          [
           "Central African Republic",
           47.312,
           488.421735800876
          ],
          [
           "Central African Republic",
           50.881,
           377.422917680195
          ],
          [
           "Canada",
           79.1365853658537,
           24271.0020563821
          ],
          [
           "Canada",
           80.1926829268293,
           36382.5079164537
          ],
          [
           "Canada",
           81.2463414634146,
           47562.0834253057
          ],
          [
           "Switzerland",
           79.6804878048781,
           38952.0342005572
          ],
          [
           "Switzerland",
           81.2365853658537,
           56546.7856553987
          ],
          [
           "Switzerland",
           82.2463414634147,
           77117.126014204
          ],
          [
           "Switzerland",
           82.8975609756098,
           84776.1421659748
          ],
          [
           "Chile",
           76.366,
           5100.25413288222
          ],
          [
           "Chile",
           77.63,
           7558.37175410092
          ],
          [
           "Chile",
           78.779,
           12724.10406267
          ],
          [
           "Chile",
           79.646,
           13495.0106099649
          ],
          [
           "China",
           72.985,
           1753.41782926104
          ],
          [
           "China",
           74.409,
           4550.45310775599
          ],
          [
           "China",
           75.928,
           8016.43143498003
          ],
          [
           "Cote d'Ivoire",
           49.635,
           1007.46738950787
          ],
          [
           "Cote d'Ivoire",
           50.12,
           1309.59165283165
          ],
          [
           "Cote d'Ivoire",
           52.964,
           1701.47570153451
          ],
          [
           "Cote d'Ivoire",
           56.065,
           1972.54568305836
          ],
          [
           "Cameroon",
           50.993,
           681.102042961201
          ],
          [
           "Cameroon",
           52.76,
           1100.17492617744
          ],
          [
           "Cameroon",
           55.101,
           1352.30227450638
          ],
          [
           "Cameroon",
           57.583,
           1382.5097900241
          ],
          [
           "Congo, Dem. Rep.",
           56.909,
           334.02157774666
          ],
          [
           "Congo, Dem. Rep.",
           59.254,
           497.317039077365
          ],
          [
           "Congo, Rep.",
           55.6,
           1835.60990812416
          ],
          [
           "Congo, Rep.",
           60.093,
           3076.55644910171
          ],
          [
           "Congo, Rep.",
           63.097,
           2448.52377758887
          ],
          [
           "Colombia",
           72.945,
           2520.48108876016
          ],
          [
           "Colombia",
           74.265,
           3414.46515834714
          ],
          [
           "Colombia",
           75.424,
           6336.70947398466
          ],
          [
           "Colombia",
           76.531,
           6175.87602970258
          ],
          [
           "Comoros",
           63.471,
           1242.58560784999
          ],
          [
           "Cabo Verde",
           71.062,
           3378.3234334576
          ],
          [
           "Cabo Verde",
           72.117,
           3043.03138156811
          ],
          [
           "Costa Rica",
           77.452,
           3789.05388636246
          ],
          [
           "Costa Rica",
           78.769,
           8227.12749376825
          ],
          [
           "Costa Rica",
           79.565,
           11642.7780517123
          ],
          [
           "Cyprus",
           78.009,
           14388.34765625
          ],
          [
           "Cyprus",
           78.63,
           24959.259765625
          ],
          [
           "Cyprus",
           79.43,
           31023.638671875
          ],
          [
           "Cyprus",
           80.35,
           23408.3359375
          ],
          [
           "Czechia",
           74.9682926829268,
           6029.03819275358
          ],
          [
           "Czechia",
           75.9243902439025,
           13430.6698955613
          ],
          [
           "Czechia",
           77.4243902439025,
           19960.0684872157
          ],
          [
           "Czechia",
           78.5780487804878,
           17829.6983223668
          ],
          [
           "Germany",
           79.9878048780488,
           41572.4559481507
          ],
          [
           "Germany",
           80.6414634146341,
           41103.2564363768
          ],
          [
           "Djibouti",
           57.022,
           768.183570343678
          ],
          [
           "Djibouti",
           57.991,
           904.736679476444
          ],
          [
           "Djibouti",
           60.062,
           1343.27512498519
          ],
          [
           "Djibouti",
           64.136,
           2652.51322808034
          ],
          [
           "Denmark",
           76.5926829268293,
           30743.5476816354
          ],
          [
           "Denmark",
           77.8439024390244,
           48799.8256011275
          ],
          [
           "Denmark",
           79.1,
           58041.3984363385
          ],
          [
           "Dominican Republic",
           69.429,
           2869.17813861021
          ],
          [
           "Dominican Republic",
           72.046,
           5555.39201393816
          ],
          [
           "Dominican Republic",
           73.241,
           6921.52059432776
          ],
          [
           "Ecuador",
           72.761,
           1445.27932442901
          ],
          [
           "Ecuador",
           75.089,
           4633.59128443099
          ],
          [
           "Ecuador",
           76.143,
           6124.49088707134
          ],
          [
           "Egypt, Arab Rep.",
           69.434,
           1186.39331322717
          ],
          [
           "Egypt, Arab Rep.",
           70.349,
           2645.96875877924
          ],
          [
           "Egypt, Arab Rep.",
           71.302,
           3562.93265798423
          ],
          [
           "Spain",
           78.9658536585366,
           14749.6874248766
          ],
          [
           "Spain",
           80.1707317073171,
           26429.1509449319
          ],
          [
           "Spain",
           81.6268292682927,
           30532.4805081656
          ],
          [
           "Spain",
           82.8317073170732,
           25742.3688346767
          ],
          [
           "Estonia",
           70.4170731707317,
           4070.60902410208
          ],
          [
           "Estonia",
           72.5682926829268,
           10412.6443137966
          ],
          [
           "Estonia",
           75.4292682926829,
           14663.0446126465
          ],
          [
           "Estonia",
           77.590243902439,
           17402.0376128079
          ],
          [
           "Ethiopia",
           51.941,
           124.460790874921
          ],
          [
           "Ethiopia",
           61.627,
           341.554122699663
          ],
          [
           "Ethiopia",
           65.048,
           640.541923075422
          ],
          [
           "Finland",
           77.4658536585366,
           24345.9148217032
          ],
          [
           "Finland",
           78.8170731707317,
           39054.8504423825
          ],
          [
           "Finland",
           79.8707317073171,
           46505.3031791811
          ],
          [
           "Finland",
           81.4804878048781,
           42801.9081167285
          ],
          [
           "Fiji",
           65.687,
           2069.31745471458
          ],
          [
           "Fiji",
           66.313,
           3627.63285585254
          ],
          [
           "Fiji",
           66.655,
           3652.53593320954
          ],
          [
           "Fiji",
           67.103,
           5390.71420703085
          ],
          [
           "Micronesia, Fed. Sts.",
           64.55,
           2171.88957683534
          ],
          [
           "Micronesia, Fed. Sts.",
           67.315,
           2906.61701228808
          ],
          [
           "Gabon",
           58.264,
           4135.99238007722
          ],
          [
           "Gabon",
           61.4,
           8849.32260799167
          ],
          [
           "Gabon",
           64.913,
           7384.70070393071
          ],
          [
           "United Kingdom",
           77.7414634146342,
           28223.0675706515
          ],
          [
           "United Kingdom",
           79.0487804878049,
           42132.0907219815
          ],
          [
           "United Kingdom",
           80.4024390243902,
           39688.6149684498
          ],
          [
           "United Kingdom",
           80.9560975609756,
           45404.5677734722
          ],
          [
           "Georgia",
           69.902,
           749.908534993961
          ],
          [
           "Georgia",
           70.538,
           1642.76093756395
          ],
          [
           "Ghana",
           58.719,
           492.54405617264
          ],
          [
           "Ghana",
           61.03,
           1299.34521164062
          ],
          [
           "Ghana",
           62.772,
           1774.07477092508
          ],
          [
           "Guinea",
           51.203,
           363.482279266615
          ],
          [
           "Guinea",
           53.238,
           322.415540033465
          ],
          [
           "Guinea",
           56.861,
           672.424930359396
          ],
          [
           "Guinea",
           59.598,
           769.255475432822
          ],
          [
           "Gambia, The",
           55.956,
           594.149388499649
          ],
          [
           "Gambia, The",
           57.939,
           665.720215700547
          ],
          [
           "Gambia, The",
           59.637,
           860.636433851486
          ],
          [
           "Gambia, The",
           60.91,
           660.723571244322
          ],
          [
           "Guinea-Bissau",
           54.628,
           558.174668134758
          ],
          [
           "Guinea-Bissau",
           56.959,
           603.399381547733
          ],
          [
           "Greece",
           77.8878048780488,
           12072.9293569196
          ],
          [
           "Greece",
           79.2390243902439,
           22560.1472939077
          ],
          [
           "Greece",
           81.0365853658537,
           18083.8779056547
          ],
          [
           "Guatemala",
           71.481,
           2852.54732650116
          ],
          [
           "Guatemala",
           73.25,
           3994.63691288475
          ],
          [
           "Guyana",
           65.242,
           954.400318095334
          ],
          [
           "Guyana",
           66.694,
           1105.50682477118
          ],
          [
           "Guyana",
           68.059,
           4580.69876204788
          ],
          [
           "Guyana",
           69.262,
           5576.82585151355
          ],
          [
           "Honduras",
           74.495,
           2302.20441093316
          ],
          [
           "Croatia",
           76.4756097560976,
           14067.5231191915
          ],
          [
           "Haiti",
           62.485,
           1386.85419078846
          ],
          [
           "Hungary",
           71.2463414634146,
           4624.28165670295
          ],
          [
           "Hungary",
           72.6487804878049,
           11225.9325815328
          ],
          [
           "Hungary",
           74.2073170731707,
           13223.0830027699
          ],
          [
           "Hungary",
           75.5682926829269,
           12720.7120220668
          ],
          [
           "Indonesia",
           67.334,
           1263.28733171098
          ],
          [
           "Indonesia",
           69.205,
           3122.36267319362
          ],
          [
           "Indonesia",
           70.768,
           3331.69511469189
          ],
          [
           "India",
           62.505,
           443.314193811316
          ],
          [
           "India",
           64.5,
           714.8610153644
          ],
          [
           "India",
           66.693,
           1357.5637268318
          ],
          [
           "India",
           68.607,
           1605.60544457087
          ],
          [
           "Ireland",
           76.5365853658537,
           26334.5672050501
          ],
          [
           "Ireland",
           78.9439024390244,
           50933.0216095589
          ],
          [
           "Ireland",
           80.7439024390244,
           48655.3661626634
          ],
          [
           "Ireland",
           81.4536585365854,
           62012.4849258149
          ],
          [
           "Iran, Islamic Rep.",
           70.176,
           1670.0096735653
          ],
          [
           "Iran, Islamic Rep.",
           71.917,
           3246.05112244352
          ],
          [
           "Iran, Islamic Rep.",
           73.905,
           6599.66093791004
          ],
          [
           "Iran, Islamic Rep.",
           75.796,
           5200.68078673413
          ],
          [
           "Iraq",
           69.929,
           4688.31801743466
          ],
          [
           "Iceland",
           79.6536585365854,
           32096.3722613695
          ],
          [
           "Iceland",
           81.5024390243902,
           56794.8501588953
          ],
          [
           "Iceland",
           81.8975609756097,
           43237.0729488958
          ],
          [
           "Iceland",
           82.4682926829268,
           52951.6815110898
          ],
          [
           "Israel",
           78.9536585365854,
           21061.4822833993
          ],
          [
           "Israel",
           80.1512195121951,
           20585.1386127162
          ],
          [
           "Israel",
           81.6024390243903,
           30780.0238155167
          ],
          [
           "Israel",
           82.0512195121951,
           35808.4364289727
          ],
          [
           "Italy",
           79.7780487804878,
           20137.5912217673
          ],
          [
           "Italy",
           80.7829268292683,
           32055.0920757503
          ],
          [
           "Italy",
           82.0365853658537,
           36035.6449950691
          ],
          [
           "Italy",
           82.5439024390244,
           30242.3861352184
          ],
          [
           "Jamaica",
           74.142,
           3392.12387809462
          ],
          [
           "Jamaica",
           74.148,
           4103.6016371324
          ],
          [
           "Jamaica",
           74.038,
           4704.04775962425
          ],
          [
           "Jamaica",
           74.098,
           4907.927415189
          ],
          [
           "Jordan",
           72.595,
           2183.39464250953
          ],
          [
           "Jordan",
           73.428,
           3736.64546207921
          ],
          [
           "Jordan",
           74.078,
           4164.10876894014
          ],
          [
           "Kazakhstan",
           65.86,
           3771.27895733845
          ],
          [
           "Kazakhstan",
           71.97,
           10510.7718884149
          ],
          [
           "Kenya",
           50.921,
           397.482658777519
          ],
          [
           "Kenya",
           54.732,
           511.616394301253
          ],
          [
           "Kenya",
           60.959,
           1080.29618449063
          ],
          [
           "Kenya",
           64.798,
           1464.55400904329
          ],
          [
           "Kyrgyz Republic",
           68.5585365853659,
           279.619569260939
          ],
          [
           "Kyrgyz Republic",
           67.9560975609756,
           476.552129968975
          ],
          [
           "Kyrgyz Republic",
           69.3,
           880.037775119109
          ],
          [
           "Kyrgyz Republic",
           70.6512195121951,
           1121.08283510739
          ],
          [
           "Cambodia",
           58.432,
           300.613679010462
          ],
          [
           "Cambodia",
           66.56,
           785.50266705782
          ],
          [
           "Kiribati",
           63.144,
           796.803203566513
          ],
          [
           "Kiribati",
           67.291,
           1535.16278257963
          ],
          [
           "Korea, Rep.",
           80.1170731707317,
           23087.2256438476
          ],
          [
           "Kuwait",
           73.538,
           35591.0371337921
          ],
          [
           "Kuwait",
           74.358,
           38577.4982788212
          ],
          [
           "Kuwait",
           75.13,
           29869.552753237
          ],
          [
           "Lao PDR",
           58.803,
           325.186937142965
          ],
          [
           "Lao PDR",
           61.625,
           475.610796203932
          ],
          [
           "Lao PDR",
           64.306,
           1141.23570253091
          ],
          [
           "Lebanon",
           76.865,
           4575.10745896031
          ],
          [
           "Lebanon",
           78.36,
           7761.64148945415
          ],
          [
           "Lebanon",
           78.768,
           7643.00871833192
          ],
          [
           "St. Lucia",
           74.122,
           6949.20417333029
          ],
          [
           "St. Lucia",
           74.852,
           8540.07097992462
          ],
          [
           "St. Lucia",
           75.596,
           10093.6180163617
          ],
          [
           "Sri Lanka",
           74.695,
           1248.69818517034
          ],
          [
           "Sri Lanka",
           75.439,
           2799.64873802555
          ],
          [
           "Sri Lanka",
           76.316,
           3843.78067184442
          ],
          [
           "Lesotho",
           47.691,
           436.488137266071
          ],
          [
           "Lesotho",
           42.658,
           842.812630961302
          ],
          [
           "Lesotho",
           51.038,
           1146.06468787308
          ],
          [
           "Lithuania",
           71.2536585365854,
           7854.76527867855
          ],
          [
           "Lithuania",
           73.2682926829268,
           11987.508411647
          ],
          [
           "Lithuania",
           74.3219512195122,
           14263.9645773495
          ],
          [
           "Luxembourg",
           82.2926829268293,
           105462.012584423
          ],
          [
           "Latvia",
           70.3146341463415,
           3361.64086880275
          ],
          [
           "Latvia",
           73.4829268292683,
           11420.9940032836
          ],
          [
           "Latvia",
           74.4804878048781,
           13786.4567953114
          ],
          [
           "Moldova",
           67.006,
           440.672030653269
          ],
          [
           "Moldova",
           67.82,
           1034.70705816743
          ],
          [
           "Moldova",
           69.616,
           2437.53768326452
          ],
          [
           "Moldova",
           71.478,
           2732.46072997894
          ],
          [
           "Madagascar",
           58.485,
           293.607157402594
          ],
          [
           "Madagascar",
           61.212,
           319.537475081164
          ],
          [
           "Madagascar",
           65.539,
           467.235431614314
          ],
          [
           "Maldives",
           73.612,
           3640.0121322011
          ],
          [
           "Maldives",
           75.905,
           7076.73982087196
          ],
          [
           "Maldives",
           77.691,
           9033.41027034576
          ],
          [
           "Mexico",
           74.34,
           7157.81449985734
          ],
          [
           "Mexico",
           75.3,
           8277.67156384567
          ],
          [
           "Mexico",
           75.065,
           9271.39839576997
          ],
          [
           "Mexico",
           74.904,
           9616.64555810607
          ],
          [
           "Mali",
           48.069,
           270.54300662038
          ],
          [
           "Mali",
           52.057,
           489.022855550956
          ],
          [
           "Mali",
           55.251,
           710.274303600905
          ],
          [
           "Mali",
           57.509,
           751.472889186889
          ],
          [
           "Malta",
           81.3975609756098,
           21799.1742559798
          ],
          [
           "Malta",
           81.8975609756097,
           24921.6036820869
          ],
          [
           "Myanmar",
           63.525,
           746.945359978558
          ],
          [
           "Myanmar",
           65.81,
           1196.74333308526
          ],
          [
           "Mongolia",
           62.869,
           474.217094319837
          ],
          [
           "Mongolia",
           67.38,
           2643.28708316435
          ],
          [
           "Mongolia",
           69.111,
           3875.32167504717
          ],
          [
           "Mozambique",
           50.387,
           416.809824183966
          ],
          [
           "Mozambique",
           52.31,
           471.904360009894
          ],
          [
           "Mozambique",
           57.206,
           589.85943137707
          ],
          [
           "Mauritius",
           71.6634146341463,
           3929.07549503364
          ],
          [
           "Mauritius",
           72.4321951219512,
           5282.90602155635
          ],
          [
           "Mauritius",
           72.9673170731707,
           8000.37643182154
          ],
          [
           "Mauritius",
           74.3531707317073,
           9260.44730250635
          ],
          [
           "Malawi",
           55.564,
           478.668688469613
          ],
          [
           "Malawi",
           61.953,
           380.596987683774
          ],
          [
           "Malaysia",
           72.594,
           4043.66292312877
          ],
          [
           "Malaysia",
           74.493,
           9040.56849464524
          ],
          [
           "Malaysia",
           75.461,
           9955.24272167626
          ],
          [
           "Namibia",
           52.192,
           2185.60411519312
          ],
          [
           "Namibia",
           56.665,
           5394.99671166874
          ],
          [
           "Namibia",
           62.119,
           4896.61526001377
          ],
          [
           "Niger",
           49.928,
           197.832683441643
          ],
          [
           "Niger",
           57.333,
           476.869532167304
          ],
          [
           "Niger",
           60.631,
           484.153137350801
          ],
          [
           "Nigeria",
           53.112,
           2687.48005643212
          ],
          [
           "Nicaragua",
           69.527,
           1007.499838655
          ],
          [
           "Nicaragua",
           72.428,
           1503.87223074992
          ],
          [
           "Nicaragua",
           73.649,
           2049.8516660809
          ],
          [
           "Netherlands",
           77.9878048780488,
           26214.498549887
          ],
          [
           "Netherlands",
           79.3463414634146,
           41994.7135305232
          ],
          [
           "Netherlands",
           80.7024390243902,
           50999.7451168879
          ],
          [
           "Netherlands",
           81.509756097561,
           45193.4032187971
          ],
          [
           "Norway",
           78.6341463414634,
           38131.4606116242
          ],
          [
           "Norway",
           80.0414634146342,
           66810.478520868
          ],
          [
           "Norway",
           80.9975609756098,
           87693.7900658099
          ],
          [
           "Norway",
           82.3048780487805,
           74355.5158575643
          ],
          [
           "Nepal",
           62.288,
           229.490392563225
          ],
          [
           "Nepal",
           65.264,
           315.805629997361
          ],
          [
           "Nepal",
           67.611,
           592.401207101201
          ],
          [
           "Nepal",
           69.515,
           901.74960773293
          ],
          [
           "New Zealand",
           79.8512195121951,
           27751.0654708859
          ],
          [
           "New Zealand",
           80.7024390243902,
           33676.7741239925
          ],
          [
           "New Zealand",
           81.4568292682927,
           38630.7265886928
          ],
          [
           "Oman",
           72.126,
           8601.27194448996
          ],
          [
           "Oman",
           74.23,
           12377.0800076389
          ],
          [
           "Pakistan",
           62.82,
           576.195580353518
          ],
          [
           "Pakistan",
           63.951,
           748.922589270883
          ],
          [
           "Pakistan",
           65.264,
           987.409712037523
          ],
          [
           "Pakistan",
           66.577,
           1356.66783065763
          ],
          [
           "Panama",
           75.06,
           4060.31779345702
          ],
          [
           "Panama",
           77.776,
           13630.3011472878
          ],
          [
           "Peru",
           71.111,
           1955.58800627896
          ],
          [
           "Peru",
           72.908,
           2729.49917213529
          ],
          [
           "Peru",
           74.41,
           5082.35370614454
          ],
          [
           "Peru",
           75.792,
           6229.10067398112
          ],
          [
           "Philippines",
           68.793,
           1072.80175248718
          ],
          [
           "Philippines",
           69.112,
           1244.34874065936
          ],
          [
           "Philippines",
           70.644,
           3001.04318170863
          ],
          [
           "Palau",
           70.4936585365854,
           7657.95121440536
          ],
          [
           "Poland",
           73.7487804878049,
           4501.45406742273
          ],
          [
           "Poland",
           74.9951219512195,
           8021.50574346795
          ],
          [
           "Poland",
           76.2463414634146,
           12613.0109954681
          ],
          [
           "Poland",
           77.4512195121951,
           12578.4954734362
          ],
          [
           "Portugal",
           76.3146341463415,
           11526.3720667968
          ],
          [
           "Portugal",
           78.0707317073171,
           18780.12751241
          ],
          [
           "Portugal",
           79.0268292682927,
           22520.6423124045
          ],
          [
           "Portugal",
           81.1243902439025,
           19250.1065376852
          ],
          [
           "Paraguay",
           70.546,
           1663.60493919986
          ],
          [
           "Paraguay",
           72.653,
           4342.06584459985
          ],
          [
           "Paraguay",
           73.662,
           5413.77602061858
          ],
          [
           "Qatar",
           77.467,
           29976.1676344676
          ],
          [
           "Qatar",
           78.252,
           51455.9509428993
          ],
          [
           "Qatar",
           79.108,
           67403.0876779676
          ],
          [
           "Romania",
           71.1634146341463,
           1659.90763954548
          ],
          [
           "Romania",
           71.9121951219512,
           4617.92901643258
          ],
          [
           "Romania",
           73.4585365853659,
           8214.07689289811
          ],
          [
           "Romania",
           74.9121951219512,
           8969.14892146193
          ],
          [
           "Russian Federation",
           65.4836585365854,
           1771.59411621094
          ],
          [
           "Russian Federation",
           65.529756097561,
           5323.462890625
          ],
          [
           "Russian Federation",
           71.1834146341463,
           9313.013671875
          ],
          [
           "Rwanda",
           48.649,
           260.607654653932
          ],
          [
           "Rwanda",
           63.433,
           609.754297393961
          ],
          [
           "Rwanda",
           67.45,
           751.110505478611
          ],
          [
           "Saudi Arabia",
           72.561,
           9171.33147630515
          ],
          [
           "Saudi Arabia",
           73.256,
           13791.454761932
          ],
          [
           "Sudan",
           58.472,
           366.172729492188
          ],
          [
           "Sudan",
           60.525,
           914.16650390625
          ],
          [
           "Senegal",
           57.787,
           613.732384491775
          ],
          [
           "Senegal",
           60.62,
           992.688058138543
          ],
          [
           "Senegal",
           64.284,
           1271.58328084525
          ],
          [
           "Senegal",
           66.747,
           1219.24941513302
          ],
          [
           "Singapore",
           77.9512195121951,
           23852.3270285975
          ],
          [
           "Singapore",
           79.990243902439,
           29961.2632774569
          ],
          [
           "Singapore",
           81.5414634146342,
           47236.9602345421
          ],
          [
           "Singapore",
           82.7439024390244,
           55646.6187469505
          ],
          [
           "Solomon Islands",
           70.674,
           1604.14888755803
          ],
          [
           "Solomon Islands",
           72.173,
           2167.15539406206
          ],
          [
           "Sierra Leone",
           39.441,
           138.698722497148
          ],
          [
           "Sierra Leone",
           44.502,
           292.349066330563
          ],
          [
           "Sierra Leone",
           49.382,
           401.834876099443
          ],
          [
           "El Salvador",
           68.875,
           2001.54004887966
          ],
          [
           "El Salvador",
           70.124,
           2428.56887928932
          ],
          [
           "El Salvador",
           71.21,
           2983.2288061357
          ],
          [
           "El Salvador",
           72.412,
           3705.57970353453
          ],
          [
           "Serbia",
           74.3365853658537,
           5735.42285659849
          ],
          [
           "Serbia",
           75.2878048780488,
           5588.98072768556
          ],
          [
           "Sao Tome and Principe",
           64.659,
           866.504995638803
          ],
          [
           "Sao Tome and Principe",
           67.43,
           1090.26076257543
          ],
          [
           "Sao Tome and Principe",
           69.377,
           1584.77565743788
          ],
          [
           "Suriname",
           71.249,
           9168.23715664009
          ],
          [
           "Slovak Republic",
           73.0512195121951,
           5426.62428119306
          ],
          [
           "Slovak Republic",
           73.9048780487805,
           11690.1134689407
          ],
          [
           "Slovak Republic",
           75.1121951219512,
           16841.7677398734
          ],
          [
           "Slovak Republic",
           76.5634146341463,
           16342.2162621093
          ],
          [
           "Slovenia",
           77.6121951219512,
           18098.9085440003
          ],
          [
           "Slovenia",
           79.4219512195122,
           23532.4808545468
          ],
          [
           "Slovenia",
           80.7756097560976,
           20890.1664304173
          ],
          [
           "Sweden",
           79.6439024390244,
           29624.9126748618
          ],
          [
           "Sweden",
           80.5463414634146,
           43437.0631164776
          ],
          [
           "Sweden",
           81.4512195121951,
           52869.0442891587
          ],
          [
           "Sweden",
           82.2048780487805,
           51545.4836095322
          ],
          [
           "Eswatini",
           47.49,
           1728.71049762741
          ],
          [
           "Eswatini",
           42.518,
           3083.83814075588
          ],
          [
           "Eswatini",
           46.601,
           4168.48940292685
          ],
          [
           "Seychelles",
           73.1975609756098,
           10804.7232956282
          ],
          [
           "Seychelles",
           74.2951219512195,
           15157.5018256876
          ],
          [
           "Chad",
           47.713,
           166.175708881786
          ],
          [
           "Chad",
           48.549,
           658.566973042801
          ],
          [
           "Chad",
           50.89,
           892.568869694168
          ],
          [
           "Chad",
           53.137,
           776.019752284262
          ],
          [
           "Togo",
           53.491,
           302.958591951416
          ],
          [
           "Togo",
           54.602,
           406.562366042383
          ],
          [
           "Togo",
           57.468,
           534.04478262418
          ],
          [
           "Togo",
           59.927,
           570.909967175308
          ],
          [
           "Thailand",
           70.623,
           2007.7352707452
          ],
          [
           "Thailand",
           72.099,
           2894.06265596401
          ],
          [
           "Thailand",
           74.184,
           5076.33987220163
          ],
          [
           "Thailand",
           76.091,
           5840.05306687798
          ],
          [
           "Tajikistan",
           61.974,
           138.429146735759
          ],
          [
           "Tajikistan",
           66.08,
           340.583183232527
          ],
          [
           "Tajikistan",
           68.736,
           749.552412285997
          ],
          [
           "Tajikistan",
           70.137,
           978.404981180605
          ],
          [
           "Timor-Leste",
           67.186,
           806.41434929681
          ],
          [
           "Timor-Leste",
           68.459,
           1332.79185551378
          ],
          [
           "Tonga",
           69.667,
           2091.11300904714
          ],
          [
           "Trinidad and Tobago",
           69.413,
           6435.13421201268
          ],
          [
           "Trinidad and Tobago",
           72.941,
           18383.5386974985
          ],
          [
           "Tunisia",
           73.172,
           2211.8350154787
          ],
          [
           "Tunisia",
           74.217,
           3193.20435786446
          ],
          [
           "Tunisia",
           75.041,
           4344.61941760278
          ],
          [
           "Tunisia",
           75.922,
           4094.84160230737
          ],
          [
           "Turkiye",
           70.005,
           4337.47800296354
          ],
          [
           "Tanzania",
           54.349,
           492.63134765625
          ],
          [
           "Tanzania",
           58.584,
           743.403686523438
          ],
          [
           "Uganda",
           46.229,
           261.869141644962
          ],
          [
           "Uganda",
           57.099,
           822.539372481326
          ],
          [
           "Uganda",
           61.373,
           847.267628934983
          ],
          [
           "Ukraine",
           67.6756097560976,
           658.3486328125
          ],
          [
           "Ukraine",
           67.9568292682927,
           1894.47082519531
          ],
          [
           "Ukraine",
           71.189512195122,
           2124.66235351563
          ],
          [
           "Uruguay",
           74.731,
           6875.02546946372
          ],
          [
           "Uruguay",
           75.826,
           5226.94409982496
          ],
          [
           "Uruguay",
           76.75,
           11992.0237658273
          ],
          [
           "Uruguay",
           77.369,
           15613.7459681824
          ],
          [
           "United States",
           78.690243902439,
           56762.7294515989
          ],
          [
           "Uzbekistan",
           70.928,
           2753.97107219949
          ],
          [
           "St. Vincent and the Grenadines",
           70.809,
           3970.29362248818
          ],
          [
           "St. Vincent and the Grenadines",
           71.331,
           5339.3935508934
          ],
          [
           "St. Vincent and the Grenadines",
           71.776,
           6654.79290746741
          ],
          [
           "Vietnam",
           74.837,
           1673.3292888042
          ],
          [
           "Vietnam",
           75.11,
           2581.62244157361
          ],
          [
           "Vanuatu",
           67.363,
           1470.63586995743
          ],
          [
           "Vanuatu",
           69.869,
           2695.66618597973
          ],
          [
           "Samoa",
           68.748,
           1483.80741460389
          ],
          [
           "Samoa",
           71.663,
           3566.45833371884
          ],
          [
           "Samoa",
           72.73,
           4073.72908299755
          ],
          [
           "Yemen, Rep.",
           60.683,
           554.448665276054
          ],
          [
           "Yemen, Rep.",
           65.549,
           1334.78490225941
          ],
          [
           "South Africa",
           53.447,
           6033.10149088554
          ],
          [
           "South Africa",
           57.669,
           8148.9612020223
          ],
          [
           "South Africa",
           62.649,
           6259.83968110571
          ],
          [
           "Zambia",
           44,
           345.689620749861
          ],
          [
           "Zambia",
           48.496,
           702.741118447779
          ],
          [
           "Zambia",
           55.655,
           1489.45908689417
          ],
          [
           "Zambia",
           61.737,
           1338.29092708188
          ],
          [
           "Zimbabwe",
           50.64,
           948.331481033457
          ],
          [
           "Zimbabwe",
           59.534,
           1445.06970213198
          ]
         ],
         "hovertemplate": "Year=%{x}<br>Population=%{y}<br>Country Name=%{customdata[0]}<br>Life expectancy at birth, total (years)=%{marker.color}<br>GDP per capita=%{customdata[2]}<extra></extra>",
         "legendgroup": "",
         "marker": {
          "color": [
           58.29,
           61.028,
           63.377,
           46.522,
           50.165,
           55.35,
           59.398,
           73.955,
           75.228,
           78.025,
           73.576,
           74.451,
           75.278,
           76.068,
           72.626,
           73.331,
           74.467,
           79.2341463414634,
           80.8414634146341,
           81.6951219512195,
           82.4,
           78.1268292682927,
           79.3317073170732,
           80.5804878048781,
           81.190243902439,
           66.763,
           68.747,
           70.938,
           72.266,
           49.091,
           53.369,
           57.228,
           60.123,
           78.9804878048781,
           80.1829268292683,
           80.9926829268293,
           55.391,
           57.355,
           59.318,
           60.608,
           53.31,
           57.096,
           59.919,
           65.447,
           69.881,
           71.514,
           72.5609756097561,
           73.5121951219512,
           76.057,
           76.762,
           71.914,
           71.987,
           72.144,
           73.088,
           68.8512195121951,
           70.4048780487805,
           73.6243902439025,
           68.847,
           72.057,
           74.034,
           68.007,
           70.277,
           70.116,
           71.896,
           73.619,
           74.994,
           77.162,
           77.915,
           78.364,
           78.801,
           72.809,
           74.74,
           60.884,
           65.289,
           68.384,
           70.419,
           52.13,
           67.338,
           44.19,
           44.744,
           47.312,
           50.881,
           79.1365853658537,
           80.1926829268293,
           81.2463414634146,
           79.6804878048781,
           81.2365853658537,
           82.2463414634147,
           82.8975609756098,
           76.366,
           77.63,
           78.779,
           79.646,
           72.985,
           74.409,
           75.928,
           49.635,
           50.12,
           52.964,
           56.065,
           50.993,
           52.76,
           55.101,
           57.583,
           56.909,
           59.254,
           55.6,
           60.093,
           63.097,
           72.945,
           74.265,
           75.424,
           76.531,
           63.471,
           71.062,
           72.117,
           77.452,
           78.769,
           79.565,
           78.009,
           78.63,
           79.43,
           80.35,
           74.9682926829268,
           75.9243902439025,
           77.4243902439025,
           78.5780487804878,
           79.9878048780488,
           80.6414634146341,
           57.022,
           57.991,
           60.062,
           64.136,
           76.5926829268293,
           77.8439024390244,
           79.1,
           69.429,
           72.046,
           73.241,
           72.761,
           75.089,
           76.143,
           69.434,
           70.349,
           71.302,
           78.9658536585366,
           80.1707317073171,
           81.6268292682927,
           82.8317073170732,
           70.4170731707317,
           72.5682926829268,
           75.4292682926829,
           77.590243902439,
           51.941,
           61.627,
           65.048,
           77.4658536585366,
           78.8170731707317,
           79.8707317073171,
           81.4804878048781,
           65.687,
           66.313,
           66.655,
           67.103,
           64.55,
           67.315,
           58.264,
           61.4,
           64.913,
           77.7414634146342,
           79.0487804878049,
           80.4024390243902,
           80.9560975609756,
           69.902,
           70.538,
           58.719,
           61.03,
           62.772,
           51.203,
           53.238,
           56.861,
           59.598,
           55.956,
           57.939,
           59.637,
           60.91,
           54.628,
           56.959,
           77.8878048780488,
           79.2390243902439,
           81.0365853658537,
           71.481,
           73.25,
           65.242,
           66.694,
           68.059,
           69.262,
           74.495,
           76.4756097560976,
           62.485,
           71.2463414634146,
           72.6487804878049,
           74.2073170731707,
           75.5682926829269,
           67.334,
           69.205,
           70.768,
           62.505,
           64.5,
           66.693,
           68.607,
           76.5365853658537,
           78.9439024390244,
           80.7439024390244,
           81.4536585365854,
           70.176,
           71.917,
           73.905,
           75.796,
           69.929,
           79.6536585365854,
           81.5024390243902,
           81.8975609756097,
           82.4682926829268,
           78.9536585365854,
           80.1512195121951,
           81.6024390243903,
           82.0512195121951,
           79.7780487804878,
           80.7829268292683,
           82.0365853658537,
           82.5439024390244,
           74.142,
           74.148,
           74.038,
           74.098,
           72.595,
           73.428,
           74.078,
           65.86,
           71.97,
           50.921,
           54.732,
           60.959,
           64.798,
           68.5585365853659,
           67.9560975609756,
           69.3,
           70.6512195121951,
           58.432,
           66.56,
           63.144,
           67.291,
           80.1170731707317,
           73.538,
           74.358,
           75.13,
           58.803,
           61.625,
           64.306,
           76.865,
           78.36,
           78.768,
           74.122,
           74.852,
           75.596,
           74.695,
           75.439,
           76.316,
           47.691,
           42.658,
           51.038,
           71.2536585365854,
           73.2682926829268,
           74.3219512195122,
           82.2926829268293,
           70.3146341463415,
           73.4829268292683,
           74.4804878048781,
           67.006,
           67.82,
           69.616,
           71.478,
           58.485,
           61.212,
           65.539,
           73.612,
           75.905,
           77.691,
           74.34,
           75.3,
           75.065,
           74.904,
           48.069,
           52.057,
           55.251,
           57.509,
           81.3975609756098,
           81.8975609756097,
           63.525,
           65.81,
           62.869,
           67.38,
           69.111,
           50.387,
           52.31,
           57.206,
           71.6634146341463,
           72.4321951219512,
           72.9673170731707,
           74.3531707317073,
           55.564,
           61.953,
           72.594,
           74.493,
           75.461,
           52.192,
           56.665,
           62.119,
           49.928,
           57.333,
           60.631,
           53.112,
           69.527,
           72.428,
           73.649,
           77.9878048780488,
           79.3463414634146,
           80.7024390243902,
           81.509756097561,
           78.6341463414634,
           80.0414634146342,
           80.9975609756098,
           82.3048780487805,
           62.288,
           65.264,
           67.611,
           69.515,
           79.8512195121951,
           80.7024390243902,
           81.4568292682927,
           72.126,
           74.23,
           62.82,
           63.951,
           65.264,
           66.577,
           75.06,
           77.776,
           71.111,
           72.908,
           74.41,
           75.792,
           68.793,
           69.112,
           70.644,
           70.4936585365854,
           73.7487804878049,
           74.9951219512195,
           76.2463414634146,
           77.4512195121951,
           76.3146341463415,
           78.0707317073171,
           79.0268292682927,
           81.1243902439025,
           70.546,
           72.653,
           73.662,
           77.467,
           78.252,
           79.108,
           71.1634146341463,
           71.9121951219512,
           73.4585365853659,
           74.9121951219512,
           65.4836585365854,
           65.529756097561,
           71.1834146341463,
           48.649,
           63.433,
           67.45,
           72.561,
           73.256,
           58.472,
           60.525,
           57.787,
           60.62,
           64.284,
           66.747,
           77.9512195121951,
           79.990243902439,
           81.5414634146342,
           82.7439024390244,
           70.674,
           72.173,
           39.441,
           44.502,
           49.382,
           68.875,
           70.124,
           71.21,
           72.412,
           74.3365853658537,
           75.2878048780488,
           64.659,
           67.43,
           69.377,
           71.249,
           73.0512195121951,
           73.9048780487805,
           75.1121951219512,
           76.5634146341463,
           77.6121951219512,
           79.4219512195122,
           80.7756097560976,
           79.6439024390244,
           80.5463414634146,
           81.4512195121951,
           82.2048780487805,
           47.49,
           42.518,
           46.601,
           73.1975609756098,
           74.2951219512195,
           47.713,
           48.549,
           50.89,
           53.137,
           53.491,
           54.602,
           57.468,
           59.927,
           70.623,
           72.099,
           74.184,
           76.091,
           61.974,
           66.08,
           68.736,
           70.137,
           67.186,
           68.459,
           69.667,
           69.413,
           72.941,
           73.172,
           74.217,
           75.041,
           75.922,
           70.005,
           54.349,
           58.584,
           46.229,
           57.099,
           61.373,
           67.6756097560976,
           67.9568292682927,
           71.189512195122,
           74.731,
           75.826,
           76.75,
           77.369,
           78.690243902439,
           70.928,
           70.809,
           71.331,
           71.776,
           74.837,
           75.11,
           67.363,
           69.869,
           68.748,
           71.663,
           72.73,
           60.683,
           65.549,
           53.447,
           57.669,
           62.649,
           44,
           48.496,
           55.655,
           61.737,
           50.64,
           59.534
          ],
          "coloraxis": "coloraxis",
          "pattern": {
           "shape": ""
          }
         },
         "name": "",
         "offsetgroup": "",
         "orientation": "v",
         "showlegend": false,
         "textposition": "auto",
         "type": "bar",
         "x": [
          "YR2005",
          "YR2010",
          "YR2015",
          "YR2000",
          "YR2005",
          "YR2010",
          "YR2015",
          "YR2000",
          "YR2005",
          "YR2015",
          "YR2000",
          "YR2005",
          "YR2010",
          "YR2015",
          "YR2005",
          "YR2010",
          "YR2015",
          "YR2000",
          "YR2005",
          "YR2010",
          "YR2015",
          "YR2000",
          "YR2005",
          "YR2010",
          "YR2015",
          "YR2000",
          "YR2005",
          "YR2010",
          "YR2015",
          "YR2000",
          "YR2005",
          "YR2010",
          "YR2015",
          "YR2005",
          "YR2010",
          "YR2015",
          "YR2000",
          "YR2005",
          "YR2010",
          "YR2015",
          "YR2005",
          "YR2010",
          "YR2015",
          "YR2000",
          "YR2010",
          "YR2015",
          "YR2005",
          "YR2010",
          "YR2010",
          "YR2015",
          "YR2000",
          "YR2005",
          "YR2010",
          "YR2015",
          "YR2005",
          "YR2010",
          "YR2015",
          "YR2000",
          "YR2010",
          "YR2015",
          "YR2010",
          "YR2015",
          "YR2000",
          "YR2005",
          "YR2010",
          "YR2015",
          "YR2000",
          "YR2005",
          "YR2010",
          "YR2015",
          "YR2000",
          "YR2010",
          "YR2000",
          "YR2005",
          "YR2010",
          "YR2015",
          "YR2005",
          "YR2015",
          "YR2000",
          "YR2005",
          "YR2010",
          "YR2015",
          "YR2000",
          "YR2005",
          "YR2010",
          "YR2000",
          "YR2005",
          "YR2010",
          "YR2015",
          "YR2000",
          "YR2005",
          "YR2010",
          "YR2015",
          "YR2005",
          "YR2010",
          "YR2015",
          "YR2000",
          "YR2005",
          "YR2010",
          "YR2015",
          "YR2000",
          "YR2005",
          "YR2010",
          "YR2015",
          "YR2010",
          "YR2015",
          "YR2005",
          "YR2010",
          "YR2015",
          "YR2000",
          "YR2005",
          "YR2010",
          "YR2015",
          "YR2015",
          "YR2010",
          "YR2015",
          "YR2000",
          "YR2010",
          "YR2015",
          "YR2000",
          "YR2005",
          "YR2010",
          "YR2015",
          "YR2000",
          "YR2005",
          "YR2010",
          "YR2015",
          "YR2010",
          "YR2015",
          "YR2000",
          "YR2005",
          "YR2010",
          "YR2015",
          "YR2000",
          "YR2005",
          "YR2010",
          "YR2000",
          "YR2010",
          "YR2015",
          "YR2000",
          "YR2010",
          "YR2015",
          "YR2005",
          "YR2010",
          "YR2015",
          "YR2000",
          "YR2005",
          "YR2010",
          "YR2015",
          "YR2000",
          "YR2005",
          "YR2010",
          "YR2015",
          "YR2000",
          "YR2010",
          "YR2015",
          "YR2000",
          "YR2005",
          "YR2010",
          "YR2015",
          "YR2000",
          "YR2005",
          "YR2010",
          "YR2015",
          "YR2000",
          "YR2015",
          "YR2000",
          "YR2010",
          "YR2015",
          "YR2000",
          "YR2005",
          "YR2010",
          "YR2015",
          "YR2000",
          "YR2005",
          "YR2005",
          "YR2010",
          "YR2015",
          "YR2000",
          "YR2005",
          "YR2010",
          "YR2015",
          "YR2000",
          "YR2005",
          "YR2010",
          "YR2015",
          "YR2010",
          "YR2015",
          "YR2000",
          "YR2005",
          "YR2015",
          "YR2010",
          "YR2015",
          "YR2000",
          "YR2005",
          "YR2010",
          "YR2015",
          "YR2015",
          "YR2010",
          "YR2015",
          "YR2000",
          "YR2005",
          "YR2010",
          "YR2015",
          "YR2005",
          "YR2010",
          "YR2015",
          "YR2000",
          "YR2005",
          "YR2010",
          "YR2015",
          "YR2000",
          "YR2005",
          "YR2010",
          "YR2015",
          "YR2000",
          "YR2005",
          "YR2010",
          "YR2015",
          "YR2015",
          "YR2000",
          "YR2005",
          "YR2010",
          "YR2015",
          "YR2000",
          "YR2005",
          "YR2010",
          "YR2015",
          "YR2000",
          "YR2005",
          "YR2010",
          "YR2015",
          "YR2000",
          "YR2005",
          "YR2010",
          "YR2015",
          "YR2005",
          "YR2010",
          "YR2015",
          "YR2005",
          "YR2015",
          "YR2000",
          "YR2005",
          "YR2010",
          "YR2015",
          "YR2000",
          "YR2005",
          "YR2010",
          "YR2015",
          "YR2000",
          "YR2010",
          "YR2000",
          "YR2015",
          "YR2010",
          "YR2005",
          "YR2010",
          "YR2015",
          "YR2000",
          "YR2005",
          "YR2010",
          "YR2005",
          "YR2010",
          "YR2015",
          "YR2005",
          "YR2010",
          "YR2015",
          "YR2005",
          "YR2010",
          "YR2015",
          "YR2000",
          "YR2005",
          "YR2015",
          "YR2005",
          "YR2010",
          "YR2015",
          "YR2015",
          "YR2000",
          "YR2010",
          "YR2015",
          "YR2000",
          "YR2005",
          "YR2010",
          "YR2015",
          "YR2000",
          "YR2005",
          "YR2015",
          "YR2005",
          "YR2010",
          "YR2015",
          "YR2000",
          "YR2005",
          "YR2010",
          "YR2015",
          "YR2000",
          "YR2005",
          "YR2010",
          "YR2015",
          "YR2010",
          "YR2015",
          "YR2010",
          "YR2015",
          "YR2000",
          "YR2010",
          "YR2015",
          "YR2005",
          "YR2010",
          "YR2015",
          "YR2000",
          "YR2005",
          "YR2010",
          "YR2015",
          "YR2010",
          "YR2015",
          "YR2000",
          "YR2010",
          "YR2015",
          "YR2000",
          "YR2010",
          "YR2015",
          "YR2000",
          "YR2010",
          "YR2015",
          "YR2015",
          "YR2000",
          "YR2010",
          "YR2015",
          "YR2000",
          "YR2005",
          "YR2010",
          "YR2015",
          "YR2000",
          "YR2005",
          "YR2010",
          "YR2015",
          "YR2000",
          "YR2005",
          "YR2010",
          "YR2015",
          "YR2005",
          "YR2010",
          "YR2015",
          "YR2000",
          "YR2005",
          "YR2000",
          "YR2005",
          "YR2010",
          "YR2015",
          "YR2000",
          "YR2015",
          "YR2000",
          "YR2005",
          "YR2010",
          "YR2015",
          "YR2000",
          "YR2005",
          "YR2015",
          "YR2000",
          "YR2000",
          "YR2005",
          "YR2010",
          "YR2015",
          "YR2000",
          "YR2005",
          "YR2010",
          "YR2015",
          "YR2000",
          "YR2010",
          "YR2015",
          "YR2000",
          "YR2005",
          "YR2010",
          "YR2000",
          "YR2005",
          "YR2010",
          "YR2015",
          "YR2000",
          "YR2005",
          "YR2015",
          "YR2000",
          "YR2010",
          "YR2015",
          "YR2000",
          "YR2005",
          "YR2000",
          "YR2005",
          "YR2000",
          "YR2005",
          "YR2010",
          "YR2015",
          "YR2000",
          "YR2005",
          "YR2010",
          "YR2015",
          "YR2010",
          "YR2015",
          "YR2000",
          "YR2005",
          "YR2010",
          "YR2000",
          "YR2005",
          "YR2010",
          "YR2015",
          "YR2010",
          "YR2015",
          "YR2005",
          "YR2010",
          "YR2015",
          "YR2015",
          "YR2000",
          "YR2005",
          "YR2010",
          "YR2015",
          "YR2005",
          "YR2010",
          "YR2015",
          "YR2000",
          "YR2005",
          "YR2010",
          "YR2015",
          "YR2000",
          "YR2005",
          "YR2010",
          "YR2010",
          "YR2015",
          "YR2000",
          "YR2005",
          "YR2010",
          "YR2015",
          "YR2000",
          "YR2005",
          "YR2010",
          "YR2015",
          "YR2000",
          "YR2005",
          "YR2010",
          "YR2015",
          "YR2000",
          "YR2005",
          "YR2010",
          "YR2015",
          "YR2010",
          "YR2015",
          "YR2000",
          "YR2000",
          "YR2015",
          "YR2000",
          "YR2005",
          "YR2010",
          "YR2015",
          "YR2000",
          "YR2005",
          "YR2010",
          "YR2000",
          "YR2010",
          "YR2015",
          "YR2000",
          "YR2005",
          "YR2015",
          "YR2000",
          "YR2005",
          "YR2010",
          "YR2015",
          "YR2015",
          "YR2015",
          "YR2000",
          "YR2005",
          "YR2010",
          "YR2010",
          "YR2015",
          "YR2000",
          "YR2015",
          "YR2000",
          "YR2010",
          "YR2015",
          "YR2000",
          "YR2010",
          "YR2005",
          "YR2010",
          "YR2015",
          "YR2000",
          "YR2005",
          "YR2010",
          "YR2015",
          "YR2010",
          "YR2015"
         ],
         "xaxis": "x",
         "y": [
          18.86634996,
          35.54101566,
          46.17228869,
          5.36555508,
          28.28505574,
          33.49321036,
          54.25286316,
          48.69450448,
          86.81703828,
          83.49495732,
          320.63082775,
          186.0785116,
          401.21882204,
          505.42655876,
          60.80376976,
          231.87482023,
          302.93554396,
          461.55053709,
          848.56129325,
          1366.94320432,
          1534.69104637,
          586.26494905,
          1014.73097696,
          1325.22504677,
          1270.55566366,
          13.13273335,
          20.52321089,
          84.47678003,
          152.77849988,
          6.36949565,
          6.01945299,
          10.43094475,
          10.33014331,
          872.62887485,
          1089.41598102,
          1033.92438365,
          9.10614845,
          13.63776869,
          15.55759509,
          14.28518296,
          6.09032125,
          11.42022631,
          15.74289494,
          5.42315346,
          14.51739532,
          24.4209882,
          108.24201054,
          216.9423661,
          294.88814479,
          396.36617505,
          616.21510393,
          733.92531538,
          812.67088944,
          900.67246677,
          50.42561896,
          108.26445526,
          140.83690529,
          61.6104022,
          74.27532996,
          82.47186504,
          38.29264168,
          62.02007804,
          181.41732604,
          224.41961186,
          490.78749798,
          444.95777814,
          289.2686165,
          389.40846904,
          481.34375363,
          571.46324012,
          80.50988416,
          66.3821619,
          3.77327129,
          8.1517821,
          12.54553091,
          20.37686074,
          87.29575605,
          98.1711161,
          4.90135866,
          8.31152591,
          11.88384894,
          9.41336493,
          545.1067658,
          888.88368016,
          1524.58514472,
          2542.91744618,
          3912.29502499,
          5211.58743974,
          6397.48435229,
          229.18958351,
          303.67887855,
          458.90183328,
          585.84673361,
          48.17227011,
          89.46375706,
          155.30195835,
          46.04756982,
          53.33010352,
          56.36825796,
          39.33674366,
          22.86322421,
          32.30732729,
          38.99174858,
          39.8094229,
          5.79263399,
          8.69540561,
          16.87773167,
          24.79833792,
          21.38018386,
          33.81672609,
          56.40914357,
          124.17465504,
          135.52916104,
          45.21186574,
          46.41014877,
          44.06326509,
          84.48972807,
          181.49171917,
          241.1979502,
          438.23659668,
          792.22160397,
          1091.15992386,
          894.74642566,
          38.73616224,
          125.96869298,
          231.81296909,
          228.13707059,
          1120.70205753,
          1065.21984195,
          16.616103,
          17.30886212,
          16.60064131,
          17.90697349,
          421.64810754,
          722.21158443,
          969.07615746,
          88.48226182,
          168.32271469,
          206.79623186,
          32.89721223,
          147.30376161,
          193.63724295,
          42.457336,
          75.22799026,
          125.75111181,
          287.9344254,
          586.04994848,
          712.89531032,
          673.82252373,
          50.73545959,
          133.96086663,
          222.34503656,
          272.38504896,
          2.28931226,
          8.06709831,
          13.50965767,
          418.04681372,
          716.52446314,
          911.5267556,
          884.67042658,
          11.78919471,
          22.04019964,
          40.27114318,
          61.53289736,
          8.93372563,
          9.31704853,
          78.38731304,
          77.35082227,
          79.02572098,
          472.36079713,
          664.54517395,
          696.81350055,
          894.62872586,
          42.2246647,
          102.20431738,
          18.24164396,
          25.39234833,
          32.22670946,
          15.29643226,
          14.11091031,
          16.12875048,
          30.90018468,
          8.38113912,
          5.93626869,
          8.36248405,
          7.05475749,
          16.15212024,
          37.72093324,
          339.76360756,
          757.96055824,
          602.52261989,
          110.64300482,
          138.78116453,
          27.95281098,
          33.22696399,
          61.43848764,
          82.21481167,
          95.76490436,
          186.87639988,
          25.6593769,
          97.54484172,
          267.14810862,
          328.10764109,
          280.43536432,
          24.16303676,
          65.7542065,
          58.36979907,
          14.17991876,
          21.67475163,
          32.86493337,
          43.39118121,
          351.86211289,
          832.2244064,
          1222.9041589,
          1276.77984759,
          50.36730041,
          110.37800962,
          301.46119681,
          181.76352484,
          119.96439481,
          558.3044448,
          971.11791493,
          722.91484883,
          821.43145104,
          523.37484945,
          591.31449162,
          802.49225318,
          939.4390798,
          417.06024285,
          602.75504894,
          693.29505019,
          684.02423826,
          82.8906621,
          92.33444705,
          100.33113057,
          97.52197156,
          87.82154519,
          87.86404466,
          141.85545882,
          50.59951145,
          117.32389985,
          12.10070934,
          16.6966074,
          24.58445426,
          29.0961118,
          6.34753853,
          15.37359399,
          26.48136111,
          43.7196369,
          15.40594758,
          35.99677371,
          2.28689628,
          5.01877953,
          555.27116364,
          170.46367822,
          163.26651687,
          190.65027835,
          8.82432405,
          9.30493105,
          21.88963838,
          211.05306517,
          340.17879501,
          294.48048509,
          218.83407275,
          266.19738978,
          257.18919941,
          26.65572335,
          63.23617015,
          81.98848914,
          9.28596532,
          14.01943123,
          17.35675136,
          172.10622289,
          231.44303198,
          309.36539925,
          765.01574184,
          89.41771466,
          274.31158195,
          320.77130262,
          10.08544122,
          34.03249534,
          83.62017094,
          87.96360274,
          6.09617956,
          6.57095372,
          7.33698183,
          206.97915723,
          262.4739046,
          218.75437393,
          174.46147525,
          279.05254142,
          264.78124621,
          263.05719704,
          10.43243399,
          14.96492092,
          19.3904633,
          11.22333425,
          614.14100406,
          878.43102702,
          15.82786422,
          43.46842618,
          6.64507654,
          29.92333783,
          65.15480884,
          2.35534424,
          2.18157505,
          7.24464045,
          54.93170951,
          102.34526085,
          198.14694438,
          294.87740594,
          5.27743899,
          6.36926879,
          59.07546448,
          136.21764529,
          177.65927611,
          93.41639349,
          231.51353914,
          254.54414556,
          6.16438326,
          14.72074287,
          14.1496588,
          72.02040296,
          25.03537578,
          46.0312838,
          61.49630405,
          627.9333852,
          1207.38432948,
          1699.68984673,
          1586.33907695,
          540.17066848,
          946.54039499,
          1200.01637085,
          1095.90027851,
          5.38607529,
          8.27001538,
          20.39336768,
          33.03861994,
          529.08646122,
          698.86586513,
          906.50143943,
          48.08737485,
          56.53700303,
          9.98768752,
          14.6657995,
          18.44697089,
          24.7185381,
          91.44494513,
          340.81080976,
          39.2978598,
          53.32977965,
          113.56249159,
          121.60139812,
          17.06588774,
          29.1938668,
          71.22968562,
          144.6073855,
          75.64861262,
          146.57018538,
          231.83530099,
          246.24087417,
          300.81103545,
          527.19318736,
          755.40985519,
          685.23654537,
          58.51387321,
          142.73394267,
          190.2143013,
          243.76421795,
          331.64465988,
          349.85782764,
          14.49606241,
          50.41336326,
          94.57593435,
          97.54519708,
          38.58432394,
          105.3724807,
          205.6048489,
          3.29606676,
          11.26635484,
          13.07634239,
          107.95023301,
          129.58135791,
          10.07939773,
          23.76941603,
          13.16868644,
          18.23411176,
          30.13409573,
          30.67831456,
          507.6116438,
          609.11919734,
          959.73563153,
          1218.59701283,
          2.82989815,
          2.9821675,
          17.7519438,
          21.7050767,
          28.24533653,
          97.57114343,
          95.39926262,
          90.82721452,
          95.17898146,
          207.76701706,
          205.87700933,
          28.65997935,
          17.46079896,
          14.7833323,
          240.75819925,
          25.47631577,
          149.49778231,
          376.05457995,
          235.74444979,
          402.56093793,
          557.43979046,
          508.70505304,
          337.37917707,
          628.18773816,
          773.34422565,
          897.97304881,
          34.71334706,
          72.3732513,
          90.38565049,
          172.33775673,
          192.70412508,
          6.00771386,
          19.3270201,
          26.54245483,
          21.66391811,
          9.77735089,
          13.90895267,
          21.91453596,
          24.98377714,
          27.89703585,
          33.13270412,
          44.91136123,
          53.05374044,
          4.72634934,
          12.00400887,
          30.30720555,
          40.36810153,
          6.19099918,
          11.53554872,
          13.21575677,
          174.64107638,
          536.06389824,
          52.73721603,
          84.64833954,
          104.91336946,
          117.55604467,
          76.45621357,
          9.85045563,
          12.31982897,
          7.26333607,
          20.0776561,
          16.50463554,
          18.45778165,
          47.74009826,
          80.26514655,
          401.9714611,
          241.4720469,
          411.79502738,
          444.12544895,
          4587.77368905,
          64.39177202,
          47.55922497,
          75.78358431,
          101.8936938,
          45.71716244,
          66.03815805,
          5.14028751,
          12.17368391,
          7.60523097,
          25.89630315,
          27.64481537,
          11.87789358,
          51.68709842,
          199.59613784,
          260.57376768,
          207.79181863,
          12.98572166,
          18.33799201,
          17.59175004,
          9.79281313,
          45.93941672,
          59.14794047
         ],
         "yaxis": "y"
        }
       ],
       "layout": {
        "barmode": "relative",
        "coloraxis": {
         "colorbar": {
          "title": {
           "text": "Life expectancy at birth, total (years)"
          }
         },
         "colorscale": [
          [
           0,
           "#0d0887"
          ],
          [
           0.1111111111111111,
           "#46039f"
          ],
          [
           0.2222222222222222,
           "#7201a8"
          ],
          [
           0.3333333333333333,
           "#9c179e"
          ],
          [
           0.4444444444444444,
           "#bd3786"
          ],
          [
           0.5555555555555556,
           "#d8576b"
          ],
          [
           0.6666666666666666,
           "#ed7953"
          ],
          [
           0.7777777777777778,
           "#fb9f3a"
          ],
          [
           0.8888888888888888,
           "#fdca26"
          ],
          [
           1,
           "#f0f921"
          ]
         ]
        },
        "height": 400,
        "legend": {
         "tracegroupgap": 0
        },
        "margin": {
         "t": 60
        },
        "template": {
         "data": {
          "bar": [
           {
            "error_x": {
             "color": "#2a3f5f"
            },
            "error_y": {
             "color": "#2a3f5f"
            },
            "marker": {
             "line": {
              "color": "#E5ECF6",
              "width": 0.5
             },
             "pattern": {
              "fillmode": "overlay",
              "size": 10,
              "solidity": 0.2
             }
            },
            "type": "bar"
           }
          ],
          "barpolar": [
           {
            "marker": {
             "line": {
              "color": "#E5ECF6",
              "width": 0.5
             },
             "pattern": {
              "fillmode": "overlay",
              "size": 10,
              "solidity": 0.2
             }
            },
            "type": "barpolar"
           }
          ],
          "carpet": [
           {
            "aaxis": {
             "endlinecolor": "#2a3f5f",
             "gridcolor": "white",
             "linecolor": "white",
             "minorgridcolor": "white",
             "startlinecolor": "#2a3f5f"
            },
            "baxis": {
             "endlinecolor": "#2a3f5f",
             "gridcolor": "white",
             "linecolor": "white",
             "minorgridcolor": "white",
             "startlinecolor": "#2a3f5f"
            },
            "type": "carpet"
           }
          ],
          "choropleth": [
           {
            "colorbar": {
             "outlinewidth": 0,
             "ticks": ""
            },
            "type": "choropleth"
           }
          ],
          "contour": [
           {
            "colorbar": {
             "outlinewidth": 0,
             "ticks": ""
            },
            "colorscale": [
             [
              0,
              "#0d0887"
             ],
             [
              0.1111111111111111,
              "#46039f"
             ],
             [
              0.2222222222222222,
              "#7201a8"
             ],
             [
              0.3333333333333333,
              "#9c179e"
             ],
             [
              0.4444444444444444,
              "#bd3786"
             ],
             [
              0.5555555555555556,
              "#d8576b"
             ],
             [
              0.6666666666666666,
              "#ed7953"
             ],
             [
              0.7777777777777778,
              "#fb9f3a"
             ],
             [
              0.8888888888888888,
              "#fdca26"
             ],
             [
              1,
              "#f0f921"
             ]
            ],
            "type": "contour"
           }
          ],
          "contourcarpet": [
           {
            "colorbar": {
             "outlinewidth": 0,
             "ticks": ""
            },
            "type": "contourcarpet"
           }
          ],
          "heatmap": [
           {
            "colorbar": {
             "outlinewidth": 0,
             "ticks": ""
            },
            "colorscale": [
             [
              0,
              "#0d0887"
             ],
             [
              0.1111111111111111,
              "#46039f"
             ],
             [
              0.2222222222222222,
              "#7201a8"
             ],
             [
              0.3333333333333333,
              "#9c179e"
             ],
             [
              0.4444444444444444,
              "#bd3786"
             ],
             [
              0.5555555555555556,
              "#d8576b"
             ],
             [
              0.6666666666666666,
              "#ed7953"
             ],
             [
              0.7777777777777778,
              "#fb9f3a"
             ],
             [
              0.8888888888888888,
              "#fdca26"
             ],
             [
              1,
              "#f0f921"
             ]
            ],
            "type": "heatmap"
           }
          ],
          "heatmapgl": [
           {
            "colorbar": {
             "outlinewidth": 0,
             "ticks": ""
            },
            "colorscale": [
             [
              0,
              "#0d0887"
             ],
             [
              0.1111111111111111,
              "#46039f"
             ],
             [
              0.2222222222222222,
              "#7201a8"
             ],
             [
              0.3333333333333333,
              "#9c179e"
             ],
             [
              0.4444444444444444,
              "#bd3786"
             ],
             [
              0.5555555555555556,
              "#d8576b"
             ],
             [
              0.6666666666666666,
              "#ed7953"
             ],
             [
              0.7777777777777778,
              "#fb9f3a"
             ],
             [
              0.8888888888888888,
              "#fdca26"
             ],
             [
              1,
              "#f0f921"
             ]
            ],
            "type": "heatmapgl"
           }
          ],
          "histogram": [
           {
            "marker": {
             "pattern": {
              "fillmode": "overlay",
              "size": 10,
              "solidity": 0.2
             }
            },
            "type": "histogram"
           }
          ],
          "histogram2d": [
           {
            "colorbar": {
             "outlinewidth": 0,
             "ticks": ""
            },
            "colorscale": [
             [
              0,
              "#0d0887"
             ],
             [
              0.1111111111111111,
              "#46039f"
             ],
             [
              0.2222222222222222,
              "#7201a8"
             ],
             [
              0.3333333333333333,
              "#9c179e"
             ],
             [
              0.4444444444444444,
              "#bd3786"
             ],
             [
              0.5555555555555556,
              "#d8576b"
             ],
             [
              0.6666666666666666,
              "#ed7953"
             ],
             [
              0.7777777777777778,
              "#fb9f3a"
             ],
             [
              0.8888888888888888,
              "#fdca26"
             ],
             [
              1,
              "#f0f921"
             ]
            ],
            "type": "histogram2d"
           }
          ],
          "histogram2dcontour": [
           {
            "colorbar": {
             "outlinewidth": 0,
             "ticks": ""
            },
            "colorscale": [
             [
              0,
              "#0d0887"
             ],
             [
              0.1111111111111111,
              "#46039f"
             ],
             [
              0.2222222222222222,
              "#7201a8"
             ],
             [
              0.3333333333333333,
              "#9c179e"
             ],
             [
              0.4444444444444444,
              "#bd3786"
             ],
             [
              0.5555555555555556,
              "#d8576b"
             ],
             [
              0.6666666666666666,
              "#ed7953"
             ],
             [
              0.7777777777777778,
              "#fb9f3a"
             ],
             [
              0.8888888888888888,
              "#fdca26"
             ],
             [
              1,
              "#f0f921"
             ]
            ],
            "type": "histogram2dcontour"
           }
          ],
          "mesh3d": [
           {
            "colorbar": {
             "outlinewidth": 0,
             "ticks": ""
            },
            "type": "mesh3d"
           }
          ],
          "parcoords": [
           {
            "line": {
             "colorbar": {
              "outlinewidth": 0,
              "ticks": ""
             }
            },
            "type": "parcoords"
           }
          ],
          "pie": [
           {
            "automargin": true,
            "type": "pie"
           }
          ],
          "scatter": [
           {
            "marker": {
             "colorbar": {
              "outlinewidth": 0,
              "ticks": ""
             }
            },
            "type": "scatter"
           }
          ],
          "scatter3d": [
           {
            "line": {
             "colorbar": {
              "outlinewidth": 0,
              "ticks": ""
             }
            },
            "marker": {
             "colorbar": {
              "outlinewidth": 0,
              "ticks": ""
             }
            },
            "type": "scatter3d"
           }
          ],
          "scattercarpet": [
           {
            "marker": {
             "colorbar": {
              "outlinewidth": 0,
              "ticks": ""
             }
            },
            "type": "scattercarpet"
           }
          ],
          "scattergeo": [
           {
            "marker": {
             "colorbar": {
              "outlinewidth": 0,
              "ticks": ""
             }
            },
            "type": "scattergeo"
           }
          ],
          "scattergl": [
           {
            "marker": {
             "colorbar": {
              "outlinewidth": 0,
              "ticks": ""
             }
            },
            "type": "scattergl"
           }
          ],
          "scattermapbox": [
           {
            "marker": {
             "colorbar": {
              "outlinewidth": 0,
              "ticks": ""
             }
            },
            "type": "scattermapbox"
           }
          ],
          "scatterpolar": [
           {
            "marker": {
             "colorbar": {
              "outlinewidth": 0,
              "ticks": ""
             }
            },
            "type": "scatterpolar"
           }
          ],
          "scatterpolargl": [
           {
            "marker": {
             "colorbar": {
              "outlinewidth": 0,
              "ticks": ""
             }
            },
            "type": "scatterpolargl"
           }
          ],
          "scatterternary": [
           {
            "marker": {
             "colorbar": {
              "outlinewidth": 0,
              "ticks": ""
             }
            },
            "type": "scatterternary"
           }
          ],
          "surface": [
           {
            "colorbar": {
             "outlinewidth": 0,
             "ticks": ""
            },
            "colorscale": [
             [
              0,
              "#0d0887"
             ],
             [
              0.1111111111111111,
              "#46039f"
             ],
             [
              0.2222222222222222,
              "#7201a8"
             ],
             [
              0.3333333333333333,
              "#9c179e"
             ],
             [
              0.4444444444444444,
              "#bd3786"
             ],
             [
              0.5555555555555556,
              "#d8576b"
             ],
             [
              0.6666666666666666,
              "#ed7953"
             ],
             [
              0.7777777777777778,
              "#fb9f3a"
             ],
             [
              0.8888888888888888,
              "#fdca26"
             ],
             [
              1,
              "#f0f921"
             ]
            ],
            "type": "surface"
           }
          ],
          "table": [
           {
            "cells": {
             "fill": {
              "color": "#EBF0F8"
             },
             "line": {
              "color": "white"
             }
            },
            "header": {
             "fill": {
              "color": "#C8D4E3"
             },
             "line": {
              "color": "white"
             }
            },
            "type": "table"
           }
          ]
         },
         "layout": {
          "annotationdefaults": {
           "arrowcolor": "#2a3f5f",
           "arrowhead": 0,
           "arrowwidth": 1
          },
          "autotypenumbers": "strict",
          "coloraxis": {
           "colorbar": {
            "outlinewidth": 0,
            "ticks": ""
           }
          },
          "colorscale": {
           "diverging": [
            [
             0,
             "#8e0152"
            ],
            [
             0.1,
             "#c51b7d"
            ],
            [
             0.2,
             "#de77ae"
            ],
            [
             0.3,
             "#f1b6da"
            ],
            [
             0.4,
             "#fde0ef"
            ],
            [
             0.5,
             "#f7f7f7"
            ],
            [
             0.6,
             "#e6f5d0"
            ],
            [
             0.7,
             "#b8e186"
            ],
            [
             0.8,
             "#7fbc41"
            ],
            [
             0.9,
             "#4d9221"
            ],
            [
             1,
             "#276419"
            ]
           ],
           "sequential": [
            [
             0,
             "#0d0887"
            ],
            [
             0.1111111111111111,
             "#46039f"
            ],
            [
             0.2222222222222222,
             "#7201a8"
            ],
            [
             0.3333333333333333,
             "#9c179e"
            ],
            [
             0.4444444444444444,
             "#bd3786"
            ],
            [
             0.5555555555555556,
             "#d8576b"
            ],
            [
             0.6666666666666666,
             "#ed7953"
            ],
            [
             0.7777777777777778,
             "#fb9f3a"
            ],
            [
             0.8888888888888888,
             "#fdca26"
            ],
            [
             1,
             "#f0f921"
            ]
           ],
           "sequentialminus": [
            [
             0,
             "#0d0887"
            ],
            [
             0.1111111111111111,
             "#46039f"
            ],
            [
             0.2222222222222222,
             "#7201a8"
            ],
            [
             0.3333333333333333,
             "#9c179e"
            ],
            [
             0.4444444444444444,
             "#bd3786"
            ],
            [
             0.5555555555555556,
             "#d8576b"
            ],
            [
             0.6666666666666666,
             "#ed7953"
            ],
            [
             0.7777777777777778,
             "#fb9f3a"
            ],
            [
             0.8888888888888888,
             "#fdca26"
            ],
            [
             1,
             "#f0f921"
            ]
           ]
          },
          "colorway": [
           "#636efa",
           "#EF553B",
           "#00cc96",
           "#ab63fa",
           "#FFA15A",
           "#19d3f3",
           "#FF6692",
           "#B6E880",
           "#FF97FF",
           "#FECB52"
          ],
          "font": {
           "color": "#2a3f5f"
          },
          "geo": {
           "bgcolor": "white",
           "lakecolor": "white",
           "landcolor": "#E5ECF6",
           "showlakes": true,
           "showland": true,
           "subunitcolor": "white"
          },
          "hoverlabel": {
           "align": "left"
          },
          "hovermode": "closest",
          "mapbox": {
           "style": "light"
          },
          "paper_bgcolor": "white",
          "plot_bgcolor": "#E5ECF6",
          "polar": {
           "angularaxis": {
            "gridcolor": "white",
            "linecolor": "white",
            "ticks": ""
           },
           "bgcolor": "#E5ECF6",
           "radialaxis": {
            "gridcolor": "white",
            "linecolor": "white",
            "ticks": ""
           }
          },
          "scene": {
           "xaxis": {
            "backgroundcolor": "#E5ECF6",
            "gridcolor": "white",
            "gridwidth": 2,
            "linecolor": "white",
            "showbackground": true,
            "ticks": "",
            "zerolinecolor": "white"
           },
           "yaxis": {
            "backgroundcolor": "#E5ECF6",
            "gridcolor": "white",
            "gridwidth": 2,
            "linecolor": "white",
            "showbackground": true,
            "ticks": "",
            "zerolinecolor": "white"
           },
           "zaxis": {
            "backgroundcolor": "#E5ECF6",
            "gridcolor": "white",
            "gridwidth": 2,
            "linecolor": "white",
            "showbackground": true,
            "ticks": "",
            "zerolinecolor": "white"
           }
          },
          "shapedefaults": {
           "line": {
            "color": "#2a3f5f"
           }
          },
          "ternary": {
           "aaxis": {
            "gridcolor": "white",
            "linecolor": "white",
            "ticks": ""
           },
           "baxis": {
            "gridcolor": "white",
            "linecolor": "white",
            "ticks": ""
           },
           "bgcolor": "#E5ECF6",
           "caxis": {
            "gridcolor": "white",
            "linecolor": "white",
            "ticks": ""
           }
          },
          "title": {
           "x": 0.05
          },
          "xaxis": {
           "automargin": true,
           "gridcolor": "white",
           "linecolor": "white",
           "ticks": "",
           "title": {
            "standoff": 15
           },
           "zerolinecolor": "white",
           "zerolinewidth": 2
          },
          "yaxis": {
           "automargin": true,
           "gridcolor": "white",
           "linecolor": "white",
           "ticks": "",
           "title": {
            "standoff": 15
           },
           "zerolinecolor": "white",
           "zerolinewidth": 2
          }
         }
        },
        "xaxis": {
         "anchor": "y",
         "domain": [
          0,
          1
         ],
         "title": {
          "text": "Year"
         }
        },
        "yaxis": {
         "anchor": "x",
         "domain": [
          0,
          1
         ],
         "title": {
          "text": "Population"
         }
        }
       }
      },
      "text/html": [
       "<div>                            <div id=\"a58431a9-19ce-4808-8975-0ae3b64b262e\" class=\"plotly-graph-div\" style=\"height:400px; width:100%;\"></div>            <script type=\"text/javascript\">                require([\"plotly\"], function(Plotly) {                    window.PLOTLYENV=window.PLOTLYENV || {};                                    if (document.getElementById(\"a58431a9-19ce-4808-8975-0ae3b64b262e\")) {                    Plotly.newPlot(                        \"a58431a9-19ce-4808-8975-0ae3b64b262e\",                        [{\"alignmentgroup\":\"True\",\"customdata\":[[\"Afghanistan\",58.29,242.031313175022],[\"Afghanistan\",61.028,543.306526178281],[\"Afghanistan\",63.377,556.007220861443],[\"Angola\",46.522,556.83618223535],[\"Angola\",50.165,1902.42214975937],[\"Angola\",55.35,3497.9744877961],[\"Angola\",59.398,3127.89059784461],[\"Albania\",73.955,1126.68334010717],[\"Albania\",75.228,2673.78658429559],[\"Albania\",78.025,3952.80253807527],[\"Argentina\",73.576,7708.09911454041],[\"Argentina\",74.451,5109.85224490403],[\"Argentina\",75.278,10385.9644319555],[\"Argentina\",76.068,13789.060424772],[\"Armenia\",72.626,1643.75688889146],[\"Armenia\",73.331,3218.37829927419],[\"Armenia\",74.467,3607.28929855361],[\"Australia\",79.2341463414634,21697.7084797731],[\"Australia\",80.8414634146341,34080.9998953245],[\"Australia\",81.6951219512195,52087.9722888891],[\"Australia\",82.4,56707.0220772116],[\"Austria\",78.1268292682927,24625.6007227434],[\"Austria\",79.3317073170732,38417.4577857677],[\"Austria\",80.5804878048781,46903.7615854343],[\"Austria\",81.190243902439,44195.8175947748],[\"Azerbaijan\",66.763,655.119945170816],[\"Azerbaijan\",68.747,1578.40239029603],[\"Azerbaijan\",70.938,5843.5337683582],[\"Azerbaijan\",72.266,5500.31038244408],[\"Burundi\",49.091,136.46397080034],[\"Burundi\",53.369,151.681566343002],[\"Burundi\",57.228,234.235538877634],[\"Burundi\",60.123,305.511144099475],[\"Belgium\",78.9804878048781,36809.7013403619],[\"Belgium\",80.1829268292683,44184.946353964],[\"Belgium\",80.9926829268293,41008.296719472],[\"Benin\",55.391,512.673901962619],[\"Benin\",57.355,822.785143124704],[\"Benin\",59.318,1036.53451502404],[\"Benin\",60.608,1076.79669785585],[\"Burkina Faso\",53.31,457.933430763383],[\"Burkina Faso\",57.096,647.836095537879],[\"Burkina Faso\",59.919,653.32726813947],[\"Bangladesh\",65.447,418.068942112038],[\"Bangladesh\",69.881,781.153577677298],[\"Bangladesh\",71.514,1248.45330989613],[\"Bulgaria\",72.5609756097561,3899.90763774017],[\"Bulgaria\",73.5121951219512,6853.00285388669],[\"Bahrain\",76.057,20722.0704900745],[\"Bahrain\",76.762,22634.0856475674],[\"Bahamas, The\",71.914,27098.1563186767],[\"Bahamas, The\",71.987,30279.3922080481],[\"Bahamas, The\",72.144,28443.8884756689],[\"Bahamas, The\",73.088,31699.3586317477],[\"Belarus\",68.8512195121951,3125.81053502853],[\"Belarus\",70.4048780487805,6033.6862392722],[\"Belarus\",73.6243902439025,5967.05220384914],[\"Belize\",68.847,3364.49173102584],[\"Belize\",72.057,4304.11110815138],[\"Belize\",74.034,4805.19685237279],[\"Bolivia\",68.007,1955.460180975],[\"Bolivia\",70.277,3035.97165495107],[\"Brazil\",70.116,3749.91084752888],[\"Brazil\",71.896,4790.45656586131],[\"Brazil\",73.619,11286.071540212],[\"Brazil\",74.994,8813.98980647828],[\"Barbados\",77.162,11268.4200640121],[\"Barbados\",77.915,13822.7417486972],[\"Barbados\",78.364,16056.1168470231],[\"Barbados\",78.801,16558.8647849868],[\"Brunei Darussalam\",72.809,18012.5021948953],[\"Brunei Darussalam\",74.74,35270.6421390658],[\"Bhutan\",60.884,718.196336969414],[\"Bhutan\",65.289,1228.43235572338],[\"Bhutan\",68.384,2258.18643535953],[\"Bhutan\",70.419,2752.63017233678],[\"Botswana\",52.13,5513.33106259322],[\"Botswana\",67.338,6402.91018338391],[\"Central African Republic\",44.19,251.832764026789],[\"Central African Republic\",44.744,331.294821098185],[\"Central African Republic\",47.312,488.421735800876],[\"Central African Republic\",50.881,377.422917680195],[\"Canada\",79.1365853658537,24271.0020563821],[\"Canada\",80.1926829268293,36382.5079164537],[\"Canada\",81.2463414634146,47562.0834253057],[\"Switzerland\",79.6804878048781,38952.0342005572],[\"Switzerland\",81.2365853658537,56546.7856553987],[\"Switzerland\",82.2463414634147,77117.126014204],[\"Switzerland\",82.8975609756098,84776.1421659748],[\"Chile\",76.366,5100.25413288222],[\"Chile\",77.63,7558.37175410092],[\"Chile\",78.779,12724.10406267],[\"Chile\",79.646,13495.0106099649],[\"China\",72.985,1753.41782926104],[\"China\",74.409,4550.45310775599],[\"China\",75.928,8016.43143498003],[\"Cote d'Ivoire\",49.635,1007.46738950787],[\"Cote d'Ivoire\",50.12,1309.59165283165],[\"Cote d'Ivoire\",52.964,1701.47570153451],[\"Cote d'Ivoire\",56.065,1972.54568305836],[\"Cameroon\",50.993,681.102042961201],[\"Cameroon\",52.76,1100.17492617744],[\"Cameroon\",55.101,1352.30227450638],[\"Cameroon\",57.583,1382.5097900241],[\"Congo, Dem. Rep.\",56.909,334.02157774666],[\"Congo, Dem. Rep.\",59.254,497.317039077365],[\"Congo, Rep.\",55.6,1835.60990812416],[\"Congo, Rep.\",60.093,3076.55644910171],[\"Congo, Rep.\",63.097,2448.52377758887],[\"Colombia\",72.945,2520.48108876016],[\"Colombia\",74.265,3414.46515834714],[\"Colombia\",75.424,6336.70947398466],[\"Colombia\",76.531,6175.87602970258],[\"Comoros\",63.471,1242.58560784999],[\"Cabo Verde\",71.062,3378.3234334576],[\"Cabo Verde\",72.117,3043.03138156811],[\"Costa Rica\",77.452,3789.05388636246],[\"Costa Rica\",78.769,8227.12749376825],[\"Costa Rica\",79.565,11642.7780517123],[\"Cyprus\",78.009,14388.34765625],[\"Cyprus\",78.63,24959.259765625],[\"Cyprus\",79.43,31023.638671875],[\"Cyprus\",80.35,23408.3359375],[\"Czechia\",74.9682926829268,6029.03819275358],[\"Czechia\",75.9243902439025,13430.6698955613],[\"Czechia\",77.4243902439025,19960.0684872157],[\"Czechia\",78.5780487804878,17829.6983223668],[\"Germany\",79.9878048780488,41572.4559481507],[\"Germany\",80.6414634146341,41103.2564363768],[\"Djibouti\",57.022,768.183570343678],[\"Djibouti\",57.991,904.736679476444],[\"Djibouti\",60.062,1343.27512498519],[\"Djibouti\",64.136,2652.51322808034],[\"Denmark\",76.5926829268293,30743.5476816354],[\"Denmark\",77.8439024390244,48799.8256011275],[\"Denmark\",79.1,58041.3984363385],[\"Dominican Republic\",69.429,2869.17813861021],[\"Dominican Republic\",72.046,5555.39201393816],[\"Dominican Republic\",73.241,6921.52059432776],[\"Ecuador\",72.761,1445.27932442901],[\"Ecuador\",75.089,4633.59128443099],[\"Ecuador\",76.143,6124.49088707134],[\"Egypt, Arab Rep.\",69.434,1186.39331322717],[\"Egypt, Arab Rep.\",70.349,2645.96875877924],[\"Egypt, Arab Rep.\",71.302,3562.93265798423],[\"Spain\",78.9658536585366,14749.6874248766],[\"Spain\",80.1707317073171,26429.1509449319],[\"Spain\",81.6268292682927,30532.4805081656],[\"Spain\",82.8317073170732,25742.3688346767],[\"Estonia\",70.4170731707317,4070.60902410208],[\"Estonia\",72.5682926829268,10412.6443137966],[\"Estonia\",75.4292682926829,14663.0446126465],[\"Estonia\",77.590243902439,17402.0376128079],[\"Ethiopia\",51.941,124.460790874921],[\"Ethiopia\",61.627,341.554122699663],[\"Ethiopia\",65.048,640.541923075422],[\"Finland\",77.4658536585366,24345.9148217032],[\"Finland\",78.8170731707317,39054.8504423825],[\"Finland\",79.8707317073171,46505.3031791811],[\"Finland\",81.4804878048781,42801.9081167285],[\"Fiji\",65.687,2069.31745471458],[\"Fiji\",66.313,3627.63285585254],[\"Fiji\",66.655,3652.53593320954],[\"Fiji\",67.103,5390.71420703085],[\"Micronesia, Fed. Sts.\",64.55,2171.88957683534],[\"Micronesia, Fed. Sts.\",67.315,2906.61701228808],[\"Gabon\",58.264,4135.99238007722],[\"Gabon\",61.4,8849.32260799167],[\"Gabon\",64.913,7384.70070393071],[\"United Kingdom\",77.7414634146342,28223.0675706515],[\"United Kingdom\",79.0487804878049,42132.0907219815],[\"United Kingdom\",80.4024390243902,39688.6149684498],[\"United Kingdom\",80.9560975609756,45404.5677734722],[\"Georgia\",69.902,749.908534993961],[\"Georgia\",70.538,1642.76093756395],[\"Ghana\",58.719,492.54405617264],[\"Ghana\",61.03,1299.34521164062],[\"Ghana\",62.772,1774.07477092508],[\"Guinea\",51.203,363.482279266615],[\"Guinea\",53.238,322.415540033465],[\"Guinea\",56.861,672.424930359396],[\"Guinea\",59.598,769.255475432822],[\"Gambia, The\",55.956,594.149388499649],[\"Gambia, The\",57.939,665.720215700547],[\"Gambia, The\",59.637,860.636433851486],[\"Gambia, The\",60.91,660.723571244322],[\"Guinea-Bissau\",54.628,558.174668134758],[\"Guinea-Bissau\",56.959,603.399381547733],[\"Greece\",77.8878048780488,12072.9293569196],[\"Greece\",79.2390243902439,22560.1472939077],[\"Greece\",81.0365853658537,18083.8779056547],[\"Guatemala\",71.481,2852.54732650116],[\"Guatemala\",73.25,3994.63691288475],[\"Guyana\",65.242,954.400318095334],[\"Guyana\",66.694,1105.50682477118],[\"Guyana\",68.059,4580.69876204788],[\"Guyana\",69.262,5576.82585151355],[\"Honduras\",74.495,2302.20441093316],[\"Croatia\",76.4756097560976,14067.5231191915],[\"Haiti\",62.485,1386.85419078846],[\"Hungary\",71.2463414634146,4624.28165670295],[\"Hungary\",72.6487804878049,11225.9325815328],[\"Hungary\",74.2073170731707,13223.0830027699],[\"Hungary\",75.5682926829269,12720.7120220668],[\"Indonesia\",67.334,1263.28733171098],[\"Indonesia\",69.205,3122.36267319362],[\"Indonesia\",70.768,3331.69511469189],[\"India\",62.505,443.314193811316],[\"India\",64.5,714.8610153644],[\"India\",66.693,1357.5637268318],[\"India\",68.607,1605.60544457087],[\"Ireland\",76.5365853658537,26334.5672050501],[\"Ireland\",78.9439024390244,50933.0216095589],[\"Ireland\",80.7439024390244,48655.3661626634],[\"Ireland\",81.4536585365854,62012.4849258149],[\"Iran, Islamic Rep.\",70.176,1670.0096735653],[\"Iran, Islamic Rep.\",71.917,3246.05112244352],[\"Iran, Islamic Rep.\",73.905,6599.66093791004],[\"Iran, Islamic Rep.\",75.796,5200.68078673413],[\"Iraq\",69.929,4688.31801743466],[\"Iceland\",79.6536585365854,32096.3722613695],[\"Iceland\",81.5024390243902,56794.8501588953],[\"Iceland\",81.8975609756097,43237.0729488958],[\"Iceland\",82.4682926829268,52951.6815110898],[\"Israel\",78.9536585365854,21061.4822833993],[\"Israel\",80.1512195121951,20585.1386127162],[\"Israel\",81.6024390243903,30780.0238155167],[\"Israel\",82.0512195121951,35808.4364289727],[\"Italy\",79.7780487804878,20137.5912217673],[\"Italy\",80.7829268292683,32055.0920757503],[\"Italy\",82.0365853658537,36035.6449950691],[\"Italy\",82.5439024390244,30242.3861352184],[\"Jamaica\",74.142,3392.12387809462],[\"Jamaica\",74.148,4103.6016371324],[\"Jamaica\",74.038,4704.04775962425],[\"Jamaica\",74.098,4907.927415189],[\"Jordan\",72.595,2183.39464250953],[\"Jordan\",73.428,3736.64546207921],[\"Jordan\",74.078,4164.10876894014],[\"Kazakhstan\",65.86,3771.27895733845],[\"Kazakhstan\",71.97,10510.7718884149],[\"Kenya\",50.921,397.482658777519],[\"Kenya\",54.732,511.616394301253],[\"Kenya\",60.959,1080.29618449063],[\"Kenya\",64.798,1464.55400904329],[\"Kyrgyz Republic\",68.5585365853659,279.619569260939],[\"Kyrgyz Republic\",67.9560975609756,476.552129968975],[\"Kyrgyz Republic\",69.3,880.037775119109],[\"Kyrgyz Republic\",70.6512195121951,1121.08283510739],[\"Cambodia\",58.432,300.613679010462],[\"Cambodia\",66.56,785.50266705782],[\"Kiribati\",63.144,796.803203566513],[\"Kiribati\",67.291,1535.16278257963],[\"Korea, Rep.\",80.1170731707317,23087.2256438476],[\"Kuwait\",73.538,35591.0371337921],[\"Kuwait\",74.358,38577.4982788212],[\"Kuwait\",75.13,29869.552753237],[\"Lao PDR\",58.803,325.186937142965],[\"Lao PDR\",61.625,475.610796203932],[\"Lao PDR\",64.306,1141.23570253091],[\"Lebanon\",76.865,4575.10745896031],[\"Lebanon\",78.36,7761.64148945415],[\"Lebanon\",78.768,7643.00871833192],[\"St. Lucia\",74.122,6949.20417333029],[\"St. Lucia\",74.852,8540.07097992462],[\"St. Lucia\",75.596,10093.6180163617],[\"Sri Lanka\",74.695,1248.69818517034],[\"Sri Lanka\",75.439,2799.64873802555],[\"Sri Lanka\",76.316,3843.78067184442],[\"Lesotho\",47.691,436.488137266071],[\"Lesotho\",42.658,842.812630961302],[\"Lesotho\",51.038,1146.06468787308],[\"Lithuania\",71.2536585365854,7854.76527867855],[\"Lithuania\",73.2682926829268,11987.508411647],[\"Lithuania\",74.3219512195122,14263.9645773495],[\"Luxembourg\",82.2926829268293,105462.012584423],[\"Latvia\",70.3146341463415,3361.64086880275],[\"Latvia\",73.4829268292683,11420.9940032836],[\"Latvia\",74.4804878048781,13786.4567953114],[\"Moldova\",67.006,440.672030653269],[\"Moldova\",67.82,1034.70705816743],[\"Moldova\",69.616,2437.53768326452],[\"Moldova\",71.478,2732.46072997894],[\"Madagascar\",58.485,293.607157402594],[\"Madagascar\",61.212,319.537475081164],[\"Madagascar\",65.539,467.235431614314],[\"Maldives\",73.612,3640.0121322011],[\"Maldives\",75.905,7076.73982087196],[\"Maldives\",77.691,9033.41027034576],[\"Mexico\",74.34,7157.81449985734],[\"Mexico\",75.3,8277.67156384567],[\"Mexico\",75.065,9271.39839576997],[\"Mexico\",74.904,9616.64555810607],[\"Mali\",48.069,270.54300662038],[\"Mali\",52.057,489.022855550956],[\"Mali\",55.251,710.274303600905],[\"Mali\",57.509,751.472889186889],[\"Malta\",81.3975609756098,21799.1742559798],[\"Malta\",81.8975609756097,24921.6036820869],[\"Myanmar\",63.525,746.945359978558],[\"Myanmar\",65.81,1196.74333308526],[\"Mongolia\",62.869,474.217094319837],[\"Mongolia\",67.38,2643.28708316435],[\"Mongolia\",69.111,3875.32167504717],[\"Mozambique\",50.387,416.809824183966],[\"Mozambique\",52.31,471.904360009894],[\"Mozambique\",57.206,589.85943137707],[\"Mauritius\",71.6634146341463,3929.07549503364],[\"Mauritius\",72.4321951219512,5282.90602155635],[\"Mauritius\",72.9673170731707,8000.37643182154],[\"Mauritius\",74.3531707317073,9260.44730250635],[\"Malawi\",55.564,478.668688469613],[\"Malawi\",61.953,380.596987683774],[\"Malaysia\",72.594,4043.66292312877],[\"Malaysia\",74.493,9040.56849464524],[\"Malaysia\",75.461,9955.24272167626],[\"Namibia\",52.192,2185.60411519312],[\"Namibia\",56.665,5394.99671166874],[\"Namibia\",62.119,4896.61526001377],[\"Niger\",49.928,197.832683441643],[\"Niger\",57.333,476.869532167304],[\"Niger\",60.631,484.153137350801],[\"Nigeria\",53.112,2687.48005643212],[\"Nicaragua\",69.527,1007.499838655],[\"Nicaragua\",72.428,1503.87223074992],[\"Nicaragua\",73.649,2049.8516660809],[\"Netherlands\",77.9878048780488,26214.498549887],[\"Netherlands\",79.3463414634146,41994.7135305232],[\"Netherlands\",80.7024390243902,50999.7451168879],[\"Netherlands\",81.509756097561,45193.4032187971],[\"Norway\",78.6341463414634,38131.4606116242],[\"Norway\",80.0414634146342,66810.478520868],[\"Norway\",80.9975609756098,87693.7900658099],[\"Norway\",82.3048780487805,74355.5158575643],[\"Nepal\",62.288,229.490392563225],[\"Nepal\",65.264,315.805629997361],[\"Nepal\",67.611,592.401207101201],[\"Nepal\",69.515,901.74960773293],[\"New Zealand\",79.8512195121951,27751.0654708859],[\"New Zealand\",80.7024390243902,33676.7741239925],[\"New Zealand\",81.4568292682927,38630.7265886928],[\"Oman\",72.126,8601.27194448996],[\"Oman\",74.23,12377.0800076389],[\"Pakistan\",62.82,576.195580353518],[\"Pakistan\",63.951,748.922589270883],[\"Pakistan\",65.264,987.409712037523],[\"Pakistan\",66.577,1356.66783065763],[\"Panama\",75.06,4060.31779345702],[\"Panama\",77.776,13630.3011472878],[\"Peru\",71.111,1955.58800627896],[\"Peru\",72.908,2729.49917213529],[\"Peru\",74.41,5082.35370614454],[\"Peru\",75.792,6229.10067398112],[\"Philippines\",68.793,1072.80175248718],[\"Philippines\",69.112,1244.34874065936],[\"Philippines\",70.644,3001.04318170863],[\"Palau\",70.4936585365854,7657.95121440536],[\"Poland\",73.7487804878049,4501.45406742273],[\"Poland\",74.9951219512195,8021.50574346795],[\"Poland\",76.2463414634146,12613.0109954681],[\"Poland\",77.4512195121951,12578.4954734362],[\"Portugal\",76.3146341463415,11526.3720667968],[\"Portugal\",78.0707317073171,18780.12751241],[\"Portugal\",79.0268292682927,22520.6423124045],[\"Portugal\",81.1243902439025,19250.1065376852],[\"Paraguay\",70.546,1663.60493919986],[\"Paraguay\",72.653,4342.06584459985],[\"Paraguay\",73.662,5413.77602061858],[\"Qatar\",77.467,29976.1676344676],[\"Qatar\",78.252,51455.9509428993],[\"Qatar\",79.108,67403.0876779676],[\"Romania\",71.1634146341463,1659.90763954548],[\"Romania\",71.9121951219512,4617.92901643258],[\"Romania\",73.4585365853659,8214.07689289811],[\"Romania\",74.9121951219512,8969.14892146193],[\"Russian Federation\",65.4836585365854,1771.59411621094],[\"Russian Federation\",65.529756097561,5323.462890625],[\"Russian Federation\",71.1834146341463,9313.013671875],[\"Rwanda\",48.649,260.607654653932],[\"Rwanda\",63.433,609.754297393961],[\"Rwanda\",67.45,751.110505478611],[\"Saudi Arabia\",72.561,9171.33147630515],[\"Saudi Arabia\",73.256,13791.454761932],[\"Sudan\",58.472,366.172729492188],[\"Sudan\",60.525,914.16650390625],[\"Senegal\",57.787,613.732384491775],[\"Senegal\",60.62,992.688058138543],[\"Senegal\",64.284,1271.58328084525],[\"Senegal\",66.747,1219.24941513302],[\"Singapore\",77.9512195121951,23852.3270285975],[\"Singapore\",79.990243902439,29961.2632774569],[\"Singapore\",81.5414634146342,47236.9602345421],[\"Singapore\",82.7439024390244,55646.6187469505],[\"Solomon Islands\",70.674,1604.14888755803],[\"Solomon Islands\",72.173,2167.15539406206],[\"Sierra Leone\",39.441,138.698722497148],[\"Sierra Leone\",44.502,292.349066330563],[\"Sierra Leone\",49.382,401.834876099443],[\"El Salvador\",68.875,2001.54004887966],[\"El Salvador\",70.124,2428.56887928932],[\"El Salvador\",71.21,2983.2288061357],[\"El Salvador\",72.412,3705.57970353453],[\"Serbia\",74.3365853658537,5735.42285659849],[\"Serbia\",75.2878048780488,5588.98072768556],[\"Sao Tome and Principe\",64.659,866.504995638803],[\"Sao Tome and Principe\",67.43,1090.26076257543],[\"Sao Tome and Principe\",69.377,1584.77565743788],[\"Suriname\",71.249,9168.23715664009],[\"Slovak Republic\",73.0512195121951,5426.62428119306],[\"Slovak Republic\",73.9048780487805,11690.1134689407],[\"Slovak Republic\",75.1121951219512,16841.7677398734],[\"Slovak Republic\",76.5634146341463,16342.2162621093],[\"Slovenia\",77.6121951219512,18098.9085440003],[\"Slovenia\",79.4219512195122,23532.4808545468],[\"Slovenia\",80.7756097560976,20890.1664304173],[\"Sweden\",79.6439024390244,29624.9126748618],[\"Sweden\",80.5463414634146,43437.0631164776],[\"Sweden\",81.4512195121951,52869.0442891587],[\"Sweden\",82.2048780487805,51545.4836095322],[\"Eswatini\",47.49,1728.71049762741],[\"Eswatini\",42.518,3083.83814075588],[\"Eswatini\",46.601,4168.48940292685],[\"Seychelles\",73.1975609756098,10804.7232956282],[\"Seychelles\",74.2951219512195,15157.5018256876],[\"Chad\",47.713,166.175708881786],[\"Chad\",48.549,658.566973042801],[\"Chad\",50.89,892.568869694168],[\"Chad\",53.137,776.019752284262],[\"Togo\",53.491,302.958591951416],[\"Togo\",54.602,406.562366042383],[\"Togo\",57.468,534.04478262418],[\"Togo\",59.927,570.909967175308],[\"Thailand\",70.623,2007.7352707452],[\"Thailand\",72.099,2894.06265596401],[\"Thailand\",74.184,5076.33987220163],[\"Thailand\",76.091,5840.05306687798],[\"Tajikistan\",61.974,138.429146735759],[\"Tajikistan\",66.08,340.583183232527],[\"Tajikistan\",68.736,749.552412285997],[\"Tajikistan\",70.137,978.404981180605],[\"Timor-Leste\",67.186,806.41434929681],[\"Timor-Leste\",68.459,1332.79185551378],[\"Tonga\",69.667,2091.11300904714],[\"Trinidad and Tobago\",69.413,6435.13421201268],[\"Trinidad and Tobago\",72.941,18383.5386974985],[\"Tunisia\",73.172,2211.8350154787],[\"Tunisia\",74.217,3193.20435786446],[\"Tunisia\",75.041,4344.61941760278],[\"Tunisia\",75.922,4094.84160230737],[\"Turkiye\",70.005,4337.47800296354],[\"Tanzania\",54.349,492.63134765625],[\"Tanzania\",58.584,743.403686523438],[\"Uganda\",46.229,261.869141644962],[\"Uganda\",57.099,822.539372481326],[\"Uganda\",61.373,847.267628934983],[\"Ukraine\",67.6756097560976,658.3486328125],[\"Ukraine\",67.9568292682927,1894.47082519531],[\"Ukraine\",71.189512195122,2124.66235351563],[\"Uruguay\",74.731,6875.02546946372],[\"Uruguay\",75.826,5226.94409982496],[\"Uruguay\",76.75,11992.0237658273],[\"Uruguay\",77.369,15613.7459681824],[\"United States\",78.690243902439,56762.7294515989],[\"Uzbekistan\",70.928,2753.97107219949],[\"St. Vincent and the Grenadines\",70.809,3970.29362248818],[\"St. Vincent and the Grenadines\",71.331,5339.3935508934],[\"St. Vincent and the Grenadines\",71.776,6654.79290746741],[\"Vietnam\",74.837,1673.3292888042],[\"Vietnam\",75.11,2581.62244157361],[\"Vanuatu\",67.363,1470.63586995743],[\"Vanuatu\",69.869,2695.66618597973],[\"Samoa\",68.748,1483.80741460389],[\"Samoa\",71.663,3566.45833371884],[\"Samoa\",72.73,4073.72908299755],[\"Yemen, Rep.\",60.683,554.448665276054],[\"Yemen, Rep.\",65.549,1334.78490225941],[\"South Africa\",53.447,6033.10149088554],[\"South Africa\",57.669,8148.9612020223],[\"South Africa\",62.649,6259.83968110571],[\"Zambia\",44.0,345.689620749861],[\"Zambia\",48.496,702.741118447779],[\"Zambia\",55.655,1489.45908689417],[\"Zambia\",61.737,1338.29092708188],[\"Zimbabwe\",50.64,948.331481033457],[\"Zimbabwe\",59.534,1445.06970213198]],\"hovertemplate\":\"Year=%{x}<br>Population=%{y}<br>Country Name=%{customdata[0]}<br>Life expectancy at birth, total (years)=%{marker.color}<br>GDP per capita=%{customdata[2]}<extra></extra>\",\"legendgroup\":\"\",\"marker\":{\"color\":[58.29,61.028,63.377,46.522,50.165,55.35,59.398,73.955,75.228,78.025,73.576,74.451,75.278,76.068,72.626,73.331,74.467,79.2341463414634,80.8414634146341,81.6951219512195,82.4,78.1268292682927,79.3317073170732,80.5804878048781,81.190243902439,66.763,68.747,70.938,72.266,49.091,53.369,57.228,60.123,78.9804878048781,80.1829268292683,80.9926829268293,55.391,57.355,59.318,60.608,53.31,57.096,59.919,65.447,69.881,71.514,72.5609756097561,73.5121951219512,76.057,76.762,71.914,71.987,72.144,73.088,68.8512195121951,70.4048780487805,73.6243902439025,68.847,72.057,74.034,68.007,70.277,70.116,71.896,73.619,74.994,77.162,77.915,78.364,78.801,72.809,74.74,60.884,65.289,68.384,70.419,52.13,67.338,44.19,44.744,47.312,50.881,79.1365853658537,80.1926829268293,81.2463414634146,79.6804878048781,81.2365853658537,82.2463414634147,82.8975609756098,76.366,77.63,78.779,79.646,72.985,74.409,75.928,49.635,50.12,52.964,56.065,50.993,52.76,55.101,57.583,56.909,59.254,55.6,60.093,63.097,72.945,74.265,75.424,76.531,63.471,71.062,72.117,77.452,78.769,79.565,78.009,78.63,79.43,80.35,74.9682926829268,75.9243902439025,77.4243902439025,78.5780487804878,79.9878048780488,80.6414634146341,57.022,57.991,60.062,64.136,76.5926829268293,77.8439024390244,79.1,69.429,72.046,73.241,72.761,75.089,76.143,69.434,70.349,71.302,78.9658536585366,80.1707317073171,81.6268292682927,82.8317073170732,70.4170731707317,72.5682926829268,75.4292682926829,77.590243902439,51.941,61.627,65.048,77.4658536585366,78.8170731707317,79.8707317073171,81.4804878048781,65.687,66.313,66.655,67.103,64.55,67.315,58.264,61.4,64.913,77.7414634146342,79.0487804878049,80.4024390243902,80.9560975609756,69.902,70.538,58.719,61.03,62.772,51.203,53.238,56.861,59.598,55.956,57.939,59.637,60.91,54.628,56.959,77.8878048780488,79.2390243902439,81.0365853658537,71.481,73.25,65.242,66.694,68.059,69.262,74.495,76.4756097560976,62.485,71.2463414634146,72.6487804878049,74.2073170731707,75.5682926829269,67.334,69.205,70.768,62.505,64.5,66.693,68.607,76.5365853658537,78.9439024390244,80.7439024390244,81.4536585365854,70.176,71.917,73.905,75.796,69.929,79.6536585365854,81.5024390243902,81.8975609756097,82.4682926829268,78.9536585365854,80.1512195121951,81.6024390243903,82.0512195121951,79.7780487804878,80.7829268292683,82.0365853658537,82.5439024390244,74.142,74.148,74.038,74.098,72.595,73.428,74.078,65.86,71.97,50.921,54.732,60.959,64.798,68.5585365853659,67.9560975609756,69.3,70.6512195121951,58.432,66.56,63.144,67.291,80.1170731707317,73.538,74.358,75.13,58.803,61.625,64.306,76.865,78.36,78.768,74.122,74.852,75.596,74.695,75.439,76.316,47.691,42.658,51.038,71.2536585365854,73.2682926829268,74.3219512195122,82.2926829268293,70.3146341463415,73.4829268292683,74.4804878048781,67.006,67.82,69.616,71.478,58.485,61.212,65.539,73.612,75.905,77.691,74.34,75.3,75.065,74.904,48.069,52.057,55.251,57.509,81.3975609756098,81.8975609756097,63.525,65.81,62.869,67.38,69.111,50.387,52.31,57.206,71.6634146341463,72.4321951219512,72.9673170731707,74.3531707317073,55.564,61.953,72.594,74.493,75.461,52.192,56.665,62.119,49.928,57.333,60.631,53.112,69.527,72.428,73.649,77.9878048780488,79.3463414634146,80.7024390243902,81.509756097561,78.6341463414634,80.0414634146342,80.9975609756098,82.3048780487805,62.288,65.264,67.611,69.515,79.8512195121951,80.7024390243902,81.4568292682927,72.126,74.23,62.82,63.951,65.264,66.577,75.06,77.776,71.111,72.908,74.41,75.792,68.793,69.112,70.644,70.4936585365854,73.7487804878049,74.9951219512195,76.2463414634146,77.4512195121951,76.3146341463415,78.0707317073171,79.0268292682927,81.1243902439025,70.546,72.653,73.662,77.467,78.252,79.108,71.1634146341463,71.9121951219512,73.4585365853659,74.9121951219512,65.4836585365854,65.529756097561,71.1834146341463,48.649,63.433,67.45,72.561,73.256,58.472,60.525,57.787,60.62,64.284,66.747,77.9512195121951,79.990243902439,81.5414634146342,82.7439024390244,70.674,72.173,39.441,44.502,49.382,68.875,70.124,71.21,72.412,74.3365853658537,75.2878048780488,64.659,67.43,69.377,71.249,73.0512195121951,73.9048780487805,75.1121951219512,76.5634146341463,77.6121951219512,79.4219512195122,80.7756097560976,79.6439024390244,80.5463414634146,81.4512195121951,82.2048780487805,47.49,42.518,46.601,73.1975609756098,74.2951219512195,47.713,48.549,50.89,53.137,53.491,54.602,57.468,59.927,70.623,72.099,74.184,76.091,61.974,66.08,68.736,70.137,67.186,68.459,69.667,69.413,72.941,73.172,74.217,75.041,75.922,70.005,54.349,58.584,46.229,57.099,61.373,67.6756097560976,67.9568292682927,71.189512195122,74.731,75.826,76.75,77.369,78.690243902439,70.928,70.809,71.331,71.776,74.837,75.11,67.363,69.869,68.748,71.663,72.73,60.683,65.549,53.447,57.669,62.649,44.0,48.496,55.655,61.737,50.64,59.534],\"coloraxis\":\"coloraxis\",\"pattern\":{\"shape\":\"\"}},\"name\":\"\",\"offsetgroup\":\"\",\"orientation\":\"v\",\"showlegend\":false,\"textposition\":\"auto\",\"x\":[\"YR2005\",\"YR2010\",\"YR2015\",\"YR2000\",\"YR2005\",\"YR2010\",\"YR2015\",\"YR2000\",\"YR2005\",\"YR2015\",\"YR2000\",\"YR2005\",\"YR2010\",\"YR2015\",\"YR2005\",\"YR2010\",\"YR2015\",\"YR2000\",\"YR2005\",\"YR2010\",\"YR2015\",\"YR2000\",\"YR2005\",\"YR2010\",\"YR2015\",\"YR2000\",\"YR2005\",\"YR2010\",\"YR2015\",\"YR2000\",\"YR2005\",\"YR2010\",\"YR2015\",\"YR2005\",\"YR2010\",\"YR2015\",\"YR2000\",\"YR2005\",\"YR2010\",\"YR2015\",\"YR2005\",\"YR2010\",\"YR2015\",\"YR2000\",\"YR2010\",\"YR2015\",\"YR2005\",\"YR2010\",\"YR2010\",\"YR2015\",\"YR2000\",\"YR2005\",\"YR2010\",\"YR2015\",\"YR2005\",\"YR2010\",\"YR2015\",\"YR2000\",\"YR2010\",\"YR2015\",\"YR2010\",\"YR2015\",\"YR2000\",\"YR2005\",\"YR2010\",\"YR2015\",\"YR2000\",\"YR2005\",\"YR2010\",\"YR2015\",\"YR2000\",\"YR2010\",\"YR2000\",\"YR2005\",\"YR2010\",\"YR2015\",\"YR2005\",\"YR2015\",\"YR2000\",\"YR2005\",\"YR2010\",\"YR2015\",\"YR2000\",\"YR2005\",\"YR2010\",\"YR2000\",\"YR2005\",\"YR2010\",\"YR2015\",\"YR2000\",\"YR2005\",\"YR2010\",\"YR2015\",\"YR2005\",\"YR2010\",\"YR2015\",\"YR2000\",\"YR2005\",\"YR2010\",\"YR2015\",\"YR2000\",\"YR2005\",\"YR2010\",\"YR2015\",\"YR2010\",\"YR2015\",\"YR2005\",\"YR2010\",\"YR2015\",\"YR2000\",\"YR2005\",\"YR2010\",\"YR2015\",\"YR2015\",\"YR2010\",\"YR2015\",\"YR2000\",\"YR2010\",\"YR2015\",\"YR2000\",\"YR2005\",\"YR2010\",\"YR2015\",\"YR2000\",\"YR2005\",\"YR2010\",\"YR2015\",\"YR2010\",\"YR2015\",\"YR2000\",\"YR2005\",\"YR2010\",\"YR2015\",\"YR2000\",\"YR2005\",\"YR2010\",\"YR2000\",\"YR2010\",\"YR2015\",\"YR2000\",\"YR2010\",\"YR2015\",\"YR2005\",\"YR2010\",\"YR2015\",\"YR2000\",\"YR2005\",\"YR2010\",\"YR2015\",\"YR2000\",\"YR2005\",\"YR2010\",\"YR2015\",\"YR2000\",\"YR2010\",\"YR2015\",\"YR2000\",\"YR2005\",\"YR2010\",\"YR2015\",\"YR2000\",\"YR2005\",\"YR2010\",\"YR2015\",\"YR2000\",\"YR2015\",\"YR2000\",\"YR2010\",\"YR2015\",\"YR2000\",\"YR2005\",\"YR2010\",\"YR2015\",\"YR2000\",\"YR2005\",\"YR2005\",\"YR2010\",\"YR2015\",\"YR2000\",\"YR2005\",\"YR2010\",\"YR2015\",\"YR2000\",\"YR2005\",\"YR2010\",\"YR2015\",\"YR2010\",\"YR2015\",\"YR2000\",\"YR2005\",\"YR2015\",\"YR2010\",\"YR2015\",\"YR2000\",\"YR2005\",\"YR2010\",\"YR2015\",\"YR2015\",\"YR2010\",\"YR2015\",\"YR2000\",\"YR2005\",\"YR2010\",\"YR2015\",\"YR2005\",\"YR2010\",\"YR2015\",\"YR2000\",\"YR2005\",\"YR2010\",\"YR2015\",\"YR2000\",\"YR2005\",\"YR2010\",\"YR2015\",\"YR2000\",\"YR2005\",\"YR2010\",\"YR2015\",\"YR2015\",\"YR2000\",\"YR2005\",\"YR2010\",\"YR2015\",\"YR2000\",\"YR2005\",\"YR2010\",\"YR2015\",\"YR2000\",\"YR2005\",\"YR2010\",\"YR2015\",\"YR2000\",\"YR2005\",\"YR2010\",\"YR2015\",\"YR2005\",\"YR2010\",\"YR2015\",\"YR2005\",\"YR2015\",\"YR2000\",\"YR2005\",\"YR2010\",\"YR2015\",\"YR2000\",\"YR2005\",\"YR2010\",\"YR2015\",\"YR2000\",\"YR2010\",\"YR2000\",\"YR2015\",\"YR2010\",\"YR2005\",\"YR2010\",\"YR2015\",\"YR2000\",\"YR2005\",\"YR2010\",\"YR2005\",\"YR2010\",\"YR2015\",\"YR2005\",\"YR2010\",\"YR2015\",\"YR2005\",\"YR2010\",\"YR2015\",\"YR2000\",\"YR2005\",\"YR2015\",\"YR2005\",\"YR2010\",\"YR2015\",\"YR2015\",\"YR2000\",\"YR2010\",\"YR2015\",\"YR2000\",\"YR2005\",\"YR2010\",\"YR2015\",\"YR2000\",\"YR2005\",\"YR2015\",\"YR2005\",\"YR2010\",\"YR2015\",\"YR2000\",\"YR2005\",\"YR2010\",\"YR2015\",\"YR2000\",\"YR2005\",\"YR2010\",\"YR2015\",\"YR2010\",\"YR2015\",\"YR2010\",\"YR2015\",\"YR2000\",\"YR2010\",\"YR2015\",\"YR2005\",\"YR2010\",\"YR2015\",\"YR2000\",\"YR2005\",\"YR2010\",\"YR2015\",\"YR2010\",\"YR2015\",\"YR2000\",\"YR2010\",\"YR2015\",\"YR2000\",\"YR2010\",\"YR2015\",\"YR2000\",\"YR2010\",\"YR2015\",\"YR2015\",\"YR2000\",\"YR2010\",\"YR2015\",\"YR2000\",\"YR2005\",\"YR2010\",\"YR2015\",\"YR2000\",\"YR2005\",\"YR2010\",\"YR2015\",\"YR2000\",\"YR2005\",\"YR2010\",\"YR2015\",\"YR2005\",\"YR2010\",\"YR2015\",\"YR2000\",\"YR2005\",\"YR2000\",\"YR2005\",\"YR2010\",\"YR2015\",\"YR2000\",\"YR2015\",\"YR2000\",\"YR2005\",\"YR2010\",\"YR2015\",\"YR2000\",\"YR2005\",\"YR2015\",\"YR2000\",\"YR2000\",\"YR2005\",\"YR2010\",\"YR2015\",\"YR2000\",\"YR2005\",\"YR2010\",\"YR2015\",\"YR2000\",\"YR2010\",\"YR2015\",\"YR2000\",\"YR2005\",\"YR2010\",\"YR2000\",\"YR2005\",\"YR2010\",\"YR2015\",\"YR2000\",\"YR2005\",\"YR2015\",\"YR2000\",\"YR2010\",\"YR2015\",\"YR2000\",\"YR2005\",\"YR2000\",\"YR2005\",\"YR2000\",\"YR2005\",\"YR2010\",\"YR2015\",\"YR2000\",\"YR2005\",\"YR2010\",\"YR2015\",\"YR2010\",\"YR2015\",\"YR2000\",\"YR2005\",\"YR2010\",\"YR2000\",\"YR2005\",\"YR2010\",\"YR2015\",\"YR2010\",\"YR2015\",\"YR2005\",\"YR2010\",\"YR2015\",\"YR2015\",\"YR2000\",\"YR2005\",\"YR2010\",\"YR2015\",\"YR2005\",\"YR2010\",\"YR2015\",\"YR2000\",\"YR2005\",\"YR2010\",\"YR2015\",\"YR2000\",\"YR2005\",\"YR2010\",\"YR2010\",\"YR2015\",\"YR2000\",\"YR2005\",\"YR2010\",\"YR2015\",\"YR2000\",\"YR2005\",\"YR2010\",\"YR2015\",\"YR2000\",\"YR2005\",\"YR2010\",\"YR2015\",\"YR2000\",\"YR2005\",\"YR2010\",\"YR2015\",\"YR2010\",\"YR2015\",\"YR2000\",\"YR2000\",\"YR2015\",\"YR2000\",\"YR2005\",\"YR2010\",\"YR2015\",\"YR2000\",\"YR2005\",\"YR2010\",\"YR2000\",\"YR2010\",\"YR2015\",\"YR2000\",\"YR2005\",\"YR2015\",\"YR2000\",\"YR2005\",\"YR2010\",\"YR2015\",\"YR2015\",\"YR2015\",\"YR2000\",\"YR2005\",\"YR2010\",\"YR2010\",\"YR2015\",\"YR2000\",\"YR2015\",\"YR2000\",\"YR2010\",\"YR2015\",\"YR2000\",\"YR2010\",\"YR2005\",\"YR2010\",\"YR2015\",\"YR2000\",\"YR2005\",\"YR2010\",\"YR2015\",\"YR2010\",\"YR2015\"],\"xaxis\":\"x\",\"y\":[18.86634996,35.54101566,46.17228869,5.36555508,28.28505574,33.49321036,54.25286316,48.69450448,86.81703828,83.49495732,320.63082775,186.0785116,401.21882204,505.42655876,60.80376976,231.87482023,302.93554396,461.55053709,848.56129325,1366.94320432,1534.69104637,586.26494905,1014.73097696,1325.22504677,1270.55566366,13.13273335,20.52321089,84.47678003,152.77849988,6.36949565,6.01945299,10.43094475,10.33014331,872.62887485,1089.41598102,1033.92438365,9.10614845,13.63776869,15.55759509,14.28518296,6.09032125,11.42022631,15.74289494,5.42315346,14.51739532,24.4209882,108.24201054,216.9423661,294.88814479,396.36617505,616.21510393,733.92531538,812.67088944,900.67246677,50.42561896,108.26445526,140.83690529,61.6104022,74.27532996,82.47186504,38.29264168,62.02007804,181.41732604,224.41961186,490.78749798,444.95777814,289.2686165,389.40846904,481.34375363,571.46324012,80.50988416,66.3821619,3.77327129,8.1517821,12.54553091,20.37686074,87.29575605,98.1711161,4.90135866,8.31152591,11.88384894,9.41336493,545.1067658,888.88368016,1524.58514472,2542.91744618,3912.29502499,5211.58743974,6397.48435229,229.18958351,303.67887855,458.90183328,585.84673361,48.17227011,89.46375706,155.30195835,46.04756982,53.33010352,56.36825796,39.33674366,22.86322421,32.30732729,38.99174858,39.8094229,5.79263399,8.69540561,16.87773167,24.79833792,21.38018386,33.81672609,56.40914357,124.17465504,135.52916104,45.21186574,46.41014877,44.06326509,84.48972807,181.49171917,241.1979502,438.23659668,792.22160397,1091.15992386,894.74642566,38.73616224,125.96869298,231.81296909,228.13707059,1120.70205753,1065.21984195,16.616103,17.30886212,16.60064131,17.90697349,421.64810754,722.21158443,969.07615746,88.48226182,168.32271469,206.79623186,32.89721223,147.30376161,193.63724295,42.457336,75.22799026,125.75111181,287.9344254,586.04994848,712.89531032,673.82252373,50.73545959,133.96086663,222.34503656,272.38504896,2.28931226,8.06709831,13.50965767,418.04681372,716.52446314,911.5267556,884.67042658,11.78919471,22.04019964,40.27114318,61.53289736,8.93372563,9.31704853,78.38731304,77.35082227,79.02572098,472.36079713,664.54517395,696.81350055,894.62872586,42.2246647,102.20431738,18.24164396,25.39234833,32.22670946,15.29643226,14.11091031,16.12875048,30.90018468,8.38113912,5.93626869,8.36248405,7.05475749,16.15212024,37.72093324,339.76360756,757.96055824,602.52261989,110.64300482,138.78116453,27.95281098,33.22696399,61.43848764,82.21481167,95.76490436,186.87639988,25.6593769,97.54484172,267.14810862,328.10764109,280.43536432,24.16303676,65.7542065,58.36979907,14.17991876,21.67475163,32.86493337,43.39118121,351.86211289,832.2244064,1222.9041589,1276.77984759,50.36730041,110.37800962,301.46119681,181.76352484,119.96439481,558.3044448,971.11791493,722.91484883,821.43145104,523.37484945,591.31449162,802.49225318,939.4390798,417.06024285,602.75504894,693.29505019,684.02423826,82.8906621,92.33444705,100.33113057,97.52197156,87.82154519,87.86404466,141.85545882,50.59951145,117.32389985,12.10070934,16.6966074,24.58445426,29.0961118,6.34753853,15.37359399,26.48136111,43.7196369,15.40594758,35.99677371,2.28689628,5.01877953,555.27116364,170.46367822,163.26651687,190.65027835,8.82432405,9.30493105,21.88963838,211.05306517,340.17879501,294.48048509,218.83407275,266.19738978,257.18919941,26.65572335,63.23617015,81.98848914,9.28596532,14.01943123,17.35675136,172.10622289,231.44303198,309.36539925,765.01574184,89.41771466,274.31158195,320.77130262,10.08544122,34.03249534,83.62017094,87.96360274,6.09617956,6.57095372,7.33698183,206.97915723,262.4739046,218.75437393,174.46147525,279.05254142,264.78124621,263.05719704,10.43243399,14.96492092,19.3904633,11.22333425,614.14100406,878.43102702,15.82786422,43.46842618,6.64507654,29.92333783,65.15480884,2.35534424,2.18157505,7.24464045,54.93170951,102.34526085,198.14694438,294.87740594,5.27743899,6.36926879,59.07546448,136.21764529,177.65927611,93.41639349,231.51353914,254.54414556,6.16438326,14.72074287,14.1496588,72.02040296,25.03537578,46.0312838,61.49630405,627.9333852,1207.38432948,1699.68984673,1586.33907695,540.17066848,946.54039499,1200.01637085,1095.90027851,5.38607529,8.27001538,20.39336768,33.03861994,529.08646122,698.86586513,906.50143943,48.08737485,56.53700303,9.98768752,14.6657995,18.44697089,24.7185381,91.44494513,340.81080976,39.2978598,53.32977965,113.56249159,121.60139812,17.06588774,29.1938668,71.22968562,144.6073855,75.64861262,146.57018538,231.83530099,246.24087417,300.81103545,527.19318736,755.40985519,685.23654537,58.51387321,142.73394267,190.2143013,243.76421795,331.64465988,349.85782764,14.49606241,50.41336326,94.57593435,97.54519708,38.58432394,105.3724807,205.6048489,3.29606676,11.26635484,13.07634239,107.95023301,129.58135791,10.07939773,23.76941603,13.16868644,18.23411176,30.13409573,30.67831456,507.6116438,609.11919734,959.73563153,1218.59701283,2.82989815,2.9821675,17.7519438,21.7050767,28.24533653,97.57114343,95.39926262,90.82721452,95.17898146,207.76701706,205.87700933,28.65997935,17.46079896,14.7833323,240.75819925,25.47631577,149.49778231,376.05457995,235.74444979,402.56093793,557.43979046,508.70505304,337.37917707,628.18773816,773.34422565,897.97304881,34.71334706,72.3732513,90.38565049,172.33775673,192.70412508,6.00771386,19.3270201,26.54245483,21.66391811,9.77735089,13.90895267,21.91453596,24.98377714,27.89703585,33.13270412,44.91136123,53.05374044,4.72634934,12.00400887,30.30720555,40.36810153,6.19099918,11.53554872,13.21575677,174.64107638,536.06389824,52.73721603,84.64833954,104.91336946,117.55604467,76.45621357,9.85045563,12.31982897,7.26333607,20.0776561,16.50463554,18.45778165,47.74009826,80.26514655,401.9714611,241.4720469,411.79502738,444.12544895,4587.77368905,64.39177202,47.55922497,75.78358431,101.8936938,45.71716244,66.03815805,5.14028751,12.17368391,7.60523097,25.89630315,27.64481537,11.87789358,51.68709842,199.59613784,260.57376768,207.79181863,12.98572166,18.33799201,17.59175004,9.79281313,45.93941672,59.14794047],\"yaxis\":\"y\",\"type\":\"bar\"}],                        {\"template\":{\"data\":{\"bar\":[{\"error_x\":{\"color\":\"#2a3f5f\"},\"error_y\":{\"color\":\"#2a3f5f\"},\"marker\":{\"line\":{\"color\":\"#E5ECF6\",\"width\":0.5},\"pattern\":{\"fillmode\":\"overlay\",\"size\":10,\"solidity\":0.2}},\"type\":\"bar\"}],\"barpolar\":[{\"marker\":{\"line\":{\"color\":\"#E5ECF6\",\"width\":0.5},\"pattern\":{\"fillmode\":\"overlay\",\"size\":10,\"solidity\":0.2}},\"type\":\"barpolar\"}],\"carpet\":[{\"aaxis\":{\"endlinecolor\":\"#2a3f5f\",\"gridcolor\":\"white\",\"linecolor\":\"white\",\"minorgridcolor\":\"white\",\"startlinecolor\":\"#2a3f5f\"},\"baxis\":{\"endlinecolor\":\"#2a3f5f\",\"gridcolor\":\"white\",\"linecolor\":\"white\",\"minorgridcolor\":\"white\",\"startlinecolor\":\"#2a3f5f\"},\"type\":\"carpet\"}],\"choropleth\":[{\"colorbar\":{\"outlinewidth\":0,\"ticks\":\"\"},\"type\":\"choropleth\"}],\"contour\":[{\"colorbar\":{\"outlinewidth\":0,\"ticks\":\"\"},\"colorscale\":[[0.0,\"#0d0887\"],[0.1111111111111111,\"#46039f\"],[0.2222222222222222,\"#7201a8\"],[0.3333333333333333,\"#9c179e\"],[0.4444444444444444,\"#bd3786\"],[0.5555555555555556,\"#d8576b\"],[0.6666666666666666,\"#ed7953\"],[0.7777777777777778,\"#fb9f3a\"],[0.8888888888888888,\"#fdca26\"],[1.0,\"#f0f921\"]],\"type\":\"contour\"}],\"contourcarpet\":[{\"colorbar\":{\"outlinewidth\":0,\"ticks\":\"\"},\"type\":\"contourcarpet\"}],\"heatmap\":[{\"colorbar\":{\"outlinewidth\":0,\"ticks\":\"\"},\"colorscale\":[[0.0,\"#0d0887\"],[0.1111111111111111,\"#46039f\"],[0.2222222222222222,\"#7201a8\"],[0.3333333333333333,\"#9c179e\"],[0.4444444444444444,\"#bd3786\"],[0.5555555555555556,\"#d8576b\"],[0.6666666666666666,\"#ed7953\"],[0.7777777777777778,\"#fb9f3a\"],[0.8888888888888888,\"#fdca26\"],[1.0,\"#f0f921\"]],\"type\":\"heatmap\"}],\"heatmapgl\":[{\"colorbar\":{\"outlinewidth\":0,\"ticks\":\"\"},\"colorscale\":[[0.0,\"#0d0887\"],[0.1111111111111111,\"#46039f\"],[0.2222222222222222,\"#7201a8\"],[0.3333333333333333,\"#9c179e\"],[0.4444444444444444,\"#bd3786\"],[0.5555555555555556,\"#d8576b\"],[0.6666666666666666,\"#ed7953\"],[0.7777777777777778,\"#fb9f3a\"],[0.8888888888888888,\"#fdca26\"],[1.0,\"#f0f921\"]],\"type\":\"heatmapgl\"}],\"histogram\":[{\"marker\":{\"pattern\":{\"fillmode\":\"overlay\",\"size\":10,\"solidity\":0.2}},\"type\":\"histogram\"}],\"histogram2d\":[{\"colorbar\":{\"outlinewidth\":0,\"ticks\":\"\"},\"colorscale\":[[0.0,\"#0d0887\"],[0.1111111111111111,\"#46039f\"],[0.2222222222222222,\"#7201a8\"],[0.3333333333333333,\"#9c179e\"],[0.4444444444444444,\"#bd3786\"],[0.5555555555555556,\"#d8576b\"],[0.6666666666666666,\"#ed7953\"],[0.7777777777777778,\"#fb9f3a\"],[0.8888888888888888,\"#fdca26\"],[1.0,\"#f0f921\"]],\"type\":\"histogram2d\"}],\"histogram2dcontour\":[{\"colorbar\":{\"outlinewidth\":0,\"ticks\":\"\"},\"colorscale\":[[0.0,\"#0d0887\"],[0.1111111111111111,\"#46039f\"],[0.2222222222222222,\"#7201a8\"],[0.3333333333333333,\"#9c179e\"],[0.4444444444444444,\"#bd3786\"],[0.5555555555555556,\"#d8576b\"],[0.6666666666666666,\"#ed7953\"],[0.7777777777777778,\"#fb9f3a\"],[0.8888888888888888,\"#fdca26\"],[1.0,\"#f0f921\"]],\"type\":\"histogram2dcontour\"}],\"mesh3d\":[{\"colorbar\":{\"outlinewidth\":0,\"ticks\":\"\"},\"type\":\"mesh3d\"}],\"parcoords\":[{\"line\":{\"colorbar\":{\"outlinewidth\":0,\"ticks\":\"\"}},\"type\":\"parcoords\"}],\"pie\":[{\"automargin\":true,\"type\":\"pie\"}],\"scatter\":[{\"marker\":{\"colorbar\":{\"outlinewidth\":0,\"ticks\":\"\"}},\"type\":\"scatter\"}],\"scatter3d\":[{\"line\":{\"colorbar\":{\"outlinewidth\":0,\"ticks\":\"\"}},\"marker\":{\"colorbar\":{\"outlinewidth\":0,\"ticks\":\"\"}},\"type\":\"scatter3d\"}],\"scattercarpet\":[{\"marker\":{\"colorbar\":{\"outlinewidth\":0,\"ticks\":\"\"}},\"type\":\"scattercarpet\"}],\"scattergeo\":[{\"marker\":{\"colorbar\":{\"outlinewidth\":0,\"ticks\":\"\"}},\"type\":\"scattergeo\"}],\"scattergl\":[{\"marker\":{\"colorbar\":{\"outlinewidth\":0,\"ticks\":\"\"}},\"type\":\"scattergl\"}],\"scattermapbox\":[{\"marker\":{\"colorbar\":{\"outlinewidth\":0,\"ticks\":\"\"}},\"type\":\"scattermapbox\"}],\"scatterpolar\":[{\"marker\":{\"colorbar\":{\"outlinewidth\":0,\"ticks\":\"\"}},\"type\":\"scatterpolar\"}],\"scatterpolargl\":[{\"marker\":{\"colorbar\":{\"outlinewidth\":0,\"ticks\":\"\"}},\"type\":\"scatterpolargl\"}],\"scatterternary\":[{\"marker\":{\"colorbar\":{\"outlinewidth\":0,\"ticks\":\"\"}},\"type\":\"scatterternary\"}],\"surface\":[{\"colorbar\":{\"outlinewidth\":0,\"ticks\":\"\"},\"colorscale\":[[0.0,\"#0d0887\"],[0.1111111111111111,\"#46039f\"],[0.2222222222222222,\"#7201a8\"],[0.3333333333333333,\"#9c179e\"],[0.4444444444444444,\"#bd3786\"],[0.5555555555555556,\"#d8576b\"],[0.6666666666666666,\"#ed7953\"],[0.7777777777777778,\"#fb9f3a\"],[0.8888888888888888,\"#fdca26\"],[1.0,\"#f0f921\"]],\"type\":\"surface\"}],\"table\":[{\"cells\":{\"fill\":{\"color\":\"#EBF0F8\"},\"line\":{\"color\":\"white\"}},\"header\":{\"fill\":{\"color\":\"#C8D4E3\"},\"line\":{\"color\":\"white\"}},\"type\":\"table\"}]},\"layout\":{\"annotationdefaults\":{\"arrowcolor\":\"#2a3f5f\",\"arrowhead\":0,\"arrowwidth\":1},\"autotypenumbers\":\"strict\",\"coloraxis\":{\"colorbar\":{\"outlinewidth\":0,\"ticks\":\"\"}},\"colorscale\":{\"diverging\":[[0,\"#8e0152\"],[0.1,\"#c51b7d\"],[0.2,\"#de77ae\"],[0.3,\"#f1b6da\"],[0.4,\"#fde0ef\"],[0.5,\"#f7f7f7\"],[0.6,\"#e6f5d0\"],[0.7,\"#b8e186\"],[0.8,\"#7fbc41\"],[0.9,\"#4d9221\"],[1,\"#276419\"]],\"sequential\":[[0.0,\"#0d0887\"],[0.1111111111111111,\"#46039f\"],[0.2222222222222222,\"#7201a8\"],[0.3333333333333333,\"#9c179e\"],[0.4444444444444444,\"#bd3786\"],[0.5555555555555556,\"#d8576b\"],[0.6666666666666666,\"#ed7953\"],[0.7777777777777778,\"#fb9f3a\"],[0.8888888888888888,\"#fdca26\"],[1.0,\"#f0f921\"]],\"sequentialminus\":[[0.0,\"#0d0887\"],[0.1111111111111111,\"#46039f\"],[0.2222222222222222,\"#7201a8\"],[0.3333333333333333,\"#9c179e\"],[0.4444444444444444,\"#bd3786\"],[0.5555555555555556,\"#d8576b\"],[0.6666666666666666,\"#ed7953\"],[0.7777777777777778,\"#fb9f3a\"],[0.8888888888888888,\"#fdca26\"],[1.0,\"#f0f921\"]]},\"colorway\":[\"#636efa\",\"#EF553B\",\"#00cc96\",\"#ab63fa\",\"#FFA15A\",\"#19d3f3\",\"#FF6692\",\"#B6E880\",\"#FF97FF\",\"#FECB52\"],\"font\":{\"color\":\"#2a3f5f\"},\"geo\":{\"bgcolor\":\"white\",\"lakecolor\":\"white\",\"landcolor\":\"#E5ECF6\",\"showlakes\":true,\"showland\":true,\"subunitcolor\":\"white\"},\"hoverlabel\":{\"align\":\"left\"},\"hovermode\":\"closest\",\"mapbox\":{\"style\":\"light\"},\"paper_bgcolor\":\"white\",\"plot_bgcolor\":\"#E5ECF6\",\"polar\":{\"angularaxis\":{\"gridcolor\":\"white\",\"linecolor\":\"white\",\"ticks\":\"\"},\"bgcolor\":\"#E5ECF6\",\"radialaxis\":{\"gridcolor\":\"white\",\"linecolor\":\"white\",\"ticks\":\"\"}},\"scene\":{\"xaxis\":{\"backgroundcolor\":\"#E5ECF6\",\"gridcolor\":\"white\",\"gridwidth\":2,\"linecolor\":\"white\",\"showbackground\":true,\"ticks\":\"\",\"zerolinecolor\":\"white\"},\"yaxis\":{\"backgroundcolor\":\"#E5ECF6\",\"gridcolor\":\"white\",\"gridwidth\":2,\"linecolor\":\"white\",\"showbackground\":true,\"ticks\":\"\",\"zerolinecolor\":\"white\"},\"zaxis\":{\"backgroundcolor\":\"#E5ECF6\",\"gridcolor\":\"white\",\"gridwidth\":2,\"linecolor\":\"white\",\"showbackground\":true,\"ticks\":\"\",\"zerolinecolor\":\"white\"}},\"shapedefaults\":{\"line\":{\"color\":\"#2a3f5f\"}},\"ternary\":{\"aaxis\":{\"gridcolor\":\"white\",\"linecolor\":\"white\",\"ticks\":\"\"},\"baxis\":{\"gridcolor\":\"white\",\"linecolor\":\"white\",\"ticks\":\"\"},\"bgcolor\":\"#E5ECF6\",\"caxis\":{\"gridcolor\":\"white\",\"linecolor\":\"white\",\"ticks\":\"\"}},\"title\":{\"x\":0.05},\"xaxis\":{\"automargin\":true,\"gridcolor\":\"white\",\"linecolor\":\"white\",\"ticks\":\"\",\"title\":{\"standoff\":15},\"zerolinecolor\":\"white\",\"zerolinewidth\":2},\"yaxis\":{\"automargin\":true,\"gridcolor\":\"white\",\"linecolor\":\"white\",\"ticks\":\"\",\"title\":{\"standoff\":15},\"zerolinecolor\":\"white\",\"zerolinewidth\":2}}},\"xaxis\":{\"anchor\":\"y\",\"domain\":[0.0,1.0],\"title\":{\"text\":\"Year\"}},\"yaxis\":{\"anchor\":\"x\",\"domain\":[0.0,1.0],\"title\":{\"text\":\"Population\"}},\"coloraxis\":{\"colorbar\":{\"title\":{\"text\":\"Life expectancy at birth, total (years)\"}},\"colorscale\":[[0.0,\"#0d0887\"],[0.1111111111111111,\"#46039f\"],[0.2222222222222222,\"#7201a8\"],[0.3333333333333333,\"#9c179e\"],[0.4444444444444444,\"#bd3786\"],[0.5555555555555556,\"#d8576b\"],[0.6666666666666666,\"#ed7953\"],[0.7777777777777778,\"#fb9f3a\"],[0.8888888888888888,\"#fdca26\"],[1.0,\"#f0f921\"]]},\"legend\":{\"tracegroupgap\":0},\"margin\":{\"t\":60},\"barmode\":\"relative\",\"height\":400},                        {\"responsive\": true}                    ).then(function(){\n",
       "                            \n",
       "var gd = document.getElementById('a58431a9-19ce-4808-8975-0ae3b64b262e');\n",
       "var x = new MutationObserver(function (mutations, observer) {{\n",
       "        var display = window.getComputedStyle(gd).display;\n",
       "        if (!display || display === 'none') {{\n",
       "            console.log([gd, 'removed!']);\n",
       "            Plotly.purge(gd);\n",
       "            observer.disconnect();\n",
       "        }}\n",
       "}});\n",
       "\n",
       "// Listen for the removal of the full notebook cells\n",
       "var notebookContainer = gd.closest('#notebook-container');\n",
       "if (notebookContainer) {{\n",
       "    x.observe(notebookContainer, {childList: true});\n",
       "}}\n",
       "\n",
       "// Listen for the clearing of the current output cell\n",
       "var outputEl = gd.closest('.output');\n",
       "if (outputEl) {{\n",
       "    x.observe(outputEl, {childList: true});\n",
       "}}\n",
       "\n",
       "                        })                };                });            </script>        </div>"
      ]
     },
     "metadata": {},
     "output_type": "display_data"
    }
   ],
   "source": [
    "fig = px.bar(dataset, x='Year', y='Population',\n",
    "             hover_data=['Country Name', 'Life expectancy at birth, total (years)', 'GDP per capita'], color='Life expectancy at birth, total (years)',\n",
    "             labels={'pop':'population of Canada'}, height=400)\n",
    "fig.show()"
   ]
  },
  {
   "cell_type": "markdown",
   "metadata": {},
   "source": [
    "### Line Graph to understand trends in Life Expectany in Latin America"
   ]
  },
  {
   "cell_type": "code",
   "execution_count": 214,
   "metadata": {},
   "outputs": [
    {
     "data": {
      "application/vnd.plotly.v1+json": {
       "config": {
        "plotlyServerURL": "https://plot.ly"
       },
       "data": [
        {
         "hovertemplate": "Country Name=Argentina<br>Year=%{x}<br>Life expectancy at birth, total (years)=%{y}<extra></extra>",
         "legendgroup": "Argentina",
         "line": {
          "color": "#636efa",
          "dash": "solid"
         },
         "marker": {
          "symbol": "circle"
         },
         "mode": "lines",
         "name": "Argentina",
         "orientation": "v",
         "showlegend": true,
         "type": "scatter",
         "x": [
          "YR2000",
          "YR2005",
          "YR2010",
          "YR2015"
         ],
         "xaxis": "x",
         "y": [
          73.576,
          74.451,
          75.278,
          76.068
         ],
         "yaxis": "y"
        },
        {
         "hovertemplate": "Country Name=Bahamas, The<br>Year=%{x}<br>Life expectancy at birth, total (years)=%{y}<extra></extra>",
         "legendgroup": "Bahamas, The",
         "line": {
          "color": "#EF553B",
          "dash": "solid"
         },
         "marker": {
          "symbol": "circle"
         },
         "mode": "lines",
         "name": "Bahamas, The",
         "orientation": "v",
         "showlegend": true,
         "type": "scatter",
         "x": [
          "YR2000",
          "YR2005",
          "YR2010",
          "YR2015"
         ],
         "xaxis": "x",
         "y": [
          71.914,
          71.987,
          72.144,
          73.088
         ],
         "yaxis": "y"
        },
        {
         "hovertemplate": "Country Name=Belize<br>Year=%{x}<br>Life expectancy at birth, total (years)=%{y}<extra></extra>",
         "legendgroup": "Belize",
         "line": {
          "color": "#00cc96",
          "dash": "solid"
         },
         "marker": {
          "symbol": "circle"
         },
         "mode": "lines",
         "name": "Belize",
         "orientation": "v",
         "showlegend": true,
         "type": "scatter",
         "x": [
          "YR2000",
          "YR2010",
          "YR2015"
         ],
         "xaxis": "x",
         "y": [
          68.847,
          72.057,
          74.034
         ],
         "yaxis": "y"
        },
        {
         "hovertemplate": "Country Name=Bolivia<br>Year=%{x}<br>Life expectancy at birth, total (years)=%{y}<extra></extra>",
         "legendgroup": "Bolivia",
         "line": {
          "color": "#ab63fa",
          "dash": "solid"
         },
         "marker": {
          "symbol": "circle"
         },
         "mode": "lines",
         "name": "Bolivia",
         "orientation": "v",
         "showlegend": true,
         "type": "scatter",
         "x": [
          "YR2010",
          "YR2015"
         ],
         "xaxis": "x",
         "y": [
          68.007,
          70.277
         ],
         "yaxis": "y"
        },
        {
         "hovertemplate": "Country Name=Brazil<br>Year=%{x}<br>Life expectancy at birth, total (years)=%{y}<extra></extra>",
         "legendgroup": "Brazil",
         "line": {
          "color": "#FFA15A",
          "dash": "solid"
         },
         "marker": {
          "symbol": "circle"
         },
         "mode": "lines",
         "name": "Brazil",
         "orientation": "v",
         "showlegend": true,
         "type": "scatter",
         "x": [
          "YR2000",
          "YR2005",
          "YR2010",
          "YR2015"
         ],
         "xaxis": "x",
         "y": [
          70.116,
          71.896,
          73.619,
          74.994
         ],
         "yaxis": "y"
        },
        {
         "hovertemplate": "Country Name=Barbados<br>Year=%{x}<br>Life expectancy at birth, total (years)=%{y}<extra></extra>",
         "legendgroup": "Barbados",
         "line": {
          "color": "#19d3f3",
          "dash": "solid"
         },
         "marker": {
          "symbol": "circle"
         },
         "mode": "lines",
         "name": "Barbados",
         "orientation": "v",
         "showlegend": true,
         "type": "scatter",
         "x": [
          "YR2000",
          "YR2005",
          "YR2010",
          "YR2015"
         ],
         "xaxis": "x",
         "y": [
          77.162,
          77.915,
          78.364,
          78.801
         ],
         "yaxis": "y"
        },
        {
         "hovertemplate": "Country Name=Chile<br>Year=%{x}<br>Life expectancy at birth, total (years)=%{y}<extra></extra>",
         "legendgroup": "Chile",
         "line": {
          "color": "#FF6692",
          "dash": "solid"
         },
         "marker": {
          "symbol": "circle"
         },
         "mode": "lines",
         "name": "Chile",
         "orientation": "v",
         "showlegend": true,
         "type": "scatter",
         "x": [
          "YR2000",
          "YR2005",
          "YR2010",
          "YR2015"
         ],
         "xaxis": "x",
         "y": [
          76.366,
          77.63,
          78.779,
          79.646
         ],
         "yaxis": "y"
        },
        {
         "hovertemplate": "Country Name=Colombia<br>Year=%{x}<br>Life expectancy at birth, total (years)=%{y}<extra></extra>",
         "legendgroup": "Colombia",
         "line": {
          "color": "#B6E880",
          "dash": "solid"
         },
         "marker": {
          "symbol": "circle"
         },
         "mode": "lines",
         "name": "Colombia",
         "orientation": "v",
         "showlegend": true,
         "type": "scatter",
         "x": [
          "YR2000",
          "YR2005",
          "YR2010",
          "YR2015"
         ],
         "xaxis": "x",
         "y": [
          72.945,
          74.265,
          75.424,
          76.531
         ],
         "yaxis": "y"
        },
        {
         "hovertemplate": "Country Name=Costa Rica<br>Year=%{x}<br>Life expectancy at birth, total (years)=%{y}<extra></extra>",
         "legendgroup": "Costa Rica",
         "line": {
          "color": "#FF97FF",
          "dash": "solid"
         },
         "marker": {
          "symbol": "circle"
         },
         "mode": "lines",
         "name": "Costa Rica",
         "orientation": "v",
         "showlegend": true,
         "type": "scatter",
         "x": [
          "YR2000",
          "YR2010",
          "YR2015"
         ],
         "xaxis": "x",
         "y": [
          77.452,
          78.769,
          79.565
         ],
         "yaxis": "y"
        },
        {
         "hovertemplate": "Country Name=Dominican Republic<br>Year=%{x}<br>Life expectancy at birth, total (years)=%{y}<extra></extra>",
         "legendgroup": "Dominican Republic",
         "line": {
          "color": "#FECB52",
          "dash": "solid"
         },
         "marker": {
          "symbol": "circle"
         },
         "mode": "lines",
         "name": "Dominican Republic",
         "orientation": "v",
         "showlegend": true,
         "type": "scatter",
         "x": [
          "YR2000",
          "YR2010",
          "YR2015"
         ],
         "xaxis": "x",
         "y": [
          69.429,
          72.046,
          73.241
         ],
         "yaxis": "y"
        },
        {
         "hovertemplate": "Country Name=Ecuador<br>Year=%{x}<br>Life expectancy at birth, total (years)=%{y}<extra></extra>",
         "legendgroup": "Ecuador",
         "line": {
          "color": "#636efa",
          "dash": "solid"
         },
         "marker": {
          "symbol": "circle"
         },
         "mode": "lines",
         "name": "Ecuador",
         "orientation": "v",
         "showlegend": true,
         "type": "scatter",
         "x": [
          "YR2000",
          "YR2010",
          "YR2015"
         ],
         "xaxis": "x",
         "y": [
          72.761,
          75.089,
          76.143
         ],
         "yaxis": "y"
        },
        {
         "hovertemplate": "Country Name=Guatemala<br>Year=%{x}<br>Life expectancy at birth, total (years)=%{y}<extra></extra>",
         "legendgroup": "Guatemala",
         "line": {
          "color": "#EF553B",
          "dash": "solid"
         },
         "marker": {
          "symbol": "circle"
         },
         "mode": "lines",
         "name": "Guatemala",
         "orientation": "v",
         "showlegend": true,
         "type": "scatter",
         "x": [
          "YR2010",
          "YR2015"
         ],
         "xaxis": "x",
         "y": [
          71.481,
          73.25
         ],
         "yaxis": "y"
        },
        {
         "hovertemplate": "Country Name=Guyana<br>Year=%{x}<br>Life expectancy at birth, total (years)=%{y}<extra></extra>",
         "legendgroup": "Guyana",
         "line": {
          "color": "#00cc96",
          "dash": "solid"
         },
         "marker": {
          "symbol": "circle"
         },
         "mode": "lines",
         "name": "Guyana",
         "orientation": "v",
         "showlegend": true,
         "type": "scatter",
         "x": [
          "YR2000",
          "YR2005",
          "YR2010",
          "YR2015"
         ],
         "xaxis": "x",
         "y": [
          65.242,
          66.694,
          68.059,
          69.262
         ],
         "yaxis": "y"
        },
        {
         "hovertemplate": "Country Name=Honduras<br>Year=%{x}<br>Life expectancy at birth, total (years)=%{y}<extra></extra>",
         "legendgroup": "Honduras",
         "line": {
          "color": "#ab63fa",
          "dash": "solid"
         },
         "marker": {
          "symbol": "circle"
         },
         "mode": "lines",
         "name": "Honduras",
         "orientation": "v",
         "showlegend": true,
         "type": "scatter",
         "x": [
          "YR2015"
         ],
         "xaxis": "x",
         "y": [
          74.495
         ],
         "yaxis": "y"
        },
        {
         "hovertemplate": "Country Name=Haiti<br>Year=%{x}<br>Life expectancy at birth, total (years)=%{y}<extra></extra>",
         "legendgroup": "Haiti",
         "line": {
          "color": "#FFA15A",
          "dash": "solid"
         },
         "marker": {
          "symbol": "circle"
         },
         "mode": "lines",
         "name": "Haiti",
         "orientation": "v",
         "showlegend": true,
         "type": "scatter",
         "x": [
          "YR2015"
         ],
         "xaxis": "x",
         "y": [
          62.485
         ],
         "yaxis": "y"
        },
        {
         "hovertemplate": "Country Name=Jamaica<br>Year=%{x}<br>Life expectancy at birth, total (years)=%{y}<extra></extra>",
         "legendgroup": "Jamaica",
         "line": {
          "color": "#19d3f3",
          "dash": "solid"
         },
         "marker": {
          "symbol": "circle"
         },
         "mode": "lines",
         "name": "Jamaica",
         "orientation": "v",
         "showlegend": true,
         "type": "scatter",
         "x": [
          "YR2000",
          "YR2005",
          "YR2010",
          "YR2015"
         ],
         "xaxis": "x",
         "y": [
          74.142,
          74.148,
          74.038,
          74.098
         ],
         "yaxis": "y"
        },
        {
         "hovertemplate": "Country Name=St. Lucia<br>Year=%{x}<br>Life expectancy at birth, total (years)=%{y}<extra></extra>",
         "legendgroup": "St. Lucia",
         "line": {
          "color": "#FF6692",
          "dash": "solid"
         },
         "marker": {
          "symbol": "circle"
         },
         "mode": "lines",
         "name": "St. Lucia",
         "orientation": "v",
         "showlegend": true,
         "type": "scatter",
         "x": [
          "YR2005",
          "YR2010",
          "YR2015"
         ],
         "xaxis": "x",
         "y": [
          74.122,
          74.852,
          75.596
         ],
         "yaxis": "y"
        },
        {
         "hovertemplate": "Country Name=Mexico<br>Year=%{x}<br>Life expectancy at birth, total (years)=%{y}<extra></extra>",
         "legendgroup": "Mexico",
         "line": {
          "color": "#B6E880",
          "dash": "solid"
         },
         "marker": {
          "symbol": "circle"
         },
         "mode": "lines",
         "name": "Mexico",
         "orientation": "v",
         "showlegend": true,
         "type": "scatter",
         "x": [
          "YR2000",
          "YR2005",
          "YR2010",
          "YR2015"
         ],
         "xaxis": "x",
         "y": [
          74.34,
          75.3,
          75.065,
          74.904
         ],
         "yaxis": "y"
        },
        {
         "hovertemplate": "Country Name=Nicaragua<br>Year=%{x}<br>Life expectancy at birth, total (years)=%{y}<extra></extra>",
         "legendgroup": "Nicaragua",
         "line": {
          "color": "#FF97FF",
          "dash": "solid"
         },
         "marker": {
          "symbol": "circle"
         },
         "mode": "lines",
         "name": "Nicaragua",
         "orientation": "v",
         "showlegend": true,
         "type": "scatter",
         "x": [
          "YR2000",
          "YR2010",
          "YR2015"
         ],
         "xaxis": "x",
         "y": [
          69.527,
          72.428,
          73.649
         ],
         "yaxis": "y"
        },
        {
         "hovertemplate": "Country Name=Panama<br>Year=%{x}<br>Life expectancy at birth, total (years)=%{y}<extra></extra>",
         "legendgroup": "Panama",
         "line": {
          "color": "#FECB52",
          "dash": "solid"
         },
         "marker": {
          "symbol": "circle"
         },
         "mode": "lines",
         "name": "Panama",
         "orientation": "v",
         "showlegend": true,
         "type": "scatter",
         "x": [
          "YR2000",
          "YR2015"
         ],
         "xaxis": "x",
         "y": [
          75.06,
          77.776
         ],
         "yaxis": "y"
        },
        {
         "hovertemplate": "Country Name=Peru<br>Year=%{x}<br>Life expectancy at birth, total (years)=%{y}<extra></extra>",
         "legendgroup": "Peru",
         "line": {
          "color": "#636efa",
          "dash": "solid"
         },
         "marker": {
          "symbol": "circle"
         },
         "mode": "lines",
         "name": "Peru",
         "orientation": "v",
         "showlegend": true,
         "type": "scatter",
         "x": [
          "YR2000",
          "YR2005",
          "YR2010",
          "YR2015"
         ],
         "xaxis": "x",
         "y": [
          71.111,
          72.908,
          74.41,
          75.792
         ],
         "yaxis": "y"
        },
        {
         "hovertemplate": "Country Name=Paraguay<br>Year=%{x}<br>Life expectancy at birth, total (years)=%{y}<extra></extra>",
         "legendgroup": "Paraguay",
         "line": {
          "color": "#EF553B",
          "dash": "solid"
         },
         "marker": {
          "symbol": "circle"
         },
         "mode": "lines",
         "name": "Paraguay",
         "orientation": "v",
         "showlegend": true,
         "type": "scatter",
         "x": [
          "YR2000",
          "YR2010",
          "YR2015"
         ],
         "xaxis": "x",
         "y": [
          70.546,
          72.653,
          73.662
         ],
         "yaxis": "y"
        },
        {
         "hovertemplate": "Country Name=El Salvador<br>Year=%{x}<br>Life expectancy at birth, total (years)=%{y}<extra></extra>",
         "legendgroup": "El Salvador",
         "line": {
          "color": "#00cc96",
          "dash": "solid"
         },
         "marker": {
          "symbol": "circle"
         },
         "mode": "lines",
         "name": "El Salvador",
         "orientation": "v",
         "showlegend": true,
         "type": "scatter",
         "x": [
          "YR2000",
          "YR2005",
          "YR2010",
          "YR2015"
         ],
         "xaxis": "x",
         "y": [
          68.875,
          70.124,
          71.21,
          72.412
         ],
         "yaxis": "y"
        },
        {
         "hovertemplate": "Country Name=Suriname<br>Year=%{x}<br>Life expectancy at birth, total (years)=%{y}<extra></extra>",
         "legendgroup": "Suriname",
         "line": {
          "color": "#ab63fa",
          "dash": "solid"
         },
         "marker": {
          "symbol": "circle"
         },
         "mode": "lines",
         "name": "Suriname",
         "orientation": "v",
         "showlegend": true,
         "type": "scatter",
         "x": [
          "YR2015"
         ],
         "xaxis": "x",
         "y": [
          71.249
         ],
         "yaxis": "y"
        },
        {
         "hovertemplate": "Country Name=Trinidad and Tobago<br>Year=%{x}<br>Life expectancy at birth, total (years)=%{y}<extra></extra>",
         "legendgroup": "Trinidad and Tobago",
         "line": {
          "color": "#FFA15A",
          "dash": "solid"
         },
         "marker": {
          "symbol": "circle"
         },
         "mode": "lines",
         "name": "Trinidad and Tobago",
         "orientation": "v",
         "showlegend": true,
         "type": "scatter",
         "x": [
          "YR2000",
          "YR2015"
         ],
         "xaxis": "x",
         "y": [
          69.413,
          72.941
         ],
         "yaxis": "y"
        },
        {
         "hovertemplate": "Country Name=Uruguay<br>Year=%{x}<br>Life expectancy at birth, total (years)=%{y}<extra></extra>",
         "legendgroup": "Uruguay",
         "line": {
          "color": "#19d3f3",
          "dash": "solid"
         },
         "marker": {
          "symbol": "circle"
         },
         "mode": "lines",
         "name": "Uruguay",
         "orientation": "v",
         "showlegend": true,
         "type": "scatter",
         "x": [
          "YR2000",
          "YR2005",
          "YR2010",
          "YR2015"
         ],
         "xaxis": "x",
         "y": [
          74.731,
          75.826,
          76.75,
          77.369
         ],
         "yaxis": "y"
        },
        {
         "hovertemplate": "Country Name=St. Vincent and the Grenadines<br>Year=%{x}<br>Life expectancy at birth, total (years)=%{y}<extra></extra>",
         "legendgroup": "St. Vincent and the Grenadines",
         "line": {
          "color": "#FF6692",
          "dash": "solid"
         },
         "marker": {
          "symbol": "circle"
         },
         "mode": "lines",
         "name": "St. Vincent and the Grenadines",
         "orientation": "v",
         "showlegend": true,
         "type": "scatter",
         "x": [
          "YR2000",
          "YR2005",
          "YR2010"
         ],
         "xaxis": "x",
         "y": [
          70.809,
          71.331,
          71.776
         ],
         "yaxis": "y"
        }
       ],
       "layout": {
        "legend": {
         "title": {
          "text": "Country Name"
         },
         "tracegroupgap": 0
        },
        "margin": {
         "t": 60
        },
        "template": {
         "data": {
          "bar": [
           {
            "error_x": {
             "color": "#2a3f5f"
            },
            "error_y": {
             "color": "#2a3f5f"
            },
            "marker": {
             "line": {
              "color": "#E5ECF6",
              "width": 0.5
             },
             "pattern": {
              "fillmode": "overlay",
              "size": 10,
              "solidity": 0.2
             }
            },
            "type": "bar"
           }
          ],
          "barpolar": [
           {
            "marker": {
             "line": {
              "color": "#E5ECF6",
              "width": 0.5
             },
             "pattern": {
              "fillmode": "overlay",
              "size": 10,
              "solidity": 0.2
             }
            },
            "type": "barpolar"
           }
          ],
          "carpet": [
           {
            "aaxis": {
             "endlinecolor": "#2a3f5f",
             "gridcolor": "white",
             "linecolor": "white",
             "minorgridcolor": "white",
             "startlinecolor": "#2a3f5f"
            },
            "baxis": {
             "endlinecolor": "#2a3f5f",
             "gridcolor": "white",
             "linecolor": "white",
             "minorgridcolor": "white",
             "startlinecolor": "#2a3f5f"
            },
            "type": "carpet"
           }
          ],
          "choropleth": [
           {
            "colorbar": {
             "outlinewidth": 0,
             "ticks": ""
            },
            "type": "choropleth"
           }
          ],
          "contour": [
           {
            "colorbar": {
             "outlinewidth": 0,
             "ticks": ""
            },
            "colorscale": [
             [
              0,
              "#0d0887"
             ],
             [
              0.1111111111111111,
              "#46039f"
             ],
             [
              0.2222222222222222,
              "#7201a8"
             ],
             [
              0.3333333333333333,
              "#9c179e"
             ],
             [
              0.4444444444444444,
              "#bd3786"
             ],
             [
              0.5555555555555556,
              "#d8576b"
             ],
             [
              0.6666666666666666,
              "#ed7953"
             ],
             [
              0.7777777777777778,
              "#fb9f3a"
             ],
             [
              0.8888888888888888,
              "#fdca26"
             ],
             [
              1,
              "#f0f921"
             ]
            ],
            "type": "contour"
           }
          ],
          "contourcarpet": [
           {
            "colorbar": {
             "outlinewidth": 0,
             "ticks": ""
            },
            "type": "contourcarpet"
           }
          ],
          "heatmap": [
           {
            "colorbar": {
             "outlinewidth": 0,
             "ticks": ""
            },
            "colorscale": [
             [
              0,
              "#0d0887"
             ],
             [
              0.1111111111111111,
              "#46039f"
             ],
             [
              0.2222222222222222,
              "#7201a8"
             ],
             [
              0.3333333333333333,
              "#9c179e"
             ],
             [
              0.4444444444444444,
              "#bd3786"
             ],
             [
              0.5555555555555556,
              "#d8576b"
             ],
             [
              0.6666666666666666,
              "#ed7953"
             ],
             [
              0.7777777777777778,
              "#fb9f3a"
             ],
             [
              0.8888888888888888,
              "#fdca26"
             ],
             [
              1,
              "#f0f921"
             ]
            ],
            "type": "heatmap"
           }
          ],
          "heatmapgl": [
           {
            "colorbar": {
             "outlinewidth": 0,
             "ticks": ""
            },
            "colorscale": [
             [
              0,
              "#0d0887"
             ],
             [
              0.1111111111111111,
              "#46039f"
             ],
             [
              0.2222222222222222,
              "#7201a8"
             ],
             [
              0.3333333333333333,
              "#9c179e"
             ],
             [
              0.4444444444444444,
              "#bd3786"
             ],
             [
              0.5555555555555556,
              "#d8576b"
             ],
             [
              0.6666666666666666,
              "#ed7953"
             ],
             [
              0.7777777777777778,
              "#fb9f3a"
             ],
             [
              0.8888888888888888,
              "#fdca26"
             ],
             [
              1,
              "#f0f921"
             ]
            ],
            "type": "heatmapgl"
           }
          ],
          "histogram": [
           {
            "marker": {
             "pattern": {
              "fillmode": "overlay",
              "size": 10,
              "solidity": 0.2
             }
            },
            "type": "histogram"
           }
          ],
          "histogram2d": [
           {
            "colorbar": {
             "outlinewidth": 0,
             "ticks": ""
            },
            "colorscale": [
             [
              0,
              "#0d0887"
             ],
             [
              0.1111111111111111,
              "#46039f"
             ],
             [
              0.2222222222222222,
              "#7201a8"
             ],
             [
              0.3333333333333333,
              "#9c179e"
             ],
             [
              0.4444444444444444,
              "#bd3786"
             ],
             [
              0.5555555555555556,
              "#d8576b"
             ],
             [
              0.6666666666666666,
              "#ed7953"
             ],
             [
              0.7777777777777778,
              "#fb9f3a"
             ],
             [
              0.8888888888888888,
              "#fdca26"
             ],
             [
              1,
              "#f0f921"
             ]
            ],
            "type": "histogram2d"
           }
          ],
          "histogram2dcontour": [
           {
            "colorbar": {
             "outlinewidth": 0,
             "ticks": ""
            },
            "colorscale": [
             [
              0,
              "#0d0887"
             ],
             [
              0.1111111111111111,
              "#46039f"
             ],
             [
              0.2222222222222222,
              "#7201a8"
             ],
             [
              0.3333333333333333,
              "#9c179e"
             ],
             [
              0.4444444444444444,
              "#bd3786"
             ],
             [
              0.5555555555555556,
              "#d8576b"
             ],
             [
              0.6666666666666666,
              "#ed7953"
             ],
             [
              0.7777777777777778,
              "#fb9f3a"
             ],
             [
              0.8888888888888888,
              "#fdca26"
             ],
             [
              1,
              "#f0f921"
             ]
            ],
            "type": "histogram2dcontour"
           }
          ],
          "mesh3d": [
           {
            "colorbar": {
             "outlinewidth": 0,
             "ticks": ""
            },
            "type": "mesh3d"
           }
          ],
          "parcoords": [
           {
            "line": {
             "colorbar": {
              "outlinewidth": 0,
              "ticks": ""
             }
            },
            "type": "parcoords"
           }
          ],
          "pie": [
           {
            "automargin": true,
            "type": "pie"
           }
          ],
          "scatter": [
           {
            "marker": {
             "colorbar": {
              "outlinewidth": 0,
              "ticks": ""
             }
            },
            "type": "scatter"
           }
          ],
          "scatter3d": [
           {
            "line": {
             "colorbar": {
              "outlinewidth": 0,
              "ticks": ""
             }
            },
            "marker": {
             "colorbar": {
              "outlinewidth": 0,
              "ticks": ""
             }
            },
            "type": "scatter3d"
           }
          ],
          "scattercarpet": [
           {
            "marker": {
             "colorbar": {
              "outlinewidth": 0,
              "ticks": ""
             }
            },
            "type": "scattercarpet"
           }
          ],
          "scattergeo": [
           {
            "marker": {
             "colorbar": {
              "outlinewidth": 0,
              "ticks": ""
             }
            },
            "type": "scattergeo"
           }
          ],
          "scattergl": [
           {
            "marker": {
             "colorbar": {
              "outlinewidth": 0,
              "ticks": ""
             }
            },
            "type": "scattergl"
           }
          ],
          "scattermapbox": [
           {
            "marker": {
             "colorbar": {
              "outlinewidth": 0,
              "ticks": ""
             }
            },
            "type": "scattermapbox"
           }
          ],
          "scatterpolar": [
           {
            "marker": {
             "colorbar": {
              "outlinewidth": 0,
              "ticks": ""
             }
            },
            "type": "scatterpolar"
           }
          ],
          "scatterpolargl": [
           {
            "marker": {
             "colorbar": {
              "outlinewidth": 0,
              "ticks": ""
             }
            },
            "type": "scatterpolargl"
           }
          ],
          "scatterternary": [
           {
            "marker": {
             "colorbar": {
              "outlinewidth": 0,
              "ticks": ""
             }
            },
            "type": "scatterternary"
           }
          ],
          "surface": [
           {
            "colorbar": {
             "outlinewidth": 0,
             "ticks": ""
            },
            "colorscale": [
             [
              0,
              "#0d0887"
             ],
             [
              0.1111111111111111,
              "#46039f"
             ],
             [
              0.2222222222222222,
              "#7201a8"
             ],
             [
              0.3333333333333333,
              "#9c179e"
             ],
             [
              0.4444444444444444,
              "#bd3786"
             ],
             [
              0.5555555555555556,
              "#d8576b"
             ],
             [
              0.6666666666666666,
              "#ed7953"
             ],
             [
              0.7777777777777778,
              "#fb9f3a"
             ],
             [
              0.8888888888888888,
              "#fdca26"
             ],
             [
              1,
              "#f0f921"
             ]
            ],
            "type": "surface"
           }
          ],
          "table": [
           {
            "cells": {
             "fill": {
              "color": "#EBF0F8"
             },
             "line": {
              "color": "white"
             }
            },
            "header": {
             "fill": {
              "color": "#C8D4E3"
             },
             "line": {
              "color": "white"
             }
            },
            "type": "table"
           }
          ]
         },
         "layout": {
          "annotationdefaults": {
           "arrowcolor": "#2a3f5f",
           "arrowhead": 0,
           "arrowwidth": 1
          },
          "autotypenumbers": "strict",
          "coloraxis": {
           "colorbar": {
            "outlinewidth": 0,
            "ticks": ""
           }
          },
          "colorscale": {
           "diverging": [
            [
             0,
             "#8e0152"
            ],
            [
             0.1,
             "#c51b7d"
            ],
            [
             0.2,
             "#de77ae"
            ],
            [
             0.3,
             "#f1b6da"
            ],
            [
             0.4,
             "#fde0ef"
            ],
            [
             0.5,
             "#f7f7f7"
            ],
            [
             0.6,
             "#e6f5d0"
            ],
            [
             0.7,
             "#b8e186"
            ],
            [
             0.8,
             "#7fbc41"
            ],
            [
             0.9,
             "#4d9221"
            ],
            [
             1,
             "#276419"
            ]
           ],
           "sequential": [
            [
             0,
             "#0d0887"
            ],
            [
             0.1111111111111111,
             "#46039f"
            ],
            [
             0.2222222222222222,
             "#7201a8"
            ],
            [
             0.3333333333333333,
             "#9c179e"
            ],
            [
             0.4444444444444444,
             "#bd3786"
            ],
            [
             0.5555555555555556,
             "#d8576b"
            ],
            [
             0.6666666666666666,
             "#ed7953"
            ],
            [
             0.7777777777777778,
             "#fb9f3a"
            ],
            [
             0.8888888888888888,
             "#fdca26"
            ],
            [
             1,
             "#f0f921"
            ]
           ],
           "sequentialminus": [
            [
             0,
             "#0d0887"
            ],
            [
             0.1111111111111111,
             "#46039f"
            ],
            [
             0.2222222222222222,
             "#7201a8"
            ],
            [
             0.3333333333333333,
             "#9c179e"
            ],
            [
             0.4444444444444444,
             "#bd3786"
            ],
            [
             0.5555555555555556,
             "#d8576b"
            ],
            [
             0.6666666666666666,
             "#ed7953"
            ],
            [
             0.7777777777777778,
             "#fb9f3a"
            ],
            [
             0.8888888888888888,
             "#fdca26"
            ],
            [
             1,
             "#f0f921"
            ]
           ]
          },
          "colorway": [
           "#636efa",
           "#EF553B",
           "#00cc96",
           "#ab63fa",
           "#FFA15A",
           "#19d3f3",
           "#FF6692",
           "#B6E880",
           "#FF97FF",
           "#FECB52"
          ],
          "font": {
           "color": "#2a3f5f"
          },
          "geo": {
           "bgcolor": "white",
           "lakecolor": "white",
           "landcolor": "#E5ECF6",
           "showlakes": true,
           "showland": true,
           "subunitcolor": "white"
          },
          "hoverlabel": {
           "align": "left"
          },
          "hovermode": "closest",
          "mapbox": {
           "style": "light"
          },
          "paper_bgcolor": "white",
          "plot_bgcolor": "#E5ECF6",
          "polar": {
           "angularaxis": {
            "gridcolor": "white",
            "linecolor": "white",
            "ticks": ""
           },
           "bgcolor": "#E5ECF6",
           "radialaxis": {
            "gridcolor": "white",
            "linecolor": "white",
            "ticks": ""
           }
          },
          "scene": {
           "xaxis": {
            "backgroundcolor": "#E5ECF6",
            "gridcolor": "white",
            "gridwidth": 2,
            "linecolor": "white",
            "showbackground": true,
            "ticks": "",
            "zerolinecolor": "white"
           },
           "yaxis": {
            "backgroundcolor": "#E5ECF6",
            "gridcolor": "white",
            "gridwidth": 2,
            "linecolor": "white",
            "showbackground": true,
            "ticks": "",
            "zerolinecolor": "white"
           },
           "zaxis": {
            "backgroundcolor": "#E5ECF6",
            "gridcolor": "white",
            "gridwidth": 2,
            "linecolor": "white",
            "showbackground": true,
            "ticks": "",
            "zerolinecolor": "white"
           }
          },
          "shapedefaults": {
           "line": {
            "color": "#2a3f5f"
           }
          },
          "ternary": {
           "aaxis": {
            "gridcolor": "white",
            "linecolor": "white",
            "ticks": ""
           },
           "baxis": {
            "gridcolor": "white",
            "linecolor": "white",
            "ticks": ""
           },
           "bgcolor": "#E5ECF6",
           "caxis": {
            "gridcolor": "white",
            "linecolor": "white",
            "ticks": ""
           }
          },
          "title": {
           "x": 0.05
          },
          "xaxis": {
           "automargin": true,
           "gridcolor": "white",
           "linecolor": "white",
           "ticks": "",
           "title": {
            "standoff": 15
           },
           "zerolinecolor": "white",
           "zerolinewidth": 2
          },
          "yaxis": {
           "automargin": true,
           "gridcolor": "white",
           "linecolor": "white",
           "ticks": "",
           "title": {
            "standoff": 15
           },
           "zerolinecolor": "white",
           "zerolinewidth": 2
          }
         }
        },
        "xaxis": {
         "anchor": "y",
         "domain": [
          0,
          1
         ],
         "title": {
          "text": "Year"
         }
        },
        "yaxis": {
         "anchor": "x",
         "domain": [
          0,
          1
         ],
         "title": {
          "text": "Life expectancy at birth, total (years)"
         }
        }
       }
      },
      "text/html": [
       "<div>                            <div id=\"1c4f09fd-1014-4f15-9858-b1df8ff78c0d\" class=\"plotly-graph-div\" style=\"height:525px; width:100%;\"></div>            <script type=\"text/javascript\">                require([\"plotly\"], function(Plotly) {                    window.PLOTLYENV=window.PLOTLYENV || {};                                    if (document.getElementById(\"1c4f09fd-1014-4f15-9858-b1df8ff78c0d\")) {                    Plotly.newPlot(                        \"1c4f09fd-1014-4f15-9858-b1df8ff78c0d\",                        [{\"hovertemplate\":\"Country Name=Argentina<br>Year=%{x}<br>Life expectancy at birth, total (years)=%{y}<extra></extra>\",\"legendgroup\":\"Argentina\",\"line\":{\"color\":\"#636efa\",\"dash\":\"solid\"},\"marker\":{\"symbol\":\"circle\"},\"mode\":\"lines\",\"name\":\"Argentina\",\"orientation\":\"v\",\"showlegend\":true,\"x\":[\"YR2000\",\"YR2005\",\"YR2010\",\"YR2015\"],\"xaxis\":\"x\",\"y\":[73.576,74.451,75.278,76.068],\"yaxis\":\"y\",\"type\":\"scatter\"},{\"hovertemplate\":\"Country Name=Bahamas, The<br>Year=%{x}<br>Life expectancy at birth, total (years)=%{y}<extra></extra>\",\"legendgroup\":\"Bahamas, The\",\"line\":{\"color\":\"#EF553B\",\"dash\":\"solid\"},\"marker\":{\"symbol\":\"circle\"},\"mode\":\"lines\",\"name\":\"Bahamas, The\",\"orientation\":\"v\",\"showlegend\":true,\"x\":[\"YR2000\",\"YR2005\",\"YR2010\",\"YR2015\"],\"xaxis\":\"x\",\"y\":[71.914,71.987,72.144,73.088],\"yaxis\":\"y\",\"type\":\"scatter\"},{\"hovertemplate\":\"Country Name=Belize<br>Year=%{x}<br>Life expectancy at birth, total (years)=%{y}<extra></extra>\",\"legendgroup\":\"Belize\",\"line\":{\"color\":\"#00cc96\",\"dash\":\"solid\"},\"marker\":{\"symbol\":\"circle\"},\"mode\":\"lines\",\"name\":\"Belize\",\"orientation\":\"v\",\"showlegend\":true,\"x\":[\"YR2000\",\"YR2010\",\"YR2015\"],\"xaxis\":\"x\",\"y\":[68.847,72.057,74.034],\"yaxis\":\"y\",\"type\":\"scatter\"},{\"hovertemplate\":\"Country Name=Bolivia<br>Year=%{x}<br>Life expectancy at birth, total (years)=%{y}<extra></extra>\",\"legendgroup\":\"Bolivia\",\"line\":{\"color\":\"#ab63fa\",\"dash\":\"solid\"},\"marker\":{\"symbol\":\"circle\"},\"mode\":\"lines\",\"name\":\"Bolivia\",\"orientation\":\"v\",\"showlegend\":true,\"x\":[\"YR2010\",\"YR2015\"],\"xaxis\":\"x\",\"y\":[68.007,70.277],\"yaxis\":\"y\",\"type\":\"scatter\"},{\"hovertemplate\":\"Country Name=Brazil<br>Year=%{x}<br>Life expectancy at birth, total (years)=%{y}<extra></extra>\",\"legendgroup\":\"Brazil\",\"line\":{\"color\":\"#FFA15A\",\"dash\":\"solid\"},\"marker\":{\"symbol\":\"circle\"},\"mode\":\"lines\",\"name\":\"Brazil\",\"orientation\":\"v\",\"showlegend\":true,\"x\":[\"YR2000\",\"YR2005\",\"YR2010\",\"YR2015\"],\"xaxis\":\"x\",\"y\":[70.116,71.896,73.619,74.994],\"yaxis\":\"y\",\"type\":\"scatter\"},{\"hovertemplate\":\"Country Name=Barbados<br>Year=%{x}<br>Life expectancy at birth, total (years)=%{y}<extra></extra>\",\"legendgroup\":\"Barbados\",\"line\":{\"color\":\"#19d3f3\",\"dash\":\"solid\"},\"marker\":{\"symbol\":\"circle\"},\"mode\":\"lines\",\"name\":\"Barbados\",\"orientation\":\"v\",\"showlegend\":true,\"x\":[\"YR2000\",\"YR2005\",\"YR2010\",\"YR2015\"],\"xaxis\":\"x\",\"y\":[77.162,77.915,78.364,78.801],\"yaxis\":\"y\",\"type\":\"scatter\"},{\"hovertemplate\":\"Country Name=Chile<br>Year=%{x}<br>Life expectancy at birth, total (years)=%{y}<extra></extra>\",\"legendgroup\":\"Chile\",\"line\":{\"color\":\"#FF6692\",\"dash\":\"solid\"},\"marker\":{\"symbol\":\"circle\"},\"mode\":\"lines\",\"name\":\"Chile\",\"orientation\":\"v\",\"showlegend\":true,\"x\":[\"YR2000\",\"YR2005\",\"YR2010\",\"YR2015\"],\"xaxis\":\"x\",\"y\":[76.366,77.63,78.779,79.646],\"yaxis\":\"y\",\"type\":\"scatter\"},{\"hovertemplate\":\"Country Name=Colombia<br>Year=%{x}<br>Life expectancy at birth, total (years)=%{y}<extra></extra>\",\"legendgroup\":\"Colombia\",\"line\":{\"color\":\"#B6E880\",\"dash\":\"solid\"},\"marker\":{\"symbol\":\"circle\"},\"mode\":\"lines\",\"name\":\"Colombia\",\"orientation\":\"v\",\"showlegend\":true,\"x\":[\"YR2000\",\"YR2005\",\"YR2010\",\"YR2015\"],\"xaxis\":\"x\",\"y\":[72.945,74.265,75.424,76.531],\"yaxis\":\"y\",\"type\":\"scatter\"},{\"hovertemplate\":\"Country Name=Costa Rica<br>Year=%{x}<br>Life expectancy at birth, total (years)=%{y}<extra></extra>\",\"legendgroup\":\"Costa Rica\",\"line\":{\"color\":\"#FF97FF\",\"dash\":\"solid\"},\"marker\":{\"symbol\":\"circle\"},\"mode\":\"lines\",\"name\":\"Costa Rica\",\"orientation\":\"v\",\"showlegend\":true,\"x\":[\"YR2000\",\"YR2010\",\"YR2015\"],\"xaxis\":\"x\",\"y\":[77.452,78.769,79.565],\"yaxis\":\"y\",\"type\":\"scatter\"},{\"hovertemplate\":\"Country Name=Dominican Republic<br>Year=%{x}<br>Life expectancy at birth, total (years)=%{y}<extra></extra>\",\"legendgroup\":\"Dominican Republic\",\"line\":{\"color\":\"#FECB52\",\"dash\":\"solid\"},\"marker\":{\"symbol\":\"circle\"},\"mode\":\"lines\",\"name\":\"Dominican Republic\",\"orientation\":\"v\",\"showlegend\":true,\"x\":[\"YR2000\",\"YR2010\",\"YR2015\"],\"xaxis\":\"x\",\"y\":[69.429,72.046,73.241],\"yaxis\":\"y\",\"type\":\"scatter\"},{\"hovertemplate\":\"Country Name=Ecuador<br>Year=%{x}<br>Life expectancy at birth, total (years)=%{y}<extra></extra>\",\"legendgroup\":\"Ecuador\",\"line\":{\"color\":\"#636efa\",\"dash\":\"solid\"},\"marker\":{\"symbol\":\"circle\"},\"mode\":\"lines\",\"name\":\"Ecuador\",\"orientation\":\"v\",\"showlegend\":true,\"x\":[\"YR2000\",\"YR2010\",\"YR2015\"],\"xaxis\":\"x\",\"y\":[72.761,75.089,76.143],\"yaxis\":\"y\",\"type\":\"scatter\"},{\"hovertemplate\":\"Country Name=Guatemala<br>Year=%{x}<br>Life expectancy at birth, total (years)=%{y}<extra></extra>\",\"legendgroup\":\"Guatemala\",\"line\":{\"color\":\"#EF553B\",\"dash\":\"solid\"},\"marker\":{\"symbol\":\"circle\"},\"mode\":\"lines\",\"name\":\"Guatemala\",\"orientation\":\"v\",\"showlegend\":true,\"x\":[\"YR2010\",\"YR2015\"],\"xaxis\":\"x\",\"y\":[71.481,73.25],\"yaxis\":\"y\",\"type\":\"scatter\"},{\"hovertemplate\":\"Country Name=Guyana<br>Year=%{x}<br>Life expectancy at birth, total (years)=%{y}<extra></extra>\",\"legendgroup\":\"Guyana\",\"line\":{\"color\":\"#00cc96\",\"dash\":\"solid\"},\"marker\":{\"symbol\":\"circle\"},\"mode\":\"lines\",\"name\":\"Guyana\",\"orientation\":\"v\",\"showlegend\":true,\"x\":[\"YR2000\",\"YR2005\",\"YR2010\",\"YR2015\"],\"xaxis\":\"x\",\"y\":[65.242,66.694,68.059,69.262],\"yaxis\":\"y\",\"type\":\"scatter\"},{\"hovertemplate\":\"Country Name=Honduras<br>Year=%{x}<br>Life expectancy at birth, total (years)=%{y}<extra></extra>\",\"legendgroup\":\"Honduras\",\"line\":{\"color\":\"#ab63fa\",\"dash\":\"solid\"},\"marker\":{\"symbol\":\"circle\"},\"mode\":\"lines\",\"name\":\"Honduras\",\"orientation\":\"v\",\"showlegend\":true,\"x\":[\"YR2015\"],\"xaxis\":\"x\",\"y\":[74.495],\"yaxis\":\"y\",\"type\":\"scatter\"},{\"hovertemplate\":\"Country Name=Haiti<br>Year=%{x}<br>Life expectancy at birth, total (years)=%{y}<extra></extra>\",\"legendgroup\":\"Haiti\",\"line\":{\"color\":\"#FFA15A\",\"dash\":\"solid\"},\"marker\":{\"symbol\":\"circle\"},\"mode\":\"lines\",\"name\":\"Haiti\",\"orientation\":\"v\",\"showlegend\":true,\"x\":[\"YR2015\"],\"xaxis\":\"x\",\"y\":[62.485],\"yaxis\":\"y\",\"type\":\"scatter\"},{\"hovertemplate\":\"Country Name=Jamaica<br>Year=%{x}<br>Life expectancy at birth, total (years)=%{y}<extra></extra>\",\"legendgroup\":\"Jamaica\",\"line\":{\"color\":\"#19d3f3\",\"dash\":\"solid\"},\"marker\":{\"symbol\":\"circle\"},\"mode\":\"lines\",\"name\":\"Jamaica\",\"orientation\":\"v\",\"showlegend\":true,\"x\":[\"YR2000\",\"YR2005\",\"YR2010\",\"YR2015\"],\"xaxis\":\"x\",\"y\":[74.142,74.148,74.038,74.098],\"yaxis\":\"y\",\"type\":\"scatter\"},{\"hovertemplate\":\"Country Name=St. Lucia<br>Year=%{x}<br>Life expectancy at birth, total (years)=%{y}<extra></extra>\",\"legendgroup\":\"St. Lucia\",\"line\":{\"color\":\"#FF6692\",\"dash\":\"solid\"},\"marker\":{\"symbol\":\"circle\"},\"mode\":\"lines\",\"name\":\"St. Lucia\",\"orientation\":\"v\",\"showlegend\":true,\"x\":[\"YR2005\",\"YR2010\",\"YR2015\"],\"xaxis\":\"x\",\"y\":[74.122,74.852,75.596],\"yaxis\":\"y\",\"type\":\"scatter\"},{\"hovertemplate\":\"Country Name=Mexico<br>Year=%{x}<br>Life expectancy at birth, total (years)=%{y}<extra></extra>\",\"legendgroup\":\"Mexico\",\"line\":{\"color\":\"#B6E880\",\"dash\":\"solid\"},\"marker\":{\"symbol\":\"circle\"},\"mode\":\"lines\",\"name\":\"Mexico\",\"orientation\":\"v\",\"showlegend\":true,\"x\":[\"YR2000\",\"YR2005\",\"YR2010\",\"YR2015\"],\"xaxis\":\"x\",\"y\":[74.34,75.3,75.065,74.904],\"yaxis\":\"y\",\"type\":\"scatter\"},{\"hovertemplate\":\"Country Name=Nicaragua<br>Year=%{x}<br>Life expectancy at birth, total (years)=%{y}<extra></extra>\",\"legendgroup\":\"Nicaragua\",\"line\":{\"color\":\"#FF97FF\",\"dash\":\"solid\"},\"marker\":{\"symbol\":\"circle\"},\"mode\":\"lines\",\"name\":\"Nicaragua\",\"orientation\":\"v\",\"showlegend\":true,\"x\":[\"YR2000\",\"YR2010\",\"YR2015\"],\"xaxis\":\"x\",\"y\":[69.527,72.428,73.649],\"yaxis\":\"y\",\"type\":\"scatter\"},{\"hovertemplate\":\"Country Name=Panama<br>Year=%{x}<br>Life expectancy at birth, total (years)=%{y}<extra></extra>\",\"legendgroup\":\"Panama\",\"line\":{\"color\":\"#FECB52\",\"dash\":\"solid\"},\"marker\":{\"symbol\":\"circle\"},\"mode\":\"lines\",\"name\":\"Panama\",\"orientation\":\"v\",\"showlegend\":true,\"x\":[\"YR2000\",\"YR2015\"],\"xaxis\":\"x\",\"y\":[75.06,77.776],\"yaxis\":\"y\",\"type\":\"scatter\"},{\"hovertemplate\":\"Country Name=Peru<br>Year=%{x}<br>Life expectancy at birth, total (years)=%{y}<extra></extra>\",\"legendgroup\":\"Peru\",\"line\":{\"color\":\"#636efa\",\"dash\":\"solid\"},\"marker\":{\"symbol\":\"circle\"},\"mode\":\"lines\",\"name\":\"Peru\",\"orientation\":\"v\",\"showlegend\":true,\"x\":[\"YR2000\",\"YR2005\",\"YR2010\",\"YR2015\"],\"xaxis\":\"x\",\"y\":[71.111,72.908,74.41,75.792],\"yaxis\":\"y\",\"type\":\"scatter\"},{\"hovertemplate\":\"Country Name=Paraguay<br>Year=%{x}<br>Life expectancy at birth, total (years)=%{y}<extra></extra>\",\"legendgroup\":\"Paraguay\",\"line\":{\"color\":\"#EF553B\",\"dash\":\"solid\"},\"marker\":{\"symbol\":\"circle\"},\"mode\":\"lines\",\"name\":\"Paraguay\",\"orientation\":\"v\",\"showlegend\":true,\"x\":[\"YR2000\",\"YR2010\",\"YR2015\"],\"xaxis\":\"x\",\"y\":[70.546,72.653,73.662],\"yaxis\":\"y\",\"type\":\"scatter\"},{\"hovertemplate\":\"Country Name=El Salvador<br>Year=%{x}<br>Life expectancy at birth, total (years)=%{y}<extra></extra>\",\"legendgroup\":\"El Salvador\",\"line\":{\"color\":\"#00cc96\",\"dash\":\"solid\"},\"marker\":{\"symbol\":\"circle\"},\"mode\":\"lines\",\"name\":\"El Salvador\",\"orientation\":\"v\",\"showlegend\":true,\"x\":[\"YR2000\",\"YR2005\",\"YR2010\",\"YR2015\"],\"xaxis\":\"x\",\"y\":[68.875,70.124,71.21,72.412],\"yaxis\":\"y\",\"type\":\"scatter\"},{\"hovertemplate\":\"Country Name=Suriname<br>Year=%{x}<br>Life expectancy at birth, total (years)=%{y}<extra></extra>\",\"legendgroup\":\"Suriname\",\"line\":{\"color\":\"#ab63fa\",\"dash\":\"solid\"},\"marker\":{\"symbol\":\"circle\"},\"mode\":\"lines\",\"name\":\"Suriname\",\"orientation\":\"v\",\"showlegend\":true,\"x\":[\"YR2015\"],\"xaxis\":\"x\",\"y\":[71.249],\"yaxis\":\"y\",\"type\":\"scatter\"},{\"hovertemplate\":\"Country Name=Trinidad and Tobago<br>Year=%{x}<br>Life expectancy at birth, total (years)=%{y}<extra></extra>\",\"legendgroup\":\"Trinidad and Tobago\",\"line\":{\"color\":\"#FFA15A\",\"dash\":\"solid\"},\"marker\":{\"symbol\":\"circle\"},\"mode\":\"lines\",\"name\":\"Trinidad and Tobago\",\"orientation\":\"v\",\"showlegend\":true,\"x\":[\"YR2000\",\"YR2015\"],\"xaxis\":\"x\",\"y\":[69.413,72.941],\"yaxis\":\"y\",\"type\":\"scatter\"},{\"hovertemplate\":\"Country Name=Uruguay<br>Year=%{x}<br>Life expectancy at birth, total (years)=%{y}<extra></extra>\",\"legendgroup\":\"Uruguay\",\"line\":{\"color\":\"#19d3f3\",\"dash\":\"solid\"},\"marker\":{\"symbol\":\"circle\"},\"mode\":\"lines\",\"name\":\"Uruguay\",\"orientation\":\"v\",\"showlegend\":true,\"x\":[\"YR2000\",\"YR2005\",\"YR2010\",\"YR2015\"],\"xaxis\":\"x\",\"y\":[74.731,75.826,76.75,77.369],\"yaxis\":\"y\",\"type\":\"scatter\"},{\"hovertemplate\":\"Country Name=St. Vincent and the Grenadines<br>Year=%{x}<br>Life expectancy at birth, total (years)=%{y}<extra></extra>\",\"legendgroup\":\"St. Vincent and the Grenadines\",\"line\":{\"color\":\"#FF6692\",\"dash\":\"solid\"},\"marker\":{\"symbol\":\"circle\"},\"mode\":\"lines\",\"name\":\"St. Vincent and the Grenadines\",\"orientation\":\"v\",\"showlegend\":true,\"x\":[\"YR2000\",\"YR2005\",\"YR2010\"],\"xaxis\":\"x\",\"y\":[70.809,71.331,71.776],\"yaxis\":\"y\",\"type\":\"scatter\"}],                        {\"template\":{\"data\":{\"bar\":[{\"error_x\":{\"color\":\"#2a3f5f\"},\"error_y\":{\"color\":\"#2a3f5f\"},\"marker\":{\"line\":{\"color\":\"#E5ECF6\",\"width\":0.5},\"pattern\":{\"fillmode\":\"overlay\",\"size\":10,\"solidity\":0.2}},\"type\":\"bar\"}],\"barpolar\":[{\"marker\":{\"line\":{\"color\":\"#E5ECF6\",\"width\":0.5},\"pattern\":{\"fillmode\":\"overlay\",\"size\":10,\"solidity\":0.2}},\"type\":\"barpolar\"}],\"carpet\":[{\"aaxis\":{\"endlinecolor\":\"#2a3f5f\",\"gridcolor\":\"white\",\"linecolor\":\"white\",\"minorgridcolor\":\"white\",\"startlinecolor\":\"#2a3f5f\"},\"baxis\":{\"endlinecolor\":\"#2a3f5f\",\"gridcolor\":\"white\",\"linecolor\":\"white\",\"minorgridcolor\":\"white\",\"startlinecolor\":\"#2a3f5f\"},\"type\":\"carpet\"}],\"choropleth\":[{\"colorbar\":{\"outlinewidth\":0,\"ticks\":\"\"},\"type\":\"choropleth\"}],\"contour\":[{\"colorbar\":{\"outlinewidth\":0,\"ticks\":\"\"},\"colorscale\":[[0.0,\"#0d0887\"],[0.1111111111111111,\"#46039f\"],[0.2222222222222222,\"#7201a8\"],[0.3333333333333333,\"#9c179e\"],[0.4444444444444444,\"#bd3786\"],[0.5555555555555556,\"#d8576b\"],[0.6666666666666666,\"#ed7953\"],[0.7777777777777778,\"#fb9f3a\"],[0.8888888888888888,\"#fdca26\"],[1.0,\"#f0f921\"]],\"type\":\"contour\"}],\"contourcarpet\":[{\"colorbar\":{\"outlinewidth\":0,\"ticks\":\"\"},\"type\":\"contourcarpet\"}],\"heatmap\":[{\"colorbar\":{\"outlinewidth\":0,\"ticks\":\"\"},\"colorscale\":[[0.0,\"#0d0887\"],[0.1111111111111111,\"#46039f\"],[0.2222222222222222,\"#7201a8\"],[0.3333333333333333,\"#9c179e\"],[0.4444444444444444,\"#bd3786\"],[0.5555555555555556,\"#d8576b\"],[0.6666666666666666,\"#ed7953\"],[0.7777777777777778,\"#fb9f3a\"],[0.8888888888888888,\"#fdca26\"],[1.0,\"#f0f921\"]],\"type\":\"heatmap\"}],\"heatmapgl\":[{\"colorbar\":{\"outlinewidth\":0,\"ticks\":\"\"},\"colorscale\":[[0.0,\"#0d0887\"],[0.1111111111111111,\"#46039f\"],[0.2222222222222222,\"#7201a8\"],[0.3333333333333333,\"#9c179e\"],[0.4444444444444444,\"#bd3786\"],[0.5555555555555556,\"#d8576b\"],[0.6666666666666666,\"#ed7953\"],[0.7777777777777778,\"#fb9f3a\"],[0.8888888888888888,\"#fdca26\"],[1.0,\"#f0f921\"]],\"type\":\"heatmapgl\"}],\"histogram\":[{\"marker\":{\"pattern\":{\"fillmode\":\"overlay\",\"size\":10,\"solidity\":0.2}},\"type\":\"histogram\"}],\"histogram2d\":[{\"colorbar\":{\"outlinewidth\":0,\"ticks\":\"\"},\"colorscale\":[[0.0,\"#0d0887\"],[0.1111111111111111,\"#46039f\"],[0.2222222222222222,\"#7201a8\"],[0.3333333333333333,\"#9c179e\"],[0.4444444444444444,\"#bd3786\"],[0.5555555555555556,\"#d8576b\"],[0.6666666666666666,\"#ed7953\"],[0.7777777777777778,\"#fb9f3a\"],[0.8888888888888888,\"#fdca26\"],[1.0,\"#f0f921\"]],\"type\":\"histogram2d\"}],\"histogram2dcontour\":[{\"colorbar\":{\"outlinewidth\":0,\"ticks\":\"\"},\"colorscale\":[[0.0,\"#0d0887\"],[0.1111111111111111,\"#46039f\"],[0.2222222222222222,\"#7201a8\"],[0.3333333333333333,\"#9c179e\"],[0.4444444444444444,\"#bd3786\"],[0.5555555555555556,\"#d8576b\"],[0.6666666666666666,\"#ed7953\"],[0.7777777777777778,\"#fb9f3a\"],[0.8888888888888888,\"#fdca26\"],[1.0,\"#f0f921\"]],\"type\":\"histogram2dcontour\"}],\"mesh3d\":[{\"colorbar\":{\"outlinewidth\":0,\"ticks\":\"\"},\"type\":\"mesh3d\"}],\"parcoords\":[{\"line\":{\"colorbar\":{\"outlinewidth\":0,\"ticks\":\"\"}},\"type\":\"parcoords\"}],\"pie\":[{\"automargin\":true,\"type\":\"pie\"}],\"scatter\":[{\"marker\":{\"colorbar\":{\"outlinewidth\":0,\"ticks\":\"\"}},\"type\":\"scatter\"}],\"scatter3d\":[{\"line\":{\"colorbar\":{\"outlinewidth\":0,\"ticks\":\"\"}},\"marker\":{\"colorbar\":{\"outlinewidth\":0,\"ticks\":\"\"}},\"type\":\"scatter3d\"}],\"scattercarpet\":[{\"marker\":{\"colorbar\":{\"outlinewidth\":0,\"ticks\":\"\"}},\"type\":\"scattercarpet\"}],\"scattergeo\":[{\"marker\":{\"colorbar\":{\"outlinewidth\":0,\"ticks\":\"\"}},\"type\":\"scattergeo\"}],\"scattergl\":[{\"marker\":{\"colorbar\":{\"outlinewidth\":0,\"ticks\":\"\"}},\"type\":\"scattergl\"}],\"scattermapbox\":[{\"marker\":{\"colorbar\":{\"outlinewidth\":0,\"ticks\":\"\"}},\"type\":\"scattermapbox\"}],\"scatterpolar\":[{\"marker\":{\"colorbar\":{\"outlinewidth\":0,\"ticks\":\"\"}},\"type\":\"scatterpolar\"}],\"scatterpolargl\":[{\"marker\":{\"colorbar\":{\"outlinewidth\":0,\"ticks\":\"\"}},\"type\":\"scatterpolargl\"}],\"scatterternary\":[{\"marker\":{\"colorbar\":{\"outlinewidth\":0,\"ticks\":\"\"}},\"type\":\"scatterternary\"}],\"surface\":[{\"colorbar\":{\"outlinewidth\":0,\"ticks\":\"\"},\"colorscale\":[[0.0,\"#0d0887\"],[0.1111111111111111,\"#46039f\"],[0.2222222222222222,\"#7201a8\"],[0.3333333333333333,\"#9c179e\"],[0.4444444444444444,\"#bd3786\"],[0.5555555555555556,\"#d8576b\"],[0.6666666666666666,\"#ed7953\"],[0.7777777777777778,\"#fb9f3a\"],[0.8888888888888888,\"#fdca26\"],[1.0,\"#f0f921\"]],\"type\":\"surface\"}],\"table\":[{\"cells\":{\"fill\":{\"color\":\"#EBF0F8\"},\"line\":{\"color\":\"white\"}},\"header\":{\"fill\":{\"color\":\"#C8D4E3\"},\"line\":{\"color\":\"white\"}},\"type\":\"table\"}]},\"layout\":{\"annotationdefaults\":{\"arrowcolor\":\"#2a3f5f\",\"arrowhead\":0,\"arrowwidth\":1},\"autotypenumbers\":\"strict\",\"coloraxis\":{\"colorbar\":{\"outlinewidth\":0,\"ticks\":\"\"}},\"colorscale\":{\"diverging\":[[0,\"#8e0152\"],[0.1,\"#c51b7d\"],[0.2,\"#de77ae\"],[0.3,\"#f1b6da\"],[0.4,\"#fde0ef\"],[0.5,\"#f7f7f7\"],[0.6,\"#e6f5d0\"],[0.7,\"#b8e186\"],[0.8,\"#7fbc41\"],[0.9,\"#4d9221\"],[1,\"#276419\"]],\"sequential\":[[0.0,\"#0d0887\"],[0.1111111111111111,\"#46039f\"],[0.2222222222222222,\"#7201a8\"],[0.3333333333333333,\"#9c179e\"],[0.4444444444444444,\"#bd3786\"],[0.5555555555555556,\"#d8576b\"],[0.6666666666666666,\"#ed7953\"],[0.7777777777777778,\"#fb9f3a\"],[0.8888888888888888,\"#fdca26\"],[1.0,\"#f0f921\"]],\"sequentialminus\":[[0.0,\"#0d0887\"],[0.1111111111111111,\"#46039f\"],[0.2222222222222222,\"#7201a8\"],[0.3333333333333333,\"#9c179e\"],[0.4444444444444444,\"#bd3786\"],[0.5555555555555556,\"#d8576b\"],[0.6666666666666666,\"#ed7953\"],[0.7777777777777778,\"#fb9f3a\"],[0.8888888888888888,\"#fdca26\"],[1.0,\"#f0f921\"]]},\"colorway\":[\"#636efa\",\"#EF553B\",\"#00cc96\",\"#ab63fa\",\"#FFA15A\",\"#19d3f3\",\"#FF6692\",\"#B6E880\",\"#FF97FF\",\"#FECB52\"],\"font\":{\"color\":\"#2a3f5f\"},\"geo\":{\"bgcolor\":\"white\",\"lakecolor\":\"white\",\"landcolor\":\"#E5ECF6\",\"showlakes\":true,\"showland\":true,\"subunitcolor\":\"white\"},\"hoverlabel\":{\"align\":\"left\"},\"hovermode\":\"closest\",\"mapbox\":{\"style\":\"light\"},\"paper_bgcolor\":\"white\",\"plot_bgcolor\":\"#E5ECF6\",\"polar\":{\"angularaxis\":{\"gridcolor\":\"white\",\"linecolor\":\"white\",\"ticks\":\"\"},\"bgcolor\":\"#E5ECF6\",\"radialaxis\":{\"gridcolor\":\"white\",\"linecolor\":\"white\",\"ticks\":\"\"}},\"scene\":{\"xaxis\":{\"backgroundcolor\":\"#E5ECF6\",\"gridcolor\":\"white\",\"gridwidth\":2,\"linecolor\":\"white\",\"showbackground\":true,\"ticks\":\"\",\"zerolinecolor\":\"white\"},\"yaxis\":{\"backgroundcolor\":\"#E5ECF6\",\"gridcolor\":\"white\",\"gridwidth\":2,\"linecolor\":\"white\",\"showbackground\":true,\"ticks\":\"\",\"zerolinecolor\":\"white\"},\"zaxis\":{\"backgroundcolor\":\"#E5ECF6\",\"gridcolor\":\"white\",\"gridwidth\":2,\"linecolor\":\"white\",\"showbackground\":true,\"ticks\":\"\",\"zerolinecolor\":\"white\"}},\"shapedefaults\":{\"line\":{\"color\":\"#2a3f5f\"}},\"ternary\":{\"aaxis\":{\"gridcolor\":\"white\",\"linecolor\":\"white\",\"ticks\":\"\"},\"baxis\":{\"gridcolor\":\"white\",\"linecolor\":\"white\",\"ticks\":\"\"},\"bgcolor\":\"#E5ECF6\",\"caxis\":{\"gridcolor\":\"white\",\"linecolor\":\"white\",\"ticks\":\"\"}},\"title\":{\"x\":0.05},\"xaxis\":{\"automargin\":true,\"gridcolor\":\"white\",\"linecolor\":\"white\",\"ticks\":\"\",\"title\":{\"standoff\":15},\"zerolinecolor\":\"white\",\"zerolinewidth\":2},\"yaxis\":{\"automargin\":true,\"gridcolor\":\"white\",\"linecolor\":\"white\",\"ticks\":\"\",\"title\":{\"standoff\":15},\"zerolinecolor\":\"white\",\"zerolinewidth\":2}}},\"xaxis\":{\"anchor\":\"y\",\"domain\":[0.0,1.0],\"title\":{\"text\":\"Year\"}},\"yaxis\":{\"anchor\":\"x\",\"domain\":[0.0,1.0],\"title\":{\"text\":\"Life expectancy at birth, total (years)\"}},\"legend\":{\"title\":{\"text\":\"Country Name\"},\"tracegroupgap\":0},\"margin\":{\"t\":60}},                        {\"responsive\": true}                    ).then(function(){\n",
       "                            \n",
       "var gd = document.getElementById('1c4f09fd-1014-4f15-9858-b1df8ff78c0d');\n",
       "var x = new MutationObserver(function (mutations, observer) {{\n",
       "        var display = window.getComputedStyle(gd).display;\n",
       "        if (!display || display === 'none') {{\n",
       "            console.log([gd, 'removed!']);\n",
       "            Plotly.purge(gd);\n",
       "            observer.disconnect();\n",
       "        }}\n",
       "}});\n",
       "\n",
       "// Listen for the removal of the full notebook cells\n",
       "var notebookContainer = gd.closest('#notebook-container');\n",
       "if (notebookContainer) {{\n",
       "    x.observe(notebookContainer, {childList: true});\n",
       "}}\n",
       "\n",
       "// Listen for the clearing of the current output cell\n",
       "var outputEl = gd.closest('.output');\n",
       "if (outputEl) {{\n",
       "    x.observe(outputEl, {childList: true});\n",
       "}}\n",
       "\n",
       "                        })                };                });            </script>        </div>"
      ]
     },
     "metadata": {},
     "output_type": "display_data"
    }
   ],
   "source": [
    "df_filtered = dataset[dataset['Region'] == 'Latin America & the Caribbean']\n",
    "fig = px.line(df_filtered, x=\"Year\", y=\"Life expectancy at birth, total (years)\", color='Country Name')\n",
    "fig.show()"
   ]
  },
  {
   "cell_type": "markdown",
   "metadata": {},
   "source": [
    "### Interactive density contour for GDP against life expectancy"
   ]
  },
  {
   "cell_type": "code",
   "execution_count": 215,
   "metadata": {},
   "outputs": [
    {
     "data": {
      "application/vnd.plotly.v1+json": {
       "config": {
        "plotlyServerURL": "https://plot.ly"
       },
       "data": [
        {
         "contours": {
          "coloring": "none"
         },
         "hovertemplate": "Region=South Asia<br>Year=YR2005<br>GDP per capita=%{x}<br>Life expectancy at birth, total (years)=%{y}<br>count=%{z}<extra></extra>",
         "ids": [
          "Afghanistan",
          "Bhutan",
          "India",
          "Sri Lanka",
          "Maldives",
          "Nepal",
          "Pakistan"
         ],
         "legendgroup": "South Asia",
         "line": {
          "color": "#636efa"
         },
         "name": "South Asia",
         "showlegend": true,
         "type": "histogram2dcontour",
         "x": [
          242.031313175022,
          1228.43235572338,
          714.8610153644,
          1248.69818517034,
          3640.0121322011,
          315.805629997361,
          748.922589270883
         ],
         "xaxis": "x",
         "xbingroup": "x",
         "y": [
          58.29,
          65.289,
          64.5,
          74.695,
          73.612,
          65.264,
          63.951
         ],
         "yaxis": "y",
         "ybingroup": "y"
        },
        {
         "contours": {
          "coloring": "none"
         },
         "hovertemplate": "Region=Sub-Saharan Africa<br>Year=YR2005<br>GDP per capita=%{x}<br>Life expectancy at birth, total (years)=%{y}<br>count=%{z}<extra></extra>",
         "ids": [
          "Angola",
          "Burundi",
          "Benin",
          "Burkina Faso",
          "Botswana",
          "Central African Republic",
          "Cote d'Ivoire",
          "Cameroon",
          "Congo, Rep.",
          "Ghana",
          "Guinea",
          "Gambia, The",
          "Kenya",
          "Lesotho",
          "Madagascar",
          "Mali",
          "Mozambique",
          "Mauritius",
          "Sudan",
          "Senegal",
          "Sierra Leone",
          "Sao Tome and Principe",
          "Eswatini",
          "Chad",
          "Togo",
          "Tanzania",
          "South Africa",
          "Zambia"
         ],
         "legendgroup": "Sub-Saharan Africa",
         "line": {
          "color": "#EF553B"
         },
         "name": "Sub-Saharan Africa",
         "showlegend": true,
         "type": "histogram2dcontour",
         "x": [
          1902.42214975937,
          151.681566343002,
          822.785143124704,
          457.933430763383,
          5513.33106259322,
          331.294821098185,
          1309.59165283165,
          1100.17492617744,
          1835.60990812416,
          492.54405617264,
          322.415540033465,
          665.720215700547,
          511.616394301253,
          842.812630961302,
          319.537475081164,
          489.022855550956,
          416.809824183966,
          5282.90602155635,
          914.16650390625,
          992.688058138543,
          292.349066330563,
          866.504995638803,
          3083.83814075588,
          658.566973042801,
          406.562366042383,
          492.63134765625,
          6033.10149088554,
          702.741118447779
         ],
         "xaxis": "x",
         "xbingroup": "x",
         "y": [
          50.165,
          53.369,
          57.355,
          53.31,
          52.13,
          44.744,
          50.12,
          52.76,
          55.6,
          58.719,
          53.238,
          57.939,
          54.732,
          42.658,
          61.212,
          52.057,
          50.387,
          72.4321951219512,
          60.525,
          60.62,
          44.502,
          64.659,
          42.518,
          48.549,
          54.602,
          54.349,
          53.447,
          48.496
         ],
         "yaxis": "y",
         "ybingroup": "y"
        },
        {
         "contours": {
          "coloring": "none"
         },
         "hovertemplate": "Region=Europe and Central Asia<br>Year=YR2005<br>GDP per capita=%{x}<br>Life expectancy at birth, total (years)=%{y}<br>count=%{z}<extra></extra>",
         "ids": [
          "Albania",
          "Armenia",
          "Austria",
          "Azerbaijan",
          "Belgium",
          "Bulgaria",
          "Belarus",
          "Switzerland",
          "Cyprus",
          "Czechia",
          "Denmark",
          "Spain",
          "Estonia",
          "Finland",
          "United Kingdom",
          "Georgia",
          "Greece",
          "Hungary",
          "Ireland",
          "Iceland",
          "Italy",
          "Kazakhstan",
          "Kyrgyz Republic",
          "Lithuania",
          "Moldova",
          "Netherlands",
          "Norway",
          "Poland",
          "Portugal",
          "Romania",
          "Russian Federation",
          "Slovak Republic",
          "Slovenia",
          "Sweden",
          "Tajikistan",
          "Ukraine"
         ],
         "legendgroup": "Europe and Central Asia",
         "line": {
          "color": "#00cc96"
         },
         "name": "Europe and Central Asia",
         "showlegend": true,
         "type": "histogram2dcontour",
         "x": [
          2673.78658429559,
          1643.75688889146,
          38417.4577857677,
          1578.40239029603,
          36809.7013403619,
          3899.90763774017,
          3125.81053502853,
          56546.7856553987,
          24959.259765625,
          13430.6698955613,
          48799.8256011275,
          26429.1509449319,
          10412.6443137966,
          39054.8504423825,
          42132.0907219815,
          1642.76093756395,
          22560.1472939077,
          11225.9325815328,
          50933.0216095589,
          56794.8501588953,
          32055.0920757503,
          3771.27895733845,
          476.552129968975,
          7854.76527867855,
          1034.70705816743,
          41994.7135305232,
          66810.478520868,
          8021.50574346795,
          18780.12751241,
          4617.92901643258,
          5323.462890625,
          11690.1134689407,
          18098.9085440003,
          43437.0631164776,
          340.583183232527,
          1894.47082519531
         ],
         "xaxis": "x",
         "xbingroup": "x",
         "y": [
          75.228,
          72.626,
          79.3317073170732,
          68.747,
          78.9804878048781,
          72.5609756097561,
          68.8512195121951,
          81.2365853658537,
          78.63,
          75.9243902439025,
          77.8439024390244,
          80.1707317073171,
          72.5682926829268,
          78.8170731707317,
          79.0487804878049,
          70.538,
          79.2390243902439,
          72.6487804878049,
          78.9439024390244,
          81.5024390243902,
          80.7829268292683,
          65.86,
          67.9560975609756,
          71.2536585365854,
          67.82,
          79.3463414634146,
          80.0414634146342,
          74.9951219512195,
          78.0707317073171,
          71.9121951219512,
          65.529756097561,
          73.9048780487805,
          77.6121951219512,
          80.5463414634146,
          66.08,
          67.9568292682927
         ],
         "yaxis": "y",
         "ybingroup": "y"
        },
        {
         "contours": {
          "coloring": "none"
         },
         "hovertemplate": "Region=Latin America & the Caribbean<br>Year=YR2005<br>GDP per capita=%{x}<br>Life expectancy at birth, total (years)=%{y}<br>count=%{z}<extra></extra>",
         "ids": [
          "Argentina",
          "Bahamas, The",
          "Brazil",
          "Barbados",
          "Chile",
          "Colombia",
          "Guyana",
          "Jamaica",
          "St. Lucia",
          "Mexico",
          "Peru",
          "El Salvador",
          "Uruguay",
          "St. Vincent and the Grenadines"
         ],
         "legendgroup": "Latin America & the Caribbean",
         "line": {
          "color": "#ab63fa"
         },
         "name": "Latin America & the Caribbean",
         "showlegend": true,
         "type": "histogram2dcontour",
         "x": [
          5109.85224490403,
          30279.3922080481,
          4790.45656586131,
          13822.7417486972,
          7558.37175410092,
          3414.46515834714,
          1105.50682477118,
          4103.6016371324,
          6949.20417333029,
          8277.67156384567,
          2729.49917213529,
          2428.56887928932,
          5226.94409982496,
          5339.3935508934
         ],
         "xaxis": "x",
         "xbingroup": "x",
         "y": [
          74.451,
          71.987,
          71.896,
          77.915,
          77.63,
          74.265,
          66.694,
          74.148,
          74.122,
          75.3,
          72.908,
          70.124,
          75.826,
          71.331
         ],
         "yaxis": "y",
         "ybingroup": "y"
        },
        {
         "contours": {
          "coloring": "none"
         },
         "hovertemplate": "Region=East Asia and Pacific<br>Year=YR2005<br>GDP per capita=%{x}<br>Life expectancy at birth, total (years)=%{y}<br>count=%{z}<extra></extra>",
         "ids": [
          "Australia",
          "China",
          "Fiji",
          "Indonesia",
          "Lao PDR",
          "New Zealand",
          "Philippines",
          "Singapore",
          "Thailand"
         ],
         "legendgroup": "East Asia and Pacific",
         "line": {
          "color": "#FFA15A"
         },
         "name": "East Asia and Pacific",
         "showlegend": true,
         "type": "histogram2dcontour",
         "x": [
          34080.9998953245,
          1753.41782926104,
          3627.63285585254,
          1263.28733171098,
          475.610796203932,
          27751.0654708859,
          1244.34874065936,
          29961.2632774569,
          2894.06265596401
         ],
         "xaxis": "x",
         "xbingroup": "x",
         "y": [
          80.8414634146341,
          72.985,
          66.313,
          67.334,
          61.625,
          79.8512195121951,
          69.112,
          79.990243902439,
          72.099
         ],
         "yaxis": "y",
         "ybingroup": "y"
        },
        {
         "contours": {
          "coloring": "none"
         },
         "hovertemplate": "Region=Middle East and North Africa<br>Year=YR2005<br>GDP per capita=%{x}<br>Life expectancy at birth, total (years)=%{y}<br>count=%{z}<extra></extra>",
         "ids": [
          "Djibouti",
          "Egypt, Arab Rep.",
          "Iran, Islamic Rep.",
          "Israel",
          "Jordan",
          "Kuwait",
          "Lebanon",
          "Oman",
          "Qatar",
          "Saudi Arabia",
          "Tunisia"
         ],
         "legendgroup": "Middle East and North Africa",
         "line": {
          "color": "#19d3f3"
         },
         "name": "Middle East and North Africa",
         "showlegend": true,
         "type": "histogram2dcontour",
         "x": [
          904.736679476444,
          1186.39331322717,
          3246.05112244352,
          20585.1386127162,
          2183.39464250953,
          35591.0371337921,
          4575.10745896031,
          12377.0800076389,
          51455.9509428993,
          13791.454761932,
          3193.20435786446
         ],
         "xaxis": "x",
         "xbingroup": "x",
         "y": [
          57.991,
          69.434,
          71.917,
          80.1512195121951,
          72.595,
          73.538,
          76.865,
          74.23,
          78.252,
          73.256,
          74.217
         ],
         "yaxis": "y",
         "ybingroup": "y"
        },
        {
         "contours": {
          "coloring": "none"
         },
         "hovertemplate": "Region=North America<br>Year=YR2005<br>GDP per capita=%{x}<br>Life expectancy at birth, total (years)=%{y}<br>count=%{z}<extra></extra>",
         "ids": [
          "Canada"
         ],
         "legendgroup": "North America",
         "line": {
          "color": "#FF6692"
         },
         "name": "North America",
         "showlegend": true,
         "type": "histogram2dcontour",
         "x": [
          36382.5079164537
         ],
         "xaxis": "x",
         "xbingroup": "x",
         "y": [
          80.1926829268293
         ],
         "yaxis": "y",
         "ybingroup": "y"
        }
       ],
       "frames": [
        {
         "data": [
          {
           "contours": {
            "coloring": "none"
           },
           "hovertemplate": "Region=South Asia<br>Year=YR2005<br>GDP per capita=%{x}<br>Life expectancy at birth, total (years)=%{y}<br>count=%{z}<extra></extra>",
           "ids": [
            "Afghanistan",
            "Bhutan",
            "India",
            "Sri Lanka",
            "Maldives",
            "Nepal",
            "Pakistan"
           ],
           "legendgroup": "South Asia",
           "line": {
            "color": "#636efa"
           },
           "name": "South Asia",
           "showlegend": true,
           "type": "histogram2dcontour",
           "x": [
            242.031313175022,
            1228.43235572338,
            714.8610153644,
            1248.69818517034,
            3640.0121322011,
            315.805629997361,
            748.922589270883
           ],
           "xaxis": "x",
           "xbingroup": "x",
           "y": [
            58.29,
            65.289,
            64.5,
            74.695,
            73.612,
            65.264,
            63.951
           ],
           "yaxis": "y",
           "ybingroup": "y"
          },
          {
           "contours": {
            "coloring": "none"
           },
           "hovertemplate": "Region=Sub-Saharan Africa<br>Year=YR2005<br>GDP per capita=%{x}<br>Life expectancy at birth, total (years)=%{y}<br>count=%{z}<extra></extra>",
           "ids": [
            "Angola",
            "Burundi",
            "Benin",
            "Burkina Faso",
            "Botswana",
            "Central African Republic",
            "Cote d'Ivoire",
            "Cameroon",
            "Congo, Rep.",
            "Ghana",
            "Guinea",
            "Gambia, The",
            "Kenya",
            "Lesotho",
            "Madagascar",
            "Mali",
            "Mozambique",
            "Mauritius",
            "Sudan",
            "Senegal",
            "Sierra Leone",
            "Sao Tome and Principe",
            "Eswatini",
            "Chad",
            "Togo",
            "Tanzania",
            "South Africa",
            "Zambia"
           ],
           "legendgroup": "Sub-Saharan Africa",
           "line": {
            "color": "#EF553B"
           },
           "name": "Sub-Saharan Africa",
           "showlegend": true,
           "type": "histogram2dcontour",
           "x": [
            1902.42214975937,
            151.681566343002,
            822.785143124704,
            457.933430763383,
            5513.33106259322,
            331.294821098185,
            1309.59165283165,
            1100.17492617744,
            1835.60990812416,
            492.54405617264,
            322.415540033465,
            665.720215700547,
            511.616394301253,
            842.812630961302,
            319.537475081164,
            489.022855550956,
            416.809824183966,
            5282.90602155635,
            914.16650390625,
            992.688058138543,
            292.349066330563,
            866.504995638803,
            3083.83814075588,
            658.566973042801,
            406.562366042383,
            492.63134765625,
            6033.10149088554,
            702.741118447779
           ],
           "xaxis": "x",
           "xbingroup": "x",
           "y": [
            50.165,
            53.369,
            57.355,
            53.31,
            52.13,
            44.744,
            50.12,
            52.76,
            55.6,
            58.719,
            53.238,
            57.939,
            54.732,
            42.658,
            61.212,
            52.057,
            50.387,
            72.4321951219512,
            60.525,
            60.62,
            44.502,
            64.659,
            42.518,
            48.549,
            54.602,
            54.349,
            53.447,
            48.496
           ],
           "yaxis": "y",
           "ybingroup": "y"
          },
          {
           "contours": {
            "coloring": "none"
           },
           "hovertemplate": "Region=Europe and Central Asia<br>Year=YR2005<br>GDP per capita=%{x}<br>Life expectancy at birth, total (years)=%{y}<br>count=%{z}<extra></extra>",
           "ids": [
            "Albania",
            "Armenia",
            "Austria",
            "Azerbaijan",
            "Belgium",
            "Bulgaria",
            "Belarus",
            "Switzerland",
            "Cyprus",
            "Czechia",
            "Denmark",
            "Spain",
            "Estonia",
            "Finland",
            "United Kingdom",
            "Georgia",
            "Greece",
            "Hungary",
            "Ireland",
            "Iceland",
            "Italy",
            "Kazakhstan",
            "Kyrgyz Republic",
            "Lithuania",
            "Moldova",
            "Netherlands",
            "Norway",
            "Poland",
            "Portugal",
            "Romania",
            "Russian Federation",
            "Slovak Republic",
            "Slovenia",
            "Sweden",
            "Tajikistan",
            "Ukraine"
           ],
           "legendgroup": "Europe and Central Asia",
           "line": {
            "color": "#00cc96"
           },
           "name": "Europe and Central Asia",
           "showlegend": true,
           "type": "histogram2dcontour",
           "x": [
            2673.78658429559,
            1643.75688889146,
            38417.4577857677,
            1578.40239029603,
            36809.7013403619,
            3899.90763774017,
            3125.81053502853,
            56546.7856553987,
            24959.259765625,
            13430.6698955613,
            48799.8256011275,
            26429.1509449319,
            10412.6443137966,
            39054.8504423825,
            42132.0907219815,
            1642.76093756395,
            22560.1472939077,
            11225.9325815328,
            50933.0216095589,
            56794.8501588953,
            32055.0920757503,
            3771.27895733845,
            476.552129968975,
            7854.76527867855,
            1034.70705816743,
            41994.7135305232,
            66810.478520868,
            8021.50574346795,
            18780.12751241,
            4617.92901643258,
            5323.462890625,
            11690.1134689407,
            18098.9085440003,
            43437.0631164776,
            340.583183232527,
            1894.47082519531
           ],
           "xaxis": "x",
           "xbingroup": "x",
           "y": [
            75.228,
            72.626,
            79.3317073170732,
            68.747,
            78.9804878048781,
            72.5609756097561,
            68.8512195121951,
            81.2365853658537,
            78.63,
            75.9243902439025,
            77.8439024390244,
            80.1707317073171,
            72.5682926829268,
            78.8170731707317,
            79.0487804878049,
            70.538,
            79.2390243902439,
            72.6487804878049,
            78.9439024390244,
            81.5024390243902,
            80.7829268292683,
            65.86,
            67.9560975609756,
            71.2536585365854,
            67.82,
            79.3463414634146,
            80.0414634146342,
            74.9951219512195,
            78.0707317073171,
            71.9121951219512,
            65.529756097561,
            73.9048780487805,
            77.6121951219512,
            80.5463414634146,
            66.08,
            67.9568292682927
           ],
           "yaxis": "y",
           "ybingroup": "y"
          },
          {
           "contours": {
            "coloring": "none"
           },
           "hovertemplate": "Region=Latin America & the Caribbean<br>Year=YR2005<br>GDP per capita=%{x}<br>Life expectancy at birth, total (years)=%{y}<br>count=%{z}<extra></extra>",
           "ids": [
            "Argentina",
            "Bahamas, The",
            "Brazil",
            "Barbados",
            "Chile",
            "Colombia",
            "Guyana",
            "Jamaica",
            "St. Lucia",
            "Mexico",
            "Peru",
            "El Salvador",
            "Uruguay",
            "St. Vincent and the Grenadines"
           ],
           "legendgroup": "Latin America & the Caribbean",
           "line": {
            "color": "#ab63fa"
           },
           "name": "Latin America & the Caribbean",
           "showlegend": true,
           "type": "histogram2dcontour",
           "x": [
            5109.85224490403,
            30279.3922080481,
            4790.45656586131,
            13822.7417486972,
            7558.37175410092,
            3414.46515834714,
            1105.50682477118,
            4103.6016371324,
            6949.20417333029,
            8277.67156384567,
            2729.49917213529,
            2428.56887928932,
            5226.94409982496,
            5339.3935508934
           ],
           "xaxis": "x",
           "xbingroup": "x",
           "y": [
            74.451,
            71.987,
            71.896,
            77.915,
            77.63,
            74.265,
            66.694,
            74.148,
            74.122,
            75.3,
            72.908,
            70.124,
            75.826,
            71.331
           ],
           "yaxis": "y",
           "ybingroup": "y"
          },
          {
           "contours": {
            "coloring": "none"
           },
           "hovertemplate": "Region=East Asia and Pacific<br>Year=YR2005<br>GDP per capita=%{x}<br>Life expectancy at birth, total (years)=%{y}<br>count=%{z}<extra></extra>",
           "ids": [
            "Australia",
            "China",
            "Fiji",
            "Indonesia",
            "Lao PDR",
            "New Zealand",
            "Philippines",
            "Singapore",
            "Thailand"
           ],
           "legendgroup": "East Asia and Pacific",
           "line": {
            "color": "#FFA15A"
           },
           "name": "East Asia and Pacific",
           "showlegend": true,
           "type": "histogram2dcontour",
           "x": [
            34080.9998953245,
            1753.41782926104,
            3627.63285585254,
            1263.28733171098,
            475.610796203932,
            27751.0654708859,
            1244.34874065936,
            29961.2632774569,
            2894.06265596401
           ],
           "xaxis": "x",
           "xbingroup": "x",
           "y": [
            80.8414634146341,
            72.985,
            66.313,
            67.334,
            61.625,
            79.8512195121951,
            69.112,
            79.990243902439,
            72.099
           ],
           "yaxis": "y",
           "ybingroup": "y"
          },
          {
           "contours": {
            "coloring": "none"
           },
           "hovertemplate": "Region=Middle East and North Africa<br>Year=YR2005<br>GDP per capita=%{x}<br>Life expectancy at birth, total (years)=%{y}<br>count=%{z}<extra></extra>",
           "ids": [
            "Djibouti",
            "Egypt, Arab Rep.",
            "Iran, Islamic Rep.",
            "Israel",
            "Jordan",
            "Kuwait",
            "Lebanon",
            "Oman",
            "Qatar",
            "Saudi Arabia",
            "Tunisia"
           ],
           "legendgroup": "Middle East and North Africa",
           "line": {
            "color": "#19d3f3"
           },
           "name": "Middle East and North Africa",
           "showlegend": true,
           "type": "histogram2dcontour",
           "x": [
            904.736679476444,
            1186.39331322717,
            3246.05112244352,
            20585.1386127162,
            2183.39464250953,
            35591.0371337921,
            4575.10745896031,
            12377.0800076389,
            51455.9509428993,
            13791.454761932,
            3193.20435786446
           ],
           "xaxis": "x",
           "xbingroup": "x",
           "y": [
            57.991,
            69.434,
            71.917,
            80.1512195121951,
            72.595,
            73.538,
            76.865,
            74.23,
            78.252,
            73.256,
            74.217
           ],
           "yaxis": "y",
           "ybingroup": "y"
          },
          {
           "contours": {
            "coloring": "none"
           },
           "hovertemplate": "Region=North America<br>Year=YR2005<br>GDP per capita=%{x}<br>Life expectancy at birth, total (years)=%{y}<br>count=%{z}<extra></extra>",
           "ids": [
            "Canada"
           ],
           "legendgroup": "North America",
           "line": {
            "color": "#FF6692"
           },
           "name": "North America",
           "showlegend": true,
           "type": "histogram2dcontour",
           "x": [
            36382.5079164537
           ],
           "xaxis": "x",
           "xbingroup": "x",
           "y": [
            80.1926829268293
           ],
           "yaxis": "y",
           "ybingroup": "y"
          }
         ],
         "name": "YR2005"
        },
        {
         "data": [
          {
           "contours": {
            "coloring": "none"
           },
           "hovertemplate": "Region=South Asia<br>Year=YR2010<br>GDP per capita=%{x}<br>Life expectancy at birth, total (years)=%{y}<br>count=%{z}<extra></extra>",
           "ids": [
            "Afghanistan",
            "Bangladesh",
            "Bhutan",
            "India",
            "Sri Lanka",
            "Maldives",
            "Nepal",
            "Pakistan"
           ],
           "legendgroup": "South Asia",
           "line": {
            "color": "#636efa"
           },
           "name": "South Asia",
           "showlegend": true,
           "type": "histogram2dcontour",
           "x": [
            543.306526178281,
            781.153577677298,
            2258.18643535953,
            1357.5637268318,
            2799.64873802555,
            7076.73982087196,
            592.401207101201,
            987.409712037523
           ],
           "xaxis": "x",
           "xbingroup": "x",
           "y": [
            61.028,
            69.881,
            68.384,
            66.693,
            75.439,
            75.905,
            67.611,
            65.264
           ],
           "yaxis": "y",
           "ybingroup": "y"
          },
          {
           "contours": {
            "coloring": "none"
           },
           "hovertemplate": "Region=Sub-Saharan Africa<br>Year=YR2010<br>GDP per capita=%{x}<br>Life expectancy at birth, total (years)=%{y}<br>count=%{z}<extra></extra>",
           "ids": [
            "Angola",
            "Burundi",
            "Benin",
            "Burkina Faso",
            "Central African Republic",
            "Cote d'Ivoire",
            "Cameroon",
            "Congo, Dem. Rep.",
            "Congo, Rep.",
            "Cabo Verde",
            "Ethiopia",
            "Gabon",
            "Ghana",
            "Guinea",
            "Gambia, The",
            "Guinea-Bissau",
            "Kenya",
            "Mali",
            "Mozambique",
            "Mauritius",
            "Malawi",
            "Namibia",
            "Niger",
            "Rwanda",
            "Senegal",
            "Sierra Leone",
            "Sao Tome and Principe",
            "Eswatini",
            "Seychelles",
            "Chad",
            "Togo",
            "Tanzania",
            "Uganda",
            "South Africa",
            "Zambia",
            "Zimbabwe"
           ],
           "legendgroup": "Sub-Saharan Africa",
           "line": {
            "color": "#EF553B"
           },
           "name": "Sub-Saharan Africa",
           "showlegend": true,
           "type": "histogram2dcontour",
           "x": [
            3497.9744877961,
            234.235538877634,
            1036.53451502404,
            647.836095537879,
            488.421735800876,
            1701.47570153451,
            1352.30227450638,
            334.02157774666,
            3076.55644910171,
            3378.3234334576,
            341.554122699663,
            8849.32260799167,
            1299.34521164062,
            672.424930359396,
            860.636433851486,
            558.174668134758,
            1080.29618449063,
            710.274303600905,
            471.904360009894,
            8000.37643182154,
            478.668688469613,
            5394.99671166874,
            476.869532167304,
            609.754297393961,
            1271.58328084525,
            401.834876099443,
            1090.26076257543,
            4168.48940292685,
            10804.7232956282,
            892.568869694168,
            534.04478262418,
            743.403686523438,
            822.539372481326,
            8148.9612020223,
            1489.45908689417,
            948.331481033457
           ],
           "xaxis": "x",
           "xbingroup": "x",
           "y": [
            55.35,
            57.228,
            59.318,
            57.096,
            47.312,
            52.964,
            55.101,
            56.909,
            60.093,
            71.062,
            61.627,
            61.4,
            61.03,
            56.861,
            59.637,
            54.628,
            60.959,
            55.251,
            52.31,
            72.9673170731707,
            55.564,
            56.665,
            57.333,
            63.433,
            64.284,
            49.382,
            67.43,
            46.601,
            73.1975609756098,
            50.89,
            57.468,
            58.584,
            57.099,
            57.669,
            55.655,
            50.64
           ],
           "yaxis": "y",
           "ybingroup": "y"
          },
          {
           "contours": {
            "coloring": "none"
           },
           "hovertemplate": "Region=Europe and Central Asia<br>Year=YR2010<br>GDP per capita=%{x}<br>Life expectancy at birth, total (years)=%{y}<br>count=%{z}<extra></extra>",
           "ids": [
            "Armenia",
            "Austria",
            "Azerbaijan",
            "Belgium",
            "Bulgaria",
            "Belarus",
            "Switzerland",
            "Cyprus",
            "Czechia",
            "Germany",
            "Denmark",
            "Spain",
            "Estonia",
            "Finland",
            "United Kingdom",
            "Croatia",
            "Hungary",
            "Ireland",
            "Iceland",
            "Italy",
            "Kyrgyz Republic",
            "Lithuania",
            "Latvia",
            "Moldova",
            "Netherlands",
            "Norway",
            "Poland",
            "Portugal",
            "Romania",
            "Serbia",
            "Slovak Republic",
            "Slovenia",
            "Sweden",
            "Tajikistan"
           ],
           "legendgroup": "Europe and Central Asia",
           "line": {
            "color": "#00cc96"
           },
           "name": "Europe and Central Asia",
           "showlegend": true,
           "type": "histogram2dcontour",
           "x": [
            3218.37829927419,
            46903.7615854343,
            5843.5337683582,
            44184.946353964,
            6853.00285388669,
            6033.6862392722,
            77117.126014204,
            31023.638671875,
            19960.0684872157,
            41572.4559481507,
            58041.3984363385,
            30532.4805081656,
            14663.0446126465,
            46505.3031791811,
            39688.6149684498,
            14067.5231191915,
            13223.0830027699,
            48655.3661626634,
            43237.0729488958,
            36035.6449950691,
            880.037775119109,
            11987.508411647,
            11420.9940032836,
            2437.53768326452,
            50999.7451168879,
            87693.7900658099,
            12613.0109954681,
            22520.6423124045,
            8214.07689289811,
            5735.42285659849,
            16841.7677398734,
            23532.4808545468,
            52869.0442891587,
            749.552412285997
           ],
           "xaxis": "x",
           "xbingroup": "x",
           "y": [
            73.331,
            80.5804878048781,
            70.938,
            80.1829268292683,
            73.5121951219512,
            70.4048780487805,
            82.2463414634147,
            79.43,
            77.4243902439025,
            79.9878048780488,
            79.1,
            81.6268292682927,
            75.4292682926829,
            79.8707317073171,
            80.4024390243902,
            76.4756097560976,
            74.2073170731707,
            80.7439024390244,
            81.8975609756097,
            82.0365853658537,
            69.3,
            73.2682926829268,
            73.4829268292683,
            69.616,
            80.7024390243902,
            80.9975609756098,
            76.2463414634146,
            79.0268292682927,
            73.4585365853659,
            74.3365853658537,
            75.1121951219512,
            79.4219512195122,
            81.4512195121951,
            68.736
           ],
           "yaxis": "y",
           "ybingroup": "y"
          },
          {
           "contours": {
            "coloring": "none"
           },
           "hovertemplate": "Region=Latin America & the Caribbean<br>Year=YR2010<br>GDP per capita=%{x}<br>Life expectancy at birth, total (years)=%{y}<br>count=%{z}<extra></extra>",
           "ids": [
            "Argentina",
            "Bahamas, The",
            "Belize",
            "Bolivia",
            "Brazil",
            "Barbados",
            "Chile",
            "Colombia",
            "Costa Rica",
            "Dominican Republic",
            "Ecuador",
            "Guatemala",
            "Guyana",
            "Jamaica",
            "St. Lucia",
            "Mexico",
            "Nicaragua",
            "Peru",
            "Paraguay",
            "El Salvador",
            "Uruguay",
            "St. Vincent and the Grenadines"
           ],
           "legendgroup": "Latin America & the Caribbean",
           "line": {
            "color": "#ab63fa"
           },
           "name": "Latin America & the Caribbean",
           "showlegend": true,
           "type": "histogram2dcontour",
           "x": [
            10385.9644319555,
            28443.8884756689,
            4304.11110815138,
            1955.460180975,
            11286.071540212,
            16056.1168470231,
            12724.10406267,
            6336.70947398466,
            8227.12749376825,
            5555.39201393816,
            4633.59128443099,
            2852.54732650116,
            4580.69876204788,
            4704.04775962425,
            8540.07097992462,
            9271.39839576997,
            1503.87223074992,
            5082.35370614454,
            4342.06584459985,
            2983.2288061357,
            11992.0237658273,
            6654.79290746741
           ],
           "xaxis": "x",
           "xbingroup": "x",
           "y": [
            75.278,
            72.144,
            72.057,
            68.007,
            73.619,
            78.364,
            78.779,
            75.424,
            78.769,
            72.046,
            75.089,
            71.481,
            68.059,
            74.038,
            74.852,
            75.065,
            72.428,
            74.41,
            72.653,
            71.21,
            76.75,
            71.776
           ],
           "yaxis": "y",
           "ybingroup": "y"
          },
          {
           "contours": {
            "coloring": "none"
           },
           "hovertemplate": "Region=East Asia and Pacific<br>Year=YR2010<br>GDP per capita=%{x}<br>Life expectancy at birth, total (years)=%{y}<br>count=%{z}<extra></extra>",
           "ids": [
            "Australia",
            "Brunei Darussalam",
            "China",
            "Fiji",
            "Indonesia",
            "Cambodia",
            "Korea, Rep.",
            "Lao PDR",
            "Myanmar",
            "Mongolia",
            "Malaysia",
            "New Zealand",
            "Singapore",
            "Solomon Islands",
            "Thailand",
            "Timor-Leste",
            "Vietnam",
            "Samoa"
           ],
           "legendgroup": "East Asia and Pacific",
           "line": {
            "color": "#FFA15A"
           },
           "name": "East Asia and Pacific",
           "showlegend": true,
           "type": "histogram2dcontour",
           "x": [
            52087.9722888891,
            35270.6421390658,
            4550.45310775599,
            3652.53593320954,
            3122.36267319362,
            785.50266705782,
            23087.2256438476,
            1141.23570253091,
            746.945359978558,
            2643.28708316435,
            9040.56849464524,
            33676.7741239925,
            47236.9602345421,
            1604.14888755803,
            5076.33987220163,
            806.41434929681,
            1673.3292888042,
            3566.45833371884
           ],
           "xaxis": "x",
           "xbingroup": "x",
           "y": [
            81.6951219512195,
            74.74,
            74.409,
            66.655,
            69.205,
            66.56,
            80.1170731707317,
            64.306,
            63.525,
            67.38,
            74.493,
            80.7024390243902,
            81.5414634146342,
            70.674,
            74.184,
            67.186,
            74.837,
            71.663
           ],
           "yaxis": "y",
           "ybingroup": "y"
          },
          {
           "contours": {
            "coloring": "none"
           },
           "hovertemplate": "Region=Middle East and North Africa<br>Year=YR2010<br>GDP per capita=%{x}<br>Life expectancy at birth, total (years)=%{y}<br>count=%{z}<extra></extra>",
           "ids": [
            "Bahrain",
            "Djibouti",
            "Egypt, Arab Rep.",
            "Iran, Islamic Rep.",
            "Israel",
            "Jordan",
            "Kuwait",
            "Lebanon",
            "Malta",
            "Qatar",
            "Tunisia",
            "Yemen, Rep."
           ],
           "legendgroup": "Middle East and North Africa",
           "line": {
            "color": "#19d3f3"
           },
           "name": "Middle East and North Africa",
           "showlegend": true,
           "type": "histogram2dcontour",
           "x": [
            20722.0704900745,
            1343.27512498519,
            2645.96875877924,
            6599.66093791004,
            30780.0238155167,
            3736.64546207921,
            38577.4982788212,
            7761.64148945415,
            21799.1742559798,
            67403.0876779676,
            4344.61941760278,
            1334.78490225941
           ],
           "xaxis": "x",
           "xbingroup": "x",
           "y": [
            76.057,
            60.062,
            70.349,
            73.905,
            81.6024390243903,
            73.428,
            74.358,
            78.36,
            81.3975609756098,
            79.108,
            75.041,
            65.549
           ],
           "yaxis": "y",
           "ybingroup": "y"
          },
          {
           "contours": {
            "coloring": "none"
           },
           "hovertemplate": "Region=North America<br>Year=YR2010<br>GDP per capita=%{x}<br>Life expectancy at birth, total (years)=%{y}<br>count=%{z}<extra></extra>",
           "ids": [
            "Canada"
           ],
           "legendgroup": "North America",
           "line": {
            "color": "#FF6692"
           },
           "name": "North America",
           "showlegend": true,
           "type": "histogram2dcontour",
           "x": [
            47562.0834253057
           ],
           "xaxis": "x",
           "xbingroup": "x",
           "y": [
            81.2463414634146
           ],
           "yaxis": "y",
           "ybingroup": "y"
          }
         ],
         "name": "YR2010"
        },
        {
         "data": [
          {
           "contours": {
            "coloring": "none"
           },
           "hovertemplate": "Region=South Asia<br>Year=YR2015<br>GDP per capita=%{x}<br>Life expectancy at birth, total (years)=%{y}<br>count=%{z}<extra></extra>",
           "ids": [
            "Afghanistan",
            "Bangladesh",
            "Bhutan",
            "India",
            "Sri Lanka",
            "Maldives",
            "Nepal",
            "Pakistan"
           ],
           "legendgroup": "South Asia",
           "line": {
            "color": "#636efa"
           },
           "name": "South Asia",
           "showlegend": true,
           "type": "histogram2dcontour",
           "x": [
            556.007220861443,
            1248.45330989613,
            2752.63017233678,
            1605.60544457087,
            3843.78067184442,
            9033.41027034576,
            901.74960773293,
            1356.66783065763
           ],
           "xaxis": "x",
           "xbingroup": "x",
           "y": [
            63.377,
            71.514,
            70.419,
            68.607,
            76.316,
            77.691,
            69.515,
            66.577
           ],
           "yaxis": "y",
           "ybingroup": "y"
          },
          {
           "contours": {
            "coloring": "none"
           },
           "hovertemplate": "Region=Sub-Saharan Africa<br>Year=YR2015<br>GDP per capita=%{x}<br>Life expectancy at birth, total (years)=%{y}<br>count=%{z}<extra></extra>",
           "ids": [
            "Angola",
            "Burundi",
            "Benin",
            "Burkina Faso",
            "Botswana",
            "Central African Republic",
            "Cote d'Ivoire",
            "Cameroon",
            "Congo, Dem. Rep.",
            "Congo, Rep.",
            "Comoros",
            "Cabo Verde",
            "Ethiopia",
            "Gabon",
            "Ghana",
            "Guinea",
            "Gambia, The",
            "Guinea-Bissau",
            "Kenya",
            "Lesotho",
            "Madagascar",
            "Mali",
            "Mozambique",
            "Mauritius",
            "Malawi",
            "Namibia",
            "Niger",
            "Nigeria",
            "Rwanda",
            "Senegal",
            "Sao Tome and Principe",
            "Seychelles",
            "Chad",
            "Togo",
            "Uganda",
            "South Africa",
            "Zambia",
            "Zimbabwe"
           ],
           "legendgroup": "Sub-Saharan Africa",
           "line": {
            "color": "#EF553B"
           },
           "name": "Sub-Saharan Africa",
           "showlegend": true,
           "type": "histogram2dcontour",
           "x": [
            3127.89059784461,
            305.511144099475,
            1076.79669785585,
            653.32726813947,
            6402.91018338391,
            377.422917680195,
            1972.54568305836,
            1382.5097900241,
            497.317039077365,
            2448.52377758887,
            1242.58560784999,
            3043.03138156811,
            640.541923075422,
            7384.70070393071,
            1774.07477092508,
            769.255475432822,
            660.723571244322,
            603.399381547733,
            1464.55400904329,
            1146.06468787308,
            467.235431614314,
            751.472889186889,
            589.85943137707,
            9260.44730250635,
            380.596987683774,
            4896.61526001377,
            484.153137350801,
            2687.48005643212,
            751.110505478611,
            1219.24941513302,
            1584.77565743788,
            15157.5018256876,
            776.019752284262,
            570.909967175308,
            847.267628934983,
            6259.83968110571,
            1338.29092708188,
            1445.06970213198
           ],
           "xaxis": "x",
           "xbingroup": "x",
           "y": [
            59.398,
            60.123,
            60.608,
            59.919,
            67.338,
            50.881,
            56.065,
            57.583,
            59.254,
            63.097,
            63.471,
            72.117,
            65.048,
            64.913,
            62.772,
            59.598,
            60.91,
            56.959,
            64.798,
            51.038,
            65.539,
            57.509,
            57.206,
            74.3531707317073,
            61.953,
            62.119,
            60.631,
            53.112,
            67.45,
            66.747,
            69.377,
            74.2951219512195,
            53.137,
            59.927,
            61.373,
            62.649,
            61.737,
            59.534
           ],
           "yaxis": "y",
           "ybingroup": "y"
          },
          {
           "contours": {
            "coloring": "none"
           },
           "hovertemplate": "Region=Europe and Central Asia<br>Year=YR2015<br>GDP per capita=%{x}<br>Life expectancy at birth, total (years)=%{y}<br>count=%{z}<extra></extra>",
           "ids": [
            "Albania",
            "Armenia",
            "Austria",
            "Azerbaijan",
            "Belgium",
            "Belarus",
            "Switzerland",
            "Cyprus",
            "Czechia",
            "Germany",
            "Spain",
            "Estonia",
            "Finland",
            "United Kingdom",
            "Greece",
            "Hungary",
            "Ireland",
            "Iceland",
            "Italy",
            "Kazakhstan",
            "Kyrgyz Republic",
            "Lithuania",
            "Luxembourg",
            "Latvia",
            "Moldova",
            "Netherlands",
            "Norway",
            "Poland",
            "Portugal",
            "Romania",
            "Russian Federation",
            "Serbia",
            "Slovak Republic",
            "Slovenia",
            "Sweden",
            "Tajikistan",
            "Ukraine",
            "Uzbekistan"
           ],
           "legendgroup": "Europe and Central Asia",
           "line": {
            "color": "#00cc96"
           },
           "name": "Europe and Central Asia",
           "showlegend": true,
           "type": "histogram2dcontour",
           "x": [
            3952.80253807527,
            3607.28929855361,
            44195.8175947748,
            5500.31038244408,
            41008.296719472,
            5967.05220384914,
            84776.1421659748,
            23408.3359375,
            17829.6983223668,
            41103.2564363768,
            25742.3688346767,
            17402.0376128079,
            42801.9081167285,
            45404.5677734722,
            18083.8779056547,
            12720.7120220668,
            62012.4849258149,
            52951.6815110898,
            30242.3861352184,
            10510.7718884149,
            1121.08283510739,
            14263.9645773495,
            105462.012584423,
            13786.4567953114,
            2732.46072997894,
            45193.4032187971,
            74355.5158575643,
            12578.4954734362,
            19250.1065376852,
            8969.14892146193,
            9313.013671875,
            5588.98072768556,
            16342.2162621093,
            20890.1664304173,
            51545.4836095322,
            978.404981180605,
            2124.66235351563,
            2753.97107219949
           ],
           "xaxis": "x",
           "xbingroup": "x",
           "y": [
            78.025,
            74.467,
            81.190243902439,
            72.266,
            80.9926829268293,
            73.6243902439025,
            82.8975609756098,
            80.35,
            78.5780487804878,
            80.6414634146341,
            82.8317073170732,
            77.590243902439,
            81.4804878048781,
            80.9560975609756,
            81.0365853658537,
            75.5682926829269,
            81.4536585365854,
            82.4682926829268,
            82.5439024390244,
            71.97,
            70.6512195121951,
            74.3219512195122,
            82.2926829268293,
            74.4804878048781,
            71.478,
            81.509756097561,
            82.3048780487805,
            77.4512195121951,
            81.1243902439025,
            74.9121951219512,
            71.1834146341463,
            75.2878048780488,
            76.5634146341463,
            80.7756097560976,
            82.2048780487805,
            70.137,
            71.189512195122,
            70.928
           ],
           "yaxis": "y",
           "ybingroup": "y"
          },
          {
           "contours": {
            "coloring": "none"
           },
           "hovertemplate": "Region=Latin America & the Caribbean<br>Year=YR2015<br>GDP per capita=%{x}<br>Life expectancy at birth, total (years)=%{y}<br>count=%{z}<extra></extra>",
           "ids": [
            "Argentina",
            "Bahamas, The",
            "Belize",
            "Bolivia",
            "Brazil",
            "Barbados",
            "Chile",
            "Colombia",
            "Costa Rica",
            "Dominican Republic",
            "Ecuador",
            "Guatemala",
            "Guyana",
            "Honduras",
            "Haiti",
            "Jamaica",
            "St. Lucia",
            "Mexico",
            "Nicaragua",
            "Panama",
            "Peru",
            "Paraguay",
            "El Salvador",
            "Suriname",
            "Trinidad and Tobago",
            "Uruguay"
           ],
           "legendgroup": "Latin America & the Caribbean",
           "line": {
            "color": "#ab63fa"
           },
           "name": "Latin America & the Caribbean",
           "showlegend": true,
           "type": "histogram2dcontour",
           "x": [
            13789.060424772,
            31699.3586317477,
            4805.19685237279,
            3035.97165495107,
            8813.98980647828,
            16558.8647849868,
            13495.0106099649,
            6175.87602970258,
            11642.7780517123,
            6921.52059432776,
            6124.49088707134,
            3994.63691288475,
            5576.82585151355,
            2302.20441093316,
            1386.85419078846,
            4907.927415189,
            10093.6180163617,
            9616.64555810607,
            2049.8516660809,
            13630.3011472878,
            6229.10067398112,
            5413.77602061858,
            3705.57970353453,
            9168.23715664009,
            18383.5386974985,
            15613.7459681824
           ],
           "xaxis": "x",
           "xbingroup": "x",
           "y": [
            76.068,
            73.088,
            74.034,
            70.277,
            74.994,
            78.801,
            79.646,
            76.531,
            79.565,
            73.241,
            76.143,
            73.25,
            69.262,
            74.495,
            62.485,
            74.098,
            75.596,
            74.904,
            73.649,
            77.776,
            75.792,
            73.662,
            72.412,
            71.249,
            72.941,
            77.369
           ],
           "yaxis": "y",
           "ybingroup": "y"
          },
          {
           "contours": {
            "coloring": "none"
           },
           "hovertemplate": "Region=East Asia and Pacific<br>Year=YR2015<br>GDP per capita=%{x}<br>Life expectancy at birth, total (years)=%{y}<br>count=%{z}<extra></extra>",
           "ids": [
            "Australia",
            "China",
            "Fiji",
            "Micronesia, Fed. Sts.",
            "Indonesia",
            "Kiribati",
            "Myanmar",
            "Mongolia",
            "Malaysia",
            "New Zealand",
            "Philippines",
            "Singapore",
            "Solomon Islands",
            "Thailand",
            "Timor-Leste",
            "Vietnam",
            "Vanuatu",
            "Samoa"
           ],
           "legendgroup": "East Asia and Pacific",
           "line": {
            "color": "#FFA15A"
           },
           "name": "East Asia and Pacific",
           "showlegend": true,
           "type": "histogram2dcontour",
           "x": [
            56707.0220772116,
            8016.43143498003,
            5390.71420703085,
            2906.61701228808,
            3331.69511469189,
            1535.16278257963,
            1196.74333308526,
            3875.32167504717,
            9955.24272167626,
            38630.7265886928,
            3001.04318170863,
            55646.6187469505,
            2167.15539406206,
            5840.05306687798,
            1332.79185551378,
            2581.62244157361,
            2695.66618597973,
            4073.72908299755
           ],
           "xaxis": "x",
           "xbingroup": "x",
           "y": [
            82.4,
            75.928,
            67.103,
            67.315,
            70.768,
            67.291,
            65.81,
            69.111,
            75.461,
            81.4568292682927,
            70.644,
            82.7439024390244,
            72.173,
            76.091,
            68.459,
            75.11,
            69.869,
            72.73
           ],
           "yaxis": "y",
           "ybingroup": "y"
          },
          {
           "contours": {
            "coloring": "none"
           },
           "hovertemplate": "Region=Middle East and North Africa<br>Year=YR2015<br>GDP per capita=%{x}<br>Life expectancy at birth, total (years)=%{y}<br>count=%{z}<extra></extra>",
           "ids": [
            "Bahrain",
            "Djibouti",
            "Egypt, Arab Rep.",
            "Iran, Islamic Rep.",
            "Iraq",
            "Israel",
            "Jordan",
            "Kuwait",
            "Lebanon",
            "Malta",
            "Tunisia"
           ],
           "legendgroup": "Middle East and North Africa",
           "line": {
            "color": "#19d3f3"
           },
           "name": "Middle East and North Africa",
           "showlegend": true,
           "type": "histogram2dcontour",
           "x": [
            22634.0856475674,
            2652.51322808034,
            3562.93265798423,
            5200.68078673413,
            4688.31801743466,
            35808.4364289727,
            4164.10876894014,
            29869.552753237,
            7643.00871833192,
            24921.6036820869,
            4094.84160230737
           ],
           "xaxis": "x",
           "xbingroup": "x",
           "y": [
            76.762,
            64.136,
            71.302,
            75.796,
            69.929,
            82.0512195121951,
            74.078,
            75.13,
            78.768,
            81.8975609756097,
            75.922
           ],
           "yaxis": "y",
           "ybingroup": "y"
          },
          {
           "contours": {
            "coloring": "none"
           },
           "hovertemplate": "Region=North America<br>Year=YR2015<br>GDP per capita=%{x}<br>Life expectancy at birth, total (years)=%{y}<br>count=%{z}<extra></extra>",
           "ids": [
            "United States"
           ],
           "legendgroup": "North America",
           "line": {
            "color": "#FF6692"
           },
           "name": "North America",
           "showlegend": true,
           "type": "histogram2dcontour",
           "x": [
            56762.7294515989
           ],
           "xaxis": "x",
           "xbingroup": "x",
           "y": [
            78.690243902439
           ],
           "yaxis": "y",
           "ybingroup": "y"
          }
         ],
         "name": "YR2015"
        },
        {
         "data": [
          {
           "contours": {
            "coloring": "none"
           },
           "hovertemplate": "Region=South Asia<br>Year=YR2000<br>GDP per capita=%{x}<br>Life expectancy at birth, total (years)=%{y}<br>count=%{z}<extra></extra>",
           "ids": [
            "Bangladesh",
            "Bhutan",
            "India",
            "Nepal",
            "Pakistan"
           ],
           "legendgroup": "South Asia",
           "line": {
            "color": "#636efa"
           },
           "name": "South Asia",
           "showlegend": true,
           "type": "histogram2dcontour",
           "x": [
            418.068942112038,
            718.196336969414,
            443.314193811316,
            229.490392563225,
            576.195580353518
           ],
           "xaxis": "x",
           "xbingroup": "x",
           "y": [
            65.447,
            60.884,
            62.505,
            62.288,
            62.82
           ],
           "yaxis": "y",
           "ybingroup": "y"
          },
          {
           "contours": {
            "coloring": "none"
           },
           "hovertemplate": "Region=Sub-Saharan Africa<br>Year=YR2000<br>GDP per capita=%{x}<br>Life expectancy at birth, total (years)=%{y}<br>count=%{z}<extra></extra>",
           "ids": [
            "Angola",
            "Burundi",
            "Benin",
            "Central African Republic",
            "Cote d'Ivoire",
            "Cameroon",
            "Ethiopia",
            "Gabon",
            "Guinea",
            "Gambia, The",
            "Kenya",
            "Lesotho",
            "Madagascar",
            "Mali",
            "Mauritius",
            "Namibia",
            "Niger",
            "Rwanda",
            "Sudan",
            "Senegal",
            "Sierra Leone",
            "Eswatini",
            "Chad",
            "Togo",
            "Uganda",
            "Zambia"
           ],
           "legendgroup": "Sub-Saharan Africa",
           "line": {
            "color": "#EF553B"
           },
           "name": "Sub-Saharan Africa",
           "showlegend": true,
           "type": "histogram2dcontour",
           "x": [
            556.83618223535,
            136.46397080034,
            512.673901962619,
            251.832764026789,
            1007.46738950787,
            681.102042961201,
            124.460790874921,
            4135.99238007722,
            363.482279266615,
            594.149388499649,
            397.482658777519,
            436.488137266071,
            293.607157402594,
            270.54300662038,
            3929.07549503364,
            2185.60411519312,
            197.832683441643,
            260.607654653932,
            366.172729492188,
            613.732384491775,
            138.698722497148,
            1728.71049762741,
            166.175708881786,
            302.958591951416,
            261.869141644962,
            345.689620749861
           ],
           "xaxis": "x",
           "xbingroup": "x",
           "y": [
            46.522,
            49.091,
            55.391,
            44.19,
            49.635,
            50.993,
            51.941,
            58.264,
            51.203,
            55.956,
            50.921,
            47.691,
            58.485,
            48.069,
            71.6634146341463,
            52.192,
            49.928,
            48.649,
            58.472,
            57.787,
            39.441,
            47.49,
            47.713,
            53.491,
            46.229,
            44
           ],
           "yaxis": "y",
           "ybingroup": "y"
          },
          {
           "contours": {
            "coloring": "none"
           },
           "hovertemplate": "Region=Europe and Central Asia<br>Year=YR2000<br>GDP per capita=%{x}<br>Life expectancy at birth, total (years)=%{y}<br>count=%{z}<extra></extra>",
           "ids": [
            "Albania",
            "Austria",
            "Azerbaijan",
            "Switzerland",
            "Cyprus",
            "Czechia",
            "Denmark",
            "Spain",
            "Estonia",
            "Finland",
            "United Kingdom",
            "Georgia",
            "Greece",
            "Hungary",
            "Ireland",
            "Iceland",
            "Italy",
            "Kyrgyz Republic",
            "Latvia",
            "Moldova",
            "Netherlands",
            "Norway",
            "Poland",
            "Portugal",
            "Romania",
            "Russian Federation",
            "Slovak Republic",
            "Sweden",
            "Tajikistan",
            "Turkiye",
            "Ukraine"
           ],
           "legendgroup": "Europe and Central Asia",
           "line": {
            "color": "#00cc96"
           },
           "name": "Europe and Central Asia",
           "showlegend": true,
           "type": "histogram2dcontour",
           "x": [
            1126.68334010717,
            24625.6007227434,
            655.119945170816,
            38952.0342005572,
            14388.34765625,
            6029.03819275358,
            30743.5476816354,
            14749.6874248766,
            4070.60902410208,
            24345.9148217032,
            28223.0675706515,
            749.908534993961,
            12072.9293569196,
            4624.28165670295,
            26334.5672050501,
            32096.3722613695,
            20137.5912217673,
            279.619569260939,
            3361.64086880275,
            440.672030653269,
            26214.498549887,
            38131.4606116242,
            4501.45406742273,
            11526.3720667968,
            1659.90763954548,
            1771.59411621094,
            5426.62428119306,
            29624.9126748618,
            138.429146735759,
            4337.47800296354,
            658.3486328125
           ],
           "xaxis": "x",
           "xbingroup": "x",
           "y": [
            73.955,
            78.1268292682927,
            66.763,
            79.6804878048781,
            78.009,
            74.9682926829268,
            76.5926829268293,
            78.9658536585366,
            70.4170731707317,
            77.4658536585366,
            77.7414634146342,
            69.902,
            77.8878048780488,
            71.2463414634146,
            76.5365853658537,
            79.6536585365854,
            79.7780487804878,
            68.5585365853659,
            70.3146341463415,
            67.006,
            77.9878048780488,
            78.6341463414634,
            73.7487804878049,
            76.3146341463415,
            71.1634146341463,
            65.4836585365854,
            73.0512195121951,
            79.6439024390244,
            61.974,
            70.005,
            67.6756097560976
           ],
           "yaxis": "y",
           "ybingroup": "y"
          },
          {
           "contours": {
            "coloring": "none"
           },
           "hovertemplate": "Region=Latin America & the Caribbean<br>Year=YR2000<br>GDP per capita=%{x}<br>Life expectancy at birth, total (years)=%{y}<br>count=%{z}<extra></extra>",
           "ids": [
            "Argentina",
            "Bahamas, The",
            "Belize",
            "Brazil",
            "Barbados",
            "Chile",
            "Colombia",
            "Costa Rica",
            "Dominican Republic",
            "Ecuador",
            "Guyana",
            "Jamaica",
            "Mexico",
            "Nicaragua",
            "Panama",
            "Peru",
            "Paraguay",
            "El Salvador",
            "Trinidad and Tobago",
            "Uruguay",
            "St. Vincent and the Grenadines"
           ],
           "legendgroup": "Latin America & the Caribbean",
           "line": {
            "color": "#ab63fa"
           },
           "name": "Latin America & the Caribbean",
           "showlegend": true,
           "type": "histogram2dcontour",
           "x": [
            7708.09911454041,
            27098.1563186767,
            3364.49173102584,
            3749.91084752888,
            11268.4200640121,
            5100.25413288222,
            2520.48108876016,
            3789.05388636246,
            2869.17813861021,
            1445.27932442901,
            954.400318095334,
            3392.12387809462,
            7157.81449985734,
            1007.499838655,
            4060.31779345702,
            1955.58800627896,
            1663.60493919986,
            2001.54004887966,
            6435.13421201268,
            6875.02546946372,
            3970.29362248818
           ],
           "xaxis": "x",
           "xbingroup": "x",
           "y": [
            73.576,
            71.914,
            68.847,
            70.116,
            77.162,
            76.366,
            72.945,
            77.452,
            69.429,
            72.761,
            65.242,
            74.142,
            74.34,
            69.527,
            75.06,
            71.111,
            70.546,
            68.875,
            69.413,
            74.731,
            70.809
           ],
           "yaxis": "y",
           "ybingroup": "y"
          },
          {
           "contours": {
            "coloring": "none"
           },
           "hovertemplate": "Region=East Asia and Pacific<br>Year=YR2000<br>GDP per capita=%{x}<br>Life expectancy at birth, total (years)=%{y}<br>count=%{z}<extra></extra>",
           "ids": [
            "Australia",
            "Brunei Darussalam",
            "Fiji",
            "Micronesia, Fed. Sts.",
            "Cambodia",
            "Kiribati",
            "Lao PDR",
            "Mongolia",
            "Malaysia",
            "Philippines",
            "Palau",
            "Singapore",
            "Thailand",
            "Tonga",
            "Vanuatu",
            "Samoa"
           ],
           "legendgroup": "East Asia and Pacific",
           "line": {
            "color": "#FFA15A"
           },
           "name": "East Asia and Pacific",
           "showlegend": true,
           "type": "histogram2dcontour",
           "x": [
            21697.7084797731,
            18012.5021948953,
            2069.31745471458,
            2171.88957683534,
            300.613679010462,
            796.803203566513,
            325.186937142965,
            474.217094319837,
            4043.66292312877,
            1072.80175248718,
            7657.95121440536,
            23852.3270285975,
            2007.7352707452,
            2091.11300904714,
            1470.63586995743,
            1483.80741460389
           ],
           "xaxis": "x",
           "xbingroup": "x",
           "y": [
            79.2341463414634,
            72.809,
            65.687,
            64.55,
            58.432,
            63.144,
            58.803,
            62.869,
            72.594,
            68.793,
            70.4936585365854,
            77.9512195121951,
            70.623,
            69.667,
            67.363,
            68.748
           ],
           "yaxis": "y",
           "ybingroup": "y"
          },
          {
           "contours": {
            "coloring": "none"
           },
           "hovertemplate": "Region=Middle East and North Africa<br>Year=YR2000<br>GDP per capita=%{x}<br>Life expectancy at birth, total (years)=%{y}<br>count=%{z}<extra></extra>",
           "ids": [
            "Djibouti",
            "Iran, Islamic Rep.",
            "Israel",
            "Oman",
            "Qatar",
            "Saudi Arabia",
            "Tunisia",
            "Yemen, Rep."
           ],
           "legendgroup": "Middle East and North Africa",
           "line": {
            "color": "#19d3f3"
           },
           "name": "Middle East and North Africa",
           "showlegend": true,
           "type": "histogram2dcontour",
           "x": [
            768.183570343678,
            1670.0096735653,
            21061.4822833993,
            8601.27194448996,
            29976.1676344676,
            9171.33147630515,
            2211.8350154787,
            554.448665276054
           ],
           "xaxis": "x",
           "xbingroup": "x",
           "y": [
            57.022,
            70.176,
            78.9536585365854,
            72.126,
            77.467,
            72.561,
            73.172,
            60.683
           ],
           "yaxis": "y",
           "ybingroup": "y"
          },
          {
           "contours": {
            "coloring": "none"
           },
           "hovertemplate": "Region=North America<br>Year=YR2000<br>GDP per capita=%{x}<br>Life expectancy at birth, total (years)=%{y}<br>count=%{z}<extra></extra>",
           "ids": [
            "Canada"
           ],
           "legendgroup": "North America",
           "line": {
            "color": "#FF6692"
           },
           "name": "North America",
           "showlegend": true,
           "type": "histogram2dcontour",
           "x": [
            24271.0020563821
           ],
           "xaxis": "x",
           "xbingroup": "x",
           "y": [
            79.1365853658537
           ],
           "yaxis": "y",
           "ybingroup": "y"
          }
         ],
         "name": "YR2000"
        }
       ],
       "layout": {
        "legend": {
         "title": {
          "text": "Region"
         },
         "tracegroupgap": 0
        },
        "margin": {
         "t": 60
        },
        "sliders": [
         {
          "active": 0,
          "currentvalue": {
           "prefix": "Year="
          },
          "len": 0.9,
          "pad": {
           "b": 10,
           "t": 60
          },
          "steps": [
           {
            "args": [
             [
              "YR2005"
             ],
             {
              "frame": {
               "duration": 0,
               "redraw": true
              },
              "fromcurrent": true,
              "mode": "immediate",
              "transition": {
               "duration": 0,
               "easing": "linear"
              }
             }
            ],
            "label": "YR2005",
            "method": "animate"
           },
           {
            "args": [
             [
              "YR2010"
             ],
             {
              "frame": {
               "duration": 0,
               "redraw": true
              },
              "fromcurrent": true,
              "mode": "immediate",
              "transition": {
               "duration": 0,
               "easing": "linear"
              }
             }
            ],
            "label": "YR2010",
            "method": "animate"
           },
           {
            "args": [
             [
              "YR2015"
             ],
             {
              "frame": {
               "duration": 0,
               "redraw": true
              },
              "fromcurrent": true,
              "mode": "immediate",
              "transition": {
               "duration": 0,
               "easing": "linear"
              }
             }
            ],
            "label": "YR2015",
            "method": "animate"
           },
           {
            "args": [
             [
              "YR2000"
             ],
             {
              "frame": {
               "duration": 0,
               "redraw": true
              },
              "fromcurrent": true,
              "mode": "immediate",
              "transition": {
               "duration": 0,
               "easing": "linear"
              }
             }
            ],
            "label": "YR2000",
            "method": "animate"
           }
          ],
          "x": 0.1,
          "xanchor": "left",
          "y": 0,
          "yanchor": "top"
         }
        ],
        "template": {
         "data": {
          "bar": [
           {
            "error_x": {
             "color": "#2a3f5f"
            },
            "error_y": {
             "color": "#2a3f5f"
            },
            "marker": {
             "line": {
              "color": "#E5ECF6",
              "width": 0.5
             },
             "pattern": {
              "fillmode": "overlay",
              "size": 10,
              "solidity": 0.2
             }
            },
            "type": "bar"
           }
          ],
          "barpolar": [
           {
            "marker": {
             "line": {
              "color": "#E5ECF6",
              "width": 0.5
             },
             "pattern": {
              "fillmode": "overlay",
              "size": 10,
              "solidity": 0.2
             }
            },
            "type": "barpolar"
           }
          ],
          "carpet": [
           {
            "aaxis": {
             "endlinecolor": "#2a3f5f",
             "gridcolor": "white",
             "linecolor": "white",
             "minorgridcolor": "white",
             "startlinecolor": "#2a3f5f"
            },
            "baxis": {
             "endlinecolor": "#2a3f5f",
             "gridcolor": "white",
             "linecolor": "white",
             "minorgridcolor": "white",
             "startlinecolor": "#2a3f5f"
            },
            "type": "carpet"
           }
          ],
          "choropleth": [
           {
            "colorbar": {
             "outlinewidth": 0,
             "ticks": ""
            },
            "type": "choropleth"
           }
          ],
          "contour": [
           {
            "colorbar": {
             "outlinewidth": 0,
             "ticks": ""
            },
            "colorscale": [
             [
              0,
              "#0d0887"
             ],
             [
              0.1111111111111111,
              "#46039f"
             ],
             [
              0.2222222222222222,
              "#7201a8"
             ],
             [
              0.3333333333333333,
              "#9c179e"
             ],
             [
              0.4444444444444444,
              "#bd3786"
             ],
             [
              0.5555555555555556,
              "#d8576b"
             ],
             [
              0.6666666666666666,
              "#ed7953"
             ],
             [
              0.7777777777777778,
              "#fb9f3a"
             ],
             [
              0.8888888888888888,
              "#fdca26"
             ],
             [
              1,
              "#f0f921"
             ]
            ],
            "type": "contour"
           }
          ],
          "contourcarpet": [
           {
            "colorbar": {
             "outlinewidth": 0,
             "ticks": ""
            },
            "type": "contourcarpet"
           }
          ],
          "heatmap": [
           {
            "colorbar": {
             "outlinewidth": 0,
             "ticks": ""
            },
            "colorscale": [
             [
              0,
              "#0d0887"
             ],
             [
              0.1111111111111111,
              "#46039f"
             ],
             [
              0.2222222222222222,
              "#7201a8"
             ],
             [
              0.3333333333333333,
              "#9c179e"
             ],
             [
              0.4444444444444444,
              "#bd3786"
             ],
             [
              0.5555555555555556,
              "#d8576b"
             ],
             [
              0.6666666666666666,
              "#ed7953"
             ],
             [
              0.7777777777777778,
              "#fb9f3a"
             ],
             [
              0.8888888888888888,
              "#fdca26"
             ],
             [
              1,
              "#f0f921"
             ]
            ],
            "type": "heatmap"
           }
          ],
          "heatmapgl": [
           {
            "colorbar": {
             "outlinewidth": 0,
             "ticks": ""
            },
            "colorscale": [
             [
              0,
              "#0d0887"
             ],
             [
              0.1111111111111111,
              "#46039f"
             ],
             [
              0.2222222222222222,
              "#7201a8"
             ],
             [
              0.3333333333333333,
              "#9c179e"
             ],
             [
              0.4444444444444444,
              "#bd3786"
             ],
             [
              0.5555555555555556,
              "#d8576b"
             ],
             [
              0.6666666666666666,
              "#ed7953"
             ],
             [
              0.7777777777777778,
              "#fb9f3a"
             ],
             [
              0.8888888888888888,
              "#fdca26"
             ],
             [
              1,
              "#f0f921"
             ]
            ],
            "type": "heatmapgl"
           }
          ],
          "histogram": [
           {
            "marker": {
             "pattern": {
              "fillmode": "overlay",
              "size": 10,
              "solidity": 0.2
             }
            },
            "type": "histogram"
           }
          ],
          "histogram2d": [
           {
            "colorbar": {
             "outlinewidth": 0,
             "ticks": ""
            },
            "colorscale": [
             [
              0,
              "#0d0887"
             ],
             [
              0.1111111111111111,
              "#46039f"
             ],
             [
              0.2222222222222222,
              "#7201a8"
             ],
             [
              0.3333333333333333,
              "#9c179e"
             ],
             [
              0.4444444444444444,
              "#bd3786"
             ],
             [
              0.5555555555555556,
              "#d8576b"
             ],
             [
              0.6666666666666666,
              "#ed7953"
             ],
             [
              0.7777777777777778,
              "#fb9f3a"
             ],
             [
              0.8888888888888888,
              "#fdca26"
             ],
             [
              1,
              "#f0f921"
             ]
            ],
            "type": "histogram2d"
           }
          ],
          "histogram2dcontour": [
           {
            "colorbar": {
             "outlinewidth": 0,
             "ticks": ""
            },
            "colorscale": [
             [
              0,
              "#0d0887"
             ],
             [
              0.1111111111111111,
              "#46039f"
             ],
             [
              0.2222222222222222,
              "#7201a8"
             ],
             [
              0.3333333333333333,
              "#9c179e"
             ],
             [
              0.4444444444444444,
              "#bd3786"
             ],
             [
              0.5555555555555556,
              "#d8576b"
             ],
             [
              0.6666666666666666,
              "#ed7953"
             ],
             [
              0.7777777777777778,
              "#fb9f3a"
             ],
             [
              0.8888888888888888,
              "#fdca26"
             ],
             [
              1,
              "#f0f921"
             ]
            ],
            "type": "histogram2dcontour"
           }
          ],
          "mesh3d": [
           {
            "colorbar": {
             "outlinewidth": 0,
             "ticks": ""
            },
            "type": "mesh3d"
           }
          ],
          "parcoords": [
           {
            "line": {
             "colorbar": {
              "outlinewidth": 0,
              "ticks": ""
             }
            },
            "type": "parcoords"
           }
          ],
          "pie": [
           {
            "automargin": true,
            "type": "pie"
           }
          ],
          "scatter": [
           {
            "marker": {
             "colorbar": {
              "outlinewidth": 0,
              "ticks": ""
             }
            },
            "type": "scatter"
           }
          ],
          "scatter3d": [
           {
            "line": {
             "colorbar": {
              "outlinewidth": 0,
              "ticks": ""
             }
            },
            "marker": {
             "colorbar": {
              "outlinewidth": 0,
              "ticks": ""
             }
            },
            "type": "scatter3d"
           }
          ],
          "scattercarpet": [
           {
            "marker": {
             "colorbar": {
              "outlinewidth": 0,
              "ticks": ""
             }
            },
            "type": "scattercarpet"
           }
          ],
          "scattergeo": [
           {
            "marker": {
             "colorbar": {
              "outlinewidth": 0,
              "ticks": ""
             }
            },
            "type": "scattergeo"
           }
          ],
          "scattergl": [
           {
            "marker": {
             "colorbar": {
              "outlinewidth": 0,
              "ticks": ""
             }
            },
            "type": "scattergl"
           }
          ],
          "scattermapbox": [
           {
            "marker": {
             "colorbar": {
              "outlinewidth": 0,
              "ticks": ""
             }
            },
            "type": "scattermapbox"
           }
          ],
          "scatterpolar": [
           {
            "marker": {
             "colorbar": {
              "outlinewidth": 0,
              "ticks": ""
             }
            },
            "type": "scatterpolar"
           }
          ],
          "scatterpolargl": [
           {
            "marker": {
             "colorbar": {
              "outlinewidth": 0,
              "ticks": ""
             }
            },
            "type": "scatterpolargl"
           }
          ],
          "scatterternary": [
           {
            "marker": {
             "colorbar": {
              "outlinewidth": 0,
              "ticks": ""
             }
            },
            "type": "scatterternary"
           }
          ],
          "surface": [
           {
            "colorbar": {
             "outlinewidth": 0,
             "ticks": ""
            },
            "colorscale": [
             [
              0,
              "#0d0887"
             ],
             [
              0.1111111111111111,
              "#46039f"
             ],
             [
              0.2222222222222222,
              "#7201a8"
             ],
             [
              0.3333333333333333,
              "#9c179e"
             ],
             [
              0.4444444444444444,
              "#bd3786"
             ],
             [
              0.5555555555555556,
              "#d8576b"
             ],
             [
              0.6666666666666666,
              "#ed7953"
             ],
             [
              0.7777777777777778,
              "#fb9f3a"
             ],
             [
              0.8888888888888888,
              "#fdca26"
             ],
             [
              1,
              "#f0f921"
             ]
            ],
            "type": "surface"
           }
          ],
          "table": [
           {
            "cells": {
             "fill": {
              "color": "#EBF0F8"
             },
             "line": {
              "color": "white"
             }
            },
            "header": {
             "fill": {
              "color": "#C8D4E3"
             },
             "line": {
              "color": "white"
             }
            },
            "type": "table"
           }
          ]
         },
         "layout": {
          "annotationdefaults": {
           "arrowcolor": "#2a3f5f",
           "arrowhead": 0,
           "arrowwidth": 1
          },
          "autotypenumbers": "strict",
          "coloraxis": {
           "colorbar": {
            "outlinewidth": 0,
            "ticks": ""
           }
          },
          "colorscale": {
           "diverging": [
            [
             0,
             "#8e0152"
            ],
            [
             0.1,
             "#c51b7d"
            ],
            [
             0.2,
             "#de77ae"
            ],
            [
             0.3,
             "#f1b6da"
            ],
            [
             0.4,
             "#fde0ef"
            ],
            [
             0.5,
             "#f7f7f7"
            ],
            [
             0.6,
             "#e6f5d0"
            ],
            [
             0.7,
             "#b8e186"
            ],
            [
             0.8,
             "#7fbc41"
            ],
            [
             0.9,
             "#4d9221"
            ],
            [
             1,
             "#276419"
            ]
           ],
           "sequential": [
            [
             0,
             "#0d0887"
            ],
            [
             0.1111111111111111,
             "#46039f"
            ],
            [
             0.2222222222222222,
             "#7201a8"
            ],
            [
             0.3333333333333333,
             "#9c179e"
            ],
            [
             0.4444444444444444,
             "#bd3786"
            ],
            [
             0.5555555555555556,
             "#d8576b"
            ],
            [
             0.6666666666666666,
             "#ed7953"
            ],
            [
             0.7777777777777778,
             "#fb9f3a"
            ],
            [
             0.8888888888888888,
             "#fdca26"
            ],
            [
             1,
             "#f0f921"
            ]
           ],
           "sequentialminus": [
            [
             0,
             "#0d0887"
            ],
            [
             0.1111111111111111,
             "#46039f"
            ],
            [
             0.2222222222222222,
             "#7201a8"
            ],
            [
             0.3333333333333333,
             "#9c179e"
            ],
            [
             0.4444444444444444,
             "#bd3786"
            ],
            [
             0.5555555555555556,
             "#d8576b"
            ],
            [
             0.6666666666666666,
             "#ed7953"
            ],
            [
             0.7777777777777778,
             "#fb9f3a"
            ],
            [
             0.8888888888888888,
             "#fdca26"
            ],
            [
             1,
             "#f0f921"
            ]
           ]
          },
          "colorway": [
           "#636efa",
           "#EF553B",
           "#00cc96",
           "#ab63fa",
           "#FFA15A",
           "#19d3f3",
           "#FF6692",
           "#B6E880",
           "#FF97FF",
           "#FECB52"
          ],
          "font": {
           "color": "#2a3f5f"
          },
          "geo": {
           "bgcolor": "white",
           "lakecolor": "white",
           "landcolor": "#E5ECF6",
           "showlakes": true,
           "showland": true,
           "subunitcolor": "white"
          },
          "hoverlabel": {
           "align": "left"
          },
          "hovermode": "closest",
          "mapbox": {
           "style": "light"
          },
          "paper_bgcolor": "white",
          "plot_bgcolor": "#E5ECF6",
          "polar": {
           "angularaxis": {
            "gridcolor": "white",
            "linecolor": "white",
            "ticks": ""
           },
           "bgcolor": "#E5ECF6",
           "radialaxis": {
            "gridcolor": "white",
            "linecolor": "white",
            "ticks": ""
           }
          },
          "scene": {
           "xaxis": {
            "backgroundcolor": "#E5ECF6",
            "gridcolor": "white",
            "gridwidth": 2,
            "linecolor": "white",
            "showbackground": true,
            "ticks": "",
            "zerolinecolor": "white"
           },
           "yaxis": {
            "backgroundcolor": "#E5ECF6",
            "gridcolor": "white",
            "gridwidth": 2,
            "linecolor": "white",
            "showbackground": true,
            "ticks": "",
            "zerolinecolor": "white"
           },
           "zaxis": {
            "backgroundcolor": "#E5ECF6",
            "gridcolor": "white",
            "gridwidth": 2,
            "linecolor": "white",
            "showbackground": true,
            "ticks": "",
            "zerolinecolor": "white"
           }
          },
          "shapedefaults": {
           "line": {
            "color": "#2a3f5f"
           }
          },
          "ternary": {
           "aaxis": {
            "gridcolor": "white",
            "linecolor": "white",
            "ticks": ""
           },
           "baxis": {
            "gridcolor": "white",
            "linecolor": "white",
            "ticks": ""
           },
           "bgcolor": "#E5ECF6",
           "caxis": {
            "gridcolor": "white",
            "linecolor": "white",
            "ticks": ""
           }
          },
          "title": {
           "x": 0.05
          },
          "xaxis": {
           "automargin": true,
           "gridcolor": "white",
           "linecolor": "white",
           "ticks": "",
           "title": {
            "standoff": 15
           },
           "zerolinecolor": "white",
           "zerolinewidth": 2
          },
          "yaxis": {
           "automargin": true,
           "gridcolor": "white",
           "linecolor": "white",
           "ticks": "",
           "title": {
            "standoff": 15
           },
           "zerolinecolor": "white",
           "zerolinewidth": 2
          }
         }
        },
        "updatemenus": [
         {
          "buttons": [
           {
            "args": [
             null,
             {
              "frame": {
               "duration": 500,
               "redraw": true
              },
              "fromcurrent": true,
              "mode": "immediate",
              "transition": {
               "duration": 500,
               "easing": "linear"
              }
             }
            ],
            "label": "&#9654;",
            "method": "animate"
           },
           {
            "args": [
             [
              null
             ],
             {
              "frame": {
               "duration": 0,
               "redraw": true
              },
              "fromcurrent": true,
              "mode": "immediate",
              "transition": {
               "duration": 0,
               "easing": "linear"
              }
             }
            ],
            "label": "&#9724;",
            "method": "animate"
           }
          ],
          "direction": "left",
          "pad": {
           "r": 10,
           "t": 70
          },
          "showactive": false,
          "type": "buttons",
          "x": 0.1,
          "xanchor": "right",
          "y": 0,
          "yanchor": "top"
         }
        ],
        "xaxis": {
         "anchor": "y",
         "domain": [
          0,
          1
         ],
         "title": {
          "text": "GDP per capita"
         }
        },
        "yaxis": {
         "anchor": "x",
         "domain": [
          0,
          1
         ],
         "range": [
          25,
          100
         ],
         "title": {
          "text": "Life expectancy at birth, total (years)"
         }
        }
       }
      },
      "text/html": [
       "<div>                            <div id=\"f7743eeb-249b-4d90-9d46-9407632bd315\" class=\"plotly-graph-div\" style=\"height:525px; width:100%;\"></div>            <script type=\"text/javascript\">                require([\"plotly\"], function(Plotly) {                    window.PLOTLYENV=window.PLOTLYENV || {};                                    if (document.getElementById(\"f7743eeb-249b-4d90-9d46-9407632bd315\")) {                    Plotly.newPlot(                        \"f7743eeb-249b-4d90-9d46-9407632bd315\",                        [{\"contours\":{\"coloring\":\"none\"},\"hovertemplate\":\"Region=South Asia<br>Year=YR2005<br>GDP per capita=%{x}<br>Life expectancy at birth, total (years)=%{y}<br>count=%{z}<extra></extra>\",\"ids\":[\"Afghanistan\",\"Bhutan\",\"India\",\"Sri Lanka\",\"Maldives\",\"Nepal\",\"Pakistan\"],\"legendgroup\":\"South Asia\",\"line\":{\"color\":\"#636efa\"},\"name\":\"South Asia\",\"showlegend\":true,\"x\":[242.031313175022,1228.43235572338,714.8610153644,1248.69818517034,3640.0121322011,315.805629997361,748.922589270883],\"xaxis\":\"x\",\"xbingroup\":\"x\",\"y\":[58.29,65.289,64.5,74.695,73.612,65.264,63.951],\"yaxis\":\"y\",\"ybingroup\":\"y\",\"type\":\"histogram2dcontour\"},{\"contours\":{\"coloring\":\"none\"},\"hovertemplate\":\"Region=Sub-Saharan Africa<br>Year=YR2005<br>GDP per capita=%{x}<br>Life expectancy at birth, total (years)=%{y}<br>count=%{z}<extra></extra>\",\"ids\":[\"Angola\",\"Burundi\",\"Benin\",\"Burkina Faso\",\"Botswana\",\"Central African Republic\",\"Cote d'Ivoire\",\"Cameroon\",\"Congo, Rep.\",\"Ghana\",\"Guinea\",\"Gambia, The\",\"Kenya\",\"Lesotho\",\"Madagascar\",\"Mali\",\"Mozambique\",\"Mauritius\",\"Sudan\",\"Senegal\",\"Sierra Leone\",\"Sao Tome and Principe\",\"Eswatini\",\"Chad\",\"Togo\",\"Tanzania\",\"South Africa\",\"Zambia\"],\"legendgroup\":\"Sub-Saharan Africa\",\"line\":{\"color\":\"#EF553B\"},\"name\":\"Sub-Saharan Africa\",\"showlegend\":true,\"x\":[1902.42214975937,151.681566343002,822.785143124704,457.933430763383,5513.33106259322,331.294821098185,1309.59165283165,1100.17492617744,1835.60990812416,492.54405617264,322.415540033465,665.720215700547,511.616394301253,842.812630961302,319.537475081164,489.022855550956,416.809824183966,5282.90602155635,914.16650390625,992.688058138543,292.349066330563,866.504995638803,3083.83814075588,658.566973042801,406.562366042383,492.63134765625,6033.10149088554,702.741118447779],\"xaxis\":\"x\",\"xbingroup\":\"x\",\"y\":[50.165,53.369,57.355,53.31,52.13,44.744,50.12,52.76,55.6,58.719,53.238,57.939,54.732,42.658,61.212,52.057,50.387,72.4321951219512,60.525,60.62,44.502,64.659,42.518,48.549,54.602,54.349,53.447,48.496],\"yaxis\":\"y\",\"ybingroup\":\"y\",\"type\":\"histogram2dcontour\"},{\"contours\":{\"coloring\":\"none\"},\"hovertemplate\":\"Region=Europe and Central Asia<br>Year=YR2005<br>GDP per capita=%{x}<br>Life expectancy at birth, total (years)=%{y}<br>count=%{z}<extra></extra>\",\"ids\":[\"Albania\",\"Armenia\",\"Austria\",\"Azerbaijan\",\"Belgium\",\"Bulgaria\",\"Belarus\",\"Switzerland\",\"Cyprus\",\"Czechia\",\"Denmark\",\"Spain\",\"Estonia\",\"Finland\",\"United Kingdom\",\"Georgia\",\"Greece\",\"Hungary\",\"Ireland\",\"Iceland\",\"Italy\",\"Kazakhstan\",\"Kyrgyz Republic\",\"Lithuania\",\"Moldova\",\"Netherlands\",\"Norway\",\"Poland\",\"Portugal\",\"Romania\",\"Russian Federation\",\"Slovak Republic\",\"Slovenia\",\"Sweden\",\"Tajikistan\",\"Ukraine\"],\"legendgroup\":\"Europe and Central Asia\",\"line\":{\"color\":\"#00cc96\"},\"name\":\"Europe and Central Asia\",\"showlegend\":true,\"x\":[2673.78658429559,1643.75688889146,38417.4577857677,1578.40239029603,36809.7013403619,3899.90763774017,3125.81053502853,56546.7856553987,24959.259765625,13430.6698955613,48799.8256011275,26429.1509449319,10412.6443137966,39054.8504423825,42132.0907219815,1642.76093756395,22560.1472939077,11225.9325815328,50933.0216095589,56794.8501588953,32055.0920757503,3771.27895733845,476.552129968975,7854.76527867855,1034.70705816743,41994.7135305232,66810.478520868,8021.50574346795,18780.12751241,4617.92901643258,5323.462890625,11690.1134689407,18098.9085440003,43437.0631164776,340.583183232527,1894.47082519531],\"xaxis\":\"x\",\"xbingroup\":\"x\",\"y\":[75.228,72.626,79.3317073170732,68.747,78.9804878048781,72.5609756097561,68.8512195121951,81.2365853658537,78.63,75.9243902439025,77.8439024390244,80.1707317073171,72.5682926829268,78.8170731707317,79.0487804878049,70.538,79.2390243902439,72.6487804878049,78.9439024390244,81.5024390243902,80.7829268292683,65.86,67.9560975609756,71.2536585365854,67.82,79.3463414634146,80.0414634146342,74.9951219512195,78.0707317073171,71.9121951219512,65.529756097561,73.9048780487805,77.6121951219512,80.5463414634146,66.08,67.9568292682927],\"yaxis\":\"y\",\"ybingroup\":\"y\",\"type\":\"histogram2dcontour\"},{\"contours\":{\"coloring\":\"none\"},\"hovertemplate\":\"Region=Latin America & the Caribbean<br>Year=YR2005<br>GDP per capita=%{x}<br>Life expectancy at birth, total (years)=%{y}<br>count=%{z}<extra></extra>\",\"ids\":[\"Argentina\",\"Bahamas, The\",\"Brazil\",\"Barbados\",\"Chile\",\"Colombia\",\"Guyana\",\"Jamaica\",\"St. Lucia\",\"Mexico\",\"Peru\",\"El Salvador\",\"Uruguay\",\"St. Vincent and the Grenadines\"],\"legendgroup\":\"Latin America & the Caribbean\",\"line\":{\"color\":\"#ab63fa\"},\"name\":\"Latin America & the Caribbean\",\"showlegend\":true,\"x\":[5109.85224490403,30279.3922080481,4790.45656586131,13822.7417486972,7558.37175410092,3414.46515834714,1105.50682477118,4103.6016371324,6949.20417333029,8277.67156384567,2729.49917213529,2428.56887928932,5226.94409982496,5339.3935508934],\"xaxis\":\"x\",\"xbingroup\":\"x\",\"y\":[74.451,71.987,71.896,77.915,77.63,74.265,66.694,74.148,74.122,75.3,72.908,70.124,75.826,71.331],\"yaxis\":\"y\",\"ybingroup\":\"y\",\"type\":\"histogram2dcontour\"},{\"contours\":{\"coloring\":\"none\"},\"hovertemplate\":\"Region=East Asia and Pacific<br>Year=YR2005<br>GDP per capita=%{x}<br>Life expectancy at birth, total (years)=%{y}<br>count=%{z}<extra></extra>\",\"ids\":[\"Australia\",\"China\",\"Fiji\",\"Indonesia\",\"Lao PDR\",\"New Zealand\",\"Philippines\",\"Singapore\",\"Thailand\"],\"legendgroup\":\"East Asia and Pacific\",\"line\":{\"color\":\"#FFA15A\"},\"name\":\"East Asia and Pacific\",\"showlegend\":true,\"x\":[34080.9998953245,1753.41782926104,3627.63285585254,1263.28733171098,475.610796203932,27751.0654708859,1244.34874065936,29961.2632774569,2894.06265596401],\"xaxis\":\"x\",\"xbingroup\":\"x\",\"y\":[80.8414634146341,72.985,66.313,67.334,61.625,79.8512195121951,69.112,79.990243902439,72.099],\"yaxis\":\"y\",\"ybingroup\":\"y\",\"type\":\"histogram2dcontour\"},{\"contours\":{\"coloring\":\"none\"},\"hovertemplate\":\"Region=Middle East and North Africa<br>Year=YR2005<br>GDP per capita=%{x}<br>Life expectancy at birth, total (years)=%{y}<br>count=%{z}<extra></extra>\",\"ids\":[\"Djibouti\",\"Egypt, Arab Rep.\",\"Iran, Islamic Rep.\",\"Israel\",\"Jordan\",\"Kuwait\",\"Lebanon\",\"Oman\",\"Qatar\",\"Saudi Arabia\",\"Tunisia\"],\"legendgroup\":\"Middle East and North Africa\",\"line\":{\"color\":\"#19d3f3\"},\"name\":\"Middle East and North Africa\",\"showlegend\":true,\"x\":[904.736679476444,1186.39331322717,3246.05112244352,20585.1386127162,2183.39464250953,35591.0371337921,4575.10745896031,12377.0800076389,51455.9509428993,13791.454761932,3193.20435786446],\"xaxis\":\"x\",\"xbingroup\":\"x\",\"y\":[57.991,69.434,71.917,80.1512195121951,72.595,73.538,76.865,74.23,78.252,73.256,74.217],\"yaxis\":\"y\",\"ybingroup\":\"y\",\"type\":\"histogram2dcontour\"},{\"contours\":{\"coloring\":\"none\"},\"hovertemplate\":\"Region=North America<br>Year=YR2005<br>GDP per capita=%{x}<br>Life expectancy at birth, total (years)=%{y}<br>count=%{z}<extra></extra>\",\"ids\":[\"Canada\"],\"legendgroup\":\"North America\",\"line\":{\"color\":\"#FF6692\"},\"name\":\"North America\",\"showlegend\":true,\"x\":[36382.5079164537],\"xaxis\":\"x\",\"xbingroup\":\"x\",\"y\":[80.1926829268293],\"yaxis\":\"y\",\"ybingroup\":\"y\",\"type\":\"histogram2dcontour\"}],                        {\"template\":{\"data\":{\"bar\":[{\"error_x\":{\"color\":\"#2a3f5f\"},\"error_y\":{\"color\":\"#2a3f5f\"},\"marker\":{\"line\":{\"color\":\"#E5ECF6\",\"width\":0.5},\"pattern\":{\"fillmode\":\"overlay\",\"size\":10,\"solidity\":0.2}},\"type\":\"bar\"}],\"barpolar\":[{\"marker\":{\"line\":{\"color\":\"#E5ECF6\",\"width\":0.5},\"pattern\":{\"fillmode\":\"overlay\",\"size\":10,\"solidity\":0.2}},\"type\":\"barpolar\"}],\"carpet\":[{\"aaxis\":{\"endlinecolor\":\"#2a3f5f\",\"gridcolor\":\"white\",\"linecolor\":\"white\",\"minorgridcolor\":\"white\",\"startlinecolor\":\"#2a3f5f\"},\"baxis\":{\"endlinecolor\":\"#2a3f5f\",\"gridcolor\":\"white\",\"linecolor\":\"white\",\"minorgridcolor\":\"white\",\"startlinecolor\":\"#2a3f5f\"},\"type\":\"carpet\"}],\"choropleth\":[{\"colorbar\":{\"outlinewidth\":0,\"ticks\":\"\"},\"type\":\"choropleth\"}],\"contour\":[{\"colorbar\":{\"outlinewidth\":0,\"ticks\":\"\"},\"colorscale\":[[0.0,\"#0d0887\"],[0.1111111111111111,\"#46039f\"],[0.2222222222222222,\"#7201a8\"],[0.3333333333333333,\"#9c179e\"],[0.4444444444444444,\"#bd3786\"],[0.5555555555555556,\"#d8576b\"],[0.6666666666666666,\"#ed7953\"],[0.7777777777777778,\"#fb9f3a\"],[0.8888888888888888,\"#fdca26\"],[1.0,\"#f0f921\"]],\"type\":\"contour\"}],\"contourcarpet\":[{\"colorbar\":{\"outlinewidth\":0,\"ticks\":\"\"},\"type\":\"contourcarpet\"}],\"heatmap\":[{\"colorbar\":{\"outlinewidth\":0,\"ticks\":\"\"},\"colorscale\":[[0.0,\"#0d0887\"],[0.1111111111111111,\"#46039f\"],[0.2222222222222222,\"#7201a8\"],[0.3333333333333333,\"#9c179e\"],[0.4444444444444444,\"#bd3786\"],[0.5555555555555556,\"#d8576b\"],[0.6666666666666666,\"#ed7953\"],[0.7777777777777778,\"#fb9f3a\"],[0.8888888888888888,\"#fdca26\"],[1.0,\"#f0f921\"]],\"type\":\"heatmap\"}],\"heatmapgl\":[{\"colorbar\":{\"outlinewidth\":0,\"ticks\":\"\"},\"colorscale\":[[0.0,\"#0d0887\"],[0.1111111111111111,\"#46039f\"],[0.2222222222222222,\"#7201a8\"],[0.3333333333333333,\"#9c179e\"],[0.4444444444444444,\"#bd3786\"],[0.5555555555555556,\"#d8576b\"],[0.6666666666666666,\"#ed7953\"],[0.7777777777777778,\"#fb9f3a\"],[0.8888888888888888,\"#fdca26\"],[1.0,\"#f0f921\"]],\"type\":\"heatmapgl\"}],\"histogram\":[{\"marker\":{\"pattern\":{\"fillmode\":\"overlay\",\"size\":10,\"solidity\":0.2}},\"type\":\"histogram\"}],\"histogram2d\":[{\"colorbar\":{\"outlinewidth\":0,\"ticks\":\"\"},\"colorscale\":[[0.0,\"#0d0887\"],[0.1111111111111111,\"#46039f\"],[0.2222222222222222,\"#7201a8\"],[0.3333333333333333,\"#9c179e\"],[0.4444444444444444,\"#bd3786\"],[0.5555555555555556,\"#d8576b\"],[0.6666666666666666,\"#ed7953\"],[0.7777777777777778,\"#fb9f3a\"],[0.8888888888888888,\"#fdca26\"],[1.0,\"#f0f921\"]],\"type\":\"histogram2d\"}],\"histogram2dcontour\":[{\"colorbar\":{\"outlinewidth\":0,\"ticks\":\"\"},\"colorscale\":[[0.0,\"#0d0887\"],[0.1111111111111111,\"#46039f\"],[0.2222222222222222,\"#7201a8\"],[0.3333333333333333,\"#9c179e\"],[0.4444444444444444,\"#bd3786\"],[0.5555555555555556,\"#d8576b\"],[0.6666666666666666,\"#ed7953\"],[0.7777777777777778,\"#fb9f3a\"],[0.8888888888888888,\"#fdca26\"],[1.0,\"#f0f921\"]],\"type\":\"histogram2dcontour\"}],\"mesh3d\":[{\"colorbar\":{\"outlinewidth\":0,\"ticks\":\"\"},\"type\":\"mesh3d\"}],\"parcoords\":[{\"line\":{\"colorbar\":{\"outlinewidth\":0,\"ticks\":\"\"}},\"type\":\"parcoords\"}],\"pie\":[{\"automargin\":true,\"type\":\"pie\"}],\"scatter\":[{\"marker\":{\"colorbar\":{\"outlinewidth\":0,\"ticks\":\"\"}},\"type\":\"scatter\"}],\"scatter3d\":[{\"line\":{\"colorbar\":{\"outlinewidth\":0,\"ticks\":\"\"}},\"marker\":{\"colorbar\":{\"outlinewidth\":0,\"ticks\":\"\"}},\"type\":\"scatter3d\"}],\"scattercarpet\":[{\"marker\":{\"colorbar\":{\"outlinewidth\":0,\"ticks\":\"\"}},\"type\":\"scattercarpet\"}],\"scattergeo\":[{\"marker\":{\"colorbar\":{\"outlinewidth\":0,\"ticks\":\"\"}},\"type\":\"scattergeo\"}],\"scattergl\":[{\"marker\":{\"colorbar\":{\"outlinewidth\":0,\"ticks\":\"\"}},\"type\":\"scattergl\"}],\"scattermapbox\":[{\"marker\":{\"colorbar\":{\"outlinewidth\":0,\"ticks\":\"\"}},\"type\":\"scattermapbox\"}],\"scatterpolar\":[{\"marker\":{\"colorbar\":{\"outlinewidth\":0,\"ticks\":\"\"}},\"type\":\"scatterpolar\"}],\"scatterpolargl\":[{\"marker\":{\"colorbar\":{\"outlinewidth\":0,\"ticks\":\"\"}},\"type\":\"scatterpolargl\"}],\"scatterternary\":[{\"marker\":{\"colorbar\":{\"outlinewidth\":0,\"ticks\":\"\"}},\"type\":\"scatterternary\"}],\"surface\":[{\"colorbar\":{\"outlinewidth\":0,\"ticks\":\"\"},\"colorscale\":[[0.0,\"#0d0887\"],[0.1111111111111111,\"#46039f\"],[0.2222222222222222,\"#7201a8\"],[0.3333333333333333,\"#9c179e\"],[0.4444444444444444,\"#bd3786\"],[0.5555555555555556,\"#d8576b\"],[0.6666666666666666,\"#ed7953\"],[0.7777777777777778,\"#fb9f3a\"],[0.8888888888888888,\"#fdca26\"],[1.0,\"#f0f921\"]],\"type\":\"surface\"}],\"table\":[{\"cells\":{\"fill\":{\"color\":\"#EBF0F8\"},\"line\":{\"color\":\"white\"}},\"header\":{\"fill\":{\"color\":\"#C8D4E3\"},\"line\":{\"color\":\"white\"}},\"type\":\"table\"}]},\"layout\":{\"annotationdefaults\":{\"arrowcolor\":\"#2a3f5f\",\"arrowhead\":0,\"arrowwidth\":1},\"autotypenumbers\":\"strict\",\"coloraxis\":{\"colorbar\":{\"outlinewidth\":0,\"ticks\":\"\"}},\"colorscale\":{\"diverging\":[[0,\"#8e0152\"],[0.1,\"#c51b7d\"],[0.2,\"#de77ae\"],[0.3,\"#f1b6da\"],[0.4,\"#fde0ef\"],[0.5,\"#f7f7f7\"],[0.6,\"#e6f5d0\"],[0.7,\"#b8e186\"],[0.8,\"#7fbc41\"],[0.9,\"#4d9221\"],[1,\"#276419\"]],\"sequential\":[[0.0,\"#0d0887\"],[0.1111111111111111,\"#46039f\"],[0.2222222222222222,\"#7201a8\"],[0.3333333333333333,\"#9c179e\"],[0.4444444444444444,\"#bd3786\"],[0.5555555555555556,\"#d8576b\"],[0.6666666666666666,\"#ed7953\"],[0.7777777777777778,\"#fb9f3a\"],[0.8888888888888888,\"#fdca26\"],[1.0,\"#f0f921\"]],\"sequentialminus\":[[0.0,\"#0d0887\"],[0.1111111111111111,\"#46039f\"],[0.2222222222222222,\"#7201a8\"],[0.3333333333333333,\"#9c179e\"],[0.4444444444444444,\"#bd3786\"],[0.5555555555555556,\"#d8576b\"],[0.6666666666666666,\"#ed7953\"],[0.7777777777777778,\"#fb9f3a\"],[0.8888888888888888,\"#fdca26\"],[1.0,\"#f0f921\"]]},\"colorway\":[\"#636efa\",\"#EF553B\",\"#00cc96\",\"#ab63fa\",\"#FFA15A\",\"#19d3f3\",\"#FF6692\",\"#B6E880\",\"#FF97FF\",\"#FECB52\"],\"font\":{\"color\":\"#2a3f5f\"},\"geo\":{\"bgcolor\":\"white\",\"lakecolor\":\"white\",\"landcolor\":\"#E5ECF6\",\"showlakes\":true,\"showland\":true,\"subunitcolor\":\"white\"},\"hoverlabel\":{\"align\":\"left\"},\"hovermode\":\"closest\",\"mapbox\":{\"style\":\"light\"},\"paper_bgcolor\":\"white\",\"plot_bgcolor\":\"#E5ECF6\",\"polar\":{\"angularaxis\":{\"gridcolor\":\"white\",\"linecolor\":\"white\",\"ticks\":\"\"},\"bgcolor\":\"#E5ECF6\",\"radialaxis\":{\"gridcolor\":\"white\",\"linecolor\":\"white\",\"ticks\":\"\"}},\"scene\":{\"xaxis\":{\"backgroundcolor\":\"#E5ECF6\",\"gridcolor\":\"white\",\"gridwidth\":2,\"linecolor\":\"white\",\"showbackground\":true,\"ticks\":\"\",\"zerolinecolor\":\"white\"},\"yaxis\":{\"backgroundcolor\":\"#E5ECF6\",\"gridcolor\":\"white\",\"gridwidth\":2,\"linecolor\":\"white\",\"showbackground\":true,\"ticks\":\"\",\"zerolinecolor\":\"white\"},\"zaxis\":{\"backgroundcolor\":\"#E5ECF6\",\"gridcolor\":\"white\",\"gridwidth\":2,\"linecolor\":\"white\",\"showbackground\":true,\"ticks\":\"\",\"zerolinecolor\":\"white\"}},\"shapedefaults\":{\"line\":{\"color\":\"#2a3f5f\"}},\"ternary\":{\"aaxis\":{\"gridcolor\":\"white\",\"linecolor\":\"white\",\"ticks\":\"\"},\"baxis\":{\"gridcolor\":\"white\",\"linecolor\":\"white\",\"ticks\":\"\"},\"bgcolor\":\"#E5ECF6\",\"caxis\":{\"gridcolor\":\"white\",\"linecolor\":\"white\",\"ticks\":\"\"}},\"title\":{\"x\":0.05},\"xaxis\":{\"automargin\":true,\"gridcolor\":\"white\",\"linecolor\":\"white\",\"ticks\":\"\",\"title\":{\"standoff\":15},\"zerolinecolor\":\"white\",\"zerolinewidth\":2},\"yaxis\":{\"automargin\":true,\"gridcolor\":\"white\",\"linecolor\":\"white\",\"ticks\":\"\",\"title\":{\"standoff\":15},\"zerolinecolor\":\"white\",\"zerolinewidth\":2}}},\"xaxis\":{\"anchor\":\"y\",\"domain\":[0.0,1.0],\"title\":{\"text\":\"GDP per capita\"}},\"yaxis\":{\"anchor\":\"x\",\"domain\":[0.0,1.0],\"title\":{\"text\":\"Life expectancy at birth, total (years)\"},\"range\":[25,100]},\"legend\":{\"title\":{\"text\":\"Region\"},\"tracegroupgap\":0},\"margin\":{\"t\":60},\"updatemenus\":[{\"buttons\":[{\"args\":[null,{\"frame\":{\"duration\":500,\"redraw\":true},\"mode\":\"immediate\",\"fromcurrent\":true,\"transition\":{\"duration\":500,\"easing\":\"linear\"}}],\"label\":\"&#9654;\",\"method\":\"animate\"},{\"args\":[[null],{\"frame\":{\"duration\":0,\"redraw\":true},\"mode\":\"immediate\",\"fromcurrent\":true,\"transition\":{\"duration\":0,\"easing\":\"linear\"}}],\"label\":\"&#9724;\",\"method\":\"animate\"}],\"direction\":\"left\",\"pad\":{\"r\":10,\"t\":70},\"showactive\":false,\"type\":\"buttons\",\"x\":0.1,\"xanchor\":\"right\",\"y\":0,\"yanchor\":\"top\"}],\"sliders\":[{\"active\":0,\"currentvalue\":{\"prefix\":\"Year=\"},\"len\":0.9,\"pad\":{\"b\":10,\"t\":60},\"steps\":[{\"args\":[[\"YR2005\"],{\"frame\":{\"duration\":0,\"redraw\":true},\"mode\":\"immediate\",\"fromcurrent\":true,\"transition\":{\"duration\":0,\"easing\":\"linear\"}}],\"label\":\"YR2005\",\"method\":\"animate\"},{\"args\":[[\"YR2010\"],{\"frame\":{\"duration\":0,\"redraw\":true},\"mode\":\"immediate\",\"fromcurrent\":true,\"transition\":{\"duration\":0,\"easing\":\"linear\"}}],\"label\":\"YR2010\",\"method\":\"animate\"},{\"args\":[[\"YR2015\"],{\"frame\":{\"duration\":0,\"redraw\":true},\"mode\":\"immediate\",\"fromcurrent\":true,\"transition\":{\"duration\":0,\"easing\":\"linear\"}}],\"label\":\"YR2015\",\"method\":\"animate\"},{\"args\":[[\"YR2000\"],{\"frame\":{\"duration\":0,\"redraw\":true},\"mode\":\"immediate\",\"fromcurrent\":true,\"transition\":{\"duration\":0,\"easing\":\"linear\"}}],\"label\":\"YR2000\",\"method\":\"animate\"}],\"x\":0.1,\"xanchor\":\"left\",\"y\":0,\"yanchor\":\"top\"}]},                        {\"responsive\": true}                    ).then(function(){\n",
       "                            Plotly.addFrames('f7743eeb-249b-4d90-9d46-9407632bd315', [{\"data\":[{\"contours\":{\"coloring\":\"none\"},\"hovertemplate\":\"Region=South Asia<br>Year=YR2005<br>GDP per capita=%{x}<br>Life expectancy at birth, total (years)=%{y}<br>count=%{z}<extra></extra>\",\"ids\":[\"Afghanistan\",\"Bhutan\",\"India\",\"Sri Lanka\",\"Maldives\",\"Nepal\",\"Pakistan\"],\"legendgroup\":\"South Asia\",\"line\":{\"color\":\"#636efa\"},\"name\":\"South Asia\",\"showlegend\":true,\"x\":[242.031313175022,1228.43235572338,714.8610153644,1248.69818517034,3640.0121322011,315.805629997361,748.922589270883],\"xaxis\":\"x\",\"xbingroup\":\"x\",\"y\":[58.29,65.289,64.5,74.695,73.612,65.264,63.951],\"yaxis\":\"y\",\"ybingroup\":\"y\",\"type\":\"histogram2dcontour\"},{\"contours\":{\"coloring\":\"none\"},\"hovertemplate\":\"Region=Sub-Saharan Africa<br>Year=YR2005<br>GDP per capita=%{x}<br>Life expectancy at birth, total (years)=%{y}<br>count=%{z}<extra></extra>\",\"ids\":[\"Angola\",\"Burundi\",\"Benin\",\"Burkina Faso\",\"Botswana\",\"Central African Republic\",\"Cote d'Ivoire\",\"Cameroon\",\"Congo, Rep.\",\"Ghana\",\"Guinea\",\"Gambia, The\",\"Kenya\",\"Lesotho\",\"Madagascar\",\"Mali\",\"Mozambique\",\"Mauritius\",\"Sudan\",\"Senegal\",\"Sierra Leone\",\"Sao Tome and Principe\",\"Eswatini\",\"Chad\",\"Togo\",\"Tanzania\",\"South Africa\",\"Zambia\"],\"legendgroup\":\"Sub-Saharan Africa\",\"line\":{\"color\":\"#EF553B\"},\"name\":\"Sub-Saharan Africa\",\"showlegend\":true,\"x\":[1902.42214975937,151.681566343002,822.785143124704,457.933430763383,5513.33106259322,331.294821098185,1309.59165283165,1100.17492617744,1835.60990812416,492.54405617264,322.415540033465,665.720215700547,511.616394301253,842.812630961302,319.537475081164,489.022855550956,416.809824183966,5282.90602155635,914.16650390625,992.688058138543,292.349066330563,866.504995638803,3083.83814075588,658.566973042801,406.562366042383,492.63134765625,6033.10149088554,702.741118447779],\"xaxis\":\"x\",\"xbingroup\":\"x\",\"y\":[50.165,53.369,57.355,53.31,52.13,44.744,50.12,52.76,55.6,58.719,53.238,57.939,54.732,42.658,61.212,52.057,50.387,72.4321951219512,60.525,60.62,44.502,64.659,42.518,48.549,54.602,54.349,53.447,48.496],\"yaxis\":\"y\",\"ybingroup\":\"y\",\"type\":\"histogram2dcontour\"},{\"contours\":{\"coloring\":\"none\"},\"hovertemplate\":\"Region=Europe and Central Asia<br>Year=YR2005<br>GDP per capita=%{x}<br>Life expectancy at birth, total (years)=%{y}<br>count=%{z}<extra></extra>\",\"ids\":[\"Albania\",\"Armenia\",\"Austria\",\"Azerbaijan\",\"Belgium\",\"Bulgaria\",\"Belarus\",\"Switzerland\",\"Cyprus\",\"Czechia\",\"Denmark\",\"Spain\",\"Estonia\",\"Finland\",\"United Kingdom\",\"Georgia\",\"Greece\",\"Hungary\",\"Ireland\",\"Iceland\",\"Italy\",\"Kazakhstan\",\"Kyrgyz Republic\",\"Lithuania\",\"Moldova\",\"Netherlands\",\"Norway\",\"Poland\",\"Portugal\",\"Romania\",\"Russian Federation\",\"Slovak Republic\",\"Slovenia\",\"Sweden\",\"Tajikistan\",\"Ukraine\"],\"legendgroup\":\"Europe and Central Asia\",\"line\":{\"color\":\"#00cc96\"},\"name\":\"Europe and Central Asia\",\"showlegend\":true,\"x\":[2673.78658429559,1643.75688889146,38417.4577857677,1578.40239029603,36809.7013403619,3899.90763774017,3125.81053502853,56546.7856553987,24959.259765625,13430.6698955613,48799.8256011275,26429.1509449319,10412.6443137966,39054.8504423825,42132.0907219815,1642.76093756395,22560.1472939077,11225.9325815328,50933.0216095589,56794.8501588953,32055.0920757503,3771.27895733845,476.552129968975,7854.76527867855,1034.70705816743,41994.7135305232,66810.478520868,8021.50574346795,18780.12751241,4617.92901643258,5323.462890625,11690.1134689407,18098.9085440003,43437.0631164776,340.583183232527,1894.47082519531],\"xaxis\":\"x\",\"xbingroup\":\"x\",\"y\":[75.228,72.626,79.3317073170732,68.747,78.9804878048781,72.5609756097561,68.8512195121951,81.2365853658537,78.63,75.9243902439025,77.8439024390244,80.1707317073171,72.5682926829268,78.8170731707317,79.0487804878049,70.538,79.2390243902439,72.6487804878049,78.9439024390244,81.5024390243902,80.7829268292683,65.86,67.9560975609756,71.2536585365854,67.82,79.3463414634146,80.0414634146342,74.9951219512195,78.0707317073171,71.9121951219512,65.529756097561,73.9048780487805,77.6121951219512,80.5463414634146,66.08,67.9568292682927],\"yaxis\":\"y\",\"ybingroup\":\"y\",\"type\":\"histogram2dcontour\"},{\"contours\":{\"coloring\":\"none\"},\"hovertemplate\":\"Region=Latin America & the Caribbean<br>Year=YR2005<br>GDP per capita=%{x}<br>Life expectancy at birth, total (years)=%{y}<br>count=%{z}<extra></extra>\",\"ids\":[\"Argentina\",\"Bahamas, The\",\"Brazil\",\"Barbados\",\"Chile\",\"Colombia\",\"Guyana\",\"Jamaica\",\"St. Lucia\",\"Mexico\",\"Peru\",\"El Salvador\",\"Uruguay\",\"St. Vincent and the Grenadines\"],\"legendgroup\":\"Latin America & the Caribbean\",\"line\":{\"color\":\"#ab63fa\"},\"name\":\"Latin America & the Caribbean\",\"showlegend\":true,\"x\":[5109.85224490403,30279.3922080481,4790.45656586131,13822.7417486972,7558.37175410092,3414.46515834714,1105.50682477118,4103.6016371324,6949.20417333029,8277.67156384567,2729.49917213529,2428.56887928932,5226.94409982496,5339.3935508934],\"xaxis\":\"x\",\"xbingroup\":\"x\",\"y\":[74.451,71.987,71.896,77.915,77.63,74.265,66.694,74.148,74.122,75.3,72.908,70.124,75.826,71.331],\"yaxis\":\"y\",\"ybingroup\":\"y\",\"type\":\"histogram2dcontour\"},{\"contours\":{\"coloring\":\"none\"},\"hovertemplate\":\"Region=East Asia and Pacific<br>Year=YR2005<br>GDP per capita=%{x}<br>Life expectancy at birth, total (years)=%{y}<br>count=%{z}<extra></extra>\",\"ids\":[\"Australia\",\"China\",\"Fiji\",\"Indonesia\",\"Lao PDR\",\"New Zealand\",\"Philippines\",\"Singapore\",\"Thailand\"],\"legendgroup\":\"East Asia and Pacific\",\"line\":{\"color\":\"#FFA15A\"},\"name\":\"East Asia and Pacific\",\"showlegend\":true,\"x\":[34080.9998953245,1753.41782926104,3627.63285585254,1263.28733171098,475.610796203932,27751.0654708859,1244.34874065936,29961.2632774569,2894.06265596401],\"xaxis\":\"x\",\"xbingroup\":\"x\",\"y\":[80.8414634146341,72.985,66.313,67.334,61.625,79.8512195121951,69.112,79.990243902439,72.099],\"yaxis\":\"y\",\"ybingroup\":\"y\",\"type\":\"histogram2dcontour\"},{\"contours\":{\"coloring\":\"none\"},\"hovertemplate\":\"Region=Middle East and North Africa<br>Year=YR2005<br>GDP per capita=%{x}<br>Life expectancy at birth, total (years)=%{y}<br>count=%{z}<extra></extra>\",\"ids\":[\"Djibouti\",\"Egypt, Arab Rep.\",\"Iran, Islamic Rep.\",\"Israel\",\"Jordan\",\"Kuwait\",\"Lebanon\",\"Oman\",\"Qatar\",\"Saudi Arabia\",\"Tunisia\"],\"legendgroup\":\"Middle East and North Africa\",\"line\":{\"color\":\"#19d3f3\"},\"name\":\"Middle East and North Africa\",\"showlegend\":true,\"x\":[904.736679476444,1186.39331322717,3246.05112244352,20585.1386127162,2183.39464250953,35591.0371337921,4575.10745896031,12377.0800076389,51455.9509428993,13791.454761932,3193.20435786446],\"xaxis\":\"x\",\"xbingroup\":\"x\",\"y\":[57.991,69.434,71.917,80.1512195121951,72.595,73.538,76.865,74.23,78.252,73.256,74.217],\"yaxis\":\"y\",\"ybingroup\":\"y\",\"type\":\"histogram2dcontour\"},{\"contours\":{\"coloring\":\"none\"},\"hovertemplate\":\"Region=North America<br>Year=YR2005<br>GDP per capita=%{x}<br>Life expectancy at birth, total (years)=%{y}<br>count=%{z}<extra></extra>\",\"ids\":[\"Canada\"],\"legendgroup\":\"North America\",\"line\":{\"color\":\"#FF6692\"},\"name\":\"North America\",\"showlegend\":true,\"x\":[36382.5079164537],\"xaxis\":\"x\",\"xbingroup\":\"x\",\"y\":[80.1926829268293],\"yaxis\":\"y\",\"ybingroup\":\"y\",\"type\":\"histogram2dcontour\"}],\"name\":\"YR2005\"},{\"data\":[{\"contours\":{\"coloring\":\"none\"},\"hovertemplate\":\"Region=South Asia<br>Year=YR2010<br>GDP per capita=%{x}<br>Life expectancy at birth, total (years)=%{y}<br>count=%{z}<extra></extra>\",\"ids\":[\"Afghanistan\",\"Bangladesh\",\"Bhutan\",\"India\",\"Sri Lanka\",\"Maldives\",\"Nepal\",\"Pakistan\"],\"legendgroup\":\"South Asia\",\"line\":{\"color\":\"#636efa\"},\"name\":\"South Asia\",\"showlegend\":true,\"x\":[543.306526178281,781.153577677298,2258.18643535953,1357.5637268318,2799.64873802555,7076.73982087196,592.401207101201,987.409712037523],\"xaxis\":\"x\",\"xbingroup\":\"x\",\"y\":[61.028,69.881,68.384,66.693,75.439,75.905,67.611,65.264],\"yaxis\":\"y\",\"ybingroup\":\"y\",\"type\":\"histogram2dcontour\"},{\"contours\":{\"coloring\":\"none\"},\"hovertemplate\":\"Region=Sub-Saharan Africa<br>Year=YR2010<br>GDP per capita=%{x}<br>Life expectancy at birth, total (years)=%{y}<br>count=%{z}<extra></extra>\",\"ids\":[\"Angola\",\"Burundi\",\"Benin\",\"Burkina Faso\",\"Central African Republic\",\"Cote d'Ivoire\",\"Cameroon\",\"Congo, Dem. Rep.\",\"Congo, Rep.\",\"Cabo Verde\",\"Ethiopia\",\"Gabon\",\"Ghana\",\"Guinea\",\"Gambia, The\",\"Guinea-Bissau\",\"Kenya\",\"Mali\",\"Mozambique\",\"Mauritius\",\"Malawi\",\"Namibia\",\"Niger\",\"Rwanda\",\"Senegal\",\"Sierra Leone\",\"Sao Tome and Principe\",\"Eswatini\",\"Seychelles\",\"Chad\",\"Togo\",\"Tanzania\",\"Uganda\",\"South Africa\",\"Zambia\",\"Zimbabwe\"],\"legendgroup\":\"Sub-Saharan Africa\",\"line\":{\"color\":\"#EF553B\"},\"name\":\"Sub-Saharan Africa\",\"showlegend\":true,\"x\":[3497.9744877961,234.235538877634,1036.53451502404,647.836095537879,488.421735800876,1701.47570153451,1352.30227450638,334.02157774666,3076.55644910171,3378.3234334576,341.554122699663,8849.32260799167,1299.34521164062,672.424930359396,860.636433851486,558.174668134758,1080.29618449063,710.274303600905,471.904360009894,8000.37643182154,478.668688469613,5394.99671166874,476.869532167304,609.754297393961,1271.58328084525,401.834876099443,1090.26076257543,4168.48940292685,10804.7232956282,892.568869694168,534.04478262418,743.403686523438,822.539372481326,8148.9612020223,1489.45908689417,948.331481033457],\"xaxis\":\"x\",\"xbingroup\":\"x\",\"y\":[55.35,57.228,59.318,57.096,47.312,52.964,55.101,56.909,60.093,71.062,61.627,61.4,61.03,56.861,59.637,54.628,60.959,55.251,52.31,72.9673170731707,55.564,56.665,57.333,63.433,64.284,49.382,67.43,46.601,73.1975609756098,50.89,57.468,58.584,57.099,57.669,55.655,50.64],\"yaxis\":\"y\",\"ybingroup\":\"y\",\"type\":\"histogram2dcontour\"},{\"contours\":{\"coloring\":\"none\"},\"hovertemplate\":\"Region=Europe and Central Asia<br>Year=YR2010<br>GDP per capita=%{x}<br>Life expectancy at birth, total (years)=%{y}<br>count=%{z}<extra></extra>\",\"ids\":[\"Armenia\",\"Austria\",\"Azerbaijan\",\"Belgium\",\"Bulgaria\",\"Belarus\",\"Switzerland\",\"Cyprus\",\"Czechia\",\"Germany\",\"Denmark\",\"Spain\",\"Estonia\",\"Finland\",\"United Kingdom\",\"Croatia\",\"Hungary\",\"Ireland\",\"Iceland\",\"Italy\",\"Kyrgyz Republic\",\"Lithuania\",\"Latvia\",\"Moldova\",\"Netherlands\",\"Norway\",\"Poland\",\"Portugal\",\"Romania\",\"Serbia\",\"Slovak Republic\",\"Slovenia\",\"Sweden\",\"Tajikistan\"],\"legendgroup\":\"Europe and Central Asia\",\"line\":{\"color\":\"#00cc96\"},\"name\":\"Europe and Central Asia\",\"showlegend\":true,\"x\":[3218.37829927419,46903.7615854343,5843.5337683582,44184.946353964,6853.00285388669,6033.6862392722,77117.126014204,31023.638671875,19960.0684872157,41572.4559481507,58041.3984363385,30532.4805081656,14663.0446126465,46505.3031791811,39688.6149684498,14067.5231191915,13223.0830027699,48655.3661626634,43237.0729488958,36035.6449950691,880.037775119109,11987.508411647,11420.9940032836,2437.53768326452,50999.7451168879,87693.7900658099,12613.0109954681,22520.6423124045,8214.07689289811,5735.42285659849,16841.7677398734,23532.4808545468,52869.0442891587,749.552412285997],\"xaxis\":\"x\",\"xbingroup\":\"x\",\"y\":[73.331,80.5804878048781,70.938,80.1829268292683,73.5121951219512,70.4048780487805,82.2463414634147,79.43,77.4243902439025,79.9878048780488,79.1,81.6268292682927,75.4292682926829,79.8707317073171,80.4024390243902,76.4756097560976,74.2073170731707,80.7439024390244,81.8975609756097,82.0365853658537,69.3,73.2682926829268,73.4829268292683,69.616,80.7024390243902,80.9975609756098,76.2463414634146,79.0268292682927,73.4585365853659,74.3365853658537,75.1121951219512,79.4219512195122,81.4512195121951,68.736],\"yaxis\":\"y\",\"ybingroup\":\"y\",\"type\":\"histogram2dcontour\"},{\"contours\":{\"coloring\":\"none\"},\"hovertemplate\":\"Region=Latin America & the Caribbean<br>Year=YR2010<br>GDP per capita=%{x}<br>Life expectancy at birth, total (years)=%{y}<br>count=%{z}<extra></extra>\",\"ids\":[\"Argentina\",\"Bahamas, The\",\"Belize\",\"Bolivia\",\"Brazil\",\"Barbados\",\"Chile\",\"Colombia\",\"Costa Rica\",\"Dominican Republic\",\"Ecuador\",\"Guatemala\",\"Guyana\",\"Jamaica\",\"St. Lucia\",\"Mexico\",\"Nicaragua\",\"Peru\",\"Paraguay\",\"El Salvador\",\"Uruguay\",\"St. Vincent and the Grenadines\"],\"legendgroup\":\"Latin America & the Caribbean\",\"line\":{\"color\":\"#ab63fa\"},\"name\":\"Latin America & the Caribbean\",\"showlegend\":true,\"x\":[10385.9644319555,28443.8884756689,4304.11110815138,1955.460180975,11286.071540212,16056.1168470231,12724.10406267,6336.70947398466,8227.12749376825,5555.39201393816,4633.59128443099,2852.54732650116,4580.69876204788,4704.04775962425,8540.07097992462,9271.39839576997,1503.87223074992,5082.35370614454,4342.06584459985,2983.2288061357,11992.0237658273,6654.79290746741],\"xaxis\":\"x\",\"xbingroup\":\"x\",\"y\":[75.278,72.144,72.057,68.007,73.619,78.364,78.779,75.424,78.769,72.046,75.089,71.481,68.059,74.038,74.852,75.065,72.428,74.41,72.653,71.21,76.75,71.776],\"yaxis\":\"y\",\"ybingroup\":\"y\",\"type\":\"histogram2dcontour\"},{\"contours\":{\"coloring\":\"none\"},\"hovertemplate\":\"Region=East Asia and Pacific<br>Year=YR2010<br>GDP per capita=%{x}<br>Life expectancy at birth, total (years)=%{y}<br>count=%{z}<extra></extra>\",\"ids\":[\"Australia\",\"Brunei Darussalam\",\"China\",\"Fiji\",\"Indonesia\",\"Cambodia\",\"Korea, Rep.\",\"Lao PDR\",\"Myanmar\",\"Mongolia\",\"Malaysia\",\"New Zealand\",\"Singapore\",\"Solomon Islands\",\"Thailand\",\"Timor-Leste\",\"Vietnam\",\"Samoa\"],\"legendgroup\":\"East Asia and Pacific\",\"line\":{\"color\":\"#FFA15A\"},\"name\":\"East Asia and Pacific\",\"showlegend\":true,\"x\":[52087.9722888891,35270.6421390658,4550.45310775599,3652.53593320954,3122.36267319362,785.50266705782,23087.2256438476,1141.23570253091,746.945359978558,2643.28708316435,9040.56849464524,33676.7741239925,47236.9602345421,1604.14888755803,5076.33987220163,806.41434929681,1673.3292888042,3566.45833371884],\"xaxis\":\"x\",\"xbingroup\":\"x\",\"y\":[81.6951219512195,74.74,74.409,66.655,69.205,66.56,80.1170731707317,64.306,63.525,67.38,74.493,80.7024390243902,81.5414634146342,70.674,74.184,67.186,74.837,71.663],\"yaxis\":\"y\",\"ybingroup\":\"y\",\"type\":\"histogram2dcontour\"},{\"contours\":{\"coloring\":\"none\"},\"hovertemplate\":\"Region=Middle East and North Africa<br>Year=YR2010<br>GDP per capita=%{x}<br>Life expectancy at birth, total (years)=%{y}<br>count=%{z}<extra></extra>\",\"ids\":[\"Bahrain\",\"Djibouti\",\"Egypt, Arab Rep.\",\"Iran, Islamic Rep.\",\"Israel\",\"Jordan\",\"Kuwait\",\"Lebanon\",\"Malta\",\"Qatar\",\"Tunisia\",\"Yemen, Rep.\"],\"legendgroup\":\"Middle East and North Africa\",\"line\":{\"color\":\"#19d3f3\"},\"name\":\"Middle East and North Africa\",\"showlegend\":true,\"x\":[20722.0704900745,1343.27512498519,2645.96875877924,6599.66093791004,30780.0238155167,3736.64546207921,38577.4982788212,7761.64148945415,21799.1742559798,67403.0876779676,4344.61941760278,1334.78490225941],\"xaxis\":\"x\",\"xbingroup\":\"x\",\"y\":[76.057,60.062,70.349,73.905,81.6024390243903,73.428,74.358,78.36,81.3975609756098,79.108,75.041,65.549],\"yaxis\":\"y\",\"ybingroup\":\"y\",\"type\":\"histogram2dcontour\"},{\"contours\":{\"coloring\":\"none\"},\"hovertemplate\":\"Region=North America<br>Year=YR2010<br>GDP per capita=%{x}<br>Life expectancy at birth, total (years)=%{y}<br>count=%{z}<extra></extra>\",\"ids\":[\"Canada\"],\"legendgroup\":\"North America\",\"line\":{\"color\":\"#FF6692\"},\"name\":\"North America\",\"showlegend\":true,\"x\":[47562.0834253057],\"xaxis\":\"x\",\"xbingroup\":\"x\",\"y\":[81.2463414634146],\"yaxis\":\"y\",\"ybingroup\":\"y\",\"type\":\"histogram2dcontour\"}],\"name\":\"YR2010\"},{\"data\":[{\"contours\":{\"coloring\":\"none\"},\"hovertemplate\":\"Region=South Asia<br>Year=YR2015<br>GDP per capita=%{x}<br>Life expectancy at birth, total (years)=%{y}<br>count=%{z}<extra></extra>\",\"ids\":[\"Afghanistan\",\"Bangladesh\",\"Bhutan\",\"India\",\"Sri Lanka\",\"Maldives\",\"Nepal\",\"Pakistan\"],\"legendgroup\":\"South Asia\",\"line\":{\"color\":\"#636efa\"},\"name\":\"South Asia\",\"showlegend\":true,\"x\":[556.007220861443,1248.45330989613,2752.63017233678,1605.60544457087,3843.78067184442,9033.41027034576,901.74960773293,1356.66783065763],\"xaxis\":\"x\",\"xbingroup\":\"x\",\"y\":[63.377,71.514,70.419,68.607,76.316,77.691,69.515,66.577],\"yaxis\":\"y\",\"ybingroup\":\"y\",\"type\":\"histogram2dcontour\"},{\"contours\":{\"coloring\":\"none\"},\"hovertemplate\":\"Region=Sub-Saharan Africa<br>Year=YR2015<br>GDP per capita=%{x}<br>Life expectancy at birth, total (years)=%{y}<br>count=%{z}<extra></extra>\",\"ids\":[\"Angola\",\"Burundi\",\"Benin\",\"Burkina Faso\",\"Botswana\",\"Central African Republic\",\"Cote d'Ivoire\",\"Cameroon\",\"Congo, Dem. Rep.\",\"Congo, Rep.\",\"Comoros\",\"Cabo Verde\",\"Ethiopia\",\"Gabon\",\"Ghana\",\"Guinea\",\"Gambia, The\",\"Guinea-Bissau\",\"Kenya\",\"Lesotho\",\"Madagascar\",\"Mali\",\"Mozambique\",\"Mauritius\",\"Malawi\",\"Namibia\",\"Niger\",\"Nigeria\",\"Rwanda\",\"Senegal\",\"Sao Tome and Principe\",\"Seychelles\",\"Chad\",\"Togo\",\"Uganda\",\"South Africa\",\"Zambia\",\"Zimbabwe\"],\"legendgroup\":\"Sub-Saharan Africa\",\"line\":{\"color\":\"#EF553B\"},\"name\":\"Sub-Saharan Africa\",\"showlegend\":true,\"x\":[3127.89059784461,305.511144099475,1076.79669785585,653.32726813947,6402.91018338391,377.422917680195,1972.54568305836,1382.5097900241,497.317039077365,2448.52377758887,1242.58560784999,3043.03138156811,640.541923075422,7384.70070393071,1774.07477092508,769.255475432822,660.723571244322,603.399381547733,1464.55400904329,1146.06468787308,467.235431614314,751.472889186889,589.85943137707,9260.44730250635,380.596987683774,4896.61526001377,484.153137350801,2687.48005643212,751.110505478611,1219.24941513302,1584.77565743788,15157.5018256876,776.019752284262,570.909967175308,847.267628934983,6259.83968110571,1338.29092708188,1445.06970213198],\"xaxis\":\"x\",\"xbingroup\":\"x\",\"y\":[59.398,60.123,60.608,59.919,67.338,50.881,56.065,57.583,59.254,63.097,63.471,72.117,65.048,64.913,62.772,59.598,60.91,56.959,64.798,51.038,65.539,57.509,57.206,74.3531707317073,61.953,62.119,60.631,53.112,67.45,66.747,69.377,74.2951219512195,53.137,59.927,61.373,62.649,61.737,59.534],\"yaxis\":\"y\",\"ybingroup\":\"y\",\"type\":\"histogram2dcontour\"},{\"contours\":{\"coloring\":\"none\"},\"hovertemplate\":\"Region=Europe and Central Asia<br>Year=YR2015<br>GDP per capita=%{x}<br>Life expectancy at birth, total (years)=%{y}<br>count=%{z}<extra></extra>\",\"ids\":[\"Albania\",\"Armenia\",\"Austria\",\"Azerbaijan\",\"Belgium\",\"Belarus\",\"Switzerland\",\"Cyprus\",\"Czechia\",\"Germany\",\"Spain\",\"Estonia\",\"Finland\",\"United Kingdom\",\"Greece\",\"Hungary\",\"Ireland\",\"Iceland\",\"Italy\",\"Kazakhstan\",\"Kyrgyz Republic\",\"Lithuania\",\"Luxembourg\",\"Latvia\",\"Moldova\",\"Netherlands\",\"Norway\",\"Poland\",\"Portugal\",\"Romania\",\"Russian Federation\",\"Serbia\",\"Slovak Republic\",\"Slovenia\",\"Sweden\",\"Tajikistan\",\"Ukraine\",\"Uzbekistan\"],\"legendgroup\":\"Europe and Central Asia\",\"line\":{\"color\":\"#00cc96\"},\"name\":\"Europe and Central Asia\",\"showlegend\":true,\"x\":[3952.80253807527,3607.28929855361,44195.8175947748,5500.31038244408,41008.296719472,5967.05220384914,84776.1421659748,23408.3359375,17829.6983223668,41103.2564363768,25742.3688346767,17402.0376128079,42801.9081167285,45404.5677734722,18083.8779056547,12720.7120220668,62012.4849258149,52951.6815110898,30242.3861352184,10510.7718884149,1121.08283510739,14263.9645773495,105462.012584423,13786.4567953114,2732.46072997894,45193.4032187971,74355.5158575643,12578.4954734362,19250.1065376852,8969.14892146193,9313.013671875,5588.98072768556,16342.2162621093,20890.1664304173,51545.4836095322,978.404981180605,2124.66235351563,2753.97107219949],\"xaxis\":\"x\",\"xbingroup\":\"x\",\"y\":[78.025,74.467,81.190243902439,72.266,80.9926829268293,73.6243902439025,82.8975609756098,80.35,78.5780487804878,80.6414634146341,82.8317073170732,77.590243902439,81.4804878048781,80.9560975609756,81.0365853658537,75.5682926829269,81.4536585365854,82.4682926829268,82.5439024390244,71.97,70.6512195121951,74.3219512195122,82.2926829268293,74.4804878048781,71.478,81.509756097561,82.3048780487805,77.4512195121951,81.1243902439025,74.9121951219512,71.1834146341463,75.2878048780488,76.5634146341463,80.7756097560976,82.2048780487805,70.137,71.189512195122,70.928],\"yaxis\":\"y\",\"ybingroup\":\"y\",\"type\":\"histogram2dcontour\"},{\"contours\":{\"coloring\":\"none\"},\"hovertemplate\":\"Region=Latin America & the Caribbean<br>Year=YR2015<br>GDP per capita=%{x}<br>Life expectancy at birth, total (years)=%{y}<br>count=%{z}<extra></extra>\",\"ids\":[\"Argentina\",\"Bahamas, The\",\"Belize\",\"Bolivia\",\"Brazil\",\"Barbados\",\"Chile\",\"Colombia\",\"Costa Rica\",\"Dominican Republic\",\"Ecuador\",\"Guatemala\",\"Guyana\",\"Honduras\",\"Haiti\",\"Jamaica\",\"St. Lucia\",\"Mexico\",\"Nicaragua\",\"Panama\",\"Peru\",\"Paraguay\",\"El Salvador\",\"Suriname\",\"Trinidad and Tobago\",\"Uruguay\"],\"legendgroup\":\"Latin America & the Caribbean\",\"line\":{\"color\":\"#ab63fa\"},\"name\":\"Latin America & the Caribbean\",\"showlegend\":true,\"x\":[13789.060424772,31699.3586317477,4805.19685237279,3035.97165495107,8813.98980647828,16558.8647849868,13495.0106099649,6175.87602970258,11642.7780517123,6921.52059432776,6124.49088707134,3994.63691288475,5576.82585151355,2302.20441093316,1386.85419078846,4907.927415189,10093.6180163617,9616.64555810607,2049.8516660809,13630.3011472878,6229.10067398112,5413.77602061858,3705.57970353453,9168.23715664009,18383.5386974985,15613.7459681824],\"xaxis\":\"x\",\"xbingroup\":\"x\",\"y\":[76.068,73.088,74.034,70.277,74.994,78.801,79.646,76.531,79.565,73.241,76.143,73.25,69.262,74.495,62.485,74.098,75.596,74.904,73.649,77.776,75.792,73.662,72.412,71.249,72.941,77.369],\"yaxis\":\"y\",\"ybingroup\":\"y\",\"type\":\"histogram2dcontour\"},{\"contours\":{\"coloring\":\"none\"},\"hovertemplate\":\"Region=East Asia and Pacific<br>Year=YR2015<br>GDP per capita=%{x}<br>Life expectancy at birth, total (years)=%{y}<br>count=%{z}<extra></extra>\",\"ids\":[\"Australia\",\"China\",\"Fiji\",\"Micronesia, Fed. Sts.\",\"Indonesia\",\"Kiribati\",\"Myanmar\",\"Mongolia\",\"Malaysia\",\"New Zealand\",\"Philippines\",\"Singapore\",\"Solomon Islands\",\"Thailand\",\"Timor-Leste\",\"Vietnam\",\"Vanuatu\",\"Samoa\"],\"legendgroup\":\"East Asia and Pacific\",\"line\":{\"color\":\"#FFA15A\"},\"name\":\"East Asia and Pacific\",\"showlegend\":true,\"x\":[56707.0220772116,8016.43143498003,5390.71420703085,2906.61701228808,3331.69511469189,1535.16278257963,1196.74333308526,3875.32167504717,9955.24272167626,38630.7265886928,3001.04318170863,55646.6187469505,2167.15539406206,5840.05306687798,1332.79185551378,2581.62244157361,2695.66618597973,4073.72908299755],\"xaxis\":\"x\",\"xbingroup\":\"x\",\"y\":[82.4,75.928,67.103,67.315,70.768,67.291,65.81,69.111,75.461,81.4568292682927,70.644,82.7439024390244,72.173,76.091,68.459,75.11,69.869,72.73],\"yaxis\":\"y\",\"ybingroup\":\"y\",\"type\":\"histogram2dcontour\"},{\"contours\":{\"coloring\":\"none\"},\"hovertemplate\":\"Region=Middle East and North Africa<br>Year=YR2015<br>GDP per capita=%{x}<br>Life expectancy at birth, total (years)=%{y}<br>count=%{z}<extra></extra>\",\"ids\":[\"Bahrain\",\"Djibouti\",\"Egypt, Arab Rep.\",\"Iran, Islamic Rep.\",\"Iraq\",\"Israel\",\"Jordan\",\"Kuwait\",\"Lebanon\",\"Malta\",\"Tunisia\"],\"legendgroup\":\"Middle East and North Africa\",\"line\":{\"color\":\"#19d3f3\"},\"name\":\"Middle East and North Africa\",\"showlegend\":true,\"x\":[22634.0856475674,2652.51322808034,3562.93265798423,5200.68078673413,4688.31801743466,35808.4364289727,4164.10876894014,29869.552753237,7643.00871833192,24921.6036820869,4094.84160230737],\"xaxis\":\"x\",\"xbingroup\":\"x\",\"y\":[76.762,64.136,71.302,75.796,69.929,82.0512195121951,74.078,75.13,78.768,81.8975609756097,75.922],\"yaxis\":\"y\",\"ybingroup\":\"y\",\"type\":\"histogram2dcontour\"},{\"contours\":{\"coloring\":\"none\"},\"hovertemplate\":\"Region=North America<br>Year=YR2015<br>GDP per capita=%{x}<br>Life expectancy at birth, total (years)=%{y}<br>count=%{z}<extra></extra>\",\"ids\":[\"United States\"],\"legendgroup\":\"North America\",\"line\":{\"color\":\"#FF6692\"},\"name\":\"North America\",\"showlegend\":true,\"x\":[56762.7294515989],\"xaxis\":\"x\",\"xbingroup\":\"x\",\"y\":[78.690243902439],\"yaxis\":\"y\",\"ybingroup\":\"y\",\"type\":\"histogram2dcontour\"}],\"name\":\"YR2015\"},{\"data\":[{\"contours\":{\"coloring\":\"none\"},\"hovertemplate\":\"Region=South Asia<br>Year=YR2000<br>GDP per capita=%{x}<br>Life expectancy at birth, total (years)=%{y}<br>count=%{z}<extra></extra>\",\"ids\":[\"Bangladesh\",\"Bhutan\",\"India\",\"Nepal\",\"Pakistan\"],\"legendgroup\":\"South Asia\",\"line\":{\"color\":\"#636efa\"},\"name\":\"South Asia\",\"showlegend\":true,\"x\":[418.068942112038,718.196336969414,443.314193811316,229.490392563225,576.195580353518],\"xaxis\":\"x\",\"xbingroup\":\"x\",\"y\":[65.447,60.884,62.505,62.288,62.82],\"yaxis\":\"y\",\"ybingroup\":\"y\",\"type\":\"histogram2dcontour\"},{\"contours\":{\"coloring\":\"none\"},\"hovertemplate\":\"Region=Sub-Saharan Africa<br>Year=YR2000<br>GDP per capita=%{x}<br>Life expectancy at birth, total (years)=%{y}<br>count=%{z}<extra></extra>\",\"ids\":[\"Angola\",\"Burundi\",\"Benin\",\"Central African Republic\",\"Cote d'Ivoire\",\"Cameroon\",\"Ethiopia\",\"Gabon\",\"Guinea\",\"Gambia, The\",\"Kenya\",\"Lesotho\",\"Madagascar\",\"Mali\",\"Mauritius\",\"Namibia\",\"Niger\",\"Rwanda\",\"Sudan\",\"Senegal\",\"Sierra Leone\",\"Eswatini\",\"Chad\",\"Togo\",\"Uganda\",\"Zambia\"],\"legendgroup\":\"Sub-Saharan Africa\",\"line\":{\"color\":\"#EF553B\"},\"name\":\"Sub-Saharan Africa\",\"showlegend\":true,\"x\":[556.83618223535,136.46397080034,512.673901962619,251.832764026789,1007.46738950787,681.102042961201,124.460790874921,4135.99238007722,363.482279266615,594.149388499649,397.482658777519,436.488137266071,293.607157402594,270.54300662038,3929.07549503364,2185.60411519312,197.832683441643,260.607654653932,366.172729492188,613.732384491775,138.698722497148,1728.71049762741,166.175708881786,302.958591951416,261.869141644962,345.689620749861],\"xaxis\":\"x\",\"xbingroup\":\"x\",\"y\":[46.522,49.091,55.391,44.19,49.635,50.993,51.941,58.264,51.203,55.956,50.921,47.691,58.485,48.069,71.6634146341463,52.192,49.928,48.649,58.472,57.787,39.441,47.49,47.713,53.491,46.229,44.0],\"yaxis\":\"y\",\"ybingroup\":\"y\",\"type\":\"histogram2dcontour\"},{\"contours\":{\"coloring\":\"none\"},\"hovertemplate\":\"Region=Europe and Central Asia<br>Year=YR2000<br>GDP per capita=%{x}<br>Life expectancy at birth, total (years)=%{y}<br>count=%{z}<extra></extra>\",\"ids\":[\"Albania\",\"Austria\",\"Azerbaijan\",\"Switzerland\",\"Cyprus\",\"Czechia\",\"Denmark\",\"Spain\",\"Estonia\",\"Finland\",\"United Kingdom\",\"Georgia\",\"Greece\",\"Hungary\",\"Ireland\",\"Iceland\",\"Italy\",\"Kyrgyz Republic\",\"Latvia\",\"Moldova\",\"Netherlands\",\"Norway\",\"Poland\",\"Portugal\",\"Romania\",\"Russian Federation\",\"Slovak Republic\",\"Sweden\",\"Tajikistan\",\"Turkiye\",\"Ukraine\"],\"legendgroup\":\"Europe and Central Asia\",\"line\":{\"color\":\"#00cc96\"},\"name\":\"Europe and Central Asia\",\"showlegend\":true,\"x\":[1126.68334010717,24625.6007227434,655.119945170816,38952.0342005572,14388.34765625,6029.03819275358,30743.5476816354,14749.6874248766,4070.60902410208,24345.9148217032,28223.0675706515,749.908534993961,12072.9293569196,4624.28165670295,26334.5672050501,32096.3722613695,20137.5912217673,279.619569260939,3361.64086880275,440.672030653269,26214.498549887,38131.4606116242,4501.45406742273,11526.3720667968,1659.90763954548,1771.59411621094,5426.62428119306,29624.9126748618,138.429146735759,4337.47800296354,658.3486328125],\"xaxis\":\"x\",\"xbingroup\":\"x\",\"y\":[73.955,78.1268292682927,66.763,79.6804878048781,78.009,74.9682926829268,76.5926829268293,78.9658536585366,70.4170731707317,77.4658536585366,77.7414634146342,69.902,77.8878048780488,71.2463414634146,76.5365853658537,79.6536585365854,79.7780487804878,68.5585365853659,70.3146341463415,67.006,77.9878048780488,78.6341463414634,73.7487804878049,76.3146341463415,71.1634146341463,65.4836585365854,73.0512195121951,79.6439024390244,61.974,70.005,67.6756097560976],\"yaxis\":\"y\",\"ybingroup\":\"y\",\"type\":\"histogram2dcontour\"},{\"contours\":{\"coloring\":\"none\"},\"hovertemplate\":\"Region=Latin America & the Caribbean<br>Year=YR2000<br>GDP per capita=%{x}<br>Life expectancy at birth, total (years)=%{y}<br>count=%{z}<extra></extra>\",\"ids\":[\"Argentina\",\"Bahamas, The\",\"Belize\",\"Brazil\",\"Barbados\",\"Chile\",\"Colombia\",\"Costa Rica\",\"Dominican Republic\",\"Ecuador\",\"Guyana\",\"Jamaica\",\"Mexico\",\"Nicaragua\",\"Panama\",\"Peru\",\"Paraguay\",\"El Salvador\",\"Trinidad and Tobago\",\"Uruguay\",\"St. Vincent and the Grenadines\"],\"legendgroup\":\"Latin America & the Caribbean\",\"line\":{\"color\":\"#ab63fa\"},\"name\":\"Latin America & the Caribbean\",\"showlegend\":true,\"x\":[7708.09911454041,27098.1563186767,3364.49173102584,3749.91084752888,11268.4200640121,5100.25413288222,2520.48108876016,3789.05388636246,2869.17813861021,1445.27932442901,954.400318095334,3392.12387809462,7157.81449985734,1007.499838655,4060.31779345702,1955.58800627896,1663.60493919986,2001.54004887966,6435.13421201268,6875.02546946372,3970.29362248818],\"xaxis\":\"x\",\"xbingroup\":\"x\",\"y\":[73.576,71.914,68.847,70.116,77.162,76.366,72.945,77.452,69.429,72.761,65.242,74.142,74.34,69.527,75.06,71.111,70.546,68.875,69.413,74.731,70.809],\"yaxis\":\"y\",\"ybingroup\":\"y\",\"type\":\"histogram2dcontour\"},{\"contours\":{\"coloring\":\"none\"},\"hovertemplate\":\"Region=East Asia and Pacific<br>Year=YR2000<br>GDP per capita=%{x}<br>Life expectancy at birth, total (years)=%{y}<br>count=%{z}<extra></extra>\",\"ids\":[\"Australia\",\"Brunei Darussalam\",\"Fiji\",\"Micronesia, Fed. Sts.\",\"Cambodia\",\"Kiribati\",\"Lao PDR\",\"Mongolia\",\"Malaysia\",\"Philippines\",\"Palau\",\"Singapore\",\"Thailand\",\"Tonga\",\"Vanuatu\",\"Samoa\"],\"legendgroup\":\"East Asia and Pacific\",\"line\":{\"color\":\"#FFA15A\"},\"name\":\"East Asia and Pacific\",\"showlegend\":true,\"x\":[21697.7084797731,18012.5021948953,2069.31745471458,2171.88957683534,300.613679010462,796.803203566513,325.186937142965,474.217094319837,4043.66292312877,1072.80175248718,7657.95121440536,23852.3270285975,2007.7352707452,2091.11300904714,1470.63586995743,1483.80741460389],\"xaxis\":\"x\",\"xbingroup\":\"x\",\"y\":[79.2341463414634,72.809,65.687,64.55,58.432,63.144,58.803,62.869,72.594,68.793,70.4936585365854,77.9512195121951,70.623,69.667,67.363,68.748],\"yaxis\":\"y\",\"ybingroup\":\"y\",\"type\":\"histogram2dcontour\"},{\"contours\":{\"coloring\":\"none\"},\"hovertemplate\":\"Region=Middle East and North Africa<br>Year=YR2000<br>GDP per capita=%{x}<br>Life expectancy at birth, total (years)=%{y}<br>count=%{z}<extra></extra>\",\"ids\":[\"Djibouti\",\"Iran, Islamic Rep.\",\"Israel\",\"Oman\",\"Qatar\",\"Saudi Arabia\",\"Tunisia\",\"Yemen, Rep.\"],\"legendgroup\":\"Middle East and North Africa\",\"line\":{\"color\":\"#19d3f3\"},\"name\":\"Middle East and North Africa\",\"showlegend\":true,\"x\":[768.183570343678,1670.0096735653,21061.4822833993,8601.27194448996,29976.1676344676,9171.33147630515,2211.8350154787,554.448665276054],\"xaxis\":\"x\",\"xbingroup\":\"x\",\"y\":[57.022,70.176,78.9536585365854,72.126,77.467,72.561,73.172,60.683],\"yaxis\":\"y\",\"ybingroup\":\"y\",\"type\":\"histogram2dcontour\"},{\"contours\":{\"coloring\":\"none\"},\"hovertemplate\":\"Region=North America<br>Year=YR2000<br>GDP per capita=%{x}<br>Life expectancy at birth, total (years)=%{y}<br>count=%{z}<extra></extra>\",\"ids\":[\"Canada\"],\"legendgroup\":\"North America\",\"line\":{\"color\":\"#FF6692\"},\"name\":\"North America\",\"showlegend\":true,\"x\":[24271.0020563821],\"xaxis\":\"x\",\"xbingroup\":\"x\",\"y\":[79.1365853658537],\"yaxis\":\"y\",\"ybingroup\":\"y\",\"type\":\"histogram2dcontour\"}],\"name\":\"YR2000\"}]);\n",
       "                        }).then(function(){\n",
       "                            \n",
       "var gd = document.getElementById('f7743eeb-249b-4d90-9d46-9407632bd315');\n",
       "var x = new MutationObserver(function (mutations, observer) {{\n",
       "        var display = window.getComputedStyle(gd).display;\n",
       "        if (!display || display === 'none') {{\n",
       "            console.log([gd, 'removed!']);\n",
       "            Plotly.purge(gd);\n",
       "            observer.disconnect();\n",
       "        }}\n",
       "}});\n",
       "\n",
       "// Listen for the removal of the full notebook cells\n",
       "var notebookContainer = gd.closest('#notebook-container');\n",
       "if (notebookContainer) {{\n",
       "    x.observe(notebookContainer, {childList: true});\n",
       "}}\n",
       "\n",
       "// Listen for the clearing of the current output cell\n",
       "var outputEl = gd.closest('.output');\n",
       "if (outputEl) {{\n",
       "    x.observe(outputEl, {childList: true});\n",
       "}}\n",
       "\n",
       "                        })                };                });            </script>        </div>"
      ]
     },
     "metadata": {},
     "output_type": "display_data"
    }
   ],
   "source": [
    "fig = px.density_contour(dataset, \n",
    "                         x=\"GDP per capita\", \n",
    "                         y=\"Life expectancy at birth, total (years)\", \n",
    "                         animation_frame=\"Year\", \n",
    "                         animation_group=\"Country Name\", \n",
    "                         color=\"Region\", \n",
    "                         range_y =[25, 100])\n",
    "fig.show()"
   ]
  },
  {
   "cell_type": "markdown",
   "metadata": {},
   "source": [
    "### 3D scatter plot to compare a country’s GDP and Population based on the region"
   ]
  },
  {
   "cell_type": "code",
   "execution_count": 216,
   "metadata": {},
   "outputs": [
    {
     "data": {
      "application/vnd.plotly.v1+json": {
       "config": {
        "plotlyServerURL": "https://plot.ly"
       },
       "data": [
        {
         "hovertemplate": "Region=South Asia<br>Country Name=%{x}<br>Population=%{y}<br>GDP per capita=%{marker.size}<extra></extra>",
         "legendgroup": "South Asia",
         "marker": {
          "color": "#636efa",
          "size": [
           242.031313175022,
           543.306526178281,
           556.007220861443,
           418.068942112038,
           781.153577677298,
           1248.45330989613,
           718.196336969414,
           1228.43235572338,
           2258.18643535953,
           2752.63017233678,
           443.314193811316,
           714.8610153644,
           1357.5637268318,
           1605.60544457087,
           1248.69818517034,
           2799.64873802555,
           3843.78067184442,
           3640.0121322011,
           7076.73982087196,
           9033.41027034576,
           229.490392563225,
           315.805629997361,
           592.401207101201,
           901.74960773293,
           576.195580353518,
           748.922589270883,
           987.409712037523,
           1356.66783065763
          ],
          "sizemode": "area",
          "sizeref": 263.6550314610575,
          "symbol": "circle"
         },
         "mode": "markers",
         "name": "South Asia",
         "scene": "scene",
         "showlegend": true,
         "type": "scatter3d",
         "x": [
          "Afghanistan",
          "Afghanistan",
          "Afghanistan",
          "Bangladesh",
          "Bangladesh",
          "Bangladesh",
          "Bhutan",
          "Bhutan",
          "Bhutan",
          "Bhutan",
          "India",
          "India",
          "India",
          "India",
          "Sri Lanka",
          "Sri Lanka",
          "Sri Lanka",
          "Maldives",
          "Maldives",
          "Maldives",
          "Nepal",
          "Nepal",
          "Nepal",
          "Nepal",
          "Pakistan",
          "Pakistan",
          "Pakistan",
          "Pakistan"
         ],
         "y": [
          18.86634996,
          35.54101566,
          46.17228869,
          5.42315346,
          14.51739532,
          24.4209882,
          3.77327129,
          8.1517821,
          12.54553091,
          20.37686074,
          14.17991876,
          21.67475163,
          32.86493337,
          43.39118121,
          26.65572335,
          63.23617015,
          81.98848914,
          206.97915723,
          262.4739046,
          218.75437393,
          5.38607529,
          8.27001538,
          20.39336768,
          33.03861994,
          9.98768752,
          14.6657995,
          18.44697089,
          24.7185381
         ],
         "z": [
          242.031313175022,
          543.306526178281,
          556.007220861443,
          418.068942112038,
          781.153577677298,
          1248.45330989613,
          718.196336969414,
          1228.43235572338,
          2258.18643535953,
          2752.63017233678,
          443.314193811316,
          714.8610153644,
          1357.5637268318,
          1605.60544457087,
          1248.69818517034,
          2799.64873802555,
          3843.78067184442,
          3640.0121322011,
          7076.73982087196,
          9033.41027034576,
          229.490392563225,
          315.805629997361,
          592.401207101201,
          901.74960773293,
          576.195580353518,
          748.922589270883,
          987.409712037523,
          1356.66783065763
         ]
        },
        {
         "hovertemplate": "Region=Sub-Saharan Africa<br>Country Name=%{x}<br>Population=%{y}<br>GDP per capita=%{marker.size}<extra></extra>",
         "legendgroup": "Sub-Saharan Africa",
         "marker": {
          "color": "#EF553B",
          "size": [
           556.83618223535,
           1902.42214975937,
           3497.9744877961,
           3127.89059784461,
           136.46397080034,
           151.681566343002,
           234.235538877634,
           305.511144099475,
           512.673901962619,
           822.785143124704,
           1036.53451502404,
           1076.79669785585,
           457.933430763383,
           647.836095537879,
           653.32726813947,
           5513.33106259322,
           6402.91018338391,
           251.832764026789,
           331.294821098185,
           488.421735800876,
           377.422917680195,
           1007.46738950787,
           1309.59165283165,
           1701.47570153451,
           1972.54568305836,
           681.102042961201,
           1100.17492617744,
           1352.30227450638,
           1382.5097900241,
           334.02157774666,
           497.317039077365,
           1835.60990812416,
           3076.55644910171,
           2448.52377758887,
           1242.58560784999,
           3378.3234334576,
           3043.03138156811,
           124.460790874921,
           341.554122699663,
           640.541923075422,
           4135.99238007722,
           8849.32260799167,
           7384.70070393071,
           492.54405617264,
           1299.34521164062,
           1774.07477092508,
           363.482279266615,
           322.415540033465,
           672.424930359396,
           769.255475432822,
           594.149388499649,
           665.720215700547,
           860.636433851486,
           660.723571244322,
           558.174668134758,
           603.399381547733,
           397.482658777519,
           511.616394301253,
           1080.29618449063,
           1464.55400904329,
           436.488137266071,
           842.812630961302,
           1146.06468787308,
           293.607157402594,
           319.537475081164,
           467.235431614314,
           270.54300662038,
           489.022855550956,
           710.274303600905,
           751.472889186889,
           416.809824183966,
           471.904360009894,
           589.85943137707,
           3929.07549503364,
           5282.90602155635,
           8000.37643182154,
           9260.44730250635,
           478.668688469613,
           380.596987683774,
           2185.60411519312,
           5394.99671166874,
           4896.61526001377,
           197.832683441643,
           476.869532167304,
           484.153137350801,
           2687.48005643212,
           260.607654653932,
           609.754297393961,
           751.110505478611,
           366.172729492188,
           914.16650390625,
           613.732384491775,
           992.688058138543,
           1271.58328084525,
           1219.24941513302,
           138.698722497148,
           292.349066330563,
           401.834876099443,
           866.504995638803,
           1090.26076257543,
           1584.77565743788,
           1728.71049762741,
           3083.83814075588,
           4168.48940292685,
           10804.7232956282,
           15157.5018256876,
           166.175708881786,
           658.566973042801,
           892.568869694168,
           776.019752284262,
           302.958591951416,
           406.562366042383,
           534.04478262418,
           570.909967175308,
           492.63134765625,
           743.403686523438,
           261.869141644962,
           822.539372481326,
           847.267628934983,
           6033.10149088554,
           8148.9612020223,
           6259.83968110571,
           345.689620749861,
           702.741118447779,
           1489.45908689417,
           1338.29092708188,
           948.331481033457,
           1445.06970213198
          ],
          "sizemode": "area",
          "sizeref": 263.6550314610575,
          "symbol": "circle"
         },
         "mode": "markers",
         "name": "Sub-Saharan Africa",
         "scene": "scene",
         "showlegend": true,
         "type": "scatter3d",
         "x": [
          "Angola",
          "Angola",
          "Angola",
          "Angola",
          "Burundi",
          "Burundi",
          "Burundi",
          "Burundi",
          "Benin",
          "Benin",
          "Benin",
          "Benin",
          "Burkina Faso",
          "Burkina Faso",
          "Burkina Faso",
          "Botswana",
          "Botswana",
          "Central African Republic",
          "Central African Republic",
          "Central African Republic",
          "Central African Republic",
          "Cote d'Ivoire",
          "Cote d'Ivoire",
          "Cote d'Ivoire",
          "Cote d'Ivoire",
          "Cameroon",
          "Cameroon",
          "Cameroon",
          "Cameroon",
          "Congo, Dem. Rep.",
          "Congo, Dem. Rep.",
          "Congo, Rep.",
          "Congo, Rep.",
          "Congo, Rep.",
          "Comoros",
          "Cabo Verde",
          "Cabo Verde",
          "Ethiopia",
          "Ethiopia",
          "Ethiopia",
          "Gabon",
          "Gabon",
          "Gabon",
          "Ghana",
          "Ghana",
          "Ghana",
          "Guinea",
          "Guinea",
          "Guinea",
          "Guinea",
          "Gambia, The",
          "Gambia, The",
          "Gambia, The",
          "Gambia, The",
          "Guinea-Bissau",
          "Guinea-Bissau",
          "Kenya",
          "Kenya",
          "Kenya",
          "Kenya",
          "Lesotho",
          "Lesotho",
          "Lesotho",
          "Madagascar",
          "Madagascar",
          "Madagascar",
          "Mali",
          "Mali",
          "Mali",
          "Mali",
          "Mozambique",
          "Mozambique",
          "Mozambique",
          "Mauritius",
          "Mauritius",
          "Mauritius",
          "Mauritius",
          "Malawi",
          "Malawi",
          "Namibia",
          "Namibia",
          "Namibia",
          "Niger",
          "Niger",
          "Niger",
          "Nigeria",
          "Rwanda",
          "Rwanda",
          "Rwanda",
          "Sudan",
          "Sudan",
          "Senegal",
          "Senegal",
          "Senegal",
          "Senegal",
          "Sierra Leone",
          "Sierra Leone",
          "Sierra Leone",
          "Sao Tome and Principe",
          "Sao Tome and Principe",
          "Sao Tome and Principe",
          "Eswatini",
          "Eswatini",
          "Eswatini",
          "Seychelles",
          "Seychelles",
          "Chad",
          "Chad",
          "Chad",
          "Chad",
          "Togo",
          "Togo",
          "Togo",
          "Togo",
          "Tanzania",
          "Tanzania",
          "Uganda",
          "Uganda",
          "Uganda",
          "South Africa",
          "South Africa",
          "South Africa",
          "Zambia",
          "Zambia",
          "Zambia",
          "Zambia",
          "Zimbabwe",
          "Zimbabwe"
         ],
         "y": [
          5.36555508,
          28.28505574,
          33.49321036,
          54.25286316,
          6.36949565,
          6.01945299,
          10.43094475,
          10.33014331,
          9.10614845,
          13.63776869,
          15.55759509,
          14.28518296,
          6.09032125,
          11.42022631,
          15.74289494,
          87.29575605,
          98.1711161,
          4.90135866,
          8.31152591,
          11.88384894,
          9.41336493,
          46.04756982,
          53.33010352,
          56.36825796,
          39.33674366,
          22.86322421,
          32.30732729,
          38.99174858,
          39.8094229,
          5.79263399,
          8.69540561,
          16.87773167,
          24.79833792,
          21.38018386,
          45.21186574,
          46.41014877,
          44.06326509,
          2.28931226,
          8.06709831,
          13.50965767,
          78.38731304,
          77.35082227,
          79.02572098,
          18.24164396,
          25.39234833,
          32.22670946,
          15.29643226,
          14.11091031,
          16.12875048,
          30.90018468,
          8.38113912,
          5.93626869,
          8.36248405,
          7.05475749,
          16.15212024,
          37.72093324,
          12.10070934,
          16.6966074,
          24.58445426,
          29.0961118,
          9.28596532,
          14.01943123,
          17.35675136,
          6.09617956,
          6.57095372,
          7.33698183,
          10.43243399,
          14.96492092,
          19.3904633,
          11.22333425,
          2.35534424,
          2.18157505,
          7.24464045,
          54.93170951,
          102.34526085,
          198.14694438,
          294.87740594,
          5.27743899,
          6.36926879,
          93.41639349,
          231.51353914,
          254.54414556,
          6.16438326,
          14.72074287,
          14.1496588,
          72.02040296,
          3.29606676,
          11.26635484,
          13.07634239,
          10.07939773,
          23.76941603,
          13.16868644,
          18.23411176,
          30.13409573,
          30.67831456,
          17.7519438,
          21.7050767,
          28.24533653,
          28.65997935,
          17.46079896,
          14.7833323,
          34.71334706,
          72.3732513,
          90.38565049,
          172.33775673,
          192.70412508,
          6.00771386,
          19.3270201,
          26.54245483,
          21.66391811,
          9.77735089,
          13.90895267,
          21.91453596,
          24.98377714,
          9.85045563,
          12.31982897,
          7.26333607,
          20.0776561,
          16.50463554,
          199.59613784,
          260.57376768,
          207.79181863,
          12.98572166,
          18.33799201,
          17.59175004,
          9.79281313,
          45.93941672,
          59.14794047
         ],
         "z": [
          556.83618223535,
          1902.42214975937,
          3497.9744877961,
          3127.89059784461,
          136.46397080034,
          151.681566343002,
          234.235538877634,
          305.511144099475,
          512.673901962619,
          822.785143124704,
          1036.53451502404,
          1076.79669785585,
          457.933430763383,
          647.836095537879,
          653.32726813947,
          5513.33106259322,
          6402.91018338391,
          251.832764026789,
          331.294821098185,
          488.421735800876,
          377.422917680195,
          1007.46738950787,
          1309.59165283165,
          1701.47570153451,
          1972.54568305836,
          681.102042961201,
          1100.17492617744,
          1352.30227450638,
          1382.5097900241,
          334.02157774666,
          497.317039077365,
          1835.60990812416,
          3076.55644910171,
          2448.52377758887,
          1242.58560784999,
          3378.3234334576,
          3043.03138156811,
          124.460790874921,
          341.554122699663,
          640.541923075422,
          4135.99238007722,
          8849.32260799167,
          7384.70070393071,
          492.54405617264,
          1299.34521164062,
          1774.07477092508,
          363.482279266615,
          322.415540033465,
          672.424930359396,
          769.255475432822,
          594.149388499649,
          665.720215700547,
          860.636433851486,
          660.723571244322,
          558.174668134758,
          603.399381547733,
          397.482658777519,
          511.616394301253,
          1080.29618449063,
          1464.55400904329,
          436.488137266071,
          842.812630961302,
          1146.06468787308,
          293.607157402594,
          319.537475081164,
          467.235431614314,
          270.54300662038,
          489.022855550956,
          710.274303600905,
          751.472889186889,
          416.809824183966,
          471.904360009894,
          589.85943137707,
          3929.07549503364,
          5282.90602155635,
          8000.37643182154,
          9260.44730250635,
          478.668688469613,
          380.596987683774,
          2185.60411519312,
          5394.99671166874,
          4896.61526001377,
          197.832683441643,
          476.869532167304,
          484.153137350801,
          2687.48005643212,
          260.607654653932,
          609.754297393961,
          751.110505478611,
          366.172729492188,
          914.16650390625,
          613.732384491775,
          992.688058138543,
          1271.58328084525,
          1219.24941513302,
          138.698722497148,
          292.349066330563,
          401.834876099443,
          866.504995638803,
          1090.26076257543,
          1584.77565743788,
          1728.71049762741,
          3083.83814075588,
          4168.48940292685,
          10804.7232956282,
          15157.5018256876,
          166.175708881786,
          658.566973042801,
          892.568869694168,
          776.019752284262,
          302.958591951416,
          406.562366042383,
          534.04478262418,
          570.909967175308,
          492.63134765625,
          743.403686523438,
          261.869141644962,
          822.539372481326,
          847.267628934983,
          6033.10149088554,
          8148.9612020223,
          6259.83968110571,
          345.689620749861,
          702.741118447779,
          1489.45908689417,
          1338.29092708188,
          948.331481033457,
          1445.06970213198
         ]
        },
        {
         "hovertemplate": "Region=Europe and Central Asia<br>Country Name=%{x}<br>Population=%{y}<br>GDP per capita=%{marker.size}<extra></extra>",
         "legendgroup": "Europe and Central Asia",
         "marker": {
          "color": "#00cc96",
          "size": [
           1126.68334010717,
           2673.78658429559,
           3952.80253807527,
           1643.75688889146,
           3218.37829927419,
           3607.28929855361,
           24625.6007227434,
           38417.4577857677,
           46903.7615854343,
           44195.8175947748,
           655.119945170816,
           1578.40239029603,
           5843.5337683582,
           5500.31038244408,
           36809.7013403619,
           44184.946353964,
           41008.296719472,
           3899.90763774017,
           6853.00285388669,
           3125.81053502853,
           6033.6862392722,
           5967.05220384914,
           38952.0342005572,
           56546.7856553987,
           77117.126014204,
           84776.1421659748,
           14388.34765625,
           24959.259765625,
           31023.638671875,
           23408.3359375,
           6029.03819275358,
           13430.6698955613,
           19960.0684872157,
           17829.6983223668,
           41572.4559481507,
           41103.2564363768,
           30743.5476816354,
           48799.8256011275,
           58041.3984363385,
           14749.6874248766,
           26429.1509449319,
           30532.4805081656,
           25742.3688346767,
           4070.60902410208,
           10412.6443137966,
           14663.0446126465,
           17402.0376128079,
           24345.9148217032,
           39054.8504423825,
           46505.3031791811,
           42801.9081167285,
           28223.0675706515,
           42132.0907219815,
           39688.6149684498,
           45404.5677734722,
           749.908534993961,
           1642.76093756395,
           12072.9293569196,
           22560.1472939077,
           18083.8779056547,
           14067.5231191915,
           4624.28165670295,
           11225.9325815328,
           13223.0830027699,
           12720.7120220668,
           26334.5672050501,
           50933.0216095589,
           48655.3661626634,
           62012.4849258149,
           32096.3722613695,
           56794.8501588953,
           43237.0729488958,
           52951.6815110898,
           20137.5912217673,
           32055.0920757503,
           36035.6449950691,
           30242.3861352184,
           3771.27895733845,
           10510.7718884149,
           279.619569260939,
           476.552129968975,
           880.037775119109,
           1121.08283510739,
           7854.76527867855,
           11987.508411647,
           14263.9645773495,
           105462.012584423,
           3361.64086880275,
           11420.9940032836,
           13786.4567953114,
           440.672030653269,
           1034.70705816743,
           2437.53768326452,
           2732.46072997894,
           26214.498549887,
           41994.7135305232,
           50999.7451168879,
           45193.4032187971,
           38131.4606116242,
           66810.478520868,
           87693.7900658099,
           74355.5158575643,
           4501.45406742273,
           8021.50574346795,
           12613.0109954681,
           12578.4954734362,
           11526.3720667968,
           18780.12751241,
           22520.6423124045,
           19250.1065376852,
           1659.90763954548,
           4617.92901643258,
           8214.07689289811,
           8969.14892146193,
           1771.59411621094,
           5323.462890625,
           9313.013671875,
           5735.42285659849,
           5588.98072768556,
           5426.62428119306,
           11690.1134689407,
           16841.7677398734,
           16342.2162621093,
           18098.9085440003,
           23532.4808545468,
           20890.1664304173,
           29624.9126748618,
           43437.0631164776,
           52869.0442891587,
           51545.4836095322,
           138.429146735759,
           340.583183232527,
           749.552412285997,
           978.404981180605,
           4337.47800296354,
           658.3486328125,
           1894.47082519531,
           2124.66235351563,
           2753.97107219949
          ],
          "sizemode": "area",
          "sizeref": 263.6550314610575,
          "symbol": "circle"
         },
         "mode": "markers",
         "name": "Europe and Central Asia",
         "scene": "scene",
         "showlegend": true,
         "type": "scatter3d",
         "x": [
          "Albania",
          "Albania",
          "Albania",
          "Armenia",
          "Armenia",
          "Armenia",
          "Austria",
          "Austria",
          "Austria",
          "Austria",
          "Azerbaijan",
          "Azerbaijan",
          "Azerbaijan",
          "Azerbaijan",
          "Belgium",
          "Belgium",
          "Belgium",
          "Bulgaria",
          "Bulgaria",
          "Belarus",
          "Belarus",
          "Belarus",
          "Switzerland",
          "Switzerland",
          "Switzerland",
          "Switzerland",
          "Cyprus",
          "Cyprus",
          "Cyprus",
          "Cyprus",
          "Czechia",
          "Czechia",
          "Czechia",
          "Czechia",
          "Germany",
          "Germany",
          "Denmark",
          "Denmark",
          "Denmark",
          "Spain",
          "Spain",
          "Spain",
          "Spain",
          "Estonia",
          "Estonia",
          "Estonia",
          "Estonia",
          "Finland",
          "Finland",
          "Finland",
          "Finland",
          "United Kingdom",
          "United Kingdom",
          "United Kingdom",
          "United Kingdom",
          "Georgia",
          "Georgia",
          "Greece",
          "Greece",
          "Greece",
          "Croatia",
          "Hungary",
          "Hungary",
          "Hungary",
          "Hungary",
          "Ireland",
          "Ireland",
          "Ireland",
          "Ireland",
          "Iceland",
          "Iceland",
          "Iceland",
          "Iceland",
          "Italy",
          "Italy",
          "Italy",
          "Italy",
          "Kazakhstan",
          "Kazakhstan",
          "Kyrgyz Republic",
          "Kyrgyz Republic",
          "Kyrgyz Republic",
          "Kyrgyz Republic",
          "Lithuania",
          "Lithuania",
          "Lithuania",
          "Luxembourg",
          "Latvia",
          "Latvia",
          "Latvia",
          "Moldova",
          "Moldova",
          "Moldova",
          "Moldova",
          "Netherlands",
          "Netherlands",
          "Netherlands",
          "Netherlands",
          "Norway",
          "Norway",
          "Norway",
          "Norway",
          "Poland",
          "Poland",
          "Poland",
          "Poland",
          "Portugal",
          "Portugal",
          "Portugal",
          "Portugal",
          "Romania",
          "Romania",
          "Romania",
          "Romania",
          "Russian Federation",
          "Russian Federation",
          "Russian Federation",
          "Serbia",
          "Serbia",
          "Slovak Republic",
          "Slovak Republic",
          "Slovak Republic",
          "Slovak Republic",
          "Slovenia",
          "Slovenia",
          "Slovenia",
          "Sweden",
          "Sweden",
          "Sweden",
          "Sweden",
          "Tajikistan",
          "Tajikistan",
          "Tajikistan",
          "Tajikistan",
          "Turkiye",
          "Ukraine",
          "Ukraine",
          "Ukraine",
          "Uzbekistan"
         ],
         "y": [
          48.69450448,
          86.81703828,
          83.49495732,
          60.80376976,
          231.87482023,
          302.93554396,
          586.26494905,
          1014.73097696,
          1325.22504677,
          1270.55566366,
          13.13273335,
          20.52321089,
          84.47678003,
          152.77849988,
          872.62887485,
          1089.41598102,
          1033.92438365,
          108.24201054,
          216.9423661,
          50.42561896,
          108.26445526,
          140.83690529,
          2542.91744618,
          3912.29502499,
          5211.58743974,
          6397.48435229,
          438.23659668,
          792.22160397,
          1091.15992386,
          894.74642566,
          38.73616224,
          125.96869298,
          231.81296909,
          228.13707059,
          1120.70205753,
          1065.21984195,
          421.64810754,
          722.21158443,
          969.07615746,
          287.9344254,
          586.04994848,
          712.89531032,
          673.82252373,
          50.73545959,
          133.96086663,
          222.34503656,
          272.38504896,
          418.04681372,
          716.52446314,
          911.5267556,
          884.67042658,
          472.36079713,
          664.54517395,
          696.81350055,
          894.62872586,
          42.2246647,
          102.20431738,
          339.76360756,
          757.96055824,
          602.52261989,
          186.87639988,
          97.54484172,
          267.14810862,
          328.10764109,
          280.43536432,
          351.86211289,
          832.2244064,
          1222.9041589,
          1276.77984759,
          558.3044448,
          971.11791493,
          722.91484883,
          821.43145104,
          417.06024285,
          602.75504894,
          693.29505019,
          684.02423826,
          50.59951145,
          117.32389985,
          6.34753853,
          15.37359399,
          26.48136111,
          43.7196369,
          172.10622289,
          231.44303198,
          309.36539925,
          765.01574184,
          89.41771466,
          274.31158195,
          320.77130262,
          10.08544122,
          34.03249534,
          83.62017094,
          87.96360274,
          627.9333852,
          1207.38432948,
          1699.68984673,
          1586.33907695,
          540.17066848,
          946.54039499,
          1200.01637085,
          1095.90027851,
          75.64861262,
          146.57018538,
          231.83530099,
          246.24087417,
          300.81103545,
          527.19318736,
          755.40985519,
          685.23654537,
          14.49606241,
          50.41336326,
          94.57593435,
          97.54519708,
          38.58432394,
          105.3724807,
          205.6048489,
          207.76701706,
          205.87700933,
          25.47631577,
          149.49778231,
          376.05457995,
          235.74444979,
          402.56093793,
          557.43979046,
          508.70505304,
          337.37917707,
          628.18773816,
          773.34422565,
          897.97304881,
          4.72634934,
          12.00400887,
          30.30720555,
          40.36810153,
          76.45621357,
          18.45778165,
          47.74009826,
          80.26514655,
          64.39177202
         ],
         "z": [
          1126.68334010717,
          2673.78658429559,
          3952.80253807527,
          1643.75688889146,
          3218.37829927419,
          3607.28929855361,
          24625.6007227434,
          38417.4577857677,
          46903.7615854343,
          44195.8175947748,
          655.119945170816,
          1578.40239029603,
          5843.5337683582,
          5500.31038244408,
          36809.7013403619,
          44184.946353964,
          41008.296719472,
          3899.90763774017,
          6853.00285388669,
          3125.81053502853,
          6033.6862392722,
          5967.05220384914,
          38952.0342005572,
          56546.7856553987,
          77117.126014204,
          84776.1421659748,
          14388.34765625,
          24959.259765625,
          31023.638671875,
          23408.3359375,
          6029.03819275358,
          13430.6698955613,
          19960.0684872157,
          17829.6983223668,
          41572.4559481507,
          41103.2564363768,
          30743.5476816354,
          48799.8256011275,
          58041.3984363385,
          14749.6874248766,
          26429.1509449319,
          30532.4805081656,
          25742.3688346767,
          4070.60902410208,
          10412.6443137966,
          14663.0446126465,
          17402.0376128079,
          24345.9148217032,
          39054.8504423825,
          46505.3031791811,
          42801.9081167285,
          28223.0675706515,
          42132.0907219815,
          39688.6149684498,
          45404.5677734722,
          749.908534993961,
          1642.76093756395,
          12072.9293569196,
          22560.1472939077,
          18083.8779056547,
          14067.5231191915,
          4624.28165670295,
          11225.9325815328,
          13223.0830027699,
          12720.7120220668,
          26334.5672050501,
          50933.0216095589,
          48655.3661626634,
          62012.4849258149,
          32096.3722613695,
          56794.8501588953,
          43237.0729488958,
          52951.6815110898,
          20137.5912217673,
          32055.0920757503,
          36035.6449950691,
          30242.3861352184,
          3771.27895733845,
          10510.7718884149,
          279.619569260939,
          476.552129968975,
          880.037775119109,
          1121.08283510739,
          7854.76527867855,
          11987.508411647,
          14263.9645773495,
          105462.012584423,
          3361.64086880275,
          11420.9940032836,
          13786.4567953114,
          440.672030653269,
          1034.70705816743,
          2437.53768326452,
          2732.46072997894,
          26214.498549887,
          41994.7135305232,
          50999.7451168879,
          45193.4032187971,
          38131.4606116242,
          66810.478520868,
          87693.7900658099,
          74355.5158575643,
          4501.45406742273,
          8021.50574346795,
          12613.0109954681,
          12578.4954734362,
          11526.3720667968,
          18780.12751241,
          22520.6423124045,
          19250.1065376852,
          1659.90763954548,
          4617.92901643258,
          8214.07689289811,
          8969.14892146193,
          1771.59411621094,
          5323.462890625,
          9313.013671875,
          5735.42285659849,
          5588.98072768556,
          5426.62428119306,
          11690.1134689407,
          16841.7677398734,
          16342.2162621093,
          18098.9085440003,
          23532.4808545468,
          20890.1664304173,
          29624.9126748618,
          43437.0631164776,
          52869.0442891587,
          51545.4836095322,
          138.429146735759,
          340.583183232527,
          749.552412285997,
          978.404981180605,
          4337.47800296354,
          658.3486328125,
          1894.47082519531,
          2124.66235351563,
          2753.97107219949
         ]
        },
        {
         "hovertemplate": "Region=Latin America & the Caribbean<br>Country Name=%{x}<br>Population=%{y}<br>GDP per capita=%{marker.size}<extra></extra>",
         "legendgroup": "Latin America & the Caribbean",
         "marker": {
          "color": "#ab63fa",
          "size": [
           7708.09911454041,
           5109.85224490403,
           10385.9644319555,
           13789.060424772,
           27098.1563186767,
           30279.3922080481,
           28443.8884756689,
           31699.3586317477,
           3364.49173102584,
           4304.11110815138,
           4805.19685237279,
           1955.460180975,
           3035.97165495107,
           3749.91084752888,
           4790.45656586131,
           11286.071540212,
           8813.98980647828,
           11268.4200640121,
           13822.7417486972,
           16056.1168470231,
           16558.8647849868,
           5100.25413288222,
           7558.37175410092,
           12724.10406267,
           13495.0106099649,
           2520.48108876016,
           3414.46515834714,
           6336.70947398466,
           6175.87602970258,
           3789.05388636246,
           8227.12749376825,
           11642.7780517123,
           2869.17813861021,
           5555.39201393816,
           6921.52059432776,
           1445.27932442901,
           4633.59128443099,
           6124.49088707134,
           2852.54732650116,
           3994.63691288475,
           954.400318095334,
           1105.50682477118,
           4580.69876204788,
           5576.82585151355,
           2302.20441093316,
           1386.85419078846,
           3392.12387809462,
           4103.6016371324,
           4704.04775962425,
           4907.927415189,
           6949.20417333029,
           8540.07097992462,
           10093.6180163617,
           7157.81449985734,
           8277.67156384567,
           9271.39839576997,
           9616.64555810607,
           1007.499838655,
           1503.87223074992,
           2049.8516660809,
           4060.31779345702,
           13630.3011472878,
           1955.58800627896,
           2729.49917213529,
           5082.35370614454,
           6229.10067398112,
           1663.60493919986,
           4342.06584459985,
           5413.77602061858,
           2001.54004887966,
           2428.56887928932,
           2983.2288061357,
           3705.57970353453,
           9168.23715664009,
           6435.13421201268,
           18383.5386974985,
           6875.02546946372,
           5226.94409982496,
           11992.0237658273,
           15613.7459681824,
           3970.29362248818,
           5339.3935508934,
           6654.79290746741
          ],
          "sizemode": "area",
          "sizeref": 263.6550314610575,
          "symbol": "circle"
         },
         "mode": "markers",
         "name": "Latin America & the Caribbean",
         "scene": "scene",
         "showlegend": true,
         "type": "scatter3d",
         "x": [
          "Argentina",
          "Argentina",
          "Argentina",
          "Argentina",
          "Bahamas, The",
          "Bahamas, The",
          "Bahamas, The",
          "Bahamas, The",
          "Belize",
          "Belize",
          "Belize",
          "Bolivia",
          "Bolivia",
          "Brazil",
          "Brazil",
          "Brazil",
          "Brazil",
          "Barbados",
          "Barbados",
          "Barbados",
          "Barbados",
          "Chile",
          "Chile",
          "Chile",
          "Chile",
          "Colombia",
          "Colombia",
          "Colombia",
          "Colombia",
          "Costa Rica",
          "Costa Rica",
          "Costa Rica",
          "Dominican Republic",
          "Dominican Republic",
          "Dominican Republic",
          "Ecuador",
          "Ecuador",
          "Ecuador",
          "Guatemala",
          "Guatemala",
          "Guyana",
          "Guyana",
          "Guyana",
          "Guyana",
          "Honduras",
          "Haiti",
          "Jamaica",
          "Jamaica",
          "Jamaica",
          "Jamaica",
          "St. Lucia",
          "St. Lucia",
          "St. Lucia",
          "Mexico",
          "Mexico",
          "Mexico",
          "Mexico",
          "Nicaragua",
          "Nicaragua",
          "Nicaragua",
          "Panama",
          "Panama",
          "Peru",
          "Peru",
          "Peru",
          "Peru",
          "Paraguay",
          "Paraguay",
          "Paraguay",
          "El Salvador",
          "El Salvador",
          "El Salvador",
          "El Salvador",
          "Suriname",
          "Trinidad and Tobago",
          "Trinidad and Tobago",
          "Uruguay",
          "Uruguay",
          "Uruguay",
          "Uruguay",
          "St. Vincent and the Grenadines",
          "St. Vincent and the Grenadines",
          "St. Vincent and the Grenadines"
         ],
         "y": [
          320.63082775,
          186.0785116,
          401.21882204,
          505.42655876,
          616.21510393,
          733.92531538,
          812.67088944,
          900.67246677,
          61.6104022,
          74.27532996,
          82.47186504,
          38.29264168,
          62.02007804,
          181.41732604,
          224.41961186,
          490.78749798,
          444.95777814,
          289.2686165,
          389.40846904,
          481.34375363,
          571.46324012,
          229.18958351,
          303.67887855,
          458.90183328,
          585.84673361,
          33.81672609,
          56.40914357,
          124.17465504,
          135.52916104,
          84.48972807,
          181.49171917,
          241.1979502,
          88.48226182,
          168.32271469,
          206.79623186,
          32.89721223,
          147.30376161,
          193.63724295,
          110.64300482,
          138.78116453,
          27.95281098,
          33.22696399,
          61.43848764,
          82.21481167,
          95.76490436,
          25.6593769,
          82.8906621,
          92.33444705,
          100.33113057,
          97.52197156,
          218.83407275,
          266.19738978,
          257.18919941,
          174.46147525,
          279.05254142,
          264.78124621,
          263.05719704,
          25.03537578,
          46.0312838,
          61.49630405,
          91.44494513,
          340.81080976,
          39.2978598,
          53.32977965,
          113.56249159,
          121.60139812,
          58.51387321,
          142.73394267,
          190.2143013,
          97.57114343,
          95.39926262,
          90.82721452,
          95.17898146,
          240.75819925,
          174.64107638,
          536.06389824,
          401.9714611,
          241.4720469,
          411.79502738,
          444.12544895,
          47.55922497,
          75.78358431,
          101.8936938
         ],
         "z": [
          7708.09911454041,
          5109.85224490403,
          10385.9644319555,
          13789.060424772,
          27098.1563186767,
          30279.3922080481,
          28443.8884756689,
          31699.3586317477,
          3364.49173102584,
          4304.11110815138,
          4805.19685237279,
          1955.460180975,
          3035.97165495107,
          3749.91084752888,
          4790.45656586131,
          11286.071540212,
          8813.98980647828,
          11268.4200640121,
          13822.7417486972,
          16056.1168470231,
          16558.8647849868,
          5100.25413288222,
          7558.37175410092,
          12724.10406267,
          13495.0106099649,
          2520.48108876016,
          3414.46515834714,
          6336.70947398466,
          6175.87602970258,
          3789.05388636246,
          8227.12749376825,
          11642.7780517123,
          2869.17813861021,
          5555.39201393816,
          6921.52059432776,
          1445.27932442901,
          4633.59128443099,
          6124.49088707134,
          2852.54732650116,
          3994.63691288475,
          954.400318095334,
          1105.50682477118,
          4580.69876204788,
          5576.82585151355,
          2302.20441093316,
          1386.85419078846,
          3392.12387809462,
          4103.6016371324,
          4704.04775962425,
          4907.927415189,
          6949.20417333029,
          8540.07097992462,
          10093.6180163617,
          7157.81449985734,
          8277.67156384567,
          9271.39839576997,
          9616.64555810607,
          1007.499838655,
          1503.87223074992,
          2049.8516660809,
          4060.31779345702,
          13630.3011472878,
          1955.58800627896,
          2729.49917213529,
          5082.35370614454,
          6229.10067398112,
          1663.60493919986,
          4342.06584459985,
          5413.77602061858,
          2001.54004887966,
          2428.56887928932,
          2983.2288061357,
          3705.57970353453,
          9168.23715664009,
          6435.13421201268,
          18383.5386974985,
          6875.02546946372,
          5226.94409982496,
          11992.0237658273,
          15613.7459681824,
          3970.29362248818,
          5339.3935508934,
          6654.79290746741
         ]
        },
        {
         "hovertemplate": "Region=East Asia and Pacific<br>Country Name=%{x}<br>Population=%{y}<br>GDP per capita=%{marker.size}<extra></extra>",
         "legendgroup": "East Asia and Pacific",
         "marker": {
          "color": "#FFA15A",
          "size": [
           21697.7084797731,
           34080.9998953245,
           52087.9722888891,
           56707.0220772116,
           18012.5021948953,
           35270.6421390658,
           1753.41782926104,
           4550.45310775599,
           8016.43143498003,
           2069.31745471458,
           3627.63285585254,
           3652.53593320954,
           5390.71420703085,
           2171.88957683534,
           2906.61701228808,
           1263.28733171098,
           3122.36267319362,
           3331.69511469189,
           300.613679010462,
           785.50266705782,
           796.803203566513,
           1535.16278257963,
           23087.2256438476,
           325.186937142965,
           475.610796203932,
           1141.23570253091,
           746.945359978558,
           1196.74333308526,
           474.217094319837,
           2643.28708316435,
           3875.32167504717,
           4043.66292312877,
           9040.56849464524,
           9955.24272167626,
           27751.0654708859,
           33676.7741239925,
           38630.7265886928,
           1072.80175248718,
           1244.34874065936,
           3001.04318170863,
           7657.95121440536,
           23852.3270285975,
           29961.2632774569,
           47236.9602345421,
           55646.6187469505,
           1604.14888755803,
           2167.15539406206,
           2007.7352707452,
           2894.06265596401,
           5076.33987220163,
           5840.05306687798,
           806.41434929681,
           1332.79185551378,
           2091.11300904714,
           1673.3292888042,
           2581.62244157361,
           1470.63586995743,
           2695.66618597973,
           1483.80741460389,
           3566.45833371884,
           4073.72908299755
          ],
          "sizemode": "area",
          "sizeref": 263.6550314610575,
          "symbol": "circle"
         },
         "mode": "markers",
         "name": "East Asia and Pacific",
         "scene": "scene",
         "showlegend": true,
         "type": "scatter3d",
         "x": [
          "Australia",
          "Australia",
          "Australia",
          "Australia",
          "Brunei Darussalam",
          "Brunei Darussalam",
          "China",
          "China",
          "China",
          "Fiji",
          "Fiji",
          "Fiji",
          "Fiji",
          "Micronesia, Fed. Sts.",
          "Micronesia, Fed. Sts.",
          "Indonesia",
          "Indonesia",
          "Indonesia",
          "Cambodia",
          "Cambodia",
          "Kiribati",
          "Kiribati",
          "Korea, Rep.",
          "Lao PDR",
          "Lao PDR",
          "Lao PDR",
          "Myanmar",
          "Myanmar",
          "Mongolia",
          "Mongolia",
          "Mongolia",
          "Malaysia",
          "Malaysia",
          "Malaysia",
          "New Zealand",
          "New Zealand",
          "New Zealand",
          "Philippines",
          "Philippines",
          "Philippines",
          "Palau",
          "Singapore",
          "Singapore",
          "Singapore",
          "Singapore",
          "Solomon Islands",
          "Solomon Islands",
          "Thailand",
          "Thailand",
          "Thailand",
          "Thailand",
          "Timor-Leste",
          "Timor-Leste",
          "Tonga",
          "Vietnam",
          "Vietnam",
          "Vanuatu",
          "Vanuatu",
          "Samoa",
          "Samoa",
          "Samoa"
         ],
         "y": [
          461.55053709,
          848.56129325,
          1366.94320432,
          1534.69104637,
          80.50988416,
          66.3821619,
          48.17227011,
          89.46375706,
          155.30195835,
          11.78919471,
          22.04019964,
          40.27114318,
          61.53289736,
          8.93372563,
          9.31704853,
          24.16303676,
          65.7542065,
          58.36979907,
          15.40594758,
          35.99677371,
          2.28689628,
          5.01877953,
          555.27116364,
          8.82432405,
          9.30493105,
          21.88963838,
          15.82786422,
          43.46842618,
          6.64507654,
          29.92333783,
          65.15480884,
          59.07546448,
          136.21764529,
          177.65927611,
          529.08646122,
          698.86586513,
          906.50143943,
          17.06588774,
          29.1938668,
          71.22968562,
          144.6073855,
          507.6116438,
          609.11919734,
          959.73563153,
          1218.59701283,
          2.82989815,
          2.9821675,
          27.89703585,
          33.13270412,
          44.91136123,
          53.05374044,
          6.19099918,
          11.53554872,
          13.21575677,
          45.71716244,
          66.03815805,
          5.14028751,
          12.17368391,
          7.60523097,
          25.89630315,
          27.64481537
         ],
         "z": [
          21697.7084797731,
          34080.9998953245,
          52087.9722888891,
          56707.0220772116,
          18012.5021948953,
          35270.6421390658,
          1753.41782926104,
          4550.45310775599,
          8016.43143498003,
          2069.31745471458,
          3627.63285585254,
          3652.53593320954,
          5390.71420703085,
          2171.88957683534,
          2906.61701228808,
          1263.28733171098,
          3122.36267319362,
          3331.69511469189,
          300.613679010462,
          785.50266705782,
          796.803203566513,
          1535.16278257963,
          23087.2256438476,
          325.186937142965,
          475.610796203932,
          1141.23570253091,
          746.945359978558,
          1196.74333308526,
          474.217094319837,
          2643.28708316435,
          3875.32167504717,
          4043.66292312877,
          9040.56849464524,
          9955.24272167626,
          27751.0654708859,
          33676.7741239925,
          38630.7265886928,
          1072.80175248718,
          1244.34874065936,
          3001.04318170863,
          7657.95121440536,
          23852.3270285975,
          29961.2632774569,
          47236.9602345421,
          55646.6187469505,
          1604.14888755803,
          2167.15539406206,
          2007.7352707452,
          2894.06265596401,
          5076.33987220163,
          5840.05306687798,
          806.41434929681,
          1332.79185551378,
          2091.11300904714,
          1673.3292888042,
          2581.62244157361,
          1470.63586995743,
          2695.66618597973,
          1483.80741460389,
          3566.45833371884,
          4073.72908299755
         ]
        },
        {
         "hovertemplate": "Region=Middle East and North Africa<br>Country Name=%{x}<br>Population=%{y}<br>GDP per capita=%{marker.size}<extra></extra>",
         "legendgroup": "Middle East and North Africa",
         "marker": {
          "color": "#19d3f3",
          "size": [
           20722.0704900745,
           22634.0856475674,
           768.183570343678,
           904.736679476444,
           1343.27512498519,
           2652.51322808034,
           1186.39331322717,
           2645.96875877924,
           3562.93265798423,
           1670.0096735653,
           3246.05112244352,
           6599.66093791004,
           5200.68078673413,
           4688.31801743466,
           21061.4822833993,
           20585.1386127162,
           30780.0238155167,
           35808.4364289727,
           2183.39464250953,
           3736.64546207921,
           4164.10876894014,
           35591.0371337921,
           38577.4982788212,
           29869.552753237,
           4575.10745896031,
           7761.64148945415,
           7643.00871833192,
           21799.1742559798,
           24921.6036820869,
           8601.27194448996,
           12377.0800076389,
           29976.1676344676,
           51455.9509428993,
           67403.0876779676,
           9171.33147630515,
           13791.454761932,
           2211.8350154787,
           3193.20435786446,
           4344.61941760278,
           4094.84160230737,
           554.448665276054,
           1334.78490225941
          ],
          "sizemode": "area",
          "sizeref": 263.6550314610575,
          "symbol": "circle"
         },
         "mode": "markers",
         "name": "Middle East and North Africa",
         "scene": "scene",
         "showlegend": true,
         "type": "scatter3d",
         "x": [
          "Bahrain",
          "Bahrain",
          "Djibouti",
          "Djibouti",
          "Djibouti",
          "Djibouti",
          "Egypt, Arab Rep.",
          "Egypt, Arab Rep.",
          "Egypt, Arab Rep.",
          "Iran, Islamic Rep.",
          "Iran, Islamic Rep.",
          "Iran, Islamic Rep.",
          "Iran, Islamic Rep.",
          "Iraq",
          "Israel",
          "Israel",
          "Israel",
          "Israel",
          "Jordan",
          "Jordan",
          "Jordan",
          "Kuwait",
          "Kuwait",
          "Kuwait",
          "Lebanon",
          "Lebanon",
          "Lebanon",
          "Malta",
          "Malta",
          "Oman",
          "Oman",
          "Qatar",
          "Qatar",
          "Qatar",
          "Saudi Arabia",
          "Saudi Arabia",
          "Tunisia",
          "Tunisia",
          "Tunisia",
          "Tunisia",
          "Yemen, Rep.",
          "Yemen, Rep."
         ],
         "y": [
          294.88814479,
          396.36617505,
          16.616103,
          17.30886212,
          16.60064131,
          17.90697349,
          42.457336,
          75.22799026,
          125.75111181,
          50.36730041,
          110.37800962,
          301.46119681,
          181.76352484,
          119.96439481,
          523.37484945,
          591.31449162,
          802.49225318,
          939.4390798,
          87.82154519,
          87.86404466,
          141.85545882,
          170.46367822,
          163.26651687,
          190.65027835,
          211.05306517,
          340.17879501,
          294.48048509,
          614.14100406,
          878.43102702,
          48.08737485,
          56.53700303,
          243.76421795,
          331.64465988,
          349.85782764,
          107.95023301,
          129.58135791,
          52.73721603,
          84.64833954,
          104.91336946,
          117.55604467,
          11.87789358,
          51.68709842
         ],
         "z": [
          20722.0704900745,
          22634.0856475674,
          768.183570343678,
          904.736679476444,
          1343.27512498519,
          2652.51322808034,
          1186.39331322717,
          2645.96875877924,
          3562.93265798423,
          1670.0096735653,
          3246.05112244352,
          6599.66093791004,
          5200.68078673413,
          4688.31801743466,
          21061.4822833993,
          20585.1386127162,
          30780.0238155167,
          35808.4364289727,
          2183.39464250953,
          3736.64546207921,
          4164.10876894014,
          35591.0371337921,
          38577.4982788212,
          29869.552753237,
          4575.10745896031,
          7761.64148945415,
          7643.00871833192,
          21799.1742559798,
          24921.6036820869,
          8601.27194448996,
          12377.0800076389,
          29976.1676344676,
          51455.9509428993,
          67403.0876779676,
          9171.33147630515,
          13791.454761932,
          2211.8350154787,
          3193.20435786446,
          4344.61941760278,
          4094.84160230737,
          554.448665276054,
          1334.78490225941
         ]
        },
        {
         "hovertemplate": "Region=North America<br>Country Name=%{x}<br>Population=%{y}<br>GDP per capita=%{marker.size}<extra></extra>",
         "legendgroup": "North America",
         "marker": {
          "color": "#FF6692",
          "size": [
           24271.0020563821,
           36382.5079164537,
           47562.0834253057,
           56762.7294515989
          ],
          "sizemode": "area",
          "sizeref": 263.6550314610575,
          "symbol": "circle"
         },
         "mode": "markers",
         "name": "North America",
         "scene": "scene",
         "showlegend": true,
         "type": "scatter3d",
         "x": [
          "Canada",
          "Canada",
          "Canada",
          "United States"
         ],
         "y": [
          545.1067658,
          888.88368016,
          1524.58514472,
          4587.77368905
         ],
         "z": [
          24271.0020563821,
          36382.5079164537,
          47562.0834253057,
          56762.7294515989
         ]
        }
       ],
       "layout": {
        "legend": {
         "itemsizing": "constant",
         "title": {
          "text": "Region"
         },
         "tracegroupgap": 0
        },
        "margin": {
         "t": 60
        },
        "scene": {
         "domain": {
          "x": [
           0,
           1
          ],
          "y": [
           0,
           1
          ]
         },
         "xaxis": {
          "title": {
           "text": "Country Name"
          }
         },
         "yaxis": {
          "title": {
           "text": "Population"
          }
         },
         "zaxis": {
          "title": {
           "text": "GDP per capita"
          }
         }
        },
        "template": {
         "data": {
          "bar": [
           {
            "error_x": {
             "color": "#2a3f5f"
            },
            "error_y": {
             "color": "#2a3f5f"
            },
            "marker": {
             "line": {
              "color": "#E5ECF6",
              "width": 0.5
             },
             "pattern": {
              "fillmode": "overlay",
              "size": 10,
              "solidity": 0.2
             }
            },
            "type": "bar"
           }
          ],
          "barpolar": [
           {
            "marker": {
             "line": {
              "color": "#E5ECF6",
              "width": 0.5
             },
             "pattern": {
              "fillmode": "overlay",
              "size": 10,
              "solidity": 0.2
             }
            },
            "type": "barpolar"
           }
          ],
          "carpet": [
           {
            "aaxis": {
             "endlinecolor": "#2a3f5f",
             "gridcolor": "white",
             "linecolor": "white",
             "minorgridcolor": "white",
             "startlinecolor": "#2a3f5f"
            },
            "baxis": {
             "endlinecolor": "#2a3f5f",
             "gridcolor": "white",
             "linecolor": "white",
             "minorgridcolor": "white",
             "startlinecolor": "#2a3f5f"
            },
            "type": "carpet"
           }
          ],
          "choropleth": [
           {
            "colorbar": {
             "outlinewidth": 0,
             "ticks": ""
            },
            "type": "choropleth"
           }
          ],
          "contour": [
           {
            "colorbar": {
             "outlinewidth": 0,
             "ticks": ""
            },
            "colorscale": [
             [
              0,
              "#0d0887"
             ],
             [
              0.1111111111111111,
              "#46039f"
             ],
             [
              0.2222222222222222,
              "#7201a8"
             ],
             [
              0.3333333333333333,
              "#9c179e"
             ],
             [
              0.4444444444444444,
              "#bd3786"
             ],
             [
              0.5555555555555556,
              "#d8576b"
             ],
             [
              0.6666666666666666,
              "#ed7953"
             ],
             [
              0.7777777777777778,
              "#fb9f3a"
             ],
             [
              0.8888888888888888,
              "#fdca26"
             ],
             [
              1,
              "#f0f921"
             ]
            ],
            "type": "contour"
           }
          ],
          "contourcarpet": [
           {
            "colorbar": {
             "outlinewidth": 0,
             "ticks": ""
            },
            "type": "contourcarpet"
           }
          ],
          "heatmap": [
           {
            "colorbar": {
             "outlinewidth": 0,
             "ticks": ""
            },
            "colorscale": [
             [
              0,
              "#0d0887"
             ],
             [
              0.1111111111111111,
              "#46039f"
             ],
             [
              0.2222222222222222,
              "#7201a8"
             ],
             [
              0.3333333333333333,
              "#9c179e"
             ],
             [
              0.4444444444444444,
              "#bd3786"
             ],
             [
              0.5555555555555556,
              "#d8576b"
             ],
             [
              0.6666666666666666,
              "#ed7953"
             ],
             [
              0.7777777777777778,
              "#fb9f3a"
             ],
             [
              0.8888888888888888,
              "#fdca26"
             ],
             [
              1,
              "#f0f921"
             ]
            ],
            "type": "heatmap"
           }
          ],
          "heatmapgl": [
           {
            "colorbar": {
             "outlinewidth": 0,
             "ticks": ""
            },
            "colorscale": [
             [
              0,
              "#0d0887"
             ],
             [
              0.1111111111111111,
              "#46039f"
             ],
             [
              0.2222222222222222,
              "#7201a8"
             ],
             [
              0.3333333333333333,
              "#9c179e"
             ],
             [
              0.4444444444444444,
              "#bd3786"
             ],
             [
              0.5555555555555556,
              "#d8576b"
             ],
             [
              0.6666666666666666,
              "#ed7953"
             ],
             [
              0.7777777777777778,
              "#fb9f3a"
             ],
             [
              0.8888888888888888,
              "#fdca26"
             ],
             [
              1,
              "#f0f921"
             ]
            ],
            "type": "heatmapgl"
           }
          ],
          "histogram": [
           {
            "marker": {
             "pattern": {
              "fillmode": "overlay",
              "size": 10,
              "solidity": 0.2
             }
            },
            "type": "histogram"
           }
          ],
          "histogram2d": [
           {
            "colorbar": {
             "outlinewidth": 0,
             "ticks": ""
            },
            "colorscale": [
             [
              0,
              "#0d0887"
             ],
             [
              0.1111111111111111,
              "#46039f"
             ],
             [
              0.2222222222222222,
              "#7201a8"
             ],
             [
              0.3333333333333333,
              "#9c179e"
             ],
             [
              0.4444444444444444,
              "#bd3786"
             ],
             [
              0.5555555555555556,
              "#d8576b"
             ],
             [
              0.6666666666666666,
              "#ed7953"
             ],
             [
              0.7777777777777778,
              "#fb9f3a"
             ],
             [
              0.8888888888888888,
              "#fdca26"
             ],
             [
              1,
              "#f0f921"
             ]
            ],
            "type": "histogram2d"
           }
          ],
          "histogram2dcontour": [
           {
            "colorbar": {
             "outlinewidth": 0,
             "ticks": ""
            },
            "colorscale": [
             [
              0,
              "#0d0887"
             ],
             [
              0.1111111111111111,
              "#46039f"
             ],
             [
              0.2222222222222222,
              "#7201a8"
             ],
             [
              0.3333333333333333,
              "#9c179e"
             ],
             [
              0.4444444444444444,
              "#bd3786"
             ],
             [
              0.5555555555555556,
              "#d8576b"
             ],
             [
              0.6666666666666666,
              "#ed7953"
             ],
             [
              0.7777777777777778,
              "#fb9f3a"
             ],
             [
              0.8888888888888888,
              "#fdca26"
             ],
             [
              1,
              "#f0f921"
             ]
            ],
            "type": "histogram2dcontour"
           }
          ],
          "mesh3d": [
           {
            "colorbar": {
             "outlinewidth": 0,
             "ticks": ""
            },
            "type": "mesh3d"
           }
          ],
          "parcoords": [
           {
            "line": {
             "colorbar": {
              "outlinewidth": 0,
              "ticks": ""
             }
            },
            "type": "parcoords"
           }
          ],
          "pie": [
           {
            "automargin": true,
            "type": "pie"
           }
          ],
          "scatter": [
           {
            "marker": {
             "colorbar": {
              "outlinewidth": 0,
              "ticks": ""
             }
            },
            "type": "scatter"
           }
          ],
          "scatter3d": [
           {
            "line": {
             "colorbar": {
              "outlinewidth": 0,
              "ticks": ""
             }
            },
            "marker": {
             "colorbar": {
              "outlinewidth": 0,
              "ticks": ""
             }
            },
            "type": "scatter3d"
           }
          ],
          "scattercarpet": [
           {
            "marker": {
             "colorbar": {
              "outlinewidth": 0,
              "ticks": ""
             }
            },
            "type": "scattercarpet"
           }
          ],
          "scattergeo": [
           {
            "marker": {
             "colorbar": {
              "outlinewidth": 0,
              "ticks": ""
             }
            },
            "type": "scattergeo"
           }
          ],
          "scattergl": [
           {
            "marker": {
             "colorbar": {
              "outlinewidth": 0,
              "ticks": ""
             }
            },
            "type": "scattergl"
           }
          ],
          "scattermapbox": [
           {
            "marker": {
             "colorbar": {
              "outlinewidth": 0,
              "ticks": ""
             }
            },
            "type": "scattermapbox"
           }
          ],
          "scatterpolar": [
           {
            "marker": {
             "colorbar": {
              "outlinewidth": 0,
              "ticks": ""
             }
            },
            "type": "scatterpolar"
           }
          ],
          "scatterpolargl": [
           {
            "marker": {
             "colorbar": {
              "outlinewidth": 0,
              "ticks": ""
             }
            },
            "type": "scatterpolargl"
           }
          ],
          "scatterternary": [
           {
            "marker": {
             "colorbar": {
              "outlinewidth": 0,
              "ticks": ""
             }
            },
            "type": "scatterternary"
           }
          ],
          "surface": [
           {
            "colorbar": {
             "outlinewidth": 0,
             "ticks": ""
            },
            "colorscale": [
             [
              0,
              "#0d0887"
             ],
             [
              0.1111111111111111,
              "#46039f"
             ],
             [
              0.2222222222222222,
              "#7201a8"
             ],
             [
              0.3333333333333333,
              "#9c179e"
             ],
             [
              0.4444444444444444,
              "#bd3786"
             ],
             [
              0.5555555555555556,
              "#d8576b"
             ],
             [
              0.6666666666666666,
              "#ed7953"
             ],
             [
              0.7777777777777778,
              "#fb9f3a"
             ],
             [
              0.8888888888888888,
              "#fdca26"
             ],
             [
              1,
              "#f0f921"
             ]
            ],
            "type": "surface"
           }
          ],
          "table": [
           {
            "cells": {
             "fill": {
              "color": "#EBF0F8"
             },
             "line": {
              "color": "white"
             }
            },
            "header": {
             "fill": {
              "color": "#C8D4E3"
             },
             "line": {
              "color": "white"
             }
            },
            "type": "table"
           }
          ]
         },
         "layout": {
          "annotationdefaults": {
           "arrowcolor": "#2a3f5f",
           "arrowhead": 0,
           "arrowwidth": 1
          },
          "autotypenumbers": "strict",
          "coloraxis": {
           "colorbar": {
            "outlinewidth": 0,
            "ticks": ""
           }
          },
          "colorscale": {
           "diverging": [
            [
             0,
             "#8e0152"
            ],
            [
             0.1,
             "#c51b7d"
            ],
            [
             0.2,
             "#de77ae"
            ],
            [
             0.3,
             "#f1b6da"
            ],
            [
             0.4,
             "#fde0ef"
            ],
            [
             0.5,
             "#f7f7f7"
            ],
            [
             0.6,
             "#e6f5d0"
            ],
            [
             0.7,
             "#b8e186"
            ],
            [
             0.8,
             "#7fbc41"
            ],
            [
             0.9,
             "#4d9221"
            ],
            [
             1,
             "#276419"
            ]
           ],
           "sequential": [
            [
             0,
             "#0d0887"
            ],
            [
             0.1111111111111111,
             "#46039f"
            ],
            [
             0.2222222222222222,
             "#7201a8"
            ],
            [
             0.3333333333333333,
             "#9c179e"
            ],
            [
             0.4444444444444444,
             "#bd3786"
            ],
            [
             0.5555555555555556,
             "#d8576b"
            ],
            [
             0.6666666666666666,
             "#ed7953"
            ],
            [
             0.7777777777777778,
             "#fb9f3a"
            ],
            [
             0.8888888888888888,
             "#fdca26"
            ],
            [
             1,
             "#f0f921"
            ]
           ],
           "sequentialminus": [
            [
             0,
             "#0d0887"
            ],
            [
             0.1111111111111111,
             "#46039f"
            ],
            [
             0.2222222222222222,
             "#7201a8"
            ],
            [
             0.3333333333333333,
             "#9c179e"
            ],
            [
             0.4444444444444444,
             "#bd3786"
            ],
            [
             0.5555555555555556,
             "#d8576b"
            ],
            [
             0.6666666666666666,
             "#ed7953"
            ],
            [
             0.7777777777777778,
             "#fb9f3a"
            ],
            [
             0.8888888888888888,
             "#fdca26"
            ],
            [
             1,
             "#f0f921"
            ]
           ]
          },
          "colorway": [
           "#636efa",
           "#EF553B",
           "#00cc96",
           "#ab63fa",
           "#FFA15A",
           "#19d3f3",
           "#FF6692",
           "#B6E880",
           "#FF97FF",
           "#FECB52"
          ],
          "font": {
           "color": "#2a3f5f"
          },
          "geo": {
           "bgcolor": "white",
           "lakecolor": "white",
           "landcolor": "#E5ECF6",
           "showlakes": true,
           "showland": true,
           "subunitcolor": "white"
          },
          "hoverlabel": {
           "align": "left"
          },
          "hovermode": "closest",
          "mapbox": {
           "style": "light"
          },
          "paper_bgcolor": "white",
          "plot_bgcolor": "#E5ECF6",
          "polar": {
           "angularaxis": {
            "gridcolor": "white",
            "linecolor": "white",
            "ticks": ""
           },
           "bgcolor": "#E5ECF6",
           "radialaxis": {
            "gridcolor": "white",
            "linecolor": "white",
            "ticks": ""
           }
          },
          "scene": {
           "xaxis": {
            "backgroundcolor": "#E5ECF6",
            "gridcolor": "white",
            "gridwidth": 2,
            "linecolor": "white",
            "showbackground": true,
            "ticks": "",
            "zerolinecolor": "white"
           },
           "yaxis": {
            "backgroundcolor": "#E5ECF6",
            "gridcolor": "white",
            "gridwidth": 2,
            "linecolor": "white",
            "showbackground": true,
            "ticks": "",
            "zerolinecolor": "white"
           },
           "zaxis": {
            "backgroundcolor": "#E5ECF6",
            "gridcolor": "white",
            "gridwidth": 2,
            "linecolor": "white",
            "showbackground": true,
            "ticks": "",
            "zerolinecolor": "white"
           }
          },
          "shapedefaults": {
           "line": {
            "color": "#2a3f5f"
           }
          },
          "ternary": {
           "aaxis": {
            "gridcolor": "white",
            "linecolor": "white",
            "ticks": ""
           },
           "baxis": {
            "gridcolor": "white",
            "linecolor": "white",
            "ticks": ""
           },
           "bgcolor": "#E5ECF6",
           "caxis": {
            "gridcolor": "white",
            "linecolor": "white",
            "ticks": ""
           }
          },
          "title": {
           "x": 0.05
          },
          "xaxis": {
           "automargin": true,
           "gridcolor": "white",
           "linecolor": "white",
           "ticks": "",
           "title": {
            "standoff": 15
           },
           "zerolinecolor": "white",
           "zerolinewidth": 2
          },
          "yaxis": {
           "automargin": true,
           "gridcolor": "white",
           "linecolor": "white",
           "ticks": "",
           "title": {
            "standoff": 15
           },
           "zerolinecolor": "white",
           "zerolinewidth": 2
          }
         }
        }
       }
      },
      "text/html": [
       "<div>                            <div id=\"c1483848-4d6d-4784-b782-3a229066b519\" class=\"plotly-graph-div\" style=\"height:525px; width:100%;\"></div>            <script type=\"text/javascript\">                require([\"plotly\"], function(Plotly) {                    window.PLOTLYENV=window.PLOTLYENV || {};                                    if (document.getElementById(\"c1483848-4d6d-4784-b782-3a229066b519\")) {                    Plotly.newPlot(                        \"c1483848-4d6d-4784-b782-3a229066b519\",                        [{\"hovertemplate\":\"Region=South Asia<br>Country Name=%{x}<br>Population=%{y}<br>GDP per capita=%{marker.size}<extra></extra>\",\"legendgroup\":\"South Asia\",\"marker\":{\"color\":\"#636efa\",\"size\":[242.031313175022,543.306526178281,556.007220861443,418.068942112038,781.153577677298,1248.45330989613,718.196336969414,1228.43235572338,2258.18643535953,2752.63017233678,443.314193811316,714.8610153644,1357.5637268318,1605.60544457087,1248.69818517034,2799.64873802555,3843.78067184442,3640.0121322011,7076.73982087196,9033.41027034576,229.490392563225,315.805629997361,592.401207101201,901.74960773293,576.195580353518,748.922589270883,987.409712037523,1356.66783065763],\"sizemode\":\"area\",\"sizeref\":263.6550314610575,\"symbol\":\"circle\"},\"mode\":\"markers\",\"name\":\"South Asia\",\"scene\":\"scene\",\"showlegend\":true,\"x\":[\"Afghanistan\",\"Afghanistan\",\"Afghanistan\",\"Bangladesh\",\"Bangladesh\",\"Bangladesh\",\"Bhutan\",\"Bhutan\",\"Bhutan\",\"Bhutan\",\"India\",\"India\",\"India\",\"India\",\"Sri Lanka\",\"Sri Lanka\",\"Sri Lanka\",\"Maldives\",\"Maldives\",\"Maldives\",\"Nepal\",\"Nepal\",\"Nepal\",\"Nepal\",\"Pakistan\",\"Pakistan\",\"Pakistan\",\"Pakistan\"],\"y\":[18.86634996,35.54101566,46.17228869,5.42315346,14.51739532,24.4209882,3.77327129,8.1517821,12.54553091,20.37686074,14.17991876,21.67475163,32.86493337,43.39118121,26.65572335,63.23617015,81.98848914,206.97915723,262.4739046,218.75437393,5.38607529,8.27001538,20.39336768,33.03861994,9.98768752,14.6657995,18.44697089,24.7185381],\"z\":[242.031313175022,543.306526178281,556.007220861443,418.068942112038,781.153577677298,1248.45330989613,718.196336969414,1228.43235572338,2258.18643535953,2752.63017233678,443.314193811316,714.8610153644,1357.5637268318,1605.60544457087,1248.69818517034,2799.64873802555,3843.78067184442,3640.0121322011,7076.73982087196,9033.41027034576,229.490392563225,315.805629997361,592.401207101201,901.74960773293,576.195580353518,748.922589270883,987.409712037523,1356.66783065763],\"type\":\"scatter3d\"},{\"hovertemplate\":\"Region=Sub-Saharan Africa<br>Country Name=%{x}<br>Population=%{y}<br>GDP per capita=%{marker.size}<extra></extra>\",\"legendgroup\":\"Sub-Saharan Africa\",\"marker\":{\"color\":\"#EF553B\",\"size\":[556.83618223535,1902.42214975937,3497.9744877961,3127.89059784461,136.46397080034,151.681566343002,234.235538877634,305.511144099475,512.673901962619,822.785143124704,1036.53451502404,1076.79669785585,457.933430763383,647.836095537879,653.32726813947,5513.33106259322,6402.91018338391,251.832764026789,331.294821098185,488.421735800876,377.422917680195,1007.46738950787,1309.59165283165,1701.47570153451,1972.54568305836,681.102042961201,1100.17492617744,1352.30227450638,1382.5097900241,334.02157774666,497.317039077365,1835.60990812416,3076.55644910171,2448.52377758887,1242.58560784999,3378.3234334576,3043.03138156811,124.460790874921,341.554122699663,640.541923075422,4135.99238007722,8849.32260799167,7384.70070393071,492.54405617264,1299.34521164062,1774.07477092508,363.482279266615,322.415540033465,672.424930359396,769.255475432822,594.149388499649,665.720215700547,860.636433851486,660.723571244322,558.174668134758,603.399381547733,397.482658777519,511.616394301253,1080.29618449063,1464.55400904329,436.488137266071,842.812630961302,1146.06468787308,293.607157402594,319.537475081164,467.235431614314,270.54300662038,489.022855550956,710.274303600905,751.472889186889,416.809824183966,471.904360009894,589.85943137707,3929.07549503364,5282.90602155635,8000.37643182154,9260.44730250635,478.668688469613,380.596987683774,2185.60411519312,5394.99671166874,4896.61526001377,197.832683441643,476.869532167304,484.153137350801,2687.48005643212,260.607654653932,609.754297393961,751.110505478611,366.172729492188,914.16650390625,613.732384491775,992.688058138543,1271.58328084525,1219.24941513302,138.698722497148,292.349066330563,401.834876099443,866.504995638803,1090.26076257543,1584.77565743788,1728.71049762741,3083.83814075588,4168.48940292685,10804.7232956282,15157.5018256876,166.175708881786,658.566973042801,892.568869694168,776.019752284262,302.958591951416,406.562366042383,534.04478262418,570.909967175308,492.63134765625,743.403686523438,261.869141644962,822.539372481326,847.267628934983,6033.10149088554,8148.9612020223,6259.83968110571,345.689620749861,702.741118447779,1489.45908689417,1338.29092708188,948.331481033457,1445.06970213198],\"sizemode\":\"area\",\"sizeref\":263.6550314610575,\"symbol\":\"circle\"},\"mode\":\"markers\",\"name\":\"Sub-Saharan Africa\",\"scene\":\"scene\",\"showlegend\":true,\"x\":[\"Angola\",\"Angola\",\"Angola\",\"Angola\",\"Burundi\",\"Burundi\",\"Burundi\",\"Burundi\",\"Benin\",\"Benin\",\"Benin\",\"Benin\",\"Burkina Faso\",\"Burkina Faso\",\"Burkina Faso\",\"Botswana\",\"Botswana\",\"Central African Republic\",\"Central African Republic\",\"Central African Republic\",\"Central African Republic\",\"Cote d'Ivoire\",\"Cote d'Ivoire\",\"Cote d'Ivoire\",\"Cote d'Ivoire\",\"Cameroon\",\"Cameroon\",\"Cameroon\",\"Cameroon\",\"Congo, Dem. Rep.\",\"Congo, Dem. Rep.\",\"Congo, Rep.\",\"Congo, Rep.\",\"Congo, Rep.\",\"Comoros\",\"Cabo Verde\",\"Cabo Verde\",\"Ethiopia\",\"Ethiopia\",\"Ethiopia\",\"Gabon\",\"Gabon\",\"Gabon\",\"Ghana\",\"Ghana\",\"Ghana\",\"Guinea\",\"Guinea\",\"Guinea\",\"Guinea\",\"Gambia, The\",\"Gambia, The\",\"Gambia, The\",\"Gambia, The\",\"Guinea-Bissau\",\"Guinea-Bissau\",\"Kenya\",\"Kenya\",\"Kenya\",\"Kenya\",\"Lesotho\",\"Lesotho\",\"Lesotho\",\"Madagascar\",\"Madagascar\",\"Madagascar\",\"Mali\",\"Mali\",\"Mali\",\"Mali\",\"Mozambique\",\"Mozambique\",\"Mozambique\",\"Mauritius\",\"Mauritius\",\"Mauritius\",\"Mauritius\",\"Malawi\",\"Malawi\",\"Namibia\",\"Namibia\",\"Namibia\",\"Niger\",\"Niger\",\"Niger\",\"Nigeria\",\"Rwanda\",\"Rwanda\",\"Rwanda\",\"Sudan\",\"Sudan\",\"Senegal\",\"Senegal\",\"Senegal\",\"Senegal\",\"Sierra Leone\",\"Sierra Leone\",\"Sierra Leone\",\"Sao Tome and Principe\",\"Sao Tome and Principe\",\"Sao Tome and Principe\",\"Eswatini\",\"Eswatini\",\"Eswatini\",\"Seychelles\",\"Seychelles\",\"Chad\",\"Chad\",\"Chad\",\"Chad\",\"Togo\",\"Togo\",\"Togo\",\"Togo\",\"Tanzania\",\"Tanzania\",\"Uganda\",\"Uganda\",\"Uganda\",\"South Africa\",\"South Africa\",\"South Africa\",\"Zambia\",\"Zambia\",\"Zambia\",\"Zambia\",\"Zimbabwe\",\"Zimbabwe\"],\"y\":[5.36555508,28.28505574,33.49321036,54.25286316,6.36949565,6.01945299,10.43094475,10.33014331,9.10614845,13.63776869,15.55759509,14.28518296,6.09032125,11.42022631,15.74289494,87.29575605,98.1711161,4.90135866,8.31152591,11.88384894,9.41336493,46.04756982,53.33010352,56.36825796,39.33674366,22.86322421,32.30732729,38.99174858,39.8094229,5.79263399,8.69540561,16.87773167,24.79833792,21.38018386,45.21186574,46.41014877,44.06326509,2.28931226,8.06709831,13.50965767,78.38731304,77.35082227,79.02572098,18.24164396,25.39234833,32.22670946,15.29643226,14.11091031,16.12875048,30.90018468,8.38113912,5.93626869,8.36248405,7.05475749,16.15212024,37.72093324,12.10070934,16.6966074,24.58445426,29.0961118,9.28596532,14.01943123,17.35675136,6.09617956,6.57095372,7.33698183,10.43243399,14.96492092,19.3904633,11.22333425,2.35534424,2.18157505,7.24464045,54.93170951,102.34526085,198.14694438,294.87740594,5.27743899,6.36926879,93.41639349,231.51353914,254.54414556,6.16438326,14.72074287,14.1496588,72.02040296,3.29606676,11.26635484,13.07634239,10.07939773,23.76941603,13.16868644,18.23411176,30.13409573,30.67831456,17.7519438,21.7050767,28.24533653,28.65997935,17.46079896,14.7833323,34.71334706,72.3732513,90.38565049,172.33775673,192.70412508,6.00771386,19.3270201,26.54245483,21.66391811,9.77735089,13.90895267,21.91453596,24.98377714,9.85045563,12.31982897,7.26333607,20.0776561,16.50463554,199.59613784,260.57376768,207.79181863,12.98572166,18.33799201,17.59175004,9.79281313,45.93941672,59.14794047],\"z\":[556.83618223535,1902.42214975937,3497.9744877961,3127.89059784461,136.46397080034,151.681566343002,234.235538877634,305.511144099475,512.673901962619,822.785143124704,1036.53451502404,1076.79669785585,457.933430763383,647.836095537879,653.32726813947,5513.33106259322,6402.91018338391,251.832764026789,331.294821098185,488.421735800876,377.422917680195,1007.46738950787,1309.59165283165,1701.47570153451,1972.54568305836,681.102042961201,1100.17492617744,1352.30227450638,1382.5097900241,334.02157774666,497.317039077365,1835.60990812416,3076.55644910171,2448.52377758887,1242.58560784999,3378.3234334576,3043.03138156811,124.460790874921,341.554122699663,640.541923075422,4135.99238007722,8849.32260799167,7384.70070393071,492.54405617264,1299.34521164062,1774.07477092508,363.482279266615,322.415540033465,672.424930359396,769.255475432822,594.149388499649,665.720215700547,860.636433851486,660.723571244322,558.174668134758,603.399381547733,397.482658777519,511.616394301253,1080.29618449063,1464.55400904329,436.488137266071,842.812630961302,1146.06468787308,293.607157402594,319.537475081164,467.235431614314,270.54300662038,489.022855550956,710.274303600905,751.472889186889,416.809824183966,471.904360009894,589.85943137707,3929.07549503364,5282.90602155635,8000.37643182154,9260.44730250635,478.668688469613,380.596987683774,2185.60411519312,5394.99671166874,4896.61526001377,197.832683441643,476.869532167304,484.153137350801,2687.48005643212,260.607654653932,609.754297393961,751.110505478611,366.172729492188,914.16650390625,613.732384491775,992.688058138543,1271.58328084525,1219.24941513302,138.698722497148,292.349066330563,401.834876099443,866.504995638803,1090.26076257543,1584.77565743788,1728.71049762741,3083.83814075588,4168.48940292685,10804.7232956282,15157.5018256876,166.175708881786,658.566973042801,892.568869694168,776.019752284262,302.958591951416,406.562366042383,534.04478262418,570.909967175308,492.63134765625,743.403686523438,261.869141644962,822.539372481326,847.267628934983,6033.10149088554,8148.9612020223,6259.83968110571,345.689620749861,702.741118447779,1489.45908689417,1338.29092708188,948.331481033457,1445.06970213198],\"type\":\"scatter3d\"},{\"hovertemplate\":\"Region=Europe and Central Asia<br>Country Name=%{x}<br>Population=%{y}<br>GDP per capita=%{marker.size}<extra></extra>\",\"legendgroup\":\"Europe and Central Asia\",\"marker\":{\"color\":\"#00cc96\",\"size\":[1126.68334010717,2673.78658429559,3952.80253807527,1643.75688889146,3218.37829927419,3607.28929855361,24625.6007227434,38417.4577857677,46903.7615854343,44195.8175947748,655.119945170816,1578.40239029603,5843.5337683582,5500.31038244408,36809.7013403619,44184.946353964,41008.296719472,3899.90763774017,6853.00285388669,3125.81053502853,6033.6862392722,5967.05220384914,38952.0342005572,56546.7856553987,77117.126014204,84776.1421659748,14388.34765625,24959.259765625,31023.638671875,23408.3359375,6029.03819275358,13430.6698955613,19960.0684872157,17829.6983223668,41572.4559481507,41103.2564363768,30743.5476816354,48799.8256011275,58041.3984363385,14749.6874248766,26429.1509449319,30532.4805081656,25742.3688346767,4070.60902410208,10412.6443137966,14663.0446126465,17402.0376128079,24345.9148217032,39054.8504423825,46505.3031791811,42801.9081167285,28223.0675706515,42132.0907219815,39688.6149684498,45404.5677734722,749.908534993961,1642.76093756395,12072.9293569196,22560.1472939077,18083.8779056547,14067.5231191915,4624.28165670295,11225.9325815328,13223.0830027699,12720.7120220668,26334.5672050501,50933.0216095589,48655.3661626634,62012.4849258149,32096.3722613695,56794.8501588953,43237.0729488958,52951.6815110898,20137.5912217673,32055.0920757503,36035.6449950691,30242.3861352184,3771.27895733845,10510.7718884149,279.619569260939,476.552129968975,880.037775119109,1121.08283510739,7854.76527867855,11987.508411647,14263.9645773495,105462.012584423,3361.64086880275,11420.9940032836,13786.4567953114,440.672030653269,1034.70705816743,2437.53768326452,2732.46072997894,26214.498549887,41994.7135305232,50999.7451168879,45193.4032187971,38131.4606116242,66810.478520868,87693.7900658099,74355.5158575643,4501.45406742273,8021.50574346795,12613.0109954681,12578.4954734362,11526.3720667968,18780.12751241,22520.6423124045,19250.1065376852,1659.90763954548,4617.92901643258,8214.07689289811,8969.14892146193,1771.59411621094,5323.462890625,9313.013671875,5735.42285659849,5588.98072768556,5426.62428119306,11690.1134689407,16841.7677398734,16342.2162621093,18098.9085440003,23532.4808545468,20890.1664304173,29624.9126748618,43437.0631164776,52869.0442891587,51545.4836095322,138.429146735759,340.583183232527,749.552412285997,978.404981180605,4337.47800296354,658.3486328125,1894.47082519531,2124.66235351563,2753.97107219949],\"sizemode\":\"area\",\"sizeref\":263.6550314610575,\"symbol\":\"circle\"},\"mode\":\"markers\",\"name\":\"Europe and Central Asia\",\"scene\":\"scene\",\"showlegend\":true,\"x\":[\"Albania\",\"Albania\",\"Albania\",\"Armenia\",\"Armenia\",\"Armenia\",\"Austria\",\"Austria\",\"Austria\",\"Austria\",\"Azerbaijan\",\"Azerbaijan\",\"Azerbaijan\",\"Azerbaijan\",\"Belgium\",\"Belgium\",\"Belgium\",\"Bulgaria\",\"Bulgaria\",\"Belarus\",\"Belarus\",\"Belarus\",\"Switzerland\",\"Switzerland\",\"Switzerland\",\"Switzerland\",\"Cyprus\",\"Cyprus\",\"Cyprus\",\"Cyprus\",\"Czechia\",\"Czechia\",\"Czechia\",\"Czechia\",\"Germany\",\"Germany\",\"Denmark\",\"Denmark\",\"Denmark\",\"Spain\",\"Spain\",\"Spain\",\"Spain\",\"Estonia\",\"Estonia\",\"Estonia\",\"Estonia\",\"Finland\",\"Finland\",\"Finland\",\"Finland\",\"United Kingdom\",\"United Kingdom\",\"United Kingdom\",\"United Kingdom\",\"Georgia\",\"Georgia\",\"Greece\",\"Greece\",\"Greece\",\"Croatia\",\"Hungary\",\"Hungary\",\"Hungary\",\"Hungary\",\"Ireland\",\"Ireland\",\"Ireland\",\"Ireland\",\"Iceland\",\"Iceland\",\"Iceland\",\"Iceland\",\"Italy\",\"Italy\",\"Italy\",\"Italy\",\"Kazakhstan\",\"Kazakhstan\",\"Kyrgyz Republic\",\"Kyrgyz Republic\",\"Kyrgyz Republic\",\"Kyrgyz Republic\",\"Lithuania\",\"Lithuania\",\"Lithuania\",\"Luxembourg\",\"Latvia\",\"Latvia\",\"Latvia\",\"Moldova\",\"Moldova\",\"Moldova\",\"Moldova\",\"Netherlands\",\"Netherlands\",\"Netherlands\",\"Netherlands\",\"Norway\",\"Norway\",\"Norway\",\"Norway\",\"Poland\",\"Poland\",\"Poland\",\"Poland\",\"Portugal\",\"Portugal\",\"Portugal\",\"Portugal\",\"Romania\",\"Romania\",\"Romania\",\"Romania\",\"Russian Federation\",\"Russian Federation\",\"Russian Federation\",\"Serbia\",\"Serbia\",\"Slovak Republic\",\"Slovak Republic\",\"Slovak Republic\",\"Slovak Republic\",\"Slovenia\",\"Slovenia\",\"Slovenia\",\"Sweden\",\"Sweden\",\"Sweden\",\"Sweden\",\"Tajikistan\",\"Tajikistan\",\"Tajikistan\",\"Tajikistan\",\"Turkiye\",\"Ukraine\",\"Ukraine\",\"Ukraine\",\"Uzbekistan\"],\"y\":[48.69450448,86.81703828,83.49495732,60.80376976,231.87482023,302.93554396,586.26494905,1014.73097696,1325.22504677,1270.55566366,13.13273335,20.52321089,84.47678003,152.77849988,872.62887485,1089.41598102,1033.92438365,108.24201054,216.9423661,50.42561896,108.26445526,140.83690529,2542.91744618,3912.29502499,5211.58743974,6397.48435229,438.23659668,792.22160397,1091.15992386,894.74642566,38.73616224,125.96869298,231.81296909,228.13707059,1120.70205753,1065.21984195,421.64810754,722.21158443,969.07615746,287.9344254,586.04994848,712.89531032,673.82252373,50.73545959,133.96086663,222.34503656,272.38504896,418.04681372,716.52446314,911.5267556,884.67042658,472.36079713,664.54517395,696.81350055,894.62872586,42.2246647,102.20431738,339.76360756,757.96055824,602.52261989,186.87639988,97.54484172,267.14810862,328.10764109,280.43536432,351.86211289,832.2244064,1222.9041589,1276.77984759,558.3044448,971.11791493,722.91484883,821.43145104,417.06024285,602.75504894,693.29505019,684.02423826,50.59951145,117.32389985,6.34753853,15.37359399,26.48136111,43.7196369,172.10622289,231.44303198,309.36539925,765.01574184,89.41771466,274.31158195,320.77130262,10.08544122,34.03249534,83.62017094,87.96360274,627.9333852,1207.38432948,1699.68984673,1586.33907695,540.17066848,946.54039499,1200.01637085,1095.90027851,75.64861262,146.57018538,231.83530099,246.24087417,300.81103545,527.19318736,755.40985519,685.23654537,14.49606241,50.41336326,94.57593435,97.54519708,38.58432394,105.3724807,205.6048489,207.76701706,205.87700933,25.47631577,149.49778231,376.05457995,235.74444979,402.56093793,557.43979046,508.70505304,337.37917707,628.18773816,773.34422565,897.97304881,4.72634934,12.00400887,30.30720555,40.36810153,76.45621357,18.45778165,47.74009826,80.26514655,64.39177202],\"z\":[1126.68334010717,2673.78658429559,3952.80253807527,1643.75688889146,3218.37829927419,3607.28929855361,24625.6007227434,38417.4577857677,46903.7615854343,44195.8175947748,655.119945170816,1578.40239029603,5843.5337683582,5500.31038244408,36809.7013403619,44184.946353964,41008.296719472,3899.90763774017,6853.00285388669,3125.81053502853,6033.6862392722,5967.05220384914,38952.0342005572,56546.7856553987,77117.126014204,84776.1421659748,14388.34765625,24959.259765625,31023.638671875,23408.3359375,6029.03819275358,13430.6698955613,19960.0684872157,17829.6983223668,41572.4559481507,41103.2564363768,30743.5476816354,48799.8256011275,58041.3984363385,14749.6874248766,26429.1509449319,30532.4805081656,25742.3688346767,4070.60902410208,10412.6443137966,14663.0446126465,17402.0376128079,24345.9148217032,39054.8504423825,46505.3031791811,42801.9081167285,28223.0675706515,42132.0907219815,39688.6149684498,45404.5677734722,749.908534993961,1642.76093756395,12072.9293569196,22560.1472939077,18083.8779056547,14067.5231191915,4624.28165670295,11225.9325815328,13223.0830027699,12720.7120220668,26334.5672050501,50933.0216095589,48655.3661626634,62012.4849258149,32096.3722613695,56794.8501588953,43237.0729488958,52951.6815110898,20137.5912217673,32055.0920757503,36035.6449950691,30242.3861352184,3771.27895733845,10510.7718884149,279.619569260939,476.552129968975,880.037775119109,1121.08283510739,7854.76527867855,11987.508411647,14263.9645773495,105462.012584423,3361.64086880275,11420.9940032836,13786.4567953114,440.672030653269,1034.70705816743,2437.53768326452,2732.46072997894,26214.498549887,41994.7135305232,50999.7451168879,45193.4032187971,38131.4606116242,66810.478520868,87693.7900658099,74355.5158575643,4501.45406742273,8021.50574346795,12613.0109954681,12578.4954734362,11526.3720667968,18780.12751241,22520.6423124045,19250.1065376852,1659.90763954548,4617.92901643258,8214.07689289811,8969.14892146193,1771.59411621094,5323.462890625,9313.013671875,5735.42285659849,5588.98072768556,5426.62428119306,11690.1134689407,16841.7677398734,16342.2162621093,18098.9085440003,23532.4808545468,20890.1664304173,29624.9126748618,43437.0631164776,52869.0442891587,51545.4836095322,138.429146735759,340.583183232527,749.552412285997,978.404981180605,4337.47800296354,658.3486328125,1894.47082519531,2124.66235351563,2753.97107219949],\"type\":\"scatter3d\"},{\"hovertemplate\":\"Region=Latin America & the Caribbean<br>Country Name=%{x}<br>Population=%{y}<br>GDP per capita=%{marker.size}<extra></extra>\",\"legendgroup\":\"Latin America & the Caribbean\",\"marker\":{\"color\":\"#ab63fa\",\"size\":[7708.09911454041,5109.85224490403,10385.9644319555,13789.060424772,27098.1563186767,30279.3922080481,28443.8884756689,31699.3586317477,3364.49173102584,4304.11110815138,4805.19685237279,1955.460180975,3035.97165495107,3749.91084752888,4790.45656586131,11286.071540212,8813.98980647828,11268.4200640121,13822.7417486972,16056.1168470231,16558.8647849868,5100.25413288222,7558.37175410092,12724.10406267,13495.0106099649,2520.48108876016,3414.46515834714,6336.70947398466,6175.87602970258,3789.05388636246,8227.12749376825,11642.7780517123,2869.17813861021,5555.39201393816,6921.52059432776,1445.27932442901,4633.59128443099,6124.49088707134,2852.54732650116,3994.63691288475,954.400318095334,1105.50682477118,4580.69876204788,5576.82585151355,2302.20441093316,1386.85419078846,3392.12387809462,4103.6016371324,4704.04775962425,4907.927415189,6949.20417333029,8540.07097992462,10093.6180163617,7157.81449985734,8277.67156384567,9271.39839576997,9616.64555810607,1007.499838655,1503.87223074992,2049.8516660809,4060.31779345702,13630.3011472878,1955.58800627896,2729.49917213529,5082.35370614454,6229.10067398112,1663.60493919986,4342.06584459985,5413.77602061858,2001.54004887966,2428.56887928932,2983.2288061357,3705.57970353453,9168.23715664009,6435.13421201268,18383.5386974985,6875.02546946372,5226.94409982496,11992.0237658273,15613.7459681824,3970.29362248818,5339.3935508934,6654.79290746741],\"sizemode\":\"area\",\"sizeref\":263.6550314610575,\"symbol\":\"circle\"},\"mode\":\"markers\",\"name\":\"Latin America & the Caribbean\",\"scene\":\"scene\",\"showlegend\":true,\"x\":[\"Argentina\",\"Argentina\",\"Argentina\",\"Argentina\",\"Bahamas, The\",\"Bahamas, The\",\"Bahamas, The\",\"Bahamas, The\",\"Belize\",\"Belize\",\"Belize\",\"Bolivia\",\"Bolivia\",\"Brazil\",\"Brazil\",\"Brazil\",\"Brazil\",\"Barbados\",\"Barbados\",\"Barbados\",\"Barbados\",\"Chile\",\"Chile\",\"Chile\",\"Chile\",\"Colombia\",\"Colombia\",\"Colombia\",\"Colombia\",\"Costa Rica\",\"Costa Rica\",\"Costa Rica\",\"Dominican Republic\",\"Dominican Republic\",\"Dominican Republic\",\"Ecuador\",\"Ecuador\",\"Ecuador\",\"Guatemala\",\"Guatemala\",\"Guyana\",\"Guyana\",\"Guyana\",\"Guyana\",\"Honduras\",\"Haiti\",\"Jamaica\",\"Jamaica\",\"Jamaica\",\"Jamaica\",\"St. Lucia\",\"St. Lucia\",\"St. Lucia\",\"Mexico\",\"Mexico\",\"Mexico\",\"Mexico\",\"Nicaragua\",\"Nicaragua\",\"Nicaragua\",\"Panama\",\"Panama\",\"Peru\",\"Peru\",\"Peru\",\"Peru\",\"Paraguay\",\"Paraguay\",\"Paraguay\",\"El Salvador\",\"El Salvador\",\"El Salvador\",\"El Salvador\",\"Suriname\",\"Trinidad and Tobago\",\"Trinidad and Tobago\",\"Uruguay\",\"Uruguay\",\"Uruguay\",\"Uruguay\",\"St. Vincent and the Grenadines\",\"St. Vincent and the Grenadines\",\"St. Vincent and the Grenadines\"],\"y\":[320.63082775,186.0785116,401.21882204,505.42655876,616.21510393,733.92531538,812.67088944,900.67246677,61.6104022,74.27532996,82.47186504,38.29264168,62.02007804,181.41732604,224.41961186,490.78749798,444.95777814,289.2686165,389.40846904,481.34375363,571.46324012,229.18958351,303.67887855,458.90183328,585.84673361,33.81672609,56.40914357,124.17465504,135.52916104,84.48972807,181.49171917,241.1979502,88.48226182,168.32271469,206.79623186,32.89721223,147.30376161,193.63724295,110.64300482,138.78116453,27.95281098,33.22696399,61.43848764,82.21481167,95.76490436,25.6593769,82.8906621,92.33444705,100.33113057,97.52197156,218.83407275,266.19738978,257.18919941,174.46147525,279.05254142,264.78124621,263.05719704,25.03537578,46.0312838,61.49630405,91.44494513,340.81080976,39.2978598,53.32977965,113.56249159,121.60139812,58.51387321,142.73394267,190.2143013,97.57114343,95.39926262,90.82721452,95.17898146,240.75819925,174.64107638,536.06389824,401.9714611,241.4720469,411.79502738,444.12544895,47.55922497,75.78358431,101.8936938],\"z\":[7708.09911454041,5109.85224490403,10385.9644319555,13789.060424772,27098.1563186767,30279.3922080481,28443.8884756689,31699.3586317477,3364.49173102584,4304.11110815138,4805.19685237279,1955.460180975,3035.97165495107,3749.91084752888,4790.45656586131,11286.071540212,8813.98980647828,11268.4200640121,13822.7417486972,16056.1168470231,16558.8647849868,5100.25413288222,7558.37175410092,12724.10406267,13495.0106099649,2520.48108876016,3414.46515834714,6336.70947398466,6175.87602970258,3789.05388636246,8227.12749376825,11642.7780517123,2869.17813861021,5555.39201393816,6921.52059432776,1445.27932442901,4633.59128443099,6124.49088707134,2852.54732650116,3994.63691288475,954.400318095334,1105.50682477118,4580.69876204788,5576.82585151355,2302.20441093316,1386.85419078846,3392.12387809462,4103.6016371324,4704.04775962425,4907.927415189,6949.20417333029,8540.07097992462,10093.6180163617,7157.81449985734,8277.67156384567,9271.39839576997,9616.64555810607,1007.499838655,1503.87223074992,2049.8516660809,4060.31779345702,13630.3011472878,1955.58800627896,2729.49917213529,5082.35370614454,6229.10067398112,1663.60493919986,4342.06584459985,5413.77602061858,2001.54004887966,2428.56887928932,2983.2288061357,3705.57970353453,9168.23715664009,6435.13421201268,18383.5386974985,6875.02546946372,5226.94409982496,11992.0237658273,15613.7459681824,3970.29362248818,5339.3935508934,6654.79290746741],\"type\":\"scatter3d\"},{\"hovertemplate\":\"Region=East Asia and Pacific<br>Country Name=%{x}<br>Population=%{y}<br>GDP per capita=%{marker.size}<extra></extra>\",\"legendgroup\":\"East Asia and Pacific\",\"marker\":{\"color\":\"#FFA15A\",\"size\":[21697.7084797731,34080.9998953245,52087.9722888891,56707.0220772116,18012.5021948953,35270.6421390658,1753.41782926104,4550.45310775599,8016.43143498003,2069.31745471458,3627.63285585254,3652.53593320954,5390.71420703085,2171.88957683534,2906.61701228808,1263.28733171098,3122.36267319362,3331.69511469189,300.613679010462,785.50266705782,796.803203566513,1535.16278257963,23087.2256438476,325.186937142965,475.610796203932,1141.23570253091,746.945359978558,1196.74333308526,474.217094319837,2643.28708316435,3875.32167504717,4043.66292312877,9040.56849464524,9955.24272167626,27751.0654708859,33676.7741239925,38630.7265886928,1072.80175248718,1244.34874065936,3001.04318170863,7657.95121440536,23852.3270285975,29961.2632774569,47236.9602345421,55646.6187469505,1604.14888755803,2167.15539406206,2007.7352707452,2894.06265596401,5076.33987220163,5840.05306687798,806.41434929681,1332.79185551378,2091.11300904714,1673.3292888042,2581.62244157361,1470.63586995743,2695.66618597973,1483.80741460389,3566.45833371884,4073.72908299755],\"sizemode\":\"area\",\"sizeref\":263.6550314610575,\"symbol\":\"circle\"},\"mode\":\"markers\",\"name\":\"East Asia and Pacific\",\"scene\":\"scene\",\"showlegend\":true,\"x\":[\"Australia\",\"Australia\",\"Australia\",\"Australia\",\"Brunei Darussalam\",\"Brunei Darussalam\",\"China\",\"China\",\"China\",\"Fiji\",\"Fiji\",\"Fiji\",\"Fiji\",\"Micronesia, Fed. Sts.\",\"Micronesia, Fed. Sts.\",\"Indonesia\",\"Indonesia\",\"Indonesia\",\"Cambodia\",\"Cambodia\",\"Kiribati\",\"Kiribati\",\"Korea, Rep.\",\"Lao PDR\",\"Lao PDR\",\"Lao PDR\",\"Myanmar\",\"Myanmar\",\"Mongolia\",\"Mongolia\",\"Mongolia\",\"Malaysia\",\"Malaysia\",\"Malaysia\",\"New Zealand\",\"New Zealand\",\"New Zealand\",\"Philippines\",\"Philippines\",\"Philippines\",\"Palau\",\"Singapore\",\"Singapore\",\"Singapore\",\"Singapore\",\"Solomon Islands\",\"Solomon Islands\",\"Thailand\",\"Thailand\",\"Thailand\",\"Thailand\",\"Timor-Leste\",\"Timor-Leste\",\"Tonga\",\"Vietnam\",\"Vietnam\",\"Vanuatu\",\"Vanuatu\",\"Samoa\",\"Samoa\",\"Samoa\"],\"y\":[461.55053709,848.56129325,1366.94320432,1534.69104637,80.50988416,66.3821619,48.17227011,89.46375706,155.30195835,11.78919471,22.04019964,40.27114318,61.53289736,8.93372563,9.31704853,24.16303676,65.7542065,58.36979907,15.40594758,35.99677371,2.28689628,5.01877953,555.27116364,8.82432405,9.30493105,21.88963838,15.82786422,43.46842618,6.64507654,29.92333783,65.15480884,59.07546448,136.21764529,177.65927611,529.08646122,698.86586513,906.50143943,17.06588774,29.1938668,71.22968562,144.6073855,507.6116438,609.11919734,959.73563153,1218.59701283,2.82989815,2.9821675,27.89703585,33.13270412,44.91136123,53.05374044,6.19099918,11.53554872,13.21575677,45.71716244,66.03815805,5.14028751,12.17368391,7.60523097,25.89630315,27.64481537],\"z\":[21697.7084797731,34080.9998953245,52087.9722888891,56707.0220772116,18012.5021948953,35270.6421390658,1753.41782926104,4550.45310775599,8016.43143498003,2069.31745471458,3627.63285585254,3652.53593320954,5390.71420703085,2171.88957683534,2906.61701228808,1263.28733171098,3122.36267319362,3331.69511469189,300.613679010462,785.50266705782,796.803203566513,1535.16278257963,23087.2256438476,325.186937142965,475.610796203932,1141.23570253091,746.945359978558,1196.74333308526,474.217094319837,2643.28708316435,3875.32167504717,4043.66292312877,9040.56849464524,9955.24272167626,27751.0654708859,33676.7741239925,38630.7265886928,1072.80175248718,1244.34874065936,3001.04318170863,7657.95121440536,23852.3270285975,29961.2632774569,47236.9602345421,55646.6187469505,1604.14888755803,2167.15539406206,2007.7352707452,2894.06265596401,5076.33987220163,5840.05306687798,806.41434929681,1332.79185551378,2091.11300904714,1673.3292888042,2581.62244157361,1470.63586995743,2695.66618597973,1483.80741460389,3566.45833371884,4073.72908299755],\"type\":\"scatter3d\"},{\"hovertemplate\":\"Region=Middle East and North Africa<br>Country Name=%{x}<br>Population=%{y}<br>GDP per capita=%{marker.size}<extra></extra>\",\"legendgroup\":\"Middle East and North Africa\",\"marker\":{\"color\":\"#19d3f3\",\"size\":[20722.0704900745,22634.0856475674,768.183570343678,904.736679476444,1343.27512498519,2652.51322808034,1186.39331322717,2645.96875877924,3562.93265798423,1670.0096735653,3246.05112244352,6599.66093791004,5200.68078673413,4688.31801743466,21061.4822833993,20585.1386127162,30780.0238155167,35808.4364289727,2183.39464250953,3736.64546207921,4164.10876894014,35591.0371337921,38577.4982788212,29869.552753237,4575.10745896031,7761.64148945415,7643.00871833192,21799.1742559798,24921.6036820869,8601.27194448996,12377.0800076389,29976.1676344676,51455.9509428993,67403.0876779676,9171.33147630515,13791.454761932,2211.8350154787,3193.20435786446,4344.61941760278,4094.84160230737,554.448665276054,1334.78490225941],\"sizemode\":\"area\",\"sizeref\":263.6550314610575,\"symbol\":\"circle\"},\"mode\":\"markers\",\"name\":\"Middle East and North Africa\",\"scene\":\"scene\",\"showlegend\":true,\"x\":[\"Bahrain\",\"Bahrain\",\"Djibouti\",\"Djibouti\",\"Djibouti\",\"Djibouti\",\"Egypt, Arab Rep.\",\"Egypt, Arab Rep.\",\"Egypt, Arab Rep.\",\"Iran, Islamic Rep.\",\"Iran, Islamic Rep.\",\"Iran, Islamic Rep.\",\"Iran, Islamic Rep.\",\"Iraq\",\"Israel\",\"Israel\",\"Israel\",\"Israel\",\"Jordan\",\"Jordan\",\"Jordan\",\"Kuwait\",\"Kuwait\",\"Kuwait\",\"Lebanon\",\"Lebanon\",\"Lebanon\",\"Malta\",\"Malta\",\"Oman\",\"Oman\",\"Qatar\",\"Qatar\",\"Qatar\",\"Saudi Arabia\",\"Saudi Arabia\",\"Tunisia\",\"Tunisia\",\"Tunisia\",\"Tunisia\",\"Yemen, Rep.\",\"Yemen, Rep.\"],\"y\":[294.88814479,396.36617505,16.616103,17.30886212,16.60064131,17.90697349,42.457336,75.22799026,125.75111181,50.36730041,110.37800962,301.46119681,181.76352484,119.96439481,523.37484945,591.31449162,802.49225318,939.4390798,87.82154519,87.86404466,141.85545882,170.46367822,163.26651687,190.65027835,211.05306517,340.17879501,294.48048509,614.14100406,878.43102702,48.08737485,56.53700303,243.76421795,331.64465988,349.85782764,107.95023301,129.58135791,52.73721603,84.64833954,104.91336946,117.55604467,11.87789358,51.68709842],\"z\":[20722.0704900745,22634.0856475674,768.183570343678,904.736679476444,1343.27512498519,2652.51322808034,1186.39331322717,2645.96875877924,3562.93265798423,1670.0096735653,3246.05112244352,6599.66093791004,5200.68078673413,4688.31801743466,21061.4822833993,20585.1386127162,30780.0238155167,35808.4364289727,2183.39464250953,3736.64546207921,4164.10876894014,35591.0371337921,38577.4982788212,29869.552753237,4575.10745896031,7761.64148945415,7643.00871833192,21799.1742559798,24921.6036820869,8601.27194448996,12377.0800076389,29976.1676344676,51455.9509428993,67403.0876779676,9171.33147630515,13791.454761932,2211.8350154787,3193.20435786446,4344.61941760278,4094.84160230737,554.448665276054,1334.78490225941],\"type\":\"scatter3d\"},{\"hovertemplate\":\"Region=North America<br>Country Name=%{x}<br>Population=%{y}<br>GDP per capita=%{marker.size}<extra></extra>\",\"legendgroup\":\"North America\",\"marker\":{\"color\":\"#FF6692\",\"size\":[24271.0020563821,36382.5079164537,47562.0834253057,56762.7294515989],\"sizemode\":\"area\",\"sizeref\":263.6550314610575,\"symbol\":\"circle\"},\"mode\":\"markers\",\"name\":\"North America\",\"scene\":\"scene\",\"showlegend\":true,\"x\":[\"Canada\",\"Canada\",\"Canada\",\"United States\"],\"y\":[545.1067658,888.88368016,1524.58514472,4587.77368905],\"z\":[24271.0020563821,36382.5079164537,47562.0834253057,56762.7294515989],\"type\":\"scatter3d\"}],                        {\"template\":{\"data\":{\"bar\":[{\"error_x\":{\"color\":\"#2a3f5f\"},\"error_y\":{\"color\":\"#2a3f5f\"},\"marker\":{\"line\":{\"color\":\"#E5ECF6\",\"width\":0.5},\"pattern\":{\"fillmode\":\"overlay\",\"size\":10,\"solidity\":0.2}},\"type\":\"bar\"}],\"barpolar\":[{\"marker\":{\"line\":{\"color\":\"#E5ECF6\",\"width\":0.5},\"pattern\":{\"fillmode\":\"overlay\",\"size\":10,\"solidity\":0.2}},\"type\":\"barpolar\"}],\"carpet\":[{\"aaxis\":{\"endlinecolor\":\"#2a3f5f\",\"gridcolor\":\"white\",\"linecolor\":\"white\",\"minorgridcolor\":\"white\",\"startlinecolor\":\"#2a3f5f\"},\"baxis\":{\"endlinecolor\":\"#2a3f5f\",\"gridcolor\":\"white\",\"linecolor\":\"white\",\"minorgridcolor\":\"white\",\"startlinecolor\":\"#2a3f5f\"},\"type\":\"carpet\"}],\"choropleth\":[{\"colorbar\":{\"outlinewidth\":0,\"ticks\":\"\"},\"type\":\"choropleth\"}],\"contour\":[{\"colorbar\":{\"outlinewidth\":0,\"ticks\":\"\"},\"colorscale\":[[0.0,\"#0d0887\"],[0.1111111111111111,\"#46039f\"],[0.2222222222222222,\"#7201a8\"],[0.3333333333333333,\"#9c179e\"],[0.4444444444444444,\"#bd3786\"],[0.5555555555555556,\"#d8576b\"],[0.6666666666666666,\"#ed7953\"],[0.7777777777777778,\"#fb9f3a\"],[0.8888888888888888,\"#fdca26\"],[1.0,\"#f0f921\"]],\"type\":\"contour\"}],\"contourcarpet\":[{\"colorbar\":{\"outlinewidth\":0,\"ticks\":\"\"},\"type\":\"contourcarpet\"}],\"heatmap\":[{\"colorbar\":{\"outlinewidth\":0,\"ticks\":\"\"},\"colorscale\":[[0.0,\"#0d0887\"],[0.1111111111111111,\"#46039f\"],[0.2222222222222222,\"#7201a8\"],[0.3333333333333333,\"#9c179e\"],[0.4444444444444444,\"#bd3786\"],[0.5555555555555556,\"#d8576b\"],[0.6666666666666666,\"#ed7953\"],[0.7777777777777778,\"#fb9f3a\"],[0.8888888888888888,\"#fdca26\"],[1.0,\"#f0f921\"]],\"type\":\"heatmap\"}],\"heatmapgl\":[{\"colorbar\":{\"outlinewidth\":0,\"ticks\":\"\"},\"colorscale\":[[0.0,\"#0d0887\"],[0.1111111111111111,\"#46039f\"],[0.2222222222222222,\"#7201a8\"],[0.3333333333333333,\"#9c179e\"],[0.4444444444444444,\"#bd3786\"],[0.5555555555555556,\"#d8576b\"],[0.6666666666666666,\"#ed7953\"],[0.7777777777777778,\"#fb9f3a\"],[0.8888888888888888,\"#fdca26\"],[1.0,\"#f0f921\"]],\"type\":\"heatmapgl\"}],\"histogram\":[{\"marker\":{\"pattern\":{\"fillmode\":\"overlay\",\"size\":10,\"solidity\":0.2}},\"type\":\"histogram\"}],\"histogram2d\":[{\"colorbar\":{\"outlinewidth\":0,\"ticks\":\"\"},\"colorscale\":[[0.0,\"#0d0887\"],[0.1111111111111111,\"#46039f\"],[0.2222222222222222,\"#7201a8\"],[0.3333333333333333,\"#9c179e\"],[0.4444444444444444,\"#bd3786\"],[0.5555555555555556,\"#d8576b\"],[0.6666666666666666,\"#ed7953\"],[0.7777777777777778,\"#fb9f3a\"],[0.8888888888888888,\"#fdca26\"],[1.0,\"#f0f921\"]],\"type\":\"histogram2d\"}],\"histogram2dcontour\":[{\"colorbar\":{\"outlinewidth\":0,\"ticks\":\"\"},\"colorscale\":[[0.0,\"#0d0887\"],[0.1111111111111111,\"#46039f\"],[0.2222222222222222,\"#7201a8\"],[0.3333333333333333,\"#9c179e\"],[0.4444444444444444,\"#bd3786\"],[0.5555555555555556,\"#d8576b\"],[0.6666666666666666,\"#ed7953\"],[0.7777777777777778,\"#fb9f3a\"],[0.8888888888888888,\"#fdca26\"],[1.0,\"#f0f921\"]],\"type\":\"histogram2dcontour\"}],\"mesh3d\":[{\"colorbar\":{\"outlinewidth\":0,\"ticks\":\"\"},\"type\":\"mesh3d\"}],\"parcoords\":[{\"line\":{\"colorbar\":{\"outlinewidth\":0,\"ticks\":\"\"}},\"type\":\"parcoords\"}],\"pie\":[{\"automargin\":true,\"type\":\"pie\"}],\"scatter\":[{\"marker\":{\"colorbar\":{\"outlinewidth\":0,\"ticks\":\"\"}},\"type\":\"scatter\"}],\"scatter3d\":[{\"line\":{\"colorbar\":{\"outlinewidth\":0,\"ticks\":\"\"}},\"marker\":{\"colorbar\":{\"outlinewidth\":0,\"ticks\":\"\"}},\"type\":\"scatter3d\"}],\"scattercarpet\":[{\"marker\":{\"colorbar\":{\"outlinewidth\":0,\"ticks\":\"\"}},\"type\":\"scattercarpet\"}],\"scattergeo\":[{\"marker\":{\"colorbar\":{\"outlinewidth\":0,\"ticks\":\"\"}},\"type\":\"scattergeo\"}],\"scattergl\":[{\"marker\":{\"colorbar\":{\"outlinewidth\":0,\"ticks\":\"\"}},\"type\":\"scattergl\"}],\"scattermapbox\":[{\"marker\":{\"colorbar\":{\"outlinewidth\":0,\"ticks\":\"\"}},\"type\":\"scattermapbox\"}],\"scatterpolar\":[{\"marker\":{\"colorbar\":{\"outlinewidth\":0,\"ticks\":\"\"}},\"type\":\"scatterpolar\"}],\"scatterpolargl\":[{\"marker\":{\"colorbar\":{\"outlinewidth\":0,\"ticks\":\"\"}},\"type\":\"scatterpolargl\"}],\"scatterternary\":[{\"marker\":{\"colorbar\":{\"outlinewidth\":0,\"ticks\":\"\"}},\"type\":\"scatterternary\"}],\"surface\":[{\"colorbar\":{\"outlinewidth\":0,\"ticks\":\"\"},\"colorscale\":[[0.0,\"#0d0887\"],[0.1111111111111111,\"#46039f\"],[0.2222222222222222,\"#7201a8\"],[0.3333333333333333,\"#9c179e\"],[0.4444444444444444,\"#bd3786\"],[0.5555555555555556,\"#d8576b\"],[0.6666666666666666,\"#ed7953\"],[0.7777777777777778,\"#fb9f3a\"],[0.8888888888888888,\"#fdca26\"],[1.0,\"#f0f921\"]],\"type\":\"surface\"}],\"table\":[{\"cells\":{\"fill\":{\"color\":\"#EBF0F8\"},\"line\":{\"color\":\"white\"}},\"header\":{\"fill\":{\"color\":\"#C8D4E3\"},\"line\":{\"color\":\"white\"}},\"type\":\"table\"}]},\"layout\":{\"annotationdefaults\":{\"arrowcolor\":\"#2a3f5f\",\"arrowhead\":0,\"arrowwidth\":1},\"autotypenumbers\":\"strict\",\"coloraxis\":{\"colorbar\":{\"outlinewidth\":0,\"ticks\":\"\"}},\"colorscale\":{\"diverging\":[[0,\"#8e0152\"],[0.1,\"#c51b7d\"],[0.2,\"#de77ae\"],[0.3,\"#f1b6da\"],[0.4,\"#fde0ef\"],[0.5,\"#f7f7f7\"],[0.6,\"#e6f5d0\"],[0.7,\"#b8e186\"],[0.8,\"#7fbc41\"],[0.9,\"#4d9221\"],[1,\"#276419\"]],\"sequential\":[[0.0,\"#0d0887\"],[0.1111111111111111,\"#46039f\"],[0.2222222222222222,\"#7201a8\"],[0.3333333333333333,\"#9c179e\"],[0.4444444444444444,\"#bd3786\"],[0.5555555555555556,\"#d8576b\"],[0.6666666666666666,\"#ed7953\"],[0.7777777777777778,\"#fb9f3a\"],[0.8888888888888888,\"#fdca26\"],[1.0,\"#f0f921\"]],\"sequentialminus\":[[0.0,\"#0d0887\"],[0.1111111111111111,\"#46039f\"],[0.2222222222222222,\"#7201a8\"],[0.3333333333333333,\"#9c179e\"],[0.4444444444444444,\"#bd3786\"],[0.5555555555555556,\"#d8576b\"],[0.6666666666666666,\"#ed7953\"],[0.7777777777777778,\"#fb9f3a\"],[0.8888888888888888,\"#fdca26\"],[1.0,\"#f0f921\"]]},\"colorway\":[\"#636efa\",\"#EF553B\",\"#00cc96\",\"#ab63fa\",\"#FFA15A\",\"#19d3f3\",\"#FF6692\",\"#B6E880\",\"#FF97FF\",\"#FECB52\"],\"font\":{\"color\":\"#2a3f5f\"},\"geo\":{\"bgcolor\":\"white\",\"lakecolor\":\"white\",\"landcolor\":\"#E5ECF6\",\"showlakes\":true,\"showland\":true,\"subunitcolor\":\"white\"},\"hoverlabel\":{\"align\":\"left\"},\"hovermode\":\"closest\",\"mapbox\":{\"style\":\"light\"},\"paper_bgcolor\":\"white\",\"plot_bgcolor\":\"#E5ECF6\",\"polar\":{\"angularaxis\":{\"gridcolor\":\"white\",\"linecolor\":\"white\",\"ticks\":\"\"},\"bgcolor\":\"#E5ECF6\",\"radialaxis\":{\"gridcolor\":\"white\",\"linecolor\":\"white\",\"ticks\":\"\"}},\"scene\":{\"xaxis\":{\"backgroundcolor\":\"#E5ECF6\",\"gridcolor\":\"white\",\"gridwidth\":2,\"linecolor\":\"white\",\"showbackground\":true,\"ticks\":\"\",\"zerolinecolor\":\"white\"},\"yaxis\":{\"backgroundcolor\":\"#E5ECF6\",\"gridcolor\":\"white\",\"gridwidth\":2,\"linecolor\":\"white\",\"showbackground\":true,\"ticks\":\"\",\"zerolinecolor\":\"white\"},\"zaxis\":{\"backgroundcolor\":\"#E5ECF6\",\"gridcolor\":\"white\",\"gridwidth\":2,\"linecolor\":\"white\",\"showbackground\":true,\"ticks\":\"\",\"zerolinecolor\":\"white\"}},\"shapedefaults\":{\"line\":{\"color\":\"#2a3f5f\"}},\"ternary\":{\"aaxis\":{\"gridcolor\":\"white\",\"linecolor\":\"white\",\"ticks\":\"\"},\"baxis\":{\"gridcolor\":\"white\",\"linecolor\":\"white\",\"ticks\":\"\"},\"bgcolor\":\"#E5ECF6\",\"caxis\":{\"gridcolor\":\"white\",\"linecolor\":\"white\",\"ticks\":\"\"}},\"title\":{\"x\":0.05},\"xaxis\":{\"automargin\":true,\"gridcolor\":\"white\",\"linecolor\":\"white\",\"ticks\":\"\",\"title\":{\"standoff\":15},\"zerolinecolor\":\"white\",\"zerolinewidth\":2},\"yaxis\":{\"automargin\":true,\"gridcolor\":\"white\",\"linecolor\":\"white\",\"ticks\":\"\",\"title\":{\"standoff\":15},\"zerolinecolor\":\"white\",\"zerolinewidth\":2}}},\"scene\":{\"domain\":{\"x\":[0.0,1.0],\"y\":[0.0,1.0]},\"xaxis\":{\"title\":{\"text\":\"Country Name\"}},\"yaxis\":{\"title\":{\"text\":\"Population\"}},\"zaxis\":{\"title\":{\"text\":\"GDP per capita\"}}},\"legend\":{\"title\":{\"text\":\"Region\"},\"tracegroupgap\":0,\"itemsizing\":\"constant\"},\"margin\":{\"t\":60}},                        {\"responsive\": true}                    ).then(function(){\n",
       "                            \n",
       "var gd = document.getElementById('c1483848-4d6d-4784-b782-3a229066b519');\n",
       "var x = new MutationObserver(function (mutations, observer) {{\n",
       "        var display = window.getComputedStyle(gd).display;\n",
       "        if (!display || display === 'none') {{\n",
       "            console.log([gd, 'removed!']);\n",
       "            Plotly.purge(gd);\n",
       "            observer.disconnect();\n",
       "        }}\n",
       "}});\n",
       "\n",
       "// Listen for the removal of the full notebook cells\n",
       "var notebookContainer = gd.closest('#notebook-container');\n",
       "if (notebookContainer) {{\n",
       "    x.observe(notebookContainer, {childList: true});\n",
       "}}\n",
       "\n",
       "// Listen for the clearing of the current output cell\n",
       "var outputEl = gd.closest('.output');\n",
       "if (outputEl) {{\n",
       "    x.observe(outputEl, {childList: true});\n",
       "}}\n",
       "\n",
       "                        })                };                });            </script>        </div>"
      ]
     },
     "metadata": {},
     "output_type": "display_data"
    }
   ],
   "source": [
    "fig = px.scatter_3d(dataset, x=\"Country Name\", y=\"Population\", z=\"GDP per capita\", size = \"GDP per capita\", color =\"Region\")\n",
    "fig.show()"
   ]
  },
  {
   "cell_type": "code",
   "execution_count": 217,
   "metadata": {},
   "outputs": [],
   "source": [
    "s = wb.series.info()\n"
   ]
  },
  {
   "cell_type": "code",
   "execution_count": 218,
   "metadata": {},
   "outputs": [
    {
     "data": {
      "text/html": [
       "<div class=\"wbgapi\"><table>\n",
       "<thead>\n",
       "<tr><th>id  </th><th>value                                               </th><th>region  </th><th>incomeLevel  </th></tr>\n",
       "</thead>\n",
       "<tbody>\n",
       "<tr><td>ABW </td><td>Aruba                                               </td><td>LCN     </td><td>HIC          </td></tr>\n",
       "<tr><td>AFE </td><td>Africa Eastern and Southern                         </td><td>        </td><td>             </td></tr>\n",
       "<tr><td>AFG </td><td>Afghanistan                                         </td><td>SAS     </td><td>LIC          </td></tr>\n",
       "<tr><td>AFW </td><td>Africa Western and Central                          </td><td>        </td><td>             </td></tr>\n",
       "<tr><td>AGO </td><td>Angola                                              </td><td>SSF     </td><td>LMC          </td></tr>\n",
       "<tr><td>ALB </td><td>Albania                                             </td><td>ECS     </td><td>UMC          </td></tr>\n",
       "<tr><td>AND </td><td>Andorra                                             </td><td>ECS     </td><td>HIC          </td></tr>\n",
       "<tr><td>ARB </td><td>Arab World                                          </td><td>        </td><td>             </td></tr>\n",
       "<tr><td>ARE </td><td>United Arab Emirates                                </td><td>MEA     </td><td>HIC          </td></tr>\n",
       "<tr><td>ARG </td><td>Argentina                                           </td><td>LCN     </td><td>UMC          </td></tr>\n",
       "<tr><td>ARM </td><td>Armenia                                             </td><td>ECS     </td><td>UMC          </td></tr>\n",
       "<tr><td>ASM </td><td>American Samoa                                      </td><td>EAS     </td><td>UMC          </td></tr>\n",
       "<tr><td>ATG </td><td>Antigua and Barbuda                                 </td><td>LCN     </td><td>HIC          </td></tr>\n",
       "<tr><td>AUS </td><td>Australia                                           </td><td>EAS     </td><td>HIC          </td></tr>\n",
       "<tr><td>AUT </td><td>Austria                                             </td><td>ECS     </td><td>HIC          </td></tr>\n",
       "<tr><td>AZE </td><td>Azerbaijan                                          </td><td>ECS     </td><td>UMC          </td></tr>\n",
       "<tr><td>BDI </td><td>Burundi                                             </td><td>SSF     </td><td>LIC          </td></tr>\n",
       "<tr><td>BEL </td><td>Belgium                                             </td><td>ECS     </td><td>HIC          </td></tr>\n",
       "<tr><td>BEN </td><td>Benin                                               </td><td>SSF     </td><td>LMC          </td></tr>\n",
       "<tr><td>BFA </td><td>Burkina Faso                                        </td><td>SSF     </td><td>LIC          </td></tr>\n",
       "<tr><td>BGD </td><td>Bangladesh                                          </td><td>SAS     </td><td>LMC          </td></tr>\n",
       "<tr><td>BGR </td><td>Bulgaria                                            </td><td>ECS     </td><td>UMC          </td></tr>\n",
       "<tr><td>BHR </td><td>Bahrain                                             </td><td>MEA     </td><td>HIC          </td></tr>\n",
       "<tr><td>BHS </td><td>Bahamas, The                                        </td><td>LCN     </td><td>HIC          </td></tr>\n",
       "<tr><td>BIH </td><td>Bosnia and Herzegovina                              </td><td>ECS     </td><td>UMC          </td></tr>\n",
       "<tr><td>BLR </td><td>Belarus                                             </td><td>ECS     </td><td>UMC          </td></tr>\n",
       "<tr><td>BLZ </td><td>Belize                                              </td><td>LCN     </td><td>UMC          </td></tr>\n",
       "<tr><td>BMU </td><td>Bermuda                                             </td><td>NAC     </td><td>HIC          </td></tr>\n",
       "<tr><td>BOL </td><td>Bolivia                                             </td><td>LCN     </td><td>LMC          </td></tr>\n",
       "<tr><td>BRA </td><td>Brazil                                              </td><td>LCN     </td><td>UMC          </td></tr>\n",
       "<tr><td>BRB </td><td>Barbados                                            </td><td>LCN     </td><td>HIC          </td></tr>\n",
       "<tr><td>BRN </td><td>Brunei Darussalam                                   </td><td>EAS     </td><td>HIC          </td></tr>\n",
       "<tr><td>BTN </td><td>Bhutan                                              </td><td>SAS     </td><td>LMC          </td></tr>\n",
       "<tr><td>BWA </td><td>Botswana                                            </td><td>SSF     </td><td>UMC          </td></tr>\n",
       "<tr><td>CAF </td><td>Central African Republic                            </td><td>SSF     </td><td>LIC          </td></tr>\n",
       "<tr><td>CAN </td><td>Canada                                              </td><td>NAC     </td><td>HIC          </td></tr>\n",
       "<tr><td>CEB </td><td>Central Europe and the Baltics                      </td><td>        </td><td>             </td></tr>\n",
       "<tr><td>CHE </td><td>Switzerland                                         </td><td>ECS     </td><td>HIC          </td></tr>\n",
       "<tr><td>CHI </td><td>Channel Islands                                     </td><td>ECS     </td><td>HIC          </td></tr>\n",
       "<tr><td>CHL </td><td>Chile                                               </td><td>LCN     </td><td>HIC          </td></tr>\n",
       "<tr><td>CHN </td><td>China                                               </td><td>EAS     </td><td>UMC          </td></tr>\n",
       "<tr><td>CIV </td><td>Cote d&#x27;Ivoire                                       </td><td>SSF     </td><td>LMC          </td></tr>\n",
       "<tr><td>CMR </td><td>Cameroon                                            </td><td>SSF     </td><td>LMC          </td></tr>\n",
       "<tr><td>COD </td><td>Congo, Dem. Rep.                                    </td><td>SSF     </td><td>LIC          </td></tr>\n",
       "<tr><td>COG </td><td>Congo, Rep.                                         </td><td>SSF     </td><td>LMC          </td></tr>\n",
       "<tr><td>COL </td><td>Colombia                                            </td><td>LCN     </td><td>UMC          </td></tr>\n",
       "<tr><td>COM </td><td>Comoros                                             </td><td>SSF     </td><td>LMC          </td></tr>\n",
       "<tr><td>CPV </td><td>Cabo Verde                                          </td><td>SSF     </td><td>LMC          </td></tr>\n",
       "<tr><td>CRI </td><td>Costa Rica                                          </td><td>LCN     </td><td>UMC          </td></tr>\n",
       "<tr><td>CSS </td><td>Caribbean small states                              </td><td>        </td><td>             </td></tr>\n",
       "<tr><td>CUB </td><td>Cuba                                                </td><td>LCN     </td><td>UMC          </td></tr>\n",
       "<tr><td>CUW </td><td>Curacao                                             </td><td>LCN     </td><td>HIC          </td></tr>\n",
       "<tr><td>CYM </td><td>Cayman Islands                                      </td><td>LCN     </td><td>HIC          </td></tr>\n",
       "<tr><td>CYP </td><td>Cyprus                                              </td><td>ECS     </td><td>HIC          </td></tr>\n",
       "<tr><td>CZE </td><td>Czechia                                             </td><td>ECS     </td><td>HIC          </td></tr>\n",
       "<tr><td>DEU </td><td>Germany                                             </td><td>ECS     </td><td>HIC          </td></tr>\n",
       "<tr><td>DJI </td><td>Djibouti                                            </td><td>MEA     </td><td>LMC          </td></tr>\n",
       "<tr><td>DMA </td><td>Dominica                                            </td><td>LCN     </td><td>UMC          </td></tr>\n",
       "<tr><td>DNK </td><td>Denmark                                             </td><td>ECS     </td><td>HIC          </td></tr>\n",
       "<tr><td>DOM </td><td>Dominican Republic                                  </td><td>LCN     </td><td>UMC          </td></tr>\n",
       "<tr><td>DZA </td><td>Algeria                                             </td><td>MEA     </td><td>LMC          </td></tr>\n",
       "<tr><td>EAP </td><td>East Asia &amp; Pacific (excluding high income)         </td><td>        </td><td>             </td></tr>\n",
       "<tr><td>EAR </td><td>Early-demographic dividend                          </td><td>        </td><td>             </td></tr>\n",
       "<tr><td>EAS </td><td>East Asia &amp; Pacific                                 </td><td>        </td><td>             </td></tr>\n",
       "<tr><td>ECA </td><td>Europe &amp; Central Asia (excluding high income)       </td><td>        </td><td>             </td></tr>\n",
       "<tr><td>ECS </td><td>Europe &amp; Central Asia                               </td><td>        </td><td>             </td></tr>\n",
       "<tr><td>ECU </td><td>Ecuador                                             </td><td>LCN     </td><td>UMC          </td></tr>\n",
       "<tr><td>EGY </td><td>Egypt, Arab Rep.                                    </td><td>MEA     </td><td>LMC          </td></tr>\n",
       "<tr><td>EMU </td><td>Euro area                                           </td><td>        </td><td>             </td></tr>\n",
       "<tr><td>ERI </td><td>Eritrea                                             </td><td>SSF     </td><td>LIC          </td></tr>\n",
       "<tr><td>ESP </td><td>Spain                                               </td><td>ECS     </td><td>HIC          </td></tr>\n",
       "<tr><td>EST </td><td>Estonia                                             </td><td>ECS     </td><td>HIC          </td></tr>\n",
       "<tr><td>ETH </td><td>Ethiopia                                            </td><td>SSF     </td><td>LIC          </td></tr>\n",
       "<tr><td>EUU </td><td>European Union                                      </td><td>        </td><td>             </td></tr>\n",
       "<tr><td>FCS </td><td>Fragile and conflict affected situations            </td><td>        </td><td>             </td></tr>\n",
       "<tr><td>FIN </td><td>Finland                                             </td><td>ECS     </td><td>HIC          </td></tr>\n",
       "<tr><td>FJI </td><td>Fiji                                                </td><td>EAS     </td><td>UMC          </td></tr>\n",
       "<tr><td>FRA </td><td>France                                              </td><td>ECS     </td><td>HIC          </td></tr>\n",
       "<tr><td>FRO </td><td>Faroe Islands                                       </td><td>ECS     </td><td>HIC          </td></tr>\n",
       "<tr><td>FSM </td><td>Micronesia, Fed. Sts.                               </td><td>EAS     </td><td>LMC          </td></tr>\n",
       "<tr><td>GAB </td><td>Gabon                                               </td><td>SSF     </td><td>UMC          </td></tr>\n",
       "<tr><td>GBR </td><td>United Kingdom                                      </td><td>ECS     </td><td>HIC          </td></tr>\n",
       "<tr><td>GEO </td><td>Georgia                                             </td><td>ECS     </td><td>UMC          </td></tr>\n",
       "<tr><td>GHA </td><td>Ghana                                               </td><td>SSF     </td><td>LMC          </td></tr>\n",
       "<tr><td>GIB </td><td>Gibraltar                                           </td><td>ECS     </td><td>HIC          </td></tr>\n",
       "<tr><td>GIN </td><td>Guinea                                              </td><td>SSF     </td><td>LIC          </td></tr>\n",
       "<tr><td>GMB </td><td>Gambia, The                                         </td><td>SSF     </td><td>LIC          </td></tr>\n",
       "<tr><td>GNB </td><td>Guinea-Bissau                                       </td><td>SSF     </td><td>LIC          </td></tr>\n",
       "<tr><td>GNQ </td><td>Equatorial Guinea                                   </td><td>SSF     </td><td>UMC          </td></tr>\n",
       "<tr><td>GRC </td><td>Greece                                              </td><td>ECS     </td><td>HIC          </td></tr>\n",
       "<tr><td>GRD </td><td>Grenada                                             </td><td>LCN     </td><td>UMC          </td></tr>\n",
       "<tr><td>GRL </td><td>Greenland                                           </td><td>ECS     </td><td>HIC          </td></tr>\n",
       "<tr><td>GTM </td><td>Guatemala                                           </td><td>LCN     </td><td>UMC          </td></tr>\n",
       "<tr><td>GUM </td><td>Guam                                                </td><td>EAS     </td><td>HIC          </td></tr>\n",
       "<tr><td>GUY </td><td>Guyana                                              </td><td>LCN     </td><td>UMC          </td></tr>\n",
       "<tr><td>HIC </td><td>High income                                         </td><td>        </td><td>             </td></tr>\n",
       "<tr><td>HKG </td><td>Hong Kong SAR, China                                </td><td>EAS     </td><td>HIC          </td></tr>\n",
       "<tr><td>HND </td><td>Honduras                                            </td><td>LCN     </td><td>LMC          </td></tr>\n",
       "<tr><td>HPC </td><td>Heavily indebted poor countries (HIPC)              </td><td>        </td><td>             </td></tr>\n",
       "<tr><td>HRV </td><td>Croatia                                             </td><td>ECS     </td><td>HIC          </td></tr>\n",
       "<tr><td>HTI </td><td>Haiti                                               </td><td>LCN     </td><td>LMC          </td></tr>\n",
       "<tr><td>HUN </td><td>Hungary                                             </td><td>ECS     </td><td>HIC          </td></tr>\n",
       "<tr><td>IBD </td><td>IBRD only                                           </td><td>        </td><td>             </td></tr>\n",
       "<tr><td>IBT </td><td>IDA &amp; IBRD total                                    </td><td>        </td><td>             </td></tr>\n",
       "<tr><td>IDA </td><td>IDA total                                           </td><td>        </td><td>             </td></tr>\n",
       "<tr><td>IDB </td><td>IDA blend                                           </td><td>        </td><td>             </td></tr>\n",
       "<tr><td>IDN </td><td>Indonesia                                           </td><td>EAS     </td><td>LMC          </td></tr>\n",
       "<tr><td>IDX </td><td>IDA only                                            </td><td>        </td><td>             </td></tr>\n",
       "<tr><td>IMN </td><td>Isle of Man                                         </td><td>ECS     </td><td>HIC          </td></tr>\n",
       "<tr><td>IND </td><td>India                                               </td><td>SAS     </td><td>LMC          </td></tr>\n",
       "<tr><td>INX </td><td>Not classified                                      </td><td>        </td><td>             </td></tr>\n",
       "<tr><td>IRL </td><td>Ireland                                             </td><td>ECS     </td><td>HIC          </td></tr>\n",
       "<tr><td>IRN </td><td>Iran, Islamic Rep.                                  </td><td>MEA     </td><td>LMC          </td></tr>\n",
       "<tr><td>IRQ </td><td>Iraq                                                </td><td>MEA     </td><td>UMC          </td></tr>\n",
       "<tr><td>ISL </td><td>Iceland                                             </td><td>ECS     </td><td>HIC          </td></tr>\n",
       "<tr><td>ISR </td><td>Israel                                              </td><td>MEA     </td><td>HIC          </td></tr>\n",
       "<tr><td>ITA </td><td>Italy                                               </td><td>ECS     </td><td>HIC          </td></tr>\n",
       "<tr><td>JAM </td><td>Jamaica                                             </td><td>LCN     </td><td>UMC          </td></tr>\n",
       "<tr><td>JOR </td><td>Jordan                                              </td><td>MEA     </td><td>UMC          </td></tr>\n",
       "<tr><td>JPN </td><td>Japan                                               </td><td>EAS     </td><td>HIC          </td></tr>\n",
       "<tr><td>KAZ </td><td>Kazakhstan                                          </td><td>ECS     </td><td>UMC          </td></tr>\n",
       "<tr><td>KEN </td><td>Kenya                                               </td><td>SSF     </td><td>LMC          </td></tr>\n",
       "<tr><td>KGZ </td><td>Kyrgyz Republic                                     </td><td>ECS     </td><td>LMC          </td></tr>\n",
       "<tr><td>KHM </td><td>Cambodia                                            </td><td>EAS     </td><td>LMC          </td></tr>\n",
       "<tr><td>KIR </td><td>Kiribati                                            </td><td>EAS     </td><td>LMC          </td></tr>\n",
       "<tr><td>KNA </td><td>St. Kitts and Nevis                                 </td><td>LCN     </td><td>HIC          </td></tr>\n",
       "<tr><td>KOR </td><td>Korea, Rep.                                         </td><td>EAS     </td><td>HIC          </td></tr>\n",
       "<tr><td>KWT </td><td>Kuwait                                              </td><td>MEA     </td><td>HIC          </td></tr>\n",
       "<tr><td>LAC </td><td>Latin America &amp; Caribbean (excluding high income)   </td><td>        </td><td>             </td></tr>\n",
       "<tr><td>LAO </td><td>Lao PDR                                             </td><td>EAS     </td><td>LMC          </td></tr>\n",
       "<tr><td>LBN </td><td>Lebanon                                             </td><td>MEA     </td><td>LMC          </td></tr>\n",
       "<tr><td>LBR </td><td>Liberia                                             </td><td>SSF     </td><td>LIC          </td></tr>\n",
       "<tr><td>LBY </td><td>Libya                                               </td><td>MEA     </td><td>UMC          </td></tr>\n",
       "<tr><td>LCA </td><td>St. Lucia                                           </td><td>LCN     </td><td>UMC          </td></tr>\n",
       "<tr><td>LCN </td><td>Latin America &amp; Caribbean                           </td><td>        </td><td>             </td></tr>\n",
       "<tr><td>LDC </td><td>Least developed countries: UN classification        </td><td>        </td><td>             </td></tr>\n",
       "<tr><td>LIC </td><td>Low income                                          </td><td>        </td><td>             </td></tr>\n",
       "<tr><td>LIE </td><td>Liechtenstein                                       </td><td>ECS     </td><td>HIC          </td></tr>\n",
       "<tr><td>LKA </td><td>Sri Lanka                                           </td><td>SAS     </td><td>LMC          </td></tr>\n",
       "<tr><td>LMC </td><td>Lower middle income                                 </td><td>        </td><td>             </td></tr>\n",
       "<tr><td>LMY </td><td>Low &amp; middle income                                 </td><td>        </td><td>             </td></tr>\n",
       "<tr><td>LSO </td><td>Lesotho                                             </td><td>SSF     </td><td>LMC          </td></tr>\n",
       "<tr><td>LTE </td><td>Late-demographic dividend                           </td><td>        </td><td>             </td></tr>\n",
       "<tr><td>LTU </td><td>Lithuania                                           </td><td>ECS     </td><td>HIC          </td></tr>\n",
       "<tr><td>LUX </td><td>Luxembourg                                          </td><td>ECS     </td><td>HIC          </td></tr>\n",
       "<tr><td>LVA </td><td>Latvia                                              </td><td>ECS     </td><td>HIC          </td></tr>\n",
       "<tr><td>MAC </td><td>Macao SAR, China                                    </td><td>EAS     </td><td>HIC          </td></tr>\n",
       "<tr><td>MAF </td><td>St. Martin (French part)                            </td><td>LCN     </td><td>HIC          </td></tr>\n",
       "<tr><td>MAR </td><td>Morocco                                             </td><td>MEA     </td><td>LMC          </td></tr>\n",
       "<tr><td>MCO </td><td>Monaco                                              </td><td>ECS     </td><td>HIC          </td></tr>\n",
       "<tr><td>MDA </td><td>Moldova                                             </td><td>ECS     </td><td>UMC          </td></tr>\n",
       "<tr><td>MDG </td><td>Madagascar                                          </td><td>SSF     </td><td>LIC          </td></tr>\n",
       "<tr><td>MDV </td><td>Maldives                                            </td><td>SAS     </td><td>UMC          </td></tr>\n",
       "<tr><td>MEA </td><td>Middle East &amp; North Africa                          </td><td>        </td><td>             </td></tr>\n",
       "<tr><td>MEX </td><td>Mexico                                              </td><td>LCN     </td><td>UMC          </td></tr>\n",
       "<tr><td>MHL </td><td>Marshall Islands                                    </td><td>EAS     </td><td>UMC          </td></tr>\n",
       "<tr><td>MIC </td><td>Middle income                                       </td><td>        </td><td>             </td></tr>\n",
       "<tr><td>MKD </td><td>North Macedonia                                     </td><td>ECS     </td><td>UMC          </td></tr>\n",
       "<tr><td>MLI </td><td>Mali                                                </td><td>SSF     </td><td>LIC          </td></tr>\n",
       "<tr><td>MLT </td><td>Malta                                               </td><td>MEA     </td><td>HIC          </td></tr>\n",
       "<tr><td>MMR </td><td>Myanmar                                             </td><td>EAS     </td><td>LMC          </td></tr>\n",
       "<tr><td>MNA </td><td>Middle East &amp; North Africa (excluding high income)  </td><td>        </td><td>             </td></tr>\n",
       "<tr><td>MNE </td><td>Montenegro                                          </td><td>ECS     </td><td>UMC          </td></tr>\n",
       "<tr><td>MNG </td><td>Mongolia                                            </td><td>EAS     </td><td>LMC          </td></tr>\n",
       "<tr><td>MNP </td><td>Northern Mariana Islands                            </td><td>EAS     </td><td>HIC          </td></tr>\n",
       "<tr><td>MOZ </td><td>Mozambique                                          </td><td>SSF     </td><td>LIC          </td></tr>\n",
       "<tr><td>MRT </td><td>Mauritania                                          </td><td>SSF     </td><td>LMC          </td></tr>\n",
       "<tr><td>MUS </td><td>Mauritius                                           </td><td>SSF     </td><td>UMC          </td></tr>\n",
       "<tr><td>MWI </td><td>Malawi                                              </td><td>SSF     </td><td>LIC          </td></tr>\n",
       "<tr><td>MYS </td><td>Malaysia                                            </td><td>EAS     </td><td>UMC          </td></tr>\n",
       "<tr><td>NAC </td><td>North America                                       </td><td>        </td><td>             </td></tr>\n",
       "<tr><td>NAM </td><td>Namibia                                             </td><td>SSF     </td><td>UMC          </td></tr>\n",
       "<tr><td>NCL </td><td>New Caledonia                                       </td><td>EAS     </td><td>HIC          </td></tr>\n",
       "<tr><td>NER </td><td>Niger                                               </td><td>SSF     </td><td>LIC          </td></tr>\n",
       "<tr><td>NGA </td><td>Nigeria                                             </td><td>SSF     </td><td>LMC          </td></tr>\n",
       "<tr><td>NIC </td><td>Nicaragua                                           </td><td>LCN     </td><td>LMC          </td></tr>\n",
       "<tr><td>NLD </td><td>Netherlands                                         </td><td>ECS     </td><td>HIC          </td></tr>\n",
       "<tr><td>NOR </td><td>Norway                                              </td><td>ECS     </td><td>HIC          </td></tr>\n",
       "<tr><td>NPL </td><td>Nepal                                               </td><td>SAS     </td><td>LMC          </td></tr>\n",
       "<tr><td>NRU </td><td>Nauru                                               </td><td>EAS     </td><td>HIC          </td></tr>\n",
       "<tr><td>NZL </td><td>New Zealand                                         </td><td>EAS     </td><td>HIC          </td></tr>\n",
       "<tr><td>OED </td><td>OECD members                                        </td><td>        </td><td>             </td></tr>\n",
       "<tr><td>OMN </td><td>Oman                                                </td><td>MEA     </td><td>HIC          </td></tr>\n",
       "<tr><td>OSS </td><td>Other small states                                  </td><td>        </td><td>             </td></tr>\n",
       "<tr><td>PAK </td><td>Pakistan                                            </td><td>SAS     </td><td>LMC          </td></tr>\n",
       "<tr><td>PAN </td><td>Panama                                              </td><td>LCN     </td><td>HIC          </td></tr>\n",
       "<tr><td>PER </td><td>Peru                                                </td><td>LCN     </td><td>UMC          </td></tr>\n",
       "<tr><td>PHL </td><td>Philippines                                         </td><td>EAS     </td><td>LMC          </td></tr>\n",
       "<tr><td>PLW </td><td>Palau                                               </td><td>EAS     </td><td>UMC          </td></tr>\n",
       "<tr><td>PNG </td><td>Papua New Guinea                                    </td><td>EAS     </td><td>LMC          </td></tr>\n",
       "<tr><td>POL </td><td>Poland                                              </td><td>ECS     </td><td>HIC          </td></tr>\n",
       "<tr><td>PRE </td><td>Pre-demographic dividend                            </td><td>        </td><td>             </td></tr>\n",
       "<tr><td>PRI </td><td>Puerto Rico                                         </td><td>LCN     </td><td>HIC          </td></tr>\n",
       "<tr><td>PRK </td><td>Korea, Dem. People&#x27;s Rep.                           </td><td>EAS     </td><td>LIC          </td></tr>\n",
       "<tr><td>PRT </td><td>Portugal                                            </td><td>ECS     </td><td>HIC          </td></tr>\n",
       "<tr><td>PRY </td><td>Paraguay                                            </td><td>LCN     </td><td>UMC          </td></tr>\n",
       "<tr><td>PSE </td><td>West Bank and Gaza                                  </td><td>MEA     </td><td>LMC          </td></tr>\n",
       "<tr><td>PSS </td><td>Pacific island small states                         </td><td>        </td><td>             </td></tr>\n",
       "<tr><td>PST </td><td>Post-demographic dividend                           </td><td>        </td><td>             </td></tr>\n",
       "<tr><td>PYF </td><td>French Polynesia                                    </td><td>EAS     </td><td>HIC          </td></tr>\n",
       "<tr><td>QAT </td><td>Qatar                                               </td><td>MEA     </td><td>HIC          </td></tr>\n",
       "<tr><td>ROU </td><td>Romania                                             </td><td>ECS     </td><td>HIC          </td></tr>\n",
       "<tr><td>RUS </td><td>Russian Federation                                  </td><td>ECS     </td><td>UMC          </td></tr>\n",
       "<tr><td>RWA </td><td>Rwanda                                              </td><td>SSF     </td><td>LIC          </td></tr>\n",
       "<tr><td>SAS </td><td>South Asia                                          </td><td>        </td><td>             </td></tr>\n",
       "<tr><td>SAU </td><td>Saudi Arabia                                        </td><td>MEA     </td><td>HIC          </td></tr>\n",
       "<tr><td>SDN </td><td>Sudan                                               </td><td>SSF     </td><td>LIC          </td></tr>\n",
       "<tr><td>SEN </td><td>Senegal                                             </td><td>SSF     </td><td>LMC          </td></tr>\n",
       "<tr><td>SGP </td><td>Singapore                                           </td><td>EAS     </td><td>HIC          </td></tr>\n",
       "<tr><td>SLB </td><td>Solomon Islands                                     </td><td>EAS     </td><td>LMC          </td></tr>\n",
       "<tr><td>SLE </td><td>Sierra Leone                                        </td><td>SSF     </td><td>LIC          </td></tr>\n",
       "<tr><td>SLV </td><td>El Salvador                                         </td><td>LCN     </td><td>LMC          </td></tr>\n",
       "<tr><td>SMR </td><td>San Marino                                          </td><td>ECS     </td><td>HIC          </td></tr>\n",
       "<tr><td>SOM </td><td>Somalia                                             </td><td>SSF     </td><td>LIC          </td></tr>\n",
       "<tr><td>SRB </td><td>Serbia                                              </td><td>ECS     </td><td>UMC          </td></tr>\n",
       "<tr><td>SSA </td><td>Sub-Saharan Africa (excluding high income)          </td><td>        </td><td>             </td></tr>\n",
       "<tr><td>SSD </td><td>South Sudan                                         </td><td>SSF     </td><td>LIC          </td></tr>\n",
       "<tr><td>SSF </td><td>Sub-Saharan Africa                                  </td><td>        </td><td>             </td></tr>\n",
       "<tr><td>SST </td><td>Small states                                        </td><td>        </td><td>             </td></tr>\n",
       "<tr><td>STP </td><td>Sao Tome and Principe                               </td><td>SSF     </td><td>LMC          </td></tr>\n",
       "<tr><td>SUR </td><td>Suriname                                            </td><td>LCN     </td><td>UMC          </td></tr>\n",
       "<tr><td>SVK </td><td>Slovak Republic                                     </td><td>ECS     </td><td>HIC          </td></tr>\n",
       "<tr><td>SVN </td><td>Slovenia                                            </td><td>ECS     </td><td>HIC          </td></tr>\n",
       "<tr><td>SWE </td><td>Sweden                                              </td><td>ECS     </td><td>HIC          </td></tr>\n",
       "<tr><td>SWZ </td><td>Eswatini                                            </td><td>SSF     </td><td>LMC          </td></tr>\n",
       "<tr><td>SXM </td><td>Sint Maarten (Dutch part)                           </td><td>LCN     </td><td>HIC          </td></tr>\n",
       "<tr><td>SYC </td><td>Seychelles                                          </td><td>SSF     </td><td>HIC          </td></tr>\n",
       "<tr><td>SYR </td><td>Syrian Arab Republic                                </td><td>MEA     </td><td>LIC          </td></tr>\n",
       "<tr><td>TCA </td><td>Turks and Caicos Islands                            </td><td>LCN     </td><td>HIC          </td></tr>\n",
       "<tr><td>TCD </td><td>Chad                                                </td><td>SSF     </td><td>LIC          </td></tr>\n",
       "<tr><td>TEA </td><td>East Asia &amp; Pacific (IDA &amp; IBRD countries)          </td><td>        </td><td>             </td></tr>\n",
       "<tr><td>TEC </td><td>Europe &amp; Central Asia (IDA &amp; IBRD countries)        </td><td>        </td><td>             </td></tr>\n",
       "<tr><td>TGO </td><td>Togo                                                </td><td>SSF     </td><td>LIC          </td></tr>\n",
       "<tr><td>THA </td><td>Thailand                                            </td><td>EAS     </td><td>UMC          </td></tr>\n",
       "<tr><td>TJK </td><td>Tajikistan                                          </td><td>ECS     </td><td>LMC          </td></tr>\n",
       "<tr><td>TKM </td><td>Turkmenistan                                        </td><td>ECS     </td><td>UMC          </td></tr>\n",
       "<tr><td>TLA </td><td>Latin America &amp; the Caribbean (IDA &amp; IBRD countries)</td><td>        </td><td>             </td></tr>\n",
       "<tr><td>TLS </td><td>Timor-Leste                                         </td><td>EAS     </td><td>LMC          </td></tr>\n",
       "<tr><td>TMN </td><td>Middle East &amp; North Africa (IDA &amp; IBRD countries)   </td><td>        </td><td>             </td></tr>\n",
       "<tr><td>TON </td><td>Tonga                                               </td><td>EAS     </td><td>UMC          </td></tr>\n",
       "<tr><td>TSA </td><td>South Asia (IDA &amp; IBRD)                             </td><td>        </td><td>             </td></tr>\n",
       "<tr><td>TSS </td><td>Sub-Saharan Africa (IDA &amp; IBRD countries)           </td><td>        </td><td>             </td></tr>\n",
       "<tr><td>TTO </td><td>Trinidad and Tobago                                 </td><td>LCN     </td><td>HIC          </td></tr>\n",
       "<tr><td>TUN </td><td>Tunisia                                             </td><td>MEA     </td><td>LMC          </td></tr>\n",
       "<tr><td>TUR </td><td>Turkiye                                             </td><td>ECS     </td><td>UMC          </td></tr>\n",
       "<tr><td>TUV </td><td>Tuvalu                                              </td><td>EAS     </td><td>UMC          </td></tr>\n",
       "<tr><td>TZA </td><td>Tanzania                                            </td><td>SSF     </td><td>LMC          </td></tr>\n",
       "<tr><td>UGA </td><td>Uganda                                              </td><td>SSF     </td><td>LIC          </td></tr>\n",
       "<tr><td>UKR </td><td>Ukraine                                             </td><td>ECS     </td><td>LMC          </td></tr>\n",
       "<tr><td>UMC </td><td>Upper middle income                                 </td><td>        </td><td>             </td></tr>\n",
       "<tr><td>URY </td><td>Uruguay                                             </td><td>LCN     </td><td>HIC          </td></tr>\n",
       "<tr><td>USA </td><td>United States                                       </td><td>NAC     </td><td>HIC          </td></tr>\n",
       "<tr><td>UZB </td><td>Uzbekistan                                          </td><td>ECS     </td><td>LMC          </td></tr>\n",
       "<tr><td>VCT </td><td>St. Vincent and the Grenadines                      </td><td>LCN     </td><td>UMC          </td></tr>\n",
       "<tr><td>VEN </td><td>Venezuela, RB                                       </td><td>LCN     </td><td>INX          </td></tr>\n",
       "<tr><td>VGB </td><td>British Virgin Islands                              </td><td>LCN     </td><td>HIC          </td></tr>\n",
       "<tr><td>VIR </td><td>Virgin Islands (U.S.)                               </td><td>LCN     </td><td>HIC          </td></tr>\n",
       "<tr><td>VNM </td><td>Vietnam                                             </td><td>EAS     </td><td>LMC          </td></tr>\n",
       "<tr><td>VUT </td><td>Vanuatu                                             </td><td>EAS     </td><td>LMC          </td></tr>\n",
       "<tr><td>WLD </td><td>World                                               </td><td>        </td><td>             </td></tr>\n",
       "<tr><td>WSM </td><td>Samoa                                               </td><td>EAS     </td><td>LMC          </td></tr>\n",
       "<tr><td>XKX </td><td>Kosovo                                              </td><td>ECS     </td><td>UMC          </td></tr>\n",
       "<tr><td>YEM </td><td>Yemen, Rep.                                         </td><td>MEA     </td><td>LIC          </td></tr>\n",
       "<tr><td>ZAF </td><td>South Africa                                        </td><td>SSF     </td><td>UMC          </td></tr>\n",
       "<tr><td>ZMB </td><td>Zambia                                              </td><td>SSF     </td><td>LIC          </td></tr>\n",
       "<tr><td>ZWE </td><td>Zimbabwe                                            </td><td>SSF     </td><td>LMC          </td></tr>\n",
       "<tr><td>    </td><td>266 elements                                        </td><td>        </td><td>             </td></tr>\n",
       "</tbody>\n",
       "</table></div>"
      ],
      "text/plain": [
       "id    value                                                 region    incomeLevel\n",
       "----  ----------------------------------------------------  --------  -------------\n",
       "ABW   Aruba                                                 LCN       HIC\n",
       "AFE   Africa Eastern and Southern\n",
       "AFG   Afghanistan                                           SAS       LIC\n",
       "AFW   Africa Western and Central\n",
       "AGO   Angola                                                SSF       LMC\n",
       "ALB   Albania                                               ECS       UMC\n",
       "AND   Andorra                                               ECS       HIC\n",
       "ARB   Arab World\n",
       "ARE   United Arab Emirates                                  MEA       HIC\n",
       "ARG   Argentina                                             LCN       UMC\n",
       "ARM   Armenia                                               ECS       UMC\n",
       "ASM   American Samoa                                        EAS       UMC\n",
       "ATG   Antigua and Barbuda                                   LCN       HIC\n",
       "AUS   Australia                                             EAS       HIC\n",
       "AUT   Austria                                               ECS       HIC\n",
       "AZE   Azerbaijan                                            ECS       UMC\n",
       "BDI   Burundi                                               SSF       LIC\n",
       "BEL   Belgium                                               ECS       HIC\n",
       "BEN   Benin                                                 SSF       LMC\n",
       "BFA   Burkina Faso                                          SSF       LIC\n",
       "BGD   Bangladesh                                            SAS       LMC\n",
       "BGR   Bulgaria                                              ECS       UMC\n",
       "BHR   Bahrain                                               MEA       HIC\n",
       "BHS   Bahamas, The                                          LCN       HIC\n",
       "BIH   Bosnia and Herzegovina                                ECS       UMC\n",
       "BLR   Belarus                                               ECS       UMC\n",
       "BLZ   Belize                                                LCN       UMC\n",
       "BMU   Bermuda                                               NAC       HIC\n",
       "BOL   Bolivia                                               LCN       LMC\n",
       "BRA   Brazil                                                LCN       UMC\n",
       "BRB   Barbados                                              LCN       HIC\n",
       "BRN   Brunei Darussalam                                     EAS       HIC\n",
       "BTN   Bhutan                                                SAS       LMC\n",
       "BWA   Botswana                                              SSF       UMC\n",
       "CAF   Central African Republic                              SSF       LIC\n",
       "CAN   Canada                                                NAC       HIC\n",
       "CEB   Central Europe and the Baltics\n",
       "CHE   Switzerland                                           ECS       HIC\n",
       "CHI   Channel Islands                                       ECS       HIC\n",
       "CHL   Chile                                                 LCN       HIC\n",
       "CHN   China                                                 EAS       UMC\n",
       "CIV   Cote d'Ivoire                                         SSF       LMC\n",
       "CMR   Cameroon                                              SSF       LMC\n",
       "COD   Congo, Dem. Rep.                                      SSF       LIC\n",
       "COG   Congo, Rep.                                           SSF       LMC\n",
       "COL   Colombia                                              LCN       UMC\n",
       "COM   Comoros                                               SSF       LMC\n",
       "CPV   Cabo Verde                                            SSF       LMC\n",
       "CRI   Costa Rica                                            LCN       UMC\n",
       "CSS   Caribbean small states\n",
       "CUB   Cuba                                                  LCN       UMC\n",
       "CUW   Curacao                                               LCN       HIC\n",
       "CYM   Cayman Islands                                        LCN       HIC\n",
       "CYP   Cyprus                                                ECS       HIC\n",
       "CZE   Czechia                                               ECS       HIC\n",
       "DEU   Germany                                               ECS       HIC\n",
       "DJI   Djibouti                                              MEA       LMC\n",
       "DMA   Dominica                                              LCN       UMC\n",
       "DNK   Denmark                                               ECS       HIC\n",
       "DOM   Dominican Republic                                    LCN       UMC\n",
       "DZA   Algeria                                               MEA       LMC\n",
       "EAP   East Asia & Pacific (excluding high income)\n",
       "EAR   Early-demographic dividend\n",
       "EAS   East Asia & Pacific\n",
       "ECA   Europe & Central Asia (excluding high income)\n",
       "ECS   Europe & Central Asia\n",
       "ECU   Ecuador                                               LCN       UMC\n",
       "EGY   Egypt, Arab Rep.                                      MEA       LMC\n",
       "EMU   Euro area\n",
       "ERI   Eritrea                                               SSF       LIC\n",
       "ESP   Spain                                                 ECS       HIC\n",
       "EST   Estonia                                               ECS       HIC\n",
       "ETH   Ethiopia                                              SSF       LIC\n",
       "EUU   European Union\n",
       "FCS   Fragile and conflict affected situations\n",
       "FIN   Finland                                               ECS       HIC\n",
       "FJI   Fiji                                                  EAS       UMC\n",
       "FRA   France                                                ECS       HIC\n",
       "FRO   Faroe Islands                                         ECS       HIC\n",
       "FSM   Micronesia, Fed. Sts.                                 EAS       LMC\n",
       "GAB   Gabon                                                 SSF       UMC\n",
       "GBR   United Kingdom                                        ECS       HIC\n",
       "GEO   Georgia                                               ECS       UMC\n",
       "GHA   Ghana                                                 SSF       LMC\n",
       "GIB   Gibraltar                                             ECS       HIC\n",
       "GIN   Guinea                                                SSF       LIC\n",
       "GMB   Gambia, The                                           SSF       LIC\n",
       "GNB   Guinea-Bissau                                         SSF       LIC\n",
       "GNQ   Equatorial Guinea                                     SSF       UMC\n",
       "GRC   Greece                                                ECS       HIC\n",
       "GRD   Grenada                                               LCN       UMC\n",
       "GRL   Greenland                                             ECS       HIC\n",
       "GTM   Guatemala                                             LCN       UMC\n",
       "GUM   Guam                                                  EAS       HIC\n",
       "GUY   Guyana                                                LCN       UMC\n",
       "HIC   High income\n",
       "HKG   Hong Kong SAR, China                                  EAS       HIC\n",
       "HND   Honduras                                              LCN       LMC\n",
       "HPC   Heavily indebted poor countries (HIPC)\n",
       "HRV   Croatia                                               ECS       HIC\n",
       "HTI   Haiti                                                 LCN       LMC\n",
       "HUN   Hungary                                               ECS       HIC\n",
       "IBD   IBRD only\n",
       "IBT   IDA & IBRD total\n",
       "IDA   IDA total\n",
       "IDB   IDA blend\n",
       "IDN   Indonesia                                             EAS       LMC\n",
       "IDX   IDA only\n",
       "IMN   Isle of Man                                           ECS       HIC\n",
       "IND   India                                                 SAS       LMC\n",
       "INX   Not classified\n",
       "IRL   Ireland                                               ECS       HIC\n",
       "IRN   Iran, Islamic Rep.                                    MEA       LMC\n",
       "IRQ   Iraq                                                  MEA       UMC\n",
       "ISL   Iceland                                               ECS       HIC\n",
       "ISR   Israel                                                MEA       HIC\n",
       "ITA   Italy                                                 ECS       HIC\n",
       "JAM   Jamaica                                               LCN       UMC\n",
       "JOR   Jordan                                                MEA       UMC\n",
       "JPN   Japan                                                 EAS       HIC\n",
       "KAZ   Kazakhstan                                            ECS       UMC\n",
       "KEN   Kenya                                                 SSF       LMC\n",
       "KGZ   Kyrgyz Republic                                       ECS       LMC\n",
       "KHM   Cambodia                                              EAS       LMC\n",
       "KIR   Kiribati                                              EAS       LMC\n",
       "KNA   St. Kitts and Nevis                                   LCN       HIC\n",
       "KOR   Korea, Rep.                                           EAS       HIC\n",
       "KWT   Kuwait                                                MEA       HIC\n",
       "LAC   Latin America & Caribbean (excluding high income)\n",
       "LAO   Lao PDR                                               EAS       LMC\n",
       "LBN   Lebanon                                               MEA       LMC\n",
       "LBR   Liberia                                               SSF       LIC\n",
       "LBY   Libya                                                 MEA       UMC\n",
       "LCA   St. Lucia                                             LCN       UMC\n",
       "LCN   Latin America & Caribbean\n",
       "LDC   Least developed countries: UN classification\n",
       "LIC   Low income\n",
       "LIE   Liechtenstein                                         ECS       HIC\n",
       "LKA   Sri Lanka                                             SAS       LMC\n",
       "LMC   Lower middle income\n",
       "LMY   Low & middle income\n",
       "LSO   Lesotho                                               SSF       LMC\n",
       "LTE   Late-demographic dividend\n",
       "LTU   Lithuania                                             ECS       HIC\n",
       "LUX   Luxembourg                                            ECS       HIC\n",
       "LVA   Latvia                                                ECS       HIC\n",
       "MAC   Macao SAR, China                                      EAS       HIC\n",
       "MAF   St. Martin (French part)                              LCN       HIC\n",
       "MAR   Morocco                                               MEA       LMC\n",
       "MCO   Monaco                                                ECS       HIC\n",
       "MDA   Moldova                                               ECS       UMC\n",
       "MDG   Madagascar                                            SSF       LIC\n",
       "MDV   Maldives                                              SAS       UMC\n",
       "MEA   Middle East & North Africa\n",
       "MEX   Mexico                                                LCN       UMC\n",
       "MHL   Marshall Islands                                      EAS       UMC\n",
       "MIC   Middle income\n",
       "MKD   North Macedonia                                       ECS       UMC\n",
       "MLI   Mali                                                  SSF       LIC\n",
       "MLT   Malta                                                 MEA       HIC\n",
       "MMR   Myanmar                                               EAS       LMC\n",
       "MNA   Middle East & North Africa (excluding high income)\n",
       "MNE   Montenegro                                            ECS       UMC\n",
       "MNG   Mongolia                                              EAS       LMC\n",
       "MNP   Northern Mariana Islands                              EAS       HIC\n",
       "MOZ   Mozambique                                            SSF       LIC\n",
       "MRT   Mauritania                                            SSF       LMC\n",
       "MUS   Mauritius                                             SSF       UMC\n",
       "MWI   Malawi                                                SSF       LIC\n",
       "MYS   Malaysia                                              EAS       UMC\n",
       "NAC   North America\n",
       "NAM   Namibia                                               SSF       UMC\n",
       "NCL   New Caledonia                                         EAS       HIC\n",
       "NER   Niger                                                 SSF       LIC\n",
       "NGA   Nigeria                                               SSF       LMC\n",
       "NIC   Nicaragua                                             LCN       LMC\n",
       "NLD   Netherlands                                           ECS       HIC\n",
       "NOR   Norway                                                ECS       HIC\n",
       "NPL   Nepal                                                 SAS       LMC\n",
       "NRU   Nauru                                                 EAS       HIC\n",
       "NZL   New Zealand                                           EAS       HIC\n",
       "OED   OECD members\n",
       "OMN   Oman                                                  MEA       HIC\n",
       "OSS   Other small states\n",
       "PAK   Pakistan                                              SAS       LMC\n",
       "PAN   Panama                                                LCN       HIC\n",
       "PER   Peru                                                  LCN       UMC\n",
       "PHL   Philippines                                           EAS       LMC\n",
       "PLW   Palau                                                 EAS       UMC\n",
       "PNG   Papua New Guinea                                      EAS       LMC\n",
       "POL   Poland                                                ECS       HIC\n",
       "PRE   Pre-demographic dividend\n",
       "PRI   Puerto Rico                                           LCN       HIC\n",
       "PRK   Korea, Dem. People's Rep.                             EAS       LIC\n",
       "PRT   Portugal                                              ECS       HIC\n",
       "PRY   Paraguay                                              LCN       UMC\n",
       "PSE   West Bank and Gaza                                    MEA       LMC\n",
       "PSS   Pacific island small states\n",
       "PST   Post-demographic dividend\n",
       "PYF   French Polynesia                                      EAS       HIC\n",
       "QAT   Qatar                                                 MEA       HIC\n",
       "ROU   Romania                                               ECS       HIC\n",
       "RUS   Russian Federation                                    ECS       UMC\n",
       "RWA   Rwanda                                                SSF       LIC\n",
       "SAS   South Asia\n",
       "SAU   Saudi Arabia                                          MEA       HIC\n",
       "SDN   Sudan                                                 SSF       LIC\n",
       "SEN   Senegal                                               SSF       LMC\n",
       "SGP   Singapore                                             EAS       HIC\n",
       "SLB   Solomon Islands                                       EAS       LMC\n",
       "SLE   Sierra Leone                                          SSF       LIC\n",
       "SLV   El Salvador                                           LCN       LMC\n",
       "SMR   San Marino                                            ECS       HIC\n",
       "SOM   Somalia                                               SSF       LIC\n",
       "SRB   Serbia                                                ECS       UMC\n",
       "SSA   Sub-Saharan Africa (excluding high income)\n",
       "SSD   South Sudan                                           SSF       LIC\n",
       "SSF   Sub-Saharan Africa\n",
       "SST   Small states\n",
       "STP   Sao Tome and Principe                                 SSF       LMC\n",
       "SUR   Suriname                                              LCN       UMC\n",
       "SVK   Slovak Republic                                       ECS       HIC\n",
       "SVN   Slovenia                                              ECS       HIC\n",
       "SWE   Sweden                                                ECS       HIC\n",
       "SWZ   Eswatini                                              SSF       LMC\n",
       "SXM   Sint Maarten (Dutch part)                             LCN       HIC\n",
       "SYC   Seychelles                                            SSF       HIC\n",
       "SYR   Syrian Arab Republic                                  MEA       LIC\n",
       "TCA   Turks and Caicos Islands                              LCN       HIC\n",
       "TCD   Chad                                                  SSF       LIC\n",
       "TEA   East Asia & Pacific (IDA & IBRD countries)\n",
       "TEC   Europe & Central Asia (IDA & IBRD countries)\n",
       "TGO   Togo                                                  SSF       LIC\n",
       "THA   Thailand                                              EAS       UMC\n",
       "TJK   Tajikistan                                            ECS       LMC\n",
       "TKM   Turkmenistan                                          ECS       UMC\n",
       "TLA   Latin America & the Caribbean (IDA & IBRD countries)\n",
       "TLS   Timor-Leste                                           EAS       LMC\n",
       "TMN   Middle East & North Africa (IDA & IBRD countries)\n",
       "TON   Tonga                                                 EAS       UMC\n",
       "TSA   South Asia (IDA & IBRD)\n",
       "TSS   Sub-Saharan Africa (IDA & IBRD countries)\n",
       "TTO   Trinidad and Tobago                                   LCN       HIC\n",
       "TUN   Tunisia                                               MEA       LMC\n",
       "TUR   Turkiye                                               ECS       UMC\n",
       "TUV   Tuvalu                                                EAS       UMC\n",
       "TZA   Tanzania                                              SSF       LMC\n",
       "UGA   Uganda                                                SSF       LIC\n",
       "UKR   Ukraine                                               ECS       LMC\n",
       "UMC   Upper middle income\n",
       "URY   Uruguay                                               LCN       HIC\n",
       "USA   United States                                         NAC       HIC\n",
       "UZB   Uzbekistan                                            ECS       LMC\n",
       "VCT   St. Vincent and the Grenadines                        LCN       UMC\n",
       "VEN   Venezuela, RB                                         LCN       INX\n",
       "VGB   British Virgin Islands                                LCN       HIC\n",
       "VIR   Virgin Islands (U.S.)                                 LCN       HIC\n",
       "VNM   Vietnam                                               EAS       LMC\n",
       "VUT   Vanuatu                                               EAS       LMC\n",
       "WLD   World\n",
       "WSM   Samoa                                                 EAS       LMC\n",
       "XKX   Kosovo                                                ECS       UMC\n",
       "YEM   Yemen, Rep.                                           MEA       LIC\n",
       "ZAF   South Africa                                          SSF       UMC\n",
       "ZMB   Zambia                                                SSF       LIC\n",
       "ZWE   Zimbabwe                                              SSF       LMC\n",
       "      266 elements"
      ]
     },
     "execution_count": 218,
     "metadata": {},
     "output_type": "execute_result"
    }
   ],
   "source": [
    "#List of Countries\n",
    "wb.economy.info()"
   ]
  },
  {
   "cell_type": "code",
   "execution_count": 219,
   "metadata": {},
   "outputs": [],
   "source": [
    "#List of World Development Indicators\n",
    "s = wb.series.info()\n",
    "\n"
   ]
  },
  {
   "cell_type": "code",
   "execution_count": null,
   "metadata": {},
   "outputs": [],
   "source": [
    "\n"
   ]
  },
  {
   "cell_type": "code",
   "execution_count": 220,
   "metadata": {},
   "outputs": [],
   "source": [
    "#Literacy Dataframe\n",
    "df2 = wb.data.DataFrame([\"SE.ADT.1524.LT.FE.ZS\", \"SE.ADT.1524.LT.MA.ZS\"],['SAS', 'SSF', 'ECS', 'LCN', 'EAS', 'MEA', 'NAC'], range(2000, 2021, 3), columns = 'series').reset_index()\n"
   ]
  },
  {
   "cell_type": "code",
   "execution_count": 221,
   "metadata": {},
   "outputs": [],
   "source": [
    "#Rename columns\n",
    "df2 = df2.rename(columns={'SE.ADT.1524.LT.FE.ZS': 'Literacy rate, youth female (% of females ages 15-24', 'SE.ADT.1524.LT.MA.ZS': 'Literacy rate, youth male (% of males ages 15-24)'})"
   ]
  },
  {
   "cell_type": "code",
   "execution_count": 222,
   "metadata": {},
   "outputs": [
    {
     "data": {
      "text/html": [
       "<div>\n",
       "<style scoped>\n",
       "    .dataframe tbody tr th:only-of-type {\n",
       "        vertical-align: middle;\n",
       "    }\n",
       "\n",
       "    .dataframe tbody tr th {\n",
       "        vertical-align: top;\n",
       "    }\n",
       "\n",
       "    .dataframe thead th {\n",
       "        text-align: right;\n",
       "    }\n",
       "</style>\n",
       "<table border=\"1\" class=\"dataframe\">\n",
       "  <thead>\n",
       "    <tr style=\"text-align: right;\">\n",
       "      <th></th>\n",
       "      <th>economy</th>\n",
       "      <th>time</th>\n",
       "      <th>Literacy rate, youth female (% of females ages 15-24</th>\n",
       "      <th>Literacy rate, youth male (% of males ages 15-24)</th>\n",
       "    </tr>\n",
       "  </thead>\n",
       "  <tbody>\n",
       "    <tr>\n",
       "      <th>0</th>\n",
       "      <td>EAS</td>\n",
       "      <td>YR2000</td>\n",
       "      <td>97.236153</td>\n",
       "      <td>98.101051</td>\n",
       "    </tr>\n",
       "    <tr>\n",
       "      <th>1</th>\n",
       "      <td>EAS</td>\n",
       "      <td>YR2003</td>\n",
       "      <td>97.727882</td>\n",
       "      <td>98.224251</td>\n",
       "    </tr>\n",
       "    <tr>\n",
       "      <th>2</th>\n",
       "      <td>EAS</td>\n",
       "      <td>YR2006</td>\n",
       "      <td>97.874298</td>\n",
       "      <td>98.354919</td>\n",
       "    </tr>\n",
       "    <tr>\n",
       "      <th>3</th>\n",
       "      <td>EAS</td>\n",
       "      <td>YR2009</td>\n",
       "      <td>98.639313</td>\n",
       "      <td>98.778770</td>\n",
       "    </tr>\n",
       "    <tr>\n",
       "      <th>4</th>\n",
       "      <td>EAS</td>\n",
       "      <td>YR2012</td>\n",
       "      <td>98.224777</td>\n",
       "      <td>98.345802</td>\n",
       "    </tr>\n",
       "    <tr>\n",
       "      <th>5</th>\n",
       "      <td>EAS</td>\n",
       "      <td>YR2015</td>\n",
       "      <td>98.570892</td>\n",
       "      <td>98.620872</td>\n",
       "    </tr>\n",
       "    <tr>\n",
       "      <th>6</th>\n",
       "      <td>EAS</td>\n",
       "      <td>YR2018</td>\n",
       "      <td>98.664932</td>\n",
       "      <td>98.637840</td>\n",
       "    </tr>\n",
       "    <tr>\n",
       "      <th>7</th>\n",
       "      <td>ECS</td>\n",
       "      <td>YR2000</td>\n",
       "      <td>98.794121</td>\n",
       "      <td>99.242867</td>\n",
       "    </tr>\n",
       "    <tr>\n",
       "      <th>8</th>\n",
       "      <td>ECS</td>\n",
       "      <td>YR2003</td>\n",
       "      <td>98.901840</td>\n",
       "      <td>99.318459</td>\n",
       "    </tr>\n",
       "    <tr>\n",
       "      <th>9</th>\n",
       "      <td>ECS</td>\n",
       "      <td>YR2006</td>\n",
       "      <td>98.998291</td>\n",
       "      <td>99.354347</td>\n",
       "    </tr>\n",
       "    <tr>\n",
       "      <th>10</th>\n",
       "      <td>ECS</td>\n",
       "      <td>YR2009</td>\n",
       "      <td>99.306091</td>\n",
       "      <td>99.524811</td>\n",
       "    </tr>\n",
       "    <tr>\n",
       "      <th>11</th>\n",
       "      <td>ECS</td>\n",
       "      <td>YR2012</td>\n",
       "      <td>99.485611</td>\n",
       "      <td>99.586807</td>\n",
       "    </tr>\n",
       "    <tr>\n",
       "      <th>12</th>\n",
       "      <td>ECS</td>\n",
       "      <td>YR2015</td>\n",
       "      <td>99.579781</td>\n",
       "      <td>99.639000</td>\n",
       "    </tr>\n",
       "    <tr>\n",
       "      <th>13</th>\n",
       "      <td>ECS</td>\n",
       "      <td>YR2018</td>\n",
       "      <td>99.658920</td>\n",
       "      <td>99.683517</td>\n",
       "    </tr>\n",
       "    <tr>\n",
       "      <th>14</th>\n",
       "      <td>LCN</td>\n",
       "      <td>YR2000</td>\n",
       "      <td>95.572578</td>\n",
       "      <td>94.569351</td>\n",
       "    </tr>\n",
       "    <tr>\n",
       "      <th>15</th>\n",
       "      <td>LCN</td>\n",
       "      <td>YR2003</td>\n",
       "      <td>96.656380</td>\n",
       "      <td>95.976013</td>\n",
       "    </tr>\n",
       "    <tr>\n",
       "      <th>16</th>\n",
       "      <td>LCN</td>\n",
       "      <td>YR2006</td>\n",
       "      <td>96.975723</td>\n",
       "      <td>96.540771</td>\n",
       "    </tr>\n",
       "    <tr>\n",
       "      <th>17</th>\n",
       "      <td>LCN</td>\n",
       "      <td>YR2009</td>\n",
       "      <td>97.673080</td>\n",
       "      <td>97.280319</td>\n",
       "    </tr>\n",
       "    <tr>\n",
       "      <th>18</th>\n",
       "      <td>LCN</td>\n",
       "      <td>YR2012</td>\n",
       "      <td>98.187263</td>\n",
       "      <td>97.702202</td>\n",
       "    </tr>\n",
       "    <tr>\n",
       "      <th>19</th>\n",
       "      <td>LCN</td>\n",
       "      <td>YR2015</td>\n",
       "      <td>98.505913</td>\n",
       "      <td>98.114441</td>\n",
       "    </tr>\n",
       "    <tr>\n",
       "      <th>20</th>\n",
       "      <td>LCN</td>\n",
       "      <td>YR2018</td>\n",
       "      <td>98.735970</td>\n",
       "      <td>98.356911</td>\n",
       "    </tr>\n",
       "    <tr>\n",
       "      <th>21</th>\n",
       "      <td>MEA</td>\n",
       "      <td>YR2000</td>\n",
       "      <td>81.334900</td>\n",
       "      <td>90.359428</td>\n",
       "    </tr>\n",
       "    <tr>\n",
       "      <th>22</th>\n",
       "      <td>MEA</td>\n",
       "      <td>YR2003</td>\n",
       "      <td>84.004051</td>\n",
       "      <td>92.898849</td>\n",
       "    </tr>\n",
       "    <tr>\n",
       "      <th>23</th>\n",
       "      <td>MEA</td>\n",
       "      <td>YR2006</td>\n",
       "      <td>86.275810</td>\n",
       "      <td>92.716919</td>\n",
       "    </tr>\n",
       "    <tr>\n",
       "      <th>24</th>\n",
       "      <td>MEA</td>\n",
       "      <td>YR2009</td>\n",
       "      <td>85.425583</td>\n",
       "      <td>91.724678</td>\n",
       "    </tr>\n",
       "    <tr>\n",
       "      <th>25</th>\n",
       "      <td>MEA</td>\n",
       "      <td>YR2012</td>\n",
       "      <td>89.788757</td>\n",
       "      <td>95.273277</td>\n",
       "    </tr>\n",
       "    <tr>\n",
       "      <th>26</th>\n",
       "      <td>MEA</td>\n",
       "      <td>YR2015</td>\n",
       "      <td>88.498451</td>\n",
       "      <td>92.941177</td>\n",
       "    </tr>\n",
       "    <tr>\n",
       "      <th>27</th>\n",
       "      <td>MEA</td>\n",
       "      <td>YR2018</td>\n",
       "      <td>87.709450</td>\n",
       "      <td>91.963730</td>\n",
       "    </tr>\n",
       "    <tr>\n",
       "      <th>35</th>\n",
       "      <td>SAS</td>\n",
       "      <td>YR2000</td>\n",
       "      <td>63.053830</td>\n",
       "      <td>80.183550</td>\n",
       "    </tr>\n",
       "    <tr>\n",
       "      <th>36</th>\n",
       "      <td>SAS</td>\n",
       "      <td>YR2003</td>\n",
       "      <td>67.627670</td>\n",
       "      <td>82.181240</td>\n",
       "    </tr>\n",
       "    <tr>\n",
       "      <th>37</th>\n",
       "      <td>SAS</td>\n",
       "      <td>YR2006</td>\n",
       "      <td>71.625550</td>\n",
       "      <td>85.231240</td>\n",
       "    </tr>\n",
       "    <tr>\n",
       "      <th>38</th>\n",
       "      <td>SAS</td>\n",
       "      <td>YR2009</td>\n",
       "      <td>76.445060</td>\n",
       "      <td>86.998660</td>\n",
       "    </tr>\n",
       "    <tr>\n",
       "      <th>39</th>\n",
       "      <td>SAS</td>\n",
       "      <td>YR2012</td>\n",
       "      <td>79.809680</td>\n",
       "      <td>87.581460</td>\n",
       "    </tr>\n",
       "    <tr>\n",
       "      <th>40</th>\n",
       "      <td>SAS</td>\n",
       "      <td>YR2015</td>\n",
       "      <td>84.159620</td>\n",
       "      <td>89.505130</td>\n",
       "    </tr>\n",
       "    <tr>\n",
       "      <th>41</th>\n",
       "      <td>SAS</td>\n",
       "      <td>YR2018</td>\n",
       "      <td>87.229930</td>\n",
       "      <td>91.120130</td>\n",
       "    </tr>\n",
       "    <tr>\n",
       "      <th>42</th>\n",
       "      <td>SSF</td>\n",
       "      <td>YR2000</td>\n",
       "      <td>60.384960</td>\n",
       "      <td>72.226959</td>\n",
       "    </tr>\n",
       "    <tr>\n",
       "      <th>43</th>\n",
       "      <td>SSF</td>\n",
       "      <td>YR2003</td>\n",
       "      <td>62.156021</td>\n",
       "      <td>74.546837</td>\n",
       "    </tr>\n",
       "    <tr>\n",
       "      <th>44</th>\n",
       "      <td>SSF</td>\n",
       "      <td>YR2006</td>\n",
       "      <td>63.560410</td>\n",
       "      <td>74.620506</td>\n",
       "    </tr>\n",
       "    <tr>\n",
       "      <th>45</th>\n",
       "      <td>SSF</td>\n",
       "      <td>YR2009</td>\n",
       "      <td>62.565151</td>\n",
       "      <td>74.083382</td>\n",
       "    </tr>\n",
       "    <tr>\n",
       "      <th>46</th>\n",
       "      <td>SSF</td>\n",
       "      <td>YR2012</td>\n",
       "      <td>67.744423</td>\n",
       "      <td>77.002617</td>\n",
       "    </tr>\n",
       "    <tr>\n",
       "      <th>47</th>\n",
       "      <td>SSF</td>\n",
       "      <td>YR2015</td>\n",
       "      <td>70.539291</td>\n",
       "      <td>78.279510</td>\n",
       "    </tr>\n",
       "    <tr>\n",
       "      <th>48</th>\n",
       "      <td>SSF</td>\n",
       "      <td>YR2018</td>\n",
       "      <td>73.066971</td>\n",
       "      <td>78.775047</td>\n",
       "    </tr>\n",
       "  </tbody>\n",
       "</table>\n",
       "</div>"
      ],
      "text/plain": [
       "   economy    time  Literacy rate, youth female (% of females ages 15-24  \\\n",
       "0      EAS  YR2000                                          97.236153      \n",
       "1      EAS  YR2003                                          97.727882      \n",
       "2      EAS  YR2006                                          97.874298      \n",
       "3      EAS  YR2009                                          98.639313      \n",
       "4      EAS  YR2012                                          98.224777      \n",
       "5      EAS  YR2015                                          98.570892      \n",
       "6      EAS  YR2018                                          98.664932      \n",
       "7      ECS  YR2000                                          98.794121      \n",
       "8      ECS  YR2003                                          98.901840      \n",
       "9      ECS  YR2006                                          98.998291      \n",
       "10     ECS  YR2009                                          99.306091      \n",
       "11     ECS  YR2012                                          99.485611      \n",
       "12     ECS  YR2015                                          99.579781      \n",
       "13     ECS  YR2018                                          99.658920      \n",
       "14     LCN  YR2000                                          95.572578      \n",
       "15     LCN  YR2003                                          96.656380      \n",
       "16     LCN  YR2006                                          96.975723      \n",
       "17     LCN  YR2009                                          97.673080      \n",
       "18     LCN  YR2012                                          98.187263      \n",
       "19     LCN  YR2015                                          98.505913      \n",
       "20     LCN  YR2018                                          98.735970      \n",
       "21     MEA  YR2000                                          81.334900      \n",
       "22     MEA  YR2003                                          84.004051      \n",
       "23     MEA  YR2006                                          86.275810      \n",
       "24     MEA  YR2009                                          85.425583      \n",
       "25     MEA  YR2012                                          89.788757      \n",
       "26     MEA  YR2015                                          88.498451      \n",
       "27     MEA  YR2018                                          87.709450      \n",
       "35     SAS  YR2000                                          63.053830      \n",
       "36     SAS  YR2003                                          67.627670      \n",
       "37     SAS  YR2006                                          71.625550      \n",
       "38     SAS  YR2009                                          76.445060      \n",
       "39     SAS  YR2012                                          79.809680      \n",
       "40     SAS  YR2015                                          84.159620      \n",
       "41     SAS  YR2018                                          87.229930      \n",
       "42     SSF  YR2000                                          60.384960      \n",
       "43     SSF  YR2003                                          62.156021      \n",
       "44     SSF  YR2006                                          63.560410      \n",
       "45     SSF  YR2009                                          62.565151      \n",
       "46     SSF  YR2012                                          67.744423      \n",
       "47     SSF  YR2015                                          70.539291      \n",
       "48     SSF  YR2018                                          73.066971      \n",
       "\n",
       "    Literacy rate, youth male (% of males ages 15-24)  \n",
       "0                                           98.101051  \n",
       "1                                           98.224251  \n",
       "2                                           98.354919  \n",
       "3                                           98.778770  \n",
       "4                                           98.345802  \n",
       "5                                           98.620872  \n",
       "6                                           98.637840  \n",
       "7                                           99.242867  \n",
       "8                                           99.318459  \n",
       "9                                           99.354347  \n",
       "10                                          99.524811  \n",
       "11                                          99.586807  \n",
       "12                                          99.639000  \n",
       "13                                          99.683517  \n",
       "14                                          94.569351  \n",
       "15                                          95.976013  \n",
       "16                                          96.540771  \n",
       "17                                          97.280319  \n",
       "18                                          97.702202  \n",
       "19                                          98.114441  \n",
       "20                                          98.356911  \n",
       "21                                          90.359428  \n",
       "22                                          92.898849  \n",
       "23                                          92.716919  \n",
       "24                                          91.724678  \n",
       "25                                          95.273277  \n",
       "26                                          92.941177  \n",
       "27                                          91.963730  \n",
       "35                                          80.183550  \n",
       "36                                          82.181240  \n",
       "37                                          85.231240  \n",
       "38                                          86.998660  \n",
       "39                                          87.581460  \n",
       "40                                          89.505130  \n",
       "41                                          91.120130  \n",
       "42                                          72.226959  \n",
       "43                                          74.546837  \n",
       "44                                          74.620506  \n",
       "45                                          74.083382  \n",
       "46                                          77.002617  \n",
       "47                                          78.279510  \n",
       "48                                          78.775047  "
      ]
     },
     "execution_count": 222,
     "metadata": {},
     "output_type": "execute_result"
    }
   ],
   "source": [
    "#Remove null values\n",
    "\n",
    "df2.dropna()"
   ]
  },
  {
   "cell_type": "code",
   "execution_count": 223,
   "metadata": {},
   "outputs": [],
   "source": [
    "df2['economy'] = df2['economy'].replace(['EAS', 'ECS', 'LCN', 'MEA', 'SAS', 'SSF'],['East Asia and Pacific', 'Canada', 'Latin America and Carribean', 'Middle East and North Africa', 'South Asia', 'Sub-Saharan Africa'])"
   ]
  },
  {
   "cell_type": "code",
   "execution_count": 224,
   "metadata": {},
   "outputs": [],
   "source": [
    "# Subset data\n",
    "df_plot = df2.copy()\n",
    "# Clean year\n",
    "df_plot['year'] = df_plot.time.str.strip('YR').astype(int)\n",
    "# Wide to long\n",
    "lit_cols = ['Literacy rate, youth female (% of females ages 15-24',\n",
    "            'Literacy rate, youth male (% of males ages 15-24)']\n",
    "df_plot = df_plot[['economy', 'year']+lit_cols].melt(id_vars=['economy', 'year'], \n",
    "                                                                    value_vars=lit_cols)\n",
    "# Get min and max location\n",
    "min_lit = df_plot.loc[df_plot.value.min()==df_plot.value].economy.unique().tolist()[0]\n",
    "max_lit = df_plot.loc[df_plot.value.max()==df_plot.value].economy.unique().tolist()[0]\n",
    "# Filter for those locs\n",
    "df_plot = df_plot.loc[df_plot.economy.isin([min_lit, max_lit])]\n",
    "# Filter for female lit\n",
    "df_plot = df_plot.loc[df_plot.variable.str.contains('female')]"
   ]
  },
  {
   "cell_type": "code",
   "execution_count": 225,
   "metadata": {},
   "outputs": [
    {
     "name": "stderr",
     "output_type": "stream",
     "text": [
      "/var/folders/qh/6vhw2ctd7wd243wf4677mjjr0000gn/T/ipykernel_24345/3941443733.py:8: UserWarning:\n",
      "\n",
      "FixedFormatter should only be used together with FixedLocator\n",
      "\n"
     ]
    },
    {
     "data": {
      "image/png": "[encoded data removed]",
      "text/plain": [
       "<Figure size 432x288 with 1 Axes>"
      ]
     },
     "metadata": {
      "needs_background": "light"
     },
     "output_type": "display_data"
    }
   ],
   "source": [
    "# Solution found here: https://stackoverflow.com/questions/14270391/python-matplotlib-multiple-bars\n",
    "df_min = df_plot.loc[df_plot.economy.eq(min_lit)]\n",
    "df_max = df_plot.loc[df_plot.economy.eq(max_lit)]\n",
    "ax = plt.subplot(111)\n",
    "w = 0.7\n",
    "ax.bar(df_min.year-w/2, df_min.value, width=w, color='b', align='center')\n",
    "ax.bar(df_min.year+w/2, df_max.value, width=w, color='r', align='center')\n",
    "ax.set_xticklabels(np.arange(min(df_plot.year), max(df_plot.year)+3, 1))\n",
    "# Legend solution found here: \n",
    "colors = {max_lit:'r', min_lit:'b'}         \n",
    "labels = list(colors.keys())\n",
    "handles = [plt.Rectangle((0,0),1,1, color=colors[label]) for label in labels]\n",
    "plt.legend(handles, labels)\n",
    "# Labels\n",
    "ax.set_xlabel('Year')\n",
    "ax.set_ylabel(df_min.variable.unique().tolist()[0])\n",
    "ax.set_title('Lowest Literacy Rates Compated to Highest Literacy Rates')\n",
    "\n",
    "# Display\n",
    "plt.show()"
   ]
  }
 ],
 "metadata": {
  "kernelspec": {
   "display_name": "Python 3 (ipykernel)",
   "language": "python",
   "name": "python3"
  },
  "language_info": {
   "codemirror_mode": {
    "name": "ipython",
    "version": 3
   },
   "file_extension": ".py",
   "mimetype": "text/x-python",
   "name": "python",
   "nbconvert_exporter": "python",
   "pygments_lexer": "ipython3",
   "version": "3.9.12"
  }
 },
 "nbformat": 4,
 "nbformat_minor": 2
}
